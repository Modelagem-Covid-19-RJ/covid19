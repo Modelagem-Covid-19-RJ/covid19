{
 "cells": [
  {
   "cell_type": "markdown",
   "metadata": {},
   "source": [
    "# Modelagem epidemiológica para a cidade do Rio de Janeiro"
   ]
  },
  {
   "cell_type": "code",
   "execution_count": null,
   "metadata": {},
   "outputs": [],
   "source": []
  },
  {
   "cell_type": "code",
   "execution_count": null,
   "metadata": {},
   "outputs": [],
   "source": []
  },
  {
   "cell_type": "code",
   "execution_count": null,
   "metadata": {},
   "outputs": [],
   "source": []
  },
  {
   "cell_type": "markdown",
   "metadata": {},
   "source": [
    "## 4. O modelo utilizado"
   ]
  },
  {
   "cell_type": "markdown",
   "metadata": {},
   "source": [
    "#### a. Redes"
   ]
  },
  {
   "cell_type": "markdown",
   "metadata": {},
   "source": [
    "#### Primeiro slide: \n",
    "- overview do modelo todo: três redes juntas + força de infecção +\n",
    "\n",
    "#### Segundo slide: \n",
    "- Rede residencial\n",
    "    - distribuição pessoas por casa (como foi feita)\n",
    "    - gráficos das distribuições (pessoas em volta da residência)\n",
    "    - distribuição das residências com base na densidade populacional (landscan)\n",
    "- Rede escolar/trabalho\n",
    "    - empresarial:\n",
    "        - distribuição do tamanho de empresas (Tailândia/Inglaterra?), mostrar graficos com as distribuições\n",
    "        - local de trabalho: pessoas são alocadas aleatoriamente (ao contrario da escolar, em que a distancia é considerada)\n",
    "        - população economicamente ativa (fonte dos dados?)\n",
    "        - mostrar grafos com escolas\n",
    "    - escolar:\n",
    "        - divisão das escolas por categorias (ensino fundamental, medio, infantil, eja)\n",
    "        - população escolarmente (?) ativa (mencionar dados do PNE, prefeitura)\n",
    "        - escola é escolhida para um individuo considerando aleatoriamente alguma das 6 escolas mais proximas dele\n",
    "        - problemas que vêm com essa divisão: grande variação do tamanho das escolas\n",
    "        - não estamos considerando estudantes universitários e nem funcionários de escolas (estão sendo considerados na rede empresarial) (só alunos de escolas)\n",
    "        - mostrar as distribuições do tamanho de escolas, grafos com escolas\n",
    "- Rede social\n",
    "    - contatos aleatórios com peso de acordo com o kernel (peso de cada aresta)\n",
    "\n",
    "#### Terceiro slide:\n",
    "- inicialização\n",
    "    - individuos\n",
    "        - inicialização de acordo com a localização\n",
    "        - grafico com os individuos (localização)\n",
    "        - selecionar os infectados a partir dos indivíduos\n",
    "    - infectados\n",
    "        - inicialização da localização dos infectados\n",
    "        - grafico com os infectados (localização)\n",
    "        - definir há quanto tempo as pessoas estão infectadas (weibull, vetor de inicialição)\n",
    "        - mostrar gráficos com e sem weibull (considerando todos como 0 vs. considerando seguindo weibull)- fazer grafico de barras com o numero de dias desde que a pessoa está infectada, no caso da weibull\n",
    "\n",
    "#### Quarto slide:\n",
    "- força de infecção\n",
    "    - como ocorre a infecção (passo a passo de gerar os numeros aleatorios e ver os encontros)\n",
    "    - mostrar formula com somatorio de acordo com as redes (ver?)\n",
    "    - escolha do kappa: lognormal (artigo), exemplos de outras funções pra ver como muda o resultado final\n",
    "    - como as pessoas estao virando recuperadas? bernoulli vs kappa + truncamento\n",
    "\n",
    "#### Quinto slide:\n",
    "- parâmetros\n",
    "    - kernels\n",
    "        - ver como o grafo é feito pra entrar em cada rede\n",
    "        - função power decay, fitting (ver melhor)\n",
    "    - beta e gamma\n",
    "        - explicar a interpretação \n",
    "        - separação dos parametros pra cada rede\n",
    "        - mostrar gráficos variando os parâmetros\n",
    "    -  parametros da kappa e weibull:\n",
    "        - variando as funções pra kappas, variando parâmetros da kappa lognormal, variando a média da weibull\n",
    "\n",
    "#### Sexto:\n",
    "- Julia"
   ]
  },
  {
   "cell_type": "code",
   "execution_count": null,
   "metadata": {},
   "outputs": [],
   "source": []
  },
  {
   "cell_type": "code",
   "execution_count": null,
   "metadata": {},
   "outputs": [],
   "source": []
  },
  {
   "cell_type": "code",
   "execution_count": null,
   "metadata": {},
   "outputs": [],
   "source": []
  },
  {
   "cell_type": "code",
   "execution_count": null,
   "metadata": {},
   "outputs": [],
   "source": []
  },
  {
   "cell_type": "code",
   "execution_count": null,
   "metadata": {},
   "outputs": [],
   "source": []
  },
  {
   "cell_type": "code",
   "execution_count": null,
   "metadata": {},
   "outputs": [],
   "source": []
  },
  {
   "cell_type": "markdown",
   "metadata": {},
   "source": [
    "## Referências (completar corretamente e inserir links)\n",
    "   * Jia et al, 2020\n",
    "   * Lauer et al\n",
    "   * Fergusson et al\n",
    "   * Halloran\n",
    "   * Nature\n"
   ]
  }
 ],
 "metadata": {
  "kernelspec": {
   "display_name": "Python 3",
   "language": "python",
   "name": "python3"
  },
  "language_info": {
   "codemirror_mode": {
    "name": "ipython",
    "version": 3
   },
   "file_extension": ".py",
   "mimetype": "text/x-python",
   "name": "python",
   "nbconvert_exporter": "python",
   "pygments_lexer": "ipython3",
   "version": "3.6.5"
  }
 },
 "nbformat": 4,
 "nbformat_minor": 4
}
