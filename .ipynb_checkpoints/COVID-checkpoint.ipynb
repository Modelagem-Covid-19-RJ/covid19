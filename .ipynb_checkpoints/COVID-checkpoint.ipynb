{
 "cells": [
  {
   "cell_type": "code",
   "execution_count": 1,
   "metadata": {
    "colab": {},
    "colab_type": "code",
    "id": "HTqdadFfbHRh"
   },
   "outputs": [],
   "source": [
    "from __future__ import print_function\n",
    "from IPython.display import clear_output\n",
    "import numpy as np\n",
    "import matplotlib\n",
    "import matplotlib.pyplot as plt\n",
    "from matplotlib.animation import FuncAnimation\n",
    "import matplotlib.animation as animation\n",
    "from IPython.display import HTML\n",
    "import matplotlib.patches as mpatches\n",
    "import matplotlib.lines as mlines\n"
   ]
  },
  {
   "cell_type": "code",
   "execution_count": 2,
   "metadata": {
    "colab": {},
    "colab_type": "code",
    "id": "45U22RBFbp0Y"
   },
   "outputs": [],
   "source": [
    "# Roteiro\n",
    "\n",
    "# https://docs.google.com/document/d/1SyHDtzWWguxxy3dO7sssr-X7-wNFHxFSAQMQniVQ8bI/edit"
   ]
  },
  {
   "cell_type": "code",
   "execution_count": 3,
   "metadata": {},
   "outputs": [],
   "source": [
    "morreu_de_verdade = 7\n",
    "t_incub = 19\n",
    "t_doenca = 69\n",
    "compl_sintomas = 100"
   ]
  },
  {
   "cell_type": "code",
   "execution_count": 4,
   "metadata": {
    "colab": {},
    "colab_type": "code",
    "id": "U6HmeX_Ib1BG"
   },
   "outputs": [],
   "source": [
    "class Pessoas:\n",
    "    def __init__(self, n, tam_x, tam_y, eps_vel, eps_dist, prob_infec, prob_morte, prob_retorno): ## eps_vel = mudança das direções das vel. e eps_dist = dist. infecção\n",
    "\n",
    "        self.n = n ##numero de bolinhas\n",
    "        self.tam_x = tam_x ##fronteira lateral\n",
    "        self.tam_y = tam_y ##fronteira de cima\n",
    "        self.eps_vel = eps_vel ##mudando as direções das velocidades\n",
    "        self.eps_dist = eps_dist ## distância mínima de infecção\n",
    "        self.prob_infec = prob_infec ## taxa de infecção\n",
    "        self.prob_morte = prob_morte ## taxa de mortalidade\n",
    "        self.prob_retorno = prob_retorno ## taxa de retorno à doença\n",
    "        self.pos = np.random.rand(2,n) ##posição das bolinhas\n",
    "        self.pos[0] *= tam_x ##reajustes\n",
    "        self.pos[1] *= tam_y\n",
    "        self.pos = self.pos.T ##facilita a conta\n",
    "        self.vel = np.random.rand(2,n) ##velocidades das bolinhas\n",
    "        self.vel[0] += np.array(n*[0.5]) ##reajustes\n",
    "        self.vel[1] += np.array(n*[0.5])\n",
    "        self.vel[0] *= 0.1 ##testando se as velocidades estavam muito grandes\n",
    "        self.vel[1] *= 0.1\n",
    "        self.vel = self.vel.T  ## facilita a conta\n",
    "        idades = [np.linalg.norm(v) for v in self.vel] ## salvando as idades\n",
    "        self.idades = idades ## a idade da pessoa muda quanto que a pessoa anda em média\n",
    "        self.estados_possiveis = ['blue', 'orange', 'red', 'green','black'] ##saudaveis, infectado assintomatico, infectado, recuperado, morto\n",
    "        #self.cores_anim = ['blue', 'blue', 'red', 'green','black']\n",
    "        self.estados = ['orange'] + (n-1)*['blue']\n",
    "        self.percent = [self.estados.count(cor)/self.n for cor in self.estados_possiveis] ## !juntar red e orange!\n",
    "        self.tempo_recup = np.zeros(self.n)\n",
    "        self.tempo_morte = np.zeros(self.n)\n",
    "        self.percent_new = [0, self.percent[0], sum(self.percent[:2]) - 3e-9, sum(self.percent[:3]) - 1e-9, sum(self.percent[:4])]\n",
    "        \n",
    "        sintomas = np.zeros(self.n)\n",
    "        self.sintomas = sintomas \n",
    "\n",
    "    def teste(self): ##depois tirar\n",
    "        print('aa')\n",
    "  \n",
    "    def update(self):\n",
    "        \n",
    "        lista_saudaveis = [i for i in range(self.n) if self.estados[i] == 'blue']\n",
    "        lista_doentes = [i for i in range(self.n) if self.estados[i] == 'orange' or self.estados[i] == 'red']\n",
    "        \n",
    "        for i in lista_saudaveis:\n",
    "            for j in lista_doentes:\n",
    "                infectar = np.random.rand()\n",
    "                \n",
    "                if np.linalg.norm(self.pos[i]-self.pos[j]) <= self.eps_dist and infectar < self.prob_infec:\n",
    "                    self.estados[i] = 'orange'\n",
    "        \n",
    "        for i in range(self.n):\n",
    "            \n",
    "            if self.estados[i] == 'black':\n",
    "                self.tempo_morte[i] += 1\n",
    "            \n",
    "            if self.estados[i] == 'orange' or self.estados[i] == 'red':\n",
    "                self.sintomas[i]+=1\n",
    "                \n",
    "            if t_incub < self.sintomas[i] <= t_doenca and self.estados[i] != 'black':\n",
    "                self.estados[i] = 'red'\n",
    "\n",
    "                morrer = np.random.rand()\n",
    "                if morrer <= (self.prob_morte/(compl_sintomas-self.sintomas[i])):\n",
    "                    self.estados[i] = 'black'\n",
    "\n",
    "            if self.estados[i] != 'black' and self.sintomas[i] > t_doenca:\n",
    "                self.estados[i] = 'green'\n",
    "                \n",
    "                \n",
    "            if self.estados[i] == 'green':\n",
    "            \n",
    "                self.tempo_recup[i]+=1\n",
    "                retornar = np.random.rand()\n",
    "                if retornar <= (self.prob_retorno/self.tempo_recup[i]):\n",
    "                    self.estados[i] = 'orange'\n",
    "                    self.sintomas[i] = 1\n",
    "            \n",
    "        \n",
    "        for i, p in enumerate(self.pos): ##atualizando as posições\n",
    "      \n",
    "            if p[0] + self.vel[i][0] >= self.tam_x or p[0] + self.vel[i][0] <= 0:\n",
    "                self.vel[i][0] *= -1\n",
    "      \n",
    "            if p[1] + self.vel[i][1] >= self.tam_y or p[1] + self.vel[i][1] <= 0:\n",
    "                self.vel[i][1] *= -1\n",
    "      \n",
    "            p += self.vel[i]\n",
    "    \n",
    "        new_directions = np.random.rand(self.n, 2) ##criando o vetor de novas posições\n",
    "        for newdir in new_directions:\n",
    "            c = np.random.rand()\n",
    "            if c >= 0.66: ## se for maior q 2/3, é positivo\n",
    "                newdir *= self.eps_vel/np.linalg.norm(newdir)\n",
    "            if c <= 0.33: ## se for menor q 1/3, é negativo\n",
    "                newdir *= -self.eps_vel/np.linalg.norm(newdir)\n",
    "            if 0.66 > c > 0.33: ## se for no meio é 0 (a velocidade é mantida)\n",
    "                newdir *= 0\n",
    "        ##print(new_directions) ##para testes\n",
    "        self.vel += new_directions ##atualizando as velocidades\n",
    "        for i, v in enumerate(self.vel): ##normalizando as velocidades\n",
    "            v *= self.idades[i]/np.linalg.norm(v)\n",
    "        \n",
    "        self.percent = [self.estados.count(cor)/self.n for cor in self.estados_possiveis]\n",
    "        self.percent_new = [0, self.percent[0], sum(self.percent[:2]) - 3e-9, sum(self.percent[:3]) - 1e-9, sum(self.percent[:4])]\n",
    "            \n",
    "        \n"
   ]
  },
  {
   "cell_type": "code",
   "execution_count": 5,
   "metadata": {
    "colab": {},
    "colab_type": "code",
    "id": "NftWH1zo4Pfd"
   },
   "outputs": [],
   "source": [
    "P = Pessoas(10, 10, 10, 0.1, 4, 0.95, 0.5, 0.9)"
   ]
  },
  {
   "cell_type": "code",
   "execution_count": 7,
   "metadata": {},
   "outputs": [],
   "source": [
    "#print(P.estados)\n",
    "for i in range(21):\n",
    "    P.update()\n",
    "    #print(P.estados)"
   ]
  },
  {
   "cell_type": "code",
   "execution_count": 11,
   "metadata": {},
   "outputs": [
    {
     "data": {
      "image/png": "[encoded data removed]",
      "text/plain": [
       "<Figure size 576x360 with 1 Axes>"
      ]
     },
     "metadata": {},
     "output_type": "display_data"
    }
   ],
   "source": [
    "DATA = []\n",
    "P = Pessoas(60, 10.01, 10.01, 0.1, 1, 0.8, 0.1, 0.1)\n",
    "\n",
    "\n",
    "blue_patch = mlines.Line2D([], [], color = 'blue', marker = 'o', label = 'saudáveis')\n",
    "orange_patch = mlines.Line2D([], [], color = 'orange', label = 'infectados assintomáticos', marker = 'o')\n",
    "red_patch = mlines.Line2D([], [], color = 'red', label = 'infectados sintomáticos', marker = 'o')\n",
    "green_patch = mlines.Line2D([], [], color = 'green', label = 'recuperados', marker = 'o')\n",
    "black_patch = mlines.Line2D([], [], color = 'black', label = 'mortos', marker = 'o')\n",
    "\n",
    "\n",
    "\n",
    "fig = plt.figure(figsize = (8,5))\n",
    "ax = fig.add_axes([0.05, 0.1, 0.5, 0.8])\n",
    "\n",
    "\n",
    "#ax.axis('off')\n",
    "plt.xlim(0,P.tam_x)\n",
    "plt.ylim(0,P.tam_y)\n",
    "plt.xticks([])\n",
    "plt.yticks([])\n",
    "plt.title('Transmissão do COVID-19')\n",
    "\n",
    "plt.legend(handles = [blue_patch, orange_patch, red_patch, green_patch, black_patch], bbox_to_anchor=(1.05, 1), loc='upper left', borderaxespad=0.)\n",
    "#plt.legend(loc=\"upper left\", bbox_to_anchor=(1,1))\n",
    "\n",
    "ondes = []\n",
    "for i in range(P.n):\n",
    "    pontopessoa, = plt.plot(P.pos[i],'o',markersize = 5, color = P.estados[i])\n",
    "    ondes.append(pontopessoa)\n",
    "\n",
    "def anima(i):\n",
    "    \n",
    "    P.update()\n",
    "    for i, pessoa in enumerate(ondes):\n",
    "        \n",
    "        if P.tempo_morte[i] >= morreu_de_verdade:\n",
    "            pessoa.set_data([],[])\n",
    "        else:    \n",
    "            pessoa.set_data(P.pos[i])\n",
    "            pessoa.set_color(P.estados[i])\n",
    "    DATA.append(P.percent_new)\n",
    "    return ondes[0],\n",
    "\n",
    "ani = FuncAnimation(fig,anima,frames = np.arange(0,150,1),interval = 100, blit=True, repeat=True)\n",
    "#ani.save('/Users/macbookpro/Desktop/testecovid.mp4')\n",
    "\n",
    "#ani.to_html5_video()\n",
    "ani.save(r'covidtest.mp4', fps = 10)\n",
    "\n",
    "\n",
    "\n"
   ]
  },
  {
   "cell_type": "code",
   "execution_count": 12,
   "metadata": {},
   "outputs": [
    {
     "data": {
      "image/png": "[encoded data removed]",
      "text/plain": [
       "<Figure size 576x216 with 1 Axes>"
      ]
     },
     "metadata": {},
     "output_type": "display_data"
    }
   ],
   "source": [
    "fig = plt.figure(figsize=(8,3))\n",
    "plt.title('aa')\n",
    "\n",
    "plt.plot([0.25,0.25],[0,1])\n",
    "plt.plot([0.5,0.5],[0,1])\n",
    "plt.plot([0.75,0.75],[0,1])\n",
    "plt.fill_between([0,0.25], [1,1]) ##suscetiveis\n",
    "plt.fill_between([0.25,0.5], [1,1]) ##infectados\n",
    "plt.fill_between([0.5,0.75],[1,1]) ## recuperados\n",
    "plt.fill_between([0.75,1], [1,1], color = 'k') ## mortos\n",
    "\n",
    "plt.xlim(0,1)\n",
    "plt.ylim(0,1)\n",
    "plt.xticks([])\n",
    "plt.yticks([])\n",
    "plt.show()"
   ]
  },
  {
   "cell_type": "code",
   "execution_count": 13,
   "metadata": {},
   "outputs": [
    {
     "data": {
      "image/png": "[encoded data removed]",
      "text/plain": [
       "<Figure size 576x216 with 1 Axes>"
      ]
     },
     "metadata": {
      "needs_background": "light"
     },
     "output_type": "display_data"
    }
   ],
   "source": [
    "#DATA = []\n",
    "frames = 5000\n",
    "x = np.linspace(0, 1, 10)\n",
    "# P = Pessoas(60, 10.01, 10.01, 0.1, 1, 0.8, 0.1, 0.1)\n",
    "\n",
    "# for i in range(frames):\n",
    "#     DATA.append(P.percent_new)\n",
    "#     P.update()\n",
    "fig, ax = plt.subplots(figsize = (8,3))\n",
    "\n",
    "\n",
    "def animate(i):\n",
    "    ax.clear()\n",
    "    ax.contourf([x,x],DATA[i], colors = ['blue', 'red', 'green', 'black'])\n",
    "    \n",
    "interval = 5000#in seconds     \n",
    "ani = animation.FuncAnimation(fig,animate,30,interval=500,blit=False)\n",
    "\n",
    "plt.show()\n",
    "\n",
    "ani.save('test2.mp4')"
   ]
  },
  {
   "cell_type": "code",
   "execution_count": null,
   "metadata": {},
   "outputs": [],
   "source": []
  },
  {
   "cell_type": "code",
   "execution_count": null,
   "metadata": {},
   "outputs": [],
   "source": []
  }
 ],
 "metadata": {
  "accelerator": "GPU",
  "colab": {
   "collapsed_sections": [],
   "name": "COVID.ipynb",
   "provenance": []
  },
  "kernelspec": {
   "display_name": "Python 3",
   "language": "python",
   "name": "python3"
  },
  "language_info": {
   "codemirror_mode": {
    "name": "ipython",
    "version": 3
   },
   "file_extension": ".py",
   "mimetype": "text/x-python",
   "name": "python",
   "nbconvert_exporter": "python",
   "pygments_lexer": "ipython3",
   "version": "3.7.3"
  }
 },
 "nbformat": 4,
 "nbformat_minor": 1
}
