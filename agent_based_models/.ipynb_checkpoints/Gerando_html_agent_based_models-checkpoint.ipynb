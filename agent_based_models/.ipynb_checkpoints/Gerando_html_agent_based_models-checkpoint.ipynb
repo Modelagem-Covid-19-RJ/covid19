{
 "cells": [
  {
   "cell_type": "code",
   "execution_count": 1,
   "metadata": {},
   "outputs": [],
   "source": [
    "import numpy as np\n",
    "import pandas as pd\n",
    "from sympy.combinatorics.permutations import Permutation\n",
    "import plotly.graph_objects as go\n",
    "from plotly.subplots import make_subplots\n",
    "import plotly.express as px\n",
    "from models import evolui, simulador, get_CI\n",
    "import dash\n",
    "import dash_core_components as dcc\n",
    "import dash_html_components as html"
   ]
  },
  {
   "cell_type": "code",
   "execution_count": 2,
   "metadata": {},
   "outputs": [],
   "source": [
    "CI_SIR = get_CI('SIR', 100, 10)\n",
    "CI_SEIR = get_CI('SEIR', 100, 10)\n",
    "CI_SIS = get_CI('SIS', 100, 10)"
   ]
  },
  {
   "cell_type": "code",
   "execution_count": 3,
   "metadata": {},
   "outputs": [],
   "source": [
    "params_seir = [0.5, 0.2, 0.15]\n",
    "params_sisr = [0.5, 0.15]\n",
    "simuls = 80\n",
    "alpha = min(0.2, 5/simuls)\n",
    "tmax = 60"
   ]
  },
  {
   "cell_type": "code",
   "execution_count": 4,
   "metadata": {},
   "outputs": [
    {
     "name": "stdout",
     "output_type": "stream",
     "text": [
      "sir done\n",
      "seir done\n",
      "Wall time: 24.5 s\n"
     ]
    }
   ],
   "source": [
    "%%time\n",
    "data1 = simulador('SIR', CI_SIR, params_sisr,tmax, simuls, alpha)\n",
    "print('sir done')\n",
    "data2 = simulador('SEIR', CI_SEIR, params_seir,tmax, simuls, alpha)\n",
    "print('seir done')\n",
    "data3 = simulador('SIS', CI_SIS, params_sisr,tmax, simuls, alpha)"
   ]
  },
  {
   "cell_type": "code",
   "execution_count": 5,
   "metadata": {},
   "outputs": [],
   "source": [
    "data = data1 + data2 + data3"
   ]
  },
  {
   "cell_type": "code",
   "execution_count": 6,
   "metadata": {},
   "outputs": [
    {
     "data": {
      "text/plain": [
       "(243, 324, 162, 729)"
      ]
     },
     "execution_count": 6,
     "metadata": {},
     "output_type": "execute_result"
    }
   ],
   "source": [
    "len(data1), len(data2), len(data3), len(data)"
   ]
  },
  {
   "cell_type": "code",
   "execution_count": 7,
   "metadata": {},
   "outputs": [
    {
     "ename": "TypeError",
     "evalue": "not all arguments converted during string formatting",
     "output_type": "error",
     "traceback": [
      "\u001b[1;31m---------------------------------------------------------------------------\u001b[0m",
      "\u001b[1;31mTypeError\u001b[0m                                 Traceback (most recent call last)",
      "\u001b[1;32m<ipython-input-7-0c958f73dc8d>\u001b[0m in \u001b[0;36m<module>\u001b[1;34m\u001b[0m\n\u001b[0;32m      1\u001b[0m annotation1, annotation2 = [dict(x=50,y=1.1,xref=\"x\", yref=\"paper\",\n\u001b[1;32m----> 2\u001b[1;33m                                 \u001b[0mtext\u001b[0m\u001b[1;33m=\u001b[0m\u001b[1;34mfr'β  = s, α = %s, γ = %s '\u001b[0m \u001b[1;33m%\u001b[0m\u001b[1;33m(\u001b[0m\u001b[0mparams_seir\u001b[0m\u001b[1;33m[\u001b[0m\u001b[1;36m0\u001b[0m\u001b[1;33m]\u001b[0m\u001b[1;33m,\u001b[0m \u001b[0mparams_seir\u001b[0m\u001b[1;33m[\u001b[0m\u001b[1;36m1\u001b[0m\u001b[1;33m]\u001b[0m\u001b[1;33m,\u001b[0m \u001b[0mparams_seir\u001b[0m\u001b[1;33m[\u001b[0m\u001b[1;36m2\u001b[0m\u001b[1;33m]\u001b[0m\u001b[1;33m)\u001b[0m\u001b[1;33m,\u001b[0m\u001b[1;33m\u001b[0m\u001b[1;33m\u001b[0m\u001b[0m\n\u001b[0m\u001b[0;32m      3\u001b[0m                                 \u001b[0mshowarrow\u001b[0m \u001b[1;33m=\u001b[0m \u001b[1;32mFalse\u001b[0m\u001b[1;33m)\u001b[0m\u001b[1;33m]\u001b[0m\u001b[1;33m,\u001b[0m \u001b[1;33m[\u001b[0m\u001b[0mdict\u001b[0m\u001b[1;33m(\u001b[0m\u001b[0mx\u001b[0m\u001b[1;33m=\u001b[0m\u001b[1;36m50\u001b[0m\u001b[1;33m,\u001b[0m\u001b[0my\u001b[0m\u001b[1;33m=\u001b[0m\u001b[1;36m1.1\u001b[0m\u001b[1;33m,\u001b[0m\u001b[0mxref\u001b[0m\u001b[1;33m=\u001b[0m\u001b[1;34m\"x\"\u001b[0m\u001b[1;33m,\u001b[0m \u001b[0myref\u001b[0m\u001b[1;33m=\u001b[0m\u001b[1;34m\"paper\"\u001b[0m\u001b[1;33m,\u001b[0m\u001b[1;33m\u001b[0m\u001b[1;33m\u001b[0m\u001b[0m\n\u001b[0;32m      4\u001b[0m                                                          \u001b[0mtext\u001b[0m\u001b[1;33m=\u001b[0m\u001b[1;34mfr'β  = %s,  γ = %s'\u001b[0m \u001b[1;33m%\u001b[0m\u001b[1;33m(\u001b[0m\u001b[0mparams_sisr\u001b[0m\u001b[1;33m[\u001b[0m\u001b[1;36m0\u001b[0m\u001b[1;33m]\u001b[0m\u001b[1;33m,\u001b[0m \u001b[0mparams_sisr\u001b[0m\u001b[1;33m[\u001b[0m\u001b[1;36m1\u001b[0m\u001b[1;33m]\u001b[0m\u001b[1;33m)\u001b[0m\u001b[1;33m,\u001b[0m\u001b[1;33m\u001b[0m\u001b[1;33m\u001b[0m\u001b[0m\n\u001b[0;32m      5\u001b[0m                                                          showarrow = False)]\n",
      "\u001b[1;31mTypeError\u001b[0m: not all arguments converted during string formatting"
     ]
    }
   ],
   "source": [
    "annotation1, annotation2 = [dict(x=50,y=1.1,xref=\"x\", yref=\"paper\",\n",
    "                                text=fr'β  = %s, α = %s, γ = %s ' %(params_seir[0], params_seir[1], params_seir[2]),\n",
    "                                showarrow = False)], [dict(x=50,y=1.1,xref=\"x\", yref=\"paper\",\n",
    "                                                         text=fr'β  = %s,  γ = %s' %(params_sisr[0], params_sisr[1]),\n",
    "                                                         showarrow = False)]\n"
   ]
  },
  {
   "cell_type": "code",
   "execution_count": null,
   "metadata": {
    "scrolled": true
   },
   "outputs": [],
   "source": [
    "#%%time\n",
    "fig = go.Figure()\n",
    "for d in data:\n",
    "    fig.add_trace(d)\n",
    "updatemenus = list([\n",
    "    dict(active=0,\n",
    "         buttons=list([  \n",
    "             dict(label=\"All\",   \n",
    "                 method=\"update\",\n",
    "                 args=[{\"visible\": len(data)*[True]},\n",
    "                        {\"title\": \"Every model\",\n",
    "                        \"annotations\": annotation1}]), \n",
    "            \n",
    "             dict(label = 'SIR',\n",
    "                 method = 'update',\n",
    "                 args = [{'visible': 243*[True] + 324*[False] + 162*[False]},\n",
    "                         {'title': 'Agent based SIR model',\n",
    "                          'annotations': annotation2}]),\n",
    "\n",
    "            dict(label = 'SEIR',\n",
    "                 method = 'update',\n",
    "                 args = [{'visible': 243*[False] + 324*[True] + 162*[False]},\n",
    "                         {'title': 'Agent based SEIR model',\n",
    "                          'annotations': annotation1}]), \n",
    "            dict(label = 'SIS',\n",
    "                 method = 'update',\n",
    "                 args = [{'visible': 243*[False] + 324*[False] + 162*[True]},\n",
    "                         {'title': 'Agent based SIS model',\n",
    "                          'annotations': annotation2}])\n",
    "        ]),\n",
    "    )\n",
    "])\n",
    "#fig['layout']['updatemenus'] = updatemenus\n",
    "fig.update_layout(title = dict(text = 'Every model', x = 0.5), updatemenus = updatemenus,\n",
    "                  annotations = annotation1)\n",
    "#fig.show()"
   ]
  },
  {
   "cell_type": "code",
   "execution_count": null,
   "metadata": {},
   "outputs": [],
   "source": [
    "with open(\"agentbasedmodels.html\", \"w\") as f:\n",
    "    f.write(fig.to_html())"
   ]
  },
  {
   "cell_type": "code",
   "execution_count": null,
   "metadata": {},
   "outputs": [],
   "source": [
    "#app = dash.Dash()\n",
    "#app.layout = html.Div([\n",
    "#    dcc.Graph(figure=fig)\n",
    "#])\n",
    "#\n",
    "#app.run_server(debug=True, use_reloader=False)  # Turn off reloader if inside Jupyter"
   ]
  }
 ],
 "metadata": {
  "kernelspec": {
   "display_name": "Python 3",
   "language": "python",
   "name": "python3"
  },
  "language_info": {
   "codemirror_mode": {
    "name": "ipython",
    "version": 3
   },
   "file_extension": ".py",
   "mimetype": "text/x-python",
   "name": "python",
   "nbconvert_exporter": "python",
   "pygments_lexer": "ipython3",
   "version": "3.7.3"
  }
 },
 "nbformat": 4,
 "nbformat_minor": 4
}
