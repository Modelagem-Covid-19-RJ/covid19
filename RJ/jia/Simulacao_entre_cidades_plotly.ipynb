{
 "cells": [
  {
   "cell_type": "markdown",
   "metadata": {},
   "source": [
    "**Estudo em andamento**\n",
    "\n",
    "As análises aqui apresentadas e resultados obtidos ainda não devem ser divulgados."
   ]
  },
  {
   "cell_type": "markdown",
   "metadata": {},
   "source": [
    "<meta charset=\"utf-8\"/>\n",
    "<h1>Table of Contents<span class=\"tocSkip\"></span></h1>\n",
    "<div class=\"toc\">\n",
    "   <ul class=\"toc-item\">\n",
    "      <li>\n",
    "         <span><a href=\"#Modelo-de-Jia-et-al-modificado-para-duas-cidades\" data-toc-modified-id=\"Modelo-de-Jia-et-al.-1\"><span class=\"toc-item-num\">1&nbsp;&nbsp;</span>Modelo de Jia et al modificado para duas cidades</a></span>\n",
    "         <ul class=\"toc-item\">\n",
    "            <li><span><a href=\"#Fluxograma-para-duas-Cidades\" data-toc-modified-id=\"Populações-1.1\"><span class=\"toc-item-num\">1.1&nbsp;&nbsp;</span>Fluxograma para duas Cidades</a></span></li>\n",
    "            <li><span><a href=\"#Sistema\" data-toc-modified-id=\"Populações-1.1\"><span class=\"toc-item-num\">1.2&nbsp;&nbsp;</span>Sistema de equações</a></span></li>\n",
    "            <li><span><a href=\"#Popula&ccedil;&otilde;es\" data-toc-modified-id=\"Modelo-em-python-1.3\"><span class=\"toc-item-num\">1.3&nbsp;&nbsp;</span>Popula&ccedil;&otilde;es</a></span>\n",
    "             <ul class=\"toc-item\">\n",
    "                 <li><span><a href=\"#Suscetíveis-e-em-Quarentena-\" data-toc-modified-id=\"Populações-1.1\"><span class=\"toc-item-num\">1.3.1&nbsp;&nbsp;</span>Suscetíveis e \"em Quarentena\"</a></span></li>\n",
    "                <li><span><a href=\"#Exposto\" data-toc-modified-id=\"Populações-1.1\"><span class=\"toc-item-num\">1.3.2&nbsp;&nbsp;</span>Expostos</a></span></li>\n",
    "                <li><span><a href=\"#Assintomáticos\" data-toc-modified-id=\"Modelo-em-python-1.3\"><span class=\"toc-item-num\">1.3.3&nbsp;&nbsp;</span>Assintomáticos, Infectados, Diagnosticados</a></span></li>\n",
    "                 <li><span><a href=\"#Recuperados\" data-toc-modified-id=\"Modelo-em-python-1.3\"><span class=\"toc-item-num\">1.3.4&nbsp;&nbsp;</span>Recuperados</a></span></li>\n",
    "             </ul>\n",
    "             </li>\n",
    "             <li><span><a href=\"#Parâmetros\" data-toc-modified-id=\"Modelo-de-Jia-et-al.-1\"><span class=\"toc-item-num\">1.4&nbsp;&nbsp;</span>Parâmetros</a></span></li>\n",
    "             <li><span><a href=\"#Modelo-em-python\" data-toc-modified-id=\"Modelo-de-Jia-et-al.-1\"><span class=\"toc-item-num\">1.5&nbsp;&nbsp;</span>Modelo em Python</a></span></li>\n",
    "         </ul>\n",
    "      </li>\n",
    "      <li>\n",
    "         <span><a href=\"#RJ-x-SP\" data-toc-modified-id=\"Transpondo-para-a-cidade-do-Rio-de-Janeiro-2\"><span class=\"toc-item-num\">2&nbsp;&nbsp;</span>Rio de Janeiro x São Paulo</a></span>\n",
    "         <ul class=\"toc-item\">\n",
    "            <li><span><a href=\"#Rio-de-Janeiro\" data-toc-modified-id=\"Dados-iniciais-para-o-Rio-de-Janeiro-2.1\"><span class=\"toc-item-num\">2.1&nbsp;&nbsp;</span>Rio de Janeiro</a></span>\n",
    "             <ul class = \"toc-item\">\n",
    "                 <li><span><a href=\"#Dados-Iniciais-para-o-Rio-de-Janeiro\" data-toc-modified-id=\"Modelo-de-Jia-et-al.-1\"><span class=\"toc-item-num\">2.1.1&nbsp;&nbsp;</span>Dados Iniciais para o Rio de Janeiro</a></span></li>\n",
    "                 <li><span><a href=\"#Parâmetros-para-o-Rio-de-Janeiro\" data-toc-modified-id=\"Modelo-de-Jia-et-al.-1\"><span class=\"toc-item-num\">2.1.1&nbsp;&nbsp;</span>Parâmetros para o Rio de Janeiro</a></span></li>\n",
    "                 <li><span><a href=\"#Dados-Reais-para-o-Rio-de-Janeiro\" data-toc-modified-id=\"Modelo-de-Jia-et-al.-1\"><span class=\"toc-item-num\">2.1.2&nbsp;&nbsp;</span>Dados Reais para o Rio de Janeiro</a></span></li>\n",
    "             </ul>\n",
    "             </li>\n",
    "             <li><span><a href=\"#São-Paulo\" data-toc-modified-id=\"Dados-iniciais-para-o-Rio-de-Janeiro-2.1\"><span class=\"toc-item-num\">2.2&nbsp;&nbsp;</span>São Paulo</a></span>\n",
    "             <ul class = \"toc-item\">\n",
    "                 <li><span><a href=\"#Dados-Iniciais-para-São-Paulo\" data-toc-modified-id=\"Modelo-de-Jia-et-al.-1\"><span class=\"toc-item-num\">2.2.1&nbsp;&nbsp;</span>Dados Iniciais para São Paulo</a></span></li>\n",
    "                 <li><span><a href=\"#Parâmetros-para-São-Paulo\" data-toc-modified-id=\"Modelo-de-Jia-et-al.-1\"><span class=\"toc-item-num\">2.2.2&nbsp;&nbsp;</span>Parâmetros para São Paulo</a></span></li>\n",
    "                 <li><span><a href=\"#Dados-Reais-para-São-Paulo\" data-toc-modified-id=\"Modelo-de-Jia-et-al.-1\"><span class=\"toc-item-num\">2.2.3&nbsp;&nbsp;</span>Dados Reais para São Paulo</a></span></li>\n",
    "             </ul>\n",
    "             </li>\n",
    "             <li><span><a href=\"#Preparando-os-dados-para-o-Modelo\" data-toc-modified-id=\"Dados-iniciais-para-o-Rio-de-Janeiro-2.1\"><span class=\"toc-item-num\">2.3&nbsp;&nbsp;</span>Preparando os Dados do Modelo</a></span>\n",
    "             <ul class = \"toc-item\">\n",
    "                 <li><span><a href=\"#Condição-Inicial\" data-toc-modified-id=\"Modelo-de-Jia-et-al.-1\"><span class=\"toc-item-num\">2.3.1&nbsp;&nbsp;</span>Condição Inicial</a></span></li>\n",
    "                 <li><span><a href=\"#Parâmetros\" data-toc-modified-id=\"Modelo-de-Jia-et-al.-1\"><span class=\"toc-item-num\">2.3.2&nbsp;&nbsp;</span>Parâmetros</a></span></li>\n",
    "                 <li><span><a href=\"#Gráficos\" data-toc-modified-id=\"Modelo-de-Jia-et-al.-1\"><span class=\"toc-item-num\">2.3.3&nbsp;&nbsp;</span>Gráficos</a></span></li>\n",
    "             </ul>\n",
    "             </li>\n",
    "            <li>\n",
    "               <span><a href=\"#Modificando-Parâmetros:-Abrindo-tudo-por-dois-dias\" data-toc-modified-id=\"Parâmetros-para-a-cidade-do-Rio-de-Janeiro-2.2\"><span class=\"toc-item-num\">2.4&nbsp;&nbsp;</span>Modificando Parâmetros: Abrindo tudo por dois dias</a></span></li>\n",
    "         </ul>\n",
    "      </li>\n",
    "       <li>\n",
    "         <span><a href=\"#Rio-de-Janeiro-x-Niteroi\" data-toc-modified-id=\"Transpondo-para-a-cidade-do-Rio-de-Janeiro-2\"><span class=\"toc-item-num\">3&nbsp;&nbsp;</span>Rio de Janeiro x Niterói</a></span>\n",
    "         <ul class=\"toc-item\">\n",
    "            <li><span><a href=\"#Rio-de-Janeiro\" data-toc-modified-id=\"Dados-iniciais-para-o-Rio-de-Janeiro-2.1\"><span class=\"toc-item-num\">3.1&nbsp;&nbsp;</span>Rio de Janeiro</a></span>\n",
    "             <ul class = \"toc-item\">\n",
    "                 <li><span><a href=\"#Dados-Iniciais-para-o-Rio-de-Janeiro\" data-toc-modified-id=\"Modelo-de-Jia-et-al.-1\"><span class=\"toc-item-num\">3.1.1&nbsp;&nbsp;</span>Dados Iniciais para o Rio de Janeiro</a></span></li>\n",
    "                 <li><span><a href=\"#Parâmetros-para-o-Rio-de-Janeiro\" data-toc-modified-id=\"Modelo-de-Jia-et-al.-1\"><span class=\"toc-item-num\">3.1.1&nbsp;&nbsp;</span>Parâmetros para o Rio de Janeiro</a></span></li>\n",
    "                 <li><span><a href=\"#Dados-Reais-para-o-Rio-de-Janeiro\" data-toc-modified-id=\"Modelo-de-Jia-et-al.-1\"><span class=\"toc-item-num\">3.1.2&nbsp;&nbsp;</span>Dados Reais para o Rio de Janeiro</a></span></li>\n",
    "             </ul>\n",
    "             </li>\n",
    "             <li><span><a href=\"#Niteroi\" data-toc-modified-id=\"Dados-iniciais-para-o-Rio-de-Janeiro-2.1\"><span class=\"toc-item-num\">3.2&nbsp;&nbsp;</span>Niterói</a></span>\n",
    "             <ul class = \"toc-item\">\n",
    "                 <li><span><a href=\"#Dados-Iniciais-para-Niteroi\" data-toc-modified-id=\"Modelo-de-Jia-et-al.-1\"><span class=\"toc-item-num\">3.2.1&nbsp;&nbsp;</span>Dados Iniciais para Niterói</a></span></li>\n",
    "                 <li><span><a href=\"#Parâmetros-para-Niteroi\" data-toc-modified-id=\"Modelo-de-Jia-et-al.-1\"><span class=\"toc-item-num\">3.2.2&nbsp;&nbsp;</span>Parâmetros para Niterói</a></span></li>\n",
    "                 <li><span><a href=\"#Dados-Reais-para-Niter&oacute;i\" data-toc-modified-id=\"Modelo-de-Jia-et-al.-1\"><span class=\"toc-item-num\">3.2.3&nbsp;&nbsp;</span>Dados Reais para Niterói</a></span></li>\n",
    "             </ul>\n",
    "             </li>\n",
    "             <li><span><a href=\"#Preparando-os-dados-para-o-Modelo\" data-toc-modified-id=\"Dados-iniciais-para-o-Rio-de-Janeiro-2.1\"><span class=\"toc-item-num\">3.3&nbsp;&nbsp;</span>Preparando os Dados do Modelo</a></span>\n",
    "             <ul class = \"toc-item\">\n",
    "                 <li><span><a href=\"#Condição-Inicial\" data-toc-modified-id=\"Modelo-de-Jia-et-al.-1\"><span class=\"toc-item-num\">3.3.1&nbsp;&nbsp;</span>Condição Inicial</a></span></li>\n",
    "                 <li><span><a href=\"#Parâmetros\" data-toc-modified-id=\"Modelo-de-Jia-et-al.-1\"><span class=\"toc-item-num\">3.3.2&nbsp;&nbsp;</span>Parâmetros</a></span></li>\n",
    "                 <li><span><a href=\"#Gráficos\" data-toc-modified-id=\"Modelo-de-Jia-et-al.-1\"><span class=\"toc-item-num\">3.3.3&nbsp;&nbsp;</span>Gráficos</a></span></li>\n",
    "             </ul>\n",
    "             </li>\n",
    "            <li>\n",
    "               <span><a href=\"#Modificando-Parâmetros:-Abrindo-tudo-por-dois-dias\" data-toc-modified-id=\"Parâmetros-para-a-cidade-do-Rio-de-Janeiro-2.2\"><span class=\"toc-item-num\">3.4&nbsp;&nbsp;</span>Modificando Parâmetros: Abrindo tudo por dois dias</a></span></li>\n",
    "         </ul>\n",
    "      </li>\n",
    "   </ul>\n",
    "</div>\n",
    "\n"
   ]
  },
  {
   "cell_type": "markdown",
   "metadata": {},
   "source": [
    "# Modelo de Jia et al modificado para duas cidades"
   ]
  },
  {
   "cell_type": "markdown",
   "metadata": {},
   "source": [
    "## Fluxograma para duas Cidades\n",
    "<img src='images/diagrama.png' width = '750px' height = '750px' style='margin: 0 auto'>"
   ]
  },
  {
   "cell_type": "markdown",
   "metadata": {},
   "source": [
    "## Sistema\n",
    "\n",
    "O sistema de EDOs do nosso modelo para duas cidades `1`e `2` é dado por:\n",
    "\n",
    "\n",
    "$$\n",
    "\\begin{cases}\n",
    "\\displaystyle \\frac{\\mathrm{d}S_1}{\\mathrm{d}t} &= -\\beta_1 S_1\\left(I_1 + \\theta_1 A_1\\right) - p_1 S_1 + \\lambda_1 Q_1 - \\mu_1 S_1 + \\mu_2 S_2\\\\\n",
    "\\displaystyle \\frac{\\mathrm{d}Q_1}{\\mathrm{d}t} &= p_1 S_1 - \\lambda_1 Q_1\\\\\n",
    "\\displaystyle \\frac{\\mathrm{d}E_1}{\\mathrm{d}t} &= \\beta_1 S_1(I_1 + \\theta_1 A_1) - \\sigma_1 E_1 - \\mu_1 E_1 + \\mu_2 E_2\\\\\n",
    "\\displaystyle \\frac{\\mathrm{d}A_1}{\\mathrm{d}t} &= \\sigma_1(1- \\rho_1)E_1 - \\epsilon_{A_1} A_1 - \\gamma_{A_1} A_1 - \\mu_1 A_1 + \\mu_2 A_2\\\\\n",
    "\\displaystyle \\frac{\\mathrm{d}I_1}{\\mathrm{d}t} &= \\sigma_1\\rho_1 E_1 - \\epsilon_{I_1} I_1 - \\gamma_{D_1} D_1 - d_{D_1} D_1 - \\delta_1 I_1 + \\delta_2 I_2\\\\\\\n",
    "\\displaystyle \\frac{\\mathrm{d}R_1}{\\mathrm{d}t} &= \\gamma_{A_1} A_1 + \\gamma_{I_1} I_1 + \\gamma_{D_1} D_1  - \\mu_1 R_1 + \\mu_2 R_2\\\\\n",
    "\\displaystyle\\frac{\\mathrm{d}S_2}{\\mathrm{d}t} &= -\\beta_2 S_2\\left(I_2 + \\theta_2 A_2\\right) - p_2 S_2 + \\lambda_2 Q_2 - \\mu_2 S_2 + \\mu_1 S_1\\\\\n",
    "\\displaystyle\\frac{\\mathrm{d}Q_2}{\\mathrm{d}t} &= p_2 S_2 - \\lambda_2 Q_2\\\\\n",
    "\\displaystyle\\frac{\\mathrm{d}E_2}{\\mathrm{d}t} &= \\beta_2 S_2(I_2 + \\theta_2 A_2) - \\sigma_2 E_2 - \\mu_2 E_2 + \\mu_1 E_1\\\\\n",
    "\\displaystyle\\frac{\\mathrm{d}A_2}{\\mathrm{d}t} &= \\sigma_2(1- \\rho_2)E_2 - \\epsilon_{A_2} A_2 - \\gamma_{A_2} A_2 - \\mu_2 A_2 + \\mu_1 A_1\\\\\n",
    "\\displaystyle\\frac{\\mathrm{d}I_2}{\\mathrm{d}t} &= \\sigma_2\\rho_2 E_2 - \\epsilon_{I_2} I_2 - \\gamma_{D_2} D_2 - d_{D_2} D_2 - \\delta_2 I_2 + \\delta_1 I_1\\\\\n",
    "\\displaystyle\\frac{\\mathrm{d}R_1}{\\mathrm{d}t} &= \\gamma_{A_1} A_1 + \\gamma_{I_1} I_1 + \\gamma_{D_1} D_1 - \\mu_2 R_2 + \\mu_1 R_1\n",
    "\\end{cases}\n",
    "$$"
   ]
  },
  {
   "cell_type": "markdown",
   "metadata": {},
   "source": [
    "## Populações"
   ]
  },
  {
   "cell_type": "markdown",
   "metadata": {},
   "source": [
    "### Suscetíveis e \"em Quarentena\"\n",
    "\n",
    "- Parte da população suscetível pode migrar para quarentena (taxa $p$), e vice-versa (taxa $\\lambda$).\n",
    "\n",
    "### Expostos\n",
    "\n",
    "- Parte da população sintomática que entrou em contato com infectados ou assintomáticos (taxa básica de contágio $\\beta$)\n",
    "- Uma parte destes irá progredir ao estágio seguinte da doença, a taxa de conversão $\\sigma$:\n",
    "    * Alguns como sintomáticos, outros como assintomáticos, em proporção $\\rho : 1 - \\rho$.\n",
    "    * **Todos os expostos irão progredir para algum dos dois estados** neste modelo\n",
    "\n",
    "### Assintomáticos, Infectados, Diagnosticados\n",
    "\n",
    "- Tanto assintomáticos como infectados ainda estão \"circulando\" (pois não sabem que são portadores)\n",
    "  e podem contaminar a população em geral.\n",
    "- Assintomáticos:\n",
    "    * menor taxa de contágio (approx 1/10 segundo o modelo original),\n",
    "    * maior taxa de recuperação.\n",
    "- Infectado:\n",
    "    * maior taxa de contágio,\n",
    "    * menor taxa de recuperação,\n",
    "    * possibilidade de morte.\n",
    "- Diagnosticado\n",
    "    * Não contamina \"mais ninguém\", por hipótese, pois está isolado / em tratamento;\n",
    "    * taxa intermediária de recuperação (entre infectados e assintomáticos),\n",
    "    * menor taxa de morte do que infectados\n",
    "\n",
    "### Recuperados\n",
    "\n",
    "- Neste modelo, não são mais suscetíveis, nem contaminam mais ninguém."
   ]
  },
  {
   "cell_type": "markdown",
   "metadata": {},
   "source": [
    "## Parâmetros"
   ]
  },
  {
   "cell_type": "markdown",
   "metadata": {},
   "source": [
    "- $\\beta$: taxa básica de contágio de infectados -> suscetíveis\n",
    "    * $\\theta$: fator da taxa de contágio para assintomáticos -> suscetíveis\n",
    "- $p$, $\\lambda$: taxa de conversão entre população suscetível e em quarentena\n",
    "- $\\sigma$: taxa de evolução dos sintomas após contágio\n",
    "    * $\\rho$: proporção dos contágios que será assintomática\n",
    "- $\\epsilon_A$, $\\epsilon_I$: proporção de assintomáticos / infectados que será diagnosticada\n",
    "- $\\gamma_A$, $\\gamma_I$, $\\gamma_D$: taxa de recuperação de assintomáticos / infectados / diagnosticados\n",
    "- $d_I$ , $d_D$: taxa de morte para infectados e diagnosticados\n",
    "- $\\mu_1$: taxa com que um indivíduo sem sintomas (incluindo suscetíveis e recuperados) sai da cidade `1` e vai para a cidade `2`\n",
    "- $\\delta_1$: taxa com que um indivíduo infectado sintomático (não diagnosticado) sai da cidade `1` e vai para a cidade `2`"
   ]
  },
  {
   "cell_type": "markdown",
   "metadata": {},
   "source": [
    "## Modelo em python\n",
    "\n",
    "Separado em uma biblioteca dedicada, `jia_cidades.py`, onde as funções já existentes foram modificadas para receber condições iniciais e parâmetros de duas cidades. A modificação da função principal `F` se deu com a criação de uma nova função `G`, mantendo a `F` original."
   ]
  },
  {
   "cell_type": "code",
   "execution_count": 1,
   "metadata": {},
   "outputs": [],
   "source": [
    "from jia_cidades import multi_regime, F, G, new_diagn, new_deaths, multi_regime_cidades, tot_deaths"
   ]
  },
  {
   "cell_type": "markdown",
   "metadata": {},
   "source": [
    "Criamos uma função para extrair e tratar os dados dos arquivos `csv` do Estado do Rio de Janeiro. Estes ficam no arquivo `get_data.py`"
   ]
  },
  {
   "cell_type": "code",
   "execution_count": 2,
   "metadata": {},
   "outputs": [],
   "source": [
    "from get_data import read_data, get_data, set_df"
   ]
  },
  {
   "cell_type": "markdown",
   "metadata": {},
   "source": [
    "Aqui importamos também todas as bibliotecas ao qual o modelo necessita"
   ]
  },
  {
   "cell_type": "code",
   "execution_count": 3,
   "metadata": {},
   "outputs": [],
   "source": [
    "from scipy.integrate import solve_ivp\n",
    "import numpy as np\n",
    "import matplotlib.pyplot as plt\n",
    "import datetime as dt\n",
    "import matplotlib.ticker as mticker\n",
    "import matplotlib.dates as mdates\n",
    "import seaborn as sns\n",
    "import pandas as pd\n",
    "import plotly.graph_objects as go\n",
    "from plotly.subplots import make_subplots\n",
    "import plotly.express as px\n",
    "\n",
    "sns.set_style(\"darkgrid\")"
   ]
  },
  {
   "cell_type": "code",
   "execution_count": 4,
   "metadata": {},
   "outputs": [],
   "source": [
    "cidades = [\n",
    "    ['Rio de Janeiro', 'RJ'],\n",
    "    ['São Paulo', 'SP'],\n",
    "    ['Niterói', 'Nit']\n",
    "]"
   ]
  },
  {
   "cell_type": "markdown",
   "metadata": {},
   "source": [
    "Lendo os arquivos de dados e tratando com as funções de `get_data`"
   ]
  },
  {
   "cell_type": "code",
   "execution_count": 5,
   "metadata": {},
   "outputs": [],
   "source": [
    "arquivo_conf = 'data_municipios/BIConfirmadosCOVID_RJ16abr.csv'\n",
    "arquivo_obito = 'data_municipios/BIOBITOS_Confirmados_ERJ_16abr.csv'\n",
    "df_confirmados = pd.read_csv(arquivo_conf, encoding = 'ISO-8859-1', delimiter = ';')\n",
    "df_obitos = pd.read_csv(arquivo_obito, encoding = 'ISO-8859-1', delimiter = ';')\n",
    "df_confirmados = read_data(df_confirmados, 'confirmados')\n",
    "df_obitos = read_data(df_obitos, 'obitos')"
   ]
  },
  {
   "cell_type": "markdown",
   "metadata": {},
   "source": [
    "#  Rio de Janeiro x São Paulo\n",
    "\n",
    "Estamos considerando uma modelagem onde estradas estão fechadas e temos um pequeno fluxo áreo entre as cidades, ajustando $\\mu$ e $\\delta$ para termos $1000$ pessoas por dia saindo e entrando das cidades "
   ]
  },
  {
   "cell_type": "markdown",
   "metadata": {},
   "source": [
    "## Rio de Janeiro"
   ]
  },
  {
   "cell_type": "markdown",
   "metadata": {},
   "source": [
    "### Dados iniciais para o Rio de Janeiro\n",
    "\n",
    "Usamos uma taxa de subnotificação de 8x, e uma taxa de exposição de 7x a população diagnosticada,\n",
    "o que aproxima de forma bastante razoável a curva de diagnósticos e de óbitos.\n",
    "\n",
    "Também é necessário estimar a taxa de assintomáticos nesta população,\n",
    "que é maior do que para a doença já que a prioridade dos testes\n",
    "é para aqueles que apresentaram sintomas mais graves."
   ]
  },
  {
   "cell_type": "code",
   "execution_count": 6,
   "metadata": {},
   "outputs": [],
   "source": [
    "# Taxa de subnotificação\n",
    "taxa_subn   = 8\n",
    "# Proporção de infectados assintomáticos\n",
    "prop_assint = 0.80"
   ]
  },
  {
   "cell_type": "code",
   "execution_count": 7,
   "metadata": {},
   "outputs": [],
   "source": [
    "# Dados para a cidade do Rio de Janeiro,\n",
    "# IBGE 2019 (estimativa)\n",
    "pop_Rio = 6718903\n",
    "# 01 de Abril\n",
    "diagn_Rio, recup_Rio = 697, 23\n",
    "infect_Rio = diagn_Rio*(taxa_subn-1)*(1 - prop_assint)\n",
    "assint_Rio = diagn_Rio*(taxa_subn-1)*prop_assint\n",
    "expostos_Rio = diagn_Rio*7\n",
    "quarentena_Rio = 0.6 * pop_Rio\n",
    "\n",
    "suscetiveis_Rio = pop_Rio - (quarentena_Rio + expostos_Rio + assint_Rio + infect_Rio + diagn_Rio + recup_Rio)"
   ]
  },
  {
   "cell_type": "markdown",
   "metadata": {},
   "source": [
    "### Parâmetros para o Rio de Janeiro\n",
    "\n",
    "Usamos os parâmetros do artigo original para a cidade de Beijing,\n",
    "em especial para obter aqueles referentes ao comportamento específico da doença\n",
    "(progressão de estágios, taxa de recuperação, etc.).\n",
    "\n",
    "\n",
    "- Fator de diagnóstico ($\\epsilon$)\n",
    "    * Para ser compatível com as hipóteses de população infectada inicial ~10x maior do que a diagnosticada\n",
    "- Taxas de quarentena\n",
    "    * Para corresponder a ~ 60% de quarentena da população no dia primeiro de abril"
   ]
  },
  {
   "cell_type": "code",
   "execution_count": 8,
   "metadata": {},
   "outputs": [],
   "source": [
    "# Idx       :         0,    1,     2,    3,     4,    5,     6,      7,    8,      9,     10,     11,     12    13     14\n",
    "# Parâmetros:      beta,  theta,   p, lambda, sigma, rho,  epsA, gammaA, epsI, gammaI, deathI, gammaD, deathD   mu    delta\n",
    "params_rio_base = (1e-7, 1/10, 1/4,    1/6,   1/7, 0.94, 1/100, 0.0996, 1/30, 0.0766, 0.0026, 0.0843, 0.0017, 1.3e-4, 2e-5)"
   ]
  },
  {
   "cell_type": "markdown",
   "metadata": {},
   "source": [
    "### Dados Reais para o Rio de Janeiro\n",
    "\n",
    "Dados de novos casos por dia de `Diagnosticados` e `Óbitos`"
   ]
  },
  {
   "cell_type": "code",
   "execution_count": 9,
   "metadata": {},
   "outputs": [],
   "source": [
    "# Do dia 01/04 até o dia 15/04, dados da prefeitura\n",
    "dados_Rio = [\n",
    "    [114, 110, 60, 115, 86, 42, 141, 198, 184, 175, 97, 91, 326, 71, 126],\n",
    "    [4,   7,  5,   2,  4,  5,  12,  14,   9,  10,  6,  8,   9, 25,  27]\n",
    "]"
   ]
  },
  {
   "cell_type": "markdown",
   "metadata": {},
   "source": [
    "## São Paulo"
   ]
  },
  {
   "cell_type": "markdown",
   "metadata": {},
   "source": [
    "### Dados iniciais para São Paulo\n",
    "\n",
    "Consideramos um primeiro caso olhando apenas para as cidades do Rio de Janeiro e de São Paulo, pelo fato de São Paulo ter mais dados disponíveis e assim ser mais fácil verificarmos se o modelo faz sentido.\n",
    "\n",
    "Usamos a mesma taxa de subnotificação do RJ e exposição.\n",
    "\n",
    "Os dados de `Diagnosticados` foram retirados do site da prefeitura: https://www.prefeitura.sp.gov.br/cidade/secretarias/saude/vigilancia_em_saude/doencas_e_agravos/coronavirus/index.php?p=295572\n",
    "\n",
    "Nos dados da prefeitura de SP não há informações de `Recuperados`, então fizemos uma estimativa com base na mesma proporção de `Recuperados` do RJ\n",
    "\n"
   ]
  },
  {
   "cell_type": "code",
   "execution_count": 10,
   "metadata": {},
   "outputs": [
    {
     "name": "stdout",
     "output_type": "stream",
     "text": [
      "Número de Recuperados Estimados na cidade: 49\n"
     ]
    }
   ],
   "source": [
    "taxa_correcao_Rio = diagn_Rio / recup_Rio\n",
    "print(f'Número de Recuperados Estimados na cidade: %d' % (int(1503/taxa_correcao_Rio)))"
   ]
  },
  {
   "cell_type": "code",
   "execution_count": 11,
   "metadata": {},
   "outputs": [],
   "source": [
    "# Dados para a cidade de São Paulo\n",
    "# IBGE 2019 (estimativa)\n",
    "pop_SP = 12.2e6 \n",
    "# 01 de Abril\n",
    "diagn_SP, recup_SP = 1503, 49\n",
    "infect_SP = diagn_SP*(taxa_subn-1)*(1 - prop_assint)\n",
    "assint_SP = diagn_SP*(taxa_subn-1)*prop_assint\n",
    "expostos_SP = diagn_SP*7\n",
    "quarentena_SP = 0.6 * pop_SP\n",
    "\n",
    "suscetiveis_SP = pop_SP- (quarentena_SP + expostos_SP + assint_SP + infect_SP + diagn_SP + recup_SP)"
   ]
  },
  {
   "cell_type": "markdown",
   "metadata": {},
   "source": [
    "### Parâmetros para São Paulo\n",
    "\n",
    "Usamos os mesmos parâmetros da cidade do Rio de Janeiro, modificando $\\beta$ para a população de SP."
   ]
  },
  {
   "cell_type": "code",
   "execution_count": 12,
   "metadata": {},
   "outputs": [],
   "source": [
    "# Idx       :         0,    1,     2,    3,     4,    5,     6,      7,    8,      9,     10,     11,     12    13     14\n",
    "# Parâmetros:      beta,  theta,   p, lambda, sigma, rho,  epsA, gammaA, epsI, gammaI, deathI, gammaD, deathD   mu    delta\n",
    "params_sp_base = (5e-8, 1/10, 1/4,    1/6,   1/7, 0.94, 1/100, 0.00996, 1/30, 0.0766, 0.0026, 0.0843, 0.0017, 7.2e-5, 1e-5)"
   ]
  },
  {
   "cell_type": "markdown",
   "metadata": {},
   "source": [
    "### Dados Reais para São Paulo\n",
    "\n",
    "Dados de novos casos por dia de `Diagnosticados` e `Óbitos`"
   ]
  },
  {
   "cell_type": "code",
   "execution_count": 13,
   "metadata": {},
   "outputs": [],
   "source": [
    "# Do dia 01/04 até o dia 15/04\n",
    "dados_SP = [ \n",
    "    [  17,  801,  408,  883,  142,  749,  634,  695,  547,  206,  220,\n",
    "         26,  162, 1031,  865],\n",
    "    [  24,   15,   33,    6,   25,\n",
    "         53,   44,   45,   26,   10,   23,   11,   64,   43,   47]\n",
    "] "
   ]
  },
  {
   "cell_type": "markdown",
   "metadata": {},
   "source": [
    "## Preparando os dados para o modelo"
   ]
  },
  {
   "cell_type": "markdown",
   "metadata": {},
   "source": [
    "### Condição Inicial\n",
    "\n",
    "A condição inicial das duas cidades é dada em uma lista concatenada `CI`, pois o metódo `solve_ivp` só aceita o parâmetro `y0` como uma lista de uma dimensão"
   ]
  },
  {
   "cell_type": "code",
   "execution_count": 14,
   "metadata": {},
   "outputs": [],
   "source": [
    "# condições iniciais\n",
    "CI_Rio = [suscetiveis_Rio, quarentena_Rio, expostos_Rio, assint_Rio, infect_Rio, diagn_Rio, recup_Rio]\n",
    "CI_SP  = [suscetiveis_SP, quarentena_SP, expostos_SP, assint_SP, infect_SP, diagn_SP, recup_SP]\n",
    "CI     = CI_Rio + CI_SP"
   ]
  },
  {
   "cell_type": "markdown",
   "metadata": {},
   "source": [
    "### Parâmetros\n",
    "\n",
    "Os parâmetros das duas cidades são dados em uma lista de listas de duas dimensões `params`, onde o primeiro elemento diz respeito à cidade A e o segundo elemento diz respeito à cidade B "
   ]
  },
  {
   "cell_type": "code",
   "execution_count": 15,
   "metadata": {},
   "outputs": [],
   "source": [
    "params = [[i,j] for i,j in zip(params_rio_base, params_sp_base)]"
   ]
  },
  {
   "cell_type": "code",
   "execution_count": 16,
   "metadata": {
    "scrolled": true
   },
   "outputs": [
    {
     "name": "stdout",
     "output_type": "stream",
     "text": [
      "População Saindo de SP por dia: 1000.40\n",
      "População Saindo do RJ por dia: 1007.84\n"
     ]
    }
   ],
   "source": [
    "print(f'População Saindo de SP por dia: %.2f' % (params_sp_base[-2]*pop_SP+params_sp_base[-1]*pop_SP))\n",
    "print(f'População Saindo do RJ por dia: %.2f' % (params_rio_base[-2]*pop_Rio+params_rio_base[-1]*pop_Rio))"
   ]
  },
  {
   "cell_type": "code",
   "execution_count": 17,
   "metadata": {},
   "outputs": [],
   "source": [
    "T_fim = len(dados_Rio[0])\n",
    "\n",
    "start = dt.datetime.strptime(\"01-04-2020\", \"%d-%m-%Y\")\n",
    "then = start + dt.timedelta(days=T_fim)\n",
    "days = mdates.drange(start,then,dt.timedelta(days=1))"
   ]
  },
  {
   "cell_type": "code",
   "execution_count": 18,
   "metadata": {},
   "outputs": [],
   "source": [
    "# Supondo mantida a quarentena\n",
    "f_rio_base = lambda t,v: G(t,v, params)\n",
    "results_base = solve_ivp(f_rio_base, (1,T_fim), CI, t_eval=range(1,T_fim+1))"
   ]
  },
  {
   "cell_type": "code",
   "execution_count": 19,
   "metadata": {},
   "outputs": [],
   "source": [
    "diagn = new_diagn(results_base.y, params)\n",
    "deaths = new_deaths(results_base.y, params)"
   ]
  },
  {
   "cell_type": "markdown",
   "metadata": {},
   "source": [
    "### Gráficos"
   ]
  },
  {
   "cell_type": "code",
   "execution_count": 20,
   "metadata": {},
   "outputs": [],
   "source": [
    "dates = [dt.datetime.strftime(mdates.num2date(i), '%d-%m').replace('-','/') for i in days]"
   ]
  },
  {
   "cell_type": "code",
   "execution_count": 49,
   "metadata": {},
   "outputs": [
    {
     "data": {
      "application/vnd.plotly.v1+json": {
       "config": {
        "plotlyServerURL": "https://plot.ly"
       },
       "data": [
        {
         "legendgroup": "dados reais",
         "marker": {
          "color": "cornflowerblue",
          "symbol": "x"
         },
         "name": "Dados Reais",
         "type": "scatter",
         "x": [
          "01/04",
          "02/04",
          "03/04",
          "04/04",
          "05/04",
          "06/04",
          "07/04",
          "08/04",
          "09/04",
          "10/04",
          "11/04",
          "12/04",
          "13/04",
          "14/04",
          "15/04"
         ],
         "xaxis": "x",
         "y": [
          114,
          110,
          60,
          115,
          86,
          42,
          141,
          198,
          184,
          175,
          97,
          91,
          326,
          71,
          126
         ],
         "yaxis": "y"
        },
        {
         "legendgroup": "modelo",
         "line": {
          "dash": "3px"
         },
         "marker": {
          "color": "tomato"
         },
         "name": "Modelo",
         "type": "scatter",
         "x": [
          "01/04",
          "02/04",
          "03/04",
          "04/04",
          "05/04",
          "06/04",
          "07/04",
          "08/04",
          "09/04",
          "10/04",
          "11/04",
          "12/04",
          "13/04",
          "14/04",
          "15/04"
         ],
         "xaxis": "x",
         "y": [
          71.55866666666665,
          84.49777028426837,
          95.32211880224749,
          104.71685861769615,
          113.26021971218867,
          121.41764965960459,
          129.4240494954155,
          137.48332964810936,
          145.80371628457675,
          154.54122043125165,
          163.75405474605984,
          173.50805500665797,
          183.88794144221785,
          194.99545443195512,
          206.88227147314308
         ],
         "yaxis": "y"
        },
        {
         "legendgroup": "dados reais",
         "marker": {
          "color": "cornflowerblue",
          "symbol": "x"
         },
         "name": "Dados reais",
         "showlegend": false,
         "type": "scatter",
         "x": [
          "01/04",
          "02/04",
          "03/04",
          "04/04",
          "05/04",
          "06/04",
          "07/04",
          "08/04",
          "09/04",
          "10/04",
          "11/04",
          "12/04",
          "13/04",
          "14/04",
          "15/04"
         ],
         "xaxis": "x2",
         "y": [
          17,
          801,
          408,
          883,
          142,
          749,
          634,
          695,
          547,
          206,
          220,
          26,
          162,
          1031,
          865
         ],
         "yaxis": "y2"
        },
        {
         "legendgroup": "modelo",
         "line": {
          "dash": "3px"
         },
         "marker": {
          "color": "tomato"
         },
         "name": "Modelo",
         "showlegend": false,
         "type": "scatter",
         "x": [
          "01/04",
          "02/04",
          "03/04",
          "04/04",
          "05/04",
          "06/04",
          "07/04",
          "08/04",
          "09/04",
          "10/04",
          "11/04",
          "12/04",
          "13/04",
          "14/04",
          "15/04"
         ],
         "xaxis": "x2",
         "y": [
          7.392,
          9.069653026585286,
          10.49402227595208,
          11.742100255119595,
          12.879133725883458,
          13.9579898230536,
          15.00638696390739,
          16.048522828238628,
          17.10891811734511,
          18.206299629499505,
          19.348648073264126,
          20.54466488832423,
          21.805008309989276,
          23.14209116219638,
          24.56280982763382
         ],
         "yaxis": "y2"
        },
        {
         "legendgroup": "dados reais",
         "marker": {
          "color": "cornflowerblue",
          "symbol": "x"
         },
         "name": "Dados reais",
         "showlegend": false,
         "type": "scatter",
         "x": [
          "01/04",
          "02/04",
          "03/04",
          "04/04",
          "05/04",
          "06/04",
          "07/04",
          "08/04",
          "09/04",
          "10/04",
          "11/04",
          "12/04",
          "13/04",
          "14/04",
          "15/04"
         ],
         "xaxis": "x3",
         "y": [
          4,
          7,
          5,
          2,
          4,
          5,
          12,
          14,
          9,
          10,
          6,
          8,
          9,
          25,
          27
         ],
         "yaxis": "y3"
        },
        {
         "legendgroup": "modelo",
         "line": {
          "dash": "3px"
         },
         "marker": {
          "color": "tomato"
         },
         "name": "Modelo",
         "showlegend": false,
         "type": "scatter",
         "x": [
          "01/04",
          "02/04",
          "03/04",
          "04/04",
          "05/04",
          "06/04",
          "07/04",
          "08/04",
          "09/04",
          "10/04",
          "11/04",
          "12/04",
          "13/04",
          "14/04",
          "15/04"
         ],
         "xaxis": "x3",
         "y": [
          3.721979999999999,
          5.047167511889162,
          6.195345346904234,
          7.218491348390951,
          8.160796190722461,
          9.058280909622544,
          9.930617246699446,
          10.795064883686909,
          11.668966893780183,
          12.565837228095459,
          13.492155116528943,
          14.454793647056604,
          15.461839258066465,
          16.522461307544194,
          17.642225738536826
         ],
         "yaxis": "y3"
        },
        {
         "legendgroup": "dados reais",
         "marker": {
          "color": "cornflowerblue",
          "symbol": "x"
         },
         "name": "Dados reais",
         "showlegend": false,
         "type": "scatter",
         "x": [
          "01/04",
          "02/04",
          "03/04",
          "04/04",
          "05/04",
          "06/04",
          "07/04",
          "08/04",
          "09/04",
          "10/04",
          "11/04",
          "12/04",
          "13/04",
          "14/04",
          "15/04"
         ],
         "xaxis": "x4",
         "y": [
          24,
          15,
          33,
          6,
          25,
          53,
          44,
          45,
          26,
          10,
          23,
          11,
          64,
          43,
          47
         ],
         "yaxis": "y4"
        },
        {
         "legendgroup": "modelo",
         "line": {
          "dash": "3px"
         },
         "marker": {
          "color": "tomato"
         },
         "name": "Modelo",
         "showlegend": false,
         "type": "scatter",
         "x": [
          "01/04",
          "02/04",
          "03/04",
          "04/04",
          "05/04",
          "06/04",
          "07/04",
          "08/04",
          "09/04",
          "10/04",
          "11/04",
          "12/04",
          "13/04",
          "14/04",
          "15/04"
         ],
         "xaxis": "x4",
         "y": [
          0.38447999999999993,
          0.5217180259258118,
          0.6414686671095639,
          0.749178645464116,
          0.8494771576714869,
          0.9461316745390542,
          1.0411568188121654,
          1.136323467359244,
          1.2334271923760933,
          1.3338618120055494,
          1.4382736964000855,
          1.5473627033002915,
          1.6619687856689136,
          1.7830578888818365,
          1.9112150183615477
         ],
         "yaxis": "y4"
        }
       ],
       "layout": {
        "annotations": [
         {
          "font": {
           "size": 16
          },
          "showarrow": false,
          "text": "Diagnosticados Rio de Janeiro",
          "x": 0.225,
          "xanchor": "center",
          "xref": "paper",
          "y": 1,
          "yanchor": "bottom",
          "yref": "paper"
         },
         {
          "font": {
           "size": 16
          },
          "showarrow": false,
          "text": "Diagnosticados São Paulo",
          "x": 0.775,
          "xanchor": "center",
          "xref": "paper",
          "y": 1,
          "yanchor": "bottom",
          "yref": "paper"
         },
         {
          "font": {
           "size": 16
          },
          "showarrow": false,
          "text": "Óbitos Rio de Janeiro",
          "x": 0.225,
          "xanchor": "center",
          "xref": "paper",
          "y": 0.425,
          "yanchor": "bottom",
          "yref": "paper"
         },
         {
          "font": {
           "size": 16
          },
          "showarrow": false,
          "text": "Óbitos São Paulo",
          "x": 0.775,
          "xanchor": "center",
          "xref": "paper",
          "y": 0.425,
          "yanchor": "bottom",
          "yref": "paper"
         }
        ],
        "height": 600,
        "template": {
         "data": {
          "bar": [
           {
            "error_x": {
             "color": "#2a3f5f"
            },
            "error_y": {
             "color": "#2a3f5f"
            },
            "marker": {
             "line": {
              "color": "#E5ECF6",
              "width": 0.5
             }
            },
            "type": "bar"
           }
          ],
          "barpolar": [
           {
            "marker": {
             "line": {
              "color": "#E5ECF6",
              "width": 0.5
             }
            },
            "type": "barpolar"
           }
          ],
          "carpet": [
           {
            "aaxis": {
             "endlinecolor": "#2a3f5f",
             "gridcolor": "white",
             "linecolor": "white",
             "minorgridcolor": "white",
             "startlinecolor": "#2a3f5f"
            },
            "baxis": {
             "endlinecolor": "#2a3f5f",
             "gridcolor": "white",
             "linecolor": "white",
             "minorgridcolor": "white",
             "startlinecolor": "#2a3f5f"
            },
            "type": "carpet"
           }
          ],
          "choropleth": [
           {
            "colorbar": {
             "outlinewidth": 0,
             "ticks": ""
            },
            "type": "choropleth"
           }
          ],
          "contour": [
           {
            "colorbar": {
             "outlinewidth": 0,
             "ticks": ""
            },
            "colorscale": [
             [
              0,
              "#0d0887"
             ],
             [
              0.1111111111111111,
              "#46039f"
             ],
             [
              0.2222222222222222,
              "#7201a8"
             ],
             [
              0.3333333333333333,
              "#9c179e"
             ],
             [
              0.4444444444444444,
              "#bd3786"
             ],
             [
              0.5555555555555556,
              "#d8576b"
             ],
             [
              0.6666666666666666,
              "#ed7953"
             ],
             [
              0.7777777777777778,
              "#fb9f3a"
             ],
             [
              0.8888888888888888,
              "#fdca26"
             ],
             [
              1,
              "#f0f921"
             ]
            ],
            "type": "contour"
           }
          ],
          "contourcarpet": [
           {
            "colorbar": {
             "outlinewidth": 0,
             "ticks": ""
            },
            "type": "contourcarpet"
           }
          ],
          "heatmap": [
           {
            "colorbar": {
             "outlinewidth": 0,
             "ticks": ""
            },
            "colorscale": [
             [
              0,
              "#0d0887"
             ],
             [
              0.1111111111111111,
              "#46039f"
             ],
             [
              0.2222222222222222,
              "#7201a8"
             ],
             [
              0.3333333333333333,
              "#9c179e"
             ],
             [
              0.4444444444444444,
              "#bd3786"
             ],
             [
              0.5555555555555556,
              "#d8576b"
             ],
             [
              0.6666666666666666,
              "#ed7953"
             ],
             [
              0.7777777777777778,
              "#fb9f3a"
             ],
             [
              0.8888888888888888,
              "#fdca26"
             ],
             [
              1,
              "#f0f921"
             ]
            ],
            "type": "heatmap"
           }
          ],
          "heatmapgl": [
           {
            "colorbar": {
             "outlinewidth": 0,
             "ticks": ""
            },
            "colorscale": [
             [
              0,
              "#0d0887"
             ],
             [
              0.1111111111111111,
              "#46039f"
             ],
             [
              0.2222222222222222,
              "#7201a8"
             ],
             [
              0.3333333333333333,
              "#9c179e"
             ],
             [
              0.4444444444444444,
              "#bd3786"
             ],
             [
              0.5555555555555556,
              "#d8576b"
             ],
             [
              0.6666666666666666,
              "#ed7953"
             ],
             [
              0.7777777777777778,
              "#fb9f3a"
             ],
             [
              0.8888888888888888,
              "#fdca26"
             ],
             [
              1,
              "#f0f921"
             ]
            ],
            "type": "heatmapgl"
           }
          ],
          "histogram": [
           {
            "marker": {
             "colorbar": {
              "outlinewidth": 0,
              "ticks": ""
             }
            },
            "type": "histogram"
           }
          ],
          "histogram2d": [
           {
            "colorbar": {
             "outlinewidth": 0,
             "ticks": ""
            },
            "colorscale": [
             [
              0,
              "#0d0887"
             ],
             [
              0.1111111111111111,
              "#46039f"
             ],
             [
              0.2222222222222222,
              "#7201a8"
             ],
             [
              0.3333333333333333,
              "#9c179e"
             ],
             [
              0.4444444444444444,
              "#bd3786"
             ],
             [
              0.5555555555555556,
              "#d8576b"
             ],
             [
              0.6666666666666666,
              "#ed7953"
             ],
             [
              0.7777777777777778,
              "#fb9f3a"
             ],
             [
              0.8888888888888888,
              "#fdca26"
             ],
             [
              1,
              "#f0f921"
             ]
            ],
            "type": "histogram2d"
           }
          ],
          "histogram2dcontour": [
           {
            "colorbar": {
             "outlinewidth": 0,
             "ticks": ""
            },
            "colorscale": [
             [
              0,
              "#0d0887"
             ],
             [
              0.1111111111111111,
              "#46039f"
             ],
             [
              0.2222222222222222,
              "#7201a8"
             ],
             [
              0.3333333333333333,
              "#9c179e"
             ],
             [
              0.4444444444444444,
              "#bd3786"
             ],
             [
              0.5555555555555556,
              "#d8576b"
             ],
             [
              0.6666666666666666,
              "#ed7953"
             ],
             [
              0.7777777777777778,
              "#fb9f3a"
             ],
             [
              0.8888888888888888,
              "#fdca26"
             ],
             [
              1,
              "#f0f921"
             ]
            ],
            "type": "histogram2dcontour"
           }
          ],
          "mesh3d": [
           {
            "colorbar": {
             "outlinewidth": 0,
             "ticks": ""
            },
            "type": "mesh3d"
           }
          ],
          "parcoords": [
           {
            "line": {
             "colorbar": {
              "outlinewidth": 0,
              "ticks": ""
             }
            },
            "type": "parcoords"
           }
          ],
          "pie": [
           {
            "automargin": true,
            "type": "pie"
           }
          ],
          "scatter": [
           {
            "marker": {
             "colorbar": {
              "outlinewidth": 0,
              "ticks": ""
             }
            },
            "type": "scatter"
           }
          ],
          "scatter3d": [
           {
            "line": {
             "colorbar": {
              "outlinewidth": 0,
              "ticks": ""
             }
            },
            "marker": {
             "colorbar": {
              "outlinewidth": 0,
              "ticks": ""
             }
            },
            "type": "scatter3d"
           }
          ],
          "scattercarpet": [
           {
            "marker": {
             "colorbar": {
              "outlinewidth": 0,
              "ticks": ""
             }
            },
            "type": "scattercarpet"
           }
          ],
          "scattergeo": [
           {
            "marker": {
             "colorbar": {
              "outlinewidth": 0,
              "ticks": ""
             }
            },
            "type": "scattergeo"
           }
          ],
          "scattergl": [
           {
            "marker": {
             "colorbar": {
              "outlinewidth": 0,
              "ticks": ""
             }
            },
            "type": "scattergl"
           }
          ],
          "scattermapbox": [
           {
            "marker": {
             "colorbar": {
              "outlinewidth": 0,
              "ticks": ""
             }
            },
            "type": "scattermapbox"
           }
          ],
          "scatterpolar": [
           {
            "marker": {
             "colorbar": {
              "outlinewidth": 0,
              "ticks": ""
             }
            },
            "type": "scatterpolar"
           }
          ],
          "scatterpolargl": [
           {
            "marker": {
             "colorbar": {
              "outlinewidth": 0,
              "ticks": ""
             }
            },
            "type": "scatterpolargl"
           }
          ],
          "scatterternary": [
           {
            "marker": {
             "colorbar": {
              "outlinewidth": 0,
              "ticks": ""
             }
            },
            "type": "scatterternary"
           }
          ],
          "surface": [
           {
            "colorbar": {
             "outlinewidth": 0,
             "ticks": ""
            },
            "colorscale": [
             [
              0,
              "#0d0887"
             ],
             [
              0.1111111111111111,
              "#46039f"
             ],
             [
              0.2222222222222222,
              "#7201a8"
             ],
             [
              0.3333333333333333,
              "#9c179e"
             ],
             [
              0.4444444444444444,
              "#bd3786"
             ],
             [
              0.5555555555555556,
              "#d8576b"
             ],
             [
              0.6666666666666666,
              "#ed7953"
             ],
             [
              0.7777777777777778,
              "#fb9f3a"
             ],
             [
              0.8888888888888888,
              "#fdca26"
             ],
             [
              1,
              "#f0f921"
             ]
            ],
            "type": "surface"
           }
          ],
          "table": [
           {
            "cells": {
             "fill": {
              "color": "#EBF0F8"
             },
             "line": {
              "color": "white"
             }
            },
            "header": {
             "fill": {
              "color": "#C8D4E3"
             },
             "line": {
              "color": "white"
             }
            },
            "type": "table"
           }
          ]
         },
         "layout": {
          "annotationdefaults": {
           "arrowcolor": "#2a3f5f",
           "arrowhead": 0,
           "arrowwidth": 1
          },
          "coloraxis": {
           "colorbar": {
            "outlinewidth": 0,
            "ticks": ""
           }
          },
          "colorscale": {
           "diverging": [
            [
             0,
             "#8e0152"
            ],
            [
             0.1,
             "#c51b7d"
            ],
            [
             0.2,
             "#de77ae"
            ],
            [
             0.3,
             "#f1b6da"
            ],
            [
             0.4,
             "#fde0ef"
            ],
            [
             0.5,
             "#f7f7f7"
            ],
            [
             0.6,
             "#e6f5d0"
            ],
            [
             0.7,
             "#b8e186"
            ],
            [
             0.8,
             "#7fbc41"
            ],
            [
             0.9,
             "#4d9221"
            ],
            [
             1,
             "#276419"
            ]
           ],
           "sequential": [
            [
             0,
             "#0d0887"
            ],
            [
             0.1111111111111111,
             "#46039f"
            ],
            [
             0.2222222222222222,
             "#7201a8"
            ],
            [
             0.3333333333333333,
             "#9c179e"
            ],
            [
             0.4444444444444444,
             "#bd3786"
            ],
            [
             0.5555555555555556,
             "#d8576b"
            ],
            [
             0.6666666666666666,
             "#ed7953"
            ],
            [
             0.7777777777777778,
             "#fb9f3a"
            ],
            [
             0.8888888888888888,
             "#fdca26"
            ],
            [
             1,
             "#f0f921"
            ]
           ],
           "sequentialminus": [
            [
             0,
             "#0d0887"
            ],
            [
             0.1111111111111111,
             "#46039f"
            ],
            [
             0.2222222222222222,
             "#7201a8"
            ],
            [
             0.3333333333333333,
             "#9c179e"
            ],
            [
             0.4444444444444444,
             "#bd3786"
            ],
            [
             0.5555555555555556,
             "#d8576b"
            ],
            [
             0.6666666666666666,
             "#ed7953"
            ],
            [
             0.7777777777777778,
             "#fb9f3a"
            ],
            [
             0.8888888888888888,
             "#fdca26"
            ],
            [
             1,
             "#f0f921"
            ]
           ]
          },
          "colorway": [
           "#636efa",
           "#EF553B",
           "#00cc96",
           "#ab63fa",
           "#FFA15A",
           "#19d3f3",
           "#FF6692",
           "#B6E880",
           "#FF97FF",
           "#FECB52"
          ],
          "font": {
           "color": "#2a3f5f"
          },
          "geo": {
           "bgcolor": "white",
           "lakecolor": "white",
           "landcolor": "#E5ECF6",
           "showlakes": true,
           "showland": true,
           "subunitcolor": "white"
          },
          "hoverlabel": {
           "align": "left"
          },
          "hovermode": "closest",
          "mapbox": {
           "style": "light"
          },
          "paper_bgcolor": "white",
          "plot_bgcolor": "#E5ECF6",
          "polar": {
           "angularaxis": {
            "gridcolor": "white",
            "linecolor": "white",
            "ticks": ""
           },
           "bgcolor": "#E5ECF6",
           "radialaxis": {
            "gridcolor": "white",
            "linecolor": "white",
            "ticks": ""
           }
          },
          "scene": {
           "xaxis": {
            "backgroundcolor": "#E5ECF6",
            "gridcolor": "white",
            "gridwidth": 2,
            "linecolor": "white",
            "showbackground": true,
            "ticks": "",
            "zerolinecolor": "white"
           },
           "yaxis": {
            "backgroundcolor": "#E5ECF6",
            "gridcolor": "white",
            "gridwidth": 2,
            "linecolor": "white",
            "showbackground": true,
            "ticks": "",
            "zerolinecolor": "white"
           },
           "zaxis": {
            "backgroundcolor": "#E5ECF6",
            "gridcolor": "white",
            "gridwidth": 2,
            "linecolor": "white",
            "showbackground": true,
            "ticks": "",
            "zerolinecolor": "white"
           }
          },
          "shapedefaults": {
           "line": {
            "color": "#2a3f5f"
           }
          },
          "ternary": {
           "aaxis": {
            "gridcolor": "white",
            "linecolor": "white",
            "ticks": ""
           },
           "baxis": {
            "gridcolor": "white",
            "linecolor": "white",
            "ticks": ""
           },
           "bgcolor": "#E5ECF6",
           "caxis": {
            "gridcolor": "white",
            "linecolor": "white",
            "ticks": ""
           }
          },
          "title": {
           "x": 0.05
          },
          "xaxis": {
           "automargin": true,
           "gridcolor": "white",
           "linecolor": "white",
           "ticks": "",
           "title": {
            "standoff": 15
           },
           "zerolinecolor": "white",
           "zerolinewidth": 2
          },
          "yaxis": {
           "automargin": true,
           "gridcolor": "white",
           "linecolor": "white",
           "ticks": "",
           "title": {
            "standoff": 15
           },
           "zerolinecolor": "white",
           "zerolinewidth": 2
          }
         }
        },
        "title": {
         "text": "Comparação entre regimes: abrir por dois dias ou não abrir",
         "x": 0.2
        },
        "width": 950,
        "xaxis": {
         "anchor": "y",
         "domain": [
          0,
          0.45
         ],
         "tickangle": 45
        },
        "xaxis2": {
         "anchor": "y2",
         "domain": [
          0.55,
          1
         ],
         "tickangle": 45
        },
        "xaxis3": {
         "anchor": "y3",
         "domain": [
          0,
          0.45
         ],
         "tickangle": 45,
         "title": {
          "text": "Dias"
         }
        },
        "xaxis4": {
         "anchor": "y4",
         "domain": [
          0.55,
          1
         ],
         "tickangle": 45,
         "title": {
          "text": "Dias"
         }
        },
        "yaxis": {
         "anchor": "x",
         "domain": [
          0.575,
          1
         ],
         "title": {
          "text": "Casos diagnosticados"
         }
        },
        "yaxis2": {
         "anchor": "x2",
         "domain": [
          0.575,
          1
         ]
        },
        "yaxis3": {
         "anchor": "x3",
         "domain": [
          0,
          0.425
         ],
         "title": {
          "text": "Óbitos"
         }
        },
        "yaxis4": {
         "anchor": "x4",
         "domain": [
          0,
          0.425
         ]
        }
       }
      },
      "text/html": [
       "<div>\n",
       "        \n",
       "        \n",
       "            <div id=\"a40119f7-0670-4549-a1eb-ccecd354ed74\" class=\"plotly-graph-div\" style=\"height:600px; width:950px;\"></div>\n",
       "            <script type=\"text/javascript\">\n",
       "                require([\"plotly\"], function(Plotly) {\n",
       "                    window.PLOTLYENV=window.PLOTLYENV || {};\n",
       "                    \n",
       "                if (document.getElementById(\"a40119f7-0670-4549-a1eb-ccecd354ed74\")) {\n",
       "                    Plotly.newPlot(\n",
       "                        'a40119f7-0670-4549-a1eb-ccecd354ed74',\n",
       "                        [{\"legendgroup\": \"dados reais\", \"marker\": {\"color\": \"cornflowerblue\", \"symbol\": \"x\"}, \"name\": \"Dados Reais\", \"type\": \"scatter\", \"x\": [\"01/04\", \"02/04\", \"03/04\", \"04/04\", \"05/04\", \"06/04\", \"07/04\", \"08/04\", \"09/04\", \"10/04\", \"11/04\", \"12/04\", \"13/04\", \"14/04\", \"15/04\"], \"xaxis\": \"x\", \"y\": [114, 110, 60, 115, 86, 42, 141, 198, 184, 175, 97, 91, 326, 71, 126], \"yaxis\": \"y\"}, {\"legendgroup\": \"modelo\", \"line\": {\"dash\": \"3px\"}, \"marker\": {\"color\": \"tomato\"}, \"name\": \"Modelo\", \"type\": \"scatter\", \"x\": [\"01/04\", \"02/04\", \"03/04\", \"04/04\", \"05/04\", \"06/04\", \"07/04\", \"08/04\", \"09/04\", \"10/04\", \"11/04\", \"12/04\", \"13/04\", \"14/04\", \"15/04\"], \"xaxis\": \"x\", \"y\": [71.55866666666665, 84.49777028426837, 95.32211880224749, 104.71685861769615, 113.26021971218867, 121.41764965960459, 129.4240494954155, 137.48332964810936, 145.80371628457675, 154.54122043125165, 163.75405474605984, 173.50805500665797, 183.88794144221785, 194.99545443195512, 206.88227147314308], \"yaxis\": \"y\"}, {\"legendgroup\": \"dados reais\", \"marker\": {\"color\": \"cornflowerblue\", \"symbol\": \"x\"}, \"name\": \"Dados reais\", \"showlegend\": false, \"type\": \"scatter\", \"x\": [\"01/04\", \"02/04\", \"03/04\", \"04/04\", \"05/04\", \"06/04\", \"07/04\", \"08/04\", \"09/04\", \"10/04\", \"11/04\", \"12/04\", \"13/04\", \"14/04\", \"15/04\"], \"xaxis\": \"x2\", \"y\": [17, 801, 408, 883, 142, 749, 634, 695, 547, 206, 220, 26, 162, 1031, 865], \"yaxis\": \"y2\"}, {\"legendgroup\": \"modelo\", \"line\": {\"dash\": \"3px\"}, \"marker\": {\"color\": \"tomato\"}, \"name\": \"Modelo\", \"showlegend\": false, \"type\": \"scatter\", \"x\": [\"01/04\", \"02/04\", \"03/04\", \"04/04\", \"05/04\", \"06/04\", \"07/04\", \"08/04\", \"09/04\", \"10/04\", \"11/04\", \"12/04\", \"13/04\", \"14/04\", \"15/04\"], \"xaxis\": \"x2\", \"y\": [7.392, 9.069653026585286, 10.49402227595208, 11.742100255119595, 12.879133725883458, 13.9579898230536, 15.00638696390739, 16.048522828238628, 17.10891811734511, 18.206299629499505, 19.348648073264126, 20.54466488832423, 21.805008309989276, 23.14209116219638, 24.56280982763382], \"yaxis\": \"y2\"}, {\"legendgroup\": \"dados reais\", \"marker\": {\"color\": \"cornflowerblue\", \"symbol\": \"x\"}, \"name\": \"Dados reais\", \"showlegend\": false, \"type\": \"scatter\", \"x\": [\"01/04\", \"02/04\", \"03/04\", \"04/04\", \"05/04\", \"06/04\", \"07/04\", \"08/04\", \"09/04\", \"10/04\", \"11/04\", \"12/04\", \"13/04\", \"14/04\", \"15/04\"], \"xaxis\": \"x3\", \"y\": [4, 7, 5, 2, 4, 5, 12, 14, 9, 10, 6, 8, 9, 25, 27], \"yaxis\": \"y3\"}, {\"legendgroup\": \"modelo\", \"line\": {\"dash\": \"3px\"}, \"marker\": {\"color\": \"tomato\"}, \"name\": \"Modelo\", \"showlegend\": false, \"type\": \"scatter\", \"x\": [\"01/04\", \"02/04\", \"03/04\", \"04/04\", \"05/04\", \"06/04\", \"07/04\", \"08/04\", \"09/04\", \"10/04\", \"11/04\", \"12/04\", \"13/04\", \"14/04\", \"15/04\"], \"xaxis\": \"x3\", \"y\": [3.721979999999999, 5.047167511889162, 6.195345346904234, 7.218491348390951, 8.160796190722461, 9.058280909622544, 9.930617246699446, 10.795064883686909, 11.668966893780183, 12.565837228095459, 13.492155116528943, 14.454793647056604, 15.461839258066465, 16.522461307544194, 17.642225738536826], \"yaxis\": \"y3\"}, {\"legendgroup\": \"dados reais\", \"marker\": {\"color\": \"cornflowerblue\", \"symbol\": \"x\"}, \"name\": \"Dados reais\", \"showlegend\": false, \"type\": \"scatter\", \"x\": [\"01/04\", \"02/04\", \"03/04\", \"04/04\", \"05/04\", \"06/04\", \"07/04\", \"08/04\", \"09/04\", \"10/04\", \"11/04\", \"12/04\", \"13/04\", \"14/04\", \"15/04\"], \"xaxis\": \"x4\", \"y\": [24, 15, 33, 6, 25, 53, 44, 45, 26, 10, 23, 11, 64, 43, 47], \"yaxis\": \"y4\"}, {\"legendgroup\": \"modelo\", \"line\": {\"dash\": \"3px\"}, \"marker\": {\"color\": \"tomato\"}, \"name\": \"Modelo\", \"showlegend\": false, \"type\": \"scatter\", \"x\": [\"01/04\", \"02/04\", \"03/04\", \"04/04\", \"05/04\", \"06/04\", \"07/04\", \"08/04\", \"09/04\", \"10/04\", \"11/04\", \"12/04\", \"13/04\", \"14/04\", \"15/04\"], \"xaxis\": \"x4\", \"y\": [0.38447999999999993, 0.5217180259258118, 0.6414686671095639, 0.749178645464116, 0.8494771576714869, 0.9461316745390542, 1.0411568188121654, 1.136323467359244, 1.2334271923760933, 1.3338618120055494, 1.4382736964000855, 1.5473627033002915, 1.6619687856689136, 1.7830578888818365, 1.9112150183615477], \"yaxis\": \"y4\"}],\n",
       "                        {\"annotations\": [{\"font\": {\"size\": 16}, \"showarrow\": false, \"text\": \"Diagnosticados Rio de Janeiro\", \"x\": 0.225, \"xanchor\": \"center\", \"xref\": \"paper\", \"y\": 1.0, \"yanchor\": \"bottom\", \"yref\": \"paper\"}, {\"font\": {\"size\": 16}, \"showarrow\": false, \"text\": \"Diagnosticados S\\u00e3o Paulo\", \"x\": 0.775, \"xanchor\": \"center\", \"xref\": \"paper\", \"y\": 1.0, \"yanchor\": \"bottom\", \"yref\": \"paper\"}, {\"font\": {\"size\": 16}, \"showarrow\": false, \"text\": \"\\u00d3bitos Rio de Janeiro\", \"x\": 0.225, \"xanchor\": \"center\", \"xref\": \"paper\", \"y\": 0.425, \"yanchor\": \"bottom\", \"yref\": \"paper\"}, {\"font\": {\"size\": 16}, \"showarrow\": false, \"text\": \"\\u00d3bitos S\\u00e3o Paulo\", \"x\": 0.775, \"xanchor\": \"center\", \"xref\": \"paper\", \"y\": 0.425, \"yanchor\": \"bottom\", \"yref\": \"paper\"}], \"height\": 600, \"template\": {\"data\": {\"bar\": [{\"error_x\": {\"color\": \"#2a3f5f\"}, \"error_y\": {\"color\": \"#2a3f5f\"}, \"marker\": {\"line\": {\"color\": \"#E5ECF6\", \"width\": 0.5}}, \"type\": \"bar\"}], \"barpolar\": [{\"marker\": {\"line\": {\"color\": \"#E5ECF6\", \"width\": 0.5}}, \"type\": \"barpolar\"}], \"carpet\": [{\"aaxis\": {\"endlinecolor\": \"#2a3f5f\", \"gridcolor\": \"white\", \"linecolor\": \"white\", \"minorgridcolor\": \"white\", \"startlinecolor\": \"#2a3f5f\"}, \"baxis\": {\"endlinecolor\": \"#2a3f5f\", \"gridcolor\": \"white\", \"linecolor\": \"white\", \"minorgridcolor\": \"white\", \"startlinecolor\": \"#2a3f5f\"}, \"type\": \"carpet\"}], \"choropleth\": [{\"colorbar\": {\"outlinewidth\": 0, \"ticks\": \"\"}, \"type\": \"choropleth\"}], \"contour\": [{\"colorbar\": {\"outlinewidth\": 0, \"ticks\": \"\"}, \"colorscale\": [[0.0, \"#0d0887\"], [0.1111111111111111, \"#46039f\"], [0.2222222222222222, \"#7201a8\"], [0.3333333333333333, \"#9c179e\"], [0.4444444444444444, \"#bd3786\"], [0.5555555555555556, \"#d8576b\"], [0.6666666666666666, \"#ed7953\"], [0.7777777777777778, \"#fb9f3a\"], [0.8888888888888888, \"#fdca26\"], [1.0, \"#f0f921\"]], \"type\": \"contour\"}], \"contourcarpet\": [{\"colorbar\": {\"outlinewidth\": 0, \"ticks\": \"\"}, \"type\": \"contourcarpet\"}], \"heatmap\": [{\"colorbar\": {\"outlinewidth\": 0, \"ticks\": \"\"}, \"colorscale\": [[0.0, \"#0d0887\"], [0.1111111111111111, \"#46039f\"], [0.2222222222222222, \"#7201a8\"], [0.3333333333333333, \"#9c179e\"], [0.4444444444444444, \"#bd3786\"], [0.5555555555555556, \"#d8576b\"], [0.6666666666666666, \"#ed7953\"], [0.7777777777777778, \"#fb9f3a\"], [0.8888888888888888, \"#fdca26\"], [1.0, \"#f0f921\"]], \"type\": \"heatmap\"}], \"heatmapgl\": [{\"colorbar\": {\"outlinewidth\": 0, \"ticks\": \"\"}, \"colorscale\": [[0.0, \"#0d0887\"], [0.1111111111111111, \"#46039f\"], [0.2222222222222222, \"#7201a8\"], [0.3333333333333333, \"#9c179e\"], [0.4444444444444444, \"#bd3786\"], [0.5555555555555556, \"#d8576b\"], [0.6666666666666666, \"#ed7953\"], [0.7777777777777778, \"#fb9f3a\"], [0.8888888888888888, \"#fdca26\"], [1.0, \"#f0f921\"]], \"type\": \"heatmapgl\"}], \"histogram\": [{\"marker\": {\"colorbar\": {\"outlinewidth\": 0, \"ticks\": \"\"}}, \"type\": \"histogram\"}], \"histogram2d\": [{\"colorbar\": {\"outlinewidth\": 0, \"ticks\": \"\"}, \"colorscale\": [[0.0, \"#0d0887\"], [0.1111111111111111, \"#46039f\"], [0.2222222222222222, \"#7201a8\"], [0.3333333333333333, \"#9c179e\"], [0.4444444444444444, \"#bd3786\"], [0.5555555555555556, \"#d8576b\"], [0.6666666666666666, \"#ed7953\"], [0.7777777777777778, \"#fb9f3a\"], [0.8888888888888888, \"#fdca26\"], [1.0, \"#f0f921\"]], \"type\": \"histogram2d\"}], \"histogram2dcontour\": [{\"colorbar\": {\"outlinewidth\": 0, \"ticks\": \"\"}, \"colorscale\": [[0.0, \"#0d0887\"], [0.1111111111111111, \"#46039f\"], [0.2222222222222222, \"#7201a8\"], [0.3333333333333333, \"#9c179e\"], [0.4444444444444444, \"#bd3786\"], [0.5555555555555556, \"#d8576b\"], [0.6666666666666666, \"#ed7953\"], [0.7777777777777778, \"#fb9f3a\"], [0.8888888888888888, \"#fdca26\"], [1.0, \"#f0f921\"]], \"type\": \"histogram2dcontour\"}], \"mesh3d\": [{\"colorbar\": {\"outlinewidth\": 0, \"ticks\": \"\"}, \"type\": \"mesh3d\"}], \"parcoords\": [{\"line\": {\"colorbar\": {\"outlinewidth\": 0, \"ticks\": \"\"}}, \"type\": \"parcoords\"}], \"pie\": [{\"automargin\": true, \"type\": \"pie\"}], \"scatter\": [{\"marker\": {\"colorbar\": {\"outlinewidth\": 0, \"ticks\": \"\"}}, \"type\": \"scatter\"}], \"scatter3d\": [{\"line\": {\"colorbar\": {\"outlinewidth\": 0, \"ticks\": \"\"}}, \"marker\": {\"colorbar\": {\"outlinewidth\": 0, \"ticks\": \"\"}}, \"type\": \"scatter3d\"}], \"scattercarpet\": [{\"marker\": {\"colorbar\": {\"outlinewidth\": 0, \"ticks\": \"\"}}, \"type\": \"scattercarpet\"}], \"scattergeo\": [{\"marker\": {\"colorbar\": {\"outlinewidth\": 0, \"ticks\": \"\"}}, \"type\": \"scattergeo\"}], \"scattergl\": [{\"marker\": {\"colorbar\": {\"outlinewidth\": 0, \"ticks\": \"\"}}, \"type\": \"scattergl\"}], \"scattermapbox\": [{\"marker\": {\"colorbar\": {\"outlinewidth\": 0, \"ticks\": \"\"}}, \"type\": \"scattermapbox\"}], \"scatterpolar\": [{\"marker\": {\"colorbar\": {\"outlinewidth\": 0, \"ticks\": \"\"}}, \"type\": \"scatterpolar\"}], \"scatterpolargl\": [{\"marker\": {\"colorbar\": {\"outlinewidth\": 0, \"ticks\": \"\"}}, \"type\": \"scatterpolargl\"}], \"scatterternary\": [{\"marker\": {\"colorbar\": {\"outlinewidth\": 0, \"ticks\": \"\"}}, \"type\": \"scatterternary\"}], \"surface\": [{\"colorbar\": {\"outlinewidth\": 0, \"ticks\": \"\"}, \"colorscale\": [[0.0, \"#0d0887\"], [0.1111111111111111, \"#46039f\"], [0.2222222222222222, \"#7201a8\"], [0.3333333333333333, \"#9c179e\"], [0.4444444444444444, \"#bd3786\"], [0.5555555555555556, \"#d8576b\"], [0.6666666666666666, \"#ed7953\"], [0.7777777777777778, \"#fb9f3a\"], [0.8888888888888888, \"#fdca26\"], [1.0, \"#f0f921\"]], \"type\": \"surface\"}], \"table\": [{\"cells\": {\"fill\": {\"color\": \"#EBF0F8\"}, \"line\": {\"color\": \"white\"}}, \"header\": {\"fill\": {\"color\": \"#C8D4E3\"}, \"line\": {\"color\": \"white\"}}, \"type\": \"table\"}]}, \"layout\": {\"annotationdefaults\": {\"arrowcolor\": \"#2a3f5f\", \"arrowhead\": 0, \"arrowwidth\": 1}, \"coloraxis\": {\"colorbar\": {\"outlinewidth\": 0, \"ticks\": \"\"}}, \"colorscale\": {\"diverging\": [[0, \"#8e0152\"], [0.1, \"#c51b7d\"], [0.2, \"#de77ae\"], [0.3, \"#f1b6da\"], [0.4, \"#fde0ef\"], [0.5, \"#f7f7f7\"], [0.6, \"#e6f5d0\"], [0.7, \"#b8e186\"], [0.8, \"#7fbc41\"], [0.9, \"#4d9221\"], [1, \"#276419\"]], \"sequential\": [[0.0, \"#0d0887\"], [0.1111111111111111, \"#46039f\"], [0.2222222222222222, \"#7201a8\"], [0.3333333333333333, \"#9c179e\"], [0.4444444444444444, \"#bd3786\"], [0.5555555555555556, \"#d8576b\"], [0.6666666666666666, \"#ed7953\"], [0.7777777777777778, \"#fb9f3a\"], [0.8888888888888888, \"#fdca26\"], [1.0, \"#f0f921\"]], \"sequentialminus\": [[0.0, \"#0d0887\"], [0.1111111111111111, \"#46039f\"], [0.2222222222222222, \"#7201a8\"], [0.3333333333333333, \"#9c179e\"], [0.4444444444444444, \"#bd3786\"], [0.5555555555555556, \"#d8576b\"], [0.6666666666666666, \"#ed7953\"], [0.7777777777777778, \"#fb9f3a\"], [0.8888888888888888, \"#fdca26\"], [1.0, \"#f0f921\"]]}, \"colorway\": [\"#636efa\", \"#EF553B\", \"#00cc96\", \"#ab63fa\", \"#FFA15A\", \"#19d3f3\", \"#FF6692\", \"#B6E880\", \"#FF97FF\", \"#FECB52\"], \"font\": {\"color\": \"#2a3f5f\"}, \"geo\": {\"bgcolor\": \"white\", \"lakecolor\": \"white\", \"landcolor\": \"#E5ECF6\", \"showlakes\": true, \"showland\": true, \"subunitcolor\": \"white\"}, \"hoverlabel\": {\"align\": \"left\"}, \"hovermode\": \"closest\", \"mapbox\": {\"style\": \"light\"}, \"paper_bgcolor\": \"white\", \"plot_bgcolor\": \"#E5ECF6\", \"polar\": {\"angularaxis\": {\"gridcolor\": \"white\", \"linecolor\": \"white\", \"ticks\": \"\"}, \"bgcolor\": \"#E5ECF6\", \"radialaxis\": {\"gridcolor\": \"white\", \"linecolor\": \"white\", \"ticks\": \"\"}}, \"scene\": {\"xaxis\": {\"backgroundcolor\": \"#E5ECF6\", \"gridcolor\": \"white\", \"gridwidth\": 2, \"linecolor\": \"white\", \"showbackground\": true, \"ticks\": \"\", \"zerolinecolor\": \"white\"}, \"yaxis\": {\"backgroundcolor\": \"#E5ECF6\", \"gridcolor\": \"white\", \"gridwidth\": 2, \"linecolor\": \"white\", \"showbackground\": true, \"ticks\": \"\", \"zerolinecolor\": \"white\"}, \"zaxis\": {\"backgroundcolor\": \"#E5ECF6\", \"gridcolor\": \"white\", \"gridwidth\": 2, \"linecolor\": \"white\", \"showbackground\": true, \"ticks\": \"\", \"zerolinecolor\": \"white\"}}, \"shapedefaults\": {\"line\": {\"color\": \"#2a3f5f\"}}, \"ternary\": {\"aaxis\": {\"gridcolor\": \"white\", \"linecolor\": \"white\", \"ticks\": \"\"}, \"baxis\": {\"gridcolor\": \"white\", \"linecolor\": \"white\", \"ticks\": \"\"}, \"bgcolor\": \"#E5ECF6\", \"caxis\": {\"gridcolor\": \"white\", \"linecolor\": \"white\", \"ticks\": \"\"}}, \"title\": {\"x\": 0.05}, \"xaxis\": {\"automargin\": true, \"gridcolor\": \"white\", \"linecolor\": \"white\", \"ticks\": \"\", \"title\": {\"standoff\": 15}, \"zerolinecolor\": \"white\", \"zerolinewidth\": 2}, \"yaxis\": {\"automargin\": true, \"gridcolor\": \"white\", \"linecolor\": \"white\", \"ticks\": \"\", \"title\": {\"standoff\": 15}, \"zerolinecolor\": \"white\", \"zerolinewidth\": 2}}}, \"title\": {\"text\": \"Compara\\u00e7\\u00e3o entre regimes: abrir por dois dias ou n\\u00e3o abrir\", \"x\": 0.2}, \"width\": 950, \"xaxis\": {\"anchor\": \"y\", \"domain\": [0.0, 0.45], \"tickangle\": 45}, \"xaxis2\": {\"anchor\": \"y2\", \"domain\": [0.55, 1.0], \"tickangle\": 45}, \"xaxis3\": {\"anchor\": \"y3\", \"domain\": [0.0, 0.45], \"tickangle\": 45, \"title\": {\"text\": \"Dias\"}}, \"xaxis4\": {\"anchor\": \"y4\", \"domain\": [0.55, 1.0], \"tickangle\": 45, \"title\": {\"text\": \"Dias\"}}, \"yaxis\": {\"anchor\": \"x\", \"domain\": [0.575, 1.0], \"title\": {\"text\": \"Casos diagnosticados\"}}, \"yaxis2\": {\"anchor\": \"x2\", \"domain\": [0.575, 1.0]}, \"yaxis3\": {\"anchor\": \"x3\", \"domain\": [0.0, 0.425], \"title\": {\"text\": \"\\u00d3bitos\"}}, \"yaxis4\": {\"anchor\": \"x4\", \"domain\": [0.0, 0.425]}},\n",
       "                        {\"responsive\": true}\n",
       "                    ).then(function(){\n",
       "                            \n",
       "var gd = document.getElementById('a40119f7-0670-4549-a1eb-ccecd354ed74');\n",
       "var x = new MutationObserver(function (mutations, observer) {{\n",
       "        var display = window.getComputedStyle(gd).display;\n",
       "        if (!display || display === 'none') {{\n",
       "            console.log([gd, 'removed!']);\n",
       "            Plotly.purge(gd);\n",
       "            observer.disconnect();\n",
       "        }}\n",
       "}});\n",
       "\n",
       "// Listen for the removal of the full notebook cells\n",
       "var notebookContainer = gd.closest('#notebook-container');\n",
       "if (notebookContainer) {{\n",
       "    x.observe(notebookContainer, {childList: true});\n",
       "}}\n",
       "\n",
       "// Listen for the clearing of the current output cell\n",
       "var outputEl = gd.closest('.output');\n",
       "if (outputEl) {{\n",
       "    x.observe(outputEl, {childList: true});\n",
       "}}\n",
       "\n",
       "                        })\n",
       "                };\n",
       "                });\n",
       "            </script>\n",
       "        </div>"
      ]
     },
     "metadata": {},
     "output_type": "display_data"
    }
   ],
   "source": [
    "fig = make_subplots(rows=2, cols = 2, subplot_titles=(f'Diagnosticados %s' %(cidades[0][0]),\n",
    "                                                      f'Diagnosticados %s' %(cidades[1][0]),\n",
    "                                                      f'Óbitos %s' %(cidades[0][0]),\n",
    "                                                      f'Óbitos %s' %(cidades[1][0])), vertical_spacing = .15)\n",
    "\n",
    "## Casos Diagnosticados\n",
    "fig.add_trace(go.Scatter(x=dates, y=dados_Rio[0], legendgroup = 'dados reais',name = 'Dados Reais', marker = dict(color = 'cornflowerblue', symbol = 'x')), row = 1, col = 1)\n",
    "fig.add_trace(go.Scatter(x=dates, y=diagn[0], legendgroup = 'modelo',name = 'Modelo', marker = dict(color = 'tomato'), line = dict(dash = '3px')), row = 1, col = 1)\n",
    "\n",
    "fig.add_trace(go.Scatter(x=dates, y=dados_SP[0], legendgroup = 'dados reais', name = 'Dados reais',showlegend = False,marker = dict(color = 'cornflowerblue', symbol = 'x')), row = 1, col = 2)\n",
    "fig.add_trace(go.Scatter(x=dates, y=diagn[1], legendgroup = 'modelo', name = 'Modelo',showlegend = False,marker = dict(color = 'tomato'), line = dict(dash = '3px')), row = 1, col = 2)\n",
    "\n",
    "\n",
    "## Obitos\n",
    "fig.add_trace(go.Scatter(x=dates, y=dados_Rio[1], legendgroup = 'dados reais', name = 'Dados reais',marker = dict(color = 'cornflowerblue', symbol = 'x'), showlegend = False), row = 2, col = 1)\n",
    "fig.add_trace(go.Scatter(x=dates, y=deaths[0], legendgroup = 'modelo', name = 'Modelo',marker = dict(color = 'tomato'), showlegend = False, line = dict(dash = '3px')), row = 2, col = 1)\n",
    "\n",
    "fig.add_trace(go.Scatter(x=dates, y=dados_SP[1], legendgroup = 'dados reais', name = 'Dados reais',marker = dict(color = 'cornflowerblue', symbol = 'x'), showlegend = False), row = 2, col = 2)\n",
    "fig.add_trace(go.Scatter(x=dates, y=deaths[1], legendgroup = 'modelo', name = 'Modelo',marker = dict(color = 'tomato'), showlegend = False, line = dict(dash = '3px')), row = 2, col = 2)\n",
    "\n",
    "\n",
    "fig.update_layout(title_x = .2, height=600, width=950, title_text =\n",
    "                  'Comparação entre regimes: abrir por dois dias ou não abrir', xaxis = dict(tickangle = 45), xaxis2 = dict(tickangle = 45), xaxis3 = dict(tickangle = 45), xaxis4 = dict(tickangle = 45))\n",
    "fig.update_yaxes(row = 1, col = 1, title_text = 'Casos diagnosticados')\n",
    "fig.update_yaxes(row = 2, col = 1, title_text = 'Óbitos')\n",
    "fig.update_xaxes(row = 2, col = 1, title_text = 'Dias')\n",
    "fig.update_xaxes(row = 2, col = 2, title_text = 'Dias')\n",
    "\n",
    "\n",
    "fig.show()"
   ]
  },
  {
   "cell_type": "markdown",
   "metadata": {},
   "source": [
    "### Modificando Parâmetros: Abrindo tudo por dois dias\n",
    "\n",
    "Consideramos agora o seguinte cenário: Todo o fluxo de pessoas é aberto entre as cidades durante dois dias, estimamos um fluxo de $100$ mil pessoas.\n",
    "\n",
    "Além disso, quando abrimos o fluxo entre as cidades, a `Quarentena` dentro da própria cidade também termina, até que se feche o fluxo novamente, portanto modificamos também os parâmetros $p$ e $\\lambda$ para $0$ e $1$ respectivamente"
   ]
  },
  {
   "cell_type": "code",
   "execution_count": 22,
   "metadata": {},
   "outputs": [
    {
     "name": "stdout",
     "output_type": "stream",
     "text": [
      "População Saindo de SP por dia: 100040.00\n",
      "População Saindo do RJ por dia: 100783.54\n"
     ]
    }
   ],
   "source": [
    "print(f'População Saindo de SP por dia: %.2f' % (7.2e-3*pop_SP + 1e-3*pop_SP))\n",
    "print(f'População Saindo do RJ por dia: %.2f' % (2e-3*pop_Rio + 1.3e-2*pop_Rio))"
   ]
  },
  {
   "cell_type": "code",
   "execution_count": 23,
   "metadata": {},
   "outputs": [],
   "source": [
    "params_modif = [p[:] for p in params]\n",
    "params_modif[-2][0], params_modif[-2][1] = 1.3e-3, 7.2e-3 # mu RJ e SP\n",
    "params_modif[-1][0], params_modif[-1][1] = 2e-3,  1e-3# delta RJ e SP\n",
    "params_modif[2][0], params_modif[2][1] = 0, 0 #p\n",
    "params_modif[3][0], params_modif[3][1] = 1, 1  #lambda\n",
    "\n",
    "dia_h = 5\n",
    "dia_d = 7\n",
    "dia_final = 30\n",
    "\n",
    "t_par = [[dia_h, params], [dia_d, params_modif], [dia_final, params]] # abrir a quarentena por 15 dias\n",
    "t_par_base = [[30,params]] # manter a quarentena do mesmo jeito"
   ]
  },
  {
   "cell_type": "code",
   "execution_count": 24,
   "metadata": {},
   "outputs": [],
   "source": [
    "sol_multi_regime_modif = multi_regime_cidades(CI, 0, t_par)\n",
    "sol_multi_regime_base = multi_regime_cidades(CI, 0, t_par_base)\n",
    "ts = np.arange(len(sol_multi_regime_modif[0]))\n",
    "legends = ['Suscetíveis', 'Quarentenados', 'Expostos', 'Assintomáticos', 'Infectados', 'Diagnosticados', 'Recuperados']\n",
    "titles = ['Diferença entre os regimes (Rio de Janeiro)', 'Diferença entre os regimes (São Paulo)', 'Total de óbitos em cada regime',\n",
    "         'Diferença de óbitos em cada regime']"
   ]
  },
  {
   "cell_type": "code",
   "execution_count": 25,
   "metadata": {},
   "outputs": [],
   "source": [
    "compartimentos = ['Suscetiveis', 'Quarentenados', 'Expostos', 'Assintomáticos', 'Infectados', 'Diagnosticados', 'Recuperados']\n",
    "shade = 'lightsalmon'"
   ]
  },
  {
   "cell_type": "markdown",
   "metadata": {},
   "source": [
    " ### Definindo Desenhos auxiliares no Gráfico"
   ]
  },
  {
   "cell_type": "code",
   "execution_count": 26,
   "metadata": {},
   "outputs": [],
   "source": [
    "shapes = [\n",
    "        dict(\n",
    "            type=\"rect\",\n",
    "            xref=\"x1\",\n",
    "            yref=\"y1\",\n",
    "            x0=dia_h,\n",
    "            y0=1e-3,\n",
    "            x1=dia_d,\n",
    "            y1=2e4,\n",
    "            fillcolor=shade,\n",
    "            opacity=0.5,\n",
    "            layer=\"below\",\n",
    "            line_width=0\n",
    "        ),\n",
    "        dict(\n",
    "            type=\"rect\",\n",
    "            xref=\"x2\",\n",
    "            yref=\"y2\",\n",
    "            x0=dia_h,\n",
    "            y0=1e-3,\n",
    "            x1=dia_d,\n",
    "            y1=2e4,\n",
    "            fillcolor=shade,\n",
    "            opacity=0.5,\n",
    "            layer=\"below\",\n",
    "            line_width=0\n",
    "        ),\n",
    "        dict(\n",
    "            type=\"rect\",\n",
    "            xref=\"x3\",\n",
    "            yref=\"y3\",\n",
    "            x0=dia_h,\n",
    "            y0=1e-3,\n",
    "            x1=dia_d,\n",
    "            y1=2500,\n",
    "            fillcolor=shade,\n",
    "            opacity=0.5,\n",
    "            layer=\"below\",\n",
    "            line_width=0\n",
    "        ),\n",
    "        dict(\n",
    "            type=\"rect\",\n",
    "            xref=\"x4\",\n",
    "            yref=\"y4\",\n",
    "            x0=dia_h,\n",
    "            y0=1e-3,\n",
    "            x1=dia_d,\n",
    "            y1=2e4,\n",
    "            fillcolor=shade,\n",
    "            opacity=0.5,\n",
    "            layer=\"below\",\n",
    "            line_width=0\n",
    "        )\n",
    "    ]"
   ]
  },
  {
   "cell_type": "code",
   "execution_count": 27,
   "metadata": {},
   "outputs": [],
   "source": [
    "annotations = ({\n",
    "     'font': {'size': 16},\n",
    "     'showarrow': False,\n",
    "     'text': f'Diferença entre os regimes - %s' %(cidades[0][1]),\n",
    "     'x': 0.225,\n",
    "     'xanchor': 'center',\n",
    "     'xref': 'paper',\n",
    "     'y': 1.0,\n",
    "     'yanchor': 'bottom',\n",
    "     'yref': 'paper'\n",
    " },\n",
    " {\n",
    "     'font': {'size': 16},\n",
    "     'showarrow': False,\n",
    "     'text': f'Diferença entre os regimes - %s' %(cidades[1][1]),\n",
    "     'x': 0.775,\n",
    "     'xanchor': 'center',\n",
    "     'xref': 'paper',\n",
    "     'y': 1.0,\n",
    "     'yanchor': 'bottom',\n",
    "     'yref': 'paper'\n",
    " },\n",
    " {\n",
    "     'font': {'size': 16},\n",
    "     'showarrow': False,\n",
    "     'text': 'Óbitos com os dois regimes',\n",
    "     'x': 0.225,\n",
    "     'xanchor': 'center',\n",
    "     'xref': 'paper',\n",
    "     'y': 0.425,\n",
    "     'yanchor': 'bottom',\n",
    "     'yref': 'paper'\n",
    " },\n",
    " {\n",
    "     'font': {'size': 16},\n",
    "     'showarrow': False,\n",
    "     'text': 'Diferença de óbitos',\n",
    "     'x': 0.775,\n",
    "     'xanchor': 'center',\n",
    "     'xref': 'paper',\n",
    "     'y': 0.425,\n",
    "     'yanchor': 'bottom',\n",
    "     'yref': 'paper'\n",
    " },\n",
    " {\n",
    "     'font': {'size':10},\n",
    "     'showarrow': True,\n",
    "     'text': 'Fim da quarentena',\n",
    "     'x': dia_h,\n",
    "     'xref': 'x1',\n",
    "     'y': '1.3',\n",
    "     'yref': 'y1',\n",
    "     'textangle': 270\n",
    " })"
   ]
  },
  {
   "cell_type": "code",
   "execution_count": 28,
   "metadata": {},
   "outputs": [],
   "source": [
    "colors = ['blueviolet', 'dodgerblue', 'sienna', 'tomato', 'green']"
   ]
  },
  {
   "cell_type": "code",
   "execution_count": 29,
   "metadata": {},
   "outputs": [
    {
     "data": {
      "application/vnd.plotly.v1+json": {
       "config": {
        "plotlyServerURL": "https://plot.ly"
       },
       "data": [
        {
         "legendgroup": "Expostos",
         "marker": {
          "color": "blueviolet"
         },
         "name": "Expostos",
         "type": "scatter",
         "x": [
          0,
          1,
          2,
          3,
          4,
          5,
          6,
          7,
          8,
          9,
          10,
          11,
          12,
          13,
          14,
          15,
          16,
          17,
          18,
          19,
          20,
          21,
          22,
          23,
          24,
          25,
          26,
          27,
          28,
          29,
          30
         ],
         "xaxis": "x",
         "y": [
          0,
          0,
          0,
          0,
          0,
          0.7252887487948101,
          418.21677194229596,
          1390.9159373704988,
          2386.716431914061,
          3050.541271555944,
          3492.466845303771,
          3813.4025402162915,
          4059.69476549969,
          4269.726105938781,
          4479.835498676283,
          4691.181594061705,
          4920.138670570532,
          5179.649978910897,
          5462.6942462764055,
          5772.682060457148,
          6122.014777568851,
          6506.8343233362975,
          6920.9823845279225,
          7365.202420692958,
          7846.705766540632,
          8369.603890089482,
          8929.03965486588,
          9523.688379617688,
          10155.657837962339,
          10830.403646100112,
          11554.864532675652
         ],
         "yaxis": "y"
        },
        {
         "legendgroup": "Assintomáticos",
         "marker": {
          "color": "dodgerblue"
         },
         "name": "Assintomáticos",
         "type": "scatter",
         "x": [
          0,
          1,
          2,
          3,
          4,
          5,
          6,
          7,
          8,
          9,
          10,
          11,
          12,
          13,
          14,
          15,
          16,
          17,
          18,
          19,
          20,
          21,
          22,
          23,
          24,
          25,
          26,
          27,
          28,
          29,
          30
         ],
         "xaxis": "x",
         "y": [
          0,
          0,
          0,
          0,
          0,
          0.019189480131444725,
          52.22274034120892,
          104.46426138147444,
          109.32195824909832,
          120.15333378723335,
          134.4374544009779,
          150.18411452962823,
          166.618717666802,
          183.23805566142096,
          199.67262002437815,
          216.23143145177596,
          232.86424558201134,
          249.599641197756,
          266.8776819684158,
          284.88755183196406,
          303.6216578516103,
          323.4054260731871,
          344.463957494631,
          366.88819612710256,
          390.6586918800548,
          415.8485496734145,
          442.7453027324325,
          471.5799210064158,
          502.5280009772289,
          535.7043743698091,
          571.0704092430058
         ],
         "yaxis": "y"
        },
        {
         "legendgroup": "Infectados",
         "marker": {
          "color": "sienna"
         },
         "name": "Infectados",
         "type": "scatter",
         "x": [
          0,
          1,
          2,
          3,
          4,
          5,
          6,
          7,
          8,
          9,
          10,
          11,
          12,
          13,
          14,
          15,
          16,
          17,
          18,
          19,
          20,
          21,
          22,
          23,
          24,
          25,
          26,
          27,
          28,
          29,
          30
         ],
         "xaxis": "x",
         "y": [
          0,
          0,
          0,
          0,
          0,
          0.4705701506727564,
          17.85374215583306,
          129.04590889632982,
          361.38313998988133,
          669.7962468020778,
          1017.0239798207504,
          1373.7985719093049,
          1729.1683004043425,
          2076.0228236606845,
          2409.1247620630775,
          2735.1831353067573,
          3055.1326475658598,
          3370.40510419004,
          3688.1931320251897,
          4011.472479761218,
          4339.776226630824,
          4678.2766447819085,
          5032.34060090843,
          5404.865018141523,
          5796.487441763995,
          6208.806412631213,
          6646.009068195082,
          7111.053131114235,
          7605.869741835082,
          8131.411354639333,
          8688.603610413847
         ],
         "yaxis": "y"
        },
        {
         "legendgroup": "Diagnosticados",
         "marker": {
          "color": "tomato"
         },
         "name": "Diagnosticados",
         "type": "scatter",
         "x": [
          0,
          1,
          2,
          3,
          4,
          5,
          6,
          7,
          8,
          9,
          10,
          11,
          12,
          13,
          14,
          15,
          16,
          17,
          18,
          19,
          20,
          21,
          22,
          23,
          24,
          25,
          26,
          27,
          28,
          29,
          30
         ],
         "xaxis": "x",
         "y": [
          0,
          0,
          0,
          0,
          0,
          0.06584836171987263,
          0.5079862524620467,
          3.197255585585026,
          11.47705781595937,
          28.203949958035082,
          54.0490871901668,
          89.22534325418087,
          132.930341634019,
          184.3955090041543,
          242.9094348318813,
          307.1828515341924,
          376.5616453658879,
          450.5697655837798,
          528.6145039230173,
          610.5271173125461,
          696.4533839134128,
          786.2213603370519,
          879.8225328535227,
          977.4426740523932,
          1079.4341171367978,
          1186.1414743211385,
          1297.8467036200154,
          1414.9506632981847,
          1537.949047930576,
          1667.4263228103023,
          1803.9374160294342
         ],
         "yaxis": "y"
        },
        {
         "legendgroup": "Recuperados",
         "marker": {
          "color": "green"
         },
         "name": "Recuperados",
         "type": "scatter",
         "x": [
          0,
          1,
          2,
          3,
          4,
          5,
          6,
          7,
          8,
          9,
          10,
          11,
          12,
          13,
          14,
          15,
          16,
          17,
          18,
          19,
          20,
          21,
          22,
          23,
          24,
          25,
          26,
          27,
          28,
          29,
          30
         ],
         "xaxis": "x",
         "y": [
          0,
          0,
          0,
          0,
          0,
          0.09528305695630479,
          22.47352477665845,
          59.19374697383455,
          88.3150397370755,
          140.77588229354478,
          221.22409989838616,
          332.9454674286071,
          476.73075366043304,
          653.0254906102009,
          862.1407363682447,
          1103.0789182906246,
          1375.9406819769283,
          1681.015267169645,
          2018.1678474493783,
          2388.1104490148537,
          2792.218866022873,
          3231.2757746981824,
          3706.512214573213,
          4219.6433096974415,
          4772.8090128518925,
          5368.205042965194,
          6007.894408635697,
          6694.333899885045,
          7430.373631050392,
          8219.247637443226,
          9064.360607263203
         ],
         "yaxis": "y"
        },
        {
         "marker": {
          "color": "crimson"
         },
         "name": "Abrir por dois dias",
         "type": "scatter",
         "xaxis": "x3",
         "y": [
          0,
          13.890815068036318,
          31.63618952408433,
          52.79971742257476,
          77.034359741956,
          104.09229077398777,
          133.9198735691607,
          166.92899692431092,
          204.02923828735948,
          246.0590866059065,
          293.45138392969966,
          346.52592220157385,
          405.38222531974316,
          470.0947182960808,
          540.7607730664313,
          617.3977607376873,
          700.1289216093719,
          789.1068289726973,
          884.4601540789008,
          986.3989798352122,
          1095.2039087824523,
          1211.1418767236173,
          1334.5165018290281,
          1465.6849191375077,
          1605.055353257805,
          1753.0556771568954,
          1910.1232808232307,
          2076.74049199,
          2253.4309516847134,
          2440.759614210576,
          2639.331822592765
         ],
         "yaxis": "y3"
        },
        {
         "marker": {
          "color": "indigo"
         },
         "name": "Manter a quarentena",
         "type": "scatter",
         "xaxis": "x3",
         "y": [
          0,
          13.890815068036318,
          31.63618952408433,
          52.79971742257476,
          77.034359741956,
          104.08127188682556,
          133.85760118067265,
          166.31842103227973,
          201.42808930948377,
          239.1945709735155,
          279.7103115096688,
          323.07755656540394,
          369.3981659784913,
          418.7738893888891,
          471.34055018797517,
          527.280101083219,
          586.7788810320199,
          650.0291908271611,
          717.2292930707335,
          788.5834121964872,
          864.3083856441081,
          944.6655468270183,
          1029.924867849797,
          1120.370210263878,
          1216.3015360683203,
          1318.0349077098072,
          1425.9024880938232,
          1540.2525405623019,
          1661.4494288936257,
          1789.8751966133714,
          1925.9599465690553
         ],
         "yaxis": "y3"
        },
        {
         "legendgroup": "Expostos",
         "marker": {
          "color": "blueviolet"
         },
         "name": "Expostos",
         "showlegend": false,
         "type": "scatter",
         "x": [
          0,
          1,
          2,
          3,
          4,
          5,
          6,
          7,
          8,
          9,
          10,
          11,
          12,
          13,
          14,
          15,
          16,
          17,
          18,
          19,
          20,
          21,
          22,
          23,
          24,
          25,
          26,
          27,
          28,
          29,
          30
         ],
         "xaxis": "x2",
         "y": [
          0,
          0,
          0,
          0,
          0,
          1.4867600626184867,
          1006.7212460272367,
          3064.7333694161243,
          4878.335071733865,
          6040.701227568192,
          6764.242864274496,
          7241.239247425945,
          7563.801771763356,
          7806.326507652213,
          8036.327378023843,
          8257.097425724513,
          8496.892569485732,
          8777.130981703438,
          9085.089196795925,
          9425.365631247285,
          9817.117145102136,
          10251.613551555572,
          10716.54160020874,
          11210.636733892708,
          11742.875647568322,
          12317.109217242418,
          12923.895858925021,
          13559.496678597996,
          14225.18476461024,
          14927.052590291765,
          15672.05923024303
         ],
         "yaxis": "y2"
        },
        {
         "legendgroup": "Assintomáticos",
         "marker": {
          "color": "dodgerblue"
         },
         "name": "Assintomáticos",
         "showlegend": false,
         "type": "scatter",
         "x": [
          0,
          1,
          2,
          3,
          4,
          5,
          6,
          7,
          8,
          9,
          10,
          11,
          12,
          13,
          14,
          15,
          16,
          17,
          18,
          19,
          20,
          21,
          22,
          23,
          24,
          25,
          26,
          27,
          28,
          29,
          30
         ],
         "xaxis": "x2",
         "y": [
          0,
          0,
          0,
          0,
          0,
          0.04384654072782723,
          50.336772704094074,
          85.21556163733203,
          49.15115800622243,
          1.6462696331891493,
          53.05458304416152,
          111.56109476469828,
          172.34744598446014,
          234.355753094992,
          296.7854143656232,
          360.0489548659207,
          424.0751784461427,
          488.8821735700976,
          555.0583894441143,
          622.829420220055,
          692.1259432057195,
          763.4081902140151,
          837.1701730488721,
          913.6912074236743,
          993.054623977956,
          1075.4304463701783,
          1161.200491019703,
          1250.6383608671122,
          1343.9346904803915,
          1441.2022108144738,
          1542.5730434290854
         ],
         "yaxis": "y2"
        },
        {
         "legendgroup": "Infectados",
         "marker": {
          "color": "sienna"
         },
         "name": "Infectados",
         "showlegend": false,
         "type": "scatter",
         "x": [
          0,
          1,
          2,
          3,
          4,
          5,
          6,
          7,
          8,
          9,
          10,
          11,
          12,
          13,
          14,
          15,
          16,
          17,
          18,
          19,
          20,
          21,
          22,
          23,
          24,
          25,
          26,
          27,
          28,
          29,
          30
         ],
         "xaxis": "x2",
         "y": [
          0,
          0,
          0,
          0,
          0,
          1.0051578679776867,
          46.13079102398842,
          295.989881597925,
          780.8567537074287,
          1394.187906268373,
          2064.460231906469,
          2736.2648185553535,
          3388.473851824927,
          4007.5470385816425,
          4584.064949733474,
          5130.605013382505,
          5649.4908152794305,
          6143.697500108523,
          6625.656644842133,
          7100.2488647281825,
          7566.348019957346,
          8032.595631698394,
          8507.52252340073,
          8995.425826664381,
          9496.779755480922,
          10013.394537306845,
          10550.507357087,
          11111.117636290663,
          11696.53120540268,
          12306.480153274046,
          12941.41610734458
         ],
         "yaxis": "y2"
        },
        {
         "legendgroup": "Diagnosticados",
         "marker": {
          "color": "tomato"
         },
         "name": "Diagnosticados",
         "showlegend": false,
         "type": "scatter",
         "x": [
          0,
          1,
          2,
          3,
          4,
          5,
          6,
          7,
          8,
          9,
          10,
          11,
          12,
          13,
          14,
          15,
          16,
          17,
          18,
          19,
          20,
          21,
          22,
          23,
          24,
          25,
          26,
          27,
          28,
          29,
          30
         ],
         "xaxis": "x2",
         "y": [
          0,
          0,
          0,
          0,
          0,
          0.14969697001220084,
          0.39001746832741446,
          4.374322436603052,
          20.00098656384671,
          53.13013023793701,
          104.34442800941179,
          173.3932142954991,
          258.2383020725615,
          356.9866567154754,
          467.8549680697033,
          587.9582828921689,
          715.6147921833617,
          849.5448620569509,
          988.3683896752664,
          1131.4916400300963,
          1278.8862155967472,
          1429.9144570502804,
          1584.2169957546475,
          1741.7610452775152,
          1902.7884529981739,
          2067.5407808235213,
          2236.2333987067686,
          2409.2672685764555,
          2587.159786446404,
          2770.527118285363,
          2959.755291446705
         ],
         "yaxis": "y2"
        },
        {
         "legendgroup": "Recuperados",
         "marker": {
          "color": "green"
         },
         "name": "Recuperados",
         "showlegend": false,
         "type": "scatter",
         "x": [
          0,
          1,
          2,
          3,
          4,
          5,
          6,
          7,
          8,
          9,
          10,
          11,
          12,
          13,
          14,
          15,
          16,
          17,
          18,
          19,
          20,
          21,
          22,
          23,
          24,
          25,
          26,
          27,
          28,
          29,
          30
         ],
         "xaxis": "x2",
         "y": [
          0,
          0,
          0,
          0,
          0,
          0.2073054113939179,
          18.300076121812253,
          31.633779585357843,
          8.41527120288265,
          94.50735233965679,
          233.54829144497307,
          429.94698448094823,
          683.8364881789857,
          994.7508693163218,
          1361.9108111626047,
          1782.0896110579397,
          2253.8896779482457,
          2776.3063881277085,
          3347.749859321084,
          3967.999335859866,
          4637.878968565117,
          5357.11037412933,
          6125.907132540695,
          6945.187816774778,
          7816.490012537797,
          8741.393193390395,
          9721.361038709794,
          10758.349998155652,
          11854.726505142287,
          13013.237185933154,
          14236.423837348346
         ],
         "yaxis": "y2"
        },
        {
         "marker": {
          "color": "black"
         },
         "name": "Óbitos",
         "type": "scatter",
         "xaxis": "x4",
         "y": [
          0,
          0,
          0,
          0,
          0,
          0.011018887162208557,
          0.062272388488054276,
          0.6105758920311928,
          2.6011489778757095,
          6.864515632390976,
          13.741072420030832,
          23.44836563616991,
          35.98405934125185,
          51.32082890719175,
          69.42022287845612,
          90.1176596544683,
          113.35004057735205,
          139.07763814553618,
          167.23086100816727,
          197.81556763872504,
          230.8955231383443,
          266.47632989659905,
          304.5916339792311,
          345.31470887362957,
          388.75381718948483,
          435.02076944708824,
          484.22079272940755,
          536.4879514276981,
          591.9815227910876,
          650.8844175972044,
          713.3718760237098
         ],
         "yaxis": "y4"
        }
       ],
       "layout": {
        "annotations": [
         {
          "font": {
           "size": 16
          },
          "showarrow": false,
          "text": "Diferença entre os regimes - RJ",
          "x": 0.225,
          "xanchor": "center",
          "xref": "paper",
          "y": 1,
          "yanchor": "bottom",
          "yref": "paper"
         },
         {
          "font": {
           "size": 16
          },
          "showarrow": false,
          "text": "Diferença entre os regimes - SP",
          "x": 0.775,
          "xanchor": "center",
          "xref": "paper",
          "y": 1,
          "yanchor": "bottom",
          "yref": "paper"
         },
         {
          "font": {
           "size": 16
          },
          "showarrow": false,
          "text": "Óbitos com os dois regimes",
          "x": 0.225,
          "xanchor": "center",
          "xref": "paper",
          "y": 0.425,
          "yanchor": "bottom",
          "yref": "paper"
         },
         {
          "font": {
           "size": 16
          },
          "showarrow": false,
          "text": "Diferença de óbitos",
          "x": 0.775,
          "xanchor": "center",
          "xref": "paper",
          "y": 0.425,
          "yanchor": "bottom",
          "yref": "paper"
         },
         {
          "font": {
           "size": 10
          },
          "showarrow": true,
          "text": "Fim da quarentena",
          "textangle": -90,
          "x": 5,
          "xref": "x",
          "y": "1.3",
          "yref": "y"
         }
        ],
        "height": 650,
        "shapes": [
         {
          "fillcolor": "lightsalmon",
          "layer": "below",
          "line": {
           "width": 0
          },
          "opacity": 0.5,
          "type": "rect",
          "x0": 5,
          "x1": 7,
          "xref": "x",
          "y0": 0.001,
          "y1": 20000,
          "yref": "y"
         },
         {
          "fillcolor": "lightsalmon",
          "layer": "below",
          "line": {
           "width": 0
          },
          "opacity": 0.5,
          "type": "rect",
          "x0": 5,
          "x1": 7,
          "xref": "x2",
          "y0": 0.001,
          "y1": 20000,
          "yref": "y2"
         },
         {
          "fillcolor": "lightsalmon",
          "layer": "below",
          "line": {
           "width": 0
          },
          "opacity": 0.5,
          "type": "rect",
          "x0": 5,
          "x1": 7,
          "xref": "x3",
          "y0": 0.001,
          "y1": 2500,
          "yref": "y3"
         },
         {
          "fillcolor": "lightsalmon",
          "layer": "below",
          "line": {
           "width": 0
          },
          "opacity": 0.5,
          "type": "rect",
          "x0": 5,
          "x1": 7,
          "xref": "x4",
          "y0": 0.001,
          "y1": 20000,
          "yref": "y4"
         }
        ],
        "template": {
         "data": {
          "bar": [
           {
            "error_x": {
             "color": "#2a3f5f"
            },
            "error_y": {
             "color": "#2a3f5f"
            },
            "marker": {
             "line": {
              "color": "#E5ECF6",
              "width": 0.5
             }
            },
            "type": "bar"
           }
          ],
          "barpolar": [
           {
            "marker": {
             "line": {
              "color": "#E5ECF6",
              "width": 0.5
             }
            },
            "type": "barpolar"
           }
          ],
          "carpet": [
           {
            "aaxis": {
             "endlinecolor": "#2a3f5f",
             "gridcolor": "white",
             "linecolor": "white",
             "minorgridcolor": "white",
             "startlinecolor": "#2a3f5f"
            },
            "baxis": {
             "endlinecolor": "#2a3f5f",
             "gridcolor": "white",
             "linecolor": "white",
             "minorgridcolor": "white",
             "startlinecolor": "#2a3f5f"
            },
            "type": "carpet"
           }
          ],
          "choropleth": [
           {
            "colorbar": {
             "outlinewidth": 0,
             "ticks": ""
            },
            "type": "choropleth"
           }
          ],
          "contour": [
           {
            "colorbar": {
             "outlinewidth": 0,
             "ticks": ""
            },
            "colorscale": [
             [
              0,
              "#0d0887"
             ],
             [
              0.1111111111111111,
              "#46039f"
             ],
             [
              0.2222222222222222,
              "#7201a8"
             ],
             [
              0.3333333333333333,
              "#9c179e"
             ],
             [
              0.4444444444444444,
              "#bd3786"
             ],
             [
              0.5555555555555556,
              "#d8576b"
             ],
             [
              0.6666666666666666,
              "#ed7953"
             ],
             [
              0.7777777777777778,
              "#fb9f3a"
             ],
             [
              0.8888888888888888,
              "#fdca26"
             ],
             [
              1,
              "#f0f921"
             ]
            ],
            "type": "contour"
           }
          ],
          "contourcarpet": [
           {
            "colorbar": {
             "outlinewidth": 0,
             "ticks": ""
            },
            "type": "contourcarpet"
           }
          ],
          "heatmap": [
           {
            "colorbar": {
             "outlinewidth": 0,
             "ticks": ""
            },
            "colorscale": [
             [
              0,
              "#0d0887"
             ],
             [
              0.1111111111111111,
              "#46039f"
             ],
             [
              0.2222222222222222,
              "#7201a8"
             ],
             [
              0.3333333333333333,
              "#9c179e"
             ],
             [
              0.4444444444444444,
              "#bd3786"
             ],
             [
              0.5555555555555556,
              "#d8576b"
             ],
             [
              0.6666666666666666,
              "#ed7953"
             ],
             [
              0.7777777777777778,
              "#fb9f3a"
             ],
             [
              0.8888888888888888,
              "#fdca26"
             ],
             [
              1,
              "#f0f921"
             ]
            ],
            "type": "heatmap"
           }
          ],
          "heatmapgl": [
           {
            "colorbar": {
             "outlinewidth": 0,
             "ticks": ""
            },
            "colorscale": [
             [
              0,
              "#0d0887"
             ],
             [
              0.1111111111111111,
              "#46039f"
             ],
             [
              0.2222222222222222,
              "#7201a8"
             ],
             [
              0.3333333333333333,
              "#9c179e"
             ],
             [
              0.4444444444444444,
              "#bd3786"
             ],
             [
              0.5555555555555556,
              "#d8576b"
             ],
             [
              0.6666666666666666,
              "#ed7953"
             ],
             [
              0.7777777777777778,
              "#fb9f3a"
             ],
             [
              0.8888888888888888,
              "#fdca26"
             ],
             [
              1,
              "#f0f921"
             ]
            ],
            "type": "heatmapgl"
           }
          ],
          "histogram": [
           {
            "marker": {
             "colorbar": {
              "outlinewidth": 0,
              "ticks": ""
             }
            },
            "type": "histogram"
           }
          ],
          "histogram2d": [
           {
            "colorbar": {
             "outlinewidth": 0,
             "ticks": ""
            },
            "colorscale": [
             [
              0,
              "#0d0887"
             ],
             [
              0.1111111111111111,
              "#46039f"
             ],
             [
              0.2222222222222222,
              "#7201a8"
             ],
             [
              0.3333333333333333,
              "#9c179e"
             ],
             [
              0.4444444444444444,
              "#bd3786"
             ],
             [
              0.5555555555555556,
              "#d8576b"
             ],
             [
              0.6666666666666666,
              "#ed7953"
             ],
             [
              0.7777777777777778,
              "#fb9f3a"
             ],
             [
              0.8888888888888888,
              "#fdca26"
             ],
             [
              1,
              "#f0f921"
             ]
            ],
            "type": "histogram2d"
           }
          ],
          "histogram2dcontour": [
           {
            "colorbar": {
             "outlinewidth": 0,
             "ticks": ""
            },
            "colorscale": [
             [
              0,
              "#0d0887"
             ],
             [
              0.1111111111111111,
              "#46039f"
             ],
             [
              0.2222222222222222,
              "#7201a8"
             ],
             [
              0.3333333333333333,
              "#9c179e"
             ],
             [
              0.4444444444444444,
              "#bd3786"
             ],
             [
              0.5555555555555556,
              "#d8576b"
             ],
             [
              0.6666666666666666,
              "#ed7953"
             ],
             [
              0.7777777777777778,
              "#fb9f3a"
             ],
             [
              0.8888888888888888,
              "#fdca26"
             ],
             [
              1,
              "#f0f921"
             ]
            ],
            "type": "histogram2dcontour"
           }
          ],
          "mesh3d": [
           {
            "colorbar": {
             "outlinewidth": 0,
             "ticks": ""
            },
            "type": "mesh3d"
           }
          ],
          "parcoords": [
           {
            "line": {
             "colorbar": {
              "outlinewidth": 0,
              "ticks": ""
             }
            },
            "type": "parcoords"
           }
          ],
          "pie": [
           {
            "automargin": true,
            "type": "pie"
           }
          ],
          "scatter": [
           {
            "marker": {
             "colorbar": {
              "outlinewidth": 0,
              "ticks": ""
             }
            },
            "type": "scatter"
           }
          ],
          "scatter3d": [
           {
            "line": {
             "colorbar": {
              "outlinewidth": 0,
              "ticks": ""
             }
            },
            "marker": {
             "colorbar": {
              "outlinewidth": 0,
              "ticks": ""
             }
            },
            "type": "scatter3d"
           }
          ],
          "scattercarpet": [
           {
            "marker": {
             "colorbar": {
              "outlinewidth": 0,
              "ticks": ""
             }
            },
            "type": "scattercarpet"
           }
          ],
          "scattergeo": [
           {
            "marker": {
             "colorbar": {
              "outlinewidth": 0,
              "ticks": ""
             }
            },
            "type": "scattergeo"
           }
          ],
          "scattergl": [
           {
            "marker": {
             "colorbar": {
              "outlinewidth": 0,
              "ticks": ""
             }
            },
            "type": "scattergl"
           }
          ],
          "scattermapbox": [
           {
            "marker": {
             "colorbar": {
              "outlinewidth": 0,
              "ticks": ""
             }
            },
            "type": "scattermapbox"
           }
          ],
          "scatterpolar": [
           {
            "marker": {
             "colorbar": {
              "outlinewidth": 0,
              "ticks": ""
             }
            },
            "type": "scatterpolar"
           }
          ],
          "scatterpolargl": [
           {
            "marker": {
             "colorbar": {
              "outlinewidth": 0,
              "ticks": ""
             }
            },
            "type": "scatterpolargl"
           }
          ],
          "scatterternary": [
           {
            "marker": {
             "colorbar": {
              "outlinewidth": 0,
              "ticks": ""
             }
            },
            "type": "scatterternary"
           }
          ],
          "surface": [
           {
            "colorbar": {
             "outlinewidth": 0,
             "ticks": ""
            },
            "colorscale": [
             [
              0,
              "#0d0887"
             ],
             [
              0.1111111111111111,
              "#46039f"
             ],
             [
              0.2222222222222222,
              "#7201a8"
             ],
             [
              0.3333333333333333,
              "#9c179e"
             ],
             [
              0.4444444444444444,
              "#bd3786"
             ],
             [
              0.5555555555555556,
              "#d8576b"
             ],
             [
              0.6666666666666666,
              "#ed7953"
             ],
             [
              0.7777777777777778,
              "#fb9f3a"
             ],
             [
              0.8888888888888888,
              "#fdca26"
             ],
             [
              1,
              "#f0f921"
             ]
            ],
            "type": "surface"
           }
          ],
          "table": [
           {
            "cells": {
             "fill": {
              "color": "#EBF0F8"
             },
             "line": {
              "color": "white"
             }
            },
            "header": {
             "fill": {
              "color": "#C8D4E3"
             },
             "line": {
              "color": "white"
             }
            },
            "type": "table"
           }
          ]
         },
         "layout": {
          "annotationdefaults": {
           "arrowcolor": "#2a3f5f",
           "arrowhead": 0,
           "arrowwidth": 1
          },
          "coloraxis": {
           "colorbar": {
            "outlinewidth": 0,
            "ticks": ""
           }
          },
          "colorscale": {
           "diverging": [
            [
             0,
             "#8e0152"
            ],
            [
             0.1,
             "#c51b7d"
            ],
            [
             0.2,
             "#de77ae"
            ],
            [
             0.3,
             "#f1b6da"
            ],
            [
             0.4,
             "#fde0ef"
            ],
            [
             0.5,
             "#f7f7f7"
            ],
            [
             0.6,
             "#e6f5d0"
            ],
            [
             0.7,
             "#b8e186"
            ],
            [
             0.8,
             "#7fbc41"
            ],
            [
             0.9,
             "#4d9221"
            ],
            [
             1,
             "#276419"
            ]
           ],
           "sequential": [
            [
             0,
             "#0d0887"
            ],
            [
             0.1111111111111111,
             "#46039f"
            ],
            [
             0.2222222222222222,
             "#7201a8"
            ],
            [
             0.3333333333333333,
             "#9c179e"
            ],
            [
             0.4444444444444444,
             "#bd3786"
            ],
            [
             0.5555555555555556,
             "#d8576b"
            ],
            [
             0.6666666666666666,
             "#ed7953"
            ],
            [
             0.7777777777777778,
             "#fb9f3a"
            ],
            [
             0.8888888888888888,
             "#fdca26"
            ],
            [
             1,
             "#f0f921"
            ]
           ],
           "sequentialminus": [
            [
             0,
             "#0d0887"
            ],
            [
             0.1111111111111111,
             "#46039f"
            ],
            [
             0.2222222222222222,
             "#7201a8"
            ],
            [
             0.3333333333333333,
             "#9c179e"
            ],
            [
             0.4444444444444444,
             "#bd3786"
            ],
            [
             0.5555555555555556,
             "#d8576b"
            ],
            [
             0.6666666666666666,
             "#ed7953"
            ],
            [
             0.7777777777777778,
             "#fb9f3a"
            ],
            [
             0.8888888888888888,
             "#fdca26"
            ],
            [
             1,
             "#f0f921"
            ]
           ]
          },
          "colorway": [
           "#636efa",
           "#EF553B",
           "#00cc96",
           "#ab63fa",
           "#FFA15A",
           "#19d3f3",
           "#FF6692",
           "#B6E880",
           "#FF97FF",
           "#FECB52"
          ],
          "font": {
           "color": "#2a3f5f"
          },
          "geo": {
           "bgcolor": "white",
           "lakecolor": "white",
           "landcolor": "#E5ECF6",
           "showlakes": true,
           "showland": true,
           "subunitcolor": "white"
          },
          "hoverlabel": {
           "align": "left"
          },
          "hovermode": "closest",
          "mapbox": {
           "style": "light"
          },
          "paper_bgcolor": "white",
          "plot_bgcolor": "#E5ECF6",
          "polar": {
           "angularaxis": {
            "gridcolor": "white",
            "linecolor": "white",
            "ticks": ""
           },
           "bgcolor": "#E5ECF6",
           "radialaxis": {
            "gridcolor": "white",
            "linecolor": "white",
            "ticks": ""
           }
          },
          "scene": {
           "xaxis": {
            "backgroundcolor": "#E5ECF6",
            "gridcolor": "white",
            "gridwidth": 2,
            "linecolor": "white",
            "showbackground": true,
            "ticks": "",
            "zerolinecolor": "white"
           },
           "yaxis": {
            "backgroundcolor": "#E5ECF6",
            "gridcolor": "white",
            "gridwidth": 2,
            "linecolor": "white",
            "showbackground": true,
            "ticks": "",
            "zerolinecolor": "white"
           },
           "zaxis": {
            "backgroundcolor": "#E5ECF6",
            "gridcolor": "white",
            "gridwidth": 2,
            "linecolor": "white",
            "showbackground": true,
            "ticks": "",
            "zerolinecolor": "white"
           }
          },
          "shapedefaults": {
           "line": {
            "color": "#2a3f5f"
           }
          },
          "ternary": {
           "aaxis": {
            "gridcolor": "white",
            "linecolor": "white",
            "ticks": ""
           },
           "baxis": {
            "gridcolor": "white",
            "linecolor": "white",
            "ticks": ""
           },
           "bgcolor": "#E5ECF6",
           "caxis": {
            "gridcolor": "white",
            "linecolor": "white",
            "ticks": ""
           }
          },
          "title": {
           "x": 0.05
          },
          "xaxis": {
           "automargin": true,
           "gridcolor": "white",
           "linecolor": "white",
           "ticks": "",
           "title": {
            "standoff": 15
           },
           "zerolinecolor": "white",
           "zerolinewidth": 2
          },
          "yaxis": {
           "automargin": true,
           "gridcolor": "white",
           "linecolor": "white",
           "ticks": "",
           "title": {
            "standoff": 15
           },
           "zerolinecolor": "white",
           "zerolinewidth": 2
          }
         }
        },
        "title": {
         "text": "Comparação entre regimes: abrir por dois dias ou não abrir",
         "x": 0.2
        },
        "width": 989,
        "xaxis": {
         "anchor": "y",
         "domain": [
          0,
          0.45
         ]
        },
        "xaxis2": {
         "anchor": "y2",
         "domain": [
          0.55,
          1
         ]
        },
        "xaxis3": {
         "anchor": "y3",
         "domain": [
          0,
          0.45
         ],
         "range": [
          0,
          30
         ],
         "title": {
          "text": "Dias transcorridos"
         }
        },
        "xaxis4": {
         "anchor": "y4",
         "domain": [
          0.55,
          1
         ],
         "range": [
          0,
          30
         ],
         "title": {
          "text": "Dias transcorridos"
         }
        },
        "yaxis": {
         "anchor": "x",
         "domain": [
          0.575,
          1
         ],
         "range": [
          -0.6,
          4.2
         ],
         "title": {
          "text": "Casos diagnosticados"
         },
         "type": "log"
        },
        "yaxis2": {
         "anchor": "x2",
         "domain": [
          0.575,
          1
         ],
         "range": [
          -0.6,
          4.2
         ],
         "type": "log"
        },
        "yaxis3": {
         "anchor": "x3",
         "domain": [
          0,
          0.425
         ],
         "range": [
          0,
          2500
         ],
         "title": {
          "text": "Óbitos nas duas cidades"
         }
        },
        "yaxis4": {
         "anchor": "x4",
         "domain": [
          0,
          0.425
         ],
         "type": "log"
        }
       }
      },
      "text/html": [
       "<div>\n",
       "        \n",
       "        \n",
       "            <div id=\"69069eea-0205-4755-baa3-3880650d9e85\" class=\"plotly-graph-div\" style=\"height:650px; width:989px;\"></div>\n",
       "            <script type=\"text/javascript\">\n",
       "                require([\"plotly\"], function(Plotly) {\n",
       "                    window.PLOTLYENV=window.PLOTLYENV || {};\n",
       "                    \n",
       "                if (document.getElementById(\"69069eea-0205-4755-baa3-3880650d9e85\")) {\n",
       "                    Plotly.newPlot(\n",
       "                        '69069eea-0205-4755-baa3-3880650d9e85',\n",
       "                        [{\"legendgroup\": \"Expostos\", \"marker\": {\"color\": \"blueviolet\"}, \"name\": \"Expostos\", \"type\": \"scatter\", \"x\": [0, 1, 2, 3, 4, 5, 6, 7, 8, 9, 10, 11, 12, 13, 14, 15, 16, 17, 18, 19, 20, 21, 22, 23, 24, 25, 26, 27, 28, 29, 30], \"xaxis\": \"x\", \"y\": [0.0, 0.0, 0.0, 0.0, 0.0, 0.7252887487948101, 418.21677194229596, 1390.9159373704988, 2386.716431914061, 3050.541271555944, 3492.466845303771, 3813.4025402162915, 4059.69476549969, 4269.726105938781, 4479.835498676283, 4691.181594061705, 4920.138670570532, 5179.649978910897, 5462.6942462764055, 5772.682060457148, 6122.014777568851, 6506.8343233362975, 6920.9823845279225, 7365.202420692958, 7846.705766540632, 8369.603890089482, 8929.03965486588, 9523.688379617688, 10155.657837962339, 10830.403646100112, 11554.864532675652], \"yaxis\": \"y\"}, {\"legendgroup\": \"Assintom\\u00e1ticos\", \"marker\": {\"color\": \"dodgerblue\"}, \"name\": \"Assintom\\u00e1ticos\", \"type\": \"scatter\", \"x\": [0, 1, 2, 3, 4, 5, 6, 7, 8, 9, 10, 11, 12, 13, 14, 15, 16, 17, 18, 19, 20, 21, 22, 23, 24, 25, 26, 27, 28, 29, 30], \"xaxis\": \"x\", \"y\": [0.0, 0.0, 0.0, 0.0, 0.0, 0.019189480131444725, 52.22274034120892, 104.46426138147444, 109.32195824909832, 120.15333378723335, 134.4374544009779, 150.18411452962823, 166.618717666802, 183.23805566142096, 199.67262002437815, 216.23143145177596, 232.86424558201134, 249.599641197756, 266.8776819684158, 284.88755183196406, 303.6216578516103, 323.4054260731871, 344.463957494631, 366.88819612710256, 390.6586918800548, 415.8485496734145, 442.7453027324325, 471.5799210064158, 502.5280009772289, 535.7043743698091, 571.0704092430058], \"yaxis\": \"y\"}, {\"legendgroup\": \"Infectados\", \"marker\": {\"color\": \"sienna\"}, \"name\": \"Infectados\", \"type\": \"scatter\", \"x\": [0, 1, 2, 3, 4, 5, 6, 7, 8, 9, 10, 11, 12, 13, 14, 15, 16, 17, 18, 19, 20, 21, 22, 23, 24, 25, 26, 27, 28, 29, 30], \"xaxis\": \"x\", \"y\": [0.0, 0.0, 0.0, 0.0, 0.0, 0.4705701506727564, 17.85374215583306, 129.04590889632982, 361.38313998988133, 669.7962468020778, 1017.0239798207504, 1373.7985719093049, 1729.1683004043425, 2076.0228236606845, 2409.1247620630775, 2735.1831353067573, 3055.1326475658598, 3370.40510419004, 3688.1931320251897, 4011.472479761218, 4339.776226630824, 4678.2766447819085, 5032.34060090843, 5404.865018141523, 5796.487441763995, 6208.806412631213, 6646.009068195082, 7111.053131114235, 7605.869741835082, 8131.411354639333, 8688.603610413847], \"yaxis\": \"y\"}, {\"legendgroup\": \"Diagnosticados\", \"marker\": {\"color\": \"tomato\"}, \"name\": \"Diagnosticados\", \"type\": \"scatter\", \"x\": [0, 1, 2, 3, 4, 5, 6, 7, 8, 9, 10, 11, 12, 13, 14, 15, 16, 17, 18, 19, 20, 21, 22, 23, 24, 25, 26, 27, 28, 29, 30], \"xaxis\": \"x\", \"y\": [0.0, 0.0, 0.0, 0.0, 0.0, 0.06584836171987263, 0.5079862524620467, 3.197255585585026, 11.47705781595937, 28.203949958035082, 54.0490871901668, 89.22534325418087, 132.930341634019, 184.3955090041543, 242.9094348318813, 307.1828515341924, 376.5616453658879, 450.5697655837798, 528.6145039230173, 610.5271173125461, 696.4533839134128, 786.2213603370519, 879.8225328535227, 977.4426740523932, 1079.4341171367978, 1186.1414743211385, 1297.8467036200154, 1414.9506632981847, 1537.949047930576, 1667.4263228103023, 1803.9374160294342], \"yaxis\": \"y\"}, {\"legendgroup\": \"Recuperados\", \"marker\": {\"color\": \"green\"}, \"name\": \"Recuperados\", \"type\": \"scatter\", \"x\": [0, 1, 2, 3, 4, 5, 6, 7, 8, 9, 10, 11, 12, 13, 14, 15, 16, 17, 18, 19, 20, 21, 22, 23, 24, 25, 26, 27, 28, 29, 30], \"xaxis\": \"x\", \"y\": [0.0, 0.0, 0.0, 0.0, 0.0, 0.09528305695630479, 22.47352477665845, 59.19374697383455, 88.3150397370755, 140.77588229354478, 221.22409989838616, 332.9454674286071, 476.73075366043304, 653.0254906102009, 862.1407363682447, 1103.0789182906246, 1375.9406819769283, 1681.015267169645, 2018.1678474493783, 2388.1104490148537, 2792.218866022873, 3231.2757746981824, 3706.512214573213, 4219.6433096974415, 4772.8090128518925, 5368.205042965194, 6007.894408635697, 6694.333899885045, 7430.373631050392, 8219.247637443226, 9064.360607263203], \"yaxis\": \"y\"}, {\"marker\": {\"color\": \"crimson\"}, \"name\": \"Abrir por dois dias\", \"type\": \"scatter\", \"xaxis\": \"x3\", \"y\": [0.0, 13.890815068036318, 31.63618952408433, 52.79971742257476, 77.034359741956, 104.09229077398777, 133.9198735691607, 166.92899692431092, 204.02923828735948, 246.0590866059065, 293.45138392969966, 346.52592220157385, 405.38222531974316, 470.0947182960808, 540.7607730664313, 617.3977607376873, 700.1289216093719, 789.1068289726973, 884.4601540789008, 986.3989798352122, 1095.2039087824523, 1211.1418767236173, 1334.5165018290281, 1465.6849191375077, 1605.055353257805, 1753.0556771568954, 1910.1232808232307, 2076.74049199, 2253.4309516847134, 2440.759614210576, 2639.331822592765], \"yaxis\": \"y3\"}, {\"marker\": {\"color\": \"indigo\"}, \"name\": \"Manter a quarentena\", \"type\": \"scatter\", \"xaxis\": \"x3\", \"y\": [0.0, 13.890815068036318, 31.63618952408433, 52.79971742257476, 77.034359741956, 104.08127188682556, 133.85760118067265, 166.31842103227973, 201.42808930948377, 239.1945709735155, 279.7103115096688, 323.07755656540394, 369.3981659784913, 418.7738893888891, 471.34055018797517, 527.280101083219, 586.7788810320199, 650.0291908271611, 717.2292930707335, 788.5834121964872, 864.3083856441081, 944.6655468270183, 1029.924867849797, 1120.370210263878, 1216.3015360683203, 1318.0349077098072, 1425.9024880938232, 1540.2525405623019, 1661.4494288936257, 1789.8751966133714, 1925.9599465690553], \"yaxis\": \"y3\"}, {\"legendgroup\": \"Expostos\", \"marker\": {\"color\": \"blueviolet\"}, \"name\": \"Expostos\", \"showlegend\": false, \"type\": \"scatter\", \"x\": [0, 1, 2, 3, 4, 5, 6, 7, 8, 9, 10, 11, 12, 13, 14, 15, 16, 17, 18, 19, 20, 21, 22, 23, 24, 25, 26, 27, 28, 29, 30], \"xaxis\": \"x2\", \"y\": [0.0, 0.0, 0.0, 0.0, 0.0, 1.4867600626184867, 1006.7212460272367, 3064.7333694161243, 4878.335071733865, 6040.701227568192, 6764.242864274496, 7241.239247425945, 7563.801771763356, 7806.326507652213, 8036.327378023843, 8257.097425724513, 8496.892569485732, 8777.130981703438, 9085.089196795925, 9425.365631247285, 9817.117145102136, 10251.613551555572, 10716.54160020874, 11210.636733892708, 11742.875647568322, 12317.109217242418, 12923.895858925021, 13559.496678597996, 14225.18476461024, 14927.052590291765, 15672.05923024303], \"yaxis\": \"y2\"}, {\"legendgroup\": \"Assintom\\u00e1ticos\", \"marker\": {\"color\": \"dodgerblue\"}, \"name\": \"Assintom\\u00e1ticos\", \"showlegend\": false, \"type\": \"scatter\", \"x\": [0, 1, 2, 3, 4, 5, 6, 7, 8, 9, 10, 11, 12, 13, 14, 15, 16, 17, 18, 19, 20, 21, 22, 23, 24, 25, 26, 27, 28, 29, 30], \"xaxis\": \"x2\", \"y\": [0.0, 0.0, 0.0, 0.0, 0.0, 0.04384654072782723, 50.336772704094074, 85.21556163733203, 49.15115800622243, 1.6462696331891493, 53.05458304416152, 111.56109476469828, 172.34744598446014, 234.355753094992, 296.7854143656232, 360.0489548659207, 424.0751784461427, 488.8821735700976, 555.0583894441143, 622.829420220055, 692.1259432057195, 763.4081902140151, 837.1701730488721, 913.6912074236743, 993.054623977956, 1075.4304463701783, 1161.200491019703, 1250.6383608671122, 1343.9346904803915, 1441.2022108144738, 1542.5730434290854], \"yaxis\": \"y2\"}, {\"legendgroup\": \"Infectados\", \"marker\": {\"color\": \"sienna\"}, \"name\": \"Infectados\", \"showlegend\": false, \"type\": \"scatter\", \"x\": [0, 1, 2, 3, 4, 5, 6, 7, 8, 9, 10, 11, 12, 13, 14, 15, 16, 17, 18, 19, 20, 21, 22, 23, 24, 25, 26, 27, 28, 29, 30], \"xaxis\": \"x2\", \"y\": [0.0, 0.0, 0.0, 0.0, 0.0, 1.0051578679776867, 46.13079102398842, 295.989881597925, 780.8567537074287, 1394.187906268373, 2064.460231906469, 2736.2648185553535, 3388.473851824927, 4007.5470385816425, 4584.064949733474, 5130.605013382505, 5649.4908152794305, 6143.697500108523, 6625.656644842133, 7100.2488647281825, 7566.348019957346, 8032.595631698394, 8507.52252340073, 8995.425826664381, 9496.779755480922, 10013.394537306845, 10550.507357087, 11111.117636290663, 11696.53120540268, 12306.480153274046, 12941.41610734458], \"yaxis\": \"y2\"}, {\"legendgroup\": \"Diagnosticados\", \"marker\": {\"color\": \"tomato\"}, \"name\": \"Diagnosticados\", \"showlegend\": false, \"type\": \"scatter\", \"x\": [0, 1, 2, 3, 4, 5, 6, 7, 8, 9, 10, 11, 12, 13, 14, 15, 16, 17, 18, 19, 20, 21, 22, 23, 24, 25, 26, 27, 28, 29, 30], \"xaxis\": \"x2\", \"y\": [0.0, 0.0, 0.0, 0.0, 0.0, 0.14969697001220084, 0.39001746832741446, 4.374322436603052, 20.00098656384671, 53.13013023793701, 104.34442800941179, 173.3932142954991, 258.2383020725615, 356.9866567154754, 467.8549680697033, 587.9582828921689, 715.6147921833617, 849.5448620569509, 988.3683896752664, 1131.4916400300963, 1278.8862155967472, 1429.9144570502804, 1584.2169957546475, 1741.7610452775152, 1902.7884529981739, 2067.5407808235213, 2236.2333987067686, 2409.2672685764555, 2587.159786446404, 2770.527118285363, 2959.755291446705], \"yaxis\": \"y2\"}, {\"legendgroup\": \"Recuperados\", \"marker\": {\"color\": \"green\"}, \"name\": \"Recuperados\", \"showlegend\": false, \"type\": \"scatter\", \"x\": [0, 1, 2, 3, 4, 5, 6, 7, 8, 9, 10, 11, 12, 13, 14, 15, 16, 17, 18, 19, 20, 21, 22, 23, 24, 25, 26, 27, 28, 29, 30], \"xaxis\": \"x2\", \"y\": [0.0, 0.0, 0.0, 0.0, 0.0, 0.2073054113939179, 18.300076121812253, 31.633779585357843, 8.41527120288265, 94.50735233965679, 233.54829144497307, 429.94698448094823, 683.8364881789857, 994.7508693163218, 1361.9108111626047, 1782.0896110579397, 2253.8896779482457, 2776.3063881277085, 3347.749859321084, 3967.999335859866, 4637.878968565117, 5357.11037412933, 6125.907132540695, 6945.187816774778, 7816.490012537797, 8741.393193390395, 9721.361038709794, 10758.349998155652, 11854.726505142287, 13013.237185933154, 14236.423837348346], \"yaxis\": \"y2\"}, {\"marker\": {\"color\": \"black\"}, \"name\": \"\\u00d3bitos\", \"type\": \"scatter\", \"xaxis\": \"x4\", \"y\": [0.0, 0.0, 0.0, 0.0, 0.0, 0.011018887162208557, 0.062272388488054276, 0.6105758920311928, 2.6011489778757095, 6.864515632390976, 13.741072420030832, 23.44836563616991, 35.98405934125185, 51.32082890719175, 69.42022287845612, 90.1176596544683, 113.35004057735205, 139.07763814553618, 167.23086100816727, 197.81556763872504, 230.8955231383443, 266.47632989659905, 304.5916339792311, 345.31470887362957, 388.75381718948483, 435.02076944708824, 484.22079272940755, 536.4879514276981, 591.9815227910876, 650.8844175972044, 713.3718760237098], \"yaxis\": \"y4\"}],\n",
       "                        {\"annotations\": [{\"font\": {\"size\": 16}, \"showarrow\": false, \"text\": \"Diferen\\u00e7a entre os regimes - RJ\", \"x\": 0.225, \"xanchor\": \"center\", \"xref\": \"paper\", \"y\": 1.0, \"yanchor\": \"bottom\", \"yref\": \"paper\"}, {\"font\": {\"size\": 16}, \"showarrow\": false, \"text\": \"Diferen\\u00e7a entre os regimes - SP\", \"x\": 0.775, \"xanchor\": \"center\", \"xref\": \"paper\", \"y\": 1.0, \"yanchor\": \"bottom\", \"yref\": \"paper\"}, {\"font\": {\"size\": 16}, \"showarrow\": false, \"text\": \"\\u00d3bitos com os dois regimes\", \"x\": 0.225, \"xanchor\": \"center\", \"xref\": \"paper\", \"y\": 0.425, \"yanchor\": \"bottom\", \"yref\": \"paper\"}, {\"font\": {\"size\": 16}, \"showarrow\": false, \"text\": \"Diferen\\u00e7a de \\u00f3bitos\", \"x\": 0.775, \"xanchor\": \"center\", \"xref\": \"paper\", \"y\": 0.425, \"yanchor\": \"bottom\", \"yref\": \"paper\"}, {\"font\": {\"size\": 10}, \"showarrow\": true, \"text\": \"Fim da quarentena\", \"textangle\": -90, \"x\": 5, \"xref\": \"x\", \"y\": \"1.3\", \"yref\": \"y\"}], \"height\": 650, \"shapes\": [{\"fillcolor\": \"lightsalmon\", \"layer\": \"below\", \"line\": {\"width\": 0}, \"opacity\": 0.5, \"type\": \"rect\", \"x0\": 5, \"x1\": 7, \"xref\": \"x\", \"y0\": 0.001, \"y1\": 20000.0, \"yref\": \"y\"}, {\"fillcolor\": \"lightsalmon\", \"layer\": \"below\", \"line\": {\"width\": 0}, \"opacity\": 0.5, \"type\": \"rect\", \"x0\": 5, \"x1\": 7, \"xref\": \"x2\", \"y0\": 0.001, \"y1\": 20000.0, \"yref\": \"y2\"}, {\"fillcolor\": \"lightsalmon\", \"layer\": \"below\", \"line\": {\"width\": 0}, \"opacity\": 0.5, \"type\": \"rect\", \"x0\": 5, \"x1\": 7, \"xref\": \"x3\", \"y0\": 0.001, \"y1\": 2500, \"yref\": \"y3\"}, {\"fillcolor\": \"lightsalmon\", \"layer\": \"below\", \"line\": {\"width\": 0}, \"opacity\": 0.5, \"type\": \"rect\", \"x0\": 5, \"x1\": 7, \"xref\": \"x4\", \"y0\": 0.001, \"y1\": 20000.0, \"yref\": \"y4\"}], \"template\": {\"data\": {\"bar\": [{\"error_x\": {\"color\": \"#2a3f5f\"}, \"error_y\": {\"color\": \"#2a3f5f\"}, \"marker\": {\"line\": {\"color\": \"#E5ECF6\", \"width\": 0.5}}, \"type\": \"bar\"}], \"barpolar\": [{\"marker\": {\"line\": {\"color\": \"#E5ECF6\", \"width\": 0.5}}, \"type\": \"barpolar\"}], \"carpet\": [{\"aaxis\": {\"endlinecolor\": \"#2a3f5f\", \"gridcolor\": \"white\", \"linecolor\": \"white\", \"minorgridcolor\": \"white\", \"startlinecolor\": \"#2a3f5f\"}, \"baxis\": {\"endlinecolor\": \"#2a3f5f\", \"gridcolor\": \"white\", \"linecolor\": \"white\", \"minorgridcolor\": \"white\", \"startlinecolor\": \"#2a3f5f\"}, \"type\": \"carpet\"}], \"choropleth\": [{\"colorbar\": {\"outlinewidth\": 0, \"ticks\": \"\"}, \"type\": \"choropleth\"}], \"contour\": [{\"colorbar\": {\"outlinewidth\": 0, \"ticks\": \"\"}, \"colorscale\": [[0.0, \"#0d0887\"], [0.1111111111111111, \"#46039f\"], [0.2222222222222222, \"#7201a8\"], [0.3333333333333333, \"#9c179e\"], [0.4444444444444444, \"#bd3786\"], [0.5555555555555556, \"#d8576b\"], [0.6666666666666666, \"#ed7953\"], [0.7777777777777778, \"#fb9f3a\"], [0.8888888888888888, \"#fdca26\"], [1.0, \"#f0f921\"]], \"type\": \"contour\"}], \"contourcarpet\": [{\"colorbar\": {\"outlinewidth\": 0, \"ticks\": \"\"}, \"type\": \"contourcarpet\"}], \"heatmap\": [{\"colorbar\": {\"outlinewidth\": 0, \"ticks\": \"\"}, \"colorscale\": [[0.0, \"#0d0887\"], [0.1111111111111111, \"#46039f\"], [0.2222222222222222, \"#7201a8\"], [0.3333333333333333, \"#9c179e\"], [0.4444444444444444, \"#bd3786\"], [0.5555555555555556, \"#d8576b\"], [0.6666666666666666, \"#ed7953\"], [0.7777777777777778, \"#fb9f3a\"], [0.8888888888888888, \"#fdca26\"], [1.0, \"#f0f921\"]], \"type\": \"heatmap\"}], \"heatmapgl\": [{\"colorbar\": {\"outlinewidth\": 0, \"ticks\": \"\"}, \"colorscale\": [[0.0, \"#0d0887\"], [0.1111111111111111, \"#46039f\"], [0.2222222222222222, \"#7201a8\"], [0.3333333333333333, \"#9c179e\"], [0.4444444444444444, \"#bd3786\"], [0.5555555555555556, \"#d8576b\"], [0.6666666666666666, \"#ed7953\"], [0.7777777777777778, \"#fb9f3a\"], [0.8888888888888888, \"#fdca26\"], [1.0, \"#f0f921\"]], \"type\": \"heatmapgl\"}], \"histogram\": [{\"marker\": {\"colorbar\": {\"outlinewidth\": 0, \"ticks\": \"\"}}, \"type\": \"histogram\"}], \"histogram2d\": [{\"colorbar\": {\"outlinewidth\": 0, \"ticks\": \"\"}, \"colorscale\": [[0.0, \"#0d0887\"], [0.1111111111111111, \"#46039f\"], [0.2222222222222222, \"#7201a8\"], [0.3333333333333333, \"#9c179e\"], [0.4444444444444444, \"#bd3786\"], [0.5555555555555556, \"#d8576b\"], [0.6666666666666666, \"#ed7953\"], [0.7777777777777778, \"#fb9f3a\"], [0.8888888888888888, \"#fdca26\"], [1.0, \"#f0f921\"]], \"type\": \"histogram2d\"}], \"histogram2dcontour\": [{\"colorbar\": {\"outlinewidth\": 0, \"ticks\": \"\"}, \"colorscale\": [[0.0, \"#0d0887\"], [0.1111111111111111, \"#46039f\"], [0.2222222222222222, \"#7201a8\"], [0.3333333333333333, \"#9c179e\"], [0.4444444444444444, \"#bd3786\"], [0.5555555555555556, \"#d8576b\"], [0.6666666666666666, \"#ed7953\"], [0.7777777777777778, \"#fb9f3a\"], [0.8888888888888888, \"#fdca26\"], [1.0, \"#f0f921\"]], \"type\": \"histogram2dcontour\"}], \"mesh3d\": [{\"colorbar\": {\"outlinewidth\": 0, \"ticks\": \"\"}, \"type\": \"mesh3d\"}], \"parcoords\": [{\"line\": {\"colorbar\": {\"outlinewidth\": 0, \"ticks\": \"\"}}, \"type\": \"parcoords\"}], \"pie\": [{\"automargin\": true, \"type\": \"pie\"}], \"scatter\": [{\"marker\": {\"colorbar\": {\"outlinewidth\": 0, \"ticks\": \"\"}}, \"type\": \"scatter\"}], \"scatter3d\": [{\"line\": {\"colorbar\": {\"outlinewidth\": 0, \"ticks\": \"\"}}, \"marker\": {\"colorbar\": {\"outlinewidth\": 0, \"ticks\": \"\"}}, \"type\": \"scatter3d\"}], \"scattercarpet\": [{\"marker\": {\"colorbar\": {\"outlinewidth\": 0, \"ticks\": \"\"}}, \"type\": \"scattercarpet\"}], \"scattergeo\": [{\"marker\": {\"colorbar\": {\"outlinewidth\": 0, \"ticks\": \"\"}}, \"type\": \"scattergeo\"}], \"scattergl\": [{\"marker\": {\"colorbar\": {\"outlinewidth\": 0, \"ticks\": \"\"}}, \"type\": \"scattergl\"}], \"scattermapbox\": [{\"marker\": {\"colorbar\": {\"outlinewidth\": 0, \"ticks\": \"\"}}, \"type\": \"scattermapbox\"}], \"scatterpolar\": [{\"marker\": {\"colorbar\": {\"outlinewidth\": 0, \"ticks\": \"\"}}, \"type\": \"scatterpolar\"}], \"scatterpolargl\": [{\"marker\": {\"colorbar\": {\"outlinewidth\": 0, \"ticks\": \"\"}}, \"type\": \"scatterpolargl\"}], \"scatterternary\": [{\"marker\": {\"colorbar\": {\"outlinewidth\": 0, \"ticks\": \"\"}}, \"type\": \"scatterternary\"}], \"surface\": [{\"colorbar\": {\"outlinewidth\": 0, \"ticks\": \"\"}, \"colorscale\": [[0.0, \"#0d0887\"], [0.1111111111111111, \"#46039f\"], [0.2222222222222222, \"#7201a8\"], [0.3333333333333333, \"#9c179e\"], [0.4444444444444444, \"#bd3786\"], [0.5555555555555556, \"#d8576b\"], [0.6666666666666666, \"#ed7953\"], [0.7777777777777778, \"#fb9f3a\"], [0.8888888888888888, \"#fdca26\"], [1.0, \"#f0f921\"]], \"type\": \"surface\"}], \"table\": [{\"cells\": {\"fill\": {\"color\": \"#EBF0F8\"}, \"line\": {\"color\": \"white\"}}, \"header\": {\"fill\": {\"color\": \"#C8D4E3\"}, \"line\": {\"color\": \"white\"}}, \"type\": \"table\"}]}, \"layout\": {\"annotationdefaults\": {\"arrowcolor\": \"#2a3f5f\", \"arrowhead\": 0, \"arrowwidth\": 1}, \"coloraxis\": {\"colorbar\": {\"outlinewidth\": 0, \"ticks\": \"\"}}, \"colorscale\": {\"diverging\": [[0, \"#8e0152\"], [0.1, \"#c51b7d\"], [0.2, \"#de77ae\"], [0.3, \"#f1b6da\"], [0.4, \"#fde0ef\"], [0.5, \"#f7f7f7\"], [0.6, \"#e6f5d0\"], [0.7, \"#b8e186\"], [0.8, \"#7fbc41\"], [0.9, \"#4d9221\"], [1, \"#276419\"]], \"sequential\": [[0.0, \"#0d0887\"], [0.1111111111111111, \"#46039f\"], [0.2222222222222222, \"#7201a8\"], [0.3333333333333333, \"#9c179e\"], [0.4444444444444444, \"#bd3786\"], [0.5555555555555556, \"#d8576b\"], [0.6666666666666666, \"#ed7953\"], [0.7777777777777778, \"#fb9f3a\"], [0.8888888888888888, \"#fdca26\"], [1.0, \"#f0f921\"]], \"sequentialminus\": [[0.0, \"#0d0887\"], [0.1111111111111111, \"#46039f\"], [0.2222222222222222, \"#7201a8\"], [0.3333333333333333, \"#9c179e\"], [0.4444444444444444, \"#bd3786\"], [0.5555555555555556, \"#d8576b\"], [0.6666666666666666, \"#ed7953\"], [0.7777777777777778, \"#fb9f3a\"], [0.8888888888888888, \"#fdca26\"], [1.0, \"#f0f921\"]]}, \"colorway\": [\"#636efa\", \"#EF553B\", \"#00cc96\", \"#ab63fa\", \"#FFA15A\", \"#19d3f3\", \"#FF6692\", \"#B6E880\", \"#FF97FF\", \"#FECB52\"], \"font\": {\"color\": \"#2a3f5f\"}, \"geo\": {\"bgcolor\": \"white\", \"lakecolor\": \"white\", \"landcolor\": \"#E5ECF6\", \"showlakes\": true, \"showland\": true, \"subunitcolor\": \"white\"}, \"hoverlabel\": {\"align\": \"left\"}, \"hovermode\": \"closest\", \"mapbox\": {\"style\": \"light\"}, \"paper_bgcolor\": \"white\", \"plot_bgcolor\": \"#E5ECF6\", \"polar\": {\"angularaxis\": {\"gridcolor\": \"white\", \"linecolor\": \"white\", \"ticks\": \"\"}, \"bgcolor\": \"#E5ECF6\", \"radialaxis\": {\"gridcolor\": \"white\", \"linecolor\": \"white\", \"ticks\": \"\"}}, \"scene\": {\"xaxis\": {\"backgroundcolor\": \"#E5ECF6\", \"gridcolor\": \"white\", \"gridwidth\": 2, \"linecolor\": \"white\", \"showbackground\": true, \"ticks\": \"\", \"zerolinecolor\": \"white\"}, \"yaxis\": {\"backgroundcolor\": \"#E5ECF6\", \"gridcolor\": \"white\", \"gridwidth\": 2, \"linecolor\": \"white\", \"showbackground\": true, \"ticks\": \"\", \"zerolinecolor\": \"white\"}, \"zaxis\": {\"backgroundcolor\": \"#E5ECF6\", \"gridcolor\": \"white\", \"gridwidth\": 2, \"linecolor\": \"white\", \"showbackground\": true, \"ticks\": \"\", \"zerolinecolor\": \"white\"}}, \"shapedefaults\": {\"line\": {\"color\": \"#2a3f5f\"}}, \"ternary\": {\"aaxis\": {\"gridcolor\": \"white\", \"linecolor\": \"white\", \"ticks\": \"\"}, \"baxis\": {\"gridcolor\": \"white\", \"linecolor\": \"white\", \"ticks\": \"\"}, \"bgcolor\": \"#E5ECF6\", \"caxis\": {\"gridcolor\": \"white\", \"linecolor\": \"white\", \"ticks\": \"\"}}, \"title\": {\"x\": 0.05}, \"xaxis\": {\"automargin\": true, \"gridcolor\": \"white\", \"linecolor\": \"white\", \"ticks\": \"\", \"title\": {\"standoff\": 15}, \"zerolinecolor\": \"white\", \"zerolinewidth\": 2}, \"yaxis\": {\"automargin\": true, \"gridcolor\": \"white\", \"linecolor\": \"white\", \"ticks\": \"\", \"title\": {\"standoff\": 15}, \"zerolinecolor\": \"white\", \"zerolinewidth\": 2}}}, \"title\": {\"text\": \"Compara\\u00e7\\u00e3o entre regimes: abrir por dois dias ou n\\u00e3o abrir\", \"x\": 0.2}, \"width\": 989, \"xaxis\": {\"anchor\": \"y\", \"domain\": [0.0, 0.45]}, \"xaxis2\": {\"anchor\": \"y2\", \"domain\": [0.55, 1.0]}, \"xaxis3\": {\"anchor\": \"y3\", \"domain\": [0.0, 0.45], \"range\": [0, 30], \"title\": {\"text\": \"Dias transcorridos\"}}, \"xaxis4\": {\"anchor\": \"y4\", \"domain\": [0.55, 1.0], \"range\": [0, 30], \"title\": {\"text\": \"Dias transcorridos\"}}, \"yaxis\": {\"anchor\": \"x\", \"domain\": [0.575, 1.0], \"range\": [-0.6, 4.2], \"title\": {\"text\": \"Casos diagnosticados\"}, \"type\": \"log\"}, \"yaxis2\": {\"anchor\": \"x2\", \"domain\": [0.575, 1.0], \"range\": [-0.6, 4.2], \"type\": \"log\"}, \"yaxis3\": {\"anchor\": \"x3\", \"domain\": [0.0, 0.425], \"range\": [0, 2500], \"title\": {\"text\": \"\\u00d3bitos nas duas cidades\"}}, \"yaxis4\": {\"anchor\": \"x4\", \"domain\": [0.0, 0.425], \"type\": \"log\"}},\n",
       "                        {\"responsive\": true}\n",
       "                    ).then(function(){\n",
       "                            \n",
       "var gd = document.getElementById('69069eea-0205-4755-baa3-3880650d9e85');\n",
       "var x = new MutationObserver(function (mutations, observer) {{\n",
       "        var display = window.getComputedStyle(gd).display;\n",
       "        if (!display || display === 'none') {{\n",
       "            console.log([gd, 'removed!']);\n",
       "            Plotly.purge(gd);\n",
       "            observer.disconnect();\n",
       "        }}\n",
       "}});\n",
       "\n",
       "// Listen for the removal of the full notebook cells\n",
       "var notebookContainer = gd.closest('#notebook-container');\n",
       "if (notebookContainer) {{\n",
       "    x.observe(notebookContainer, {childList: true});\n",
       "}}\n",
       "\n",
       "// Listen for the clearing of the current output cell\n",
       "var outputEl = gd.closest('.output');\n",
       "if (outputEl) {{\n",
       "    x.observe(outputEl, {childList: true});\n",
       "}}\n",
       "\n",
       "                        })\n",
       "                };\n",
       "                });\n",
       "            </script>\n",
       "        </div>"
      ]
     },
     "metadata": {},
     "output_type": "display_data"
    }
   ],
   "source": [
    "fig = make_subplots(rows=2, cols = 2, vertical_spacing = .15)\n",
    "\n",
    "\n",
    "## RJ\n",
    "for i in range(2,7):\n",
    "    fig.add_trace(go.Scatter(\n",
    "    x = ts,\n",
    "    y = np.abs(sol_multi_regime_modif[i]-sol_multi_regime_base[i]), name = compartimentos[i], marker = dict(\n",
    "    color = colors[i-2]), legendgroup = compartimentos[i]), row = 1, col = 1)\n",
    "\n",
    "fig.add_trace(go.Scatter(\n",
    "y = tot_deaths(sol_multi_regime_modif), name = 'Abrir por dois dias', marker = dict(\n",
    "color = 'crimson')), row = 2, col = 1)\n",
    "\n",
    "fig.add_trace(go.Scatter(\n",
    "y = tot_deaths(sol_multi_regime_base), name = 'Manter a quarentena', marker = dict(\n",
    "color = 'indigo')), row = 2, col = 1)\n",
    "    \n",
    "    \n",
    "## SP\n",
    "for i in range(9,14):\n",
    "    fig.add_trace(go.Scatter(\n",
    "    x = ts,\n",
    "    y = np.abs(sol_multi_regime_modif[i]-sol_multi_regime_base[i]), name = compartimentos[i-7], showlegend = False, marker = dict(\n",
    "    color = colors[i-9]), legendgroup = compartimentos[i-7]), row = 1, col = 2)\n",
    "    \n",
    "fig.add_trace(go.Scatter(\n",
    "y = tot_deaths(sol_multi_regime_modif) - tot_deaths(sol_multi_regime_base), name = 'Óbitos', marker = dict(\n",
    "color = 'black')), row = 2, col = 2)\n",
    "\n",
    "\n",
    "    \n",
    "\n",
    "fig.update_layout(\n",
    "    shapes = shapes\n",
    ")\n",
    "fig.update_layout(title_text = 'Comparação entre regimes: abrir por dois dias ou não abrir', title_x = .2,\n",
    "                  height=650, width=989, yaxis=dict(type='log'), yaxis2=dict(type='log'),\n",
    "                  yaxis4 = dict(type = 'log'), annotations = annotations)\n",
    "fig.update_xaxes(range = [0,30], row = 2, col = 1, title_text = 'Dias transcorridos')\n",
    "fig.update_xaxes(range = [0,30], row = 2, col = 2, title_text = 'Dias transcorridos')  \n",
    "fig.update_yaxes(range = [-0.6,4.2], row = 1, col = 1, title_text = 'Casos diagnosticados')\n",
    "fig.update_yaxes(range = [-0.6,4.2], row = 1, col = 2)\n",
    "fig.update_yaxes(range = [0,2500], row = 2, col = 1, title_text = 'Óbitos nas duas cidades')\n",
    "fig.show()"
   ]
  },
  {
   "cell_type": "markdown",
   "metadata": {},
   "source": [
    "#  Rio de Janeiro x Niteroi\n",
    "\n",
    "Estamos considerando uma modelagem onde a ponte Rio-Niterói está fechada para indivíduos não essenciais, ajustando $\\mu$ e $\\delta$ para termos $300$ pessoas por dia saindo e entrando das cidades "
   ]
  },
  {
   "cell_type": "markdown",
   "metadata": {},
   "source": [
    "## Niteroi"
   ]
  },
  {
   "cell_type": "markdown",
   "metadata": {},
   "source": [
    "### Dados iniciais para Niteroi\n",
    "\n",
    "Consideramos agora um estudo de caso entre as cidades do Rio de Janeiro e Nitéroi\n",
    "\n",
    "Usamos a mesma taxa de subnotificação e exposição do RJ.\n",
    "\n",
    "Os dados de `Diagnosticados` foram retirados do site do Estado: http://painel.saude.rj.gov.br/monitoramento/covid19.html\n",
    "\n",
    "Nos dados de Niterói não há informações de `Recuperados`, então fizemos uma estimativa com base na mesma proporção de `Recuperados` do RJ"
   ]
  },
  {
   "cell_type": "code",
   "execution_count": 30,
   "metadata": {},
   "outputs": [
    {
     "name": "stdout",
     "output_type": "stream",
     "text": [
      "Número de Recuperados Estimados na cidade: 2\n"
     ]
    }
   ],
   "source": [
    "print(f'Número de Recuperados Estimados na cidade: %d' % (int(72/taxa_correcao_Rio)))"
   ]
  },
  {
   "cell_type": "code",
   "execution_count": 31,
   "metadata": {},
   "outputs": [],
   "source": [
    "# Dados para a cidade de Niterói\n",
    "# IBGE 2019 (estimativa)\n",
    "pop_Nit = 487582 \n",
    "# 01 de Abril\n",
    "diagn_Nit, recup_Nit = 72, 2\n",
    "infect_Nit = diagn_Nit*(taxa_subn-1)*(1 - prop_assint)\n",
    "assint_Nit = diagn_Nit*(taxa_subn-1)*prop_assint\n",
    "expostos_Nit = diagn_Nit*7\n",
    "quarentena_Nit = 0.6 * pop_Nit\n",
    "\n",
    "suscetiveis_Nit = pop_Nit- (quarentena_Nit + expostos_Nit + assint_Nit + infect_Nit + diagn_Nit + recup_Nit)"
   ]
  },
  {
   "cell_type": "markdown",
   "metadata": {},
   "source": [
    "### Parâmetros para a cidade de Niterói\n",
    "\n",
    "Usamos os mesmos parâmetros da cidade do Rio de Janeiro, modificando $\\beta$ para a população de Niterói."
   ]
  },
  {
   "cell_type": "code",
   "execution_count": 32,
   "metadata": {},
   "outputs": [],
   "source": [
    "# Idx       :         0,    1,     2,    3,     4,    5,     6,      7,    8,      9,     10,     11,     12    13     14\n",
    "# Parâmetros:      beta,  theta,   p, lambda, sigma, rho,  epsA, gammaA, epsI, gammaI, deathI, gammaD, deathD   mu    delta\n",
    "params_nit_base = (1.38e-6, 1/10, 1/4,    1/6,   1/7, 0.94, 1/100, 0.00996, 1/30, 0.0766, 0.0026, 0.0843, 0.0017, 3e-4, 0)"
   ]
  },
  {
   "cell_type": "markdown",
   "metadata": {},
   "source": [
    "### Parâmetros para a cidade do Rio, considerando Niterói"
   ]
  },
  {
   "cell_type": "code",
   "execution_count": 33,
   "metadata": {},
   "outputs": [],
   "source": [
    "# Idx       :         0,    1,     2,    3,     4,    5,     6,      7,    8,      9,     10,     11,     12    13     14\n",
    "# Parâmetros:      beta,  theta,   p, lambda, sigma, rho,  epsA, gammaA, epsI, gammaI, deathI, gammaD, deathD   mu    delta\n",
    "params_rio_nit_base = (1e-7, 1/10, 1/4,    1/6,   1/7, 0.94, 1/100, 0.0996, 1/30, 0.0766, 0.0026, 0.0843, 0.0017,2.2e-5, 0)"
   ]
  },
  {
   "cell_type": "markdown",
   "metadata": {},
   "source": [
    "### Dados Reais para Niter&oacute;i\n",
    "\n",
    "Dados de novos casos por dia de `Diagnosticados` e `Óbitos`"
   ]
  },
  {
   "cell_type": "code",
   "execution_count": 34,
   "metadata": {},
   "outputs": [
    {
     "name": "stdout",
     "output_type": "stream",
     "text": [
      "No total 6 dados foram inutilizados\n",
      "No total 2 dados foram inutilizados\n"
     ]
    },
    {
     "data": {
      "text/plain": [
       "[[2, 2, 5, 1, 0, 7, 3, 0, 11, 0, 3, 2, 25, 0, 19],\n",
       " [0, 0, 0, 0, 0, 0, 1, 0, 1, 0, 2, 1, 0, 0, 0]]"
      ]
     },
     "execution_count": 34,
     "metadata": {},
     "output_type": "execute_result"
    }
   ],
   "source": [
    "dados_Nit = [get_data('NITEROI', df_confirmados, T_fim = len(dados_Rio[0]), T_start = '01-04-2020')[1], get_data('NITEROI', df_obitos, T_fim = len(dados_Rio[1]), T_start = '01-04-2020')[1]] ## Do dia 29/03 até o dia 12/04\n",
    "dados_Nit"
   ]
  },
  {
   "cell_type": "markdown",
   "metadata": {},
   "source": [
    "## Preparando os dados para o modelo"
   ]
  },
  {
   "cell_type": "markdown",
   "metadata": {},
   "source": [
    "### Condição Inicial\n",
    "\n",
    "A condição inicial das duas cidades é dada em uma lista concatenada `CI`, pois o metódo `solve_ivp` só aceita o parâmetro `y0` como uma lista de uma dimensão"
   ]
  },
  {
   "cell_type": "code",
   "execution_count": 35,
   "metadata": {},
   "outputs": [],
   "source": [
    "# condições iniciais\n",
    "CI_Rio = [suscetiveis_Rio, quarentena_Rio, expostos_Rio, assint_Rio, infect_Rio, diagn_Rio, recup_Rio]\n",
    "CI_Nit = [suscetiveis_Nit, quarentena_Nit, expostos_Nit, assint_Nit, infect_Nit, diagn_Nit, recup_Nit]\n",
    "CI_Rio_Nit     = CI_Rio + CI_Nit"
   ]
  },
  {
   "cell_type": "markdown",
   "metadata": {},
   "source": [
    "### Parâmetros\n",
    "\n",
    "Os parâmetros das duas cidades são dados em uma lista de listas de duas dimensões `params`, onde o primeiro elemento diz respeito à cidade A e o segundo elemento diz respeito à cidade B "
   ]
  },
  {
   "cell_type": "code",
   "execution_count": 36,
   "metadata": {},
   "outputs": [],
   "source": [
    "params_rio_nit = [[i,j] for i,j in zip(params_rio_nit_base, params_nit_base)]"
   ]
  },
  {
   "cell_type": "code",
   "execution_count": 37,
   "metadata": {},
   "outputs": [
    {
     "name": "stdout",
     "output_type": "stream",
     "text": [
      "População Saindo de Niterói por dia: 146.27\n",
      "População Saindo do RJ por dia: 147.82\n"
     ]
    }
   ],
   "source": [
    "print(f'População Saindo de Niterói por dia: %.2f' % (params_nit_base[-2]*pop_Nit+params_nit_base[-1]*pop_Nit))\n",
    "print(f'População Saindo do RJ por dia: %.2f' % (params_rio_nit_base[-2]*pop_Rio+params_rio_nit_base[-1]*pop_Rio))"
   ]
  },
  {
   "cell_type": "code",
   "execution_count": 38,
   "metadata": {},
   "outputs": [],
   "source": [
    "T_fim = len(dados_Nit[0])\n",
    "\n",
    "start = dt.datetime.strptime(\"1-04-2020\", \"%d-%m-%Y\")\n",
    "then = start + dt.timedelta(days=T_fim)\n",
    "days = mdates.drange(start,then,dt.timedelta(days=1))"
   ]
  },
  {
   "cell_type": "code",
   "execution_count": 39,
   "metadata": {},
   "outputs": [],
   "source": [
    "# Supondo mantida a quarentena\n",
    "f_rio_base = lambda t,v: G(t,v, params_rio_nit)\n",
    "results_base = solve_ivp(f_rio_base, (1,T_fim), CI_Rio_Nit, t_eval=range(1,T_fim+1))"
   ]
  },
  {
   "cell_type": "code",
   "execution_count": 40,
   "metadata": {},
   "outputs": [],
   "source": [
    "diagn = new_diagn(results_base.y, params_rio_nit)\n",
    "deaths = new_deaths(results_base.y, params_rio_nit)"
   ]
  },
  {
   "cell_type": "code",
   "execution_count": 48,
   "metadata": {},
   "outputs": [
    {
     "data": {
      "application/vnd.plotly.v1+json": {
       "config": {
        "plotlyServerURL": "https://plot.ly"
       },
       "data": [
        {
         "legendgroup": "dados reais",
         "marker": {
          "color": "cornflowerblue",
          "symbol": "x"
         },
         "name": "Dados Reais",
         "type": "scatter",
         "x": [
          "01/04",
          "02/04",
          "03/04",
          "04/04",
          "05/04",
          "06/04",
          "07/04",
          "08/04",
          "09/04",
          "10/04",
          "11/04",
          "12/04",
          "13/04",
          "14/04",
          "15/04"
         ],
         "xaxis": "x",
         "y": [
          114,
          110,
          60,
          115,
          86,
          42,
          141,
          198,
          184,
          175,
          97,
          91,
          326,
          71,
          126
         ],
         "yaxis": "y"
        },
        {
         "legendgroup": "modelo",
         "line": {
          "dash": "3px"
         },
         "marker": {
          "color": "tomato"
         },
         "name": "Modelo",
         "type": "scatter",
         "x": [
          "01/04",
          "02/04",
          "03/04",
          "04/04",
          "05/04",
          "06/04",
          "07/04",
          "08/04",
          "09/04",
          "10/04",
          "11/04",
          "12/04",
          "13/04",
          "14/04",
          "15/04"
         ],
         "xaxis": "x",
         "y": [
          71.55866666666665,
          84.49777028426837,
          95.32211880224749,
          104.71685861769615,
          113.26021971218867,
          121.41764965960459,
          129.4240494954155,
          137.48332964810936,
          145.80371628457675,
          154.54122043125165,
          163.75405474605984,
          173.50805500665797,
          183.88794144221785,
          194.99545443195512,
          206.88227147314308
         ],
         "yaxis": "y"
        },
        {
         "legendgroup": "dados reais",
         "marker": {
          "color": "cornflowerblue",
          "symbol": "x"
         },
         "name": "Dados Reais",
         "showlegend": false,
         "type": "scatter",
         "x": [
          "01/04",
          "02/04",
          "03/04",
          "04/04",
          "05/04",
          "06/04",
          "07/04",
          "08/04",
          "09/04",
          "10/04",
          "11/04",
          "12/04",
          "13/04",
          "14/04",
          "15/04"
         ],
         "xaxis": "x2",
         "y": [
          2,
          2,
          5,
          1,
          0,
          7,
          3,
          0,
          11,
          0,
          3,
          2,
          25,
          0,
          19
         ],
         "yaxis": "y2"
        },
        {
         "legendgroup": "modelo",
         "line": {
          "dash": "3px"
         },
         "marker": {
          "color": "tomato"
         },
         "name": "Modelo",
         "showlegend": false,
         "type": "scatter",
         "x": [
          "01/04",
          "02/04",
          "03/04",
          "04/04",
          "05/04",
          "06/04",
          "07/04",
          "08/04",
          "09/04",
          "10/04",
          "11/04",
          "12/04",
          "13/04",
          "14/04",
          "15/04"
         ],
         "xaxis": "x2",
         "y": [
          7.392,
          9.069653026585286,
          10.49402227595208,
          11.742100255119595,
          12.879133725883458,
          13.9579898230536,
          15.00638696390739,
          16.048522828238628,
          17.10891811734511,
          18.206299629499505,
          19.348648073264126,
          20.54466488832423,
          21.805008309989276,
          23.14209116219638,
          24.56280982763382
         ],
         "yaxis": "y2"
        },
        {
         "legendgroup": "dados reais",
         "marker": {
          "color": "cornflowerblue",
          "symbol": "x"
         },
         "name": "Dados Reais",
         "showlegend": false,
         "type": "scatter",
         "x": [
          "01/04",
          "02/04",
          "03/04",
          "04/04",
          "05/04",
          "06/04",
          "07/04",
          "08/04",
          "09/04",
          "10/04",
          "11/04",
          "12/04",
          "13/04",
          "14/04",
          "15/04"
         ],
         "xaxis": "x3",
         "y": [
          4,
          7,
          5,
          2,
          4,
          5,
          12,
          14,
          9,
          10,
          6,
          8,
          9,
          25,
          27
         ],
         "yaxis": "y3"
        },
        {
         "legendgroup": "modelo",
         "line": {
          "dash": "3px"
         },
         "marker": {
          "color": "tomato"
         },
         "name": "Modelo",
         "showlegend": false,
         "type": "scatter",
         "x": [
          "01/04",
          "02/04",
          "03/04",
          "04/04",
          "05/04",
          "06/04",
          "07/04",
          "08/04",
          "09/04",
          "10/04",
          "11/04",
          "12/04",
          "13/04",
          "14/04",
          "15/04"
         ],
         "xaxis": "x3",
         "y": [
          3.721979999999999,
          5.047167511889162,
          6.195345346904234,
          7.218491348390951,
          8.160796190722461,
          9.058280909622544,
          9.930617246699446,
          10.795064883686909,
          11.668966893780183,
          12.565837228095459,
          13.492155116528943,
          14.454793647056604,
          15.461839258066465,
          16.522461307544194,
          17.642225738536826
         ],
         "yaxis": "y3"
        },
        {
         "legendgroup": "dados reais",
         "marker": {
          "color": "cornflowerblue",
          "symbol": "x"
         },
         "name": "Dados Reais",
         "showlegend": false,
         "type": "scatter",
         "x": [
          "01/04",
          "02/04",
          "03/04",
          "04/04",
          "05/04",
          "06/04",
          "07/04",
          "08/04",
          "09/04",
          "10/04",
          "11/04",
          "12/04",
          "13/04",
          "14/04",
          "15/04"
         ],
         "xaxis": "x4",
         "y": [
          0,
          0,
          0,
          0,
          0,
          0,
          1,
          0,
          1,
          0,
          2,
          1,
          0,
          0,
          0
         ],
         "yaxis": "y4"
        },
        {
         "legendgroup": "modelo",
         "line": {
          "dash": "3px"
         },
         "marker": {
          "color": "tomato"
         },
         "name": "Modelo",
         "showlegend": false,
         "type": "scatter",
         "x": [
          "01/04",
          "02/04",
          "03/04",
          "04/04",
          "05/04",
          "06/04",
          "07/04",
          "08/04",
          "09/04",
          "10/04",
          "11/04",
          "12/04",
          "13/04",
          "14/04",
          "15/04"
         ],
         "xaxis": "x4",
         "y": [
          0.38447999999999993,
          0.5217180259258118,
          0.6414686671095639,
          0.749178645464116,
          0.8494771576714869,
          0.9461316745390542,
          1.0411568188121654,
          1.136323467359244,
          1.2334271923760933,
          1.3338618120055494,
          1.4382736964000855,
          1.5473627033002915,
          1.6619687856689136,
          1.7830578888818365,
          1.9112150183615477
         ],
         "yaxis": "y4"
        }
       ],
       "layout": {
        "annotations": [
         {
          "font": {
           "size": 16
          },
          "showarrow": false,
          "text": "Diagnosticados Rio de Janeiro",
          "x": 0.225,
          "xanchor": "center",
          "xref": "paper",
          "y": 1,
          "yanchor": "bottom",
          "yref": "paper"
         },
         {
          "font": {
           "size": 16
          },
          "showarrow": false,
          "text": "Diagnosticados Niterói",
          "x": 0.775,
          "xanchor": "center",
          "xref": "paper",
          "y": 1,
          "yanchor": "bottom",
          "yref": "paper"
         },
         {
          "font": {
           "size": 16
          },
          "showarrow": false,
          "text": "Óbitos Rio de Janeiro",
          "x": 0.225,
          "xanchor": "center",
          "xref": "paper",
          "y": 0.425,
          "yanchor": "bottom",
          "yref": "paper"
         },
         {
          "font": {
           "size": 16
          },
          "showarrow": false,
          "text": "Óbitos Niterói",
          "x": 0.775,
          "xanchor": "center",
          "xref": "paper",
          "y": 0.425,
          "yanchor": "bottom",
          "yref": "paper"
         }
        ],
        "height": 600,
        "template": {
         "data": {
          "bar": [
           {
            "error_x": {
             "color": "#2a3f5f"
            },
            "error_y": {
             "color": "#2a3f5f"
            },
            "marker": {
             "line": {
              "color": "#E5ECF6",
              "width": 0.5
             }
            },
            "type": "bar"
           }
          ],
          "barpolar": [
           {
            "marker": {
             "line": {
              "color": "#E5ECF6",
              "width": 0.5
             }
            },
            "type": "barpolar"
           }
          ],
          "carpet": [
           {
            "aaxis": {
             "endlinecolor": "#2a3f5f",
             "gridcolor": "white",
             "linecolor": "white",
             "minorgridcolor": "white",
             "startlinecolor": "#2a3f5f"
            },
            "baxis": {
             "endlinecolor": "#2a3f5f",
             "gridcolor": "white",
             "linecolor": "white",
             "minorgridcolor": "white",
             "startlinecolor": "#2a3f5f"
            },
            "type": "carpet"
           }
          ],
          "choropleth": [
           {
            "colorbar": {
             "outlinewidth": 0,
             "ticks": ""
            },
            "type": "choropleth"
           }
          ],
          "contour": [
           {
            "colorbar": {
             "outlinewidth": 0,
             "ticks": ""
            },
            "colorscale": [
             [
              0,
              "#0d0887"
             ],
             [
              0.1111111111111111,
              "#46039f"
             ],
             [
              0.2222222222222222,
              "#7201a8"
             ],
             [
              0.3333333333333333,
              "#9c179e"
             ],
             [
              0.4444444444444444,
              "#bd3786"
             ],
             [
              0.5555555555555556,
              "#d8576b"
             ],
             [
              0.6666666666666666,
              "#ed7953"
             ],
             [
              0.7777777777777778,
              "#fb9f3a"
             ],
             [
              0.8888888888888888,
              "#fdca26"
             ],
             [
              1,
              "#f0f921"
             ]
            ],
            "type": "contour"
           }
          ],
          "contourcarpet": [
           {
            "colorbar": {
             "outlinewidth": 0,
             "ticks": ""
            },
            "type": "contourcarpet"
           }
          ],
          "heatmap": [
           {
            "colorbar": {
             "outlinewidth": 0,
             "ticks": ""
            },
            "colorscale": [
             [
              0,
              "#0d0887"
             ],
             [
              0.1111111111111111,
              "#46039f"
             ],
             [
              0.2222222222222222,
              "#7201a8"
             ],
             [
              0.3333333333333333,
              "#9c179e"
             ],
             [
              0.4444444444444444,
              "#bd3786"
             ],
             [
              0.5555555555555556,
              "#d8576b"
             ],
             [
              0.6666666666666666,
              "#ed7953"
             ],
             [
              0.7777777777777778,
              "#fb9f3a"
             ],
             [
              0.8888888888888888,
              "#fdca26"
             ],
             [
              1,
              "#f0f921"
             ]
            ],
            "type": "heatmap"
           }
          ],
          "heatmapgl": [
           {
            "colorbar": {
             "outlinewidth": 0,
             "ticks": ""
            },
            "colorscale": [
             [
              0,
              "#0d0887"
             ],
             [
              0.1111111111111111,
              "#46039f"
             ],
             [
              0.2222222222222222,
              "#7201a8"
             ],
             [
              0.3333333333333333,
              "#9c179e"
             ],
             [
              0.4444444444444444,
              "#bd3786"
             ],
             [
              0.5555555555555556,
              "#d8576b"
             ],
             [
              0.6666666666666666,
              "#ed7953"
             ],
             [
              0.7777777777777778,
              "#fb9f3a"
             ],
             [
              0.8888888888888888,
              "#fdca26"
             ],
             [
              1,
              "#f0f921"
             ]
            ],
            "type": "heatmapgl"
           }
          ],
          "histogram": [
           {
            "marker": {
             "colorbar": {
              "outlinewidth": 0,
              "ticks": ""
             }
            },
            "type": "histogram"
           }
          ],
          "histogram2d": [
           {
            "colorbar": {
             "outlinewidth": 0,
             "ticks": ""
            },
            "colorscale": [
             [
              0,
              "#0d0887"
             ],
             [
              0.1111111111111111,
              "#46039f"
             ],
             [
              0.2222222222222222,
              "#7201a8"
             ],
             [
              0.3333333333333333,
              "#9c179e"
             ],
             [
              0.4444444444444444,
              "#bd3786"
             ],
             [
              0.5555555555555556,
              "#d8576b"
             ],
             [
              0.6666666666666666,
              "#ed7953"
             ],
             [
              0.7777777777777778,
              "#fb9f3a"
             ],
             [
              0.8888888888888888,
              "#fdca26"
             ],
             [
              1,
              "#f0f921"
             ]
            ],
            "type": "histogram2d"
           }
          ],
          "histogram2dcontour": [
           {
            "colorbar": {
             "outlinewidth": 0,
             "ticks": ""
            },
            "colorscale": [
             [
              0,
              "#0d0887"
             ],
             [
              0.1111111111111111,
              "#46039f"
             ],
             [
              0.2222222222222222,
              "#7201a8"
             ],
             [
              0.3333333333333333,
              "#9c179e"
             ],
             [
              0.4444444444444444,
              "#bd3786"
             ],
             [
              0.5555555555555556,
              "#d8576b"
             ],
             [
              0.6666666666666666,
              "#ed7953"
             ],
             [
              0.7777777777777778,
              "#fb9f3a"
             ],
             [
              0.8888888888888888,
              "#fdca26"
             ],
             [
              1,
              "#f0f921"
             ]
            ],
            "type": "histogram2dcontour"
           }
          ],
          "mesh3d": [
           {
            "colorbar": {
             "outlinewidth": 0,
             "ticks": ""
            },
            "type": "mesh3d"
           }
          ],
          "parcoords": [
           {
            "line": {
             "colorbar": {
              "outlinewidth": 0,
              "ticks": ""
             }
            },
            "type": "parcoords"
           }
          ],
          "pie": [
           {
            "automargin": true,
            "type": "pie"
           }
          ],
          "scatter": [
           {
            "marker": {
             "colorbar": {
              "outlinewidth": 0,
              "ticks": ""
             }
            },
            "type": "scatter"
           }
          ],
          "scatter3d": [
           {
            "line": {
             "colorbar": {
              "outlinewidth": 0,
              "ticks": ""
             }
            },
            "marker": {
             "colorbar": {
              "outlinewidth": 0,
              "ticks": ""
             }
            },
            "type": "scatter3d"
           }
          ],
          "scattercarpet": [
           {
            "marker": {
             "colorbar": {
              "outlinewidth": 0,
              "ticks": ""
             }
            },
            "type": "scattercarpet"
           }
          ],
          "scattergeo": [
           {
            "marker": {
             "colorbar": {
              "outlinewidth": 0,
              "ticks": ""
             }
            },
            "type": "scattergeo"
           }
          ],
          "scattergl": [
           {
            "marker": {
             "colorbar": {
              "outlinewidth": 0,
              "ticks": ""
             }
            },
            "type": "scattergl"
           }
          ],
          "scattermapbox": [
           {
            "marker": {
             "colorbar": {
              "outlinewidth": 0,
              "ticks": ""
             }
            },
            "type": "scattermapbox"
           }
          ],
          "scatterpolar": [
           {
            "marker": {
             "colorbar": {
              "outlinewidth": 0,
              "ticks": ""
             }
            },
            "type": "scatterpolar"
           }
          ],
          "scatterpolargl": [
           {
            "marker": {
             "colorbar": {
              "outlinewidth": 0,
              "ticks": ""
             }
            },
            "type": "scatterpolargl"
           }
          ],
          "scatterternary": [
           {
            "marker": {
             "colorbar": {
              "outlinewidth": 0,
              "ticks": ""
             }
            },
            "type": "scatterternary"
           }
          ],
          "surface": [
           {
            "colorbar": {
             "outlinewidth": 0,
             "ticks": ""
            },
            "colorscale": [
             [
              0,
              "#0d0887"
             ],
             [
              0.1111111111111111,
              "#46039f"
             ],
             [
              0.2222222222222222,
              "#7201a8"
             ],
             [
              0.3333333333333333,
              "#9c179e"
             ],
             [
              0.4444444444444444,
              "#bd3786"
             ],
             [
              0.5555555555555556,
              "#d8576b"
             ],
             [
              0.6666666666666666,
              "#ed7953"
             ],
             [
              0.7777777777777778,
              "#fb9f3a"
             ],
             [
              0.8888888888888888,
              "#fdca26"
             ],
             [
              1,
              "#f0f921"
             ]
            ],
            "type": "surface"
           }
          ],
          "table": [
           {
            "cells": {
             "fill": {
              "color": "#EBF0F8"
             },
             "line": {
              "color": "white"
             }
            },
            "header": {
             "fill": {
              "color": "#C8D4E3"
             },
             "line": {
              "color": "white"
             }
            },
            "type": "table"
           }
          ]
         },
         "layout": {
          "annotationdefaults": {
           "arrowcolor": "#2a3f5f",
           "arrowhead": 0,
           "arrowwidth": 1
          },
          "coloraxis": {
           "colorbar": {
            "outlinewidth": 0,
            "ticks": ""
           }
          },
          "colorscale": {
           "diverging": [
            [
             0,
             "#8e0152"
            ],
            [
             0.1,
             "#c51b7d"
            ],
            [
             0.2,
             "#de77ae"
            ],
            [
             0.3,
             "#f1b6da"
            ],
            [
             0.4,
             "#fde0ef"
            ],
            [
             0.5,
             "#f7f7f7"
            ],
            [
             0.6,
             "#e6f5d0"
            ],
            [
             0.7,
             "#b8e186"
            ],
            [
             0.8,
             "#7fbc41"
            ],
            [
             0.9,
             "#4d9221"
            ],
            [
             1,
             "#276419"
            ]
           ],
           "sequential": [
            [
             0,
             "#0d0887"
            ],
            [
             0.1111111111111111,
             "#46039f"
            ],
            [
             0.2222222222222222,
             "#7201a8"
            ],
            [
             0.3333333333333333,
             "#9c179e"
            ],
            [
             0.4444444444444444,
             "#bd3786"
            ],
            [
             0.5555555555555556,
             "#d8576b"
            ],
            [
             0.6666666666666666,
             "#ed7953"
            ],
            [
             0.7777777777777778,
             "#fb9f3a"
            ],
            [
             0.8888888888888888,
             "#fdca26"
            ],
            [
             1,
             "#f0f921"
            ]
           ],
           "sequentialminus": [
            [
             0,
             "#0d0887"
            ],
            [
             0.1111111111111111,
             "#46039f"
            ],
            [
             0.2222222222222222,
             "#7201a8"
            ],
            [
             0.3333333333333333,
             "#9c179e"
            ],
            [
             0.4444444444444444,
             "#bd3786"
            ],
            [
             0.5555555555555556,
             "#d8576b"
            ],
            [
             0.6666666666666666,
             "#ed7953"
            ],
            [
             0.7777777777777778,
             "#fb9f3a"
            ],
            [
             0.8888888888888888,
             "#fdca26"
            ],
            [
             1,
             "#f0f921"
            ]
           ]
          },
          "colorway": [
           "#636efa",
           "#EF553B",
           "#00cc96",
           "#ab63fa",
           "#FFA15A",
           "#19d3f3",
           "#FF6692",
           "#B6E880",
           "#FF97FF",
           "#FECB52"
          ],
          "font": {
           "color": "#2a3f5f"
          },
          "geo": {
           "bgcolor": "white",
           "lakecolor": "white",
           "landcolor": "#E5ECF6",
           "showlakes": true,
           "showland": true,
           "subunitcolor": "white"
          },
          "hoverlabel": {
           "align": "left"
          },
          "hovermode": "closest",
          "mapbox": {
           "style": "light"
          },
          "paper_bgcolor": "white",
          "plot_bgcolor": "#E5ECF6",
          "polar": {
           "angularaxis": {
            "gridcolor": "white",
            "linecolor": "white",
            "ticks": ""
           },
           "bgcolor": "#E5ECF6",
           "radialaxis": {
            "gridcolor": "white",
            "linecolor": "white",
            "ticks": ""
           }
          },
          "scene": {
           "xaxis": {
            "backgroundcolor": "#E5ECF6",
            "gridcolor": "white",
            "gridwidth": 2,
            "linecolor": "white",
            "showbackground": true,
            "ticks": "",
            "zerolinecolor": "white"
           },
           "yaxis": {
            "backgroundcolor": "#E5ECF6",
            "gridcolor": "white",
            "gridwidth": 2,
            "linecolor": "white",
            "showbackground": true,
            "ticks": "",
            "zerolinecolor": "white"
           },
           "zaxis": {
            "backgroundcolor": "#E5ECF6",
            "gridcolor": "white",
            "gridwidth": 2,
            "linecolor": "white",
            "showbackground": true,
            "ticks": "",
            "zerolinecolor": "white"
           }
          },
          "shapedefaults": {
           "line": {
            "color": "#2a3f5f"
           }
          },
          "ternary": {
           "aaxis": {
            "gridcolor": "white",
            "linecolor": "white",
            "ticks": ""
           },
           "baxis": {
            "gridcolor": "white",
            "linecolor": "white",
            "ticks": ""
           },
           "bgcolor": "#E5ECF6",
           "caxis": {
            "gridcolor": "white",
            "linecolor": "white",
            "ticks": ""
           }
          },
          "title": {
           "x": 0.05
          },
          "xaxis": {
           "automargin": true,
           "gridcolor": "white",
           "linecolor": "white",
           "ticks": "",
           "title": {
            "standoff": 15
           },
           "zerolinecolor": "white",
           "zerolinewidth": 2
          },
          "yaxis": {
           "automargin": true,
           "gridcolor": "white",
           "linecolor": "white",
           "ticks": "",
           "title": {
            "standoff": 15
           },
           "zerolinecolor": "white",
           "zerolinewidth": 2
          }
         }
        },
        "title": {
         "text": "Comparação entre regimes: abrir por dois dias ou não abrir",
         "x": 0.2
        },
        "width": 950,
        "xaxis": {
         "anchor": "y",
         "domain": [
          0,
          0.45
         ],
         "tickangle": 45
        },
        "xaxis2": {
         "anchor": "y2",
         "domain": [
          0.55,
          1
         ],
         "tickangle": 45
        },
        "xaxis3": {
         "anchor": "y3",
         "domain": [
          0,
          0.45
         ],
         "tickangle": 45,
         "title": {
          "text": "Dias"
         }
        },
        "xaxis4": {
         "anchor": "y4",
         "domain": [
          0.55,
          1
         ],
         "tickangle": 45,
         "title": {
          "text": "Dias"
         }
        },
        "yaxis": {
         "anchor": "x",
         "domain": [
          0.575,
          1
         ],
         "title": {
          "text": "Casos diagnosticados"
         }
        },
        "yaxis2": {
         "anchor": "x2",
         "domain": [
          0.575,
          1
         ]
        },
        "yaxis3": {
         "anchor": "x3",
         "domain": [
          0,
          0.425
         ],
         "title": {
          "text": "Óbitos"
         }
        },
        "yaxis4": {
         "anchor": "x4",
         "domain": [
          0,
          0.425
         ]
        }
       }
      },
      "text/html": [
       "<div>\n",
       "        \n",
       "        \n",
       "            <div id=\"a1ef8efc-1008-432d-a8d7-f27946b74689\" class=\"plotly-graph-div\" style=\"height:600px; width:950px;\"></div>\n",
       "            <script type=\"text/javascript\">\n",
       "                require([\"plotly\"], function(Plotly) {\n",
       "                    window.PLOTLYENV=window.PLOTLYENV || {};\n",
       "                    \n",
       "                if (document.getElementById(\"a1ef8efc-1008-432d-a8d7-f27946b74689\")) {\n",
       "                    Plotly.newPlot(\n",
       "                        'a1ef8efc-1008-432d-a8d7-f27946b74689',\n",
       "                        [{\"legendgroup\": \"dados reais\", \"marker\": {\"color\": \"cornflowerblue\", \"symbol\": \"x\"}, \"name\": \"Dados Reais\", \"type\": \"scatter\", \"x\": [\"01/04\", \"02/04\", \"03/04\", \"04/04\", \"05/04\", \"06/04\", \"07/04\", \"08/04\", \"09/04\", \"10/04\", \"11/04\", \"12/04\", \"13/04\", \"14/04\", \"15/04\"], \"xaxis\": \"x\", \"y\": [114, 110, 60, 115, 86, 42, 141, 198, 184, 175, 97, 91, 326, 71, 126], \"yaxis\": \"y\"}, {\"legendgroup\": \"modelo\", \"line\": {\"dash\": \"3px\"}, \"marker\": {\"color\": \"tomato\"}, \"name\": \"Modelo\", \"type\": \"scatter\", \"x\": [\"01/04\", \"02/04\", \"03/04\", \"04/04\", \"05/04\", \"06/04\", \"07/04\", \"08/04\", \"09/04\", \"10/04\", \"11/04\", \"12/04\", \"13/04\", \"14/04\", \"15/04\"], \"xaxis\": \"x\", \"y\": [71.55866666666665, 84.49777028426837, 95.32211880224749, 104.71685861769615, 113.26021971218867, 121.41764965960459, 129.4240494954155, 137.48332964810936, 145.80371628457675, 154.54122043125165, 163.75405474605984, 173.50805500665797, 183.88794144221785, 194.99545443195512, 206.88227147314308], \"yaxis\": \"y\"}, {\"legendgroup\": \"dados reais\", \"marker\": {\"color\": \"cornflowerblue\", \"symbol\": \"x\"}, \"name\": \"Dados Reais\", \"showlegend\": false, \"type\": \"scatter\", \"x\": [\"01/04\", \"02/04\", \"03/04\", \"04/04\", \"05/04\", \"06/04\", \"07/04\", \"08/04\", \"09/04\", \"10/04\", \"11/04\", \"12/04\", \"13/04\", \"14/04\", \"15/04\"], \"xaxis\": \"x2\", \"y\": [2, 2, 5, 1, 0, 7, 3, 0, 11, 0, 3, 2, 25, 0, 19], \"yaxis\": \"y2\"}, {\"legendgroup\": \"modelo\", \"line\": {\"dash\": \"3px\"}, \"marker\": {\"color\": \"tomato\"}, \"name\": \"Modelo\", \"showlegend\": false, \"type\": \"scatter\", \"x\": [\"01/04\", \"02/04\", \"03/04\", \"04/04\", \"05/04\", \"06/04\", \"07/04\", \"08/04\", \"09/04\", \"10/04\", \"11/04\", \"12/04\", \"13/04\", \"14/04\", \"15/04\"], \"xaxis\": \"x2\", \"y\": [7.392, 9.069653026585286, 10.49402227595208, 11.742100255119595, 12.879133725883458, 13.9579898230536, 15.00638696390739, 16.048522828238628, 17.10891811734511, 18.206299629499505, 19.348648073264126, 20.54466488832423, 21.805008309989276, 23.14209116219638, 24.56280982763382], \"yaxis\": \"y2\"}, {\"legendgroup\": \"dados reais\", \"marker\": {\"color\": \"cornflowerblue\", \"symbol\": \"x\"}, \"name\": \"Dados Reais\", \"showlegend\": false, \"type\": \"scatter\", \"x\": [\"01/04\", \"02/04\", \"03/04\", \"04/04\", \"05/04\", \"06/04\", \"07/04\", \"08/04\", \"09/04\", \"10/04\", \"11/04\", \"12/04\", \"13/04\", \"14/04\", \"15/04\"], \"xaxis\": \"x3\", \"y\": [4, 7, 5, 2, 4, 5, 12, 14, 9, 10, 6, 8, 9, 25, 27], \"yaxis\": \"y3\"}, {\"legendgroup\": \"modelo\", \"line\": {\"dash\": \"3px\"}, \"marker\": {\"color\": \"tomato\"}, \"name\": \"Modelo\", \"showlegend\": false, \"type\": \"scatter\", \"x\": [\"01/04\", \"02/04\", \"03/04\", \"04/04\", \"05/04\", \"06/04\", \"07/04\", \"08/04\", \"09/04\", \"10/04\", \"11/04\", \"12/04\", \"13/04\", \"14/04\", \"15/04\"], \"xaxis\": \"x3\", \"y\": [3.721979999999999, 5.047167511889162, 6.195345346904234, 7.218491348390951, 8.160796190722461, 9.058280909622544, 9.930617246699446, 10.795064883686909, 11.668966893780183, 12.565837228095459, 13.492155116528943, 14.454793647056604, 15.461839258066465, 16.522461307544194, 17.642225738536826], \"yaxis\": \"y3\"}, {\"legendgroup\": \"dados reais\", \"marker\": {\"color\": \"cornflowerblue\", \"symbol\": \"x\"}, \"name\": \"Dados Reais\", \"showlegend\": false, \"type\": \"scatter\", \"x\": [\"01/04\", \"02/04\", \"03/04\", \"04/04\", \"05/04\", \"06/04\", \"07/04\", \"08/04\", \"09/04\", \"10/04\", \"11/04\", \"12/04\", \"13/04\", \"14/04\", \"15/04\"], \"xaxis\": \"x4\", \"y\": [0, 0, 0, 0, 0, 0, 1, 0, 1, 0, 2, 1, 0, 0, 0], \"yaxis\": \"y4\"}, {\"legendgroup\": \"modelo\", \"line\": {\"dash\": \"3px\"}, \"marker\": {\"color\": \"tomato\"}, \"name\": \"Modelo\", \"showlegend\": false, \"type\": \"scatter\", \"x\": [\"01/04\", \"02/04\", \"03/04\", \"04/04\", \"05/04\", \"06/04\", \"07/04\", \"08/04\", \"09/04\", \"10/04\", \"11/04\", \"12/04\", \"13/04\", \"14/04\", \"15/04\"], \"xaxis\": \"x4\", \"y\": [0.38447999999999993, 0.5217180259258118, 0.6414686671095639, 0.749178645464116, 0.8494771576714869, 0.9461316745390542, 1.0411568188121654, 1.136323467359244, 1.2334271923760933, 1.3338618120055494, 1.4382736964000855, 1.5473627033002915, 1.6619687856689136, 1.7830578888818365, 1.9112150183615477], \"yaxis\": \"y4\"}],\n",
       "                        {\"annotations\": [{\"font\": {\"size\": 16}, \"showarrow\": false, \"text\": \"Diagnosticados Rio de Janeiro\", \"x\": 0.225, \"xanchor\": \"center\", \"xref\": \"paper\", \"y\": 1.0, \"yanchor\": \"bottom\", \"yref\": \"paper\"}, {\"font\": {\"size\": 16}, \"showarrow\": false, \"text\": \"Diagnosticados Niter\\u00f3i\", \"x\": 0.775, \"xanchor\": \"center\", \"xref\": \"paper\", \"y\": 1.0, \"yanchor\": \"bottom\", \"yref\": \"paper\"}, {\"font\": {\"size\": 16}, \"showarrow\": false, \"text\": \"\\u00d3bitos Rio de Janeiro\", \"x\": 0.225, \"xanchor\": \"center\", \"xref\": \"paper\", \"y\": 0.425, \"yanchor\": \"bottom\", \"yref\": \"paper\"}, {\"font\": {\"size\": 16}, \"showarrow\": false, \"text\": \"\\u00d3bitos Niter\\u00f3i\", \"x\": 0.775, \"xanchor\": \"center\", \"xref\": \"paper\", \"y\": 0.425, \"yanchor\": \"bottom\", \"yref\": \"paper\"}], \"height\": 600, \"template\": {\"data\": {\"bar\": [{\"error_x\": {\"color\": \"#2a3f5f\"}, \"error_y\": {\"color\": \"#2a3f5f\"}, \"marker\": {\"line\": {\"color\": \"#E5ECF6\", \"width\": 0.5}}, \"type\": \"bar\"}], \"barpolar\": [{\"marker\": {\"line\": {\"color\": \"#E5ECF6\", \"width\": 0.5}}, \"type\": \"barpolar\"}], \"carpet\": [{\"aaxis\": {\"endlinecolor\": \"#2a3f5f\", \"gridcolor\": \"white\", \"linecolor\": \"white\", \"minorgridcolor\": \"white\", \"startlinecolor\": \"#2a3f5f\"}, \"baxis\": {\"endlinecolor\": \"#2a3f5f\", \"gridcolor\": \"white\", \"linecolor\": \"white\", \"minorgridcolor\": \"white\", \"startlinecolor\": \"#2a3f5f\"}, \"type\": \"carpet\"}], \"choropleth\": [{\"colorbar\": {\"outlinewidth\": 0, \"ticks\": \"\"}, \"type\": \"choropleth\"}], \"contour\": [{\"colorbar\": {\"outlinewidth\": 0, \"ticks\": \"\"}, \"colorscale\": [[0.0, \"#0d0887\"], [0.1111111111111111, \"#46039f\"], [0.2222222222222222, \"#7201a8\"], [0.3333333333333333, \"#9c179e\"], [0.4444444444444444, \"#bd3786\"], [0.5555555555555556, \"#d8576b\"], [0.6666666666666666, \"#ed7953\"], [0.7777777777777778, \"#fb9f3a\"], [0.8888888888888888, \"#fdca26\"], [1.0, \"#f0f921\"]], \"type\": \"contour\"}], \"contourcarpet\": [{\"colorbar\": {\"outlinewidth\": 0, \"ticks\": \"\"}, \"type\": \"contourcarpet\"}], \"heatmap\": [{\"colorbar\": {\"outlinewidth\": 0, \"ticks\": \"\"}, \"colorscale\": [[0.0, \"#0d0887\"], [0.1111111111111111, \"#46039f\"], [0.2222222222222222, \"#7201a8\"], [0.3333333333333333, \"#9c179e\"], [0.4444444444444444, \"#bd3786\"], [0.5555555555555556, \"#d8576b\"], [0.6666666666666666, \"#ed7953\"], [0.7777777777777778, \"#fb9f3a\"], [0.8888888888888888, \"#fdca26\"], [1.0, \"#f0f921\"]], \"type\": \"heatmap\"}], \"heatmapgl\": [{\"colorbar\": {\"outlinewidth\": 0, \"ticks\": \"\"}, \"colorscale\": [[0.0, \"#0d0887\"], [0.1111111111111111, \"#46039f\"], [0.2222222222222222, \"#7201a8\"], [0.3333333333333333, \"#9c179e\"], [0.4444444444444444, \"#bd3786\"], [0.5555555555555556, \"#d8576b\"], [0.6666666666666666, \"#ed7953\"], [0.7777777777777778, \"#fb9f3a\"], [0.8888888888888888, \"#fdca26\"], [1.0, \"#f0f921\"]], \"type\": \"heatmapgl\"}], \"histogram\": [{\"marker\": {\"colorbar\": {\"outlinewidth\": 0, \"ticks\": \"\"}}, \"type\": \"histogram\"}], \"histogram2d\": [{\"colorbar\": {\"outlinewidth\": 0, \"ticks\": \"\"}, \"colorscale\": [[0.0, \"#0d0887\"], [0.1111111111111111, \"#46039f\"], [0.2222222222222222, \"#7201a8\"], [0.3333333333333333, \"#9c179e\"], [0.4444444444444444, \"#bd3786\"], [0.5555555555555556, \"#d8576b\"], [0.6666666666666666, \"#ed7953\"], [0.7777777777777778, \"#fb9f3a\"], [0.8888888888888888, \"#fdca26\"], [1.0, \"#f0f921\"]], \"type\": \"histogram2d\"}], \"histogram2dcontour\": [{\"colorbar\": {\"outlinewidth\": 0, \"ticks\": \"\"}, \"colorscale\": [[0.0, \"#0d0887\"], [0.1111111111111111, \"#46039f\"], [0.2222222222222222, \"#7201a8\"], [0.3333333333333333, \"#9c179e\"], [0.4444444444444444, \"#bd3786\"], [0.5555555555555556, \"#d8576b\"], [0.6666666666666666, \"#ed7953\"], [0.7777777777777778, \"#fb9f3a\"], [0.8888888888888888, \"#fdca26\"], [1.0, \"#f0f921\"]], \"type\": \"histogram2dcontour\"}], \"mesh3d\": [{\"colorbar\": {\"outlinewidth\": 0, \"ticks\": \"\"}, \"type\": \"mesh3d\"}], \"parcoords\": [{\"line\": {\"colorbar\": {\"outlinewidth\": 0, \"ticks\": \"\"}}, \"type\": \"parcoords\"}], \"pie\": [{\"automargin\": true, \"type\": \"pie\"}], \"scatter\": [{\"marker\": {\"colorbar\": {\"outlinewidth\": 0, \"ticks\": \"\"}}, \"type\": \"scatter\"}], \"scatter3d\": [{\"line\": {\"colorbar\": {\"outlinewidth\": 0, \"ticks\": \"\"}}, \"marker\": {\"colorbar\": {\"outlinewidth\": 0, \"ticks\": \"\"}}, \"type\": \"scatter3d\"}], \"scattercarpet\": [{\"marker\": {\"colorbar\": {\"outlinewidth\": 0, \"ticks\": \"\"}}, \"type\": \"scattercarpet\"}], \"scattergeo\": [{\"marker\": {\"colorbar\": {\"outlinewidth\": 0, \"ticks\": \"\"}}, \"type\": \"scattergeo\"}], \"scattergl\": [{\"marker\": {\"colorbar\": {\"outlinewidth\": 0, \"ticks\": \"\"}}, \"type\": \"scattergl\"}], \"scattermapbox\": [{\"marker\": {\"colorbar\": {\"outlinewidth\": 0, \"ticks\": \"\"}}, \"type\": \"scattermapbox\"}], \"scatterpolar\": [{\"marker\": {\"colorbar\": {\"outlinewidth\": 0, \"ticks\": \"\"}}, \"type\": \"scatterpolar\"}], \"scatterpolargl\": [{\"marker\": {\"colorbar\": {\"outlinewidth\": 0, \"ticks\": \"\"}}, \"type\": \"scatterpolargl\"}], \"scatterternary\": [{\"marker\": {\"colorbar\": {\"outlinewidth\": 0, \"ticks\": \"\"}}, \"type\": \"scatterternary\"}], \"surface\": [{\"colorbar\": {\"outlinewidth\": 0, \"ticks\": \"\"}, \"colorscale\": [[0.0, \"#0d0887\"], [0.1111111111111111, \"#46039f\"], [0.2222222222222222, \"#7201a8\"], [0.3333333333333333, \"#9c179e\"], [0.4444444444444444, \"#bd3786\"], [0.5555555555555556, \"#d8576b\"], [0.6666666666666666, \"#ed7953\"], [0.7777777777777778, \"#fb9f3a\"], [0.8888888888888888, \"#fdca26\"], [1.0, \"#f0f921\"]], \"type\": \"surface\"}], \"table\": [{\"cells\": {\"fill\": {\"color\": \"#EBF0F8\"}, \"line\": {\"color\": \"white\"}}, \"header\": {\"fill\": {\"color\": \"#C8D4E3\"}, \"line\": {\"color\": \"white\"}}, \"type\": \"table\"}]}, \"layout\": {\"annotationdefaults\": {\"arrowcolor\": \"#2a3f5f\", \"arrowhead\": 0, \"arrowwidth\": 1}, \"coloraxis\": {\"colorbar\": {\"outlinewidth\": 0, \"ticks\": \"\"}}, \"colorscale\": {\"diverging\": [[0, \"#8e0152\"], [0.1, \"#c51b7d\"], [0.2, \"#de77ae\"], [0.3, \"#f1b6da\"], [0.4, \"#fde0ef\"], [0.5, \"#f7f7f7\"], [0.6, \"#e6f5d0\"], [0.7, \"#b8e186\"], [0.8, \"#7fbc41\"], [0.9, \"#4d9221\"], [1, \"#276419\"]], \"sequential\": [[0.0, \"#0d0887\"], [0.1111111111111111, \"#46039f\"], [0.2222222222222222, \"#7201a8\"], [0.3333333333333333, \"#9c179e\"], [0.4444444444444444, \"#bd3786\"], [0.5555555555555556, \"#d8576b\"], [0.6666666666666666, \"#ed7953\"], [0.7777777777777778, \"#fb9f3a\"], [0.8888888888888888, \"#fdca26\"], [1.0, \"#f0f921\"]], \"sequentialminus\": [[0.0, \"#0d0887\"], [0.1111111111111111, \"#46039f\"], [0.2222222222222222, \"#7201a8\"], [0.3333333333333333, \"#9c179e\"], [0.4444444444444444, \"#bd3786\"], [0.5555555555555556, \"#d8576b\"], [0.6666666666666666, \"#ed7953\"], [0.7777777777777778, \"#fb9f3a\"], [0.8888888888888888, \"#fdca26\"], [1.0, \"#f0f921\"]]}, \"colorway\": [\"#636efa\", \"#EF553B\", \"#00cc96\", \"#ab63fa\", \"#FFA15A\", \"#19d3f3\", \"#FF6692\", \"#B6E880\", \"#FF97FF\", \"#FECB52\"], \"font\": {\"color\": \"#2a3f5f\"}, \"geo\": {\"bgcolor\": \"white\", \"lakecolor\": \"white\", \"landcolor\": \"#E5ECF6\", \"showlakes\": true, \"showland\": true, \"subunitcolor\": \"white\"}, \"hoverlabel\": {\"align\": \"left\"}, \"hovermode\": \"closest\", \"mapbox\": {\"style\": \"light\"}, \"paper_bgcolor\": \"white\", \"plot_bgcolor\": \"#E5ECF6\", \"polar\": {\"angularaxis\": {\"gridcolor\": \"white\", \"linecolor\": \"white\", \"ticks\": \"\"}, \"bgcolor\": \"#E5ECF6\", \"radialaxis\": {\"gridcolor\": \"white\", \"linecolor\": \"white\", \"ticks\": \"\"}}, \"scene\": {\"xaxis\": {\"backgroundcolor\": \"#E5ECF6\", \"gridcolor\": \"white\", \"gridwidth\": 2, \"linecolor\": \"white\", \"showbackground\": true, \"ticks\": \"\", \"zerolinecolor\": \"white\"}, \"yaxis\": {\"backgroundcolor\": \"#E5ECF6\", \"gridcolor\": \"white\", \"gridwidth\": 2, \"linecolor\": \"white\", \"showbackground\": true, \"ticks\": \"\", \"zerolinecolor\": \"white\"}, \"zaxis\": {\"backgroundcolor\": \"#E5ECF6\", \"gridcolor\": \"white\", \"gridwidth\": 2, \"linecolor\": \"white\", \"showbackground\": true, \"ticks\": \"\", \"zerolinecolor\": \"white\"}}, \"shapedefaults\": {\"line\": {\"color\": \"#2a3f5f\"}}, \"ternary\": {\"aaxis\": {\"gridcolor\": \"white\", \"linecolor\": \"white\", \"ticks\": \"\"}, \"baxis\": {\"gridcolor\": \"white\", \"linecolor\": \"white\", \"ticks\": \"\"}, \"bgcolor\": \"#E5ECF6\", \"caxis\": {\"gridcolor\": \"white\", \"linecolor\": \"white\", \"ticks\": \"\"}}, \"title\": {\"x\": 0.05}, \"xaxis\": {\"automargin\": true, \"gridcolor\": \"white\", \"linecolor\": \"white\", \"ticks\": \"\", \"title\": {\"standoff\": 15}, \"zerolinecolor\": \"white\", \"zerolinewidth\": 2}, \"yaxis\": {\"automargin\": true, \"gridcolor\": \"white\", \"linecolor\": \"white\", \"ticks\": \"\", \"title\": {\"standoff\": 15}, \"zerolinecolor\": \"white\", \"zerolinewidth\": 2}}}, \"title\": {\"text\": \"Compara\\u00e7\\u00e3o entre regimes: abrir por dois dias ou n\\u00e3o abrir\", \"x\": 0.2}, \"width\": 950, \"xaxis\": {\"anchor\": \"y\", \"domain\": [0.0, 0.45], \"tickangle\": 45}, \"xaxis2\": {\"anchor\": \"y2\", \"domain\": [0.55, 1.0], \"tickangle\": 45}, \"xaxis3\": {\"anchor\": \"y3\", \"domain\": [0.0, 0.45], \"tickangle\": 45, \"title\": {\"text\": \"Dias\"}}, \"xaxis4\": {\"anchor\": \"y4\", \"domain\": [0.55, 1.0], \"tickangle\": 45, \"title\": {\"text\": \"Dias\"}}, \"yaxis\": {\"anchor\": \"x\", \"domain\": [0.575, 1.0], \"title\": {\"text\": \"Casos diagnosticados\"}}, \"yaxis2\": {\"anchor\": \"x2\", \"domain\": [0.575, 1.0]}, \"yaxis3\": {\"anchor\": \"x3\", \"domain\": [0.0, 0.425], \"title\": {\"text\": \"\\u00d3bitos\"}}, \"yaxis4\": {\"anchor\": \"x4\", \"domain\": [0.0, 0.425]}},\n",
       "                        {\"responsive\": true}\n",
       "                    ).then(function(){\n",
       "                            \n",
       "var gd = document.getElementById('a1ef8efc-1008-432d-a8d7-f27946b74689');\n",
       "var x = new MutationObserver(function (mutations, observer) {{\n",
       "        var display = window.getComputedStyle(gd).display;\n",
       "        if (!display || display === 'none') {{\n",
       "            console.log([gd, 'removed!']);\n",
       "            Plotly.purge(gd);\n",
       "            observer.disconnect();\n",
       "        }}\n",
       "}});\n",
       "\n",
       "// Listen for the removal of the full notebook cells\n",
       "var notebookContainer = gd.closest('#notebook-container');\n",
       "if (notebookContainer) {{\n",
       "    x.observe(notebookContainer, {childList: true});\n",
       "}}\n",
       "\n",
       "// Listen for the clearing of the current output cell\n",
       "var outputEl = gd.closest('.output');\n",
       "if (outputEl) {{\n",
       "    x.observe(outputEl, {childList: true});\n",
       "}}\n",
       "\n",
       "                        })\n",
       "                };\n",
       "                });\n",
       "            </script>\n",
       "        </div>"
      ]
     },
     "metadata": {},
     "output_type": "display_data"
    }
   ],
   "source": [
    "fig = make_subplots(rows=2, cols = 2, subplot_titles=(f'Diagnosticados %s' %(cidades[0][0]),\n",
    "                                                      f'Diagnosticados %s' %(cidades[2][0]),\n",
    "                                                      f'Óbitos %s' %(cidades[0][0]),\n",
    "                                                      f'Óbitos %s' %(cidades[2][0])), vertical_spacing = .15)\n",
    "\n",
    "## Casos Diagnosticados\n",
    "fig.add_trace(go.Scatter(x=dates, y=dados_Rio[0], legendgroup = 'dados reais',name = 'Dados Reais', marker = dict(color = 'cornflowerblue', symbol = 'x')), row = 1, col = 1)\n",
    "fig.add_trace(go.Scatter(x=dates, y=diagn[0], legendgroup = 'modelo',name = 'Modelo', marker = dict(color = 'tomato'), line = dict(dash = '3px')), row = 1, col = 1)\n",
    "\n",
    "fig.add_trace(go.Scatter(x=dates, y=dados_Nit[0], legendgroup = 'dados reais',showlegend = False, name = 'Dados Reais', marker = dict(color = 'cornflowerblue', symbol = 'x')), row = 1, col = 2)\n",
    "fig.add_trace(go.Scatter(x=dates, y=diagn[1], legendgroup = 'modelo',showlegend = False, name = 'Modelo', marker = dict(color = 'tomato'), line = dict(dash = '3px')), row = 1, col = 2)\n",
    "\n",
    "\n",
    "## Obitos\n",
    "fig.add_trace(go.Scatter(x=dates, y=dados_Rio[1], legendgroup = 'dados reais',name = 'Dados Reais', marker = dict(color = 'cornflowerblue', symbol = 'x'), showlegend = False), row = 2, col = 1)\n",
    "fig.add_trace(go.Scatter(x=dates, y=deaths[0], legendgroup = 'modelo',name = 'Modelo', marker = dict(color = 'tomato'), showlegend = False, line = dict(dash = '3px')), row = 2, col = 1)\n",
    "\n",
    "fig.add_trace(go.Scatter(x=dates, y=dados_Nit[1], legendgroup = 'dados reais',name = 'Dados Reais', marker = dict(color = 'cornflowerblue', symbol = 'x'), showlegend = False), row = 2, col = 2)\n",
    "fig.add_trace(go.Scatter(x=dates, y=deaths[1], legendgroup = 'modelo',name = 'Modelo', marker = dict(color = 'tomato'), showlegend = False, line = dict(dash = '3px')), row = 2, col = 2)\n",
    "\n",
    "\n",
    "fig.update_layout(title_x = .2, height=600, width=950, title_text =\n",
    "                  'Comparação entre regimes: abrir por dois dias ou não abrir', xaxis = dict(tickangle = 45), xaxis2 = dict(tickangle = 45), xaxis3 = dict(tickangle = 45), xaxis4 = dict(tickangle = 45))\n",
    "\n",
    "fig.update_yaxes(row = 1, col = 1, title_text = 'Casos diagnosticados')\n",
    "fig.update_yaxes(row = 2, col = 1, title_text = 'Óbitos')\n",
    "fig.update_xaxes(row = 2, col = 1, title_text = 'Dias')\n",
    "fig.update_xaxes(row = 2, col = 2, title_text = 'Dias')\n",
    "\n",
    "fig.show()"
   ]
  },
  {
   "cell_type": "markdown",
   "metadata": {},
   "source": [
    "### Modificando Parâmetros: Abrindo tudo por dois dias\n",
    "\n",
    "Consideramos agora o seguinte cenário: Todo o fluxo de pessoas é aberto entre as cidades durante dois dias, estimamos um fluxo de $330$ mil pessoas.\n",
    "\n",
    "Além disso, quando abrimos o fluxo entre as cidades, a `Quarentena` dentro da própria cidade também termina, até que se feche o fluxo novamente, portanto modificamos também os parâmetros $p$ e $\\lambda$ para $0$ e $1$ respectivamente"
   ]
  },
  {
   "cell_type": "code",
   "execution_count": 42,
   "metadata": {},
   "outputs": [
    {
     "name": "stdout",
     "output_type": "stream",
     "text": [
      "População Saindo de Niterói por dia: 166753.04\n",
      "População Saindo do RJ por dia: 162194.32\n"
     ]
    }
   ],
   "source": [
    "### estamos considerando que todos os individuos que passam pela ponte vieram de niterói\n",
    "print(f'População Saindo de Niterói por dia: %.2f' % (3.4e-1*pop_Nit + 2e-3*pop_Nit))\n",
    "print(f'População Saindo do RJ por dia: %.2f' % (2.4e-2*pop_Rio + 1.4e-4*pop_Rio))"
   ]
  },
  {
   "cell_type": "code",
   "execution_count": 43,
   "metadata": {},
   "outputs": [],
   "source": [
    "params_rio_nit_modif = [p[:] for p in params_rio_nit]\n",
    "params_rio_nit_modif[-2][0], params_rio_nit_modif[-2][1] = 2.4e-2, 3.4e-1##1.1e-2, 1.5e-1 # mu RJ e Nit\n",
    "params_rio_nit_modif[-1][0], params_rio_nit_modif[-1][1] = 1.4e-4,  2e-3# delta RJ e Nit\n",
    "params_rio_nit_modif[2][0], params_rio_nit_modif[2][1] = 0, 0 #p\n",
    "params_rio_nit_modif[3][0], params_rio_nit_modif[3][1] = 1, 1  #lambda\n",
    "\n",
    "dia_h = 5\n",
    "dia_d = 7\n",
    "dia_final = 30\n",
    "\n",
    "t_par_rio_nit = [[dia_h, params_rio_nit], [dia_d, params_rio_nit_modif], [dia_final, params_rio_nit]] # abrir a quarentena por 15 dias\n",
    "t_par_base_rio_nit = [[30,params_rio_nit]] # manter a quarentena do mesmo jeito"
   ]
  },
  {
   "cell_type": "code",
   "execution_count": 44,
   "metadata": {},
   "outputs": [],
   "source": [
    "sol_multi_regime_modif_nit = multi_regime_cidades(CI_Rio_Nit, 0, t_par_rio_nit)\n",
    "sol_multi_regime_base_nit = multi_regime_cidades(CI_Rio_Nit, 0, t_par_base_rio_nit)\n",
    "ts = np.arange(len(sol_multi_regime_modif_nit[0]))"
   ]
  },
  {
   "cell_type": "code",
   "execution_count": 45,
   "metadata": {},
   "outputs": [],
   "source": [
    "shapes = [\n",
    "        dict(\n",
    "            type=\"rect\",\n",
    "            xref=\"x1\",\n",
    "            yref=\"y1\",\n",
    "            x0=dia_h,\n",
    "            y0=1e-3,\n",
    "            x1=dia_d,\n",
    "            y1=2e4,\n",
    "            fillcolor=\"LightSalmon\",\n",
    "            opacity=0.5,\n",
    "            layer=\"below\",\n",
    "            line_width=0\n",
    "        ),\n",
    "        dict(\n",
    "            type=\"rect\",\n",
    "            xref=\"x2\",\n",
    "            yref=\"y2\",\n",
    "            x0=dia_h,\n",
    "            y0=1e-3,\n",
    "            x1=dia_d,\n",
    "            y1=2e4,\n",
    "            fillcolor=\"LightSalmon\",\n",
    "            opacity=0.5,\n",
    "            layer=\"below\",\n",
    "            line_width=0\n",
    "        ),\n",
    "        dict(\n",
    "            type=\"rect\",\n",
    "            xref=\"x3\",\n",
    "            yref=\"y3\",\n",
    "            x0=dia_h,\n",
    "            y0=1e-3,\n",
    "            x1=dia_d,\n",
    "            y1=2500,\n",
    "            fillcolor=\"LightSalmon\",\n",
    "            opacity=0.5,\n",
    "            layer=\"below\",\n",
    "            line_width=0\n",
    "        ),\n",
    "        dict(\n",
    "            type=\"rect\",\n",
    "            xref=\"x4\",\n",
    "            yref=\"y4\",\n",
    "            x0=dia_h,\n",
    "            y0=1e-3,\n",
    "            x1=dia_d,\n",
    "            y1=2e4,\n",
    "            fillcolor=\"LightSalmon\",\n",
    "            opacity=0.5,\n",
    "            layer=\"below\",\n",
    "            line_width=0\n",
    "        )\n",
    "    ]"
   ]
  },
  {
   "cell_type": "code",
   "execution_count": 46,
   "metadata": {},
   "outputs": [],
   "source": [
    "annotations = ({\n",
    "     'font': {'size': 16},\n",
    "     'showarrow': False,\n",
    "     'text': f'Diferença entre os regimes - %s' %(cidades[0][1]),\n",
    "     'x': 0.225,\n",
    "     'xanchor': 'center',\n",
    "     'xref': 'paper',\n",
    "     'y': 1.0,\n",
    "     'yanchor': 'bottom',\n",
    "     'yref': 'paper'\n",
    " },\n",
    " {\n",
    "     'font': {'size': 16},\n",
    "     'showarrow': False,\n",
    "     'text': f'Diferença entre os regimes - %s' %(cidades[2][1]),\n",
    "     'x': 0.775,\n",
    "     'xanchor': 'center',\n",
    "     'xref': 'paper',\n",
    "     'y': 1.0,\n",
    "     'yanchor': 'bottom',\n",
    "     'yref': 'paper'\n",
    " },\n",
    " {\n",
    "     'font': {'size': 16},\n",
    "     'showarrow': False,\n",
    "     'text': 'Óbitos com os dois regimes',\n",
    "     'x': 0.225,\n",
    "     'xanchor': 'center',\n",
    "     'xref': 'paper',\n",
    "     'y': 0.425,\n",
    "     'yanchor': 'bottom',\n",
    "     'yref': 'paper'\n",
    " },\n",
    " {\n",
    "     'font': {'size': 16},\n",
    "     'showarrow': False,\n",
    "     'text': 'Diferença de óbitos',\n",
    "     'x': 0.775,\n",
    "     'xanchor': 'center',\n",
    "     'xref': 'paper',\n",
    "     'y': 0.425,\n",
    "     'yanchor': 'bottom',\n",
    "     'yref': 'paper'\n",
    " },\n",
    " {\n",
    "     'font': {'size':10},\n",
    "     'showarrow': True,\n",
    "     'text': 'Fim da quarentena',\n",
    "     'x': dia_h,\n",
    "     'xref': 'x1',\n",
    "     'y': '1.3',\n",
    "     'yref': 'y1',\n",
    "     'textangle': 270\n",
    " })"
   ]
  },
  {
   "cell_type": "code",
   "execution_count": 47,
   "metadata": {},
   "outputs": [
    {
     "data": {
      "application/vnd.plotly.v1+json": {
       "config": {
        "plotlyServerURL": "https://plot.ly"
       },
       "data": [
        {
         "legendgroup": "Expostos",
         "marker": {
          "color": "blueviolet"
         },
         "name": "Expostos",
         "type": "scatter",
         "x": [
          0,
          1,
          2,
          3,
          4,
          5,
          6,
          7,
          8,
          9,
          10,
          11,
          12,
          13,
          14,
          15,
          16,
          17,
          18,
          19,
          20,
          21,
          22,
          23,
          24,
          25,
          26,
          27,
          28,
          29,
          30
         ],
         "xaxis": "x",
         "y": [
          0,
          0,
          0,
          0,
          0,
          0.741925697435363,
          409.34909956218326,
          1325.8810511266447,
          2288.0014456115005,
          2921.213492503235,
          3334.075761620692,
          3625.7050613483398,
          3842.1573196657937,
          4020.757162353476,
          4196.73179173265,
          4371.205532065722,
          4559.595766253728,
          4774.290578583301,
          5008.4285248708475,
          5264.981393982289,
          5555.383569362937,
          5875.554422191079,
          6219.2231545824,
          6586.602138298827,
          6983.99074233964,
          7414.762542966624,
          7873.918805721209,
          8359.789129658217,
          8873.883380068495,
          9420.826742167814,
          10006.376246226322
         ],
         "yaxis": "y"
        },
        {
         "legendgroup": "Assintomáticos",
         "marker": {
          "color": "dodgerblue"
         },
         "name": "Assintomáticos",
         "type": "scatter",
         "x": [
          0,
          1,
          2,
          3,
          4,
          5,
          6,
          7,
          8,
          9,
          10,
          11,
          12,
          13,
          14,
          15,
          16,
          17,
          18,
          19,
          20,
          21,
          22,
          23,
          24,
          25,
          26,
          27,
          28,
          29,
          30
         ],
         "xaxis": "x",
         "y": [
          0,
          0,
          0,
          0,
          0,
          0.019731924614006857,
          60.53682475496089,
          106.05926019285357,
          110.06366261524886,
          119.87444373739504,
          133.00002631941402,
          147.47891149003772,
          162.53244672176402,
          177.6622201204534,
          192.5020268729711,
          207.3338468294321,
          222.10562397950866,
          236.832995307803,
          251.92705059033233,
          267.5586414499435,
          283.7159103909055,
          300.6925912904795,
          318.6792048689134,
          337.7429006837443,
          357.84673294513686,
          379.0406200868256,
          401.57470251374207,
          425.64482639868424,
          451.3944319865511,
          478.9106750116723,
          508.1302500699537
         ],
         "yaxis": "y"
        },
        {
         "legendgroup": "Infectados",
         "marker": {
          "color": "sienna"
         },
         "name": "Infectados",
         "type": "scatter",
         "x": [
          0,
          1,
          2,
          3,
          4,
          5,
          6,
          7,
          8,
          9,
          10,
          11,
          12,
          13,
          14,
          15,
          16,
          17,
          18,
          19,
          20,
          21,
          22,
          23,
          24,
          25,
          26,
          27,
          28,
          29,
          30
         ],
         "xaxis": "x",
         "y": [
          0,
          0,
          0,
          0,
          0,
          0.4813600968554965,
          17.587432465481925,
          124.55589942717324,
          346.80061550455866,
          642.2076109052487,
          974.0551211428883,
          1313.505015082379,
          1649.5403980357569,
          1975.130282572597,
          2285.1688430440418,
          2586.0519031918575,
          2878.657323294512,
          3164.1932903938778,
          3449.382708337852,
          3736.903925379638,
          4026.1659687635656,
          4321.972192888237,
          4629.238145746511,
          4950.516283073626,
          5286.187616481353,
          5637.4934231045645,
          6008.030838264103,
          6400.1920825319485,
          6815.37807810622,
          7254.035386822648,
          7716.681126457683
         ],
         "yaxis": "y"
        },
        {
         "legendgroup": "Diagnosticados",
         "marker": {
          "color": "tomato"
         },
         "name": "Diagnosticados",
         "type": "scatter",
         "x": [
          0,
          1,
          2,
          3,
          4,
          5,
          6,
          7,
          8,
          9,
          10,
          11,
          12,
          13,
          14,
          15,
          16,
          17,
          18,
          19,
          20,
          21,
          22,
          23,
          24,
          25,
          26,
          27,
          28,
          29,
          30
         ],
         "xaxis": "x",
         "y": [
          0,
          0,
          0,
          0,
          0,
          0.06738112751691006,
          0.5560485439440299,
          3.2359851885030366,
          11.237900832722744,
          27.32183402539522,
          52.10449089338317,
          85.7610508174223,
          127.48269894377813,
          176.4803589614171,
          231.9989849391966,
          292.7387932283541,
          358.01187334112933,
          427.3131425207903,
          500.0276669464531,
          575.9479143959129,
          655.1576316901192,
          737.4294767263009,
          822.6996515961409,
          911.0826209808429,
          1002.8470755644194,
          1098.2520604861006,
          1197.499923624222,
          1300.9012523071842,
          1408.8494356932047,
          1521.8159909835226,
          1640.223490804895
         ],
         "yaxis": "y"
        },
        {
         "legendgroup": "Recuperados",
         "marker": {
          "color": "green"
         },
         "name": "Recuperados",
         "type": "scatter",
         "x": [
          0,
          1,
          2,
          3,
          4,
          5,
          6,
          7,
          8,
          9,
          10,
          11,
          12,
          13,
          14,
          15,
          16,
          17,
          18,
          19,
          20,
          21,
          22,
          23,
          24,
          25,
          26,
          27,
          28,
          29,
          30
         ],
         "xaxis": "x",
         "y": [
          0,
          0,
          0,
          0,
          0,
          0.09756802240644902,
          11.384780626326119,
          9.02007143155879,
          19.540846833412616,
          70.40886750911704,
          147.9882890991903,
          255.34090047539576,
          393.0931780834044,
          561.4946414932301,
          760.6242103092573,
          989.3041620125696,
          1247.39128624144,
          1534.9309260241444,
          1851.5480008808554,
          2197.6646955463584,
          2574.3022761072552,
          2981.900545091885,
          3421.3223856951627,
          3893.854470719676,
          4401.1582836547495,
          4944.920308130186,
          5526.682751159049,
          6148.327405716882,
          6812.068758359921,
          7520.446809125948,
          8276.103396202998
         ],
         "yaxis": "y"
        },
        {
         "marker": {
          "color": "crimson"
         },
         "name": "Abrir por dois dias",
         "type": "scatter",
         "xaxis": "x3",
         "y": [
          0,
          4.856320322491229,
          11.065327884629369,
          18.479176515713334,
          26.981180858798325,
          36.4910789495334,
          46.995973855257034,
          58.65475172176957,
          71.81099215243012,
          86.78457043878734,
          103.7468588417396,
          122.8300310196355,
          144.08534675836563,
          167.55528838932514,
          193.29308048263192,
          221.32157281041145,
          251.70504535268992,
          284.52044371701777,
          319.8355884272605,
          357.7510516317561,
          398.3963544871658,
          441.8965888945386,
          488.39207116514444,
          538.046266422607,
          591.0448873564601,
          647.5834073703736,
          707.8618111480027,
          772.1004124740139,
          840.5390781695023,
          913.4372280910611,
          991.0733977137133
         ],
         "yaxis": "y3"
        },
        {
         "marker": {
          "color": "indigo"
         },
         "name": "Manter a quarentena",
         "type": "scatter",
         "xaxis": "x3",
         "y": [
          0,
          4.856320322491229,
          11.065327884629369,
          18.479176515713334,
          26.981180858798325,
          36.48714479897171,
          46.97365351114422,
          58.42990668024868,
          70.84913801494986,
          84.24233020935208,
          98.64935647789389,
          114.11364554055035,
          130.67949111480266,
          148.39231892488897,
          167.3123173583299,
          187.51525498181581,
          209.07968902774155,
          232.0877102939412,
          256.62494314461946,
          282.78054551035166,
          310.6504250969738,
          340.34794149082154,
          371.9900091374293,
          405.7010196549818,
          441.61348894424736,
          479.86805718019605,
          520.6134888194501,
          564.0066725956276,
          610.21262152493,
          659.4049086179584,
          711.7776933358982
         ],
         "yaxis": "y3"
        },
        {
         "legendgroup": "Expostos",
         "marker": {
          "color": "blueviolet"
         },
         "name": "Expostos",
         "showlegend": false,
         "type": "scatter",
         "x": [
          0,
          1,
          2,
          3,
          4,
          5,
          6,
          7,
          8,
          9,
          10,
          11,
          12,
          13,
          14,
          15,
          16,
          17,
          18,
          19,
          20,
          21,
          22,
          23,
          24,
          25,
          26,
          27,
          28,
          29,
          30
         ],
         "xaxis": "x2",
         "y": [
          0,
          0,
          0,
          0,
          0,
          0.08081862825008557,
          116.13579512527144,
          322.31575731870964,
          410.0606584333158,
          470.56559780941416,
          511.6348127098872,
          542.1302407970901,
          566.2010183278219,
          587.4633391026159,
          609.5990544552923,
          632.4721900713754,
          657.7110205474976,
          686.650166866423,
          718.3615274571434,
          753.1071853681067,
          792.1792793428478,
          835.0417214616277,
          880.9116889477,
          929.7845710742458,
          982.3862961876375,
          1039.089321808631,
          1099.2434787896605,
          1162.5885459671335,
          1229.2406671118802,
          1299.6864026028238,
          1374.5918000903353
         ],
         "yaxis": "y2"
        },
        {
         "legendgroup": "Assintomáticos",
         "marker": {
          "color": "dodgerblue"
         },
         "name": "Assintomáticos",
         "showlegend": false,
         "type": "scatter",
         "x": [
          0,
          1,
          2,
          3,
          4,
          5,
          6,
          7,
          8,
          9,
          10,
          11,
          12,
          13,
          14,
          15,
          16,
          17,
          18,
          19,
          20,
          21,
          22,
          23,
          24,
          25,
          26,
          27,
          28,
          29,
          30
         ],
         "xaxis": "x2",
         "y": [
          0,
          0,
          0,
          0,
          0,
          0.002313947634092983,
          61.828441724572826,
          105.80221067219975,
          100.54336394018839,
          94.78323190723552,
          88.69624417130689,
          82.43892681780602,
          76.07282947219869,
          69.63912714105498,
          63.171202193173656,
          56.63081345872911,
          50.013091027366954,
          43.309470980801166,
          36.47320074863853,
          29.481447557658953,
          22.331263418410686,
          14.985463483455533,
          7.404214103311631,
          0.4378561537301948,
          8.552739841065545,
          16.958861273783043,
          25.6918200179789,
          34.780413599153576,
          44.24765489391899,
          54.110897938760445,
          64.38549825222702
         ],
         "yaxis": "y2"
        },
        {
         "legendgroup": "Infectados",
         "marker": {
          "color": "sienna"
         },
         "name": "Infectados",
         "showlegend": false,
         "type": "scatter",
         "x": [
          0,
          1,
          2,
          3,
          4,
          5,
          6,
          7,
          8,
          9,
          10,
          11,
          12,
          13,
          14,
          15,
          16,
          17,
          18,
          19,
          20,
          21,
          22,
          23,
          24,
          25,
          26,
          27,
          28,
          29,
          30
         ],
         "xaxis": "x2",
         "y": [
          0,
          0,
          0,
          0,
          0,
          0.05217891904828775,
          6.0761027055053205,
          32.48521198129515,
          76.04519658606972,
          123.96143334370112,
          173.4282832603318,
          221.98534719235988,
          268.8986065035839,
          313.7381112276787,
          356.17346395428524,
          397.14344137842204,
          436.89000294487744,
          475.6601580678297,
          514.3336099800844,
          553.2948455079031,
          592.5270306282581,
          632.6315563532465,
          674.2015603364616,
          717.5457484977062,
          762.7119299129533,
          809.8467465171489,
          859.3831115739013,
          911.6094987822939,
          966.6911682050556,
          1024.673312332466,
          1085.5719525852437
         ],
         "yaxis": "y2"
        },
        {
         "legendgroup": "Diagnosticados",
         "marker": {
          "color": "tomato"
         },
         "name": "Diagnosticados",
         "showlegend": false,
         "type": "scatter",
         "x": [
          0,
          1,
          2,
          3,
          4,
          5,
          6,
          7,
          8,
          9,
          10,
          11,
          12,
          13,
          14,
          15,
          16,
          17,
          18,
          19,
          20,
          21,
          22,
          23,
          24,
          25,
          26,
          27,
          28,
          29,
          30
         ],
         "xaxis": "x2",
         "y": [
          0,
          0,
          0,
          0,
          0,
          0.007453943086929371,
          0.24700533655433787,
          0.4976301603069686,
          0.2726388031652789,
          2.5324682707805692,
          6.204546461436053,
          11.203102499019224,
          17.36338461204076,
          24.54203104502156,
          32.613983958726664,
          41.40291213597726,
          50.8096402382501,
          60.76208286355501,
          71.18075055026264,
          82.03594302318362,
          93.33380590865605,
          105.04692053744083,
          117.16818660287515,
          129.71165064475753,
          142.70968823586998,
          156.1941970094178,
          170.19056909243022,
          184.7363598155223,
          199.8784314679864,
          215.6724748973706,
          232.16983994296146
         ],
         "yaxis": "y2"
        },
        {
         "legendgroup": "Recuperados",
         "marker": {
          "color": "green"
         },
         "name": "Recuperados",
         "showlegend": false,
         "type": "scatter",
         "x": [
          0,
          1,
          2,
          3,
          4,
          5,
          6,
          7,
          8,
          9,
          10,
          11,
          12,
          13,
          14,
          15,
          16,
          17,
          18,
          19,
          20,
          21,
          22,
          23,
          24,
          25,
          26,
          27,
          28,
          29,
          30
         ],
         "xaxis": "x2",
         "y": [
          0,
          0,
          0,
          0,
          0,
          0.010479529739143345,
          14.903808786264193,
          26.083171171288626,
          29.130022155524216,
          35.933724994040745,
          46.752215792031734,
          61.76800936603297,
          80.95547489804392,
          104.27697161945957,
          131.6978575465812,
          163.05917424821155,
          198.32414715744937,
          237.48756345212178,
          280.508214888529,
          327.4366209679931,
          378.3938151319303,
          433.44023067654257,
          492.677540382555,
          556.2568406261046,
          624.3737915052225,
          697.2300692910626,
          775.0150370779852,
          857.9559026447425,
          946.3160941671322,
          1040.3942592115832,
          1140.4944053535223
         ],
         "yaxis": "y2"
        },
        {
         "marker": {
          "color": "black"
         },
         "name": "Óbitos",
         "type": "scatter",
         "xaxis": "x4",
         "y": [
          0,
          0,
          0,
          0,
          0,
          0.0039341505616903305,
          0.022320344112813473,
          0.22484504152089357,
          0.9618541374802589,
          2.542240229435265,
          5.097502363845706,
          8.716385479085147,
          13.405855643562973,
          19.162969464436173,
          25.98076312430203,
          33.80631782859564,
          42.62535632494837,
          52.43273342307657,
          63.21064528264105,
          74.97050612140447,
          87.74592939019203,
          101.54864740371704,
          116.40206202771515,
          132.3452467676252,
          149.43139841221273,
          167.71535019017756,
          187.2483223285526,
          208.09373987838626,
          230.32645664457232,
          254.0323194731027,
          279.2957043778151
         ],
         "yaxis": "y4"
        }
       ],
       "layout": {
        "annotations": [
         {
          "font": {
           "size": 16
          },
          "showarrow": false,
          "text": "Diferença entre os regimes - RJ",
          "x": 0.225,
          "xanchor": "center",
          "xref": "paper",
          "y": 1,
          "yanchor": "bottom",
          "yref": "paper"
         },
         {
          "font": {
           "size": 16
          },
          "showarrow": false,
          "text": "Diferença entre os regimes - Nit",
          "x": 0.775,
          "xanchor": "center",
          "xref": "paper",
          "y": 1,
          "yanchor": "bottom",
          "yref": "paper"
         },
         {
          "font": {
           "size": 16
          },
          "showarrow": false,
          "text": "Óbitos com os dois regimes",
          "x": 0.225,
          "xanchor": "center",
          "xref": "paper",
          "y": 0.425,
          "yanchor": "bottom",
          "yref": "paper"
         },
         {
          "font": {
           "size": 16
          },
          "showarrow": false,
          "text": "Diferença de óbitos",
          "x": 0.775,
          "xanchor": "center",
          "xref": "paper",
          "y": 0.425,
          "yanchor": "bottom",
          "yref": "paper"
         },
         {
          "font": {
           "size": 10
          },
          "showarrow": true,
          "text": "Fim da quarentena",
          "textangle": -90,
          "x": 5,
          "xref": "x",
          "y": "1.3",
          "yref": "y"
         }
        ],
        "height": 650,
        "shapes": [
         {
          "fillcolor": "LightSalmon",
          "layer": "below",
          "line": {
           "width": 0
          },
          "opacity": 0.5,
          "type": "rect",
          "x0": 5,
          "x1": 7,
          "xref": "x",
          "y0": 0.001,
          "y1": 20000,
          "yref": "y"
         },
         {
          "fillcolor": "LightSalmon",
          "layer": "below",
          "line": {
           "width": 0
          },
          "opacity": 0.5,
          "type": "rect",
          "x0": 5,
          "x1": 7,
          "xref": "x2",
          "y0": 0.001,
          "y1": 20000,
          "yref": "y2"
         },
         {
          "fillcolor": "LightSalmon",
          "layer": "below",
          "line": {
           "width": 0
          },
          "opacity": 0.5,
          "type": "rect",
          "x0": 5,
          "x1": 7,
          "xref": "x3",
          "y0": 0.001,
          "y1": 2500,
          "yref": "y3"
         },
         {
          "fillcolor": "LightSalmon",
          "layer": "below",
          "line": {
           "width": 0
          },
          "opacity": 0.5,
          "type": "rect",
          "x0": 5,
          "x1": 7,
          "xref": "x4",
          "y0": 0.001,
          "y1": 20000,
          "yref": "y4"
         }
        ],
        "template": {
         "data": {
          "bar": [
           {
            "error_x": {
             "color": "#2a3f5f"
            },
            "error_y": {
             "color": "#2a3f5f"
            },
            "marker": {
             "line": {
              "color": "#E5ECF6",
              "width": 0.5
             }
            },
            "type": "bar"
           }
          ],
          "barpolar": [
           {
            "marker": {
             "line": {
              "color": "#E5ECF6",
              "width": 0.5
             }
            },
            "type": "barpolar"
           }
          ],
          "carpet": [
           {
            "aaxis": {
             "endlinecolor": "#2a3f5f",
             "gridcolor": "white",
             "linecolor": "white",
             "minorgridcolor": "white",
             "startlinecolor": "#2a3f5f"
            },
            "baxis": {
             "endlinecolor": "#2a3f5f",
             "gridcolor": "white",
             "linecolor": "white",
             "minorgridcolor": "white",
             "startlinecolor": "#2a3f5f"
            },
            "type": "carpet"
           }
          ],
          "choropleth": [
           {
            "colorbar": {
             "outlinewidth": 0,
             "ticks": ""
            },
            "type": "choropleth"
           }
          ],
          "contour": [
           {
            "colorbar": {
             "outlinewidth": 0,
             "ticks": ""
            },
            "colorscale": [
             [
              0,
              "#0d0887"
             ],
             [
              0.1111111111111111,
              "#46039f"
             ],
             [
              0.2222222222222222,
              "#7201a8"
             ],
             [
              0.3333333333333333,
              "#9c179e"
             ],
             [
              0.4444444444444444,
              "#bd3786"
             ],
             [
              0.5555555555555556,
              "#d8576b"
             ],
             [
              0.6666666666666666,
              "#ed7953"
             ],
             [
              0.7777777777777778,
              "#fb9f3a"
             ],
             [
              0.8888888888888888,
              "#fdca26"
             ],
             [
              1,
              "#f0f921"
             ]
            ],
            "type": "contour"
           }
          ],
          "contourcarpet": [
           {
            "colorbar": {
             "outlinewidth": 0,
             "ticks": ""
            },
            "type": "contourcarpet"
           }
          ],
          "heatmap": [
           {
            "colorbar": {
             "outlinewidth": 0,
             "ticks": ""
            },
            "colorscale": [
             [
              0,
              "#0d0887"
             ],
             [
              0.1111111111111111,
              "#46039f"
             ],
             [
              0.2222222222222222,
              "#7201a8"
             ],
             [
              0.3333333333333333,
              "#9c179e"
             ],
             [
              0.4444444444444444,
              "#bd3786"
             ],
             [
              0.5555555555555556,
              "#d8576b"
             ],
             [
              0.6666666666666666,
              "#ed7953"
             ],
             [
              0.7777777777777778,
              "#fb9f3a"
             ],
             [
              0.8888888888888888,
              "#fdca26"
             ],
             [
              1,
              "#f0f921"
             ]
            ],
            "type": "heatmap"
           }
          ],
          "heatmapgl": [
           {
            "colorbar": {
             "outlinewidth": 0,
             "ticks": ""
            },
            "colorscale": [
             [
              0,
              "#0d0887"
             ],
             [
              0.1111111111111111,
              "#46039f"
             ],
             [
              0.2222222222222222,
              "#7201a8"
             ],
             [
              0.3333333333333333,
              "#9c179e"
             ],
             [
              0.4444444444444444,
              "#bd3786"
             ],
             [
              0.5555555555555556,
              "#d8576b"
             ],
             [
              0.6666666666666666,
              "#ed7953"
             ],
             [
              0.7777777777777778,
              "#fb9f3a"
             ],
             [
              0.8888888888888888,
              "#fdca26"
             ],
             [
              1,
              "#f0f921"
             ]
            ],
            "type": "heatmapgl"
           }
          ],
          "histogram": [
           {
            "marker": {
             "colorbar": {
              "outlinewidth": 0,
              "ticks": ""
             }
            },
            "type": "histogram"
           }
          ],
          "histogram2d": [
           {
            "colorbar": {
             "outlinewidth": 0,
             "ticks": ""
            },
            "colorscale": [
             [
              0,
              "#0d0887"
             ],
             [
              0.1111111111111111,
              "#46039f"
             ],
             [
              0.2222222222222222,
              "#7201a8"
             ],
             [
              0.3333333333333333,
              "#9c179e"
             ],
             [
              0.4444444444444444,
              "#bd3786"
             ],
             [
              0.5555555555555556,
              "#d8576b"
             ],
             [
              0.6666666666666666,
              "#ed7953"
             ],
             [
              0.7777777777777778,
              "#fb9f3a"
             ],
             [
              0.8888888888888888,
              "#fdca26"
             ],
             [
              1,
              "#f0f921"
             ]
            ],
            "type": "histogram2d"
           }
          ],
          "histogram2dcontour": [
           {
            "colorbar": {
             "outlinewidth": 0,
             "ticks": ""
            },
            "colorscale": [
             [
              0,
              "#0d0887"
             ],
             [
              0.1111111111111111,
              "#46039f"
             ],
             [
              0.2222222222222222,
              "#7201a8"
             ],
             [
              0.3333333333333333,
              "#9c179e"
             ],
             [
              0.4444444444444444,
              "#bd3786"
             ],
             [
              0.5555555555555556,
              "#d8576b"
             ],
             [
              0.6666666666666666,
              "#ed7953"
             ],
             [
              0.7777777777777778,
              "#fb9f3a"
             ],
             [
              0.8888888888888888,
              "#fdca26"
             ],
             [
              1,
              "#f0f921"
             ]
            ],
            "type": "histogram2dcontour"
           }
          ],
          "mesh3d": [
           {
            "colorbar": {
             "outlinewidth": 0,
             "ticks": ""
            },
            "type": "mesh3d"
           }
          ],
          "parcoords": [
           {
            "line": {
             "colorbar": {
              "outlinewidth": 0,
              "ticks": ""
             }
            },
            "type": "parcoords"
           }
          ],
          "pie": [
           {
            "automargin": true,
            "type": "pie"
           }
          ],
          "scatter": [
           {
            "marker": {
             "colorbar": {
              "outlinewidth": 0,
              "ticks": ""
             }
            },
            "type": "scatter"
           }
          ],
          "scatter3d": [
           {
            "line": {
             "colorbar": {
              "outlinewidth": 0,
              "ticks": ""
             }
            },
            "marker": {
             "colorbar": {
              "outlinewidth": 0,
              "ticks": ""
             }
            },
            "type": "scatter3d"
           }
          ],
          "scattercarpet": [
           {
            "marker": {
             "colorbar": {
              "outlinewidth": 0,
              "ticks": ""
             }
            },
            "type": "scattercarpet"
           }
          ],
          "scattergeo": [
           {
            "marker": {
             "colorbar": {
              "outlinewidth": 0,
              "ticks": ""
             }
            },
            "type": "scattergeo"
           }
          ],
          "scattergl": [
           {
            "marker": {
             "colorbar": {
              "outlinewidth": 0,
              "ticks": ""
             }
            },
            "type": "scattergl"
           }
          ],
          "scattermapbox": [
           {
            "marker": {
             "colorbar": {
              "outlinewidth": 0,
              "ticks": ""
             }
            },
            "type": "scattermapbox"
           }
          ],
          "scatterpolar": [
           {
            "marker": {
             "colorbar": {
              "outlinewidth": 0,
              "ticks": ""
             }
            },
            "type": "scatterpolar"
           }
          ],
          "scatterpolargl": [
           {
            "marker": {
             "colorbar": {
              "outlinewidth": 0,
              "ticks": ""
             }
            },
            "type": "scatterpolargl"
           }
          ],
          "scatterternary": [
           {
            "marker": {
             "colorbar": {
              "outlinewidth": 0,
              "ticks": ""
             }
            },
            "type": "scatterternary"
           }
          ],
          "surface": [
           {
            "colorbar": {
             "outlinewidth": 0,
             "ticks": ""
            },
            "colorscale": [
             [
              0,
              "#0d0887"
             ],
             [
              0.1111111111111111,
              "#46039f"
             ],
             [
              0.2222222222222222,
              "#7201a8"
             ],
             [
              0.3333333333333333,
              "#9c179e"
             ],
             [
              0.4444444444444444,
              "#bd3786"
             ],
             [
              0.5555555555555556,
              "#d8576b"
             ],
             [
              0.6666666666666666,
              "#ed7953"
             ],
             [
              0.7777777777777778,
              "#fb9f3a"
             ],
             [
              0.8888888888888888,
              "#fdca26"
             ],
             [
              1,
              "#f0f921"
             ]
            ],
            "type": "surface"
           }
          ],
          "table": [
           {
            "cells": {
             "fill": {
              "color": "#EBF0F8"
             },
             "line": {
              "color": "white"
             }
            },
            "header": {
             "fill": {
              "color": "#C8D4E3"
             },
             "line": {
              "color": "white"
             }
            },
            "type": "table"
           }
          ]
         },
         "layout": {
          "annotationdefaults": {
           "arrowcolor": "#2a3f5f",
           "arrowhead": 0,
           "arrowwidth": 1
          },
          "coloraxis": {
           "colorbar": {
            "outlinewidth": 0,
            "ticks": ""
           }
          },
          "colorscale": {
           "diverging": [
            [
             0,
             "#8e0152"
            ],
            [
             0.1,
             "#c51b7d"
            ],
            [
             0.2,
             "#de77ae"
            ],
            [
             0.3,
             "#f1b6da"
            ],
            [
             0.4,
             "#fde0ef"
            ],
            [
             0.5,
             "#f7f7f7"
            ],
            [
             0.6,
             "#e6f5d0"
            ],
            [
             0.7,
             "#b8e186"
            ],
            [
             0.8,
             "#7fbc41"
            ],
            [
             0.9,
             "#4d9221"
            ],
            [
             1,
             "#276419"
            ]
           ],
           "sequential": [
            [
             0,
             "#0d0887"
            ],
            [
             0.1111111111111111,
             "#46039f"
            ],
            [
             0.2222222222222222,
             "#7201a8"
            ],
            [
             0.3333333333333333,
             "#9c179e"
            ],
            [
             0.4444444444444444,
             "#bd3786"
            ],
            [
             0.5555555555555556,
             "#d8576b"
            ],
            [
             0.6666666666666666,
             "#ed7953"
            ],
            [
             0.7777777777777778,
             "#fb9f3a"
            ],
            [
             0.8888888888888888,
             "#fdca26"
            ],
            [
             1,
             "#f0f921"
            ]
           ],
           "sequentialminus": [
            [
             0,
             "#0d0887"
            ],
            [
             0.1111111111111111,
             "#46039f"
            ],
            [
             0.2222222222222222,
             "#7201a8"
            ],
            [
             0.3333333333333333,
             "#9c179e"
            ],
            [
             0.4444444444444444,
             "#bd3786"
            ],
            [
             0.5555555555555556,
             "#d8576b"
            ],
            [
             0.6666666666666666,
             "#ed7953"
            ],
            [
             0.7777777777777778,
             "#fb9f3a"
            ],
            [
             0.8888888888888888,
             "#fdca26"
            ],
            [
             1,
             "#f0f921"
            ]
           ]
          },
          "colorway": [
           "#636efa",
           "#EF553B",
           "#00cc96",
           "#ab63fa",
           "#FFA15A",
           "#19d3f3",
           "#FF6692",
           "#B6E880",
           "#FF97FF",
           "#FECB52"
          ],
          "font": {
           "color": "#2a3f5f"
          },
          "geo": {
           "bgcolor": "white",
           "lakecolor": "white",
           "landcolor": "#E5ECF6",
           "showlakes": true,
           "showland": true,
           "subunitcolor": "white"
          },
          "hoverlabel": {
           "align": "left"
          },
          "hovermode": "closest",
          "mapbox": {
           "style": "light"
          },
          "paper_bgcolor": "white",
          "plot_bgcolor": "#E5ECF6",
          "polar": {
           "angularaxis": {
            "gridcolor": "white",
            "linecolor": "white",
            "ticks": ""
           },
           "bgcolor": "#E5ECF6",
           "radialaxis": {
            "gridcolor": "white",
            "linecolor": "white",
            "ticks": ""
           }
          },
          "scene": {
           "xaxis": {
            "backgroundcolor": "#E5ECF6",
            "gridcolor": "white",
            "gridwidth": 2,
            "linecolor": "white",
            "showbackground": true,
            "ticks": "",
            "zerolinecolor": "white"
           },
           "yaxis": {
            "backgroundcolor": "#E5ECF6",
            "gridcolor": "white",
            "gridwidth": 2,
            "linecolor": "white",
            "showbackground": true,
            "ticks": "",
            "zerolinecolor": "white"
           },
           "zaxis": {
            "backgroundcolor": "#E5ECF6",
            "gridcolor": "white",
            "gridwidth": 2,
            "linecolor": "white",
            "showbackground": true,
            "ticks": "",
            "zerolinecolor": "white"
           }
          },
          "shapedefaults": {
           "line": {
            "color": "#2a3f5f"
           }
          },
          "ternary": {
           "aaxis": {
            "gridcolor": "white",
            "linecolor": "white",
            "ticks": ""
           },
           "baxis": {
            "gridcolor": "white",
            "linecolor": "white",
            "ticks": ""
           },
           "bgcolor": "#E5ECF6",
           "caxis": {
            "gridcolor": "white",
            "linecolor": "white",
            "ticks": ""
           }
          },
          "title": {
           "x": 0.05
          },
          "xaxis": {
           "automargin": true,
           "gridcolor": "white",
           "linecolor": "white",
           "ticks": "",
           "title": {
            "standoff": 15
           },
           "zerolinecolor": "white",
           "zerolinewidth": 2
          },
          "yaxis": {
           "automargin": true,
           "gridcolor": "white",
           "linecolor": "white",
           "ticks": "",
           "title": {
            "standoff": 15
           },
           "zerolinecolor": "white",
           "zerolinewidth": 2
          }
         }
        },
        "title": {
         "text": "Comparação entre regimes: abrir por dois dias ou não abrir",
         "x": 0.2
        },
        "width": 989,
        "xaxis": {
         "anchor": "y",
         "domain": [
          0,
          0.45
         ]
        },
        "xaxis2": {
         "anchor": "y2",
         "domain": [
          0.55,
          1
         ]
        },
        "xaxis3": {
         "anchor": "y3",
         "domain": [
          0,
          0.45
         ],
         "range": [
          0,
          30
         ],
         "title": {
          "text": "Dias transcorridos"
         }
        },
        "xaxis4": {
         "anchor": "y4",
         "domain": [
          0.55,
          1
         ],
         "range": [
          0,
          30
         ],
         "title": {
          "text": "Dias transcorridos"
         }
        },
        "yaxis": {
         "anchor": "x",
         "domain": [
          0.575,
          1
         ],
         "range": [
          -0.6,
          4.2
         ],
         "title": {
          "text": "Casos diagnosticados"
         },
         "type": "log"
        },
        "yaxis2": {
         "anchor": "x2",
         "domain": [
          0.575,
          1
         ],
         "range": [
          -0.6,
          4.2
         ],
         "type": "log"
        },
        "yaxis3": {
         "anchor": "x3",
         "domain": [
          0,
          0.425
         ],
         "range": [
          0,
          2500
         ],
         "title": {
          "text": "Óbitos nas duas cidades"
         }
        },
        "yaxis4": {
         "anchor": "x4",
         "domain": [
          0,
          0.425
         ],
         "type": "log"
        }
       }
      },
      "text/html": [
       "<div>\n",
       "        \n",
       "        \n",
       "            <div id=\"c8a3e8d5-e7dc-4e3e-a2b6-8f004bb28f44\" class=\"plotly-graph-div\" style=\"height:650px; width:989px;\"></div>\n",
       "            <script type=\"text/javascript\">\n",
       "                require([\"plotly\"], function(Plotly) {\n",
       "                    window.PLOTLYENV=window.PLOTLYENV || {};\n",
       "                    \n",
       "                if (document.getElementById(\"c8a3e8d5-e7dc-4e3e-a2b6-8f004bb28f44\")) {\n",
       "                    Plotly.newPlot(\n",
       "                        'c8a3e8d5-e7dc-4e3e-a2b6-8f004bb28f44',\n",
       "                        [{\"legendgroup\": \"Expostos\", \"marker\": {\"color\": \"blueviolet\"}, \"name\": \"Expostos\", \"type\": \"scatter\", \"x\": [0, 1, 2, 3, 4, 5, 6, 7, 8, 9, 10, 11, 12, 13, 14, 15, 16, 17, 18, 19, 20, 21, 22, 23, 24, 25, 26, 27, 28, 29, 30], \"xaxis\": \"x\", \"y\": [0.0, 0.0, 0.0, 0.0, 0.0, 0.741925697435363, 409.34909956218326, 1325.8810511266447, 2288.0014456115005, 2921.213492503235, 3334.075761620692, 3625.7050613483398, 3842.1573196657937, 4020.757162353476, 4196.73179173265, 4371.205532065722, 4559.595766253728, 4774.290578583301, 5008.4285248708475, 5264.981393982289, 5555.383569362937, 5875.554422191079, 6219.2231545824, 6586.602138298827, 6983.99074233964, 7414.762542966624, 7873.918805721209, 8359.789129658217, 8873.883380068495, 9420.826742167814, 10006.376246226322], \"yaxis\": \"y\"}, {\"legendgroup\": \"Assintom\\u00e1ticos\", \"marker\": {\"color\": \"dodgerblue\"}, \"name\": \"Assintom\\u00e1ticos\", \"type\": \"scatter\", \"x\": [0, 1, 2, 3, 4, 5, 6, 7, 8, 9, 10, 11, 12, 13, 14, 15, 16, 17, 18, 19, 20, 21, 22, 23, 24, 25, 26, 27, 28, 29, 30], \"xaxis\": \"x\", \"y\": [0.0, 0.0, 0.0, 0.0, 0.0, 0.019731924614006857, 60.53682475496089, 106.05926019285357, 110.06366261524886, 119.87444373739504, 133.00002631941402, 147.47891149003772, 162.53244672176402, 177.6622201204534, 192.5020268729711, 207.3338468294321, 222.10562397950866, 236.832995307803, 251.92705059033233, 267.5586414499435, 283.7159103909055, 300.6925912904795, 318.6792048689134, 337.7429006837443, 357.84673294513686, 379.0406200868256, 401.57470251374207, 425.64482639868424, 451.3944319865511, 478.9106750116723, 508.1302500699537], \"yaxis\": \"y\"}, {\"legendgroup\": \"Infectados\", \"marker\": {\"color\": \"sienna\"}, \"name\": \"Infectados\", \"type\": \"scatter\", \"x\": [0, 1, 2, 3, 4, 5, 6, 7, 8, 9, 10, 11, 12, 13, 14, 15, 16, 17, 18, 19, 20, 21, 22, 23, 24, 25, 26, 27, 28, 29, 30], \"xaxis\": \"x\", \"y\": [0.0, 0.0, 0.0, 0.0, 0.0, 0.4813600968554965, 17.587432465481925, 124.55589942717324, 346.80061550455866, 642.2076109052487, 974.0551211428883, 1313.505015082379, 1649.5403980357569, 1975.130282572597, 2285.1688430440418, 2586.0519031918575, 2878.657323294512, 3164.1932903938778, 3449.382708337852, 3736.903925379638, 4026.1659687635656, 4321.972192888237, 4629.238145746511, 4950.516283073626, 5286.187616481353, 5637.4934231045645, 6008.030838264103, 6400.1920825319485, 6815.37807810622, 7254.035386822648, 7716.681126457683], \"yaxis\": \"y\"}, {\"legendgroup\": \"Diagnosticados\", \"marker\": {\"color\": \"tomato\"}, \"name\": \"Diagnosticados\", \"type\": \"scatter\", \"x\": [0, 1, 2, 3, 4, 5, 6, 7, 8, 9, 10, 11, 12, 13, 14, 15, 16, 17, 18, 19, 20, 21, 22, 23, 24, 25, 26, 27, 28, 29, 30], \"xaxis\": \"x\", \"y\": [0.0, 0.0, 0.0, 0.0, 0.0, 0.06738112751691006, 0.5560485439440299, 3.2359851885030366, 11.237900832722744, 27.32183402539522, 52.10449089338317, 85.7610508174223, 127.48269894377813, 176.4803589614171, 231.9989849391966, 292.7387932283541, 358.01187334112933, 427.3131425207903, 500.0276669464531, 575.9479143959129, 655.1576316901192, 737.4294767263009, 822.6996515961409, 911.0826209808429, 1002.8470755644194, 1098.2520604861006, 1197.499923624222, 1300.9012523071842, 1408.8494356932047, 1521.8159909835226, 1640.223490804895], \"yaxis\": \"y\"}, {\"legendgroup\": \"Recuperados\", \"marker\": {\"color\": \"green\"}, \"name\": \"Recuperados\", \"type\": \"scatter\", \"x\": [0, 1, 2, 3, 4, 5, 6, 7, 8, 9, 10, 11, 12, 13, 14, 15, 16, 17, 18, 19, 20, 21, 22, 23, 24, 25, 26, 27, 28, 29, 30], \"xaxis\": \"x\", \"y\": [0.0, 0.0, 0.0, 0.0, 0.0, 0.09756802240644902, 11.384780626326119, 9.02007143155879, 19.540846833412616, 70.40886750911704, 147.9882890991903, 255.34090047539576, 393.0931780834044, 561.4946414932301, 760.6242103092573, 989.3041620125696, 1247.39128624144, 1534.9309260241444, 1851.5480008808554, 2197.6646955463584, 2574.3022761072552, 2981.900545091885, 3421.3223856951627, 3893.854470719676, 4401.1582836547495, 4944.920308130186, 5526.682751159049, 6148.327405716882, 6812.068758359921, 7520.446809125948, 8276.103396202998], \"yaxis\": \"y\"}, {\"marker\": {\"color\": \"crimson\"}, \"name\": \"Abrir por dois dias\", \"type\": \"scatter\", \"xaxis\": \"x3\", \"y\": [0.0, 4.856320322491229, 11.065327884629369, 18.479176515713334, 26.981180858798325, 36.4910789495334, 46.995973855257034, 58.65475172176957, 71.81099215243012, 86.78457043878734, 103.7468588417396, 122.8300310196355, 144.08534675836563, 167.55528838932514, 193.29308048263192, 221.32157281041145, 251.70504535268992, 284.52044371701777, 319.8355884272605, 357.7510516317561, 398.3963544871658, 441.8965888945386, 488.39207116514444, 538.046266422607, 591.0448873564601, 647.5834073703736, 707.8618111480027, 772.1004124740139, 840.5390781695023, 913.4372280910611, 991.0733977137133], \"yaxis\": \"y3\"}, {\"marker\": {\"color\": \"indigo\"}, \"name\": \"Manter a quarentena\", \"type\": \"scatter\", \"xaxis\": \"x3\", \"y\": [0.0, 4.856320322491229, 11.065327884629369, 18.479176515713334, 26.981180858798325, 36.48714479897171, 46.97365351114422, 58.42990668024868, 70.84913801494986, 84.24233020935208, 98.64935647789389, 114.11364554055035, 130.67949111480266, 148.39231892488897, 167.3123173583299, 187.51525498181581, 209.07968902774155, 232.0877102939412, 256.62494314461946, 282.78054551035166, 310.6504250969738, 340.34794149082154, 371.9900091374293, 405.7010196549818, 441.61348894424736, 479.86805718019605, 520.6134888194501, 564.0066725956276, 610.21262152493, 659.4049086179584, 711.7776933358982], \"yaxis\": \"y3\"}, {\"legendgroup\": \"Expostos\", \"marker\": {\"color\": \"blueviolet\"}, \"name\": \"Expostos\", \"showlegend\": false, \"type\": \"scatter\", \"x\": [0, 1, 2, 3, 4, 5, 6, 7, 8, 9, 10, 11, 12, 13, 14, 15, 16, 17, 18, 19, 20, 21, 22, 23, 24, 25, 26, 27, 28, 29, 30], \"xaxis\": \"x2\", \"y\": [0.0, 0.0, 0.0, 0.0, 0.0, 0.08081862825008557, 116.13579512527144, 322.31575731870964, 410.0606584333158, 470.56559780941416, 511.6348127098872, 542.1302407970901, 566.2010183278219, 587.4633391026159, 609.5990544552923, 632.4721900713754, 657.7110205474976, 686.650166866423, 718.3615274571434, 753.1071853681067, 792.1792793428478, 835.0417214616277, 880.9116889477, 929.7845710742458, 982.3862961876375, 1039.089321808631, 1099.2434787896605, 1162.5885459671335, 1229.2406671118802, 1299.6864026028238, 1374.5918000903353], \"yaxis\": \"y2\"}, {\"legendgroup\": \"Assintom\\u00e1ticos\", \"marker\": {\"color\": \"dodgerblue\"}, \"name\": \"Assintom\\u00e1ticos\", \"showlegend\": false, \"type\": \"scatter\", \"x\": [0, 1, 2, 3, 4, 5, 6, 7, 8, 9, 10, 11, 12, 13, 14, 15, 16, 17, 18, 19, 20, 21, 22, 23, 24, 25, 26, 27, 28, 29, 30], \"xaxis\": \"x2\", \"y\": [0.0, 0.0, 0.0, 0.0, 0.0, 0.002313947634092983, 61.828441724572826, 105.80221067219975, 100.54336394018839, 94.78323190723552, 88.69624417130689, 82.43892681780602, 76.07282947219869, 69.63912714105498, 63.171202193173656, 56.63081345872911, 50.013091027366954, 43.309470980801166, 36.47320074863853, 29.481447557658953, 22.331263418410686, 14.985463483455533, 7.404214103311631, 0.4378561537301948, 8.552739841065545, 16.958861273783043, 25.6918200179789, 34.780413599153576, 44.24765489391899, 54.110897938760445, 64.38549825222702], \"yaxis\": \"y2\"}, {\"legendgroup\": \"Infectados\", \"marker\": {\"color\": \"sienna\"}, \"name\": \"Infectados\", \"showlegend\": false, \"type\": \"scatter\", \"x\": [0, 1, 2, 3, 4, 5, 6, 7, 8, 9, 10, 11, 12, 13, 14, 15, 16, 17, 18, 19, 20, 21, 22, 23, 24, 25, 26, 27, 28, 29, 30], \"xaxis\": \"x2\", \"y\": [0.0, 0.0, 0.0, 0.0, 0.0, 0.05217891904828775, 6.0761027055053205, 32.48521198129515, 76.04519658606972, 123.96143334370112, 173.4282832603318, 221.98534719235988, 268.8986065035839, 313.7381112276787, 356.17346395428524, 397.14344137842204, 436.89000294487744, 475.6601580678297, 514.3336099800844, 553.2948455079031, 592.5270306282581, 632.6315563532465, 674.2015603364616, 717.5457484977062, 762.7119299129533, 809.8467465171489, 859.3831115739013, 911.6094987822939, 966.6911682050556, 1024.673312332466, 1085.5719525852437], \"yaxis\": \"y2\"}, {\"legendgroup\": \"Diagnosticados\", \"marker\": {\"color\": \"tomato\"}, \"name\": \"Diagnosticados\", \"showlegend\": false, \"type\": \"scatter\", \"x\": [0, 1, 2, 3, 4, 5, 6, 7, 8, 9, 10, 11, 12, 13, 14, 15, 16, 17, 18, 19, 20, 21, 22, 23, 24, 25, 26, 27, 28, 29, 30], \"xaxis\": \"x2\", \"y\": [0.0, 0.0, 0.0, 0.0, 0.0, 0.007453943086929371, 0.24700533655433787, 0.4976301603069686, 0.2726388031652789, 2.5324682707805692, 6.204546461436053, 11.203102499019224, 17.36338461204076, 24.54203104502156, 32.613983958726664, 41.40291213597726, 50.8096402382501, 60.76208286355501, 71.18075055026264, 82.03594302318362, 93.33380590865605, 105.04692053744083, 117.16818660287515, 129.71165064475753, 142.70968823586998, 156.1941970094178, 170.19056909243022, 184.7363598155223, 199.8784314679864, 215.6724748973706, 232.16983994296146], \"yaxis\": \"y2\"}, {\"legendgroup\": \"Recuperados\", \"marker\": {\"color\": \"green\"}, \"name\": \"Recuperados\", \"showlegend\": false, \"type\": \"scatter\", \"x\": [0, 1, 2, 3, 4, 5, 6, 7, 8, 9, 10, 11, 12, 13, 14, 15, 16, 17, 18, 19, 20, 21, 22, 23, 24, 25, 26, 27, 28, 29, 30], \"xaxis\": \"x2\", \"y\": [0.0, 0.0, 0.0, 0.0, 0.0, 0.010479529739143345, 14.903808786264193, 26.083171171288626, 29.130022155524216, 35.933724994040745, 46.752215792031734, 61.76800936603297, 80.95547489804392, 104.27697161945957, 131.6978575465812, 163.05917424821155, 198.32414715744937, 237.48756345212178, 280.508214888529, 327.4366209679931, 378.3938151319303, 433.44023067654257, 492.677540382555, 556.2568406261046, 624.3737915052225, 697.2300692910626, 775.0150370779852, 857.9559026447425, 946.3160941671322, 1040.3942592115832, 1140.4944053535223], \"yaxis\": \"y2\"}, {\"marker\": {\"color\": \"black\"}, \"name\": \"\\u00d3bitos\", \"type\": \"scatter\", \"xaxis\": \"x4\", \"y\": [0.0, 0.0, 0.0, 0.0, 0.0, 0.0039341505616903305, 0.022320344112813473, 0.22484504152089357, 0.9618541374802589, 2.542240229435265, 5.097502363845706, 8.716385479085147, 13.405855643562973, 19.162969464436173, 25.98076312430203, 33.80631782859564, 42.62535632494837, 52.43273342307657, 63.21064528264105, 74.97050612140447, 87.74592939019203, 101.54864740371704, 116.40206202771515, 132.3452467676252, 149.43139841221273, 167.71535019017756, 187.2483223285526, 208.09373987838626, 230.32645664457232, 254.0323194731027, 279.2957043778151], \"yaxis\": \"y4\"}],\n",
       "                        {\"annotations\": [{\"font\": {\"size\": 16}, \"showarrow\": false, \"text\": \"Diferen\\u00e7a entre os regimes - RJ\", \"x\": 0.225, \"xanchor\": \"center\", \"xref\": \"paper\", \"y\": 1.0, \"yanchor\": \"bottom\", \"yref\": \"paper\"}, {\"font\": {\"size\": 16}, \"showarrow\": false, \"text\": \"Diferen\\u00e7a entre os regimes - Nit\", \"x\": 0.775, \"xanchor\": \"center\", \"xref\": \"paper\", \"y\": 1.0, \"yanchor\": \"bottom\", \"yref\": \"paper\"}, {\"font\": {\"size\": 16}, \"showarrow\": false, \"text\": \"\\u00d3bitos com os dois regimes\", \"x\": 0.225, \"xanchor\": \"center\", \"xref\": \"paper\", \"y\": 0.425, \"yanchor\": \"bottom\", \"yref\": \"paper\"}, {\"font\": {\"size\": 16}, \"showarrow\": false, \"text\": \"Diferen\\u00e7a de \\u00f3bitos\", \"x\": 0.775, \"xanchor\": \"center\", \"xref\": \"paper\", \"y\": 0.425, \"yanchor\": \"bottom\", \"yref\": \"paper\"}, {\"font\": {\"size\": 10}, \"showarrow\": true, \"text\": \"Fim da quarentena\", \"textangle\": -90, \"x\": 5, \"xref\": \"x\", \"y\": \"1.3\", \"yref\": \"y\"}], \"height\": 650, \"shapes\": [{\"fillcolor\": \"LightSalmon\", \"layer\": \"below\", \"line\": {\"width\": 0}, \"opacity\": 0.5, \"type\": \"rect\", \"x0\": 5, \"x1\": 7, \"xref\": \"x\", \"y0\": 0.001, \"y1\": 20000.0, \"yref\": \"y\"}, {\"fillcolor\": \"LightSalmon\", \"layer\": \"below\", \"line\": {\"width\": 0}, \"opacity\": 0.5, \"type\": \"rect\", \"x0\": 5, \"x1\": 7, \"xref\": \"x2\", \"y0\": 0.001, \"y1\": 20000.0, \"yref\": \"y2\"}, {\"fillcolor\": \"LightSalmon\", \"layer\": \"below\", \"line\": {\"width\": 0}, \"opacity\": 0.5, \"type\": \"rect\", \"x0\": 5, \"x1\": 7, \"xref\": \"x3\", \"y0\": 0.001, \"y1\": 2500, \"yref\": \"y3\"}, {\"fillcolor\": \"LightSalmon\", \"layer\": \"below\", \"line\": {\"width\": 0}, \"opacity\": 0.5, \"type\": \"rect\", \"x0\": 5, \"x1\": 7, \"xref\": \"x4\", \"y0\": 0.001, \"y1\": 20000.0, \"yref\": \"y4\"}], \"template\": {\"data\": {\"bar\": [{\"error_x\": {\"color\": \"#2a3f5f\"}, \"error_y\": {\"color\": \"#2a3f5f\"}, \"marker\": {\"line\": {\"color\": \"#E5ECF6\", \"width\": 0.5}}, \"type\": \"bar\"}], \"barpolar\": [{\"marker\": {\"line\": {\"color\": \"#E5ECF6\", \"width\": 0.5}}, \"type\": \"barpolar\"}], \"carpet\": [{\"aaxis\": {\"endlinecolor\": \"#2a3f5f\", \"gridcolor\": \"white\", \"linecolor\": \"white\", \"minorgridcolor\": \"white\", \"startlinecolor\": \"#2a3f5f\"}, \"baxis\": {\"endlinecolor\": \"#2a3f5f\", \"gridcolor\": \"white\", \"linecolor\": \"white\", \"minorgridcolor\": \"white\", \"startlinecolor\": \"#2a3f5f\"}, \"type\": \"carpet\"}], \"choropleth\": [{\"colorbar\": {\"outlinewidth\": 0, \"ticks\": \"\"}, \"type\": \"choropleth\"}], \"contour\": [{\"colorbar\": {\"outlinewidth\": 0, \"ticks\": \"\"}, \"colorscale\": [[0.0, \"#0d0887\"], [0.1111111111111111, \"#46039f\"], [0.2222222222222222, \"#7201a8\"], [0.3333333333333333, \"#9c179e\"], [0.4444444444444444, \"#bd3786\"], [0.5555555555555556, \"#d8576b\"], [0.6666666666666666, \"#ed7953\"], [0.7777777777777778, \"#fb9f3a\"], [0.8888888888888888, \"#fdca26\"], [1.0, \"#f0f921\"]], \"type\": \"contour\"}], \"contourcarpet\": [{\"colorbar\": {\"outlinewidth\": 0, \"ticks\": \"\"}, \"type\": \"contourcarpet\"}], \"heatmap\": [{\"colorbar\": {\"outlinewidth\": 0, \"ticks\": \"\"}, \"colorscale\": [[0.0, \"#0d0887\"], [0.1111111111111111, \"#46039f\"], [0.2222222222222222, \"#7201a8\"], [0.3333333333333333, \"#9c179e\"], [0.4444444444444444, \"#bd3786\"], [0.5555555555555556, \"#d8576b\"], [0.6666666666666666, \"#ed7953\"], [0.7777777777777778, \"#fb9f3a\"], [0.8888888888888888, \"#fdca26\"], [1.0, \"#f0f921\"]], \"type\": \"heatmap\"}], \"heatmapgl\": [{\"colorbar\": {\"outlinewidth\": 0, \"ticks\": \"\"}, \"colorscale\": [[0.0, \"#0d0887\"], [0.1111111111111111, \"#46039f\"], [0.2222222222222222, \"#7201a8\"], [0.3333333333333333, \"#9c179e\"], [0.4444444444444444, \"#bd3786\"], [0.5555555555555556, \"#d8576b\"], [0.6666666666666666, \"#ed7953\"], [0.7777777777777778, \"#fb9f3a\"], [0.8888888888888888, \"#fdca26\"], [1.0, \"#f0f921\"]], \"type\": \"heatmapgl\"}], \"histogram\": [{\"marker\": {\"colorbar\": {\"outlinewidth\": 0, \"ticks\": \"\"}}, \"type\": \"histogram\"}], \"histogram2d\": [{\"colorbar\": {\"outlinewidth\": 0, \"ticks\": \"\"}, \"colorscale\": [[0.0, \"#0d0887\"], [0.1111111111111111, \"#46039f\"], [0.2222222222222222, \"#7201a8\"], [0.3333333333333333, \"#9c179e\"], [0.4444444444444444, \"#bd3786\"], [0.5555555555555556, \"#d8576b\"], [0.6666666666666666, \"#ed7953\"], [0.7777777777777778, \"#fb9f3a\"], [0.8888888888888888, \"#fdca26\"], [1.0, \"#f0f921\"]], \"type\": \"histogram2d\"}], \"histogram2dcontour\": [{\"colorbar\": {\"outlinewidth\": 0, \"ticks\": \"\"}, \"colorscale\": [[0.0, \"#0d0887\"], [0.1111111111111111, \"#46039f\"], [0.2222222222222222, \"#7201a8\"], [0.3333333333333333, \"#9c179e\"], [0.4444444444444444, \"#bd3786\"], [0.5555555555555556, \"#d8576b\"], [0.6666666666666666, \"#ed7953\"], [0.7777777777777778, \"#fb9f3a\"], [0.8888888888888888, \"#fdca26\"], [1.0, \"#f0f921\"]], \"type\": \"histogram2dcontour\"}], \"mesh3d\": [{\"colorbar\": {\"outlinewidth\": 0, \"ticks\": \"\"}, \"type\": \"mesh3d\"}], \"parcoords\": [{\"line\": {\"colorbar\": {\"outlinewidth\": 0, \"ticks\": \"\"}}, \"type\": \"parcoords\"}], \"pie\": [{\"automargin\": true, \"type\": \"pie\"}], \"scatter\": [{\"marker\": {\"colorbar\": {\"outlinewidth\": 0, \"ticks\": \"\"}}, \"type\": \"scatter\"}], \"scatter3d\": [{\"line\": {\"colorbar\": {\"outlinewidth\": 0, \"ticks\": \"\"}}, \"marker\": {\"colorbar\": {\"outlinewidth\": 0, \"ticks\": \"\"}}, \"type\": \"scatter3d\"}], \"scattercarpet\": [{\"marker\": {\"colorbar\": {\"outlinewidth\": 0, \"ticks\": \"\"}}, \"type\": \"scattercarpet\"}], \"scattergeo\": [{\"marker\": {\"colorbar\": {\"outlinewidth\": 0, \"ticks\": \"\"}}, \"type\": \"scattergeo\"}], \"scattergl\": [{\"marker\": {\"colorbar\": {\"outlinewidth\": 0, \"ticks\": \"\"}}, \"type\": \"scattergl\"}], \"scattermapbox\": [{\"marker\": {\"colorbar\": {\"outlinewidth\": 0, \"ticks\": \"\"}}, \"type\": \"scattermapbox\"}], \"scatterpolar\": [{\"marker\": {\"colorbar\": {\"outlinewidth\": 0, \"ticks\": \"\"}}, \"type\": \"scatterpolar\"}], \"scatterpolargl\": [{\"marker\": {\"colorbar\": {\"outlinewidth\": 0, \"ticks\": \"\"}}, \"type\": \"scatterpolargl\"}], \"scatterternary\": [{\"marker\": {\"colorbar\": {\"outlinewidth\": 0, \"ticks\": \"\"}}, \"type\": \"scatterternary\"}], \"surface\": [{\"colorbar\": {\"outlinewidth\": 0, \"ticks\": \"\"}, \"colorscale\": [[0.0, \"#0d0887\"], [0.1111111111111111, \"#46039f\"], [0.2222222222222222, \"#7201a8\"], [0.3333333333333333, \"#9c179e\"], [0.4444444444444444, \"#bd3786\"], [0.5555555555555556, \"#d8576b\"], [0.6666666666666666, \"#ed7953\"], [0.7777777777777778, \"#fb9f3a\"], [0.8888888888888888, \"#fdca26\"], [1.0, \"#f0f921\"]], \"type\": \"surface\"}], \"table\": [{\"cells\": {\"fill\": {\"color\": \"#EBF0F8\"}, \"line\": {\"color\": \"white\"}}, \"header\": {\"fill\": {\"color\": \"#C8D4E3\"}, \"line\": {\"color\": \"white\"}}, \"type\": \"table\"}]}, \"layout\": {\"annotationdefaults\": {\"arrowcolor\": \"#2a3f5f\", \"arrowhead\": 0, \"arrowwidth\": 1}, \"coloraxis\": {\"colorbar\": {\"outlinewidth\": 0, \"ticks\": \"\"}}, \"colorscale\": {\"diverging\": [[0, \"#8e0152\"], [0.1, \"#c51b7d\"], [0.2, \"#de77ae\"], [0.3, \"#f1b6da\"], [0.4, \"#fde0ef\"], [0.5, \"#f7f7f7\"], [0.6, \"#e6f5d0\"], [0.7, \"#b8e186\"], [0.8, \"#7fbc41\"], [0.9, \"#4d9221\"], [1, \"#276419\"]], \"sequential\": [[0.0, \"#0d0887\"], [0.1111111111111111, \"#46039f\"], [0.2222222222222222, \"#7201a8\"], [0.3333333333333333, \"#9c179e\"], [0.4444444444444444, \"#bd3786\"], [0.5555555555555556, \"#d8576b\"], [0.6666666666666666, \"#ed7953\"], [0.7777777777777778, \"#fb9f3a\"], [0.8888888888888888, \"#fdca26\"], [1.0, \"#f0f921\"]], \"sequentialminus\": [[0.0, \"#0d0887\"], [0.1111111111111111, \"#46039f\"], [0.2222222222222222, \"#7201a8\"], [0.3333333333333333, \"#9c179e\"], [0.4444444444444444, \"#bd3786\"], [0.5555555555555556, \"#d8576b\"], [0.6666666666666666, \"#ed7953\"], [0.7777777777777778, \"#fb9f3a\"], [0.8888888888888888, \"#fdca26\"], [1.0, \"#f0f921\"]]}, \"colorway\": [\"#636efa\", \"#EF553B\", \"#00cc96\", \"#ab63fa\", \"#FFA15A\", \"#19d3f3\", \"#FF6692\", \"#B6E880\", \"#FF97FF\", \"#FECB52\"], \"font\": {\"color\": \"#2a3f5f\"}, \"geo\": {\"bgcolor\": \"white\", \"lakecolor\": \"white\", \"landcolor\": \"#E5ECF6\", \"showlakes\": true, \"showland\": true, \"subunitcolor\": \"white\"}, \"hoverlabel\": {\"align\": \"left\"}, \"hovermode\": \"closest\", \"mapbox\": {\"style\": \"light\"}, \"paper_bgcolor\": \"white\", \"plot_bgcolor\": \"#E5ECF6\", \"polar\": {\"angularaxis\": {\"gridcolor\": \"white\", \"linecolor\": \"white\", \"ticks\": \"\"}, \"bgcolor\": \"#E5ECF6\", \"radialaxis\": {\"gridcolor\": \"white\", \"linecolor\": \"white\", \"ticks\": \"\"}}, \"scene\": {\"xaxis\": {\"backgroundcolor\": \"#E5ECF6\", \"gridcolor\": \"white\", \"gridwidth\": 2, \"linecolor\": \"white\", \"showbackground\": true, \"ticks\": \"\", \"zerolinecolor\": \"white\"}, \"yaxis\": {\"backgroundcolor\": \"#E5ECF6\", \"gridcolor\": \"white\", \"gridwidth\": 2, \"linecolor\": \"white\", \"showbackground\": true, \"ticks\": \"\", \"zerolinecolor\": \"white\"}, \"zaxis\": {\"backgroundcolor\": \"#E5ECF6\", \"gridcolor\": \"white\", \"gridwidth\": 2, \"linecolor\": \"white\", \"showbackground\": true, \"ticks\": \"\", \"zerolinecolor\": \"white\"}}, \"shapedefaults\": {\"line\": {\"color\": \"#2a3f5f\"}}, \"ternary\": {\"aaxis\": {\"gridcolor\": \"white\", \"linecolor\": \"white\", \"ticks\": \"\"}, \"baxis\": {\"gridcolor\": \"white\", \"linecolor\": \"white\", \"ticks\": \"\"}, \"bgcolor\": \"#E5ECF6\", \"caxis\": {\"gridcolor\": \"white\", \"linecolor\": \"white\", \"ticks\": \"\"}}, \"title\": {\"x\": 0.05}, \"xaxis\": {\"automargin\": true, \"gridcolor\": \"white\", \"linecolor\": \"white\", \"ticks\": \"\", \"title\": {\"standoff\": 15}, \"zerolinecolor\": \"white\", \"zerolinewidth\": 2}, \"yaxis\": {\"automargin\": true, \"gridcolor\": \"white\", \"linecolor\": \"white\", \"ticks\": \"\", \"title\": {\"standoff\": 15}, \"zerolinecolor\": \"white\", \"zerolinewidth\": 2}}}, \"title\": {\"text\": \"Compara\\u00e7\\u00e3o entre regimes: abrir por dois dias ou n\\u00e3o abrir\", \"x\": 0.2}, \"width\": 989, \"xaxis\": {\"anchor\": \"y\", \"domain\": [0.0, 0.45]}, \"xaxis2\": {\"anchor\": \"y2\", \"domain\": [0.55, 1.0]}, \"xaxis3\": {\"anchor\": \"y3\", \"domain\": [0.0, 0.45], \"range\": [0, 30], \"title\": {\"text\": \"Dias transcorridos\"}}, \"xaxis4\": {\"anchor\": \"y4\", \"domain\": [0.55, 1.0], \"range\": [0, 30], \"title\": {\"text\": \"Dias transcorridos\"}}, \"yaxis\": {\"anchor\": \"x\", \"domain\": [0.575, 1.0], \"range\": [-0.6, 4.2], \"title\": {\"text\": \"Casos diagnosticados\"}, \"type\": \"log\"}, \"yaxis2\": {\"anchor\": \"x2\", \"domain\": [0.575, 1.0], \"range\": [-0.6, 4.2], \"type\": \"log\"}, \"yaxis3\": {\"anchor\": \"x3\", \"domain\": [0.0, 0.425], \"range\": [0, 2500], \"title\": {\"text\": \"\\u00d3bitos nas duas cidades\"}}, \"yaxis4\": {\"anchor\": \"x4\", \"domain\": [0.0, 0.425], \"type\": \"log\"}},\n",
       "                        {\"responsive\": true}\n",
       "                    ).then(function(){\n",
       "                            \n",
       "var gd = document.getElementById('c8a3e8d5-e7dc-4e3e-a2b6-8f004bb28f44');\n",
       "var x = new MutationObserver(function (mutations, observer) {{\n",
       "        var display = window.getComputedStyle(gd).display;\n",
       "        if (!display || display === 'none') {{\n",
       "            console.log([gd, 'removed!']);\n",
       "            Plotly.purge(gd);\n",
       "            observer.disconnect();\n",
       "        }}\n",
       "}});\n",
       "\n",
       "// Listen for the removal of the full notebook cells\n",
       "var notebookContainer = gd.closest('#notebook-container');\n",
       "if (notebookContainer) {{\n",
       "    x.observe(notebookContainer, {childList: true});\n",
       "}}\n",
       "\n",
       "// Listen for the clearing of the current output cell\n",
       "var outputEl = gd.closest('.output');\n",
       "if (outputEl) {{\n",
       "    x.observe(outputEl, {childList: true});\n",
       "}}\n",
       "\n",
       "                        })\n",
       "                };\n",
       "                });\n",
       "            </script>\n",
       "        </div>"
      ]
     },
     "metadata": {},
     "output_type": "display_data"
    }
   ],
   "source": [
    "fig = make_subplots(rows=2, cols = 2, vertical_spacing = .15)\n",
    "\n",
    "\n",
    "## RJ\n",
    "for i in range(2,7):\n",
    "    fig.add_trace(go.Scatter(\n",
    "    x = ts,\n",
    "    y = np.abs(sol_multi_regime_modif_nit[i]-sol_multi_regime_base_nit[i]), name = compartimentos[i], marker = dict(\n",
    "    color = colors[i-2]), legendgroup = compartimentos[i]), row = 1, col = 1)\n",
    "\n",
    "fig.add_trace(go.Scatter(\n",
    "y = tot_deaths(sol_multi_regime_modif_nit), name = 'Abrir por dois dias', marker = dict(\n",
    "color = 'crimson')), row = 2, col = 1)\n",
    "\n",
    "fig.add_trace(go.Scatter(\n",
    "y = tot_deaths(sol_multi_regime_base_nit), name = 'Manter a quarentena', marker = dict(\n",
    "color = 'indigo')), row = 2, col = 1)\n",
    "    \n",
    "    \n",
    "## SP\n",
    "for i in range(9,14):\n",
    "    fig.add_trace(go.Scatter(\n",
    "    x = ts,\n",
    "    y = np.abs(sol_multi_regime_modif_nit[i]-sol_multi_regime_base_nit[i]), name = compartimentos[i-7], showlegend = False, marker = dict(\n",
    "    color = colors[i-9]), legendgroup = compartimentos[i-7]), row = 1, col = 2)\n",
    "    \n",
    "fig.add_trace(go.Scatter(\n",
    "y = tot_deaths(sol_multi_regime_modif_nit) - tot_deaths(sol_multi_regime_base_nit), name = 'Óbitos', marker = dict(\n",
    "color = 'black')), row = 2, col = 2)\n",
    "\n",
    "\n",
    "    \n",
    "\n",
    "fig.update_layout(\n",
    "    shapes = shapes\n",
    ")\n",
    "fig.update_layout(title_text = 'Comparação entre regimes: abrir por dois dias ou não abrir', title_x = .2,\n",
    "                  height=650, width=989, yaxis=dict(type='log'), yaxis2=dict(type='log'),\n",
    "                  yaxis4 = dict(type = 'log'), annotations = annotations)\n",
    "fig.update_xaxes(range = [0,30], row = 2, col = 1, title_text = 'Dias transcorridos')\n",
    "fig.update_xaxes(range = [0,30], row = 2, col = 2, title_text = 'Dias transcorridos')  \n",
    "fig.update_yaxes(range = [-0.6,4.2], row = 1, col = 1, title_text = 'Casos diagnosticados')\n",
    "fig.update_yaxes(range = [-0.6,4.2], row = 1, col = 2)\n",
    "fig.update_yaxes(range = [0,2500], row = 2, col = 1, title_text = 'Óbitos nas duas cidades')\n",
    "fig.show()"
   ]
  }
 ],
 "metadata": {
  "kernelspec": {
   "display_name": "Python 3",
   "language": "python",
   "name": "python3"
  },
  "language_info": {
   "codemirror_mode": {
    "name": "ipython",
    "version": 3
   },
   "file_extension": ".py",
   "mimetype": "text/x-python",
   "name": "python",
   "nbconvert_exporter": "python",
   "pygments_lexer": "ipython3",
   "version": "3.7.3"
  }
 },
 "nbformat": 4,
 "nbformat_minor": 4
}
