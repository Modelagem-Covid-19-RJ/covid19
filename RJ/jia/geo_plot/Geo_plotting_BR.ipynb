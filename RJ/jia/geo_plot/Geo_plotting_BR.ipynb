{
 "cells": [
  {
   "cell_type": "code",
   "execution_count": 1,
   "metadata": {},
   "outputs": [],
   "source": [
    "import numpy as np\n",
    "import pandas as pd\n",
    "import plotly.express as px\n",
    "import plotly\n",
    "import json\n",
    "import datetime as dt\n",
    "import matplotlib.dates as mdates\n",
    "import unidecode\n",
    "from IPython.display import Image\n",
    "from PIL import Image, ImageDraw\n",
    "import imageio\n",
    "from get_data import read_data, get_data, download_csv"
   ]
  },
  {
   "cell_type": "code",
   "execution_count": 2,
   "metadata": {},
   "outputs": [],
   "source": [
    "#df_pop = pd.read_csv('dados/pop_estados.csv', encoding='iso-8859-1')\n",
    "#df_pop = df_pop.drop(columns = ['Posição'])\n",
    "#df_pop['População'] = [int(v.replace('\\xa0', '')) for v in df_pop['População']]\n",
    "#df_pop['% da pop. total'] = [float(v.replace(',', '').replace('%',''))/10000 for v in df_pop['% da pop. total']]\n",
    "#df_pop.rename(mapper = {'Unidade federativa':'Estado', '% da pop. total': 'Porcentagem da população total'}, axis = 1, inplace = True)\n",
    "#df_pop.loc[19, 'Estado'] = 'DF'\n",
    "#df_pop.loc[3, 'Estado'] = 'Bahia'\n",
    "#df_pop.loc[8, 'Estado'] = 'Pará'\n",
    "#df_pop['Estado'] = [v.replace('\\xa0', '') for v in df_pop['Estado']]"
   ]
  },
  {
   "cell_type": "code",
   "execution_count": 3,
   "metadata": {},
   "outputs": [],
   "source": [
    "#df_conf = pd.read_csv('dados/dados_brasil.csv', encoding = 'iso-8859-1', delimiter = ';')\n",
    "#df_conf.rename(mapper = { 'estado': 'Estado', 'data':'Data', 'casosNovos':'Novos confirmados',\n",
    "#                        'obitosNovos':'Novos óbitos', 'obitosAcumulados':'Total óbitos', \n",
    "#                         'casosAcumulados':'Total confirmados'}, axis = 1, inplace = True)\n",
    "#df_conf = df_conf.drop(columns=['regiao'])"
   ]
  },
  {
   "cell_type": "code",
   "execution_count": 4,
   "metadata": {},
   "outputs": [],
   "source": [
    "#estados = [[],[],[],[]] ## 0: Json File - 1: Nº de municipios - 2: Nome dos municipios\n",
    "#with open('dados/geojs-ufs.json', encoding='iso-8859-1') as fh:\n",
    "#    estados[0] = json.load(fh)"
   ]
  },
  {
   "cell_type": "code",
   "execution_count": 5,
   "metadata": {},
   "outputs": [],
   "source": [
    "#estados[1] = len(estados[0]['features']) ## número total de municipios no estado"
   ]
  },
  {
   "cell_type": "code",
   "execution_count": 6,
   "metadata": {},
   "outputs": [],
   "source": [
    "#for i in range(estados[1]):\n",
    "#    estados[2].append(estados[0]['features'][i]['properties']['NOME_UF'])\n",
    "#    estados[3].append(estados[0]['features'][i]['properties']['UF_05'])"
   ]
  },
  {
   "cell_type": "code",
   "execution_count": 7,
   "metadata": {},
   "outputs": [],
   "source": [
    "#dfs = [df_conf[df_conf['Estado'] == uf].iloc[25:,:] for uf in estados[3]]\n",
    "#dicionarios = [df.to_dict() for df in dfs]\n",
    "#dias = list(dicionarios[0]['Data'].values())\n",
    "#dic_pop = {v:df_pop[df_pop['Estado'] == v].iloc[0,1] for v in estados[2]}"
   ]
  },
  {
   "cell_type": "code",
   "execution_count": 8,
   "metadata": {},
   "outputs": [],
   "source": [
    "#lst_conf = np.array([df['Total confirmados'].values * 1e5/dic_pop[estados[2][i]] for i,df in enumerate(dfs)]).flatten()"
   ]
  },
  {
   "cell_type": "code",
   "execution_count": 9,
   "metadata": {},
   "outputs": [],
   "source": [
    "#est = []\n",
    "#datas = 27*dias\n",
    "#for e in estados[2]:\n",
    "#    est += 61*[e]"
   ]
  },
  {
   "cell_type": "code",
   "execution_count": 10,
   "metadata": {},
   "outputs": [],
   "source": [
    "#dic = {'Data':datas, 'Estado':est, 'Casos':lst_conf}\n",
    "#df_plot = pd.DataFrame(dic)"
   ]
  },
  {
   "cell_type": "code",
   "execution_count": 11,
   "metadata": {},
   "outputs": [],
   "source": [
    "#df_plot[df_plot['Data'] == '24/04/2020']"
   ]
  },
  {
   "cell_type": "code",
   "execution_count": 12,
   "metadata": {},
   "outputs": [],
   "source": [
    "#T_fim = '24/04/2020'\n",
    "#fig = px.choropleth(df_plot[df_plot['Data'] == '24/04/2020'], geojson = estados[0], locations='Estado', color='Casos',\n",
    "#                               color_continuous_scale = \"ylorrd\",\n",
    "#                               range_color=(0,80),featureidkey=\"properties.NOME_UF\",\n",
    "#                               labels=dict(title ='100k')\n",
    "#                              )\n",
    "#fig.update_geos(fitbounds=\"locations\", visible=False)\n",
    "#fig.update_layout(margin={\"r\":0,\"t\":0,\"l\":0,\"b\":0}, title_text = f'Casos Confirmados até dia ' + T_fim +  ' por 100 mil habitantes',\n",
    "#                      title_y = 0.95, title_x = 0.45)\n",
    "#fig.show()"
   ]
  },
  {
   "cell_type": "markdown",
   "metadata": {},
   "source": [
    "### Animando"
   ]
  },
  {
   "cell_type": "code",
   "execution_count": 13,
   "metadata": {},
   "outputs": [],
   "source": [
    "#inicio = 40\n",
    "#dfs = [df_conf[df_conf['Estado'] == uf].iloc[inicio:,:] for uf in estados[3]]\n",
    "#dicionarios = [df.to_dict() for df in dfs]\n",
    "#dias = list(dicionarios[0]['Data'].values())\n",
    "#dic_pop = {v:df_pop[df_pop['Estado'] == v].iloc[0,1] for v in estados[2]}"
   ]
  },
  {
   "cell_type": "code",
   "execution_count": 14,
   "metadata": {},
   "outputs": [],
   "source": [
    "#n = 5\n",
    "#dias_semanas = list(dicionarios[0]['Data'].values())[::n]"
   ]
  },
  {
   "cell_type": "code",
   "execution_count": 15,
   "metadata": {},
   "outputs": [],
   "source": [
    "#lst_conf_semanas = np.array([df['Total confirmados'].values[::n] * 1e5/dic_pop[estados[2][i]] for i,df in enumerate(dfs)]).flatten()"
   ]
  },
  {
   "cell_type": "code",
   "execution_count": 16,
   "metadata": {},
   "outputs": [],
   "source": [
    "#dias_semanas"
   ]
  },
  {
   "cell_type": "code",
   "execution_count": 17,
   "metadata": {},
   "outputs": [],
   "source": [
    "#est_semanas = []\n",
    "#datas_semanas = 27*dias_semanas\n",
    "#for e in estados[2]:\n",
    "#    est_semanas += len(dias_semanas)*[e]\n"
   ]
  },
  {
   "cell_type": "code",
   "execution_count": 18,
   "metadata": {},
   "outputs": [],
   "source": [
    "#dic_semanas = {'Data':datas_semanas, 'Estado':est_semanas, 'Casos':lst_conf_semanas}\n",
    "#df_plot_semanas = pd.DataFrame(dic_semanas)"
   ]
  },
  {
   "cell_type": "code",
   "execution_count": 19,
   "metadata": {},
   "outputs": [],
   "source": [
    "#imgs = []\n",
    "#for i,d in enumerate(dias_semanas):\n",
    "#    fig = px.choropleth(df_plot_semanas[df_plot_semanas['Data']==d],\n",
    "#                        geojson = estados[0], animation_frame = 'Data', animation_group = 'Estado',\n",
    "#                        locations='Estado', color='Casos',\n",
    "#                                   color_continuous_scale = \"ylorrd\",\n",
    "#                                   range_color=(0,60),featureidkey=\"properties.NOME_UF\",\n",
    "#                                   labels={'Casos': 'por 100 mil hab.'}\n",
    "#                                  )\n",
    "#    fig.update_geos(fitbounds=\"locations\", visible=False)\n",
    "#    fig.update_layout(margin={\"r\":0,\"t\":0,\"l\":0,\"b\":0}, \n",
    "#                      title_text = f'Casos Confirmados por 100 mil habitantes: <br> de 10/03 até 24/04',\n",
    "#                          title_y = 0.9, title_x = 0.45)\n",
    "#    #plotly.io.write_image(fig=fig,file=\"imagens/BR_geoplot_\"+str(i)+\".jpg\",format=\"jpeg\",scale=None, width=None, height=None)\n",
    "#    #imgi = fig.to_image(format=\"png\")\n",
    "#    #imgs.append(imgi)\n",
    "#    fig.show()\n",
    "    "
   ]
  },
  {
   "cell_type": "code",
   "execution_count": 20,
   "metadata": {},
   "outputs": [],
   "source": [
    "#filenames = []\n",
    "#for i in range(10):\n",
    "#    filenames += 6*[r'imagens/BR_geoplot_'+str(i)+'.jpg']\n",
    "#images = []\n",
    "#for filename in filenames:\n",
    "#    images.append(imageio.imread(filename))\n",
    "#imageio.mimsave(r\"imagens/BR_geoplot.gif\" , images)"
   ]
  },
  {
   "cell_type": "code",
   "execution_count": 21,
   "metadata": {},
   "outputs": [],
   "source": [
    "#%%time\n",
    "#fig = px.choropleth(df_plot_semanas, geojson = estados[0], animation_frame = 'Data', animation_group = 'Estado',\n",
    "#                   locations='Estado', color='Casos',\n",
    "#                               color_continuous_scale = \"ylorrd\",\n",
    "#                               range_color=(0,60),featureidkey=\"properties.NOME_UF\",\n",
    "#                               labels={'Casos': 'por 100 mil hab.'}\n",
    "#                              )\n",
    "#fig.update_geos(fitbounds=\"locations\", visible=False)\n",
    "#fig.update_layout(margin={\"r\":0,\"t\":0,\"l\":0,\"b\":0}, title_text = f'Casos Confirmados por 100 mil habitantes',\n",
    "#                      title_y = 0.99, title_x = 0.45)\n",
    "#fig.show()"
   ]
  }
 ],
 "metadata": {
  "kernelspec": {
   "display_name": "Python 3",
   "language": "python",
   "name": "python3"
  },
  "language_info": {
   "codemirror_mode": {
    "name": "ipython",
    "version": 3
   },
   "file_extension": ".py",
   "mimetype": "text/x-python",
   "name": "python",
   "nbconvert_exporter": "python",
   "pygments_lexer": "ipython3",
   "version": "3.7.3"
  }
 },
 "nbformat": 4,
 "nbformat_minor": 4
}
