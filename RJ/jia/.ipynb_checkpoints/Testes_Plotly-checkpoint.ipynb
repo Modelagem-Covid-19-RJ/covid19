{
 "cells": [
  {
   "cell_type": "code",
   "execution_count": 142,
   "metadata": {},
   "outputs": [],
   "source": [
    "import pandas as pd\n",
    "import numpy as np\n",
    "import plotly.express as px\n",
    "import matplotlib.pyplot as plt\n",
    "import matplotlib.dates as mdates\n",
    "import datetime as dt\n",
    "from get_data import get_data, read_data\n",
    "from jia_cidades import F_Quarentena\n",
    "from jia import F, tot_deaths\n",
    "from jia import new_deaths as new_deaths_1_cidade\n",
    "from jia import new_diagn as new_diagn_1_cidade\n",
    "from scipy.integrate import solve_ivp\n",
    "import plotly.graph_objects as go\n",
    "from plotly.subplots import make_subplots"
   ]
  },
  {
   "cell_type": "code",
   "execution_count": 60,
   "metadata": {},
   "outputs": [],
   "source": [
    "df_conf = pd.read_csv('data_municipios/BIConfirmadosCOVID_RJ16abr.csv',encoding = 'ISO-8859-1', delimiter = ';' )"
   ]
  },
  {
   "cell_type": "code",
   "execution_count": 61,
   "metadata": {},
   "outputs": [],
   "source": [
    "df_conf = read_data(df_conf, 'confirmados')\n",
    "municipios = 'all'\n",
    "skip = False\n",
    "dt_start = '29-03-2020'\n",
    "dt_fim = '12-04-2020'\n",
    "header = ['Data', 'Municipio', 'Casos']"
   ]
  },
  {
   "cell_type": "code",
   "execution_count": 62,
   "metadata": {},
   "outputs": [],
   "source": [
    "    if municipios == 'all':\n",
    "        municipios = set(df_conf['Municipio'])\n",
    "    else:\n",
    "        if skip == True:\n",
    "            municipios = set(df_conf[df_conf['Municipio'].str.contains('|'.join(municipios))])\n",
    "        else:\n",
    "            municipios = set(df_conf[~df_conf['Municipio'].str.contains('|'.join(municipios))])\n",
    "\n",
    "    ## Configurando os dias\n",
    "    dt_start = dt.datetime.strptime(dt_start, '%d-%m-%Y')\n",
    "    dt_fim = dt.datetime.strptime(dt_fim, '%d-%m-%Y')\n",
    "    days = mdates.drange(dt_start, dt_fim, dt.timedelta(days = 1))\n",
    "    \n",
    "    dt_start = dt.datetime.strftime(dt_start, '%d-%m-%Y')\n",
    "    dt_fim = dt.datetime.strftime(dt_fim, '%d-%m-%Y')\n",
    "    dates = [dt.datetime.strftime(mdates.num2date(i), '%d-%m-%Y').replace('-','/') for i in days]\n",
    "\n",
    "    ## Extraindo os dados e organizando em listas para o Dicionario\n",
    "    casos = []\n",
    "    nome_m = []\n",
    "    data_m = []\n",
    "    for m in municipios:\n",
    "        lst = []\n",
    "        lst_m = [m]*len(dates)\n",
    "        lst_d = []\n",
    "        for d in dates:\n",
    "            df = df_conf[df_conf['Municipio'] == m]\n",
    "            lst.append(len(df[df['Data'] == d]))\n",
    "            lst_d.append(d)\n",
    "        nome_m.append(lst_m)\n",
    "        casos.append(lst)\n",
    "        data_m.append(lst_d)\n",
    "\n",
    "    ## Criando o Dicionario\n",
    "    lst = [[],[],[]]\n",
    "    for c, m, d in zip(casos, nome_m, data_m):\n",
    "        lst[0] += d\n",
    "        lst[1] += m\n",
    "        lst[2] += c\n",
    "\n",
    "    dic = {}\n",
    "    for i,h in enumerate(header):\n",
    "        dic.update({h: lst[i]})\n",
    "\n",
    "    ## Transformando o dicionario em DataFrame\n",
    "    df = pd.DataFrame(dic)"
   ]
  },
  {
   "cell_type": "code",
   "execution_count": 63,
   "metadata": {},
   "outputs": [
    {
     "data": {
      "application/vnd.plotly.v1+json": {
       "config": {
        "plotlyServerURL": "https://plot.ly"
       },
       "data": [
        {
         "hovertemplate": "Municipio=NOVA IGUACU<br>Data=%{x}<br>Casos=%{y}<extra></extra>",
         "legendgroup": "NOVA IGUACU",
         "line": {
          "color": "#636efa",
          "dash": "solid"
         },
         "mode": "lines",
         "name": "NOVA IGUACU",
         "showlegend": true,
         "type": "scatter",
         "x": [
          "29/03/2020",
          "30/03/2020",
          "31/03/2020",
          "01/04/2020",
          "02/04/2020",
          "03/04/2020",
          "04/04/2020",
          "05/04/2020",
          "06/04/2020",
          "07/04/2020",
          "08/04/2020",
          "09/04/2020",
          "10/04/2020",
          "11/04/2020"
         ],
         "xaxis": "x",
         "y": [
          2,
          9,
          11,
          8,
          10,
          8,
          3,
          6,
          21,
          17,
          8,
          18,
          3,
          0
         ],
         "yaxis": "y"
        },
        {
         "hovertemplate": "Municipio=NILOPOLIS<br>Data=%{x}<br>Casos=%{y}<extra></extra>",
         "legendgroup": "NILOPOLIS",
         "line": {
          "color": "#EF553B",
          "dash": "solid"
         },
         "mode": "lines",
         "name": "NILOPOLIS",
         "showlegend": true,
         "type": "scatter",
         "x": [
          "29/03/2020",
          "30/03/2020",
          "31/03/2020",
          "01/04/2020",
          "02/04/2020",
          "03/04/2020",
          "04/04/2020",
          "05/04/2020",
          "06/04/2020",
          "07/04/2020",
          "08/04/2020",
          "09/04/2020",
          "10/04/2020",
          "11/04/2020"
         ],
         "xaxis": "x",
         "y": [
          1,
          0,
          1,
          2,
          4,
          1,
          0,
          1,
          1,
          2,
          1,
          3,
          0,
          1
         ],
         "yaxis": "y"
        },
        {
         "hovertemplate": "Municipio=CARAPEBUS<br>Data=%{x}<br>Casos=%{y}<extra></extra>",
         "legendgroup": "CARAPEBUS",
         "line": {
          "color": "#00cc96",
          "dash": "solid"
         },
         "mode": "lines",
         "name": "CARAPEBUS",
         "showlegend": true,
         "type": "scatter",
         "x": [
          "29/03/2020",
          "30/03/2020",
          "31/03/2020",
          "01/04/2020",
          "02/04/2020",
          "03/04/2020",
          "04/04/2020",
          "05/04/2020",
          "06/04/2020",
          "07/04/2020",
          "08/04/2020",
          "09/04/2020",
          "10/04/2020",
          "11/04/2020"
         ],
         "xaxis": "x",
         "y": [
          0,
          0,
          0,
          0,
          0,
          0,
          0,
          0,
          0,
          0,
          0,
          0,
          1,
          0
         ],
         "yaxis": "y"
        },
        {
         "hovertemplate": "Municipio=PETROPOLIS<br>Data=%{x}<br>Casos=%{y}<extra></extra>",
         "legendgroup": "PETROPOLIS",
         "line": {
          "color": "#ab63fa",
          "dash": "solid"
         },
         "mode": "lines",
         "name": "PETROPOLIS",
         "showlegend": true,
         "type": "scatter",
         "x": [
          "29/03/2020",
          "30/03/2020",
          "31/03/2020",
          "01/04/2020",
          "02/04/2020",
          "03/04/2020",
          "04/04/2020",
          "05/04/2020",
          "06/04/2020",
          "07/04/2020",
          "08/04/2020",
          "09/04/2020",
          "10/04/2020",
          "11/04/2020"
         ],
         "xaxis": "x",
         "y": [
          1,
          4,
          1,
          1,
          4,
          0,
          0,
          0,
          6,
          1,
          2,
          5,
          6,
          0
         ],
         "yaxis": "y"
        },
        {
         "hovertemplate": "Municipio=MARICA<br>Data=%{x}<br>Casos=%{y}<extra></extra>",
         "legendgroup": "MARICA",
         "line": {
          "color": "#FFA15A",
          "dash": "solid"
         },
         "mode": "lines",
         "name": "MARICA",
         "showlegend": true,
         "type": "scatter",
         "x": [
          "29/03/2020",
          "30/03/2020",
          "31/03/2020",
          "01/04/2020",
          "02/04/2020",
          "03/04/2020",
          "04/04/2020",
          "05/04/2020",
          "06/04/2020",
          "07/04/2020",
          "08/04/2020",
          "09/04/2020",
          "10/04/2020",
          "11/04/2020"
         ],
         "xaxis": "x",
         "y": [
          1,
          2,
          3,
          1,
          3,
          3,
          0,
          0,
          5,
          3,
          4,
          3,
          0,
          2
         ],
         "yaxis": "y"
        },
        {
         "hovertemplate": "Municipio=BARRA MANSA<br>Data=%{x}<br>Casos=%{y}<extra></extra>",
         "legendgroup": "BARRA MANSA",
         "line": {
          "color": "#19d3f3",
          "dash": "solid"
         },
         "mode": "lines",
         "name": "BARRA MANSA",
         "showlegend": true,
         "type": "scatter",
         "x": [
          "29/03/2020",
          "30/03/2020",
          "31/03/2020",
          "01/04/2020",
          "02/04/2020",
          "03/04/2020",
          "04/04/2020",
          "05/04/2020",
          "06/04/2020",
          "07/04/2020",
          "08/04/2020",
          "09/04/2020",
          "10/04/2020",
          "11/04/2020"
         ],
         "xaxis": "x",
         "y": [
          0,
          4,
          0,
          0,
          2,
          0,
          0,
          0,
          1,
          2,
          1,
          0,
          0,
          0
         ],
         "yaxis": "y"
        },
        {
         "hovertemplate": "Municipio=ITABORAI<br>Data=%{x}<br>Casos=%{y}<extra></extra>",
         "legendgroup": "ITABORAI",
         "line": {
          "color": "#FF6692",
          "dash": "solid"
         },
         "mode": "lines",
         "name": "ITABORAI",
         "showlegend": true,
         "type": "scatter",
         "x": [
          "29/03/2020",
          "30/03/2020",
          "31/03/2020",
          "01/04/2020",
          "02/04/2020",
          "03/04/2020",
          "04/04/2020",
          "05/04/2020",
          "06/04/2020",
          "07/04/2020",
          "08/04/2020",
          "09/04/2020",
          "10/04/2020",
          "11/04/2020"
         ],
         "xaxis": "x",
         "y": [
          1,
          1,
          1,
          1,
          1,
          1,
          0,
          1,
          4,
          4,
          3,
          0,
          0,
          0
         ],
         "yaxis": "y"
        },
        {
         "hovertemplate": "Municipio=CASIMIRO DE ABREU<br>Data=%{x}<br>Casos=%{y}<extra></extra>",
         "legendgroup": "CASIMIRO DE ABREU",
         "line": {
          "color": "#B6E880",
          "dash": "solid"
         },
         "mode": "lines",
         "name": "CASIMIRO DE ABREU",
         "showlegend": true,
         "type": "scatter",
         "x": [
          "29/03/2020",
          "30/03/2020",
          "31/03/2020",
          "01/04/2020",
          "02/04/2020",
          "03/04/2020",
          "04/04/2020",
          "05/04/2020",
          "06/04/2020",
          "07/04/2020",
          "08/04/2020",
          "09/04/2020",
          "10/04/2020",
          "11/04/2020"
         ],
         "xaxis": "x",
         "y": [
          0,
          0,
          0,
          3,
          0,
          0,
          0,
          0,
          1,
          1,
          0,
          0,
          0,
          0
         ],
         "yaxis": "y"
        },
        {
         "hovertemplate": "Municipio=ITATIAIA<br>Data=%{x}<br>Casos=%{y}<extra></extra>",
         "legendgroup": "ITATIAIA",
         "line": {
          "color": "#FF97FF",
          "dash": "solid"
         },
         "mode": "lines",
         "name": "ITATIAIA",
         "showlegend": true,
         "type": "scatter",
         "x": [
          "29/03/2020",
          "30/03/2020",
          "31/03/2020",
          "01/04/2020",
          "02/04/2020",
          "03/04/2020",
          "04/04/2020",
          "05/04/2020",
          "06/04/2020",
          "07/04/2020",
          "08/04/2020",
          "09/04/2020",
          "10/04/2020",
          "11/04/2020"
         ],
         "xaxis": "x",
         "y": [
          0,
          0,
          0,
          0,
          0,
          0,
          0,
          0,
          0,
          0,
          1,
          0,
          0,
          0
         ],
         "yaxis": "y"
        },
        {
         "hovertemplate": "Municipio=TANGUA<br>Data=%{x}<br>Casos=%{y}<extra></extra>",
         "legendgroup": "TANGUA",
         "line": {
          "color": "#FECB52",
          "dash": "solid"
         },
         "mode": "lines",
         "name": "TANGUA",
         "showlegend": true,
         "type": "scatter",
         "x": [
          "29/03/2020",
          "30/03/2020",
          "31/03/2020",
          "01/04/2020",
          "02/04/2020",
          "03/04/2020",
          "04/04/2020",
          "05/04/2020",
          "06/04/2020",
          "07/04/2020",
          "08/04/2020",
          "09/04/2020",
          "10/04/2020",
          "11/04/2020"
         ],
         "xaxis": "x",
         "y": [
          0,
          0,
          0,
          0,
          0,
          0,
          0,
          0,
          0,
          3,
          0,
          1,
          0,
          0
         ],
         "yaxis": "y"
        },
        {
         "hovertemplate": "Municipio=SAO FIDELIS <br>Data=%{x}<br>Casos=%{y}<extra></extra>",
         "legendgroup": "SAO FIDELIS ",
         "line": {
          "color": "#636efa",
          "dash": "solid"
         },
         "mode": "lines",
         "name": "SAO FIDELIS ",
         "showlegend": true,
         "type": "scatter",
         "x": [
          "29/03/2020",
          "30/03/2020",
          "31/03/2020",
          "01/04/2020",
          "02/04/2020",
          "03/04/2020",
          "04/04/2020",
          "05/04/2020",
          "06/04/2020",
          "07/04/2020",
          "08/04/2020",
          "09/04/2020",
          "10/04/2020",
          "11/04/2020"
         ],
         "xaxis": "x",
         "y": [
          0,
          0,
          0,
          0,
          0,
          0,
          0,
          0,
          0,
          0,
          3,
          0,
          0,
          0
         ],
         "yaxis": "y"
        },
        {
         "hovertemplate": "Municipio=CANTAGALO<br>Data=%{x}<br>Casos=%{y}<extra></extra>",
         "legendgroup": "CANTAGALO",
         "line": {
          "color": "#EF553B",
          "dash": "solid"
         },
         "mode": "lines",
         "name": "CANTAGALO",
         "showlegend": true,
         "type": "scatter",
         "x": [
          "29/03/2020",
          "30/03/2020",
          "31/03/2020",
          "01/04/2020",
          "02/04/2020",
          "03/04/2020",
          "04/04/2020",
          "05/04/2020",
          "06/04/2020",
          "07/04/2020",
          "08/04/2020",
          "09/04/2020",
          "10/04/2020",
          "11/04/2020"
         ],
         "xaxis": "x",
         "y": [
          0,
          0,
          0,
          1,
          0,
          0,
          0,
          0,
          0,
          0,
          0,
          0,
          0,
          0
         ],
         "yaxis": "y"
        },
        {
         "hovertemplate": "Municipio=SAO FRANCISCO DE ITABAPOANA<br>Data=%{x}<br>Casos=%{y}<extra></extra>",
         "legendgroup": "SAO FRANCISCO DE ITABAPOANA",
         "line": {
          "color": "#00cc96",
          "dash": "solid"
         },
         "mode": "lines",
         "name": "SAO FRANCISCO DE ITABAPOANA",
         "showlegend": true,
         "type": "scatter",
         "x": [
          "29/03/2020",
          "30/03/2020",
          "31/03/2020",
          "01/04/2020",
          "02/04/2020",
          "03/04/2020",
          "04/04/2020",
          "05/04/2020",
          "06/04/2020",
          "07/04/2020",
          "08/04/2020",
          "09/04/2020",
          "10/04/2020",
          "11/04/2020"
         ],
         "xaxis": "x",
         "y": [
          0,
          0,
          0,
          0,
          1,
          0,
          0,
          0,
          0,
          0,
          0,
          0,
          0,
          0
         ],
         "yaxis": "y"
        },
        {
         "hovertemplate": "Municipio=ARARUAMA<br>Data=%{x}<br>Casos=%{y}<extra></extra>",
         "legendgroup": "ARARUAMA",
         "line": {
          "color": "#ab63fa",
          "dash": "solid"
         },
         "mode": "lines",
         "name": "ARARUAMA",
         "showlegend": true,
         "type": "scatter",
         "x": [
          "29/03/2020",
          "30/03/2020",
          "31/03/2020",
          "01/04/2020",
          "02/04/2020",
          "03/04/2020",
          "04/04/2020",
          "05/04/2020",
          "06/04/2020",
          "07/04/2020",
          "08/04/2020",
          "09/04/2020",
          "10/04/2020",
          "11/04/2020"
         ],
         "xaxis": "x",
         "y": [
          0,
          0,
          0,
          0,
          0,
          0,
          0,
          0,
          3,
          0,
          0,
          4,
          0,
          0
         ],
         "yaxis": "y"
        },
        {
         "hovertemplate": "Municipio=MANGARATIBA<br>Data=%{x}<br>Casos=%{y}<extra></extra>",
         "legendgroup": "MANGARATIBA",
         "line": {
          "color": "#FFA15A",
          "dash": "solid"
         },
         "mode": "lines",
         "name": "MANGARATIBA",
         "showlegend": true,
         "type": "scatter",
         "x": [
          "29/03/2020",
          "30/03/2020",
          "31/03/2020",
          "01/04/2020",
          "02/04/2020",
          "03/04/2020",
          "04/04/2020",
          "05/04/2020",
          "06/04/2020",
          "07/04/2020",
          "08/04/2020",
          "09/04/2020",
          "10/04/2020",
          "11/04/2020"
         ],
         "xaxis": "x",
         "y": [
          0,
          0,
          1,
          0,
          0,
          0,
          0,
          1,
          0,
          0,
          1,
          0,
          0,
          0
         ],
         "yaxis": "y"
        },
        {
         "hovertemplate": "Municipio=BOM JARDIM<br>Data=%{x}<br>Casos=%{y}<extra></extra>",
         "legendgroup": "BOM JARDIM",
         "line": {
          "color": "#19d3f3",
          "dash": "solid"
         },
         "mode": "lines",
         "name": "BOM JARDIM",
         "showlegend": true,
         "type": "scatter",
         "x": [
          "29/03/2020",
          "30/03/2020",
          "31/03/2020",
          "01/04/2020",
          "02/04/2020",
          "03/04/2020",
          "04/04/2020",
          "05/04/2020",
          "06/04/2020",
          "07/04/2020",
          "08/04/2020",
          "09/04/2020",
          "10/04/2020",
          "11/04/2020"
         ],
         "xaxis": "x",
         "y": [
          0,
          1,
          0,
          0,
          0,
          1,
          0,
          0,
          0,
          0,
          0,
          0,
          0,
          0
         ],
         "yaxis": "y"
        },
        {
         "hovertemplate": "Municipio=IGUABA GRANDE<br>Data=%{x}<br>Casos=%{y}<extra></extra>",
         "legendgroup": "IGUABA GRANDE",
         "line": {
          "color": "#FF6692",
          "dash": "solid"
         },
         "mode": "lines",
         "name": "IGUABA GRANDE",
         "showlegend": true,
         "type": "scatter",
         "x": [
          "29/03/2020",
          "30/03/2020",
          "31/03/2020",
          "01/04/2020",
          "02/04/2020",
          "03/04/2020",
          "04/04/2020",
          "05/04/2020",
          "06/04/2020",
          "07/04/2020",
          "08/04/2020",
          "09/04/2020",
          "10/04/2020",
          "11/04/2020"
         ],
         "xaxis": "x",
         "y": [
          0,
          0,
          1,
          0,
          0,
          1,
          0,
          0,
          1,
          0,
          0,
          0,
          0,
          0
         ],
         "yaxis": "y"
        },
        {
         "hovertemplate": "Municipio=QUEIMADOS<br>Data=%{x}<br>Casos=%{y}<extra></extra>",
         "legendgroup": "QUEIMADOS",
         "line": {
          "color": "#B6E880",
          "dash": "solid"
         },
         "mode": "lines",
         "name": "QUEIMADOS",
         "showlegend": true,
         "type": "scatter",
         "x": [
          "29/03/2020",
          "30/03/2020",
          "31/03/2020",
          "01/04/2020",
          "02/04/2020",
          "03/04/2020",
          "04/04/2020",
          "05/04/2020",
          "06/04/2020",
          "07/04/2020",
          "08/04/2020",
          "09/04/2020",
          "10/04/2020",
          "11/04/2020"
         ],
         "xaxis": "x",
         "y": [
          0,
          2,
          2,
          0,
          0,
          0,
          1,
          1,
          3,
          1,
          1,
          0,
          1,
          0
         ],
         "yaxis": "y"
        },
        {
         "hovertemplate": "Municipio=PORTO REAL<br>Data=%{x}<br>Casos=%{y}<extra></extra>",
         "legendgroup": "PORTO REAL",
         "line": {
          "color": "#FF97FF",
          "dash": "solid"
         },
         "mode": "lines",
         "name": "PORTO REAL",
         "showlegend": true,
         "type": "scatter",
         "x": [
          "29/03/2020",
          "30/03/2020",
          "31/03/2020",
          "01/04/2020",
          "02/04/2020",
          "03/04/2020",
          "04/04/2020",
          "05/04/2020",
          "06/04/2020",
          "07/04/2020",
          "08/04/2020",
          "09/04/2020",
          "10/04/2020",
          "11/04/2020"
         ],
         "xaxis": "x",
         "y": [
          0,
          0,
          0,
          0,
          0,
          0,
          0,
          0,
          0,
          1,
          0,
          0,
          0,
          0
         ],
         "yaxis": "y"
        },
        {
         "hovertemplate": "Municipio=RIO DAS FLORES<br>Data=%{x}<br>Casos=%{y}<extra></extra>",
         "legendgroup": "RIO DAS FLORES",
         "line": {
          "color": "#FECB52",
          "dash": "solid"
         },
         "mode": "lines",
         "name": "RIO DAS FLORES",
         "showlegend": true,
         "type": "scatter",
         "x": [
          "29/03/2020",
          "30/03/2020",
          "31/03/2020",
          "01/04/2020",
          "02/04/2020",
          "03/04/2020",
          "04/04/2020",
          "05/04/2020",
          "06/04/2020",
          "07/04/2020",
          "08/04/2020",
          "09/04/2020",
          "10/04/2020",
          "11/04/2020"
         ],
         "xaxis": "x",
         "y": [
          0,
          0,
          0,
          1,
          0,
          0,
          0,
          0,
          0,
          0,
          0,
          0,
          0,
          0
         ],
         "yaxis": "y"
        },
        {
         "hovertemplate": "Municipio=AREAL<br>Data=%{x}<br>Casos=%{y}<extra></extra>",
         "legendgroup": "AREAL",
         "line": {
          "color": "#636efa",
          "dash": "solid"
         },
         "mode": "lines",
         "name": "AREAL",
         "showlegend": true,
         "type": "scatter",
         "x": [
          "29/03/2020",
          "30/03/2020",
          "31/03/2020",
          "01/04/2020",
          "02/04/2020",
          "03/04/2020",
          "04/04/2020",
          "05/04/2020",
          "06/04/2020",
          "07/04/2020",
          "08/04/2020",
          "09/04/2020",
          "10/04/2020",
          "11/04/2020"
         ],
         "xaxis": "x",
         "y": [
          0,
          0,
          0,
          0,
          0,
          0,
          0,
          0,
          0,
          0,
          0,
          0,
          1,
          0
         ],
         "yaxis": "y"
        },
        {
         "hovertemplate": "Municipio=MIGUEL PEREIRA<br>Data=%{x}<br>Casos=%{y}<extra></extra>",
         "legendgroup": "MIGUEL PEREIRA",
         "line": {
          "color": "#EF553B",
          "dash": "solid"
         },
         "mode": "lines",
         "name": "MIGUEL PEREIRA",
         "showlegend": true,
         "type": "scatter",
         "x": [
          "29/03/2020",
          "30/03/2020",
          "31/03/2020",
          "01/04/2020",
          "02/04/2020",
          "03/04/2020",
          "04/04/2020",
          "05/04/2020",
          "06/04/2020",
          "07/04/2020",
          "08/04/2020",
          "09/04/2020",
          "10/04/2020",
          "11/04/2020"
         ],
         "xaxis": "x",
         "y": [
          0,
          0,
          0,
          0,
          0,
          0,
          0,
          0,
          1,
          0,
          0,
          0,
          0,
          1
         ],
         "yaxis": "y"
        },
        {
         "hovertemplate": "Municipio=SAO PEDRO DA ALDEIA<br>Data=%{x}<br>Casos=%{y}<extra></extra>",
         "legendgroup": "SAO PEDRO DA ALDEIA",
         "line": {
          "color": "#00cc96",
          "dash": "solid"
         },
         "mode": "lines",
         "name": "SAO PEDRO DA ALDEIA",
         "showlegend": true,
         "type": "scatter",
         "x": [
          "29/03/2020",
          "30/03/2020",
          "31/03/2020",
          "01/04/2020",
          "02/04/2020",
          "03/04/2020",
          "04/04/2020",
          "05/04/2020",
          "06/04/2020",
          "07/04/2020",
          "08/04/2020",
          "09/04/2020",
          "10/04/2020",
          "11/04/2020"
         ],
         "xaxis": "x",
         "y": [
          0,
          1,
          0,
          0,
          0,
          0,
          0,
          0,
          1,
          1,
          2,
          0,
          1,
          0
         ],
         "yaxis": "y"
        },
        {
         "hovertemplate": "Municipio=VALENCA<br>Data=%{x}<br>Casos=%{y}<extra></extra>",
         "legendgroup": "VALENCA",
         "line": {
          "color": "#ab63fa",
          "dash": "solid"
         },
         "mode": "lines",
         "name": "VALENCA",
         "showlegend": true,
         "type": "scatter",
         "x": [
          "29/03/2020",
          "30/03/2020",
          "31/03/2020",
          "01/04/2020",
          "02/04/2020",
          "03/04/2020",
          "04/04/2020",
          "05/04/2020",
          "06/04/2020",
          "07/04/2020",
          "08/04/2020",
          "09/04/2020",
          "10/04/2020",
          "11/04/2020"
         ],
         "xaxis": "x",
         "y": [
          1,
          0,
          0,
          0,
          0,
          0,
          0,
          0,
          0,
          0,
          0,
          0,
          0,
          0
         ],
         "yaxis": "y"
        },
        {
         "hovertemplate": "Municipio=JAPERI<br>Data=%{x}<br>Casos=%{y}<extra></extra>",
         "legendgroup": "JAPERI",
         "line": {
          "color": "#FFA15A",
          "dash": "solid"
         },
         "mode": "lines",
         "name": "JAPERI",
         "showlegend": true,
         "type": "scatter",
         "x": [
          "29/03/2020",
          "30/03/2020",
          "31/03/2020",
          "01/04/2020",
          "02/04/2020",
          "03/04/2020",
          "04/04/2020",
          "05/04/2020",
          "06/04/2020",
          "07/04/2020",
          "08/04/2020",
          "09/04/2020",
          "10/04/2020",
          "11/04/2020"
         ],
         "xaxis": "x",
         "y": [
          0,
          0,
          0,
          0,
          2,
          1,
          0,
          0,
          1,
          0,
          0,
          0,
          0,
          0
         ],
         "yaxis": "y"
        },
        {
         "hovertemplate": "Municipio=RIO DAS OSTRAS<br>Data=%{x}<br>Casos=%{y}<extra></extra>",
         "legendgroup": "RIO DAS OSTRAS",
         "line": {
          "color": "#19d3f3",
          "dash": "solid"
         },
         "mode": "lines",
         "name": "RIO DAS OSTRAS",
         "showlegend": true,
         "type": "scatter",
         "x": [
          "29/03/2020",
          "30/03/2020",
          "31/03/2020",
          "01/04/2020",
          "02/04/2020",
          "03/04/2020",
          "04/04/2020",
          "05/04/2020",
          "06/04/2020",
          "07/04/2020",
          "08/04/2020",
          "09/04/2020",
          "10/04/2020",
          "11/04/2020"
         ],
         "xaxis": "x",
         "y": [
          1,
          0,
          0,
          0,
          0,
          0,
          0,
          1,
          2,
          0,
          0,
          1,
          0,
          0
         ],
         "yaxis": "y"
        },
        {
         "hovertemplate": "Municipio=PORCIUNCULA<br>Data=%{x}<br>Casos=%{y}<extra></extra>",
         "legendgroup": "PORCIUNCULA",
         "line": {
          "color": "#FF6692",
          "dash": "solid"
         },
         "mode": "lines",
         "name": "PORCIUNCULA",
         "showlegend": true,
         "type": "scatter",
         "x": [
          "29/03/2020",
          "30/03/2020",
          "31/03/2020",
          "01/04/2020",
          "02/04/2020",
          "03/04/2020",
          "04/04/2020",
          "05/04/2020",
          "06/04/2020",
          "07/04/2020",
          "08/04/2020",
          "09/04/2020",
          "10/04/2020",
          "11/04/2020"
         ],
         "xaxis": "x",
         "y": [
          0,
          1,
          0,
          0,
          0,
          0,
          0,
          0,
          0,
          0,
          0,
          0,
          0,
          0
         ],
         "yaxis": "y"
        },
        {
         "hovertemplate": "Municipio=BELFORD ROXO<br>Data=%{x}<br>Casos=%{y}<extra></extra>",
         "legendgroup": "BELFORD ROXO",
         "line": {
          "color": "#B6E880",
          "dash": "solid"
         },
         "mode": "lines",
         "name": "BELFORD ROXO",
         "showlegend": true,
         "type": "scatter",
         "x": [
          "29/03/2020",
          "30/03/2020",
          "31/03/2020",
          "01/04/2020",
          "02/04/2020",
          "03/04/2020",
          "04/04/2020",
          "05/04/2020",
          "06/04/2020",
          "07/04/2020",
          "08/04/2020",
          "09/04/2020",
          "10/04/2020",
          "11/04/2020"
         ],
         "xaxis": "x",
         "y": [
          1,
          3,
          1,
          3,
          6,
          5,
          2,
          3,
          6,
          6,
          5,
          1,
          0,
          0
         ],
         "yaxis": "y"
        },
        {
         "hovertemplate": "Municipio=ITAGUAI<br>Data=%{x}<br>Casos=%{y}<extra></extra>",
         "legendgroup": "ITAGUAI",
         "line": {
          "color": "#FF97FF",
          "dash": "solid"
         },
         "mode": "lines",
         "name": "ITAGUAI",
         "showlegend": true,
         "type": "scatter",
         "x": [
          "29/03/2020",
          "30/03/2020",
          "31/03/2020",
          "01/04/2020",
          "02/04/2020",
          "03/04/2020",
          "04/04/2020",
          "05/04/2020",
          "06/04/2020",
          "07/04/2020",
          "08/04/2020",
          "09/04/2020",
          "10/04/2020",
          "11/04/2020"
         ],
         "xaxis": "x",
         "y": [
          1,
          2,
          0,
          0,
          0,
          0,
          0,
          0,
          0,
          0,
          0,
          1,
          0,
          0
         ],
         "yaxis": "y"
        },
        {
         "hovertemplate": "Municipio=PATY DO ALFERES <br>Data=%{x}<br>Casos=%{y}<extra></extra>",
         "legendgroup": "PATY DO ALFERES ",
         "line": {
          "color": "#FECB52",
          "dash": "solid"
         },
         "mode": "lines",
         "name": "PATY DO ALFERES ",
         "showlegend": true,
         "type": "scatter",
         "x": [
          "29/03/2020",
          "30/03/2020",
          "31/03/2020",
          "01/04/2020",
          "02/04/2020",
          "03/04/2020",
          "04/04/2020",
          "05/04/2020",
          "06/04/2020",
          "07/04/2020",
          "08/04/2020",
          "09/04/2020",
          "10/04/2020",
          "11/04/2020"
         ],
         "xaxis": "x",
         "y": [
          0,
          0,
          1,
          0,
          0,
          0,
          0,
          0,
          0,
          0,
          0,
          0,
          0,
          0
         ],
         "yaxis": "y"
        },
        {
         "hovertemplate": "Municipio=TRES RIOS <br>Data=%{x}<br>Casos=%{y}<extra></extra>",
         "legendgroup": "TRES RIOS ",
         "line": {
          "color": "#636efa",
          "dash": "solid"
         },
         "mode": "lines",
         "name": "TRES RIOS ",
         "showlegend": true,
         "type": "scatter",
         "x": [
          "29/03/2020",
          "30/03/2020",
          "31/03/2020",
          "01/04/2020",
          "02/04/2020",
          "03/04/2020",
          "04/04/2020",
          "05/04/2020",
          "06/04/2020",
          "07/04/2020",
          "08/04/2020",
          "09/04/2020",
          "10/04/2020",
          "11/04/2020"
         ],
         "xaxis": "x",
         "y": [
          0,
          0,
          0,
          0,
          0,
          0,
          0,
          0,
          0,
          0,
          0,
          0,
          0,
          0
         ],
         "yaxis": "y"
        },
        {
         "hovertemplate": "Municipio=PARACAMBI <br>Data=%{x}<br>Casos=%{y}<extra></extra>",
         "legendgroup": "PARACAMBI ",
         "line": {
          "color": "#EF553B",
          "dash": "solid"
         },
         "mode": "lines",
         "name": "PARACAMBI ",
         "showlegend": true,
         "type": "scatter",
         "x": [
          "29/03/2020",
          "30/03/2020",
          "31/03/2020",
          "01/04/2020",
          "02/04/2020",
          "03/04/2020",
          "04/04/2020",
          "05/04/2020",
          "06/04/2020",
          "07/04/2020",
          "08/04/2020",
          "09/04/2020",
          "10/04/2020",
          "11/04/2020"
         ],
         "xaxis": "x",
         "y": [
          0,
          0,
          0,
          0,
          0,
          0,
          0,
          0,
          0,
          1,
          0,
          0,
          2,
          0
         ],
         "yaxis": "y"
        },
        {
         "hovertemplate": "Municipio=GUAPIMIRIM<br>Data=%{x}<br>Casos=%{y}<extra></extra>",
         "legendgroup": "GUAPIMIRIM",
         "line": {
          "color": "#00cc96",
          "dash": "solid"
         },
         "mode": "lines",
         "name": "GUAPIMIRIM",
         "showlegend": true,
         "type": "scatter",
         "x": [
          "29/03/2020",
          "30/03/2020",
          "31/03/2020",
          "01/04/2020",
          "02/04/2020",
          "03/04/2020",
          "04/04/2020",
          "05/04/2020",
          "06/04/2020",
          "07/04/2020",
          "08/04/2020",
          "09/04/2020",
          "10/04/2020",
          "11/04/2020"
         ],
         "xaxis": "x",
         "y": [
          0,
          0,
          1,
          0,
          0,
          0,
          0,
          0,
          0,
          0,
          0,
          0,
          0,
          0
         ],
         "yaxis": "y"
        },
        {
         "hovertemplate": "Municipio=VOLTA REDONDA <br>Data=%{x}<br>Casos=%{y}<extra></extra>",
         "legendgroup": "VOLTA REDONDA ",
         "line": {
          "color": "#ab63fa",
          "dash": "solid"
         },
         "mode": "lines",
         "name": "VOLTA REDONDA ",
         "showlegend": true,
         "type": "scatter",
         "x": [
          "29/03/2020",
          "30/03/2020",
          "31/03/2020",
          "01/04/2020",
          "02/04/2020",
          "03/04/2020",
          "04/04/2020",
          "05/04/2020",
          "06/04/2020",
          "07/04/2020",
          "08/04/2020",
          "09/04/2020",
          "10/04/2020",
          "11/04/2020"
         ],
         "xaxis": "x",
         "y": [
          4,
          2,
          5,
          5,
          4,
          10,
          2,
          0,
          5,
          11,
          5,
          0,
          1,
          1
         ],
         "yaxis": "y"
        },
        {
         "hovertemplate": "Municipio=PARATY<br>Data=%{x}<br>Casos=%{y}<extra></extra>",
         "legendgroup": "PARATY",
         "line": {
          "color": "#FFA15A",
          "dash": "solid"
         },
         "mode": "lines",
         "name": "PARATY",
         "showlegend": true,
         "type": "scatter",
         "x": [
          "29/03/2020",
          "30/03/2020",
          "31/03/2020",
          "01/04/2020",
          "02/04/2020",
          "03/04/2020",
          "04/04/2020",
          "05/04/2020",
          "06/04/2020",
          "07/04/2020",
          "08/04/2020",
          "09/04/2020",
          "10/04/2020",
          "11/04/2020"
         ],
         "xaxis": "x",
         "y": [
          0,
          0,
          0,
          0,
          0,
          1,
          0,
          0,
          0,
          0,
          0,
          1,
          1,
          0
         ],
         "yaxis": "y"
        },
        {
         "hovertemplate": "Municipio=MAGE<br>Data=%{x}<br>Casos=%{y}<extra></extra>",
         "legendgroup": "MAGE",
         "line": {
          "color": "#19d3f3",
          "dash": "solid"
         },
         "mode": "lines",
         "name": "MAGE",
         "showlegend": true,
         "type": "scatter",
         "x": [
          "29/03/2020",
          "30/03/2020",
          "31/03/2020",
          "01/04/2020",
          "02/04/2020",
          "03/04/2020",
          "04/04/2020",
          "05/04/2020",
          "06/04/2020",
          "07/04/2020",
          "08/04/2020",
          "09/04/2020",
          "10/04/2020",
          "11/04/2020"
         ],
         "xaxis": "x",
         "y": [
          1,
          2,
          2,
          1,
          1,
          3,
          0,
          0,
          3,
          6,
          3,
          3,
          0,
          1
         ],
         "yaxis": "y"
        },
        {
         "hovertemplate": "Municipio=PARAIBA DO SUL<br>Data=%{x}<br>Casos=%{y}<extra></extra>",
         "legendgroup": "PARAIBA DO SUL",
         "line": {
          "color": "#FF6692",
          "dash": "solid"
         },
         "mode": "lines",
         "name": "PARAIBA DO SUL",
         "showlegend": true,
         "type": "scatter",
         "x": [
          "29/03/2020",
          "30/03/2020",
          "31/03/2020",
          "01/04/2020",
          "02/04/2020",
          "03/04/2020",
          "04/04/2020",
          "05/04/2020",
          "06/04/2020",
          "07/04/2020",
          "08/04/2020",
          "09/04/2020",
          "10/04/2020",
          "11/04/2020"
         ],
         "xaxis": "x",
         "y": [
          0,
          1,
          0,
          0,
          0,
          0,
          0,
          0,
          0,
          0,
          0,
          0,
          0,
          0
         ],
         "yaxis": "y"
        },
        {
         "hovertemplate": "Municipio=TANGUA <br>Data=%{x}<br>Casos=%{y}<extra></extra>",
         "legendgroup": "TANGUA ",
         "line": {
          "color": "#B6E880",
          "dash": "solid"
         },
         "mode": "lines",
         "name": "TANGUA ",
         "showlegend": true,
         "type": "scatter",
         "x": [
          "29/03/2020",
          "30/03/2020",
          "31/03/2020",
          "01/04/2020",
          "02/04/2020",
          "03/04/2020",
          "04/04/2020",
          "05/04/2020",
          "06/04/2020",
          "07/04/2020",
          "08/04/2020",
          "09/04/2020",
          "10/04/2020",
          "11/04/2020"
         ],
         "xaxis": "x",
         "y": [
          0,
          0,
          0,
          1,
          0,
          0,
          0,
          0,
          0,
          0,
          0,
          0,
          0,
          0
         ],
         "yaxis": "y"
        },
        {
         "hovertemplate": "Municipio=NITEROI<br>Data=%{x}<br>Casos=%{y}<extra></extra>",
         "legendgroup": "NITEROI",
         "line": {
          "color": "#FF97FF",
          "dash": "solid"
         },
         "mode": "lines",
         "name": "NITEROI",
         "showlegend": true,
         "type": "scatter",
         "x": [
          "29/03/2020",
          "30/03/2020",
          "31/03/2020",
          "01/04/2020",
          "02/04/2020",
          "03/04/2020",
          "04/04/2020",
          "05/04/2020",
          "06/04/2020",
          "07/04/2020",
          "08/04/2020",
          "09/04/2020",
          "10/04/2020",
          "11/04/2020"
         ],
         "xaxis": "x",
         "y": [
          3,
          8,
          7,
          2,
          2,
          5,
          1,
          0,
          7,
          3,
          0,
          11,
          0,
          3
         ],
         "yaxis": "y"
        },
        {
         "hovertemplate": "Municipio=BOM JESUS DO ITABAPOANA<br>Data=%{x}<br>Casos=%{y}<extra></extra>",
         "legendgroup": "BOM JESUS DO ITABAPOANA",
         "line": {
          "color": "#FECB52",
          "dash": "solid"
         },
         "mode": "lines",
         "name": "BOM JESUS DO ITABAPOANA",
         "showlegend": true,
         "type": "scatter",
         "x": [
          "29/03/2020",
          "30/03/2020",
          "31/03/2020",
          "01/04/2020",
          "02/04/2020",
          "03/04/2020",
          "04/04/2020",
          "05/04/2020",
          "06/04/2020",
          "07/04/2020",
          "08/04/2020",
          "09/04/2020",
          "10/04/2020",
          "11/04/2020"
         ],
         "xaxis": "x",
         "y": [
          0,
          1,
          0,
          0,
          0,
          0,
          0,
          0,
          2,
          0,
          1,
          0,
          1,
          0
         ],
         "yaxis": "y"
        },
        {
         "hovertemplate": "Municipio=QUISSAMA<br>Data=%{x}<br>Casos=%{y}<extra></extra>",
         "legendgroup": "QUISSAMA",
         "line": {
          "color": "#636efa",
          "dash": "solid"
         },
         "mode": "lines",
         "name": "QUISSAMA",
         "showlegend": true,
         "type": "scatter",
         "x": [
          "29/03/2020",
          "30/03/2020",
          "31/03/2020",
          "01/04/2020",
          "02/04/2020",
          "03/04/2020",
          "04/04/2020",
          "05/04/2020",
          "06/04/2020",
          "07/04/2020",
          "08/04/2020",
          "09/04/2020",
          "10/04/2020",
          "11/04/2020"
         ],
         "xaxis": "x",
         "y": [
          0,
          0,
          0,
          0,
          0,
          0,
          0,
          0,
          0,
          0,
          0,
          0,
          0,
          0
         ],
         "yaxis": "y"
        },
        {
         "hovertemplate": "Municipio=SAO JOAO DE MERITI<br>Data=%{x}<br>Casos=%{y}<extra></extra>",
         "legendgroup": "SAO JOAO DE MERITI",
         "line": {
          "color": "#EF553B",
          "dash": "solid"
         },
         "mode": "lines",
         "name": "SAO JOAO DE MERITI",
         "showlegend": true,
         "type": "scatter",
         "x": [
          "29/03/2020",
          "30/03/2020",
          "31/03/2020",
          "01/04/2020",
          "02/04/2020",
          "03/04/2020",
          "04/04/2020",
          "05/04/2020",
          "06/04/2020",
          "07/04/2020",
          "08/04/2020",
          "09/04/2020",
          "10/04/2020",
          "11/04/2020"
         ],
         "xaxis": "x",
         "y": [
          0,
          2,
          3,
          3,
          6,
          9,
          1,
          2,
          6,
          10,
          10,
          7,
          2,
          1
         ],
         "yaxis": "y"
        },
        {
         "hovertemplate": "Municipio=MACAE<br>Data=%{x}<br>Casos=%{y}<extra></extra>",
         "legendgroup": "MACAE",
         "line": {
          "color": "#00cc96",
          "dash": "solid"
         },
         "mode": "lines",
         "name": "MACAE",
         "showlegend": true,
         "type": "scatter",
         "x": [
          "29/03/2020",
          "30/03/2020",
          "31/03/2020",
          "01/04/2020",
          "02/04/2020",
          "03/04/2020",
          "04/04/2020",
          "05/04/2020",
          "06/04/2020",
          "07/04/2020",
          "08/04/2020",
          "09/04/2020",
          "10/04/2020",
          "11/04/2020"
         ],
         "xaxis": "x",
         "y": [
          1,
          0,
          0,
          0,
          0,
          0,
          0,
          0,
          0,
          0,
          0,
          1,
          0,
          0
         ],
         "yaxis": "y"
        },
        {
         "hovertemplate": "Municipio=PIRAI<br>Data=%{x}<br>Casos=%{y}<extra></extra>",
         "legendgroup": "PIRAI",
         "line": {
          "color": "#ab63fa",
          "dash": "solid"
         },
         "mode": "lines",
         "name": "PIRAI",
         "showlegend": true,
         "type": "scatter",
         "x": [
          "29/03/2020",
          "30/03/2020",
          "31/03/2020",
          "01/04/2020",
          "02/04/2020",
          "03/04/2020",
          "04/04/2020",
          "05/04/2020",
          "06/04/2020",
          "07/04/2020",
          "08/04/2020",
          "09/04/2020",
          "10/04/2020",
          "11/04/2020"
         ],
         "xaxis": "x",
         "y": [
          0,
          0,
          0,
          0,
          1,
          1,
          0,
          0,
          0,
          0,
          0,
          0,
          0,
          0
         ],
         "yaxis": "y"
        },
        {
         "hovertemplate": "Municipio=RESENDE<br>Data=%{x}<br>Casos=%{y}<extra></extra>",
         "legendgroup": "RESENDE",
         "line": {
          "color": "#FFA15A",
          "dash": "solid"
         },
         "mode": "lines",
         "name": "RESENDE",
         "showlegend": true,
         "type": "scatter",
         "x": [
          "29/03/2020",
          "30/03/2020",
          "31/03/2020",
          "01/04/2020",
          "02/04/2020",
          "03/04/2020",
          "04/04/2020",
          "05/04/2020",
          "06/04/2020",
          "07/04/2020",
          "08/04/2020",
          "09/04/2020",
          "10/04/2020",
          "11/04/2020"
         ],
         "xaxis": "x",
         "y": [
          0,
          1,
          1,
          0,
          0,
          0,
          0,
          2,
          0,
          0,
          0,
          0,
          0,
          0
         ],
         "yaxis": "y"
        },
        {
         "hovertemplate": "Municipio=SAPUCAIA<br>Data=%{x}<br>Casos=%{y}<extra></extra>",
         "legendgroup": "SAPUCAIA",
         "line": {
          "color": "#19d3f3",
          "dash": "solid"
         },
         "mode": "lines",
         "name": "SAPUCAIA",
         "showlegend": true,
         "type": "scatter",
         "x": [
          "29/03/2020",
          "30/03/2020",
          "31/03/2020",
          "01/04/2020",
          "02/04/2020",
          "03/04/2020",
          "04/04/2020",
          "05/04/2020",
          "06/04/2020",
          "07/04/2020",
          "08/04/2020",
          "09/04/2020",
          "10/04/2020",
          "11/04/2020"
         ],
         "xaxis": "x",
         "y": [
          1,
          0,
          0,
          0,
          0,
          0,
          0,
          0,
          0,
          0,
          0,
          0,
          1,
          0
         ],
         "yaxis": "y"
        },
        {
         "hovertemplate": "Municipio=ANGRA DOS REIS<br>Data=%{x}<br>Casos=%{y}<extra></extra>",
         "legendgroup": "ANGRA DOS REIS",
         "line": {
          "color": "#FF6692",
          "dash": "solid"
         },
         "mode": "lines",
         "name": "ANGRA DOS REIS",
         "showlegend": true,
         "type": "scatter",
         "x": [
          "29/03/2020",
          "30/03/2020",
          "31/03/2020",
          "01/04/2020",
          "02/04/2020",
          "03/04/2020",
          "04/04/2020",
          "05/04/2020",
          "06/04/2020",
          "07/04/2020",
          "08/04/2020",
          "09/04/2020",
          "10/04/2020",
          "11/04/2020"
         ],
         "xaxis": "x",
         "y": [
          0,
          0,
          1,
          0,
          0,
          1,
          0,
          0,
          3,
          0,
          0,
          1,
          0,
          0
         ],
         "yaxis": "y"
        },
        {
         "hovertemplate": "Municipio=SUMIDOURO<br>Data=%{x}<br>Casos=%{y}<extra></extra>",
         "legendgroup": "SUMIDOURO",
         "line": {
          "color": "#B6E880",
          "dash": "solid"
         },
         "mode": "lines",
         "name": "SUMIDOURO",
         "showlegend": true,
         "type": "scatter",
         "x": [
          "29/03/2020",
          "30/03/2020",
          "31/03/2020",
          "01/04/2020",
          "02/04/2020",
          "03/04/2020",
          "04/04/2020",
          "05/04/2020",
          "06/04/2020",
          "07/04/2020",
          "08/04/2020",
          "09/04/2020",
          "10/04/2020",
          "11/04/2020"
         ],
         "xaxis": "x",
         "y": [
          0,
          0,
          0,
          0,
          0,
          1,
          0,
          0,
          0,
          0,
          0,
          0,
          0,
          0
         ],
         "yaxis": "y"
        },
        {
         "hovertemplate": "Municipio=ARRAIAL DO CABO<br>Data=%{x}<br>Casos=%{y}<extra></extra>",
         "legendgroup": "ARRAIAL DO CABO",
         "line": {
          "color": "#FF97FF",
          "dash": "solid"
         },
         "mode": "lines",
         "name": "ARRAIAL DO CABO",
         "showlegend": true,
         "type": "scatter",
         "x": [
          "29/03/2020",
          "30/03/2020",
          "31/03/2020",
          "01/04/2020",
          "02/04/2020",
          "03/04/2020",
          "04/04/2020",
          "05/04/2020",
          "06/04/2020",
          "07/04/2020",
          "08/04/2020",
          "09/04/2020",
          "10/04/2020",
          "11/04/2020"
         ],
         "xaxis": "x",
         "y": [
          0,
          0,
          0,
          0,
          0,
          0,
          1,
          0,
          0,
          0,
          1,
          0,
          0,
          0
         ],
         "yaxis": "y"
        },
        {
         "hovertemplate": "Municipio=MESQUITA<br>Data=%{x}<br>Casos=%{y}<extra></extra>",
         "legendgroup": "MESQUITA",
         "line": {
          "color": "#FECB52",
          "dash": "solid"
         },
         "mode": "lines",
         "name": "MESQUITA",
         "showlegend": true,
         "type": "scatter",
         "x": [
          "29/03/2020",
          "30/03/2020",
          "31/03/2020",
          "01/04/2020",
          "02/04/2020",
          "03/04/2020",
          "04/04/2020",
          "05/04/2020",
          "06/04/2020",
          "07/04/2020",
          "08/04/2020",
          "09/04/2020",
          "10/04/2020",
          "11/04/2020"
         ],
         "xaxis": "x",
         "y": [
          0,
          3,
          4,
          2,
          2,
          4,
          0,
          1,
          9,
          4,
          7,
          4,
          8,
          1
         ],
         "yaxis": "y"
        },
        {
         "hovertemplate": "Municipio=ITAPERUNA<br>Data=%{x}<br>Casos=%{y}<extra></extra>",
         "legendgroup": "ITAPERUNA",
         "line": {
          "color": "#636efa",
          "dash": "solid"
         },
         "mode": "lines",
         "name": "ITAPERUNA",
         "showlegend": true,
         "type": "scatter",
         "x": [
          "29/03/2020",
          "30/03/2020",
          "31/03/2020",
          "01/04/2020",
          "02/04/2020",
          "03/04/2020",
          "04/04/2020",
          "05/04/2020",
          "06/04/2020",
          "07/04/2020",
          "08/04/2020",
          "09/04/2020",
          "10/04/2020",
          "11/04/2020"
         ],
         "xaxis": "x",
         "y": [
          0,
          0,
          1,
          2,
          0,
          0,
          0,
          0,
          0,
          0,
          0,
          0,
          0,
          0
         ],
         "yaxis": "y"
        },
        {
         "hovertemplate": "Municipio=CASIMIRO DE ABREU <br>Data=%{x}<br>Casos=%{y}<extra></extra>",
         "legendgroup": "CASIMIRO DE ABREU ",
         "line": {
          "color": "#EF553B",
          "dash": "solid"
         },
         "mode": "lines",
         "name": "CASIMIRO DE ABREU ",
         "showlegend": true,
         "type": "scatter",
         "x": [
          "29/03/2020",
          "30/03/2020",
          "31/03/2020",
          "01/04/2020",
          "02/04/2020",
          "03/04/2020",
          "04/04/2020",
          "05/04/2020",
          "06/04/2020",
          "07/04/2020",
          "08/04/2020",
          "09/04/2020",
          "10/04/2020",
          "11/04/2020"
         ],
         "xaxis": "x",
         "y": [
          0,
          0,
          0,
          0,
          0,
          0,
          0,
          0,
          0,
          0,
          0,
          0,
          0,
          0
         ],
         "yaxis": "y"
        },
        {
         "hovertemplate": "Municipio=ARARUAMA <br>Data=%{x}<br>Casos=%{y}<extra></extra>",
         "legendgroup": "ARARUAMA ",
         "line": {
          "color": "#00cc96",
          "dash": "solid"
         },
         "mode": "lines",
         "name": "ARARUAMA ",
         "showlegend": true,
         "type": "scatter",
         "x": [
          "29/03/2020",
          "30/03/2020",
          "31/03/2020",
          "01/04/2020",
          "02/04/2020",
          "03/04/2020",
          "04/04/2020",
          "05/04/2020",
          "06/04/2020",
          "07/04/2020",
          "08/04/2020",
          "09/04/2020",
          "10/04/2020",
          "11/04/2020"
         ],
         "xaxis": "x",
         "y": [
          0,
          1,
          0,
          0,
          0,
          1,
          0,
          1,
          0,
          0,
          0,
          0,
          0,
          0
         ],
         "yaxis": "y"
        },
        {
         "hovertemplate": "Municipio=SEROPEDICA<br>Data=%{x}<br>Casos=%{y}<extra></extra>",
         "legendgroup": "SEROPEDICA",
         "line": {
          "color": "#ab63fa",
          "dash": "solid"
         },
         "mode": "lines",
         "name": "SEROPEDICA",
         "showlegend": true,
         "type": "scatter",
         "x": [
          "29/03/2020",
          "30/03/2020",
          "31/03/2020",
          "01/04/2020",
          "02/04/2020",
          "03/04/2020",
          "04/04/2020",
          "05/04/2020",
          "06/04/2020",
          "07/04/2020",
          "08/04/2020",
          "09/04/2020",
          "10/04/2020",
          "11/04/2020"
         ],
         "xaxis": "x",
         "y": [
          0,
          1,
          0,
          0,
          2,
          0,
          0,
          0,
          0,
          0,
          0,
          0,
          0,
          0
         ],
         "yaxis": "y"
        },
        {
         "hovertemplate": "Municipio=ARMACAO DOS BUZIOS<br>Data=%{x}<br>Casos=%{y}<extra></extra>",
         "legendgroup": "ARMACAO DOS BUZIOS",
         "line": {
          "color": "#FFA15A",
          "dash": "solid"
         },
         "mode": "lines",
         "name": "ARMACAO DOS BUZIOS",
         "showlegend": true,
         "type": "scatter",
         "x": [
          "29/03/2020",
          "30/03/2020",
          "31/03/2020",
          "01/04/2020",
          "02/04/2020",
          "03/04/2020",
          "04/04/2020",
          "05/04/2020",
          "06/04/2020",
          "07/04/2020",
          "08/04/2020",
          "09/04/2020",
          "10/04/2020",
          "11/04/2020"
         ],
         "xaxis": "x",
         "y": [
          0,
          0,
          0,
          0,
          0,
          0,
          0,
          0,
          0,
          0,
          1,
          0,
          0,
          0
         ],
         "yaxis": "y"
        },
        {
         "hovertemplate": "Municipio=TRES RIOS<br>Data=%{x}<br>Casos=%{y}<extra></extra>",
         "legendgroup": "TRES RIOS",
         "line": {
          "color": "#19d3f3",
          "dash": "solid"
         },
         "mode": "lines",
         "name": "TRES RIOS",
         "showlegend": true,
         "type": "scatter",
         "x": [
          "29/03/2020",
          "30/03/2020",
          "31/03/2020",
          "01/04/2020",
          "02/04/2020",
          "03/04/2020",
          "04/04/2020",
          "05/04/2020",
          "06/04/2020",
          "07/04/2020",
          "08/04/2020",
          "09/04/2020",
          "10/04/2020",
          "11/04/2020"
         ],
         "xaxis": "x",
         "y": [
          0,
          0,
          0,
          0,
          0,
          1,
          0,
          0,
          0,
          0,
          1,
          0,
          0,
          0
         ],
         "yaxis": "y"
        },
        {
         "hovertemplate": "Municipio=RIO DE JANEIRO<br>Data=%{x}<br>Casos=%{y}<extra></extra>",
         "legendgroup": "RIO DE JANEIRO",
         "line": {
          "color": "#FF6692",
          "dash": "solid"
         },
         "mode": "lines",
         "name": "RIO DE JANEIRO",
         "showlegend": true,
         "type": "scatter",
         "x": [
          "29/03/2020",
          "30/03/2020",
          "31/03/2020",
          "01/04/2020",
          "02/04/2020",
          "03/04/2020",
          "04/04/2020",
          "05/04/2020",
          "06/04/2020",
          "07/04/2020",
          "08/04/2020",
          "09/04/2020",
          "10/04/2020",
          "11/04/2020"
         ],
         "xaxis": "x",
         "y": [
          30,
          141,
          76,
          27,
          118,
          167,
          53,
          19,
          198,
          194,
          100,
          72,
          236,
          173
         ],
         "yaxis": "y"
        },
        {
         "hovertemplate": "Municipio=CACHOEIRAS DE MACACU<br>Data=%{x}<br>Casos=%{y}<extra></extra>",
         "legendgroup": "CACHOEIRAS DE MACACU",
         "line": {
          "color": "#B6E880",
          "dash": "solid"
         },
         "mode": "lines",
         "name": "CACHOEIRAS DE MACACU",
         "showlegend": true,
         "type": "scatter",
         "x": [
          "29/03/2020",
          "30/03/2020",
          "31/03/2020",
          "01/04/2020",
          "02/04/2020",
          "03/04/2020",
          "04/04/2020",
          "05/04/2020",
          "06/04/2020",
          "07/04/2020",
          "08/04/2020",
          "09/04/2020",
          "10/04/2020",
          "11/04/2020"
         ],
         "xaxis": "x",
         "y": [
          0,
          0,
          0,
          0,
          1,
          0,
          0,
          0,
          0,
          1,
          1,
          0,
          0,
          0
         ],
         "yaxis": "y"
        },
        {
         "hovertemplate": "Municipio=PARACAMBI<br>Data=%{x}<br>Casos=%{y}<extra></extra>",
         "legendgroup": "PARACAMBI",
         "line": {
          "color": "#FF97FF",
          "dash": "solid"
         },
         "mode": "lines",
         "name": "PARACAMBI",
         "showlegend": true,
         "type": "scatter",
         "x": [
          "29/03/2020",
          "30/03/2020",
          "31/03/2020",
          "01/04/2020",
          "02/04/2020",
          "03/04/2020",
          "04/04/2020",
          "05/04/2020",
          "06/04/2020",
          "07/04/2020",
          "08/04/2020",
          "09/04/2020",
          "10/04/2020",
          "11/04/2020"
         ],
         "xaxis": "x",
         "y": [
          0,
          0,
          0,
          1,
          0,
          0,
          0,
          0,
          0,
          1,
          1,
          0,
          0,
          0
         ],
         "yaxis": "y"
        },
        {
         "hovertemplate": "Municipio=CABO FRIO<br>Data=%{x}<br>Casos=%{y}<extra></extra>",
         "legendgroup": "CABO FRIO",
         "line": {
          "color": "#FECB52",
          "dash": "solid"
         },
         "mode": "lines",
         "name": "CABO FRIO",
         "showlegend": true,
         "type": "scatter",
         "x": [
          "29/03/2020",
          "30/03/2020",
          "31/03/2020",
          "01/04/2020",
          "02/04/2020",
          "03/04/2020",
          "04/04/2020",
          "05/04/2020",
          "06/04/2020",
          "07/04/2020",
          "08/04/2020",
          "09/04/2020",
          "10/04/2020",
          "11/04/2020"
         ],
         "xaxis": "x",
         "y": [
          0,
          1,
          1,
          1,
          0,
          0,
          0,
          0,
          1,
          2,
          0,
          1,
          0,
          0
         ],
         "yaxis": "y"
        },
        {
         "hovertemplate": "Municipio=MENDES<br>Data=%{x}<br>Casos=%{y}<extra></extra>",
         "legendgroup": "MENDES",
         "line": {
          "color": "#636efa",
          "dash": "solid"
         },
         "mode": "lines",
         "name": "MENDES",
         "showlegend": true,
         "type": "scatter",
         "x": [
          "29/03/2020",
          "30/03/2020",
          "31/03/2020",
          "01/04/2020",
          "02/04/2020",
          "03/04/2020",
          "04/04/2020",
          "05/04/2020",
          "06/04/2020",
          "07/04/2020",
          "08/04/2020",
          "09/04/2020",
          "10/04/2020",
          "11/04/2020"
         ],
         "xaxis": "x",
         "y": [
          0,
          0,
          0,
          0,
          0,
          0,
          0,
          0,
          0,
          0,
          0,
          1,
          0,
          0
         ],
         "yaxis": "y"
        },
        {
         "hovertemplate": "Municipio=CAMPOS DOS GOYTACAZES<br>Data=%{x}<br>Casos=%{y}<extra></extra>",
         "legendgroup": "CAMPOS DOS GOYTACAZES",
         "line": {
          "color": "#EF553B",
          "dash": "solid"
         },
         "mode": "lines",
         "name": "CAMPOS DOS GOYTACAZES",
         "showlegend": true,
         "type": "scatter",
         "x": [
          "29/03/2020",
          "30/03/2020",
          "31/03/2020",
          "01/04/2020",
          "02/04/2020",
          "03/04/2020",
          "04/04/2020",
          "05/04/2020",
          "06/04/2020",
          "07/04/2020",
          "08/04/2020",
          "09/04/2020",
          "10/04/2020",
          "11/04/2020"
         ],
         "xaxis": "x",
         "y": [
          0,
          1,
          0,
          0,
          1,
          0,
          0,
          0,
          0,
          0,
          0,
          1,
          0,
          0
         ],
         "yaxis": "y"
        },
        {
         "hovertemplate": "Municipio=BARRA DO PIRAI<br>Data=%{x}<br>Casos=%{y}<extra></extra>",
         "legendgroup": "BARRA DO PIRAI",
         "line": {
          "color": "#00cc96",
          "dash": "solid"
         },
         "mode": "lines",
         "name": "BARRA DO PIRAI",
         "showlegend": true,
         "type": "scatter",
         "x": [
          "29/03/2020",
          "30/03/2020",
          "31/03/2020",
          "01/04/2020",
          "02/04/2020",
          "03/04/2020",
          "04/04/2020",
          "05/04/2020",
          "06/04/2020",
          "07/04/2020",
          "08/04/2020",
          "09/04/2020",
          "10/04/2020",
          "11/04/2020"
         ],
         "xaxis": "x",
         "y": [
          0,
          2,
          0,
          0,
          0,
          0,
          1,
          2,
          0,
          0,
          2,
          0,
          1,
          0
         ],
         "yaxis": "y"
        },
        {
         "hovertemplate": "Municipio=IGN<br>Data=%{x}<br>Casos=%{y}<extra></extra>",
         "legendgroup": "IGN",
         "line": {
          "color": "#ab63fa",
          "dash": "solid"
         },
         "mode": "lines",
         "name": "IGN",
         "showlegend": true,
         "type": "scatter",
         "x": [
          "29/03/2020",
          "30/03/2020",
          "31/03/2020",
          "01/04/2020",
          "02/04/2020",
          "03/04/2020",
          "04/04/2020",
          "05/04/2020",
          "06/04/2020",
          "07/04/2020",
          "08/04/2020",
          "09/04/2020",
          "10/04/2020",
          "11/04/2020"
         ],
         "xaxis": "x",
         "y": [
          0,
          0,
          0,
          0,
          0,
          0,
          0,
          0,
          0,
          0,
          0,
          0,
          0,
          0
         ],
         "yaxis": "y"
        },
        {
         "hovertemplate": "Municipio=DUQUE DE CAXIAS<br>Data=%{x}<br>Casos=%{y}<extra></extra>",
         "legendgroup": "DUQUE DE CAXIAS",
         "line": {
          "color": "#FFA15A",
          "dash": "solid"
         },
         "mode": "lines",
         "name": "DUQUE DE CAXIAS",
         "showlegend": true,
         "type": "scatter",
         "x": [
          "29/03/2020",
          "30/03/2020",
          "31/03/2020",
          "01/04/2020",
          "02/04/2020",
          "03/04/2020",
          "04/04/2020",
          "05/04/2020",
          "06/04/2020",
          "07/04/2020",
          "08/04/2020",
          "09/04/2020",
          "10/04/2020",
          "11/04/2020"
         ],
         "xaxis": "x",
         "y": [
          4,
          4,
          6,
          4,
          7,
          6,
          1,
          3,
          14,
          13,
          18,
          9,
          7,
          4
         ],
         "yaxis": "y"
        },
        {
         "hovertemplate": "Municipio=NOVA FRIBURGO<br>Data=%{x}<br>Casos=%{y}<extra></extra>",
         "legendgroup": "NOVA FRIBURGO",
         "line": {
          "color": "#19d3f3",
          "dash": "solid"
         },
         "mode": "lines",
         "name": "NOVA FRIBURGO",
         "showlegend": true,
         "type": "scatter",
         "x": [
          "29/03/2020",
          "30/03/2020",
          "31/03/2020",
          "01/04/2020",
          "02/04/2020",
          "03/04/2020",
          "04/04/2020",
          "05/04/2020",
          "06/04/2020",
          "07/04/2020",
          "08/04/2020",
          "09/04/2020",
          "10/04/2020",
          "11/04/2020"
         ],
         "xaxis": "x",
         "y": [
          1,
          2,
          0,
          2,
          0,
          2,
          2,
          1,
          0,
          1,
          1,
          1,
          1,
          1
         ],
         "yaxis": "y"
        },
        {
         "hovertemplate": "Municipio=QUATIS<br>Data=%{x}<br>Casos=%{y}<extra></extra>",
         "legendgroup": "QUATIS",
         "line": {
          "color": "#FF6692",
          "dash": "solid"
         },
         "mode": "lines",
         "name": "QUATIS",
         "showlegend": true,
         "type": "scatter",
         "x": [
          "29/03/2020",
          "30/03/2020",
          "31/03/2020",
          "01/04/2020",
          "02/04/2020",
          "03/04/2020",
          "04/04/2020",
          "05/04/2020",
          "06/04/2020",
          "07/04/2020",
          "08/04/2020",
          "09/04/2020",
          "10/04/2020",
          "11/04/2020"
         ],
         "xaxis": "x",
         "y": [
          0,
          2,
          0,
          0,
          0,
          0,
          0,
          0,
          0,
          0,
          0,
          0,
          0,
          0
         ],
         "yaxis": "y"
        },
        {
         "hovertemplate": "Municipio=SAQUAREMA<br>Data=%{x}<br>Casos=%{y}<extra></extra>",
         "legendgroup": "SAQUAREMA",
         "line": {
          "color": "#B6E880",
          "dash": "solid"
         },
         "mode": "lines",
         "name": "SAQUAREMA",
         "showlegend": true,
         "type": "scatter",
         "x": [
          "29/03/2020",
          "30/03/2020",
          "31/03/2020",
          "01/04/2020",
          "02/04/2020",
          "03/04/2020",
          "04/04/2020",
          "05/04/2020",
          "06/04/2020",
          "07/04/2020",
          "08/04/2020",
          "09/04/2020",
          "10/04/2020",
          "11/04/2020"
         ],
         "xaxis": "x",
         "y": [
          0,
          0,
          0,
          0,
          0,
          0,
          0,
          0,
          0,
          2,
          0,
          0,
          0,
          0
         ],
         "yaxis": "y"
        },
        {
         "hovertemplate": "Municipio=SILVA JARDIM<br>Data=%{x}<br>Casos=%{y}<extra></extra>",
         "legendgroup": "SILVA JARDIM",
         "line": {
          "color": "#FF97FF",
          "dash": "solid"
         },
         "mode": "lines",
         "name": "SILVA JARDIM",
         "showlegend": true,
         "type": "scatter",
         "x": [
          "29/03/2020",
          "30/03/2020",
          "31/03/2020",
          "01/04/2020",
          "02/04/2020",
          "03/04/2020",
          "04/04/2020",
          "05/04/2020",
          "06/04/2020",
          "07/04/2020",
          "08/04/2020",
          "09/04/2020",
          "10/04/2020",
          "11/04/2020"
         ],
         "xaxis": "x",
         "y": [
          0,
          0,
          0,
          0,
          0,
          0,
          0,
          0,
          0,
          0,
          0,
          0,
          1,
          0
         ],
         "yaxis": "y"
        },
        {
         "hovertemplate": "Municipio=SAO GONCALO<br>Data=%{x}<br>Casos=%{y}<extra></extra>",
         "legendgroup": "SAO GONCALO",
         "line": {
          "color": "#FECB52",
          "dash": "solid"
         },
         "mode": "lines",
         "name": "SAO GONCALO",
         "showlegend": true,
         "type": "scatter",
         "x": [
          "29/03/2020",
          "30/03/2020",
          "31/03/2020",
          "01/04/2020",
          "02/04/2020",
          "03/04/2020",
          "04/04/2020",
          "05/04/2020",
          "06/04/2020",
          "07/04/2020",
          "08/04/2020",
          "09/04/2020",
          "10/04/2020",
          "11/04/2020"
         ],
         "xaxis": "x",
         "y": [
          1,
          4,
          11,
          2,
          7,
          3,
          3,
          2,
          13,
          4,
          5,
          0,
          1,
          0
         ],
         "yaxis": "y"
        },
        {
         "hovertemplate": "Municipio=TERESOPOLIS<br>Data=%{x}<br>Casos=%{y}<extra></extra>",
         "legendgroup": "TERESOPOLIS",
         "line": {
          "color": "#636efa",
          "dash": "solid"
         },
         "mode": "lines",
         "name": "TERESOPOLIS",
         "showlegend": true,
         "type": "scatter",
         "x": [
          "29/03/2020",
          "30/03/2020",
          "31/03/2020",
          "01/04/2020",
          "02/04/2020",
          "03/04/2020",
          "04/04/2020",
          "05/04/2020",
          "06/04/2020",
          "07/04/2020",
          "08/04/2020",
          "09/04/2020",
          "10/04/2020",
          "11/04/2020"
         ],
         "xaxis": "x",
         "y": [
          0,
          1,
          0,
          1,
          0,
          1,
          0,
          0,
          1,
          2,
          2,
          0,
          0,
          0
         ],
         "yaxis": "y"
        },
        {
         "hovertemplate": "Municipio=SAO JOAO DA BARRA<br>Data=%{x}<br>Casos=%{y}<extra></extra>",
         "legendgroup": "SAO JOAO DA BARRA",
         "line": {
          "color": "#EF553B",
          "dash": "solid"
         },
         "mode": "lines",
         "name": "SAO JOAO DA BARRA",
         "showlegend": true,
         "type": "scatter",
         "x": [
          "29/03/2020",
          "30/03/2020",
          "31/03/2020",
          "01/04/2020",
          "02/04/2020",
          "03/04/2020",
          "04/04/2020",
          "05/04/2020",
          "06/04/2020",
          "07/04/2020",
          "08/04/2020",
          "09/04/2020",
          "10/04/2020",
          "11/04/2020"
         ],
         "xaxis": "x",
         "y": [
          0,
          0,
          1,
          0,
          0,
          0,
          0,
          0,
          0,
          0,
          0,
          0,
          0,
          0
         ],
         "yaxis": "y"
        },
        {
         "hovertemplate": "Municipio=RIO BONITO<br>Data=%{x}<br>Casos=%{y}<extra></extra>",
         "legendgroup": "RIO BONITO",
         "line": {
          "color": "#00cc96",
          "dash": "solid"
         },
         "mode": "lines",
         "name": "RIO BONITO",
         "showlegend": true,
         "type": "scatter",
         "x": [
          "29/03/2020",
          "30/03/2020",
          "31/03/2020",
          "01/04/2020",
          "02/04/2020",
          "03/04/2020",
          "04/04/2020",
          "05/04/2020",
          "06/04/2020",
          "07/04/2020",
          "08/04/2020",
          "09/04/2020",
          "10/04/2020",
          "11/04/2020"
         ],
         "xaxis": "x",
         "y": [
          0,
          1,
          1,
          0,
          0,
          0,
          0,
          1,
          0,
          0,
          0,
          0,
          0,
          0
         ],
         "yaxis": "y"
        }
       ],
       "layout": {
        "legend": {
         "title": {
          "text": "Municipio"
         },
         "tracegroupgap": 0
        },
        "margin": {
         "t": 60
        },
        "template": {
         "data": {
          "bar": [
           {
            "error_x": {
             "color": "#2a3f5f"
            },
            "error_y": {
             "color": "#2a3f5f"
            },
            "marker": {
             "line": {
              "color": "#E5ECF6",
              "width": 0.5
             }
            },
            "type": "bar"
           }
          ],
          "barpolar": [
           {
            "marker": {
             "line": {
              "color": "#E5ECF6",
              "width": 0.5
             }
            },
            "type": "barpolar"
           }
          ],
          "carpet": [
           {
            "aaxis": {
             "endlinecolor": "#2a3f5f",
             "gridcolor": "white",
             "linecolor": "white",
             "minorgridcolor": "white",
             "startlinecolor": "#2a3f5f"
            },
            "baxis": {
             "endlinecolor": "#2a3f5f",
             "gridcolor": "white",
             "linecolor": "white",
             "minorgridcolor": "white",
             "startlinecolor": "#2a3f5f"
            },
            "type": "carpet"
           }
          ],
          "choropleth": [
           {
            "colorbar": {
             "outlinewidth": 0,
             "ticks": ""
            },
            "type": "choropleth"
           }
          ],
          "contour": [
           {
            "colorbar": {
             "outlinewidth": 0,
             "ticks": ""
            },
            "colorscale": [
             [
              0,
              "#0d0887"
             ],
             [
              0.1111111111111111,
              "#46039f"
             ],
             [
              0.2222222222222222,
              "#7201a8"
             ],
             [
              0.3333333333333333,
              "#9c179e"
             ],
             [
              0.4444444444444444,
              "#bd3786"
             ],
             [
              0.5555555555555556,
              "#d8576b"
             ],
             [
              0.6666666666666666,
              "#ed7953"
             ],
             [
              0.7777777777777778,
              "#fb9f3a"
             ],
             [
              0.8888888888888888,
              "#fdca26"
             ],
             [
              1,
              "#f0f921"
             ]
            ],
            "type": "contour"
           }
          ],
          "contourcarpet": [
           {
            "colorbar": {
             "outlinewidth": 0,
             "ticks": ""
            },
            "type": "contourcarpet"
           }
          ],
          "heatmap": [
           {
            "colorbar": {
             "outlinewidth": 0,
             "ticks": ""
            },
            "colorscale": [
             [
              0,
              "#0d0887"
             ],
             [
              0.1111111111111111,
              "#46039f"
             ],
             [
              0.2222222222222222,
              "#7201a8"
             ],
             [
              0.3333333333333333,
              "#9c179e"
             ],
             [
              0.4444444444444444,
              "#bd3786"
             ],
             [
              0.5555555555555556,
              "#d8576b"
             ],
             [
              0.6666666666666666,
              "#ed7953"
             ],
             [
              0.7777777777777778,
              "#fb9f3a"
             ],
             [
              0.8888888888888888,
              "#fdca26"
             ],
             [
              1,
              "#f0f921"
             ]
            ],
            "type": "heatmap"
           }
          ],
          "heatmapgl": [
           {
            "colorbar": {
             "outlinewidth": 0,
             "ticks": ""
            },
            "colorscale": [
             [
              0,
              "#0d0887"
             ],
             [
              0.1111111111111111,
              "#46039f"
             ],
             [
              0.2222222222222222,
              "#7201a8"
             ],
             [
              0.3333333333333333,
              "#9c179e"
             ],
             [
              0.4444444444444444,
              "#bd3786"
             ],
             [
              0.5555555555555556,
              "#d8576b"
             ],
             [
              0.6666666666666666,
              "#ed7953"
             ],
             [
              0.7777777777777778,
              "#fb9f3a"
             ],
             [
              0.8888888888888888,
              "#fdca26"
             ],
             [
              1,
              "#f0f921"
             ]
            ],
            "type": "heatmapgl"
           }
          ],
          "histogram": [
           {
            "marker": {
             "colorbar": {
              "outlinewidth": 0,
              "ticks": ""
             }
            },
            "type": "histogram"
           }
          ],
          "histogram2d": [
           {
            "colorbar": {
             "outlinewidth": 0,
             "ticks": ""
            },
            "colorscale": [
             [
              0,
              "#0d0887"
             ],
             [
              0.1111111111111111,
              "#46039f"
             ],
             [
              0.2222222222222222,
              "#7201a8"
             ],
             [
              0.3333333333333333,
              "#9c179e"
             ],
             [
              0.4444444444444444,
              "#bd3786"
             ],
             [
              0.5555555555555556,
              "#d8576b"
             ],
             [
              0.6666666666666666,
              "#ed7953"
             ],
             [
              0.7777777777777778,
              "#fb9f3a"
             ],
             [
              0.8888888888888888,
              "#fdca26"
             ],
             [
              1,
              "#f0f921"
             ]
            ],
            "type": "histogram2d"
           }
          ],
          "histogram2dcontour": [
           {
            "colorbar": {
             "outlinewidth": 0,
             "ticks": ""
            },
            "colorscale": [
             [
              0,
              "#0d0887"
             ],
             [
              0.1111111111111111,
              "#46039f"
             ],
             [
              0.2222222222222222,
              "#7201a8"
             ],
             [
              0.3333333333333333,
              "#9c179e"
             ],
             [
              0.4444444444444444,
              "#bd3786"
             ],
             [
              0.5555555555555556,
              "#d8576b"
             ],
             [
              0.6666666666666666,
              "#ed7953"
             ],
             [
              0.7777777777777778,
              "#fb9f3a"
             ],
             [
              0.8888888888888888,
              "#fdca26"
             ],
             [
              1,
              "#f0f921"
             ]
            ],
            "type": "histogram2dcontour"
           }
          ],
          "mesh3d": [
           {
            "colorbar": {
             "outlinewidth": 0,
             "ticks": ""
            },
            "type": "mesh3d"
           }
          ],
          "parcoords": [
           {
            "line": {
             "colorbar": {
              "outlinewidth": 0,
              "ticks": ""
             }
            },
            "type": "parcoords"
           }
          ],
          "pie": [
           {
            "automargin": true,
            "type": "pie"
           }
          ],
          "scatter": [
           {
            "marker": {
             "colorbar": {
              "outlinewidth": 0,
              "ticks": ""
             }
            },
            "type": "scatter"
           }
          ],
          "scatter3d": [
           {
            "line": {
             "colorbar": {
              "outlinewidth": 0,
              "ticks": ""
             }
            },
            "marker": {
             "colorbar": {
              "outlinewidth": 0,
              "ticks": ""
             }
            },
            "type": "scatter3d"
           }
          ],
          "scattercarpet": [
           {
            "marker": {
             "colorbar": {
              "outlinewidth": 0,
              "ticks": ""
             }
            },
            "type": "scattercarpet"
           }
          ],
          "scattergeo": [
           {
            "marker": {
             "colorbar": {
              "outlinewidth": 0,
              "ticks": ""
             }
            },
            "type": "scattergeo"
           }
          ],
          "scattergl": [
           {
            "marker": {
             "colorbar": {
              "outlinewidth": 0,
              "ticks": ""
             }
            },
            "type": "scattergl"
           }
          ],
          "scattermapbox": [
           {
            "marker": {
             "colorbar": {
              "outlinewidth": 0,
              "ticks": ""
             }
            },
            "type": "scattermapbox"
           }
          ],
          "scatterpolar": [
           {
            "marker": {
             "colorbar": {
              "outlinewidth": 0,
              "ticks": ""
             }
            },
            "type": "scatterpolar"
           }
          ],
          "scatterpolargl": [
           {
            "marker": {
             "colorbar": {
              "outlinewidth": 0,
              "ticks": ""
             }
            },
            "type": "scatterpolargl"
           }
          ],
          "scatterternary": [
           {
            "marker": {
             "colorbar": {
              "outlinewidth": 0,
              "ticks": ""
             }
            },
            "type": "scatterternary"
           }
          ],
          "surface": [
           {
            "colorbar": {
             "outlinewidth": 0,
             "ticks": ""
            },
            "colorscale": [
             [
              0,
              "#0d0887"
             ],
             [
              0.1111111111111111,
              "#46039f"
             ],
             [
              0.2222222222222222,
              "#7201a8"
             ],
             [
              0.3333333333333333,
              "#9c179e"
             ],
             [
              0.4444444444444444,
              "#bd3786"
             ],
             [
              0.5555555555555556,
              "#d8576b"
             ],
             [
              0.6666666666666666,
              "#ed7953"
             ],
             [
              0.7777777777777778,
              "#fb9f3a"
             ],
             [
              0.8888888888888888,
              "#fdca26"
             ],
             [
              1,
              "#f0f921"
             ]
            ],
            "type": "surface"
           }
          ],
          "table": [
           {
            "cells": {
             "fill": {
              "color": "#EBF0F8"
             },
             "line": {
              "color": "white"
             }
            },
            "header": {
             "fill": {
              "color": "#C8D4E3"
             },
             "line": {
              "color": "white"
             }
            },
            "type": "table"
           }
          ]
         },
         "layout": {
          "annotationdefaults": {
           "arrowcolor": "#2a3f5f",
           "arrowhead": 0,
           "arrowwidth": 1
          },
          "coloraxis": {
           "colorbar": {
            "outlinewidth": 0,
            "ticks": ""
           }
          },
          "colorscale": {
           "diverging": [
            [
             0,
             "#8e0152"
            ],
            [
             0.1,
             "#c51b7d"
            ],
            [
             0.2,
             "#de77ae"
            ],
            [
             0.3,
             "#f1b6da"
            ],
            [
             0.4,
             "#fde0ef"
            ],
            [
             0.5,
             "#f7f7f7"
            ],
            [
             0.6,
             "#e6f5d0"
            ],
            [
             0.7,
             "#b8e186"
            ],
            [
             0.8,
             "#7fbc41"
            ],
            [
             0.9,
             "#4d9221"
            ],
            [
             1,
             "#276419"
            ]
           ],
           "sequential": [
            [
             0,
             "#0d0887"
            ],
            [
             0.1111111111111111,
             "#46039f"
            ],
            [
             0.2222222222222222,
             "#7201a8"
            ],
            [
             0.3333333333333333,
             "#9c179e"
            ],
            [
             0.4444444444444444,
             "#bd3786"
            ],
            [
             0.5555555555555556,
             "#d8576b"
            ],
            [
             0.6666666666666666,
             "#ed7953"
            ],
            [
             0.7777777777777778,
             "#fb9f3a"
            ],
            [
             0.8888888888888888,
             "#fdca26"
            ],
            [
             1,
             "#f0f921"
            ]
           ],
           "sequentialminus": [
            [
             0,
             "#0d0887"
            ],
            [
             0.1111111111111111,
             "#46039f"
            ],
            [
             0.2222222222222222,
             "#7201a8"
            ],
            [
             0.3333333333333333,
             "#9c179e"
            ],
            [
             0.4444444444444444,
             "#bd3786"
            ],
            [
             0.5555555555555556,
             "#d8576b"
            ],
            [
             0.6666666666666666,
             "#ed7953"
            ],
            [
             0.7777777777777778,
             "#fb9f3a"
            ],
            [
             0.8888888888888888,
             "#fdca26"
            ],
            [
             1,
             "#f0f921"
            ]
           ]
          },
          "colorway": [
           "#636efa",
           "#EF553B",
           "#00cc96",
           "#ab63fa",
           "#FFA15A",
           "#19d3f3",
           "#FF6692",
           "#B6E880",
           "#FF97FF",
           "#FECB52"
          ],
          "font": {
           "color": "#2a3f5f"
          },
          "geo": {
           "bgcolor": "white",
           "lakecolor": "white",
           "landcolor": "#E5ECF6",
           "showlakes": true,
           "showland": true,
           "subunitcolor": "white"
          },
          "hoverlabel": {
           "align": "left"
          },
          "hovermode": "closest",
          "mapbox": {
           "style": "light"
          },
          "paper_bgcolor": "white",
          "plot_bgcolor": "#E5ECF6",
          "polar": {
           "angularaxis": {
            "gridcolor": "white",
            "linecolor": "white",
            "ticks": ""
           },
           "bgcolor": "#E5ECF6",
           "radialaxis": {
            "gridcolor": "white",
            "linecolor": "white",
            "ticks": ""
           }
          },
          "scene": {
           "xaxis": {
            "backgroundcolor": "#E5ECF6",
            "gridcolor": "white",
            "gridwidth": 2,
            "linecolor": "white",
            "showbackground": true,
            "ticks": "",
            "zerolinecolor": "white"
           },
           "yaxis": {
            "backgroundcolor": "#E5ECF6",
            "gridcolor": "white",
            "gridwidth": 2,
            "linecolor": "white",
            "showbackground": true,
            "ticks": "",
            "zerolinecolor": "white"
           },
           "zaxis": {
            "backgroundcolor": "#E5ECF6",
            "gridcolor": "white",
            "gridwidth": 2,
            "linecolor": "white",
            "showbackground": true,
            "ticks": "",
            "zerolinecolor": "white"
           }
          },
          "shapedefaults": {
           "line": {
            "color": "#2a3f5f"
           }
          },
          "ternary": {
           "aaxis": {
            "gridcolor": "white",
            "linecolor": "white",
            "ticks": ""
           },
           "baxis": {
            "gridcolor": "white",
            "linecolor": "white",
            "ticks": ""
           },
           "bgcolor": "#E5ECF6",
           "caxis": {
            "gridcolor": "white",
            "linecolor": "white",
            "ticks": ""
           }
          },
          "title": {
           "x": 0.05
          },
          "xaxis": {
           "automargin": true,
           "gridcolor": "white",
           "linecolor": "white",
           "ticks": "",
           "title": {
            "standoff": 15
           },
           "zerolinecolor": "white",
           "zerolinewidth": 2
          },
          "yaxis": {
           "automargin": true,
           "gridcolor": "white",
           "linecolor": "white",
           "ticks": "",
           "title": {
            "standoff": 15
           },
           "zerolinecolor": "white",
           "zerolinewidth": 2
          }
         }
        },
        "title": {
         "text": "Casos confirmados por Municipio do Estado do Rio de Janeiro"
        },
        "xaxis": {
         "anchor": "y",
         "domain": [
          0,
          1
         ],
         "title": {
          "text": "Data"
         }
        },
        "yaxis": {
         "anchor": "x",
         "domain": [
          0,
          1
         ],
         "title": {
          "text": "Casos"
         }
        }
       }
      },
      "text/html": [
       "<div>\n",
       "        \n",
       "        \n",
       "            <div id=\"52283410-faca-47dc-aa65-535497c579b6\" class=\"plotly-graph-div\" style=\"height:525px; width:100%;\"></div>\n",
       "            <script type=\"text/javascript\">\n",
       "                require([\"plotly\"], function(Plotly) {\n",
       "                    window.PLOTLYENV=window.PLOTLYENV || {};\n",
       "                    \n",
       "                if (document.getElementById(\"52283410-faca-47dc-aa65-535497c579b6\")) {\n",
       "                    Plotly.newPlot(\n",
       "                        '52283410-faca-47dc-aa65-535497c579b6',\n",
       "                        [{\"hovertemplate\": \"Municipio=NOVA IGUACU<br>Data=%{x}<br>Casos=%{y}<extra></extra>\", \"legendgroup\": \"NOVA IGUACU\", \"line\": {\"color\": \"#636efa\", \"dash\": \"solid\"}, \"mode\": \"lines\", \"name\": \"NOVA IGUACU\", \"showlegend\": true, \"type\": \"scatter\", \"x\": [\"29/03/2020\", \"30/03/2020\", \"31/03/2020\", \"01/04/2020\", \"02/04/2020\", \"03/04/2020\", \"04/04/2020\", \"05/04/2020\", \"06/04/2020\", \"07/04/2020\", \"08/04/2020\", \"09/04/2020\", \"10/04/2020\", \"11/04/2020\"], \"xaxis\": \"x\", \"y\": [2, 9, 11, 8, 10, 8, 3, 6, 21, 17, 8, 18, 3, 0], \"yaxis\": \"y\"}, {\"hovertemplate\": \"Municipio=NILOPOLIS<br>Data=%{x}<br>Casos=%{y}<extra></extra>\", \"legendgroup\": \"NILOPOLIS\", \"line\": {\"color\": \"#EF553B\", \"dash\": \"solid\"}, \"mode\": \"lines\", \"name\": \"NILOPOLIS\", \"showlegend\": true, \"type\": \"scatter\", \"x\": [\"29/03/2020\", \"30/03/2020\", \"31/03/2020\", \"01/04/2020\", \"02/04/2020\", \"03/04/2020\", \"04/04/2020\", \"05/04/2020\", \"06/04/2020\", \"07/04/2020\", \"08/04/2020\", \"09/04/2020\", \"10/04/2020\", \"11/04/2020\"], \"xaxis\": \"x\", \"y\": [1, 0, 1, 2, 4, 1, 0, 1, 1, 2, 1, 3, 0, 1], \"yaxis\": \"y\"}, {\"hovertemplate\": \"Municipio=CARAPEBUS<br>Data=%{x}<br>Casos=%{y}<extra></extra>\", \"legendgroup\": \"CARAPEBUS\", \"line\": {\"color\": \"#00cc96\", \"dash\": \"solid\"}, \"mode\": \"lines\", \"name\": \"CARAPEBUS\", \"showlegend\": true, \"type\": \"scatter\", \"x\": [\"29/03/2020\", \"30/03/2020\", \"31/03/2020\", \"01/04/2020\", \"02/04/2020\", \"03/04/2020\", \"04/04/2020\", \"05/04/2020\", \"06/04/2020\", \"07/04/2020\", \"08/04/2020\", \"09/04/2020\", \"10/04/2020\", \"11/04/2020\"], \"xaxis\": \"x\", \"y\": [0, 0, 0, 0, 0, 0, 0, 0, 0, 0, 0, 0, 1, 0], \"yaxis\": \"y\"}, {\"hovertemplate\": \"Municipio=PETROPOLIS<br>Data=%{x}<br>Casos=%{y}<extra></extra>\", \"legendgroup\": \"PETROPOLIS\", \"line\": {\"color\": \"#ab63fa\", \"dash\": \"solid\"}, \"mode\": \"lines\", \"name\": \"PETROPOLIS\", \"showlegend\": true, \"type\": \"scatter\", \"x\": [\"29/03/2020\", \"30/03/2020\", \"31/03/2020\", \"01/04/2020\", \"02/04/2020\", \"03/04/2020\", \"04/04/2020\", \"05/04/2020\", \"06/04/2020\", \"07/04/2020\", \"08/04/2020\", \"09/04/2020\", \"10/04/2020\", \"11/04/2020\"], \"xaxis\": \"x\", \"y\": [1, 4, 1, 1, 4, 0, 0, 0, 6, 1, 2, 5, 6, 0], \"yaxis\": \"y\"}, {\"hovertemplate\": \"Municipio=MARICA<br>Data=%{x}<br>Casos=%{y}<extra></extra>\", \"legendgroup\": \"MARICA\", \"line\": {\"color\": \"#FFA15A\", \"dash\": \"solid\"}, \"mode\": \"lines\", \"name\": \"MARICA\", \"showlegend\": true, \"type\": \"scatter\", \"x\": [\"29/03/2020\", \"30/03/2020\", \"31/03/2020\", \"01/04/2020\", \"02/04/2020\", \"03/04/2020\", \"04/04/2020\", \"05/04/2020\", \"06/04/2020\", \"07/04/2020\", \"08/04/2020\", \"09/04/2020\", \"10/04/2020\", \"11/04/2020\"], \"xaxis\": \"x\", \"y\": [1, 2, 3, 1, 3, 3, 0, 0, 5, 3, 4, 3, 0, 2], \"yaxis\": \"y\"}, {\"hovertemplate\": \"Municipio=BARRA MANSA<br>Data=%{x}<br>Casos=%{y}<extra></extra>\", \"legendgroup\": \"BARRA MANSA\", \"line\": {\"color\": \"#19d3f3\", \"dash\": \"solid\"}, \"mode\": \"lines\", \"name\": \"BARRA MANSA\", \"showlegend\": true, \"type\": \"scatter\", \"x\": [\"29/03/2020\", \"30/03/2020\", \"31/03/2020\", \"01/04/2020\", \"02/04/2020\", \"03/04/2020\", \"04/04/2020\", \"05/04/2020\", \"06/04/2020\", \"07/04/2020\", \"08/04/2020\", \"09/04/2020\", \"10/04/2020\", \"11/04/2020\"], \"xaxis\": \"x\", \"y\": [0, 4, 0, 0, 2, 0, 0, 0, 1, 2, 1, 0, 0, 0], \"yaxis\": \"y\"}, {\"hovertemplate\": \"Municipio=ITABORAI<br>Data=%{x}<br>Casos=%{y}<extra></extra>\", \"legendgroup\": \"ITABORAI\", \"line\": {\"color\": \"#FF6692\", \"dash\": \"solid\"}, \"mode\": \"lines\", \"name\": \"ITABORAI\", \"showlegend\": true, \"type\": \"scatter\", \"x\": [\"29/03/2020\", \"30/03/2020\", \"31/03/2020\", \"01/04/2020\", \"02/04/2020\", \"03/04/2020\", \"04/04/2020\", \"05/04/2020\", \"06/04/2020\", \"07/04/2020\", \"08/04/2020\", \"09/04/2020\", \"10/04/2020\", \"11/04/2020\"], \"xaxis\": \"x\", \"y\": [1, 1, 1, 1, 1, 1, 0, 1, 4, 4, 3, 0, 0, 0], \"yaxis\": \"y\"}, {\"hovertemplate\": \"Municipio=CASIMIRO DE ABREU<br>Data=%{x}<br>Casos=%{y}<extra></extra>\", \"legendgroup\": \"CASIMIRO DE ABREU\", \"line\": {\"color\": \"#B6E880\", \"dash\": \"solid\"}, \"mode\": \"lines\", \"name\": \"CASIMIRO DE ABREU\", \"showlegend\": true, \"type\": \"scatter\", \"x\": [\"29/03/2020\", \"30/03/2020\", \"31/03/2020\", \"01/04/2020\", \"02/04/2020\", \"03/04/2020\", \"04/04/2020\", \"05/04/2020\", \"06/04/2020\", \"07/04/2020\", \"08/04/2020\", \"09/04/2020\", \"10/04/2020\", \"11/04/2020\"], \"xaxis\": \"x\", \"y\": [0, 0, 0, 3, 0, 0, 0, 0, 1, 1, 0, 0, 0, 0], \"yaxis\": \"y\"}, {\"hovertemplate\": \"Municipio=ITATIAIA<br>Data=%{x}<br>Casos=%{y}<extra></extra>\", \"legendgroup\": \"ITATIAIA\", \"line\": {\"color\": \"#FF97FF\", \"dash\": \"solid\"}, \"mode\": \"lines\", \"name\": \"ITATIAIA\", \"showlegend\": true, \"type\": \"scatter\", \"x\": [\"29/03/2020\", \"30/03/2020\", \"31/03/2020\", \"01/04/2020\", \"02/04/2020\", \"03/04/2020\", \"04/04/2020\", \"05/04/2020\", \"06/04/2020\", \"07/04/2020\", \"08/04/2020\", \"09/04/2020\", \"10/04/2020\", \"11/04/2020\"], \"xaxis\": \"x\", \"y\": [0, 0, 0, 0, 0, 0, 0, 0, 0, 0, 1, 0, 0, 0], \"yaxis\": \"y\"}, {\"hovertemplate\": \"Municipio=TANGUA<br>Data=%{x}<br>Casos=%{y}<extra></extra>\", \"legendgroup\": \"TANGUA\", \"line\": {\"color\": \"#FECB52\", \"dash\": \"solid\"}, \"mode\": \"lines\", \"name\": \"TANGUA\", \"showlegend\": true, \"type\": \"scatter\", \"x\": [\"29/03/2020\", \"30/03/2020\", \"31/03/2020\", \"01/04/2020\", \"02/04/2020\", \"03/04/2020\", \"04/04/2020\", \"05/04/2020\", \"06/04/2020\", \"07/04/2020\", \"08/04/2020\", \"09/04/2020\", \"10/04/2020\", \"11/04/2020\"], \"xaxis\": \"x\", \"y\": [0, 0, 0, 0, 0, 0, 0, 0, 0, 3, 0, 1, 0, 0], \"yaxis\": \"y\"}, {\"hovertemplate\": \"Municipio=SAO FIDELIS <br>Data=%{x}<br>Casos=%{y}<extra></extra>\", \"legendgroup\": \"SAO FIDELIS \", \"line\": {\"color\": \"#636efa\", \"dash\": \"solid\"}, \"mode\": \"lines\", \"name\": \"SAO FIDELIS \", \"showlegend\": true, \"type\": \"scatter\", \"x\": [\"29/03/2020\", \"30/03/2020\", \"31/03/2020\", \"01/04/2020\", \"02/04/2020\", \"03/04/2020\", \"04/04/2020\", \"05/04/2020\", \"06/04/2020\", \"07/04/2020\", \"08/04/2020\", \"09/04/2020\", \"10/04/2020\", \"11/04/2020\"], \"xaxis\": \"x\", \"y\": [0, 0, 0, 0, 0, 0, 0, 0, 0, 0, 3, 0, 0, 0], \"yaxis\": \"y\"}, {\"hovertemplate\": \"Municipio=CANTAGALO<br>Data=%{x}<br>Casos=%{y}<extra></extra>\", \"legendgroup\": \"CANTAGALO\", \"line\": {\"color\": \"#EF553B\", \"dash\": \"solid\"}, \"mode\": \"lines\", \"name\": \"CANTAGALO\", \"showlegend\": true, \"type\": \"scatter\", \"x\": [\"29/03/2020\", \"30/03/2020\", \"31/03/2020\", \"01/04/2020\", \"02/04/2020\", \"03/04/2020\", \"04/04/2020\", \"05/04/2020\", \"06/04/2020\", \"07/04/2020\", \"08/04/2020\", \"09/04/2020\", \"10/04/2020\", \"11/04/2020\"], \"xaxis\": \"x\", \"y\": [0, 0, 0, 1, 0, 0, 0, 0, 0, 0, 0, 0, 0, 0], \"yaxis\": \"y\"}, {\"hovertemplate\": \"Municipio=SAO FRANCISCO DE ITABAPOANA<br>Data=%{x}<br>Casos=%{y}<extra></extra>\", \"legendgroup\": \"SAO FRANCISCO DE ITABAPOANA\", \"line\": {\"color\": \"#00cc96\", \"dash\": \"solid\"}, \"mode\": \"lines\", \"name\": \"SAO FRANCISCO DE ITABAPOANA\", \"showlegend\": true, \"type\": \"scatter\", \"x\": [\"29/03/2020\", \"30/03/2020\", \"31/03/2020\", \"01/04/2020\", \"02/04/2020\", \"03/04/2020\", \"04/04/2020\", \"05/04/2020\", \"06/04/2020\", \"07/04/2020\", \"08/04/2020\", \"09/04/2020\", \"10/04/2020\", \"11/04/2020\"], \"xaxis\": \"x\", \"y\": [0, 0, 0, 0, 1, 0, 0, 0, 0, 0, 0, 0, 0, 0], \"yaxis\": \"y\"}, {\"hovertemplate\": \"Municipio=ARARUAMA<br>Data=%{x}<br>Casos=%{y}<extra></extra>\", \"legendgroup\": \"ARARUAMA\", \"line\": {\"color\": \"#ab63fa\", \"dash\": \"solid\"}, \"mode\": \"lines\", \"name\": \"ARARUAMA\", \"showlegend\": true, \"type\": \"scatter\", \"x\": [\"29/03/2020\", \"30/03/2020\", \"31/03/2020\", \"01/04/2020\", \"02/04/2020\", \"03/04/2020\", \"04/04/2020\", \"05/04/2020\", \"06/04/2020\", \"07/04/2020\", \"08/04/2020\", \"09/04/2020\", \"10/04/2020\", \"11/04/2020\"], \"xaxis\": \"x\", \"y\": [0, 0, 0, 0, 0, 0, 0, 0, 3, 0, 0, 4, 0, 0], \"yaxis\": \"y\"}, {\"hovertemplate\": \"Municipio=MANGARATIBA<br>Data=%{x}<br>Casos=%{y}<extra></extra>\", \"legendgroup\": \"MANGARATIBA\", \"line\": {\"color\": \"#FFA15A\", \"dash\": \"solid\"}, \"mode\": \"lines\", \"name\": \"MANGARATIBA\", \"showlegend\": true, \"type\": \"scatter\", \"x\": [\"29/03/2020\", \"30/03/2020\", \"31/03/2020\", \"01/04/2020\", \"02/04/2020\", \"03/04/2020\", \"04/04/2020\", \"05/04/2020\", \"06/04/2020\", \"07/04/2020\", \"08/04/2020\", \"09/04/2020\", \"10/04/2020\", \"11/04/2020\"], \"xaxis\": \"x\", \"y\": [0, 0, 1, 0, 0, 0, 0, 1, 0, 0, 1, 0, 0, 0], \"yaxis\": \"y\"}, {\"hovertemplate\": \"Municipio=BOM JARDIM<br>Data=%{x}<br>Casos=%{y}<extra></extra>\", \"legendgroup\": \"BOM JARDIM\", \"line\": {\"color\": \"#19d3f3\", \"dash\": \"solid\"}, \"mode\": \"lines\", \"name\": \"BOM JARDIM\", \"showlegend\": true, \"type\": \"scatter\", \"x\": [\"29/03/2020\", \"30/03/2020\", \"31/03/2020\", \"01/04/2020\", \"02/04/2020\", \"03/04/2020\", \"04/04/2020\", \"05/04/2020\", \"06/04/2020\", \"07/04/2020\", \"08/04/2020\", \"09/04/2020\", \"10/04/2020\", \"11/04/2020\"], \"xaxis\": \"x\", \"y\": [0, 1, 0, 0, 0, 1, 0, 0, 0, 0, 0, 0, 0, 0], \"yaxis\": \"y\"}, {\"hovertemplate\": \"Municipio=IGUABA GRANDE<br>Data=%{x}<br>Casos=%{y}<extra></extra>\", \"legendgroup\": \"IGUABA GRANDE\", \"line\": {\"color\": \"#FF6692\", \"dash\": \"solid\"}, \"mode\": \"lines\", \"name\": \"IGUABA GRANDE\", \"showlegend\": true, \"type\": \"scatter\", \"x\": [\"29/03/2020\", \"30/03/2020\", \"31/03/2020\", \"01/04/2020\", \"02/04/2020\", \"03/04/2020\", \"04/04/2020\", \"05/04/2020\", \"06/04/2020\", \"07/04/2020\", \"08/04/2020\", \"09/04/2020\", \"10/04/2020\", \"11/04/2020\"], \"xaxis\": \"x\", \"y\": [0, 0, 1, 0, 0, 1, 0, 0, 1, 0, 0, 0, 0, 0], \"yaxis\": \"y\"}, {\"hovertemplate\": \"Municipio=QUEIMADOS<br>Data=%{x}<br>Casos=%{y}<extra></extra>\", \"legendgroup\": \"QUEIMADOS\", \"line\": {\"color\": \"#B6E880\", \"dash\": \"solid\"}, \"mode\": \"lines\", \"name\": \"QUEIMADOS\", \"showlegend\": true, \"type\": \"scatter\", \"x\": [\"29/03/2020\", \"30/03/2020\", \"31/03/2020\", \"01/04/2020\", \"02/04/2020\", \"03/04/2020\", \"04/04/2020\", \"05/04/2020\", \"06/04/2020\", \"07/04/2020\", \"08/04/2020\", \"09/04/2020\", \"10/04/2020\", \"11/04/2020\"], \"xaxis\": \"x\", \"y\": [0, 2, 2, 0, 0, 0, 1, 1, 3, 1, 1, 0, 1, 0], \"yaxis\": \"y\"}, {\"hovertemplate\": \"Municipio=PORTO REAL<br>Data=%{x}<br>Casos=%{y}<extra></extra>\", \"legendgroup\": \"PORTO REAL\", \"line\": {\"color\": \"#FF97FF\", \"dash\": \"solid\"}, \"mode\": \"lines\", \"name\": \"PORTO REAL\", \"showlegend\": true, \"type\": \"scatter\", \"x\": [\"29/03/2020\", \"30/03/2020\", \"31/03/2020\", \"01/04/2020\", \"02/04/2020\", \"03/04/2020\", \"04/04/2020\", \"05/04/2020\", \"06/04/2020\", \"07/04/2020\", \"08/04/2020\", \"09/04/2020\", \"10/04/2020\", \"11/04/2020\"], \"xaxis\": \"x\", \"y\": [0, 0, 0, 0, 0, 0, 0, 0, 0, 1, 0, 0, 0, 0], \"yaxis\": \"y\"}, {\"hovertemplate\": \"Municipio=RIO DAS FLORES<br>Data=%{x}<br>Casos=%{y}<extra></extra>\", \"legendgroup\": \"RIO DAS FLORES\", \"line\": {\"color\": \"#FECB52\", \"dash\": \"solid\"}, \"mode\": \"lines\", \"name\": \"RIO DAS FLORES\", \"showlegend\": true, \"type\": \"scatter\", \"x\": [\"29/03/2020\", \"30/03/2020\", \"31/03/2020\", \"01/04/2020\", \"02/04/2020\", \"03/04/2020\", \"04/04/2020\", \"05/04/2020\", \"06/04/2020\", \"07/04/2020\", \"08/04/2020\", \"09/04/2020\", \"10/04/2020\", \"11/04/2020\"], \"xaxis\": \"x\", \"y\": [0, 0, 0, 1, 0, 0, 0, 0, 0, 0, 0, 0, 0, 0], \"yaxis\": \"y\"}, {\"hovertemplate\": \"Municipio=AREAL<br>Data=%{x}<br>Casos=%{y}<extra></extra>\", \"legendgroup\": \"AREAL\", \"line\": {\"color\": \"#636efa\", \"dash\": \"solid\"}, \"mode\": \"lines\", \"name\": \"AREAL\", \"showlegend\": true, \"type\": \"scatter\", \"x\": [\"29/03/2020\", \"30/03/2020\", \"31/03/2020\", \"01/04/2020\", \"02/04/2020\", \"03/04/2020\", \"04/04/2020\", \"05/04/2020\", \"06/04/2020\", \"07/04/2020\", \"08/04/2020\", \"09/04/2020\", \"10/04/2020\", \"11/04/2020\"], \"xaxis\": \"x\", \"y\": [0, 0, 0, 0, 0, 0, 0, 0, 0, 0, 0, 0, 1, 0], \"yaxis\": \"y\"}, {\"hovertemplate\": \"Municipio=MIGUEL PEREIRA<br>Data=%{x}<br>Casos=%{y}<extra></extra>\", \"legendgroup\": \"MIGUEL PEREIRA\", \"line\": {\"color\": \"#EF553B\", \"dash\": \"solid\"}, \"mode\": \"lines\", \"name\": \"MIGUEL PEREIRA\", \"showlegend\": true, \"type\": \"scatter\", \"x\": [\"29/03/2020\", \"30/03/2020\", \"31/03/2020\", \"01/04/2020\", \"02/04/2020\", \"03/04/2020\", \"04/04/2020\", \"05/04/2020\", \"06/04/2020\", \"07/04/2020\", \"08/04/2020\", \"09/04/2020\", \"10/04/2020\", \"11/04/2020\"], \"xaxis\": \"x\", \"y\": [0, 0, 0, 0, 0, 0, 0, 0, 1, 0, 0, 0, 0, 1], \"yaxis\": \"y\"}, {\"hovertemplate\": \"Municipio=SAO PEDRO DA ALDEIA<br>Data=%{x}<br>Casos=%{y}<extra></extra>\", \"legendgroup\": \"SAO PEDRO DA ALDEIA\", \"line\": {\"color\": \"#00cc96\", \"dash\": \"solid\"}, \"mode\": \"lines\", \"name\": \"SAO PEDRO DA ALDEIA\", \"showlegend\": true, \"type\": \"scatter\", \"x\": [\"29/03/2020\", \"30/03/2020\", \"31/03/2020\", \"01/04/2020\", \"02/04/2020\", \"03/04/2020\", \"04/04/2020\", \"05/04/2020\", \"06/04/2020\", \"07/04/2020\", \"08/04/2020\", \"09/04/2020\", \"10/04/2020\", \"11/04/2020\"], \"xaxis\": \"x\", \"y\": [0, 1, 0, 0, 0, 0, 0, 0, 1, 1, 2, 0, 1, 0], \"yaxis\": \"y\"}, {\"hovertemplate\": \"Municipio=VALENCA<br>Data=%{x}<br>Casos=%{y}<extra></extra>\", \"legendgroup\": \"VALENCA\", \"line\": {\"color\": \"#ab63fa\", \"dash\": \"solid\"}, \"mode\": \"lines\", \"name\": \"VALENCA\", \"showlegend\": true, \"type\": \"scatter\", \"x\": [\"29/03/2020\", \"30/03/2020\", \"31/03/2020\", \"01/04/2020\", \"02/04/2020\", \"03/04/2020\", \"04/04/2020\", \"05/04/2020\", \"06/04/2020\", \"07/04/2020\", \"08/04/2020\", \"09/04/2020\", \"10/04/2020\", \"11/04/2020\"], \"xaxis\": \"x\", \"y\": [1, 0, 0, 0, 0, 0, 0, 0, 0, 0, 0, 0, 0, 0], \"yaxis\": \"y\"}, {\"hovertemplate\": \"Municipio=JAPERI<br>Data=%{x}<br>Casos=%{y}<extra></extra>\", \"legendgroup\": \"JAPERI\", \"line\": {\"color\": \"#FFA15A\", \"dash\": \"solid\"}, \"mode\": \"lines\", \"name\": \"JAPERI\", \"showlegend\": true, \"type\": \"scatter\", \"x\": [\"29/03/2020\", \"30/03/2020\", \"31/03/2020\", \"01/04/2020\", \"02/04/2020\", \"03/04/2020\", \"04/04/2020\", \"05/04/2020\", \"06/04/2020\", \"07/04/2020\", \"08/04/2020\", \"09/04/2020\", \"10/04/2020\", \"11/04/2020\"], \"xaxis\": \"x\", \"y\": [0, 0, 0, 0, 2, 1, 0, 0, 1, 0, 0, 0, 0, 0], \"yaxis\": \"y\"}, {\"hovertemplate\": \"Municipio=RIO DAS OSTRAS<br>Data=%{x}<br>Casos=%{y}<extra></extra>\", \"legendgroup\": \"RIO DAS OSTRAS\", \"line\": {\"color\": \"#19d3f3\", \"dash\": \"solid\"}, \"mode\": \"lines\", \"name\": \"RIO DAS OSTRAS\", \"showlegend\": true, \"type\": \"scatter\", \"x\": [\"29/03/2020\", \"30/03/2020\", \"31/03/2020\", \"01/04/2020\", \"02/04/2020\", \"03/04/2020\", \"04/04/2020\", \"05/04/2020\", \"06/04/2020\", \"07/04/2020\", \"08/04/2020\", \"09/04/2020\", \"10/04/2020\", \"11/04/2020\"], \"xaxis\": \"x\", \"y\": [1, 0, 0, 0, 0, 0, 0, 1, 2, 0, 0, 1, 0, 0], \"yaxis\": \"y\"}, {\"hovertemplate\": \"Municipio=PORCIUNCULA<br>Data=%{x}<br>Casos=%{y}<extra></extra>\", \"legendgroup\": \"PORCIUNCULA\", \"line\": {\"color\": \"#FF6692\", \"dash\": \"solid\"}, \"mode\": \"lines\", \"name\": \"PORCIUNCULA\", \"showlegend\": true, \"type\": \"scatter\", \"x\": [\"29/03/2020\", \"30/03/2020\", \"31/03/2020\", \"01/04/2020\", \"02/04/2020\", \"03/04/2020\", \"04/04/2020\", \"05/04/2020\", \"06/04/2020\", \"07/04/2020\", \"08/04/2020\", \"09/04/2020\", \"10/04/2020\", \"11/04/2020\"], \"xaxis\": \"x\", \"y\": [0, 1, 0, 0, 0, 0, 0, 0, 0, 0, 0, 0, 0, 0], \"yaxis\": \"y\"}, {\"hovertemplate\": \"Municipio=BELFORD ROXO<br>Data=%{x}<br>Casos=%{y}<extra></extra>\", \"legendgroup\": \"BELFORD ROXO\", \"line\": {\"color\": \"#B6E880\", \"dash\": \"solid\"}, \"mode\": \"lines\", \"name\": \"BELFORD ROXO\", \"showlegend\": true, \"type\": \"scatter\", \"x\": [\"29/03/2020\", \"30/03/2020\", \"31/03/2020\", \"01/04/2020\", \"02/04/2020\", \"03/04/2020\", \"04/04/2020\", \"05/04/2020\", \"06/04/2020\", \"07/04/2020\", \"08/04/2020\", \"09/04/2020\", \"10/04/2020\", \"11/04/2020\"], \"xaxis\": \"x\", \"y\": [1, 3, 1, 3, 6, 5, 2, 3, 6, 6, 5, 1, 0, 0], \"yaxis\": \"y\"}, {\"hovertemplate\": \"Municipio=ITAGUAI<br>Data=%{x}<br>Casos=%{y}<extra></extra>\", \"legendgroup\": \"ITAGUAI\", \"line\": {\"color\": \"#FF97FF\", \"dash\": \"solid\"}, \"mode\": \"lines\", \"name\": \"ITAGUAI\", \"showlegend\": true, \"type\": \"scatter\", \"x\": [\"29/03/2020\", \"30/03/2020\", \"31/03/2020\", \"01/04/2020\", \"02/04/2020\", \"03/04/2020\", \"04/04/2020\", \"05/04/2020\", \"06/04/2020\", \"07/04/2020\", \"08/04/2020\", \"09/04/2020\", \"10/04/2020\", \"11/04/2020\"], \"xaxis\": \"x\", \"y\": [1, 2, 0, 0, 0, 0, 0, 0, 0, 0, 0, 1, 0, 0], \"yaxis\": \"y\"}, {\"hovertemplate\": \"Municipio=PATY DO ALFERES <br>Data=%{x}<br>Casos=%{y}<extra></extra>\", \"legendgroup\": \"PATY DO ALFERES \", \"line\": {\"color\": \"#FECB52\", \"dash\": \"solid\"}, \"mode\": \"lines\", \"name\": \"PATY DO ALFERES \", \"showlegend\": true, \"type\": \"scatter\", \"x\": [\"29/03/2020\", \"30/03/2020\", \"31/03/2020\", \"01/04/2020\", \"02/04/2020\", \"03/04/2020\", \"04/04/2020\", \"05/04/2020\", \"06/04/2020\", \"07/04/2020\", \"08/04/2020\", \"09/04/2020\", \"10/04/2020\", \"11/04/2020\"], \"xaxis\": \"x\", \"y\": [0, 0, 1, 0, 0, 0, 0, 0, 0, 0, 0, 0, 0, 0], \"yaxis\": \"y\"}, {\"hovertemplate\": \"Municipio=TRES RIOS <br>Data=%{x}<br>Casos=%{y}<extra></extra>\", \"legendgroup\": \"TRES RIOS \", \"line\": {\"color\": \"#636efa\", \"dash\": \"solid\"}, \"mode\": \"lines\", \"name\": \"TRES RIOS \", \"showlegend\": true, \"type\": \"scatter\", \"x\": [\"29/03/2020\", \"30/03/2020\", \"31/03/2020\", \"01/04/2020\", \"02/04/2020\", \"03/04/2020\", \"04/04/2020\", \"05/04/2020\", \"06/04/2020\", \"07/04/2020\", \"08/04/2020\", \"09/04/2020\", \"10/04/2020\", \"11/04/2020\"], \"xaxis\": \"x\", \"y\": [0, 0, 0, 0, 0, 0, 0, 0, 0, 0, 0, 0, 0, 0], \"yaxis\": \"y\"}, {\"hovertemplate\": \"Municipio=PARACAMBI <br>Data=%{x}<br>Casos=%{y}<extra></extra>\", \"legendgroup\": \"PARACAMBI \", \"line\": {\"color\": \"#EF553B\", \"dash\": \"solid\"}, \"mode\": \"lines\", \"name\": \"PARACAMBI \", \"showlegend\": true, \"type\": \"scatter\", \"x\": [\"29/03/2020\", \"30/03/2020\", \"31/03/2020\", \"01/04/2020\", \"02/04/2020\", \"03/04/2020\", \"04/04/2020\", \"05/04/2020\", \"06/04/2020\", \"07/04/2020\", \"08/04/2020\", \"09/04/2020\", \"10/04/2020\", \"11/04/2020\"], \"xaxis\": \"x\", \"y\": [0, 0, 0, 0, 0, 0, 0, 0, 0, 1, 0, 0, 2, 0], \"yaxis\": \"y\"}, {\"hovertemplate\": \"Municipio=GUAPIMIRIM<br>Data=%{x}<br>Casos=%{y}<extra></extra>\", \"legendgroup\": \"GUAPIMIRIM\", \"line\": {\"color\": \"#00cc96\", \"dash\": \"solid\"}, \"mode\": \"lines\", \"name\": \"GUAPIMIRIM\", \"showlegend\": true, \"type\": \"scatter\", \"x\": [\"29/03/2020\", \"30/03/2020\", \"31/03/2020\", \"01/04/2020\", \"02/04/2020\", \"03/04/2020\", \"04/04/2020\", \"05/04/2020\", \"06/04/2020\", \"07/04/2020\", \"08/04/2020\", \"09/04/2020\", \"10/04/2020\", \"11/04/2020\"], \"xaxis\": \"x\", \"y\": [0, 0, 1, 0, 0, 0, 0, 0, 0, 0, 0, 0, 0, 0], \"yaxis\": \"y\"}, {\"hovertemplate\": \"Municipio=VOLTA REDONDA <br>Data=%{x}<br>Casos=%{y}<extra></extra>\", \"legendgroup\": \"VOLTA REDONDA \", \"line\": {\"color\": \"#ab63fa\", \"dash\": \"solid\"}, \"mode\": \"lines\", \"name\": \"VOLTA REDONDA \", \"showlegend\": true, \"type\": \"scatter\", \"x\": [\"29/03/2020\", \"30/03/2020\", \"31/03/2020\", \"01/04/2020\", \"02/04/2020\", \"03/04/2020\", \"04/04/2020\", \"05/04/2020\", \"06/04/2020\", \"07/04/2020\", \"08/04/2020\", \"09/04/2020\", \"10/04/2020\", \"11/04/2020\"], \"xaxis\": \"x\", \"y\": [4, 2, 5, 5, 4, 10, 2, 0, 5, 11, 5, 0, 1, 1], \"yaxis\": \"y\"}, {\"hovertemplate\": \"Municipio=PARATY<br>Data=%{x}<br>Casos=%{y}<extra></extra>\", \"legendgroup\": \"PARATY\", \"line\": {\"color\": \"#FFA15A\", \"dash\": \"solid\"}, \"mode\": \"lines\", \"name\": \"PARATY\", \"showlegend\": true, \"type\": \"scatter\", \"x\": [\"29/03/2020\", \"30/03/2020\", \"31/03/2020\", \"01/04/2020\", \"02/04/2020\", \"03/04/2020\", \"04/04/2020\", \"05/04/2020\", \"06/04/2020\", \"07/04/2020\", \"08/04/2020\", \"09/04/2020\", \"10/04/2020\", \"11/04/2020\"], \"xaxis\": \"x\", \"y\": [0, 0, 0, 0, 0, 1, 0, 0, 0, 0, 0, 1, 1, 0], \"yaxis\": \"y\"}, {\"hovertemplate\": \"Municipio=MAGE<br>Data=%{x}<br>Casos=%{y}<extra></extra>\", \"legendgroup\": \"MAGE\", \"line\": {\"color\": \"#19d3f3\", \"dash\": \"solid\"}, \"mode\": \"lines\", \"name\": \"MAGE\", \"showlegend\": true, \"type\": \"scatter\", \"x\": [\"29/03/2020\", \"30/03/2020\", \"31/03/2020\", \"01/04/2020\", \"02/04/2020\", \"03/04/2020\", \"04/04/2020\", \"05/04/2020\", \"06/04/2020\", \"07/04/2020\", \"08/04/2020\", \"09/04/2020\", \"10/04/2020\", \"11/04/2020\"], \"xaxis\": \"x\", \"y\": [1, 2, 2, 1, 1, 3, 0, 0, 3, 6, 3, 3, 0, 1], \"yaxis\": \"y\"}, {\"hovertemplate\": \"Municipio=PARAIBA DO SUL<br>Data=%{x}<br>Casos=%{y}<extra></extra>\", \"legendgroup\": \"PARAIBA DO SUL\", \"line\": {\"color\": \"#FF6692\", \"dash\": \"solid\"}, \"mode\": \"lines\", \"name\": \"PARAIBA DO SUL\", \"showlegend\": true, \"type\": \"scatter\", \"x\": [\"29/03/2020\", \"30/03/2020\", \"31/03/2020\", \"01/04/2020\", \"02/04/2020\", \"03/04/2020\", \"04/04/2020\", \"05/04/2020\", \"06/04/2020\", \"07/04/2020\", \"08/04/2020\", \"09/04/2020\", \"10/04/2020\", \"11/04/2020\"], \"xaxis\": \"x\", \"y\": [0, 1, 0, 0, 0, 0, 0, 0, 0, 0, 0, 0, 0, 0], \"yaxis\": \"y\"}, {\"hovertemplate\": \"Municipio=TANGUA <br>Data=%{x}<br>Casos=%{y}<extra></extra>\", \"legendgroup\": \"TANGUA \", \"line\": {\"color\": \"#B6E880\", \"dash\": \"solid\"}, \"mode\": \"lines\", \"name\": \"TANGUA \", \"showlegend\": true, \"type\": \"scatter\", \"x\": [\"29/03/2020\", \"30/03/2020\", \"31/03/2020\", \"01/04/2020\", \"02/04/2020\", \"03/04/2020\", \"04/04/2020\", \"05/04/2020\", \"06/04/2020\", \"07/04/2020\", \"08/04/2020\", \"09/04/2020\", \"10/04/2020\", \"11/04/2020\"], \"xaxis\": \"x\", \"y\": [0, 0, 0, 1, 0, 0, 0, 0, 0, 0, 0, 0, 0, 0], \"yaxis\": \"y\"}, {\"hovertemplate\": \"Municipio=NITEROI<br>Data=%{x}<br>Casos=%{y}<extra></extra>\", \"legendgroup\": \"NITEROI\", \"line\": {\"color\": \"#FF97FF\", \"dash\": \"solid\"}, \"mode\": \"lines\", \"name\": \"NITEROI\", \"showlegend\": true, \"type\": \"scatter\", \"x\": [\"29/03/2020\", \"30/03/2020\", \"31/03/2020\", \"01/04/2020\", \"02/04/2020\", \"03/04/2020\", \"04/04/2020\", \"05/04/2020\", \"06/04/2020\", \"07/04/2020\", \"08/04/2020\", \"09/04/2020\", \"10/04/2020\", \"11/04/2020\"], \"xaxis\": \"x\", \"y\": [3, 8, 7, 2, 2, 5, 1, 0, 7, 3, 0, 11, 0, 3], \"yaxis\": \"y\"}, {\"hovertemplate\": \"Municipio=BOM JESUS DO ITABAPOANA<br>Data=%{x}<br>Casos=%{y}<extra></extra>\", \"legendgroup\": \"BOM JESUS DO ITABAPOANA\", \"line\": {\"color\": \"#FECB52\", \"dash\": \"solid\"}, \"mode\": \"lines\", \"name\": \"BOM JESUS DO ITABAPOANA\", \"showlegend\": true, \"type\": \"scatter\", \"x\": [\"29/03/2020\", \"30/03/2020\", \"31/03/2020\", \"01/04/2020\", \"02/04/2020\", \"03/04/2020\", \"04/04/2020\", \"05/04/2020\", \"06/04/2020\", \"07/04/2020\", \"08/04/2020\", \"09/04/2020\", \"10/04/2020\", \"11/04/2020\"], \"xaxis\": \"x\", \"y\": [0, 1, 0, 0, 0, 0, 0, 0, 2, 0, 1, 0, 1, 0], \"yaxis\": \"y\"}, {\"hovertemplate\": \"Municipio=QUISSAMA<br>Data=%{x}<br>Casos=%{y}<extra></extra>\", \"legendgroup\": \"QUISSAMA\", \"line\": {\"color\": \"#636efa\", \"dash\": \"solid\"}, \"mode\": \"lines\", \"name\": \"QUISSAMA\", \"showlegend\": true, \"type\": \"scatter\", \"x\": [\"29/03/2020\", \"30/03/2020\", \"31/03/2020\", \"01/04/2020\", \"02/04/2020\", \"03/04/2020\", \"04/04/2020\", \"05/04/2020\", \"06/04/2020\", \"07/04/2020\", \"08/04/2020\", \"09/04/2020\", \"10/04/2020\", \"11/04/2020\"], \"xaxis\": \"x\", \"y\": [0, 0, 0, 0, 0, 0, 0, 0, 0, 0, 0, 0, 0, 0], \"yaxis\": \"y\"}, {\"hovertemplate\": \"Municipio=SAO JOAO DE MERITI<br>Data=%{x}<br>Casos=%{y}<extra></extra>\", \"legendgroup\": \"SAO JOAO DE MERITI\", \"line\": {\"color\": \"#EF553B\", \"dash\": \"solid\"}, \"mode\": \"lines\", \"name\": \"SAO JOAO DE MERITI\", \"showlegend\": true, \"type\": \"scatter\", \"x\": [\"29/03/2020\", \"30/03/2020\", \"31/03/2020\", \"01/04/2020\", \"02/04/2020\", \"03/04/2020\", \"04/04/2020\", \"05/04/2020\", \"06/04/2020\", \"07/04/2020\", \"08/04/2020\", \"09/04/2020\", \"10/04/2020\", \"11/04/2020\"], \"xaxis\": \"x\", \"y\": [0, 2, 3, 3, 6, 9, 1, 2, 6, 10, 10, 7, 2, 1], \"yaxis\": \"y\"}, {\"hovertemplate\": \"Municipio=MACAE<br>Data=%{x}<br>Casos=%{y}<extra></extra>\", \"legendgroup\": \"MACAE\", \"line\": {\"color\": \"#00cc96\", \"dash\": \"solid\"}, \"mode\": \"lines\", \"name\": \"MACAE\", \"showlegend\": true, \"type\": \"scatter\", \"x\": [\"29/03/2020\", \"30/03/2020\", \"31/03/2020\", \"01/04/2020\", \"02/04/2020\", \"03/04/2020\", \"04/04/2020\", \"05/04/2020\", \"06/04/2020\", \"07/04/2020\", \"08/04/2020\", \"09/04/2020\", \"10/04/2020\", \"11/04/2020\"], \"xaxis\": \"x\", \"y\": [1, 0, 0, 0, 0, 0, 0, 0, 0, 0, 0, 1, 0, 0], \"yaxis\": \"y\"}, {\"hovertemplate\": \"Municipio=PIRAI<br>Data=%{x}<br>Casos=%{y}<extra></extra>\", \"legendgroup\": \"PIRAI\", \"line\": {\"color\": \"#ab63fa\", \"dash\": \"solid\"}, \"mode\": \"lines\", \"name\": \"PIRAI\", \"showlegend\": true, \"type\": \"scatter\", \"x\": [\"29/03/2020\", \"30/03/2020\", \"31/03/2020\", \"01/04/2020\", \"02/04/2020\", \"03/04/2020\", \"04/04/2020\", \"05/04/2020\", \"06/04/2020\", \"07/04/2020\", \"08/04/2020\", \"09/04/2020\", \"10/04/2020\", \"11/04/2020\"], \"xaxis\": \"x\", \"y\": [0, 0, 0, 0, 1, 1, 0, 0, 0, 0, 0, 0, 0, 0], \"yaxis\": \"y\"}, {\"hovertemplate\": \"Municipio=RESENDE<br>Data=%{x}<br>Casos=%{y}<extra></extra>\", \"legendgroup\": \"RESENDE\", \"line\": {\"color\": \"#FFA15A\", \"dash\": \"solid\"}, \"mode\": \"lines\", \"name\": \"RESENDE\", \"showlegend\": true, \"type\": \"scatter\", \"x\": [\"29/03/2020\", \"30/03/2020\", \"31/03/2020\", \"01/04/2020\", \"02/04/2020\", \"03/04/2020\", \"04/04/2020\", \"05/04/2020\", \"06/04/2020\", \"07/04/2020\", \"08/04/2020\", \"09/04/2020\", \"10/04/2020\", \"11/04/2020\"], \"xaxis\": \"x\", \"y\": [0, 1, 1, 0, 0, 0, 0, 2, 0, 0, 0, 0, 0, 0], \"yaxis\": \"y\"}, {\"hovertemplate\": \"Municipio=SAPUCAIA<br>Data=%{x}<br>Casos=%{y}<extra></extra>\", \"legendgroup\": \"SAPUCAIA\", \"line\": {\"color\": \"#19d3f3\", \"dash\": \"solid\"}, \"mode\": \"lines\", \"name\": \"SAPUCAIA\", \"showlegend\": true, \"type\": \"scatter\", \"x\": [\"29/03/2020\", \"30/03/2020\", \"31/03/2020\", \"01/04/2020\", \"02/04/2020\", \"03/04/2020\", \"04/04/2020\", \"05/04/2020\", \"06/04/2020\", \"07/04/2020\", \"08/04/2020\", \"09/04/2020\", \"10/04/2020\", \"11/04/2020\"], \"xaxis\": \"x\", \"y\": [1, 0, 0, 0, 0, 0, 0, 0, 0, 0, 0, 0, 1, 0], \"yaxis\": \"y\"}, {\"hovertemplate\": \"Municipio=ANGRA DOS REIS<br>Data=%{x}<br>Casos=%{y}<extra></extra>\", \"legendgroup\": \"ANGRA DOS REIS\", \"line\": {\"color\": \"#FF6692\", \"dash\": \"solid\"}, \"mode\": \"lines\", \"name\": \"ANGRA DOS REIS\", \"showlegend\": true, \"type\": \"scatter\", \"x\": [\"29/03/2020\", \"30/03/2020\", \"31/03/2020\", \"01/04/2020\", \"02/04/2020\", \"03/04/2020\", \"04/04/2020\", \"05/04/2020\", \"06/04/2020\", \"07/04/2020\", \"08/04/2020\", \"09/04/2020\", \"10/04/2020\", \"11/04/2020\"], \"xaxis\": \"x\", \"y\": [0, 0, 1, 0, 0, 1, 0, 0, 3, 0, 0, 1, 0, 0], \"yaxis\": \"y\"}, {\"hovertemplate\": \"Municipio=SUMIDOURO<br>Data=%{x}<br>Casos=%{y}<extra></extra>\", \"legendgroup\": \"SUMIDOURO\", \"line\": {\"color\": \"#B6E880\", \"dash\": \"solid\"}, \"mode\": \"lines\", \"name\": \"SUMIDOURO\", \"showlegend\": true, \"type\": \"scatter\", \"x\": [\"29/03/2020\", \"30/03/2020\", \"31/03/2020\", \"01/04/2020\", \"02/04/2020\", \"03/04/2020\", \"04/04/2020\", \"05/04/2020\", \"06/04/2020\", \"07/04/2020\", \"08/04/2020\", \"09/04/2020\", \"10/04/2020\", \"11/04/2020\"], \"xaxis\": \"x\", \"y\": [0, 0, 0, 0, 0, 1, 0, 0, 0, 0, 0, 0, 0, 0], \"yaxis\": \"y\"}, {\"hovertemplate\": \"Municipio=ARRAIAL DO CABO<br>Data=%{x}<br>Casos=%{y}<extra></extra>\", \"legendgroup\": \"ARRAIAL DO CABO\", \"line\": {\"color\": \"#FF97FF\", \"dash\": \"solid\"}, \"mode\": \"lines\", \"name\": \"ARRAIAL DO CABO\", \"showlegend\": true, \"type\": \"scatter\", \"x\": [\"29/03/2020\", \"30/03/2020\", \"31/03/2020\", \"01/04/2020\", \"02/04/2020\", \"03/04/2020\", \"04/04/2020\", \"05/04/2020\", \"06/04/2020\", \"07/04/2020\", \"08/04/2020\", \"09/04/2020\", \"10/04/2020\", \"11/04/2020\"], \"xaxis\": \"x\", \"y\": [0, 0, 0, 0, 0, 0, 1, 0, 0, 0, 1, 0, 0, 0], \"yaxis\": \"y\"}, {\"hovertemplate\": \"Municipio=MESQUITA<br>Data=%{x}<br>Casos=%{y}<extra></extra>\", \"legendgroup\": \"MESQUITA\", \"line\": {\"color\": \"#FECB52\", \"dash\": \"solid\"}, \"mode\": \"lines\", \"name\": \"MESQUITA\", \"showlegend\": true, \"type\": \"scatter\", \"x\": [\"29/03/2020\", \"30/03/2020\", \"31/03/2020\", \"01/04/2020\", \"02/04/2020\", \"03/04/2020\", \"04/04/2020\", \"05/04/2020\", \"06/04/2020\", \"07/04/2020\", \"08/04/2020\", \"09/04/2020\", \"10/04/2020\", \"11/04/2020\"], \"xaxis\": \"x\", \"y\": [0, 3, 4, 2, 2, 4, 0, 1, 9, 4, 7, 4, 8, 1], \"yaxis\": \"y\"}, {\"hovertemplate\": \"Municipio=ITAPERUNA<br>Data=%{x}<br>Casos=%{y}<extra></extra>\", \"legendgroup\": \"ITAPERUNA\", \"line\": {\"color\": \"#636efa\", \"dash\": \"solid\"}, \"mode\": \"lines\", \"name\": \"ITAPERUNA\", \"showlegend\": true, \"type\": \"scatter\", \"x\": [\"29/03/2020\", \"30/03/2020\", \"31/03/2020\", \"01/04/2020\", \"02/04/2020\", \"03/04/2020\", \"04/04/2020\", \"05/04/2020\", \"06/04/2020\", \"07/04/2020\", \"08/04/2020\", \"09/04/2020\", \"10/04/2020\", \"11/04/2020\"], \"xaxis\": \"x\", \"y\": [0, 0, 1, 2, 0, 0, 0, 0, 0, 0, 0, 0, 0, 0], \"yaxis\": \"y\"}, {\"hovertemplate\": \"Municipio=CASIMIRO DE ABREU <br>Data=%{x}<br>Casos=%{y}<extra></extra>\", \"legendgroup\": \"CASIMIRO DE ABREU \", \"line\": {\"color\": \"#EF553B\", \"dash\": \"solid\"}, \"mode\": \"lines\", \"name\": \"CASIMIRO DE ABREU \", \"showlegend\": true, \"type\": \"scatter\", \"x\": [\"29/03/2020\", \"30/03/2020\", \"31/03/2020\", \"01/04/2020\", \"02/04/2020\", \"03/04/2020\", \"04/04/2020\", \"05/04/2020\", \"06/04/2020\", \"07/04/2020\", \"08/04/2020\", \"09/04/2020\", \"10/04/2020\", \"11/04/2020\"], \"xaxis\": \"x\", \"y\": [0, 0, 0, 0, 0, 0, 0, 0, 0, 0, 0, 0, 0, 0], \"yaxis\": \"y\"}, {\"hovertemplate\": \"Municipio=ARARUAMA <br>Data=%{x}<br>Casos=%{y}<extra></extra>\", \"legendgroup\": \"ARARUAMA \", \"line\": {\"color\": \"#00cc96\", \"dash\": \"solid\"}, \"mode\": \"lines\", \"name\": \"ARARUAMA \", \"showlegend\": true, \"type\": \"scatter\", \"x\": [\"29/03/2020\", \"30/03/2020\", \"31/03/2020\", \"01/04/2020\", \"02/04/2020\", \"03/04/2020\", \"04/04/2020\", \"05/04/2020\", \"06/04/2020\", \"07/04/2020\", \"08/04/2020\", \"09/04/2020\", \"10/04/2020\", \"11/04/2020\"], \"xaxis\": \"x\", \"y\": [0, 1, 0, 0, 0, 1, 0, 1, 0, 0, 0, 0, 0, 0], \"yaxis\": \"y\"}, {\"hovertemplate\": \"Municipio=SEROPEDICA<br>Data=%{x}<br>Casos=%{y}<extra></extra>\", \"legendgroup\": \"SEROPEDICA\", \"line\": {\"color\": \"#ab63fa\", \"dash\": \"solid\"}, \"mode\": \"lines\", \"name\": \"SEROPEDICA\", \"showlegend\": true, \"type\": \"scatter\", \"x\": [\"29/03/2020\", \"30/03/2020\", \"31/03/2020\", \"01/04/2020\", \"02/04/2020\", \"03/04/2020\", \"04/04/2020\", \"05/04/2020\", \"06/04/2020\", \"07/04/2020\", \"08/04/2020\", \"09/04/2020\", \"10/04/2020\", \"11/04/2020\"], \"xaxis\": \"x\", \"y\": [0, 1, 0, 0, 2, 0, 0, 0, 0, 0, 0, 0, 0, 0], \"yaxis\": \"y\"}, {\"hovertemplate\": \"Municipio=ARMACAO DOS BUZIOS<br>Data=%{x}<br>Casos=%{y}<extra></extra>\", \"legendgroup\": \"ARMACAO DOS BUZIOS\", \"line\": {\"color\": \"#FFA15A\", \"dash\": \"solid\"}, \"mode\": \"lines\", \"name\": \"ARMACAO DOS BUZIOS\", \"showlegend\": true, \"type\": \"scatter\", \"x\": [\"29/03/2020\", \"30/03/2020\", \"31/03/2020\", \"01/04/2020\", \"02/04/2020\", \"03/04/2020\", \"04/04/2020\", \"05/04/2020\", \"06/04/2020\", \"07/04/2020\", \"08/04/2020\", \"09/04/2020\", \"10/04/2020\", \"11/04/2020\"], \"xaxis\": \"x\", \"y\": [0, 0, 0, 0, 0, 0, 0, 0, 0, 0, 1, 0, 0, 0], \"yaxis\": \"y\"}, {\"hovertemplate\": \"Municipio=TRES RIOS<br>Data=%{x}<br>Casos=%{y}<extra></extra>\", \"legendgroup\": \"TRES RIOS\", \"line\": {\"color\": \"#19d3f3\", \"dash\": \"solid\"}, \"mode\": \"lines\", \"name\": \"TRES RIOS\", \"showlegend\": true, \"type\": \"scatter\", \"x\": [\"29/03/2020\", \"30/03/2020\", \"31/03/2020\", \"01/04/2020\", \"02/04/2020\", \"03/04/2020\", \"04/04/2020\", \"05/04/2020\", \"06/04/2020\", \"07/04/2020\", \"08/04/2020\", \"09/04/2020\", \"10/04/2020\", \"11/04/2020\"], \"xaxis\": \"x\", \"y\": [0, 0, 0, 0, 0, 1, 0, 0, 0, 0, 1, 0, 0, 0], \"yaxis\": \"y\"}, {\"hovertemplate\": \"Municipio=RIO DE JANEIRO<br>Data=%{x}<br>Casos=%{y}<extra></extra>\", \"legendgroup\": \"RIO DE JANEIRO\", \"line\": {\"color\": \"#FF6692\", \"dash\": \"solid\"}, \"mode\": \"lines\", \"name\": \"RIO DE JANEIRO\", \"showlegend\": true, \"type\": \"scatter\", \"x\": [\"29/03/2020\", \"30/03/2020\", \"31/03/2020\", \"01/04/2020\", \"02/04/2020\", \"03/04/2020\", \"04/04/2020\", \"05/04/2020\", \"06/04/2020\", \"07/04/2020\", \"08/04/2020\", \"09/04/2020\", \"10/04/2020\", \"11/04/2020\"], \"xaxis\": \"x\", \"y\": [30, 141, 76, 27, 118, 167, 53, 19, 198, 194, 100, 72, 236, 173], \"yaxis\": \"y\"}, {\"hovertemplate\": \"Municipio=CACHOEIRAS DE MACACU<br>Data=%{x}<br>Casos=%{y}<extra></extra>\", \"legendgroup\": \"CACHOEIRAS DE MACACU\", \"line\": {\"color\": \"#B6E880\", \"dash\": \"solid\"}, \"mode\": \"lines\", \"name\": \"CACHOEIRAS DE MACACU\", \"showlegend\": true, \"type\": \"scatter\", \"x\": [\"29/03/2020\", \"30/03/2020\", \"31/03/2020\", \"01/04/2020\", \"02/04/2020\", \"03/04/2020\", \"04/04/2020\", \"05/04/2020\", \"06/04/2020\", \"07/04/2020\", \"08/04/2020\", \"09/04/2020\", \"10/04/2020\", \"11/04/2020\"], \"xaxis\": \"x\", \"y\": [0, 0, 0, 0, 1, 0, 0, 0, 0, 1, 1, 0, 0, 0], \"yaxis\": \"y\"}, {\"hovertemplate\": \"Municipio=PARACAMBI<br>Data=%{x}<br>Casos=%{y}<extra></extra>\", \"legendgroup\": \"PARACAMBI\", \"line\": {\"color\": \"#FF97FF\", \"dash\": \"solid\"}, \"mode\": \"lines\", \"name\": \"PARACAMBI\", \"showlegend\": true, \"type\": \"scatter\", \"x\": [\"29/03/2020\", \"30/03/2020\", \"31/03/2020\", \"01/04/2020\", \"02/04/2020\", \"03/04/2020\", \"04/04/2020\", \"05/04/2020\", \"06/04/2020\", \"07/04/2020\", \"08/04/2020\", \"09/04/2020\", \"10/04/2020\", \"11/04/2020\"], \"xaxis\": \"x\", \"y\": [0, 0, 0, 1, 0, 0, 0, 0, 0, 1, 1, 0, 0, 0], \"yaxis\": \"y\"}, {\"hovertemplate\": \"Municipio=CABO FRIO<br>Data=%{x}<br>Casos=%{y}<extra></extra>\", \"legendgroup\": \"CABO FRIO\", \"line\": {\"color\": \"#FECB52\", \"dash\": \"solid\"}, \"mode\": \"lines\", \"name\": \"CABO FRIO\", \"showlegend\": true, \"type\": \"scatter\", \"x\": [\"29/03/2020\", \"30/03/2020\", \"31/03/2020\", \"01/04/2020\", \"02/04/2020\", \"03/04/2020\", \"04/04/2020\", \"05/04/2020\", \"06/04/2020\", \"07/04/2020\", \"08/04/2020\", \"09/04/2020\", \"10/04/2020\", \"11/04/2020\"], \"xaxis\": \"x\", \"y\": [0, 1, 1, 1, 0, 0, 0, 0, 1, 2, 0, 1, 0, 0], \"yaxis\": \"y\"}, {\"hovertemplate\": \"Municipio=MENDES<br>Data=%{x}<br>Casos=%{y}<extra></extra>\", \"legendgroup\": \"MENDES\", \"line\": {\"color\": \"#636efa\", \"dash\": \"solid\"}, \"mode\": \"lines\", \"name\": \"MENDES\", \"showlegend\": true, \"type\": \"scatter\", \"x\": [\"29/03/2020\", \"30/03/2020\", \"31/03/2020\", \"01/04/2020\", \"02/04/2020\", \"03/04/2020\", \"04/04/2020\", \"05/04/2020\", \"06/04/2020\", \"07/04/2020\", \"08/04/2020\", \"09/04/2020\", \"10/04/2020\", \"11/04/2020\"], \"xaxis\": \"x\", \"y\": [0, 0, 0, 0, 0, 0, 0, 0, 0, 0, 0, 1, 0, 0], \"yaxis\": \"y\"}, {\"hovertemplate\": \"Municipio=CAMPOS DOS GOYTACAZES<br>Data=%{x}<br>Casos=%{y}<extra></extra>\", \"legendgroup\": \"CAMPOS DOS GOYTACAZES\", \"line\": {\"color\": \"#EF553B\", \"dash\": \"solid\"}, \"mode\": \"lines\", \"name\": \"CAMPOS DOS GOYTACAZES\", \"showlegend\": true, \"type\": \"scatter\", \"x\": [\"29/03/2020\", \"30/03/2020\", \"31/03/2020\", \"01/04/2020\", \"02/04/2020\", \"03/04/2020\", \"04/04/2020\", \"05/04/2020\", \"06/04/2020\", \"07/04/2020\", \"08/04/2020\", \"09/04/2020\", \"10/04/2020\", \"11/04/2020\"], \"xaxis\": \"x\", \"y\": [0, 1, 0, 0, 1, 0, 0, 0, 0, 0, 0, 1, 0, 0], \"yaxis\": \"y\"}, {\"hovertemplate\": \"Municipio=BARRA DO PIRAI<br>Data=%{x}<br>Casos=%{y}<extra></extra>\", \"legendgroup\": \"BARRA DO PIRAI\", \"line\": {\"color\": \"#00cc96\", \"dash\": \"solid\"}, \"mode\": \"lines\", \"name\": \"BARRA DO PIRAI\", \"showlegend\": true, \"type\": \"scatter\", \"x\": [\"29/03/2020\", \"30/03/2020\", \"31/03/2020\", \"01/04/2020\", \"02/04/2020\", \"03/04/2020\", \"04/04/2020\", \"05/04/2020\", \"06/04/2020\", \"07/04/2020\", \"08/04/2020\", \"09/04/2020\", \"10/04/2020\", \"11/04/2020\"], \"xaxis\": \"x\", \"y\": [0, 2, 0, 0, 0, 0, 1, 2, 0, 0, 2, 0, 1, 0], \"yaxis\": \"y\"}, {\"hovertemplate\": \"Municipio=IGN<br>Data=%{x}<br>Casos=%{y}<extra></extra>\", \"legendgroup\": \"IGN\", \"line\": {\"color\": \"#ab63fa\", \"dash\": \"solid\"}, \"mode\": \"lines\", \"name\": \"IGN\", \"showlegend\": true, \"type\": \"scatter\", \"x\": [\"29/03/2020\", \"30/03/2020\", \"31/03/2020\", \"01/04/2020\", \"02/04/2020\", \"03/04/2020\", \"04/04/2020\", \"05/04/2020\", \"06/04/2020\", \"07/04/2020\", \"08/04/2020\", \"09/04/2020\", \"10/04/2020\", \"11/04/2020\"], \"xaxis\": \"x\", \"y\": [0, 0, 0, 0, 0, 0, 0, 0, 0, 0, 0, 0, 0, 0], \"yaxis\": \"y\"}, {\"hovertemplate\": \"Municipio=DUQUE DE CAXIAS<br>Data=%{x}<br>Casos=%{y}<extra></extra>\", \"legendgroup\": \"DUQUE DE CAXIAS\", \"line\": {\"color\": \"#FFA15A\", \"dash\": \"solid\"}, \"mode\": \"lines\", \"name\": \"DUQUE DE CAXIAS\", \"showlegend\": true, \"type\": \"scatter\", \"x\": [\"29/03/2020\", \"30/03/2020\", \"31/03/2020\", \"01/04/2020\", \"02/04/2020\", \"03/04/2020\", \"04/04/2020\", \"05/04/2020\", \"06/04/2020\", \"07/04/2020\", \"08/04/2020\", \"09/04/2020\", \"10/04/2020\", \"11/04/2020\"], \"xaxis\": \"x\", \"y\": [4, 4, 6, 4, 7, 6, 1, 3, 14, 13, 18, 9, 7, 4], \"yaxis\": \"y\"}, {\"hovertemplate\": \"Municipio=NOVA FRIBURGO<br>Data=%{x}<br>Casos=%{y}<extra></extra>\", \"legendgroup\": \"NOVA FRIBURGO\", \"line\": {\"color\": \"#19d3f3\", \"dash\": \"solid\"}, \"mode\": \"lines\", \"name\": \"NOVA FRIBURGO\", \"showlegend\": true, \"type\": \"scatter\", \"x\": [\"29/03/2020\", \"30/03/2020\", \"31/03/2020\", \"01/04/2020\", \"02/04/2020\", \"03/04/2020\", \"04/04/2020\", \"05/04/2020\", \"06/04/2020\", \"07/04/2020\", \"08/04/2020\", \"09/04/2020\", \"10/04/2020\", \"11/04/2020\"], \"xaxis\": \"x\", \"y\": [1, 2, 0, 2, 0, 2, 2, 1, 0, 1, 1, 1, 1, 1], \"yaxis\": \"y\"}, {\"hovertemplate\": \"Municipio=QUATIS<br>Data=%{x}<br>Casos=%{y}<extra></extra>\", \"legendgroup\": \"QUATIS\", \"line\": {\"color\": \"#FF6692\", \"dash\": \"solid\"}, \"mode\": \"lines\", \"name\": \"QUATIS\", \"showlegend\": true, \"type\": \"scatter\", \"x\": [\"29/03/2020\", \"30/03/2020\", \"31/03/2020\", \"01/04/2020\", \"02/04/2020\", \"03/04/2020\", \"04/04/2020\", \"05/04/2020\", \"06/04/2020\", \"07/04/2020\", \"08/04/2020\", \"09/04/2020\", \"10/04/2020\", \"11/04/2020\"], \"xaxis\": \"x\", \"y\": [0, 2, 0, 0, 0, 0, 0, 0, 0, 0, 0, 0, 0, 0], \"yaxis\": \"y\"}, {\"hovertemplate\": \"Municipio=SAQUAREMA<br>Data=%{x}<br>Casos=%{y}<extra></extra>\", \"legendgroup\": \"SAQUAREMA\", \"line\": {\"color\": \"#B6E880\", \"dash\": \"solid\"}, \"mode\": \"lines\", \"name\": \"SAQUAREMA\", \"showlegend\": true, \"type\": \"scatter\", \"x\": [\"29/03/2020\", \"30/03/2020\", \"31/03/2020\", \"01/04/2020\", \"02/04/2020\", \"03/04/2020\", \"04/04/2020\", \"05/04/2020\", \"06/04/2020\", \"07/04/2020\", \"08/04/2020\", \"09/04/2020\", \"10/04/2020\", \"11/04/2020\"], \"xaxis\": \"x\", \"y\": [0, 0, 0, 0, 0, 0, 0, 0, 0, 2, 0, 0, 0, 0], \"yaxis\": \"y\"}, {\"hovertemplate\": \"Municipio=SILVA JARDIM<br>Data=%{x}<br>Casos=%{y}<extra></extra>\", \"legendgroup\": \"SILVA JARDIM\", \"line\": {\"color\": \"#FF97FF\", \"dash\": \"solid\"}, \"mode\": \"lines\", \"name\": \"SILVA JARDIM\", \"showlegend\": true, \"type\": \"scatter\", \"x\": [\"29/03/2020\", \"30/03/2020\", \"31/03/2020\", \"01/04/2020\", \"02/04/2020\", \"03/04/2020\", \"04/04/2020\", \"05/04/2020\", \"06/04/2020\", \"07/04/2020\", \"08/04/2020\", \"09/04/2020\", \"10/04/2020\", \"11/04/2020\"], \"xaxis\": \"x\", \"y\": [0, 0, 0, 0, 0, 0, 0, 0, 0, 0, 0, 0, 1, 0], \"yaxis\": \"y\"}, {\"hovertemplate\": \"Municipio=SAO GONCALO<br>Data=%{x}<br>Casos=%{y}<extra></extra>\", \"legendgroup\": \"SAO GONCALO\", \"line\": {\"color\": \"#FECB52\", \"dash\": \"solid\"}, \"mode\": \"lines\", \"name\": \"SAO GONCALO\", \"showlegend\": true, \"type\": \"scatter\", \"x\": [\"29/03/2020\", \"30/03/2020\", \"31/03/2020\", \"01/04/2020\", \"02/04/2020\", \"03/04/2020\", \"04/04/2020\", \"05/04/2020\", \"06/04/2020\", \"07/04/2020\", \"08/04/2020\", \"09/04/2020\", \"10/04/2020\", \"11/04/2020\"], \"xaxis\": \"x\", \"y\": [1, 4, 11, 2, 7, 3, 3, 2, 13, 4, 5, 0, 1, 0], \"yaxis\": \"y\"}, {\"hovertemplate\": \"Municipio=TERESOPOLIS<br>Data=%{x}<br>Casos=%{y}<extra></extra>\", \"legendgroup\": \"TERESOPOLIS\", \"line\": {\"color\": \"#636efa\", \"dash\": \"solid\"}, \"mode\": \"lines\", \"name\": \"TERESOPOLIS\", \"showlegend\": true, \"type\": \"scatter\", \"x\": [\"29/03/2020\", \"30/03/2020\", \"31/03/2020\", \"01/04/2020\", \"02/04/2020\", \"03/04/2020\", \"04/04/2020\", \"05/04/2020\", \"06/04/2020\", \"07/04/2020\", \"08/04/2020\", \"09/04/2020\", \"10/04/2020\", \"11/04/2020\"], \"xaxis\": \"x\", \"y\": [0, 1, 0, 1, 0, 1, 0, 0, 1, 2, 2, 0, 0, 0], \"yaxis\": \"y\"}, {\"hovertemplate\": \"Municipio=SAO JOAO DA BARRA<br>Data=%{x}<br>Casos=%{y}<extra></extra>\", \"legendgroup\": \"SAO JOAO DA BARRA\", \"line\": {\"color\": \"#EF553B\", \"dash\": \"solid\"}, \"mode\": \"lines\", \"name\": \"SAO JOAO DA BARRA\", \"showlegend\": true, \"type\": \"scatter\", \"x\": [\"29/03/2020\", \"30/03/2020\", \"31/03/2020\", \"01/04/2020\", \"02/04/2020\", \"03/04/2020\", \"04/04/2020\", \"05/04/2020\", \"06/04/2020\", \"07/04/2020\", \"08/04/2020\", \"09/04/2020\", \"10/04/2020\", \"11/04/2020\"], \"xaxis\": \"x\", \"y\": [0, 0, 1, 0, 0, 0, 0, 0, 0, 0, 0, 0, 0, 0], \"yaxis\": \"y\"}, {\"hovertemplate\": \"Municipio=RIO BONITO<br>Data=%{x}<br>Casos=%{y}<extra></extra>\", \"legendgroup\": \"RIO BONITO\", \"line\": {\"color\": \"#00cc96\", \"dash\": \"solid\"}, \"mode\": \"lines\", \"name\": \"RIO BONITO\", \"showlegend\": true, \"type\": \"scatter\", \"x\": [\"29/03/2020\", \"30/03/2020\", \"31/03/2020\", \"01/04/2020\", \"02/04/2020\", \"03/04/2020\", \"04/04/2020\", \"05/04/2020\", \"06/04/2020\", \"07/04/2020\", \"08/04/2020\", \"09/04/2020\", \"10/04/2020\", \"11/04/2020\"], \"xaxis\": \"x\", \"y\": [0, 1, 1, 0, 0, 0, 0, 1, 0, 0, 0, 0, 0, 0], \"yaxis\": \"y\"}],\n",
       "                        {\"legend\": {\"title\": {\"text\": \"Municipio\"}, \"tracegroupgap\": 0}, \"margin\": {\"t\": 60}, \"template\": {\"data\": {\"bar\": [{\"error_x\": {\"color\": \"#2a3f5f\"}, \"error_y\": {\"color\": \"#2a3f5f\"}, \"marker\": {\"line\": {\"color\": \"#E5ECF6\", \"width\": 0.5}}, \"type\": \"bar\"}], \"barpolar\": [{\"marker\": {\"line\": {\"color\": \"#E5ECF6\", \"width\": 0.5}}, \"type\": \"barpolar\"}], \"carpet\": [{\"aaxis\": {\"endlinecolor\": \"#2a3f5f\", \"gridcolor\": \"white\", \"linecolor\": \"white\", \"minorgridcolor\": \"white\", \"startlinecolor\": \"#2a3f5f\"}, \"baxis\": {\"endlinecolor\": \"#2a3f5f\", \"gridcolor\": \"white\", \"linecolor\": \"white\", \"minorgridcolor\": \"white\", \"startlinecolor\": \"#2a3f5f\"}, \"type\": \"carpet\"}], \"choropleth\": [{\"colorbar\": {\"outlinewidth\": 0, \"ticks\": \"\"}, \"type\": \"choropleth\"}], \"contour\": [{\"colorbar\": {\"outlinewidth\": 0, \"ticks\": \"\"}, \"colorscale\": [[0.0, \"#0d0887\"], [0.1111111111111111, \"#46039f\"], [0.2222222222222222, \"#7201a8\"], [0.3333333333333333, \"#9c179e\"], [0.4444444444444444, \"#bd3786\"], [0.5555555555555556, \"#d8576b\"], [0.6666666666666666, \"#ed7953\"], [0.7777777777777778, \"#fb9f3a\"], [0.8888888888888888, \"#fdca26\"], [1.0, \"#f0f921\"]], \"type\": \"contour\"}], \"contourcarpet\": [{\"colorbar\": {\"outlinewidth\": 0, \"ticks\": \"\"}, \"type\": \"contourcarpet\"}], \"heatmap\": [{\"colorbar\": {\"outlinewidth\": 0, \"ticks\": \"\"}, \"colorscale\": [[0.0, \"#0d0887\"], [0.1111111111111111, \"#46039f\"], [0.2222222222222222, \"#7201a8\"], [0.3333333333333333, \"#9c179e\"], [0.4444444444444444, \"#bd3786\"], [0.5555555555555556, \"#d8576b\"], [0.6666666666666666, \"#ed7953\"], [0.7777777777777778, \"#fb9f3a\"], [0.8888888888888888, \"#fdca26\"], [1.0, \"#f0f921\"]], \"type\": \"heatmap\"}], \"heatmapgl\": [{\"colorbar\": {\"outlinewidth\": 0, \"ticks\": \"\"}, \"colorscale\": [[0.0, \"#0d0887\"], [0.1111111111111111, \"#46039f\"], [0.2222222222222222, \"#7201a8\"], [0.3333333333333333, \"#9c179e\"], [0.4444444444444444, \"#bd3786\"], [0.5555555555555556, \"#d8576b\"], [0.6666666666666666, \"#ed7953\"], [0.7777777777777778, \"#fb9f3a\"], [0.8888888888888888, \"#fdca26\"], [1.0, \"#f0f921\"]], \"type\": \"heatmapgl\"}], \"histogram\": [{\"marker\": {\"colorbar\": {\"outlinewidth\": 0, \"ticks\": \"\"}}, \"type\": \"histogram\"}], \"histogram2d\": [{\"colorbar\": {\"outlinewidth\": 0, \"ticks\": \"\"}, \"colorscale\": [[0.0, \"#0d0887\"], [0.1111111111111111, \"#46039f\"], [0.2222222222222222, \"#7201a8\"], [0.3333333333333333, \"#9c179e\"], [0.4444444444444444, \"#bd3786\"], [0.5555555555555556, \"#d8576b\"], [0.6666666666666666, \"#ed7953\"], [0.7777777777777778, \"#fb9f3a\"], [0.8888888888888888, \"#fdca26\"], [1.0, \"#f0f921\"]], \"type\": \"histogram2d\"}], \"histogram2dcontour\": [{\"colorbar\": {\"outlinewidth\": 0, \"ticks\": \"\"}, \"colorscale\": [[0.0, \"#0d0887\"], [0.1111111111111111, \"#46039f\"], [0.2222222222222222, \"#7201a8\"], [0.3333333333333333, \"#9c179e\"], [0.4444444444444444, \"#bd3786\"], [0.5555555555555556, \"#d8576b\"], [0.6666666666666666, \"#ed7953\"], [0.7777777777777778, \"#fb9f3a\"], [0.8888888888888888, \"#fdca26\"], [1.0, \"#f0f921\"]], \"type\": \"histogram2dcontour\"}], \"mesh3d\": [{\"colorbar\": {\"outlinewidth\": 0, \"ticks\": \"\"}, \"type\": \"mesh3d\"}], \"parcoords\": [{\"line\": {\"colorbar\": {\"outlinewidth\": 0, \"ticks\": \"\"}}, \"type\": \"parcoords\"}], \"pie\": [{\"automargin\": true, \"type\": \"pie\"}], \"scatter\": [{\"marker\": {\"colorbar\": {\"outlinewidth\": 0, \"ticks\": \"\"}}, \"type\": \"scatter\"}], \"scatter3d\": [{\"line\": {\"colorbar\": {\"outlinewidth\": 0, \"ticks\": \"\"}}, \"marker\": {\"colorbar\": {\"outlinewidth\": 0, \"ticks\": \"\"}}, \"type\": \"scatter3d\"}], \"scattercarpet\": [{\"marker\": {\"colorbar\": {\"outlinewidth\": 0, \"ticks\": \"\"}}, \"type\": \"scattercarpet\"}], \"scattergeo\": [{\"marker\": {\"colorbar\": {\"outlinewidth\": 0, \"ticks\": \"\"}}, \"type\": \"scattergeo\"}], \"scattergl\": [{\"marker\": {\"colorbar\": {\"outlinewidth\": 0, \"ticks\": \"\"}}, \"type\": \"scattergl\"}], \"scattermapbox\": [{\"marker\": {\"colorbar\": {\"outlinewidth\": 0, \"ticks\": \"\"}}, \"type\": \"scattermapbox\"}], \"scatterpolar\": [{\"marker\": {\"colorbar\": {\"outlinewidth\": 0, \"ticks\": \"\"}}, \"type\": \"scatterpolar\"}], \"scatterpolargl\": [{\"marker\": {\"colorbar\": {\"outlinewidth\": 0, \"ticks\": \"\"}}, \"type\": \"scatterpolargl\"}], \"scatterternary\": [{\"marker\": {\"colorbar\": {\"outlinewidth\": 0, \"ticks\": \"\"}}, \"type\": \"scatterternary\"}], \"surface\": [{\"colorbar\": {\"outlinewidth\": 0, \"ticks\": \"\"}, \"colorscale\": [[0.0, \"#0d0887\"], [0.1111111111111111, \"#46039f\"], [0.2222222222222222, \"#7201a8\"], [0.3333333333333333, \"#9c179e\"], [0.4444444444444444, \"#bd3786\"], [0.5555555555555556, \"#d8576b\"], [0.6666666666666666, \"#ed7953\"], [0.7777777777777778, \"#fb9f3a\"], [0.8888888888888888, \"#fdca26\"], [1.0, \"#f0f921\"]], \"type\": \"surface\"}], \"table\": [{\"cells\": {\"fill\": {\"color\": \"#EBF0F8\"}, \"line\": {\"color\": \"white\"}}, \"header\": {\"fill\": {\"color\": \"#C8D4E3\"}, \"line\": {\"color\": \"white\"}}, \"type\": \"table\"}]}, \"layout\": {\"annotationdefaults\": {\"arrowcolor\": \"#2a3f5f\", \"arrowhead\": 0, \"arrowwidth\": 1}, \"coloraxis\": {\"colorbar\": {\"outlinewidth\": 0, \"ticks\": \"\"}}, \"colorscale\": {\"diverging\": [[0, \"#8e0152\"], [0.1, \"#c51b7d\"], [0.2, \"#de77ae\"], [0.3, \"#f1b6da\"], [0.4, \"#fde0ef\"], [0.5, \"#f7f7f7\"], [0.6, \"#e6f5d0\"], [0.7, \"#b8e186\"], [0.8, \"#7fbc41\"], [0.9, \"#4d9221\"], [1, \"#276419\"]], \"sequential\": [[0.0, \"#0d0887\"], [0.1111111111111111, \"#46039f\"], [0.2222222222222222, \"#7201a8\"], [0.3333333333333333, \"#9c179e\"], [0.4444444444444444, \"#bd3786\"], [0.5555555555555556, \"#d8576b\"], [0.6666666666666666, \"#ed7953\"], [0.7777777777777778, \"#fb9f3a\"], [0.8888888888888888, \"#fdca26\"], [1.0, \"#f0f921\"]], \"sequentialminus\": [[0.0, \"#0d0887\"], [0.1111111111111111, \"#46039f\"], [0.2222222222222222, \"#7201a8\"], [0.3333333333333333, \"#9c179e\"], [0.4444444444444444, \"#bd3786\"], [0.5555555555555556, \"#d8576b\"], [0.6666666666666666, \"#ed7953\"], [0.7777777777777778, \"#fb9f3a\"], [0.8888888888888888, \"#fdca26\"], [1.0, \"#f0f921\"]]}, \"colorway\": [\"#636efa\", \"#EF553B\", \"#00cc96\", \"#ab63fa\", \"#FFA15A\", \"#19d3f3\", \"#FF6692\", \"#B6E880\", \"#FF97FF\", \"#FECB52\"], \"font\": {\"color\": \"#2a3f5f\"}, \"geo\": {\"bgcolor\": \"white\", \"lakecolor\": \"white\", \"landcolor\": \"#E5ECF6\", \"showlakes\": true, \"showland\": true, \"subunitcolor\": \"white\"}, \"hoverlabel\": {\"align\": \"left\"}, \"hovermode\": \"closest\", \"mapbox\": {\"style\": \"light\"}, \"paper_bgcolor\": \"white\", \"plot_bgcolor\": \"#E5ECF6\", \"polar\": {\"angularaxis\": {\"gridcolor\": \"white\", \"linecolor\": \"white\", \"ticks\": \"\"}, \"bgcolor\": \"#E5ECF6\", \"radialaxis\": {\"gridcolor\": \"white\", \"linecolor\": \"white\", \"ticks\": \"\"}}, \"scene\": {\"xaxis\": {\"backgroundcolor\": \"#E5ECF6\", \"gridcolor\": \"white\", \"gridwidth\": 2, \"linecolor\": \"white\", \"showbackground\": true, \"ticks\": \"\", \"zerolinecolor\": \"white\"}, \"yaxis\": {\"backgroundcolor\": \"#E5ECF6\", \"gridcolor\": \"white\", \"gridwidth\": 2, \"linecolor\": \"white\", \"showbackground\": true, \"ticks\": \"\", \"zerolinecolor\": \"white\"}, \"zaxis\": {\"backgroundcolor\": \"#E5ECF6\", \"gridcolor\": \"white\", \"gridwidth\": 2, \"linecolor\": \"white\", \"showbackground\": true, \"ticks\": \"\", \"zerolinecolor\": \"white\"}}, \"shapedefaults\": {\"line\": {\"color\": \"#2a3f5f\"}}, \"ternary\": {\"aaxis\": {\"gridcolor\": \"white\", \"linecolor\": \"white\", \"ticks\": \"\"}, \"baxis\": {\"gridcolor\": \"white\", \"linecolor\": \"white\", \"ticks\": \"\"}, \"bgcolor\": \"#E5ECF6\", \"caxis\": {\"gridcolor\": \"white\", \"linecolor\": \"white\", \"ticks\": \"\"}}, \"title\": {\"x\": 0.05}, \"xaxis\": {\"automargin\": true, \"gridcolor\": \"white\", \"linecolor\": \"white\", \"ticks\": \"\", \"title\": {\"standoff\": 15}, \"zerolinecolor\": \"white\", \"zerolinewidth\": 2}, \"yaxis\": {\"automargin\": true, \"gridcolor\": \"white\", \"linecolor\": \"white\", \"ticks\": \"\", \"title\": {\"standoff\": 15}, \"zerolinecolor\": \"white\", \"zerolinewidth\": 2}}}, \"title\": {\"text\": \"Casos confirmados por Municipio do Estado do Rio de Janeiro\"}, \"xaxis\": {\"anchor\": \"y\", \"domain\": [0.0, 1.0], \"title\": {\"text\": \"Data\"}}, \"yaxis\": {\"anchor\": \"x\", \"domain\": [0.0, 1.0], \"title\": {\"text\": \"Casos\"}}},\n",
       "                        {\"responsive\": true}\n",
       "                    ).then(function(){\n",
       "                            \n",
       "var gd = document.getElementById('52283410-faca-47dc-aa65-535497c579b6');\n",
       "var x = new MutationObserver(function (mutations, observer) {{\n",
       "        var display = window.getComputedStyle(gd).display;\n",
       "        if (!display || display === 'none') {{\n",
       "            console.log([gd, 'removed!']);\n",
       "            Plotly.purge(gd);\n",
       "            observer.disconnect();\n",
       "        }}\n",
       "}});\n",
       "\n",
       "// Listen for the removal of the full notebook cells\n",
       "var notebookContainer = gd.closest('#notebook-container');\n",
       "if (notebookContainer) {{\n",
       "    x.observe(notebookContainer, {childList: true});\n",
       "}}\n",
       "\n",
       "// Listen for the clearing of the current output cell\n",
       "var outputEl = gd.closest('.output');\n",
       "if (outputEl) {{\n",
       "    x.observe(outputEl, {childList: true});\n",
       "}}\n",
       "\n",
       "                        })\n",
       "                };\n",
       "                });\n",
       "            </script>\n",
       "        </div>"
      ]
     },
     "metadata": {},
     "output_type": "display_data"
    }
   ],
   "source": [
    "fig = px.line(df, x = 'Data', y = 'Casos', line_group = 'Municipio', render_mode = 'svg', color = 'Municipio')\n",
    "fig.update_layout(title = 'Casos confirmados por Municipio do Estado do Rio de Janeiro')\n",
    "fig.show()"
   ]
  },
  {
   "cell_type": "code",
   "execution_count": 64,
   "metadata": {},
   "outputs": [],
   "source": [
    "lst5 = ['RIO DE JANEIRO', 'NITEROI']"
   ]
  },
  {
   "cell_type": "code",
   "execution_count": 65,
   "metadata": {},
   "outputs": [
    {
     "ename": "SyntaxError",
     "evalue": "invalid syntax (<ipython-input-65-e44c4ad9148e>, line 2)",
     "output_type": "error",
     "traceback": [
      "\u001b[1;36m  File \u001b[1;32m\"<ipython-input-65-e44c4ad9148e>\"\u001b[1;36m, line \u001b[1;32m2\u001b[0m\n\u001b[1;33m    df_conf = df_conf[df_conf['Municipio'] != m | ]\u001b[0m\n\u001b[1;37m                                                  ^\u001b[0m\n\u001b[1;31mSyntaxError\u001b[0m\u001b[1;31m:\u001b[0m invalid syntax\n"
     ]
    }
   ],
   "source": [
    "for m in lst5:\n",
    "    df_conf = df_conf[df_conf['Municipio'] != m | ]"
   ]
  },
  {
   "cell_type": "code",
   "execution_count": null,
   "metadata": {},
   "outputs": [],
   "source": [
    "'|'.join(lst5)"
   ]
  },
  {
   "cell_type": "code",
   "execution_count": null,
   "metadata": {},
   "outputs": [],
   "source": [
    "df2 = df_conf[~df_conf['Municipio'].str.contains('|'.join(lst5))]"
   ]
  },
  {
   "cell_type": "code",
   "execution_count": null,
   "metadata": {},
   "outputs": [],
   "source": [
    "df2[df2['Municipio'] == 'DUQUE DE CAXIAS']"
   ]
  },
  {
   "cell_type": "code",
   "execution_count": null,
   "metadata": {},
   "outputs": [],
   "source": [
    "municipios = set(df_conf['Municipio'])"
   ]
  },
  {
   "cell_type": "code",
   "execution_count": null,
   "metadata": {},
   "outputs": [],
   "source": [
    "header = ['Data', 'Municipio', 'Casos']"
   ]
  },
  {
   "cell_type": "code",
   "execution_count": null,
   "metadata": {},
   "outputs": [],
   "source": [
    "date_start = '29-03-2020'\n",
    "date_fim = '12-04-2020'\n",
    "\n",
    "date_start = dt.datetime.strptime(date_start, '%d-%m-%Y')\n",
    "date_fim = dt.datetime.strptime(date_fim, '%d-%m-%Y')\n",
    "days = mdates.drange(date_start, date_fim, dt.timedelta(days = 1))\n",
    "\n",
    "date_start = dt.datetime.strftime(date_start, '%d-%m-%Y')\n",
    "date_fim = dt.datetime.strftime(date_fim, '%d-%m-%Y')"
   ]
  },
  {
   "cell_type": "code",
   "execution_count": null,
   "metadata": {},
   "outputs": [],
   "source": [
    "dates = [dt.datetime.strftime(mdates.num2date(i), '%d-%m-%Y').replace('-','/') for i in days]"
   ]
  },
  {
   "cell_type": "code",
   "execution_count": null,
   "metadata": {},
   "outputs": [],
   "source": [
    "casos = []\n",
    "nome_m = []\n",
    "data_m = []\n",
    "for m in municipios:\n",
    "    lst = []\n",
    "    lst_m = [m]*len(dates)\n",
    "    lst_d = []\n",
    "    for d in dates:\n",
    "        df = df_conf[df_conf['Municipio'] == m]\n",
    "        lst.append(len(df[df['Data'] == d]))\n",
    "        lst_d.append(d)\n",
    "    nome_m.append(lst_m)\n",
    "    casos.append(lst)\n",
    "    data_m.append(lst_d)"
   ]
  },
  {
   "cell_type": "code",
   "execution_count": null,
   "metadata": {},
   "outputs": [],
   "source": [
    "lst = [[],[],[]]\n",
    "for c, m, d in zip(casos, nome_m, data_m):\n",
    "    lst[0] += d\n",
    "    lst[1] += m\n",
    "    lst[2] += c"
   ]
  },
  {
   "cell_type": "code",
   "execution_count": null,
   "metadata": {},
   "outputs": [],
   "source": [
    "dic = {}"
   ]
  },
  {
   "cell_type": "code",
   "execution_count": null,
   "metadata": {},
   "outputs": [],
   "source": [
    "for i,h in enumerate(header):\n",
    "        dic.update({h: lst[i]})"
   ]
  },
  {
   "cell_type": "code",
   "execution_count": null,
   "metadata": {},
   "outputs": [],
   "source": [
    "df = pd.DataFrame(dic)"
   ]
  },
  {
   "cell_type": "code",
   "execution_count": null,
   "metadata": {},
   "outputs": [],
   "source": [
    "df2 = df[df['Municipio'] != 'RIO DE JANEIRO']"
   ]
  },
  {
   "cell_type": "code",
   "execution_count": null,
   "metadata": {},
   "outputs": [],
   "source": [
    "fig = px.line(df2, x = 'Data', y = 'Casos', line_group = 'Municipio', render_mode = 'svg', color = 'Municipio')\n",
    "fig.update_layout(title = 'Casos confirmados por Municipio do Estado do Rio de Janeiro')\n",
    "fig.show()"
   ]
  },
  {
   "cell_type": "code",
   "execution_count": null,
   "metadata": {},
   "outputs": [],
   "source": []
  },
  {
   "cell_type": "code",
   "execution_count": null,
   "metadata": {},
   "outputs": [],
   "source": []
  },
  {
   "cell_type": "code",
   "execution_count": null,
   "metadata": {},
   "outputs": [],
   "source": []
  },
  {
   "cell_type": "code",
   "execution_count": null,
   "metadata": {},
   "outputs": [],
   "source": []
  },
  {
   "cell_type": "code",
   "execution_count": null,
   "metadata": {},
   "outputs": [],
   "source": []
  },
  {
   "cell_type": "code",
   "execution_count": null,
   "metadata": {},
   "outputs": [],
   "source": []
  },
  {
   "cell_type": "code",
   "execution_count": null,
   "metadata": {},
   "outputs": [],
   "source": []
  },
  {
   "cell_type": "code",
   "execution_count": 66,
   "metadata": {},
   "outputs": [],
   "source": [
    "# Taxa de subnotificação\n",
    "taxa_subn   = 8\n",
    "# Proporção de infectados assintomáticos\n",
    "prop_assint = 0.80"
   ]
  },
  {
   "cell_type": "code",
   "execution_count": 67,
   "metadata": {},
   "outputs": [],
   "source": [
    "# Idx       :         0,    1,     2,    3,     4,    5,     6,      7,    8,      9,     10,     11,     12,    13\n",
    "# Parâmetros:      betaS, theta,  p, lambda, sigma, rho,  epsA, gammaA, epsI, gammaI, deathI, gammaD, deathD, betaQ\n",
    "params_rio_base = (1e-7,  1/10, 1/4,  1/6,   1/7, 0.94, 1/100, 0.0996, 1/30, 0.0766, 0.0026, 0.0843, 0.0017, 1e-7/7)"
   ]
  },
  {
   "cell_type": "code",
   "execution_count": 68,
   "metadata": {},
   "outputs": [],
   "source": [
    "# Dados para a cidade do Rio de Janeiro,\n",
    "# IBGE 2019 (estimativa)\n",
    "pop_Rio = 6718903\n",
    "# 29 de Março\n",
    "diagn_Rio, recup_Rio = 489, 16\n",
    "infect_Rio = diagn_Rio*(taxa_subn-1)*(1 - prop_assint)\n",
    "assint_Rio = diagn_Rio*(taxa_subn-1)*prop_assint\n",
    "expostos_Rio = diagn_Rio*7\n",
    "quarentena_Rio = 0.6 * pop_Rio\n",
    "\n",
    "suscetiveis_Rio = pop_Rio - (quarentena_Rio + expostos_Rio + assint_Rio + infect_Rio + diagn_Rio + recup_Rio)\n",
    "\n",
    "CI = [suscetiveis_Rio, quarentena_Rio, expostos_Rio, assint_Rio, infect_Rio, diagn_Rio, recup_Rio]"
   ]
  },
  {
   "cell_type": "code",
   "execution_count": 69,
   "metadata": {},
   "outputs": [],
   "source": [
    "# Do dia 29/04 até o dia 12/04, dados da prefeitura\n",
    "dados_Rio = [\n",
    "    [26, 38, 30, 114, 110, 60, 115, 86, 42, 141, 198, 184, 175, 97, 91, 326, 71, 126],\n",
    "    [1, 3, 2, 4,   7,  5,   2,  4,  5,  12,  14,   9,  10,  6,  8,   9, 25,  27]\n",
    "]"
   ]
  },
  {
   "cell_type": "code",
   "execution_count": 70,
   "metadata": {},
   "outputs": [],
   "source": [
    "T_fim = len(dados_Rio[0])\n",
    "\n",
    "start = dt.datetime.strptime(\"29-03-2020\", \"%d-%m-%Y\")\n",
    "then = start + dt.timedelta(days=T_fim)\n",
    "days = mdates.drange(start,then,dt.timedelta(days=1))"
   ]
  },
  {
   "cell_type": "code",
   "execution_count": 71,
   "metadata": {},
   "outputs": [],
   "source": [
    "# Supondo mantida a quarentena\n",
    "f_rio_base = lambda t,v: F_Quarentena(t,v, *params_rio_base)\n",
    "results_base_quarentena = solve_ivp(f_rio_base, (1,T_fim), CI, t_eval=range(1,T_fim+1))\n",
    "g_rio_base = lambda t, v: F(t, v, *params_rio_base[:-1])\n",
    "results_base_jia = solve_ivp(g_rio_base, (1, T_fim), CI, t_eval = range(1, T_fim+1))"
   ]
  },
  {
   "cell_type": "code",
   "execution_count": 72,
   "metadata": {},
   "outputs": [],
   "source": [
    "diagn_quarentena = new_diagn_1_cidade(results_base_quarentena.y, params_rio_base)\n",
    "deaths_quarentena = new_deaths_1_cidade(results_base_quarentena.y, params_rio_base)\n",
    "\n",
    "diagn_jia = new_diagn_1_cidade(results_base_jia.y, params_rio_base)\n",
    "deaths_jia = new_deaths_1_cidade(results_base_jia.y, params_rio_base)\n",
    "\n",
    "titles = ['Novos diagnósticos: Quarentena tipo Rio', 'Novos diagnósticos: Quarentena tipo Jia', \n",
    "          'Diferença de diagnósticos entre tipos de quarentena', 'Novos óbitos: Quarentena tipo Rio', \n",
    "          'Novos óbitos: Quarentena tipo Jia', 'Diferença de óbitos entre tipos de quarentena']"
   ]
  },
  {
   "cell_type": "code",
   "execution_count": 77,
   "metadata": {},
   "outputs": [
    {
     "data": {
      "text/plain": [
       "array([[2.68021020e+06, 2.68144066e+06, 2.68214287e+06, 2.68245307e+06,\n",
       "        2.68250634e+06, 2.68242041e+06, 2.68220586e+06, 2.68188462e+06,\n",
       "        2.68149150e+06, 2.68104640e+06, 2.68053858e+06, 2.67996406e+06,\n",
       "        2.67932658e+06, 2.67863735e+06, 2.67789188e+06, 2.67707856e+06,\n",
       "        2.67619267e+06, 2.67522974e+06],\n",
       "       [4.03134180e+06, 4.02974456e+06, 4.02857673e+06, 4.02771121e+06,\n",
       "        4.02701990e+06, 4.02638966e+06, 4.02580858e+06, 4.02525256e+06,\n",
       "        4.02468421e+06, 4.02407956e+06, 4.02344259e+06, 4.02277007e+06,\n",
       "        4.02205069e+06, 4.02126543e+06, 4.02040910e+06, 4.01948231e+06,\n",
       "        4.01847825e+06, 4.01738889e+06],\n",
       "       [3.42300000e+03, 3.31021155e+03, 3.30388577e+03, 3.38267416e+03,\n",
       "        3.52843169e+03, 3.72674139e+03, 3.97274347e+03, 4.26256274e+03,\n",
       "        4.59223734e+03, 4.95978993e+03, 5.36707610e+03, 5.81595563e+03,\n",
       "        6.30784702e+03, 6.84376282e+03, 7.42678754e+03, 8.06122599e+03,\n",
       "        8.75101474e+03, 9.50039626e+03],\n",
       "       [2.73840000e+03, 2.48138034e+03, 2.25062436e+03, 2.04407701e+03,\n",
       "        1.85986002e+03, 1.69623812e+03, 1.55141040e+03, 1.42376658e+03,\n",
       "        1.31189417e+03, 1.21449715e+03, 1.13036062e+03, 1.05841825e+03,\n",
       "        9.97743840e+02, 9.47550311e+02, 9.07122213e+02, 8.75835964e+02,\n",
       "        8.53176003e+02, 8.38710766e+02],\n",
       "       [6.84600000e+02, 1.03800251e+03, 1.34737365e+03, 1.62762976e+03,\n",
       "        1.89191888e+03, 2.15131458e+03, 2.41135553e+03, 2.67718854e+03,\n",
       "        2.95421737e+03, 3.24689304e+03, 3.55761419e+03, 3.88906204e+03,\n",
       "        4.24448713e+03, 4.62768902e+03, 5.04158516e+03, 5.48873871e+03,\n",
       "        5.97235813e+03, 6.49592044e+03],\n",
       "       [4.89000000e+02, 5.01392944e+02, 5.20858403e+02, 5.46147252e+02,\n",
       "        5.76231724e+02, 6.10350469e+02, 6.48471479e+02, 6.90619843e+02,\n",
       "        7.36800174e+02, 7.87162723e+02, 8.42143271e+02, 9.02175837e+02,\n",
       "        9.67663021e+02, 1.03897879e+03, 1.11666220e+03, 1.20135327e+03,\n",
       "        1.29367812e+03, 1.39430332e+03],\n",
       "       [1.60000000e+01, 3.83706688e+02, 7.53600823e+02, 1.12635611e+03,\n",
       "        1.50293128e+03, 1.88465154e+03, 2.27393906e+03, 2.67329717e+03,\n",
       "        3.08521110e+03, 3.51242163e+03, 3.95812856e+03, 4.42560385e+03,\n",
       "        4.91816761e+03, 5.43919271e+03, 5.99242015e+03, 6.58187542e+03,\n",
       "        7.21173836e+03, 7.88644099e+03]])"
      ]
     },
     "execution_count": 77,
     "metadata": {},
     "output_type": "execute_result"
    }
   ],
   "source": [
    "results_base_quarentena.y"
   ]
  },
  {
   "cell_type": "code",
   "execution_count": 101,
   "metadata": {},
   "outputs": [],
   "source": [
    "sol = results_base_quarentena.y\n",
    "keys = ['Suscetiveis', 'Quarentenados', 'Expostos', 'Assintomáticos', 'Infectados', 'Diagnosticados', 'Recuperados']\n",
    "comp = [len(sol[0])*[key] for key in keys]\n",
    "value_comp = []\n",
    "valores_simul = []\n",
    "for c, y in zip(comp, sol):\n",
    "    value_comp += c\n",
    "    valores_simul += list(y)"
   ]
  },
  {
   "cell_type": "code",
   "execution_count": 112,
   "metadata": {},
   "outputs": [],
   "source": [
    "dt_start = '29-03-2020'\n",
    "dt_fim = '16-04-2020'\n",
    "dt_start = dt.datetime.strptime(dt_start, '%d-%m-%Y')\n",
    "dt_fim = dt.datetime.strptime(dt_fim, '%d-%m-%Y')\n",
    "days = mdates.drange(dt_start, dt_fim, dt.timedelta(days = 1))\n",
    "\n",
    "dt_start = dt.datetime.strftime(dt_start, '%d-%m-%Y')\n",
    "dt_fim = dt.datetime.strftime(dt_fim, '%d-%m-%Y')\n",
    "dates = [dt.datetime.strftime(mdates.num2date(i), '%d-%m-%Y').replace('-','/') for i in days]\n",
    "dates*= len(sol)\n",
    "#dates"
   ]
  },
  {
   "cell_type": "code",
   "execution_count": 113,
   "metadata": {},
   "outputs": [
    {
     "data": {
      "text/plain": [
       "(126, 126, 126)"
      ]
     },
     "execution_count": 113,
     "metadata": {},
     "output_type": "execute_result"
    }
   ],
   "source": [
    "len(dates), len(value_comp), len(valores_simul)"
   ]
  },
  {
   "cell_type": "code",
   "execution_count": 114,
   "metadata": {},
   "outputs": [],
   "source": [
    "dic = {}\n",
    "header = ['Data', 'Valores', 'Compartimentos']\n",
    "values = [dates, valores_simul, value_comp]\n",
    "for i, h in enumerate(header):\n",
    "    dic.update({h:values[i]})"
   ]
  },
  {
   "cell_type": "code",
   "execution_count": 115,
   "metadata": {},
   "outputs": [
    {
     "data": {
      "text/html": [
       "<div>\n",
       "<style scoped>\n",
       "    .dataframe tbody tr th:only-of-type {\n",
       "        vertical-align: middle;\n",
       "    }\n",
       "\n",
       "    .dataframe tbody tr th {\n",
       "        vertical-align: top;\n",
       "    }\n",
       "\n",
       "    .dataframe thead th {\n",
       "        text-align: right;\n",
       "    }\n",
       "</style>\n",
       "<table border=\"1\" class=\"dataframe\">\n",
       "  <thead>\n",
       "    <tr style=\"text-align: right;\">\n",
       "      <th></th>\n",
       "      <th>Data</th>\n",
       "      <th>Valores</th>\n",
       "      <th>Compartimentos</th>\n",
       "    </tr>\n",
       "  </thead>\n",
       "  <tbody>\n",
       "    <tr>\n",
       "      <th>0</th>\n",
       "      <td>29/03/2020</td>\n",
       "      <td>2.680210e+06</td>\n",
       "      <td>Suscetiveis</td>\n",
       "    </tr>\n",
       "    <tr>\n",
       "      <th>1</th>\n",
       "      <td>30/03/2020</td>\n",
       "      <td>2.681441e+06</td>\n",
       "      <td>Suscetiveis</td>\n",
       "    </tr>\n",
       "    <tr>\n",
       "      <th>2</th>\n",
       "      <td>31/03/2020</td>\n",
       "      <td>2.682143e+06</td>\n",
       "      <td>Suscetiveis</td>\n",
       "    </tr>\n",
       "    <tr>\n",
       "      <th>3</th>\n",
       "      <td>01/04/2020</td>\n",
       "      <td>2.682453e+06</td>\n",
       "      <td>Suscetiveis</td>\n",
       "    </tr>\n",
       "    <tr>\n",
       "      <th>4</th>\n",
       "      <td>02/04/2020</td>\n",
       "      <td>2.682506e+06</td>\n",
       "      <td>Suscetiveis</td>\n",
       "    </tr>\n",
       "    <tr>\n",
       "      <th>...</th>\n",
       "      <td>...</td>\n",
       "      <td>...</td>\n",
       "      <td>...</td>\n",
       "    </tr>\n",
       "    <tr>\n",
       "      <th>121</th>\n",
       "      <td>11/04/2020</td>\n",
       "      <td>5.439193e+03</td>\n",
       "      <td>Recuperados</td>\n",
       "    </tr>\n",
       "    <tr>\n",
       "      <th>122</th>\n",
       "      <td>12/04/2020</td>\n",
       "      <td>5.992420e+03</td>\n",
       "      <td>Recuperados</td>\n",
       "    </tr>\n",
       "    <tr>\n",
       "      <th>123</th>\n",
       "      <td>13/04/2020</td>\n",
       "      <td>6.581875e+03</td>\n",
       "      <td>Recuperados</td>\n",
       "    </tr>\n",
       "    <tr>\n",
       "      <th>124</th>\n",
       "      <td>14/04/2020</td>\n",
       "      <td>7.211738e+03</td>\n",
       "      <td>Recuperados</td>\n",
       "    </tr>\n",
       "    <tr>\n",
       "      <th>125</th>\n",
       "      <td>15/04/2020</td>\n",
       "      <td>7.886441e+03</td>\n",
       "      <td>Recuperados</td>\n",
       "    </tr>\n",
       "  </tbody>\n",
       "</table>\n",
       "<p>126 rows × 3 columns</p>\n",
       "</div>"
      ],
      "text/plain": [
       "           Data       Valores Compartimentos\n",
       "0    29/03/2020  2.680210e+06    Suscetiveis\n",
       "1    30/03/2020  2.681441e+06    Suscetiveis\n",
       "2    31/03/2020  2.682143e+06    Suscetiveis\n",
       "3    01/04/2020  2.682453e+06    Suscetiveis\n",
       "4    02/04/2020  2.682506e+06    Suscetiveis\n",
       "..          ...           ...            ...\n",
       "121  11/04/2020  5.439193e+03    Recuperados\n",
       "122  12/04/2020  5.992420e+03    Recuperados\n",
       "123  13/04/2020  6.581875e+03    Recuperados\n",
       "124  14/04/2020  7.211738e+03    Recuperados\n",
       "125  15/04/2020  7.886441e+03    Recuperados\n",
       "\n",
       "[126 rows x 3 columns]"
      ]
     },
     "execution_count": 115,
     "metadata": {},
     "output_type": "execute_result"
    }
   ],
   "source": [
    "df = pd.DataFrame(dic)\n",
    "df"
   ]
  },
  {
   "cell_type": "code",
   "execution_count": 125,
   "metadata": {},
   "outputs": [
    {
     "ename": "ValueError",
     "evalue": "The first argument to the plotly.graph_objs.layout.Shape \nconstructor must be a dict or \nan instance of :class:`plotly.graph_objs.layout.Shape`",
     "output_type": "error",
     "traceback": [
      "\u001b[1;31m---------------------------------------------------------------------------\u001b[0m",
      "\u001b[1;31mValueError\u001b[0m                                Traceback (most recent call last)",
      "\u001b[1;32m<ipython-input-125-2564d814b6a9>\u001b[0m in \u001b[0;36m<module>\u001b[1;34m\u001b[0m\n\u001b[0;32m      1\u001b[0m \u001b[0mfig\u001b[0m \u001b[1;33m=\u001b[0m \u001b[0mgo\u001b[0m\u001b[1;33m.\u001b[0m\u001b[0mFigure\u001b[0m\u001b[1;33m(\u001b[0m\u001b[1;33m)\u001b[0m\u001b[1;33m\u001b[0m\u001b[1;33m\u001b[0m\u001b[0m\n\u001b[1;32m----> 2\u001b[1;33m \u001b[0mfig\u001b[0m\u001b[1;33m.\u001b[0m\u001b[0madd_shape\u001b[0m\u001b[1;33m(\u001b[0m\u001b[0mpx\u001b[0m\u001b[1;33m.\u001b[0m\u001b[0mline\u001b[0m\u001b[1;33m(\u001b[0m\u001b[0mdf\u001b[0m\u001b[1;33m,\u001b[0m \u001b[0mline_group\u001b[0m\u001b[1;33m=\u001b[0m\u001b[1;34m'Compartimentos'\u001b[0m\u001b[1;33m,\u001b[0m \u001b[0mx\u001b[0m \u001b[1;33m=\u001b[0m \u001b[1;34m'Data'\u001b[0m\u001b[1;33m,\u001b[0m \u001b[0my\u001b[0m \u001b[1;33m=\u001b[0m \u001b[1;34m'Valores'\u001b[0m\u001b[1;33m,\u001b[0m \u001b[0mcolor\u001b[0m \u001b[1;33m=\u001b[0m \u001b[1;34m'Compartimentos'\u001b[0m\u001b[1;33m)\u001b[0m\u001b[1;33m)\u001b[0m\u001b[1;33m\u001b[0m\u001b[1;33m\u001b[0m\u001b[0m\n\u001b[0m\u001b[0;32m      3\u001b[0m \u001b[0mfig\u001b[0m\u001b[1;33m.\u001b[0m\u001b[0mupdate_layout\u001b[0m\u001b[1;33m(\u001b[0m\u001b[0myaxis_type\u001b[0m\u001b[1;33m=\u001b[0m\u001b[1;34m\"log\"\u001b[0m\u001b[1;33m)\u001b[0m\u001b[1;33m\u001b[0m\u001b[1;33m\u001b[0m\u001b[0m\n\u001b[0;32m      4\u001b[0m \u001b[0mfig\u001b[0m\u001b[1;33m.\u001b[0m\u001b[0mshow\u001b[0m\u001b[1;33m(\u001b[0m\u001b[1;33m)\u001b[0m\u001b[1;33m\u001b[0m\u001b[1;33m\u001b[0m\u001b[0m\n",
      "\u001b[1;32mF:\\Anaconda\\lib\\site-packages\\plotly\\graph_objs\\_figure.py\u001b[0m in \u001b[0;36madd_shape\u001b[1;34m(self, arg, fillcolor, layer, line, name, opacity, path, templateitemname, type, visible, x0, x1, xanchor, xref, xsizemode, y0, y1, yanchor, yref, ysizemode, row, col, secondary_y, **kwargs)\u001b[0m\n\u001b[0;32m  18911\u001b[0m             \u001b[0myref\u001b[0m\u001b[1;33m=\u001b[0m\u001b[0myref\u001b[0m\u001b[1;33m,\u001b[0m\u001b[1;33m\u001b[0m\u001b[1;33m\u001b[0m\u001b[0m\n\u001b[0;32m  18912\u001b[0m             \u001b[0mysizemode\u001b[0m\u001b[1;33m=\u001b[0m\u001b[0mysizemode\u001b[0m\u001b[1;33m,\u001b[0m\u001b[1;33m\u001b[0m\u001b[1;33m\u001b[0m\u001b[0m\n\u001b[1;32m> 18913\u001b[1;33m             \u001b[1;33m**\u001b[0m\u001b[0mkwargs\u001b[0m\u001b[1;33m\u001b[0m\u001b[1;33m\u001b[0m\u001b[0m\n\u001b[0m\u001b[0;32m  18914\u001b[0m         )\n\u001b[0;32m  18915\u001b[0m         return self._add_annotation_like(\n",
      "\u001b[1;32mF:\\Anaconda\\lib\\site-packages\\plotly\\graph_objs\\layout\\__init__.py\u001b[0m in \u001b[0;36m__init__\u001b[1;34m(self, arg, fillcolor, layer, line, name, opacity, path, templateitemname, type, visible, x0, x1, xanchor, xref, xsizemode, y0, y1, yanchor, yref, ysizemode, **kwargs)\u001b[0m\n\u001b[0;32m  11765\u001b[0m \u001b[0mThe\u001b[0m \u001b[0mfirst\u001b[0m \u001b[0margument\u001b[0m \u001b[0mto\u001b[0m \u001b[0mthe\u001b[0m \u001b[0mplotly\u001b[0m\u001b[1;33m.\u001b[0m\u001b[0mgraph_objs\u001b[0m\u001b[1;33m.\u001b[0m\u001b[0mlayout\u001b[0m\u001b[1;33m.\u001b[0m\u001b[0mShape\u001b[0m\u001b[1;33m\u001b[0m\u001b[1;33m\u001b[0m\u001b[0m\n\u001b[0;32m  11766\u001b[0m \u001b[0mconstructor\u001b[0m \u001b[0mmust\u001b[0m \u001b[0mbe\u001b[0m \u001b[0ma\u001b[0m \u001b[0mdict\u001b[0m \u001b[1;32mor\u001b[0m\u001b[1;33m\u001b[0m\u001b[1;33m\u001b[0m\u001b[0m\n\u001b[1;32m> 11767\u001b[1;33m an instance of :class:`plotly.graph_objs.layout.Shape`\"\"\"\n\u001b[0m\u001b[0;32m  11768\u001b[0m             )\n\u001b[0;32m  11769\u001b[0m \u001b[1;33m\u001b[0m\u001b[0m\n",
      "\u001b[1;31mValueError\u001b[0m: The first argument to the plotly.graph_objs.layout.Shape \nconstructor must be a dict or \nan instance of :class:`plotly.graph_objs.layout.Shape`"
     ]
    }
   ],
   "source": [
    "fig = go.Figure()\n",
    "fig.add_shape(px.line(df, line_group='Compartimentos', x = 'Data', y = 'Valores', color = 'Compartimentos'))\n",
    "fig.update_layout(yaxis_type=\"log\")\n",
    "fig.show()"
   ]
  },
  {
   "cell_type": "code",
   "execution_count": 88,
   "metadata": {},
   "outputs": [],
   "source": [
    "dic = {}\n",
    "\n",
    "for i, sol in enumerate(results_base_quarentena.y):\n",
    "    dic.update({keys[i]:sol})"
   ]
  },
  {
   "cell_type": "code",
   "execution_count": 85,
   "metadata": {},
   "outputs": [],
   "source": [
    "df = pd.DataFrame(dic)"
   ]
  },
  {
   "cell_type": "code",
   "execution_count": 86,
   "metadata": {},
   "outputs": [
    {
     "data": {
      "text/html": [
       "<div>\n",
       "<style scoped>\n",
       "    .dataframe tbody tr th:only-of-type {\n",
       "        vertical-align: middle;\n",
       "    }\n",
       "\n",
       "    .dataframe tbody tr th {\n",
       "        vertical-align: top;\n",
       "    }\n",
       "\n",
       "    .dataframe thead th {\n",
       "        text-align: right;\n",
       "    }\n",
       "</style>\n",
       "<table border=\"1\" class=\"dataframe\">\n",
       "  <thead>\n",
       "    <tr style=\"text-align: right;\">\n",
       "      <th></th>\n",
       "      <th>Suscetiveis</th>\n",
       "      <th>Quarentenados</th>\n",
       "      <th>Expostos</th>\n",
       "      <th>Assintomáticos</th>\n",
       "      <th>Infectados</th>\n",
       "      <th>Diagnosticados</th>\n",
       "      <th>Recuperados</th>\n",
       "    </tr>\n",
       "  </thead>\n",
       "  <tbody>\n",
       "    <tr>\n",
       "      <th>0</th>\n",
       "      <td>2.680210e+06</td>\n",
       "      <td>4.031342e+06</td>\n",
       "      <td>3423.000000</td>\n",
       "      <td>2738.400000</td>\n",
       "      <td>684.600000</td>\n",
       "      <td>489.000000</td>\n",
       "      <td>16.000000</td>\n",
       "    </tr>\n",
       "    <tr>\n",
       "      <th>1</th>\n",
       "      <td>2.681441e+06</td>\n",
       "      <td>4.029745e+06</td>\n",
       "      <td>3310.211553</td>\n",
       "      <td>2481.380339</td>\n",
       "      <td>1038.002512</td>\n",
       "      <td>501.392944</td>\n",
       "      <td>383.706688</td>\n",
       "    </tr>\n",
       "    <tr>\n",
       "      <th>2</th>\n",
       "      <td>2.682143e+06</td>\n",
       "      <td>4.028577e+06</td>\n",
       "      <td>3303.885767</td>\n",
       "      <td>2250.624364</td>\n",
       "      <td>1347.373647</td>\n",
       "      <td>520.858403</td>\n",
       "      <td>753.600823</td>\n",
       "    </tr>\n",
       "    <tr>\n",
       "      <th>3</th>\n",
       "      <td>2.682453e+06</td>\n",
       "      <td>4.027711e+06</td>\n",
       "      <td>3382.674162</td>\n",
       "      <td>2044.077010</td>\n",
       "      <td>1627.629759</td>\n",
       "      <td>546.147252</td>\n",
       "      <td>1126.356110</td>\n",
       "    </tr>\n",
       "    <tr>\n",
       "      <th>4</th>\n",
       "      <td>2.682506e+06</td>\n",
       "      <td>4.027020e+06</td>\n",
       "      <td>3528.431695</td>\n",
       "      <td>1859.860015</td>\n",
       "      <td>1891.918877</td>\n",
       "      <td>576.231724</td>\n",
       "      <td>1502.931277</td>\n",
       "    </tr>\n",
       "    <tr>\n",
       "      <th>5</th>\n",
       "      <td>2.682420e+06</td>\n",
       "      <td>4.026390e+06</td>\n",
       "      <td>3726.741393</td>\n",
       "      <td>1696.238123</td>\n",
       "      <td>2151.314583</td>\n",
       "      <td>610.350469</td>\n",
       "      <td>1884.651539</td>\n",
       "    </tr>\n",
       "    <tr>\n",
       "      <th>6</th>\n",
       "      <td>2.682206e+06</td>\n",
       "      <td>4.025809e+06</td>\n",
       "      <td>3972.743466</td>\n",
       "      <td>1551.410395</td>\n",
       "      <td>2411.355531</td>\n",
       "      <td>648.471479</td>\n",
       "      <td>2273.939061</td>\n",
       "    </tr>\n",
       "    <tr>\n",
       "      <th>7</th>\n",
       "      <td>2.681885e+06</td>\n",
       "      <td>4.025253e+06</td>\n",
       "      <td>4262.562744</td>\n",
       "      <td>1423.766576</td>\n",
       "      <td>2677.188536</td>\n",
       "      <td>690.619843</td>\n",
       "      <td>2673.297166</td>\n",
       "    </tr>\n",
       "    <tr>\n",
       "      <th>8</th>\n",
       "      <td>2.681492e+06</td>\n",
       "      <td>4.024684e+06</td>\n",
       "      <td>4592.237341</td>\n",
       "      <td>1311.894172</td>\n",
       "      <td>2954.217371</td>\n",
       "      <td>736.800174</td>\n",
       "      <td>3085.211098</td>\n",
       "    </tr>\n",
       "    <tr>\n",
       "      <th>9</th>\n",
       "      <td>2.681046e+06</td>\n",
       "      <td>4.024080e+06</td>\n",
       "      <td>4959.789930</td>\n",
       "      <td>1214.497147</td>\n",
       "      <td>3246.893037</td>\n",
       "      <td>787.162723</td>\n",
       "      <td>3512.421628</td>\n",
       "    </tr>\n",
       "    <tr>\n",
       "      <th>10</th>\n",
       "      <td>2.680539e+06</td>\n",
       "      <td>4.023443e+06</td>\n",
       "      <td>5367.076099</td>\n",
       "      <td>1130.360617</td>\n",
       "      <td>3557.614190</td>\n",
       "      <td>842.143271</td>\n",
       "      <td>3958.128563</td>\n",
       "    </tr>\n",
       "    <tr>\n",
       "      <th>11</th>\n",
       "      <td>2.679964e+06</td>\n",
       "      <td>4.022770e+06</td>\n",
       "      <td>5815.955632</td>\n",
       "      <td>1058.418248</td>\n",
       "      <td>3889.062039</td>\n",
       "      <td>902.175837</td>\n",
       "      <td>4425.603851</td>\n",
       "    </tr>\n",
       "    <tr>\n",
       "      <th>12</th>\n",
       "      <td>2.679327e+06</td>\n",
       "      <td>4.022051e+06</td>\n",
       "      <td>6307.847018</td>\n",
       "      <td>997.743840</td>\n",
       "      <td>4244.487133</td>\n",
       "      <td>967.663021</td>\n",
       "      <td>4918.167606</td>\n",
       "    </tr>\n",
       "    <tr>\n",
       "      <th>13</th>\n",
       "      <td>2.678637e+06</td>\n",
       "      <td>4.021265e+06</td>\n",
       "      <td>6843.762816</td>\n",
       "      <td>947.550311</td>\n",
       "      <td>4627.689021</td>\n",
       "      <td>1038.978790</td>\n",
       "      <td>5439.192715</td>\n",
       "    </tr>\n",
       "    <tr>\n",
       "      <th>14</th>\n",
       "      <td>2.677892e+06</td>\n",
       "      <td>4.020409e+06</td>\n",
       "      <td>7426.787544</td>\n",
       "      <td>907.122213</td>\n",
       "      <td>5041.585158</td>\n",
       "      <td>1116.662198</td>\n",
       "      <td>5992.420150</td>\n",
       "    </tr>\n",
       "    <tr>\n",
       "      <th>15</th>\n",
       "      <td>2.677079e+06</td>\n",
       "      <td>4.019482e+06</td>\n",
       "      <td>8061.225988</td>\n",
       "      <td>875.835964</td>\n",
       "      <td>5488.738705</td>\n",
       "      <td>1201.353270</td>\n",
       "      <td>6581.875425</td>\n",
       "    </tr>\n",
       "    <tr>\n",
       "      <th>16</th>\n",
       "      <td>2.676193e+06</td>\n",
       "      <td>4.018478e+06</td>\n",
       "      <td>8751.014742</td>\n",
       "      <td>853.176003</td>\n",
       "      <td>5972.358125</td>\n",
       "      <td>1293.678116</td>\n",
       "      <td>7211.738364</td>\n",
       "    </tr>\n",
       "    <tr>\n",
       "      <th>17</th>\n",
       "      <td>2.675230e+06</td>\n",
       "      <td>4.017389e+06</td>\n",
       "      <td>9500.396263</td>\n",
       "      <td>838.710766</td>\n",
       "      <td>6495.920444</td>\n",
       "      <td>1394.303323</td>\n",
       "      <td>7886.440995</td>\n",
       "    </tr>\n",
       "  </tbody>\n",
       "</table>\n",
       "</div>"
      ],
      "text/plain": [
       "     Suscetiveis  Quarentenados     Expostos  Assintomáticos   Infectados  \\\n",
       "0   2.680210e+06   4.031342e+06  3423.000000     2738.400000   684.600000   \n",
       "1   2.681441e+06   4.029745e+06  3310.211553     2481.380339  1038.002512   \n",
       "2   2.682143e+06   4.028577e+06  3303.885767     2250.624364  1347.373647   \n",
       "3   2.682453e+06   4.027711e+06  3382.674162     2044.077010  1627.629759   \n",
       "4   2.682506e+06   4.027020e+06  3528.431695     1859.860015  1891.918877   \n",
       "5   2.682420e+06   4.026390e+06  3726.741393     1696.238123  2151.314583   \n",
       "6   2.682206e+06   4.025809e+06  3972.743466     1551.410395  2411.355531   \n",
       "7   2.681885e+06   4.025253e+06  4262.562744     1423.766576  2677.188536   \n",
       "8   2.681492e+06   4.024684e+06  4592.237341     1311.894172  2954.217371   \n",
       "9   2.681046e+06   4.024080e+06  4959.789930     1214.497147  3246.893037   \n",
       "10  2.680539e+06   4.023443e+06  5367.076099     1130.360617  3557.614190   \n",
       "11  2.679964e+06   4.022770e+06  5815.955632     1058.418248  3889.062039   \n",
       "12  2.679327e+06   4.022051e+06  6307.847018      997.743840  4244.487133   \n",
       "13  2.678637e+06   4.021265e+06  6843.762816      947.550311  4627.689021   \n",
       "14  2.677892e+06   4.020409e+06  7426.787544      907.122213  5041.585158   \n",
       "15  2.677079e+06   4.019482e+06  8061.225988      875.835964  5488.738705   \n",
       "16  2.676193e+06   4.018478e+06  8751.014742      853.176003  5972.358125   \n",
       "17  2.675230e+06   4.017389e+06  9500.396263      838.710766  6495.920444   \n",
       "\n",
       "    Diagnosticados  Recuperados  \n",
       "0       489.000000    16.000000  \n",
       "1       501.392944   383.706688  \n",
       "2       520.858403   753.600823  \n",
       "3       546.147252  1126.356110  \n",
       "4       576.231724  1502.931277  \n",
       "5       610.350469  1884.651539  \n",
       "6       648.471479  2273.939061  \n",
       "7       690.619843  2673.297166  \n",
       "8       736.800174  3085.211098  \n",
       "9       787.162723  3512.421628  \n",
       "10      842.143271  3958.128563  \n",
       "11      902.175837  4425.603851  \n",
       "12      967.663021  4918.167606  \n",
       "13     1038.978790  5439.192715  \n",
       "14     1116.662198  5992.420150  \n",
       "15     1201.353270  6581.875425  \n",
       "16     1293.678116  7211.738364  \n",
       "17     1394.303323  7886.440995  "
      ]
     },
     "execution_count": 86,
     "metadata": {},
     "output_type": "execute_result"
    }
   ],
   "source": [
    "df"
   ]
  },
  {
   "cell_type": "code",
   "execution_count": 140,
   "metadata": {},
   "outputs": [],
   "source": [
    "x0 = np.linspace(1, 3, 200)\n",
    "y0 = x0 * np.sin(np.power(x0, 2)) + 1\n",
    "colors = ['blue', 'red', 'green', 'orange', 'grey']"
   ]
  },
  {
   "cell_type": "code",
   "execution_count": 213,
   "metadata": {},
   "outputs": [
    {
     "data": {
      "application/vnd.plotly.v1+json": {
       "config": {
        "plotlyServerURL": "https://plot.ly"
       },
       "data": [
        {
         "name": "Expostos",
         "type": "scatter",
         "x": [
          0,
          1,
          2,
          3,
          4,
          5,
          6,
          7,
          8,
          9,
          10,
          11,
          12,
          13,
          14,
          15,
          16,
          17
         ],
         "xaxis": "x",
         "y": [
          3423,
          3310.2115532401017,
          3303.8857672461254,
          3382.674162444799,
          3528.431694747393,
          3726.741393121482,
          3972.7434655488983,
          4262.562743990948,
          4592.2373412243915,
          4959.789930311516,
          5367.076099445194,
          5815.955632111434,
          6307.847018174995,
          6843.762816218045,
          7426.787544239433,
          8061.225988102978,
          8751.014742431962,
          9500.396263192877
         ],
         "yaxis": "y"
        },
        {
         "name": "Assintomáticos",
         "type": "scatter",
         "x": [
          0,
          1,
          2,
          3,
          4,
          5,
          6,
          7,
          8,
          9,
          10,
          11,
          12,
          13,
          14,
          15,
          16,
          17
         ],
         "xaxis": "x",
         "y": [
          2738.4,
          2481.380339055225,
          2250.6243637244493,
          2044.0770100958616,
          1859.8600152982563,
          1696.2381226140092,
          1551.4103950577244,
          1423.7665755053642,
          1311.8941718344195,
          1214.4971466792388,
          1130.3606173621858,
          1058.4182476065587,
          997.743840459728,
          947.5503108145606,
          907.1222128740899,
          875.8359640232778,
          853.1760034836118,
          838.7107660804331
         ],
         "yaxis": "y"
        },
        {
         "name": "Infectados",
         "type": "scatter",
         "x": [
          0,
          1,
          2,
          3,
          4,
          5,
          6,
          7,
          8,
          9,
          10,
          11,
          12,
          13,
          14,
          15,
          16,
          17
         ],
         "xaxis": "x",
         "y": [
          684.5999999999998,
          1038.0025119666009,
          1347.373647247116,
          1627.6297591696914,
          1891.9188769756456,
          2151.3145826291293,
          2411.3555314512537,
          2677.1885363596894,
          2954.2173710964817,
          3246.893037451956,
          3557.6141900380635,
          3889.062039361363,
          4244.487133315739,
          4627.68902127667,
          5041.585158484788,
          5488.738705143468,
          5972.358125226048,
          6495.920444320174
         ],
         "yaxis": "y"
        },
        {
         "name": "Diagnosticados",
         "type": "scatter",
         "x": [
          0,
          1,
          2,
          3,
          4,
          5,
          6,
          7,
          8,
          9,
          10,
          11,
          12,
          13,
          14,
          15,
          16,
          17
         ],
         "xaxis": "x",
         "y": [
          489,
          501.39294358228454,
          520.8584029314005,
          546.1472519519521,
          576.23172432771,
          610.350468608097,
          648.4714791462377,
          690.6198433695658,
          736.8001741118151,
          787.1627230802239,
          842.1432713241635,
          902.1758366913,
          967.6630207778161,
          1038.978789882406,
          1116.662197616372,
          1201.3532695463216,
          1293.678115511378,
          1394.3033229391147
         ],
         "yaxis": "y"
        },
        {
         "name": "Recuperados",
         "type": "scatter",
         "x": [
          0,
          1,
          2,
          3,
          4,
          5,
          6,
          7,
          8,
          9,
          10,
          11,
          12,
          13,
          14,
          15,
          16,
          17
         ],
         "xaxis": "x",
         "y": [
          16,
          383.70668807330344,
          753.600822580744,
          1126.3561104549221,
          1502.9312774941332,
          1884.651539071977,
          2273.939061273189,
          2673.297166495035,
          3085.2110978565333,
          3512.4216277585933,
          3958.1285633100497,
          4425.603850997073,
          4918.167605891785,
          5439.192714568242,
          5992.420149503877,
          6581.875424918916,
          7211.738364440682,
          7886.440994638109
         ],
         "yaxis": "y"
        },
        {
         "name": "Expostos",
         "type": "scatter",
         "x": [
          0,
          1,
          2,
          3,
          4,
          5,
          6,
          7,
          8,
          9,
          10,
          11,
          12,
          13,
          14,
          15,
          16,
          17
         ],
         "xaxis": "x3",
         "y": [
          3423,
          3310.2115532401017,
          3303.8857672461254,
          3382.674162444799,
          3528.431694747393,
          3726.741393121482,
          3972.7434655488983,
          4262.562743990948,
          4592.2373412243915,
          4959.789930311516,
          5367.076099445194,
          5815.955632111434,
          6307.847018174995,
          6843.762816218045,
          7426.787544239433,
          8061.225988102978,
          8751.014742431962,
          9500.396263192877
         ],
         "yaxis": "y3"
        },
        {
         "name": "Assintomáticos",
         "type": "scatter",
         "x": [
          0,
          1,
          2,
          3,
          4,
          5,
          6,
          7,
          8,
          9,
          10,
          11,
          12,
          13,
          14,
          15,
          16,
          17
         ],
         "xaxis": "x3",
         "y": [
          2738.4,
          2481.380339055225,
          2250.6243637244493,
          2044.0770100958616,
          1859.8600152982563,
          1696.2381226140092,
          1551.4103950577244,
          1423.7665755053642,
          1311.8941718344195,
          1214.4971466792388,
          1130.3606173621858,
          1058.4182476065587,
          997.743840459728,
          947.5503108145606,
          907.1222128740899,
          875.8359640232778,
          853.1760034836118,
          838.7107660804331
         ],
         "yaxis": "y3"
        },
        {
         "name": "Infectados",
         "type": "scatter",
         "x": [
          0,
          1,
          2,
          3,
          4,
          5,
          6,
          7,
          8,
          9,
          10,
          11,
          12,
          13,
          14,
          15,
          16,
          17
         ],
         "xaxis": "x3",
         "y": [
          684.5999999999998,
          1038.0025119666009,
          1347.373647247116,
          1627.6297591696914,
          1891.9188769756456,
          2151.3145826291293,
          2411.3555314512537,
          2677.1885363596894,
          2954.2173710964817,
          3246.893037451956,
          3557.6141900380635,
          3889.062039361363,
          4244.487133315739,
          4627.68902127667,
          5041.585158484788,
          5488.738705143468,
          5972.358125226048,
          6495.920444320174
         ],
         "yaxis": "y3"
        },
        {
         "name": "Diagnosticados",
         "type": "scatter",
         "x": [
          0,
          1,
          2,
          3,
          4,
          5,
          6,
          7,
          8,
          9,
          10,
          11,
          12,
          13,
          14,
          15,
          16,
          17
         ],
         "xaxis": "x3",
         "y": [
          489,
          501.39294358228454,
          520.8584029314005,
          546.1472519519521,
          576.23172432771,
          610.350468608097,
          648.4714791462377,
          690.6198433695658,
          736.8001741118151,
          787.1627230802239,
          842.1432713241635,
          902.1758366913,
          967.6630207778161,
          1038.978789882406,
          1116.662197616372,
          1201.3532695463216,
          1293.678115511378,
          1394.3033229391147
         ],
         "yaxis": "y3"
        },
        {
         "name": "Recuperados",
         "type": "scatter",
         "x": [
          0,
          1,
          2,
          3,
          4,
          5,
          6,
          7,
          8,
          9,
          10,
          11,
          12,
          13,
          14,
          15,
          16,
          17
         ],
         "xaxis": "x3",
         "y": [
          16,
          383.70668807330344,
          753.600822580744,
          1126.3561104549221,
          1502.9312774941332,
          1884.651539071977,
          2273.939061273189,
          2673.297166495035,
          3085.2110978565333,
          3512.4216277585933,
          3958.1285633100497,
          4425.603850997073,
          4918.167605891785,
          5439.192714568242,
          5992.420149503877,
          6581.875424918916,
          7211.738364440682,
          7886.440994638109
         ],
         "yaxis": "y3"
        }
       ],
       "layout": {
        "height": 800,
        "shapes": [
         {
          "fillcolor": "LightSalmon",
          "layer": "below",
          "line": {
           "width": 0
          },
          "opacity": 0.5,
          "type": "rect",
          "x0": 3,
          "x1": 5,
          "xref": "x",
          "y0": 0.575,
          "y1": 1,
          "yref": "paper"
         }
        ],
        "template": {
         "data": {
          "bar": [
           {
            "error_x": {
             "color": "#2a3f5f"
            },
            "error_y": {
             "color": "#2a3f5f"
            },
            "marker": {
             "line": {
              "color": "#E5ECF6",
              "width": 0.5
             }
            },
            "type": "bar"
           }
          ],
          "barpolar": [
           {
            "marker": {
             "line": {
              "color": "#E5ECF6",
              "width": 0.5
             }
            },
            "type": "barpolar"
           }
          ],
          "carpet": [
           {
            "aaxis": {
             "endlinecolor": "#2a3f5f",
             "gridcolor": "white",
             "linecolor": "white",
             "minorgridcolor": "white",
             "startlinecolor": "#2a3f5f"
            },
            "baxis": {
             "endlinecolor": "#2a3f5f",
             "gridcolor": "white",
             "linecolor": "white",
             "minorgridcolor": "white",
             "startlinecolor": "#2a3f5f"
            },
            "type": "carpet"
           }
          ],
          "choropleth": [
           {
            "colorbar": {
             "outlinewidth": 0,
             "ticks": ""
            },
            "type": "choropleth"
           }
          ],
          "contour": [
           {
            "colorbar": {
             "outlinewidth": 0,
             "ticks": ""
            },
            "colorscale": [
             [
              0,
              "#0d0887"
             ],
             [
              0.1111111111111111,
              "#46039f"
             ],
             [
              0.2222222222222222,
              "#7201a8"
             ],
             [
              0.3333333333333333,
              "#9c179e"
             ],
             [
              0.4444444444444444,
              "#bd3786"
             ],
             [
              0.5555555555555556,
              "#d8576b"
             ],
             [
              0.6666666666666666,
              "#ed7953"
             ],
             [
              0.7777777777777778,
              "#fb9f3a"
             ],
             [
              0.8888888888888888,
              "#fdca26"
             ],
             [
              1,
              "#f0f921"
             ]
            ],
            "type": "contour"
           }
          ],
          "contourcarpet": [
           {
            "colorbar": {
             "outlinewidth": 0,
             "ticks": ""
            },
            "type": "contourcarpet"
           }
          ],
          "heatmap": [
           {
            "colorbar": {
             "outlinewidth": 0,
             "ticks": ""
            },
            "colorscale": [
             [
              0,
              "#0d0887"
             ],
             [
              0.1111111111111111,
              "#46039f"
             ],
             [
              0.2222222222222222,
              "#7201a8"
             ],
             [
              0.3333333333333333,
              "#9c179e"
             ],
             [
              0.4444444444444444,
              "#bd3786"
             ],
             [
              0.5555555555555556,
              "#d8576b"
             ],
             [
              0.6666666666666666,
              "#ed7953"
             ],
             [
              0.7777777777777778,
              "#fb9f3a"
             ],
             [
              0.8888888888888888,
              "#fdca26"
             ],
             [
              1,
              "#f0f921"
             ]
            ],
            "type": "heatmap"
           }
          ],
          "heatmapgl": [
           {
            "colorbar": {
             "outlinewidth": 0,
             "ticks": ""
            },
            "colorscale": [
             [
              0,
              "#0d0887"
             ],
             [
              0.1111111111111111,
              "#46039f"
             ],
             [
              0.2222222222222222,
              "#7201a8"
             ],
             [
              0.3333333333333333,
              "#9c179e"
             ],
             [
              0.4444444444444444,
              "#bd3786"
             ],
             [
              0.5555555555555556,
              "#d8576b"
             ],
             [
              0.6666666666666666,
              "#ed7953"
             ],
             [
              0.7777777777777778,
              "#fb9f3a"
             ],
             [
              0.8888888888888888,
              "#fdca26"
             ],
             [
              1,
              "#f0f921"
             ]
            ],
            "type": "heatmapgl"
           }
          ],
          "histogram": [
           {
            "marker": {
             "colorbar": {
              "outlinewidth": 0,
              "ticks": ""
             }
            },
            "type": "histogram"
           }
          ],
          "histogram2d": [
           {
            "colorbar": {
             "outlinewidth": 0,
             "ticks": ""
            },
            "colorscale": [
             [
              0,
              "#0d0887"
             ],
             [
              0.1111111111111111,
              "#46039f"
             ],
             [
              0.2222222222222222,
              "#7201a8"
             ],
             [
              0.3333333333333333,
              "#9c179e"
             ],
             [
              0.4444444444444444,
              "#bd3786"
             ],
             [
              0.5555555555555556,
              "#d8576b"
             ],
             [
              0.6666666666666666,
              "#ed7953"
             ],
             [
              0.7777777777777778,
              "#fb9f3a"
             ],
             [
              0.8888888888888888,
              "#fdca26"
             ],
             [
              1,
              "#f0f921"
             ]
            ],
            "type": "histogram2d"
           }
          ],
          "histogram2dcontour": [
           {
            "colorbar": {
             "outlinewidth": 0,
             "ticks": ""
            },
            "colorscale": [
             [
              0,
              "#0d0887"
             ],
             [
              0.1111111111111111,
              "#46039f"
             ],
             [
              0.2222222222222222,
              "#7201a8"
             ],
             [
              0.3333333333333333,
              "#9c179e"
             ],
             [
              0.4444444444444444,
              "#bd3786"
             ],
             [
              0.5555555555555556,
              "#d8576b"
             ],
             [
              0.6666666666666666,
              "#ed7953"
             ],
             [
              0.7777777777777778,
              "#fb9f3a"
             ],
             [
              0.8888888888888888,
              "#fdca26"
             ],
             [
              1,
              "#f0f921"
             ]
            ],
            "type": "histogram2dcontour"
           }
          ],
          "mesh3d": [
           {
            "colorbar": {
             "outlinewidth": 0,
             "ticks": ""
            },
            "type": "mesh3d"
           }
          ],
          "parcoords": [
           {
            "line": {
             "colorbar": {
              "outlinewidth": 0,
              "ticks": ""
             }
            },
            "type": "parcoords"
           }
          ],
          "pie": [
           {
            "automargin": true,
            "type": "pie"
           }
          ],
          "scatter": [
           {
            "marker": {
             "colorbar": {
              "outlinewidth": 0,
              "ticks": ""
             }
            },
            "type": "scatter"
           }
          ],
          "scatter3d": [
           {
            "line": {
             "colorbar": {
              "outlinewidth": 0,
              "ticks": ""
             }
            },
            "marker": {
             "colorbar": {
              "outlinewidth": 0,
              "ticks": ""
             }
            },
            "type": "scatter3d"
           }
          ],
          "scattercarpet": [
           {
            "marker": {
             "colorbar": {
              "outlinewidth": 0,
              "ticks": ""
             }
            },
            "type": "scattercarpet"
           }
          ],
          "scattergeo": [
           {
            "marker": {
             "colorbar": {
              "outlinewidth": 0,
              "ticks": ""
             }
            },
            "type": "scattergeo"
           }
          ],
          "scattergl": [
           {
            "marker": {
             "colorbar": {
              "outlinewidth": 0,
              "ticks": ""
             }
            },
            "type": "scattergl"
           }
          ],
          "scattermapbox": [
           {
            "marker": {
             "colorbar": {
              "outlinewidth": 0,
              "ticks": ""
             }
            },
            "type": "scattermapbox"
           }
          ],
          "scatterpolar": [
           {
            "marker": {
             "colorbar": {
              "outlinewidth": 0,
              "ticks": ""
             }
            },
            "type": "scatterpolar"
           }
          ],
          "scatterpolargl": [
           {
            "marker": {
             "colorbar": {
              "outlinewidth": 0,
              "ticks": ""
             }
            },
            "type": "scatterpolargl"
           }
          ],
          "scatterternary": [
           {
            "marker": {
             "colorbar": {
              "outlinewidth": 0,
              "ticks": ""
             }
            },
            "type": "scatterternary"
           }
          ],
          "surface": [
           {
            "colorbar": {
             "outlinewidth": 0,
             "ticks": ""
            },
            "colorscale": [
             [
              0,
              "#0d0887"
             ],
             [
              0.1111111111111111,
              "#46039f"
             ],
             [
              0.2222222222222222,
              "#7201a8"
             ],
             [
              0.3333333333333333,
              "#9c179e"
             ],
             [
              0.4444444444444444,
              "#bd3786"
             ],
             [
              0.5555555555555556,
              "#d8576b"
             ],
             [
              0.6666666666666666,
              "#ed7953"
             ],
             [
              0.7777777777777778,
              "#fb9f3a"
             ],
             [
              0.8888888888888888,
              "#fdca26"
             ],
             [
              1,
              "#f0f921"
             ]
            ],
            "type": "surface"
           }
          ],
          "table": [
           {
            "cells": {
             "fill": {
              "color": "#EBF0F8"
             },
             "line": {
              "color": "white"
             }
            },
            "header": {
             "fill": {
              "color": "#C8D4E3"
             },
             "line": {
              "color": "white"
             }
            },
            "type": "table"
           }
          ]
         },
         "layout": {
          "annotationdefaults": {
           "arrowcolor": "#2a3f5f",
           "arrowhead": 0,
           "arrowwidth": 1
          },
          "coloraxis": {
           "colorbar": {
            "outlinewidth": 0,
            "ticks": ""
           }
          },
          "colorscale": {
           "diverging": [
            [
             0,
             "#8e0152"
            ],
            [
             0.1,
             "#c51b7d"
            ],
            [
             0.2,
             "#de77ae"
            ],
            [
             0.3,
             "#f1b6da"
            ],
            [
             0.4,
             "#fde0ef"
            ],
            [
             0.5,
             "#f7f7f7"
            ],
            [
             0.6,
             "#e6f5d0"
            ],
            [
             0.7,
             "#b8e186"
            ],
            [
             0.8,
             "#7fbc41"
            ],
            [
             0.9,
             "#4d9221"
            ],
            [
             1,
             "#276419"
            ]
           ],
           "sequential": [
            [
             0,
             "#0d0887"
            ],
            [
             0.1111111111111111,
             "#46039f"
            ],
            [
             0.2222222222222222,
             "#7201a8"
            ],
            [
             0.3333333333333333,
             "#9c179e"
            ],
            [
             0.4444444444444444,
             "#bd3786"
            ],
            [
             0.5555555555555556,
             "#d8576b"
            ],
            [
             0.6666666666666666,
             "#ed7953"
            ],
            [
             0.7777777777777778,
             "#fb9f3a"
            ],
            [
             0.8888888888888888,
             "#fdca26"
            ],
            [
             1,
             "#f0f921"
            ]
           ],
           "sequentialminus": [
            [
             0,
             "#0d0887"
            ],
            [
             0.1111111111111111,
             "#46039f"
            ],
            [
             0.2222222222222222,
             "#7201a8"
            ],
            [
             0.3333333333333333,
             "#9c179e"
            ],
            [
             0.4444444444444444,
             "#bd3786"
            ],
            [
             0.5555555555555556,
             "#d8576b"
            ],
            [
             0.6666666666666666,
             "#ed7953"
            ],
            [
             0.7777777777777778,
             "#fb9f3a"
            ],
            [
             0.8888888888888888,
             "#fdca26"
            ],
            [
             1,
             "#f0f921"
            ]
           ]
          },
          "colorway": [
           "#636efa",
           "#EF553B",
           "#00cc96",
           "#ab63fa",
           "#FFA15A",
           "#19d3f3",
           "#FF6692",
           "#B6E880",
           "#FF97FF",
           "#FECB52"
          ],
          "font": {
           "color": "#2a3f5f"
          },
          "geo": {
           "bgcolor": "white",
           "lakecolor": "white",
           "landcolor": "#E5ECF6",
           "showlakes": true,
           "showland": true,
           "subunitcolor": "white"
          },
          "hoverlabel": {
           "align": "left"
          },
          "hovermode": "closest",
          "mapbox": {
           "style": "light"
          },
          "paper_bgcolor": "white",
          "plot_bgcolor": "#E5ECF6",
          "polar": {
           "angularaxis": {
            "gridcolor": "white",
            "linecolor": "white",
            "ticks": ""
           },
           "bgcolor": "#E5ECF6",
           "radialaxis": {
            "gridcolor": "white",
            "linecolor": "white",
            "ticks": ""
           }
          },
          "scene": {
           "xaxis": {
            "backgroundcolor": "#E5ECF6",
            "gridcolor": "white",
            "gridwidth": 2,
            "linecolor": "white",
            "showbackground": true,
            "ticks": "",
            "zerolinecolor": "white"
           },
           "yaxis": {
            "backgroundcolor": "#E5ECF6",
            "gridcolor": "white",
            "gridwidth": 2,
            "linecolor": "white",
            "showbackground": true,
            "ticks": "",
            "zerolinecolor": "white"
           },
           "zaxis": {
            "backgroundcolor": "#E5ECF6",
            "gridcolor": "white",
            "gridwidth": 2,
            "linecolor": "white",
            "showbackground": true,
            "ticks": "",
            "zerolinecolor": "white"
           }
          },
          "shapedefaults": {
           "line": {
            "color": "#2a3f5f"
           }
          },
          "ternary": {
           "aaxis": {
            "gridcolor": "white",
            "linecolor": "white",
            "ticks": ""
           },
           "baxis": {
            "gridcolor": "white",
            "linecolor": "white",
            "ticks": ""
           },
           "bgcolor": "#E5ECF6",
           "caxis": {
            "gridcolor": "white",
            "linecolor": "white",
            "ticks": ""
           }
          },
          "title": {
           "x": 0.05
          },
          "xaxis": {
           "automargin": true,
           "gridcolor": "white",
           "linecolor": "white",
           "ticks": "",
           "title": {
            "standoff": 15
           },
           "zerolinecolor": "white",
           "zerolinewidth": 2
          },
          "yaxis": {
           "automargin": true,
           "gridcolor": "white",
           "linecolor": "white",
           "ticks": "",
           "title": {
            "standoff": 15
           },
           "zerolinecolor": "white",
           "zerolinewidth": 2
          }
         }
        },
        "width": 1000,
        "xaxis": {
         "anchor": "y",
         "domain": [
          0,
          0.45
         ],
         "matches": "x3",
         "showticklabels": false
        },
        "xaxis2": {
         "anchor": "y2",
         "domain": [
          0.55,
          1
         ],
         "matches": "x4",
         "showticklabels": false
        },
        "xaxis3": {
         "anchor": "y3",
         "domain": [
          0,
          0.45
         ]
        },
        "xaxis4": {
         "anchor": "y4",
         "domain": [
          0.55,
          1
         ]
        },
        "yaxis": {
         "anchor": "x",
         "domain": [
          0.575,
          1
         ]
        },
        "yaxis2": {
         "anchor": "x2",
         "domain": [
          0.575,
          1
         ]
        },
        "yaxis3": {
         "anchor": "x3",
         "domain": [
          0,
          0.425
         ]
        },
        "yaxis4": {
         "anchor": "x4",
         "domain": [
          0,
          0.425
         ]
        }
       }
      },
      "text/html": [
       "<div>\n",
       "        \n",
       "        \n",
       "            <div id=\"70fc076f-7e67-45cd-b594-da4b38345eb6\" class=\"plotly-graph-div\" style=\"height:800px; width:1000px;\"></div>\n",
       "            <script type=\"text/javascript\">\n",
       "                require([\"plotly\"], function(Plotly) {\n",
       "                    window.PLOTLYENV=window.PLOTLYENV || {};\n",
       "                    \n",
       "                if (document.getElementById(\"70fc076f-7e67-45cd-b594-da4b38345eb6\")) {\n",
       "                    Plotly.newPlot(\n",
       "                        '70fc076f-7e67-45cd-b594-da4b38345eb6',\n",
       "                        [{\"name\": \"Expostos\", \"type\": \"scatter\", \"x\": [0, 1, 2, 3, 4, 5, 6, 7, 8, 9, 10, 11, 12, 13, 14, 15, 16, 17], \"xaxis\": \"x\", \"y\": [3423.0, 3310.2115532401017, 3303.8857672461254, 3382.674162444799, 3528.431694747393, 3726.741393121482, 3972.7434655488983, 4262.562743990948, 4592.2373412243915, 4959.789930311516, 5367.076099445194, 5815.955632111434, 6307.847018174995, 6843.762816218045, 7426.787544239433, 8061.225988102978, 8751.014742431962, 9500.396263192877], \"yaxis\": \"y\"}, {\"name\": \"Assintom\\u00e1ticos\", \"type\": \"scatter\", \"x\": [0, 1, 2, 3, 4, 5, 6, 7, 8, 9, 10, 11, 12, 13, 14, 15, 16, 17], \"xaxis\": \"x\", \"y\": [2738.4, 2481.380339055225, 2250.6243637244493, 2044.0770100958616, 1859.8600152982563, 1696.2381226140092, 1551.4103950577244, 1423.7665755053642, 1311.8941718344195, 1214.4971466792388, 1130.3606173621858, 1058.4182476065587, 997.743840459728, 947.5503108145606, 907.1222128740899, 875.8359640232778, 853.1760034836118, 838.7107660804331], \"yaxis\": \"y\"}, {\"name\": \"Infectados\", \"type\": \"scatter\", \"x\": [0, 1, 2, 3, 4, 5, 6, 7, 8, 9, 10, 11, 12, 13, 14, 15, 16, 17], \"xaxis\": \"x\", \"y\": [684.5999999999998, 1038.0025119666009, 1347.373647247116, 1627.6297591696914, 1891.9188769756456, 2151.3145826291293, 2411.3555314512537, 2677.1885363596894, 2954.2173710964817, 3246.893037451956, 3557.6141900380635, 3889.062039361363, 4244.487133315739, 4627.68902127667, 5041.585158484788, 5488.738705143468, 5972.358125226048, 6495.920444320174], \"yaxis\": \"y\"}, {\"name\": \"Diagnosticados\", \"type\": \"scatter\", \"x\": [0, 1, 2, 3, 4, 5, 6, 7, 8, 9, 10, 11, 12, 13, 14, 15, 16, 17], \"xaxis\": \"x\", \"y\": [489.0, 501.39294358228454, 520.8584029314005, 546.1472519519521, 576.23172432771, 610.350468608097, 648.4714791462377, 690.6198433695658, 736.8001741118151, 787.1627230802239, 842.1432713241635, 902.1758366913, 967.6630207778161, 1038.978789882406, 1116.662197616372, 1201.3532695463216, 1293.678115511378, 1394.3033229391147], \"yaxis\": \"y\"}, {\"name\": \"Recuperados\", \"type\": \"scatter\", \"x\": [0, 1, 2, 3, 4, 5, 6, 7, 8, 9, 10, 11, 12, 13, 14, 15, 16, 17], \"xaxis\": \"x\", \"y\": [16.0, 383.70668807330344, 753.600822580744, 1126.3561104549221, 1502.9312774941332, 1884.651539071977, 2273.939061273189, 2673.297166495035, 3085.2110978565333, 3512.4216277585933, 3958.1285633100497, 4425.603850997073, 4918.167605891785, 5439.192714568242, 5992.420149503877, 6581.875424918916, 7211.738364440682, 7886.440994638109], \"yaxis\": \"y\"}, {\"name\": \"Expostos\", \"type\": \"scatter\", \"x\": [0, 1, 2, 3, 4, 5, 6, 7, 8, 9, 10, 11, 12, 13, 14, 15, 16, 17], \"xaxis\": \"x3\", \"y\": [3423.0, 3310.2115532401017, 3303.8857672461254, 3382.674162444799, 3528.431694747393, 3726.741393121482, 3972.7434655488983, 4262.562743990948, 4592.2373412243915, 4959.789930311516, 5367.076099445194, 5815.955632111434, 6307.847018174995, 6843.762816218045, 7426.787544239433, 8061.225988102978, 8751.014742431962, 9500.396263192877], \"yaxis\": \"y3\"}, {\"name\": \"Assintom\\u00e1ticos\", \"type\": \"scatter\", \"x\": [0, 1, 2, 3, 4, 5, 6, 7, 8, 9, 10, 11, 12, 13, 14, 15, 16, 17], \"xaxis\": \"x3\", \"y\": [2738.4, 2481.380339055225, 2250.6243637244493, 2044.0770100958616, 1859.8600152982563, 1696.2381226140092, 1551.4103950577244, 1423.7665755053642, 1311.8941718344195, 1214.4971466792388, 1130.3606173621858, 1058.4182476065587, 997.743840459728, 947.5503108145606, 907.1222128740899, 875.8359640232778, 853.1760034836118, 838.7107660804331], \"yaxis\": \"y3\"}, {\"name\": \"Infectados\", \"type\": \"scatter\", \"x\": [0, 1, 2, 3, 4, 5, 6, 7, 8, 9, 10, 11, 12, 13, 14, 15, 16, 17], \"xaxis\": \"x3\", \"y\": [684.5999999999998, 1038.0025119666009, 1347.373647247116, 1627.6297591696914, 1891.9188769756456, 2151.3145826291293, 2411.3555314512537, 2677.1885363596894, 2954.2173710964817, 3246.893037451956, 3557.6141900380635, 3889.062039361363, 4244.487133315739, 4627.68902127667, 5041.585158484788, 5488.738705143468, 5972.358125226048, 6495.920444320174], \"yaxis\": \"y3\"}, {\"name\": \"Diagnosticados\", \"type\": \"scatter\", \"x\": [0, 1, 2, 3, 4, 5, 6, 7, 8, 9, 10, 11, 12, 13, 14, 15, 16, 17], \"xaxis\": \"x3\", \"y\": [489.0, 501.39294358228454, 520.8584029314005, 546.1472519519521, 576.23172432771, 610.350468608097, 648.4714791462377, 690.6198433695658, 736.8001741118151, 787.1627230802239, 842.1432713241635, 902.1758366913, 967.6630207778161, 1038.978789882406, 1116.662197616372, 1201.3532695463216, 1293.678115511378, 1394.3033229391147], \"yaxis\": \"y3\"}, {\"name\": \"Recuperados\", \"type\": \"scatter\", \"x\": [0, 1, 2, 3, 4, 5, 6, 7, 8, 9, 10, 11, 12, 13, 14, 15, 16, 17], \"xaxis\": \"x3\", \"y\": [16.0, 383.70668807330344, 753.600822580744, 1126.3561104549221, 1502.9312774941332, 1884.651539071977, 2273.939061273189, 2673.297166495035, 3085.2110978565333, 3512.4216277585933, 3958.1285633100497, 4425.603850997073, 4918.167605891785, 5439.192714568242, 5992.420149503877, 6581.875424918916, 7211.738364440682, 7886.440994638109], \"yaxis\": \"y3\"}],\n",
       "                        {\"height\": 800, \"shapes\": [{\"fillcolor\": \"LightSalmon\", \"layer\": \"below\", \"line\": {\"width\": 0}, \"opacity\": 0.5, \"type\": \"rect\", \"x0\": 3, \"x1\": 5, \"xref\": \"x\", \"y0\": 0.575, \"y1\": 1, \"yref\": \"paper\"}], \"template\": {\"data\": {\"bar\": [{\"error_x\": {\"color\": \"#2a3f5f\"}, \"error_y\": {\"color\": \"#2a3f5f\"}, \"marker\": {\"line\": {\"color\": \"#E5ECF6\", \"width\": 0.5}}, \"type\": \"bar\"}], \"barpolar\": [{\"marker\": {\"line\": {\"color\": \"#E5ECF6\", \"width\": 0.5}}, \"type\": \"barpolar\"}], \"carpet\": [{\"aaxis\": {\"endlinecolor\": \"#2a3f5f\", \"gridcolor\": \"white\", \"linecolor\": \"white\", \"minorgridcolor\": \"white\", \"startlinecolor\": \"#2a3f5f\"}, \"baxis\": {\"endlinecolor\": \"#2a3f5f\", \"gridcolor\": \"white\", \"linecolor\": \"white\", \"minorgridcolor\": \"white\", \"startlinecolor\": \"#2a3f5f\"}, \"type\": \"carpet\"}], \"choropleth\": [{\"colorbar\": {\"outlinewidth\": 0, \"ticks\": \"\"}, \"type\": \"choropleth\"}], \"contour\": [{\"colorbar\": {\"outlinewidth\": 0, \"ticks\": \"\"}, \"colorscale\": [[0.0, \"#0d0887\"], [0.1111111111111111, \"#46039f\"], [0.2222222222222222, \"#7201a8\"], [0.3333333333333333, \"#9c179e\"], [0.4444444444444444, \"#bd3786\"], [0.5555555555555556, \"#d8576b\"], [0.6666666666666666, \"#ed7953\"], [0.7777777777777778, \"#fb9f3a\"], [0.8888888888888888, \"#fdca26\"], [1.0, \"#f0f921\"]], \"type\": \"contour\"}], \"contourcarpet\": [{\"colorbar\": {\"outlinewidth\": 0, \"ticks\": \"\"}, \"type\": \"contourcarpet\"}], \"heatmap\": [{\"colorbar\": {\"outlinewidth\": 0, \"ticks\": \"\"}, \"colorscale\": [[0.0, \"#0d0887\"], [0.1111111111111111, \"#46039f\"], [0.2222222222222222, \"#7201a8\"], [0.3333333333333333, \"#9c179e\"], [0.4444444444444444, \"#bd3786\"], [0.5555555555555556, \"#d8576b\"], [0.6666666666666666, \"#ed7953\"], [0.7777777777777778, \"#fb9f3a\"], [0.8888888888888888, \"#fdca26\"], [1.0, \"#f0f921\"]], \"type\": \"heatmap\"}], \"heatmapgl\": [{\"colorbar\": {\"outlinewidth\": 0, \"ticks\": \"\"}, \"colorscale\": [[0.0, \"#0d0887\"], [0.1111111111111111, \"#46039f\"], [0.2222222222222222, \"#7201a8\"], [0.3333333333333333, \"#9c179e\"], [0.4444444444444444, \"#bd3786\"], [0.5555555555555556, \"#d8576b\"], [0.6666666666666666, \"#ed7953\"], [0.7777777777777778, \"#fb9f3a\"], [0.8888888888888888, \"#fdca26\"], [1.0, \"#f0f921\"]], \"type\": \"heatmapgl\"}], \"histogram\": [{\"marker\": {\"colorbar\": {\"outlinewidth\": 0, \"ticks\": \"\"}}, \"type\": \"histogram\"}], \"histogram2d\": [{\"colorbar\": {\"outlinewidth\": 0, \"ticks\": \"\"}, \"colorscale\": [[0.0, \"#0d0887\"], [0.1111111111111111, \"#46039f\"], [0.2222222222222222, \"#7201a8\"], [0.3333333333333333, \"#9c179e\"], [0.4444444444444444, \"#bd3786\"], [0.5555555555555556, \"#d8576b\"], [0.6666666666666666, \"#ed7953\"], [0.7777777777777778, \"#fb9f3a\"], [0.8888888888888888, \"#fdca26\"], [1.0, \"#f0f921\"]], \"type\": \"histogram2d\"}], \"histogram2dcontour\": [{\"colorbar\": {\"outlinewidth\": 0, \"ticks\": \"\"}, \"colorscale\": [[0.0, \"#0d0887\"], [0.1111111111111111, \"#46039f\"], [0.2222222222222222, \"#7201a8\"], [0.3333333333333333, \"#9c179e\"], [0.4444444444444444, \"#bd3786\"], [0.5555555555555556, \"#d8576b\"], [0.6666666666666666, \"#ed7953\"], [0.7777777777777778, \"#fb9f3a\"], [0.8888888888888888, \"#fdca26\"], [1.0, \"#f0f921\"]], \"type\": \"histogram2dcontour\"}], \"mesh3d\": [{\"colorbar\": {\"outlinewidth\": 0, \"ticks\": \"\"}, \"type\": \"mesh3d\"}], \"parcoords\": [{\"line\": {\"colorbar\": {\"outlinewidth\": 0, \"ticks\": \"\"}}, \"type\": \"parcoords\"}], \"pie\": [{\"automargin\": true, \"type\": \"pie\"}], \"scatter\": [{\"marker\": {\"colorbar\": {\"outlinewidth\": 0, \"ticks\": \"\"}}, \"type\": \"scatter\"}], \"scatter3d\": [{\"line\": {\"colorbar\": {\"outlinewidth\": 0, \"ticks\": \"\"}}, \"marker\": {\"colorbar\": {\"outlinewidth\": 0, \"ticks\": \"\"}}, \"type\": \"scatter3d\"}], \"scattercarpet\": [{\"marker\": {\"colorbar\": {\"outlinewidth\": 0, \"ticks\": \"\"}}, \"type\": \"scattercarpet\"}], \"scattergeo\": [{\"marker\": {\"colorbar\": {\"outlinewidth\": 0, \"ticks\": \"\"}}, \"type\": \"scattergeo\"}], \"scattergl\": [{\"marker\": {\"colorbar\": {\"outlinewidth\": 0, \"ticks\": \"\"}}, \"type\": \"scattergl\"}], \"scattermapbox\": [{\"marker\": {\"colorbar\": {\"outlinewidth\": 0, \"ticks\": \"\"}}, \"type\": \"scattermapbox\"}], \"scatterpolar\": [{\"marker\": {\"colorbar\": {\"outlinewidth\": 0, \"ticks\": \"\"}}, \"type\": \"scatterpolar\"}], \"scatterpolargl\": [{\"marker\": {\"colorbar\": {\"outlinewidth\": 0, \"ticks\": \"\"}}, \"type\": \"scatterpolargl\"}], \"scatterternary\": [{\"marker\": {\"colorbar\": {\"outlinewidth\": 0, \"ticks\": \"\"}}, \"type\": \"scatterternary\"}], \"surface\": [{\"colorbar\": {\"outlinewidth\": 0, \"ticks\": \"\"}, \"colorscale\": [[0.0, \"#0d0887\"], [0.1111111111111111, \"#46039f\"], [0.2222222222222222, \"#7201a8\"], [0.3333333333333333, \"#9c179e\"], [0.4444444444444444, \"#bd3786\"], [0.5555555555555556, \"#d8576b\"], [0.6666666666666666, \"#ed7953\"], [0.7777777777777778, \"#fb9f3a\"], [0.8888888888888888, \"#fdca26\"], [1.0, \"#f0f921\"]], \"type\": \"surface\"}], \"table\": [{\"cells\": {\"fill\": {\"color\": \"#EBF0F8\"}, \"line\": {\"color\": \"white\"}}, \"header\": {\"fill\": {\"color\": \"#C8D4E3\"}, \"line\": {\"color\": \"white\"}}, \"type\": \"table\"}]}, \"layout\": {\"annotationdefaults\": {\"arrowcolor\": \"#2a3f5f\", \"arrowhead\": 0, \"arrowwidth\": 1}, \"coloraxis\": {\"colorbar\": {\"outlinewidth\": 0, \"ticks\": \"\"}}, \"colorscale\": {\"diverging\": [[0, \"#8e0152\"], [0.1, \"#c51b7d\"], [0.2, \"#de77ae\"], [0.3, \"#f1b6da\"], [0.4, \"#fde0ef\"], [0.5, \"#f7f7f7\"], [0.6, \"#e6f5d0\"], [0.7, \"#b8e186\"], [0.8, \"#7fbc41\"], [0.9, \"#4d9221\"], [1, \"#276419\"]], \"sequential\": [[0.0, \"#0d0887\"], [0.1111111111111111, \"#46039f\"], [0.2222222222222222, \"#7201a8\"], [0.3333333333333333, \"#9c179e\"], [0.4444444444444444, \"#bd3786\"], [0.5555555555555556, \"#d8576b\"], [0.6666666666666666, \"#ed7953\"], [0.7777777777777778, \"#fb9f3a\"], [0.8888888888888888, \"#fdca26\"], [1.0, \"#f0f921\"]], \"sequentialminus\": [[0.0, \"#0d0887\"], [0.1111111111111111, \"#46039f\"], [0.2222222222222222, \"#7201a8\"], [0.3333333333333333, \"#9c179e\"], [0.4444444444444444, \"#bd3786\"], [0.5555555555555556, \"#d8576b\"], [0.6666666666666666, \"#ed7953\"], [0.7777777777777778, \"#fb9f3a\"], [0.8888888888888888, \"#fdca26\"], [1.0, \"#f0f921\"]]}, \"colorway\": [\"#636efa\", \"#EF553B\", \"#00cc96\", \"#ab63fa\", \"#FFA15A\", \"#19d3f3\", \"#FF6692\", \"#B6E880\", \"#FF97FF\", \"#FECB52\"], \"font\": {\"color\": \"#2a3f5f\"}, \"geo\": {\"bgcolor\": \"white\", \"lakecolor\": \"white\", \"landcolor\": \"#E5ECF6\", \"showlakes\": true, \"showland\": true, \"subunitcolor\": \"white\"}, \"hoverlabel\": {\"align\": \"left\"}, \"hovermode\": \"closest\", \"mapbox\": {\"style\": \"light\"}, \"paper_bgcolor\": \"white\", \"plot_bgcolor\": \"#E5ECF6\", \"polar\": {\"angularaxis\": {\"gridcolor\": \"white\", \"linecolor\": \"white\", \"ticks\": \"\"}, \"bgcolor\": \"#E5ECF6\", \"radialaxis\": {\"gridcolor\": \"white\", \"linecolor\": \"white\", \"ticks\": \"\"}}, \"scene\": {\"xaxis\": {\"backgroundcolor\": \"#E5ECF6\", \"gridcolor\": \"white\", \"gridwidth\": 2, \"linecolor\": \"white\", \"showbackground\": true, \"ticks\": \"\", \"zerolinecolor\": \"white\"}, \"yaxis\": {\"backgroundcolor\": \"#E5ECF6\", \"gridcolor\": \"white\", \"gridwidth\": 2, \"linecolor\": \"white\", \"showbackground\": true, \"ticks\": \"\", \"zerolinecolor\": \"white\"}, \"zaxis\": {\"backgroundcolor\": \"#E5ECF6\", \"gridcolor\": \"white\", \"gridwidth\": 2, \"linecolor\": \"white\", \"showbackground\": true, \"ticks\": \"\", \"zerolinecolor\": \"white\"}}, \"shapedefaults\": {\"line\": {\"color\": \"#2a3f5f\"}}, \"ternary\": {\"aaxis\": {\"gridcolor\": \"white\", \"linecolor\": \"white\", \"ticks\": \"\"}, \"baxis\": {\"gridcolor\": \"white\", \"linecolor\": \"white\", \"ticks\": \"\"}, \"bgcolor\": \"#E5ECF6\", \"caxis\": {\"gridcolor\": \"white\", \"linecolor\": \"white\", \"ticks\": \"\"}}, \"title\": {\"x\": 0.05}, \"xaxis\": {\"automargin\": true, \"gridcolor\": \"white\", \"linecolor\": \"white\", \"ticks\": \"\", \"title\": {\"standoff\": 15}, \"zerolinecolor\": \"white\", \"zerolinewidth\": 2}, \"yaxis\": {\"automargin\": true, \"gridcolor\": \"white\", \"linecolor\": \"white\", \"ticks\": \"\", \"title\": {\"standoff\": 15}, \"zerolinecolor\": \"white\", \"zerolinewidth\": 2}}}, \"width\": 1000, \"xaxis\": {\"anchor\": \"y\", \"domain\": [0.0, 0.45], \"matches\": \"x3\", \"showticklabels\": false}, \"xaxis2\": {\"anchor\": \"y2\", \"domain\": [0.55, 1.0], \"matches\": \"x4\", \"showticklabels\": false}, \"xaxis3\": {\"anchor\": \"y3\", \"domain\": [0.0, 0.45]}, \"xaxis4\": {\"anchor\": \"y4\", \"domain\": [0.55, 1.0]}, \"yaxis\": {\"anchor\": \"x\", \"domain\": [0.575, 1.0]}, \"yaxis2\": {\"anchor\": \"x2\", \"domain\": [0.575, 1.0]}, \"yaxis3\": {\"anchor\": \"x3\", \"domain\": [0.0, 0.425]}, \"yaxis4\": {\"anchor\": \"x4\", \"domain\": [0.0, 0.425]}},\n",
       "                        {\"responsive\": true}\n",
       "                    ).then(function(){\n",
       "                            \n",
       "var gd = document.getElementById('70fc076f-7e67-45cd-b594-da4b38345eb6');\n",
       "var x = new MutationObserver(function (mutations, observer) {{\n",
       "        var display = window.getComputedStyle(gd).display;\n",
       "        if (!display || display === 'none') {{\n",
       "            console.log([gd, 'removed!']);\n",
       "            Plotly.purge(gd);\n",
       "            observer.disconnect();\n",
       "        }}\n",
       "}});\n",
       "\n",
       "// Listen for the removal of the full notebook cells\n",
       "var notebookContainer = gd.closest('#notebook-container');\n",
       "if (notebookContainer) {{\n",
       "    x.observe(notebookContainer, {childList: true});\n",
       "}}\n",
       "\n",
       "// Listen for the clearing of the current output cell\n",
       "var outputEl = gd.closest('.output');\n",
       "if (outputEl) {{\n",
       "    x.observe(outputEl, {childList: true});\n",
       "}}\n",
       "\n",
       "                        })\n",
       "                };\n",
       "                });\n",
       "            </script>\n",
       "        </div>"
      ]
     },
     "metadata": {},
     "output_type": "display_data"
    }
   ],
   "source": [
    "fig = make_subplots(rows=2, cols = 2, column_width = [1,1], row_width=[1,1], shared_xaxes= True)\n",
    "for i in range(2,7):\n",
    "    fig.add_trace(go.Scatter(\n",
    "    x=np.arange(len(sol[i])),\n",
    "    y=sol[i], name = keys[i]), row = 1, col = 1)\n",
    "    \n",
    "for i in range(2,7):\n",
    "    fig.add_trace(go.Scatter(\n",
    "    x=np.arange(len(sol[i])),\n",
    "    y=sol[i], name = keys[i]), row = 2, col = 1)\n",
    "    \n",
    "fig.update_layout(\n",
    "    shapes=[\n",
    "        # 1st highlight during Feb 4 - Feb 6\n",
    "        dict(\n",
    "            type=\"rect\",\n",
    "            # x-reference is assigned to the x-values\n",
    "            xref=\"x\",\n",
    "            # y-reference is assigned to the plot paper [0,1]\n",
    "            yref=\"paper\",\n",
    "            x0=3,\n",
    "            y0=0.575,\n",
    "            x1=5,\n",
    "            y1=1,\n",
    "            fillcolor=\"LightSalmon\",\n",
    "            opacity=0.5,\n",
    "            layer=\"below\",\n",
    "            line_width=0,\n",
    "        )\n",
    "    ]\n",
    ")\n",
    "fig.update_layout(height=800, width=1000)\n",
    "fig.show()"
   ]
  },
  {
   "cell_type": "code",
   "execution_count": 215,
   "metadata": {},
   "outputs": [],
   "source": [
    "dados1 = np.array([[2.67708320e+06, 2.67884253e+06, 2.67986161e+06, 2.68034403e+06,\n",
    "        2.68048189e+06, 2.68042442e+06, 5.22425951e+06, 6.16078660e+06,\n",
    "        4.97355483e+06, 4.18954658e+06, 3.67469879e+06, 3.33362390e+06,\n",
    "        3.10873871e+06, 2.96081571e+06, 2.86145905e+06, 2.79666359e+06,\n",
    "        2.75365674e+06, 2.72366307e+06, 2.70391627e+06, 2.69105684e+06,\n",
    "        2.68122603e+06, 2.67369018e+06, 2.66844246e+06, 2.66479661e+06,\n",
    "        2.66145595e+06, 2.65782638e+06, 2.65447101e+06, 2.65156389e+06,\n",
    "        2.64902118e+06, 2.64650120e+06, 2.64343641e+06],\n",
    "       [4.03134180e+06, 4.02915229e+06, 4.02758993e+06, 4.02646545e+06,\n",
    "        4.02559812e+06, 4.02484656e+06, 1.48192726e+06, 5.45725782e+05,\n",
    "        1.73069354e+06, 2.51258139e+06, 3.02537418e+06, 3.36438398e+06,\n",
    "        3.58715612e+06, 3.73288522e+06, 3.82993303e+06, 3.89229294e+06,\n",
    "        3.93271564e+06, 3.95995665e+06, 3.97677609e+06, 3.98652033e+06,\n",
    "        3.99302854e+06, 3.99702396e+06, 3.99850433e+06, 3.99814169e+06,\n",
    "        3.99721358e+06, 3.99629634e+06, 3.99481456e+06, 3.99257879e+06,\n",
    "        3.98965433e+06, 3.98636120e+06, 3.98324237e+06],\n",
    "       [4.87900000e+03, 4.63097202e+03, 4.52064590e+03, 4.51769975e+03,\n",
    "        4.59688642e+03, 4.73902851e+03, 5.34200704e+03, 6.49829294e+03,\n",
    "        7.73798589e+03, 8.68163308e+03, 9.43754172e+03, 1.01044740e+04,\n",
    "        1.07275132e+04, 1.13424407e+04, 1.19848739e+04, 1.26584569e+04,\n",
    "        1.33807198e+04, 1.41658496e+04, 1.50084699e+04, 1.59127234e+04,\n",
    "        1.68913623e+04, 1.79436700e+04, 1.90666529e+04, 2.02637398e+04,\n",
    "        2.15444593e+04, 2.29154271e+04, 2.43748993e+04, 2.59244732e+04,\n",
    "        2.75689392e+04, 2.93162806e+04, 3.11773453e+04],\n",
    "       [3.90320000e+03, 3.53653741e+03, 3.20656508e+03, 2.91035884e+03,\n",
    "        2.64520288e+03, 2.40853593e+03, 2.25838179e+03, 2.11679859e+03,\n",
    "        1.95523275e+03, 1.81909158e+03, 1.70407725e+03, 1.60661809e+03,\n",
    "        1.52450706e+03, 1.45599579e+03, 1.39954434e+03, 1.35441214e+03,\n",
    "        1.31965545e+03, 1.29448950e+03, 1.27861624e+03, 1.27158870e+03,\n",
    "        1.27283525e+03, 1.28213829e+03, 1.29937482e+03, 1.32433939e+03,\n",
    "        1.35675225e+03, 1.39645027e+03, 1.44350037e+03, 1.49794496e+03,\n",
    "        1.55980381e+03, 1.62907411e+03, 1.70573774e+03],\n",
    "       [9.75800000e+02, 1.47397189e+03, 1.89769404e+03, 2.26839811e+03,\n",
    "        2.60424573e+03, 2.91948143e+03, 3.24095543e+03, 3.64583399e+03,\n",
    "        4.16736138e+03, 4.76867908e+03, 5.41535360e+03, 6.08100491e+03,\n",
    "        6.75758626e+03, 7.44151906e+03, 8.13003626e+03, 8.83060593e+03,\n",
    "        9.54559688e+03, 1.02780846e+04, 1.10370354e+04, 1.18277475e+04,\n",
    "        1.26523476e+04, 1.35172479e+04, 1.44291909e+04, 1.53928555e+04,\n",
    "        1.64110069e+04, 1.74875284e+04, 1.86289173e+04, 1.98407235e+04,\n",
    "        2.11277639e+04, 2.24941217e+04, 2.39432545e+04],\n",
    "       [6.97000000e+02, 7.14612124e+02, 7.41965200e+02, 7.76856630e+02,\n",
    "        8.17504296e+02, 8.62642472e+02, 9.12238671e+02, 9.67790014e+02,\n",
    "        1.03212550e+03, 1.10791677e+03, 1.19609219e+03, 1.29711041e+03,\n",
    "        1.41037683e+03, 1.53525194e+03, 1.67129976e+03, 1.81771078e+03,\n",
    "        1.97424711e+03, 2.14082950e+03, 2.31724466e+03, 2.50366254e+03,\n",
    "        2.70056817e+03, 2.90832372e+03, 3.12742365e+03, 3.35855442e+03,\n",
    "        3.60257970e+03, 3.86037653e+03, 4.13278822e+03, 4.42078932e+03,\n",
    "        4.72546019e+03, 5.04798696e+03, 5.38965596e+03],\n",
    "       [2.30000000e+01, 5.46973565e+02, 1.07315654e+03, 1.60136925e+03,\n",
    "        2.13193173e+03, 2.66581762e+03, 3.19353675e+03, 3.74279566e+03,\n",
    "        4.32812170e+03, 4.94807858e+03, 5.61006305e+03, 6.32007961e+03,\n",
    "        7.08160596e+03, 7.89765984e+03, 8.77137855e+03, 9.70488115e+03,\n",
    "        1.07013247e+04, 1.17641115e+04, 1.28962800e+04, 1.41017228e+04,\n",
    "        1.53850916e+04, 1.67508537e+04, 1.82038545e+04, 1.97495772e+04,\n",
    "        2.13941201e+04, 2.31438461e+04, 2.50052142e+04, 2.69852629e+04,\n",
    "        2.90916032e+04, 3.13324192e+04, 3.37164547e+04],\n",
    "       [1.93950800e+05, 1.94132725e+05, 1.94237382e+05, 1.94285950e+05,\n",
    "        1.94298433e+05, 1.94290366e+05, 3.76251858e+05, 4.41479323e+05,\n",
    "        3.56387794e+05, 3.00181883e+05, 2.63258084e+05, 2.38781191e+05,\n",
    "        2.22625721e+05, 2.11980870e+05, 2.04811206e+05, 2.00114027e+05,\n",
    "        1.96973621e+05, 1.94760682e+05, 1.93277638e+05, 1.92283618e+05,\n",
    "        1.91501307e+05, 1.90878233e+05, 1.90414108e+05, 1.90059493e+05,\n",
    "        1.89720763e+05, 1.89354825e+05, 1.89002216e+05, 1.88675361e+05,\n",
    "        1.88367924e+05, 1.88054800e+05, 1.87694453e+05],\n",
    "       [2.92549200e+05, 2.92323148e+05, 2.92161782e+05, 2.92045458e+05,\n",
    "        2.91955389e+05, 2.91876876e+05, 1.07467525e+05, 3.95753562e+04,\n",
    "        1.24416093e+05, 1.80379081e+05, 2.17062559e+05, 2.41295068e+05,\n",
    "        2.57198571e+05, 2.67580534e+05, 2.74472695e+05, 2.78876542e+05,\n",
    "        2.81705319e+05, 2.83586064e+05, 2.84715688e+05, 2.85333562e+05,\n",
    "        2.85714729e+05, 2.85910480e+05, 2.85920090e+05, 2.85791374e+05,\n",
    "        2.85615751e+05, 2.85434284e+05, 2.85205082e+05, 2.84914010e+05,\n",
    "        2.84565339e+05, 2.84181749e+05, 2.83802024e+05],\n",
    "       [5.04000000e+02, 4.78864711e+02, 4.68710356e+02, 4.70264522e+02,\n",
    "        4.80801599e+02, 4.98251446e+02, 6.37514420e+02, 8.71927630e+02,\n",
    "        9.92118570e+02, 1.08875322e+03, 1.16961879e+03, 1.24354865e+03,\n",
    "        1.31459603e+03, 1.38621905e+03, 1.46215303e+03, 1.54254643e+03,\n",
    "        1.62926754e+03, 1.72385741e+03, 1.82556083e+03, 1.93477923e+03,\n",
    "        2.05296346e+03, 2.17996000e+03, 2.31534523e+03, 2.45946835e+03,\n",
    "        2.61341285e+03, 2.77791241e+03, 2.95268185e+03, 3.13782959e+03,\n",
    "        3.33384418e+03, 3.54159420e+03, 3.76228805e+03],\n",
    "       [4.03200000e+02, 3.99352090e+02, 3.95431020e+02, 3.91541824e+02,\n",
    "        3.87774702e+02, 3.84201875e+02, 3.19043971e+02, 2.72015254e+02,\n",
    "        2.74535106e+02, 2.77904379e+02, 2.81967372e+02, 2.86587973e+02,\n",
    "        2.91728396e+02, 2.97374438e+02, 3.03515314e+02, 3.10206727e+02,\n",
    "        3.17474110e+02, 3.25349540e+02, 3.33906236e+02, 3.43196445e+02,\n",
    "        3.53254183e+02, 3.64143769e+02, 3.75934689e+02, 3.88684989e+02,\n",
    "        4.02442169e+02, 4.17262991e+02, 4.33224228e+02, 4.50398680e+02,\n",
    "        4.68856198e+02, 4.88663676e+02, 5.09885786e+02],\n",
    "       [1.00800000e+02, 1.52283964e+02, 1.96191362e+02, 2.34800460e+02,\n",
    "        2.70041601e+02, 3.03426259e+02, 3.42005988e+02, 4.00595658e+02,\n",
    "        4.76789199e+02, 5.58344139e+02, 6.42688641e+02, 7.27617224e+02,\n",
    "        8.12708488e+02, 8.97899528e+02, 9.83107633e+02, 1.06938579e+03,\n",
    "        1.15713727e+03, 1.24681201e+03, 1.33953419e+03, 1.43597438e+03,\n",
    "        1.53641052e+03, 1.64161933e+03, 1.75240714e+03, 1.86932683e+03,\n",
    "        1.99269584e+03, 2.12295594e+03, 2.26086061e+03, 2.40704438e+03,\n",
    "        2.56204403e+03, 2.72629859e+03, 2.90016255e+03],\n",
    "       [7.20000000e+01, 7.39880706e+01, 7.72771323e+01, 8.15867344e+01,\n",
    "        8.66876437e+01, 9.24120045e+01, 9.84230639e+01, 1.04935493e+02,\n",
    "        1.12915454e+02, 1.22807043e+02, 1.34555586e+02, 1.48097117e+02,\n",
    "        1.63282851e+02, 1.79980055e+02, 1.98094380e+02, 2.17501569e+02,\n",
    "        2.38151246e+02, 2.60018115e+02, 2.83067471e+02, 3.07312386e+02,\n",
    "        3.32805157e+02, 3.59586546e+02, 3.87714842e+02, 4.17271294e+02,\n",
    "        4.48358321e+02, 4.81080705e+02, 5.15539563e+02, 5.51851014e+02,\n",
    "        5.90143326e+02, 6.30556914e+02, 6.73243641e+02],\n",
    "       [2.00000000e+00, 2.18917385e+01, 4.55924045e+01, 7.27535442e+01,\n",
    "        1.03108662e+02, 1.36487653e+02, 1.87744464e+02, 2.38297366e+02,\n",
    "        2.83753871e+02, 3.36077530e+02, 3.95678108e+02, 4.62900802e+02,\n",
    "        5.37886785e+02, 6.20770096e+02, 7.11729757e+02, 8.10863163e+02,\n",
    "        9.18400276e+02, 1.03461573e+03, 1.15976130e+03, 1.29419357e+03,\n",
    "        1.43836248e+03, 1.59270823e+03, 1.75772140e+03, 1.93396800e+03,\n",
    "        2.12208680e+03, 2.32275075e+03, 2.53664864e+03, 2.76453533e+03,\n",
    "        3.00723002e+03, 3.26561634e+03, 3.54064085e+03]])\n",
    "\n",
    "dados2 = np.array([[2.67708320e+06, 2.67884253e+06, 2.67986161e+06, 2.68034403e+06,\n",
    "        2.68048189e+06, 2.68043405e+06, 2.68022075e+06, 2.67987541e+06,\n",
    "        2.67945197e+06, 2.67898036e+06, 2.67844666e+06, 2.67784845e+06,\n",
    "        2.67719436e+06, 2.67650344e+06, 2.67577585e+06, 2.67499653e+06,\n",
    "        2.67415782e+06, 2.67325618e+06, 2.67229209e+06, 2.67127017e+06,\n",
    "        2.67019718e+06, 2.66906471e+06, 2.66785704e+06, 2.66656190e+06,\n",
    "        2.66517053e+06, 2.66367771e+06, 2.66208174e+06, 2.66038445e+06,\n",
    "        2.65859120e+06, 2.65670942e+06, 2.65471281e+06],\n",
    "       [4.03134180e+06, 4.02915229e+06, 4.02758993e+06, 4.02646545e+06,\n",
    "        4.02559812e+06, 4.02483734e+06, 4.02416509e+06, 4.02354905e+06,\n",
    "        4.02293618e+06, 4.02229579e+06, 4.02163823e+06, 4.02096217e+06,\n",
    "        4.02025529e+06, 4.01949494e+06, 4.01867596e+06, 4.01780699e+06,\n",
    "        4.01688914e+06, 4.01591927e+06, 4.01488994e+06, 4.01378946e+06,\n",
    "        4.01260345e+06, 4.01133118e+06, 4.00997889e+06, 4.00854892e+06,\n",
    "        4.00703951e+06, 4.00544478e+06, 4.00375477e+06, 4.00195541e+06,\n",
    "        4.00002854e+06, 3.99795331e+06, 3.99574081e+06],\n",
    "       [4.87900000e+03, 4.63097202e+03, 4.52064590e+03, 4.51769975e+03,\n",
    "        4.59688642e+03, 4.73828658e+03, 4.93265794e+03, 5.17241189e+03,\n",
    "        5.44998444e+03, 5.76041959e+03, 6.10346596e+03, 6.47876893e+03,\n",
    "        6.88535583e+03, 7.32168357e+03, 7.78814208e+03, 8.28725134e+03,\n",
    "        8.82112406e+03, 9.39155907e+03, 1.00000413e+04, 1.06477420e+04,\n",
    "        1.13359788e+04, 1.20681156e+04, 1.28474297e+04, 1.36771377e+04,\n",
    "        1.45604686e+04, 1.55006646e+04, 1.65009805e+04, 1.75646841e+04,\n",
    "        1.86950558e+04, 1.98954539e+04, 2.11709691e+04],\n",
    "       [3.90320000e+03, 3.53653741e+03, 3.20656508e+03, 2.91035884e+03,\n",
    "        2.64520288e+03, 2.40855567e+03, 2.19784496e+03, 2.01073933e+03,\n",
    "        1.84516909e+03, 1.69921713e+03, 1.57107722e+03, 1.45913918e+03,\n",
    "        1.36197461e+03, 1.27833357e+03, 1.20704231e+03, 1.14707829e+03,\n",
    "        1.09754983e+03, 1.05765650e+03, 1.02668919e+03, 1.00403006e+03,\n",
    "        9.89119335e+02, 9.81445694e+02, 9.80695615e+02, 9.86596493e+02,\n",
    "        9.98905512e+02, 1.01740965e+03, 1.04192567e+03, 1.07230013e+03,\n",
    "        1.10840938e+03, 1.15016344e+03, 1.19760749e+03],\n",
    "       [9.75800000e+02, 1.47397189e+03, 1.89769404e+03, 2.26839811e+03,\n",
    "        2.60424573e+03, 2.91996279e+03, 3.22336800e+03, 3.52127809e+03,\n",
    "        3.82056076e+03, 4.12647147e+03, 4.44129848e+03, 4.76749990e+03,\n",
    "        5.10804586e+03, 5.46638878e+03, 5.84486742e+03, 6.24455402e+03,\n",
    "        6.66693956e+03, 7.11389127e+03, 7.58765267e+03, 8.09084356e+03,\n",
    "        8.62618163e+03, 9.19527566e+03, 9.79995276e+03, 1.04423392e+04,\n",
    "        1.11248193e+04, 1.18500350e+04, 1.26208864e+04, 1.34405315e+04,\n",
    "        1.43123858e+04, 1.52400863e+04, 1.62265734e+04],\n",
    "       [6.97000000e+02, 7.14612124e+02, 7.41965200e+02, 7.76856630e+02,\n",
    "        8.17504296e+02, 8.62575091e+02, 9.11682622e+02, 9.64554029e+02,\n",
    "        1.02088760e+03, 1.08059494e+03, 1.14398769e+03, 1.21134936e+03,\n",
    "        1.28289413e+03, 1.35877158e+03, 1.43930077e+03, 1.52497198e+03,\n",
    "        1.61623523e+03, 1.71351635e+03, 1.81721699e+03, 1.92771462e+03,\n",
    "        2.04541054e+03, 2.17089424e+03, 2.30472400e+03, 2.44747179e+03,\n",
    "        2.59973262e+03, 2.76212447e+03, 2.93528829e+03, 3.11988807e+03,\n",
    "        3.31661075e+03, 3.52617097e+03, 3.74943247e+03],\n",
    "       [2.30000000e+01, 5.46973565e+02, 1.07315654e+03, 1.60136925e+03,\n",
    "        2.13193173e+03, 2.66572005e+03, 3.20492153e+03, 3.75181573e+03,\n",
    "        4.30858085e+03, 4.87766972e+03, 5.46207476e+03, 6.06473871e+03,\n",
    "        6.68851278e+03, 7.33616520e+03, 8.01075434e+03, 8.71557699e+03,\n",
    "        9.45393342e+03, 1.02291806e+04, 1.10447320e+04, 1.19040581e+04,\n",
    "        1.28107893e+04, 1.37689532e+04, 1.47825321e+04, 1.58557228e+04,\n",
    "        1.69929618e+04, 1.81989258e+04, 1.94785314e+04, 2.08369355e+04,\n",
    "        2.22795345e+04, 2.38119724e+04, 2.54403514e+04],\n",
    "       [1.93950800e+05, 1.94132725e+05, 1.94237382e+05, 1.94285950e+05,\n",
    "        1.94298433e+05, 1.94291373e+05, 1.94266831e+05, 1.94228260e+05,\n",
    "        1.94181258e+05, 1.94128920e+05, 1.94069758e+05, 1.94003491e+05,\n",
    "        1.93930991e+05, 1.93854218e+05, 1.93773154e+05, 1.93686201e+05,\n",
    "        1.93592533e+05, 1.93491746e+05, 1.93383857e+05, 1.93269306e+05,\n",
    "        1.93148739e+05, 1.93021207e+05, 1.92885089e+05, 1.92739106e+05,\n",
    "        1.92582324e+05, 1.92414157e+05, 1.92234361e+05, 1.92043043e+05,\n",
    "        1.91840653e+05, 1.91627844e+05, 1.91401929e+05],\n",
    "       [2.92549200e+05, 2.92323148e+05, 2.92161782e+05, 2.92045458e+05,\n",
    "        2.91955389e+05, 2.91875914e+05, 2.91805190e+05, 2.91739863e+05,\n",
    "        2.91674412e+05, 2.91605636e+05, 2.91534608e+05, 2.91461174e+05,\n",
    "        2.91384034e+05, 2.91300805e+05, 2.91210931e+05, 2.91115279e+05,\n",
    "        2.91013930e+05, 2.90906518e+05, 2.90792238e+05, 2.90669837e+05,\n",
    "        2.90537801e+05, 2.90396034e+05, 2.90245089e+05, 2.90085121e+05,\n",
    "        2.89915874e+05, 2.89736683e+05, 2.89546473e+05, 2.89343761e+05,\n",
    "        2.89126650e+05, 2.88892976e+05, 2.88643736e+05],\n",
    "       [5.04000000e+02, 4.78864711e+02, 4.68710356e+02, 4.70264522e+02,\n",
    "        4.80801599e+02, 4.98170627e+02, 5.21378625e+02, 5.49611872e+02,\n",
    "        5.82057911e+02, 6.18187623e+02, 6.57983974e+02, 7.01418411e+02,\n",
    "        7.48395012e+02, 7.98755710e+02, 8.52553975e+02, 9.10074242e+02,\n",
    "        9.71556516e+02, 1.03720724e+03, 1.10719931e+03, 1.18167205e+03,\n",
    "        1.26078418e+03, 1.34491828e+03, 1.43443354e+03, 1.52968378e+03,\n",
    "        1.63102655e+03, 1.73882309e+03, 1.85343837e+03, 1.97524105e+03,\n",
    "        2.10460351e+03, 2.24190780e+03, 2.38769625e+03],\n",
    "       [4.03200000e+02, 3.99352090e+02, 3.95431020e+02, 3.91541824e+02,\n",
    "        3.87774702e+02, 3.84204189e+02, 3.80872413e+02, 3.77817464e+02,\n",
    "        3.75078470e+02, 3.72687611e+02, 3.70663616e+02, 3.69026900e+02,\n",
    "        3.67801225e+02, 3.67013565e+02, 3.66686517e+02, 3.66837541e+02,\n",
    "        3.67487201e+02, 3.68659011e+02, 3.70379437e+02, 3.72677892e+02,\n",
    "        3.75585446e+02, 3.79129233e+02, 3.83338903e+02, 3.88247133e+02,\n",
    "        3.93889429e+02, 4.00304130e+02, 4.07532408e+02, 4.15618267e+02,\n",
    "        4.24608543e+02, 4.34552778e+02, 4.45500288e+02],\n",
    "       [1.00800000e+02, 1.52283964e+02, 1.96191362e+02, 2.34800460e+02,\n",
    "        2.70041601e+02, 3.03478438e+02, 3.35929885e+02, 3.68110446e+02,\n",
    "        4.00744003e+02, 4.34382706e+02, 4.69260357e+02, 5.05631877e+02,\n",
    "        5.43809882e+02, 5.84161417e+02, 6.26934169e+02, 6.72242346e+02,\n",
    "        7.20247272e+02, 7.71151855e+02, 8.25200584e+02, 8.82679530e+02,\n",
    "        9.43883492e+02, 1.00898778e+03, 1.07820558e+03, 1.15178108e+03,\n",
    "        1.22998391e+03, 1.31310919e+03, 1.40147750e+03, 1.49543489e+03,\n",
    "        1.59535286e+03, 1.70162528e+03, 1.81459060e+03],\n",
    "       [7.20000000e+01, 7.39880706e+01, 7.72771323e+01, 8.15867344e+01,\n",
    "        8.66876437e+01, 9.24045506e+01, 9.86700692e+01, 1.05433123e+02,\n",
    "        1.12642815e+02, 1.20274575e+02, 1.28351040e+02, 1.36894014e+02,\n",
    "        1.45919467e+02, 1.55438024e+02, 1.65480396e+02, 1.76098657e+02,\n",
    "        1.87341606e+02, 1.99256033e+02, 2.11886720e+02, 2.25276443e+02,\n",
    "        2.39471351e+02, 2.54539626e+02, 2.70546656e+02, 2.87559643e+02,\n",
    "        3.05648633e+02, 3.24886508e+02, 3.45348993e+02, 3.67114654e+02,\n",
    "        3.90264895e+02, 4.14884440e+02, 4.41073801e+02],\n",
    "       [2.00000000e+00, 2.18917385e+01, 4.55924045e+01, 7.27535442e+01,\n",
    "        1.03108662e+02, 1.36477173e+02, 1.72840655e+02, 2.12214195e+02,\n",
    "        2.54623849e+02, 3.00143805e+02, 3.48925892e+02, 4.01132792e+02,\n",
    "        4.56931310e+02, 5.16493124e+02, 5.80031899e+02, 6.47803988e+02,\n",
    "        7.20076128e+02, 7.97128171e+02, 8.79253084e+02, 9.66756950e+02,\n",
    "        1.05996866e+03, 1.15926800e+03, 1.26504386e+03, 1.37771116e+03,\n",
    "        1.49771301e+03, 1.62552068e+03, 1.76163361e+03, 1.90657943e+03,\n",
    "        2.06091393e+03, 2.22522208e+03, 2.40014644e+03]])"
   ]
  },
  {
   "cell_type": "code",
   "execution_count": 272,
   "metadata": {},
   "outputs": [
    {
     "data": {
      "text/plain": [
       "14"
      ]
     },
     "execution_count": 272,
     "metadata": {},
     "output_type": "execute_result"
    }
   ],
   "source": [
    "len(dados1)"
   ]
  },
  {
   "cell_type": "code",
   "execution_count": 271,
   "metadata": {},
   "outputs": [
    {
     "data": {
      "text/plain": [
       "['blue', 'red', 'green', 'orange', 'grey']"
      ]
     },
     "execution_count": 271,
     "metadata": {},
     "output_type": "execute_result"
    }
   ],
   "source": [
    "colors"
   ]
  },
  {
   "cell_type": "code",
   "execution_count": 291,
   "metadata": {},
   "outputs": [
    {
     "data": {
      "application/vnd.plotly.v1+json": {
       "config": {
        "plotlyServerURL": "https://plot.ly"
       },
       "data": [
        {
         "marker": {
          "color": "blue",
          "coloraxis": "coloraxis"
         },
         "name": "Expostos",
         "showlegend": false,
         "type": "scatter",
         "x": [
          0,
          1,
          2,
          3,
          4,
          5,
          6,
          7,
          8,
          9,
          10,
          11,
          12,
          13,
          14,
          15,
          16,
          17,
          18,
          19,
          20,
          21,
          22,
          23,
          24,
          25,
          26,
          27,
          28,
          29,
          30
         ],
         "xaxis": "x",
         "y": [
          0,
          0,
          0,
          0,
          0,
          0.7419300000001385,
          409.34910000000036,
          1325.88105,
          2288.0014499999997,
          2921.213489999999,
          3334.075759999999,
          3625.70507,
          3842.157369999999,
          4020.757129999999,
          4196.731820000001,
          4371.2055599999985,
          4559.595740000001,
          4774.29053,
          5008.428599999999,
          5264.981400000001,
          5555.3835,
          5875.554399999999,
          6219.2232,
          6586.6021,
          6983.9906999999985,
          7414.762500000001,
          7873.9187999999995,
          8359.789100000002,
          8873.883400000002,
          9420.826699999998,
          10006.376200000002
         ],
         "yaxis": "y"
        },
        {
         "marker": {
          "color": "red",
          "coloraxis": "coloraxis"
         },
         "name": "Assintomáticos",
         "showlegend": false,
         "type": "scatter",
         "x": [
          0,
          1,
          2,
          3,
          4,
          5,
          6,
          7,
          8,
          9,
          10,
          11,
          12,
          13,
          14,
          15,
          16,
          17,
          18,
          19,
          20,
          21,
          22,
          23,
          24,
          25,
          26,
          27,
          28,
          29,
          30
         ],
         "xaxis": "x",
         "y": [
          0,
          0,
          0,
          0,
          0,
          0.0197400000001835,
          60.53683000000001,
          106.05925999999977,
          110.0636599999998,
          119.87445000000002,
          133.00003000000015,
          147.47891000000004,
          162.53244999999993,
          177.66221999999993,
          192.50202999999988,
          207.33384999999998,
          222.10562000000004,
          236.83299999999986,
          251.92705,
          267.55863999999997,
          283.7159150000001,
          300.6925960000001,
          318.679205,
          337.7428970000001,
          357.84673799999996,
          379.04062,
          401.5746999999999,
          425.64482999999996,
          451.39443000000006,
          478.91067,
          508.13024999999993
         ],
         "yaxis": "y"
        },
        {
         "marker": {
          "color": "green",
          "coloraxis": "coloraxis"
         },
         "name": "Infectados",
         "showlegend": false,
         "type": "scatter",
         "x": [
          0,
          1,
          2,
          3,
          4,
          5,
          6,
          7,
          8,
          9,
          10,
          11,
          12,
          13,
          14,
          15,
          16,
          17,
          18,
          19,
          20,
          21,
          22,
          23,
          24,
          25,
          26,
          27,
          28,
          29,
          30
         ],
         "xaxis": "x",
         "y": [
          0,
          0,
          0,
          0,
          0,
          0.4813600000002225,
          17.58743000000004,
          124.55590000000029,
          346.80062000000044,
          642.2076099999995,
          974.05512,
          1313.5050099999999,
          1649.5403999999999,
          1975.1302799999994,
          2285.1688400000003,
          2586.05191,
          2878.6573199999993,
          3164.19333,
          3449.3827300000003,
          3736.9039399999992,
          4026.16597,
          4321.972240000001,
          4629.2381399999995,
          4950.516299999999,
          5286.187600000001,
          5637.493399999999,
          6008.030900000002,
          6400.192000000001,
          6815.378100000002,
          7254.035399999999,
          7716.6811
         ],
         "yaxis": "y"
        },
        {
         "marker": {
          "color": "orange",
          "coloraxis": "coloraxis"
         },
         "name": "Diagnosticados",
         "showlegend": false,
         "type": "scatter",
         "x": [
          0,
          1,
          2,
          3,
          4,
          5,
          6,
          7,
          8,
          9,
          10,
          11,
          12,
          13,
          14,
          15,
          16,
          17,
          18,
          19,
          20,
          21,
          22,
          23,
          24,
          25,
          26,
          27,
          28,
          29,
          30
         ],
         "xaxis": "x",
         "y": [
          0,
          0,
          0,
          0,
          0,
          0.06738099999995484,
          0.5560489999999163,
          3.235985000000028,
          11.237900000000081,
          27.32183000000009,
          52.104500000000144,
          85.76105000000007,
          127.48270000000002,
          176.48036000000002,
          231.99899000000005,
          292.7388000000001,
          358.01188,
          427.3131499999997,
          500.02766999999994,
          575.9479199999998,
          655.1576299999999,
          737.4294799999998,
          822.69965,
          911.0826299999999,
          1002.8470799999996,
          1098.2520599999998,
          1197.4999300000004,
          1300.90125,
          1408.84944,
          1521.81599,
          1640.2234899999999
         ],
         "yaxis": "y"
        },
        {
         "marker": {
          "color": "grey",
          "coloraxis": "coloraxis"
         },
         "name": "Recuperados",
         "showlegend": false,
         "type": "scatter",
         "x": [
          0,
          1,
          2,
          3,
          4,
          5,
          6,
          7,
          8,
          9,
          10,
          11,
          12,
          13,
          14,
          15,
          16,
          17,
          18,
          19,
          20,
          21,
          22,
          23,
          24,
          25,
          26,
          27,
          28,
          29,
          30
         ],
         "xaxis": "x",
         "y": [
          0,
          0,
          0,
          0,
          0,
          0.09756999999990512,
          11.384779999999864,
          9.020069999999578,
          19.54084999999941,
          70.40886000000046,
          147.98828999999932,
          255.34090000000015,
          393.09317999999985,
          561.4946399999999,
          760.624209999999,
          989.3041599999997,
          1247.3912799999998,
          1534.9309000000012,
          1851.5480000000007,
          2197.6646999999994,
          2574.3022999999994,
          2981.9004999999997,
          3421.322400000001,
          3893.8544,
          4401.158299999999,
          4944.920299999998,
          5526.682799999999,
          6148.327400000002,
          6812.0687,
          7520.4468000000015,
          8276.103300000002
         ],
         "yaxis": "y"
        },
        {
         "marker": {
          "color": "blue"
         },
         "name": "Expostos",
         "type": "scatter",
         "x": [
          0,
          1,
          2,
          3,
          4,
          5,
          6,
          7,
          8,
          9,
          10,
          11,
          12,
          13,
          14,
          15,
          16,
          17,
          18,
          19,
          20,
          21,
          22,
          23,
          24,
          25,
          26,
          27,
          28,
          29,
          30
         ],
         "xaxis": "x2",
         "y": [
          0,
          0,
          0,
          0,
          0,
          0.08081899999996267,
          116.13579499999992,
          322.3157580000001,
          410.060659,
          470.565597,
          511.634816,
          542.130239,
          566.201018,
          587.4633399999999,
          609.5990549999999,
          632.4721880000001,
          657.7110240000001,
          686.6501700000001,
          718.3615199999999,
          753.1071800000002,
          792.1792799999998,
          835.0417199999999,
          880.9116899999999,
          929.78457,
          982.3863000000001,
          1039.0893199999998,
          1099.2434799999999,
          1162.5885399999997,
          1229.2406700000001,
          1299.6864,
          1374.5918000000001
         ],
         "yaxis": "y2"
        },
        {
         "marker": {
          "color": "red"
         },
         "name": "Assintomáticos",
         "type": "scatter",
         "x": [
          0,
          1,
          2,
          3,
          4,
          5,
          6,
          7,
          8,
          9,
          10,
          11,
          12,
          13,
          14,
          15,
          16,
          17,
          18,
          19,
          20,
          21,
          22,
          23,
          24,
          25,
          26,
          27,
          28,
          29,
          30
         ],
         "xaxis": "x2",
         "y": [
          0,
          0,
          0,
          0,
          0,
          0.0023140000000125838,
          61.828441999999995,
          105.80220999999995,
          100.543364,
          94.783232,
          88.69624399999998,
          82.43892700000004,
          76.07282900000001,
          69.63912700000003,
          63.17120299999999,
          56.63081399999999,
          50.01309100000003,
          43.30947100000003,
          36.47320100000002,
          29.481447000000003,
          22.33126299999998,
          14.985463999999979,
          7.4042140000000245,
          0.43785599999995384,
          8.552739999999972,
          16.958861000000013,
          25.691820000000007,
          34.78041300000001,
          44.24765500000001,
          54.11089800000002,
          64.38549799999998
         ],
         "yaxis": "y2"
        },
        {
         "marker": {
          "color": "green"
         },
         "name": "Infectados",
         "type": "scatter",
         "x": [
          0,
          1,
          2,
          3,
          4,
          5,
          6,
          7,
          8,
          9,
          10,
          11,
          12,
          13,
          14,
          15,
          16,
          17,
          18,
          19,
          20,
          21,
          22,
          23,
          24,
          25,
          26,
          27,
          28,
          29,
          30
         ],
         "xaxis": "x2",
         "y": [
          0,
          0,
          0,
          0,
          0,
          0.05217899999996689,
          6.076102999999989,
          32.48521199999999,
          76.04519599999998,
          123.96143300000006,
          173.42828399999996,
          221.985347,
          268.898606,
          313.738111,
          356.17346399999997,
          397.14344400000004,
          436.889998,
          475.66015500000015,
          514.333606,
          553.2948500000001,
          592.5270279999999,
          632.63155,
          674.20156,
          717.54575,
          762.7119300000002,
          809.8467499999999,
          859.3831100000002,
          911.6094899999998,
          966.69117,
          1024.67331,
          1085.57195
         ],
         "yaxis": "y2"
        },
        {
         "marker": {
          "color": "orange"
         },
         "name": "Diagnosticados",
         "type": "scatter",
         "x": [
          0,
          1,
          2,
          3,
          4,
          5,
          6,
          7,
          8,
          9,
          10,
          11,
          12,
          13,
          14,
          15,
          16,
          17,
          18,
          19,
          20,
          21,
          22,
          23,
          24,
          25,
          26,
          27,
          28,
          29,
          30
         ],
         "xaxis": "x2",
         "y": [
          0,
          0,
          0,
          0,
          0,
          0.007453900000001568,
          0.24700529999999787,
          0.4976300000000009,
          0.2726389999999981,
          2.5324679999999944,
          6.2045459999999935,
          11.203102999999999,
          17.363383999999996,
          24.54203099999998,
          32.61398399999999,
          41.402911999999986,
          50.80963999999997,
          60.76208200000002,
          71.18075100000001,
          82.035943,
          93.33380600000001,
          105.04692,
          117.16818599999999,
          129.71165100000002,
          142.70968799999997,
          156.19419700000003,
          170.19057000000004,
          184.73636,
          199.87843099999998,
          215.67247400000002,
          232.16984000000002
         ],
         "yaxis": "y2"
        },
        {
         "marker": {
          "color": "grey"
         },
         "name": "Recuperados",
         "type": "scatter",
         "x": [
          0,
          1,
          2,
          3,
          4,
          5,
          6,
          7,
          8,
          9,
          10,
          11,
          12,
          13,
          14,
          15,
          16,
          17,
          18,
          19,
          20,
          21,
          22,
          23,
          24,
          25,
          26,
          27,
          28,
          29,
          30
         ],
         "xaxis": "x2",
         "y": [
          0,
          0,
          0,
          0,
          0,
          0.010480000000001155,
          14.903808999999995,
          26.08317100000002,
          29.130021999999997,
          35.93372500000004,
          46.75221600000003,
          61.768010000000004,
          80.95547500000004,
          104.276972,
          131.697858,
          163.05917499999998,
          198.32414799999992,
          237.48755900000003,
          280.50821599999995,
          327.43661999999995,
          378.39382,
          433.44022999999993,
          492.6775399999999,
          556.25684,
          624.3737900000001,
          697.2300700000001,
          775.0150299999998,
          857.9559000000002,
          946.3160899999998,
          1040.39426,
          1140.4944099999998
         ],
         "yaxis": "y2"
        }
       ],
       "layout": {
        "annotations": [
         {
          "font": {
           "size": 16
          },
          "showarrow": false,
          "text": "Rio de Janeiro",
          "x": 0.225,
          "xanchor": "center",
          "xref": "paper",
          "y": 1,
          "yanchor": "bottom",
          "yref": "paper"
         },
         {
          "font": {
           "size": 16
          },
          "showarrow": false,
          "text": "Niterói",
          "x": 0.775,
          "xanchor": "center",
          "xref": "paper",
          "y": 1,
          "yanchor": "bottom",
          "yref": "paper"
         }
        ],
        "height": 500,
        "shapes": [
         {
          "fillcolor": "LightSalmon",
          "layer": "below",
          "line": {
           "width": 0
          },
          "opacity": 0.5,
          "type": "rect",
          "x0": 5,
          "x1": 7,
          "xref": "x",
          "y0": 0,
          "y1": 1,
          "yref": "paper"
         },
         {
          "fillcolor": "LightSalmon",
          "layer": "below",
          "line": {
           "width": 0
          },
          "opacity": 0.5,
          "type": "rect",
          "x0": 5,
          "x1": 7,
          "xref": "x2",
          "y0": 0,
          "y1": 1,
          "yref": "paper"
         }
        ],
        "template": {
         "data": {
          "bar": [
           {
            "error_x": {
             "color": "#2a3f5f"
            },
            "error_y": {
             "color": "#2a3f5f"
            },
            "marker": {
             "line": {
              "color": "#E5ECF6",
              "width": 0.5
             }
            },
            "type": "bar"
           }
          ],
          "barpolar": [
           {
            "marker": {
             "line": {
              "color": "#E5ECF6",
              "width": 0.5
             }
            },
            "type": "barpolar"
           }
          ],
          "carpet": [
           {
            "aaxis": {
             "endlinecolor": "#2a3f5f",
             "gridcolor": "white",
             "linecolor": "white",
             "minorgridcolor": "white",
             "startlinecolor": "#2a3f5f"
            },
            "baxis": {
             "endlinecolor": "#2a3f5f",
             "gridcolor": "white",
             "linecolor": "white",
             "minorgridcolor": "white",
             "startlinecolor": "#2a3f5f"
            },
            "type": "carpet"
           }
          ],
          "choropleth": [
           {
            "colorbar": {
             "outlinewidth": 0,
             "ticks": ""
            },
            "type": "choropleth"
           }
          ],
          "contour": [
           {
            "colorbar": {
             "outlinewidth": 0,
             "ticks": ""
            },
            "colorscale": [
             [
              0,
              "#0d0887"
             ],
             [
              0.1111111111111111,
              "#46039f"
             ],
             [
              0.2222222222222222,
              "#7201a8"
             ],
             [
              0.3333333333333333,
              "#9c179e"
             ],
             [
              0.4444444444444444,
              "#bd3786"
             ],
             [
              0.5555555555555556,
              "#d8576b"
             ],
             [
              0.6666666666666666,
              "#ed7953"
             ],
             [
              0.7777777777777778,
              "#fb9f3a"
             ],
             [
              0.8888888888888888,
              "#fdca26"
             ],
             [
              1,
              "#f0f921"
             ]
            ],
            "type": "contour"
           }
          ],
          "contourcarpet": [
           {
            "colorbar": {
             "outlinewidth": 0,
             "ticks": ""
            },
            "type": "contourcarpet"
           }
          ],
          "heatmap": [
           {
            "colorbar": {
             "outlinewidth": 0,
             "ticks": ""
            },
            "colorscale": [
             [
              0,
              "#0d0887"
             ],
             [
              0.1111111111111111,
              "#46039f"
             ],
             [
              0.2222222222222222,
              "#7201a8"
             ],
             [
              0.3333333333333333,
              "#9c179e"
             ],
             [
              0.4444444444444444,
              "#bd3786"
             ],
             [
              0.5555555555555556,
              "#d8576b"
             ],
             [
              0.6666666666666666,
              "#ed7953"
             ],
             [
              0.7777777777777778,
              "#fb9f3a"
             ],
             [
              0.8888888888888888,
              "#fdca26"
             ],
             [
              1,
              "#f0f921"
             ]
            ],
            "type": "heatmap"
           }
          ],
          "heatmapgl": [
           {
            "colorbar": {
             "outlinewidth": 0,
             "ticks": ""
            },
            "colorscale": [
             [
              0,
              "#0d0887"
             ],
             [
              0.1111111111111111,
              "#46039f"
             ],
             [
              0.2222222222222222,
              "#7201a8"
             ],
             [
              0.3333333333333333,
              "#9c179e"
             ],
             [
              0.4444444444444444,
              "#bd3786"
             ],
             [
              0.5555555555555556,
              "#d8576b"
             ],
             [
              0.6666666666666666,
              "#ed7953"
             ],
             [
              0.7777777777777778,
              "#fb9f3a"
             ],
             [
              0.8888888888888888,
              "#fdca26"
             ],
             [
              1,
              "#f0f921"
             ]
            ],
            "type": "heatmapgl"
           }
          ],
          "histogram": [
           {
            "marker": {
             "colorbar": {
              "outlinewidth": 0,
              "ticks": ""
             }
            },
            "type": "histogram"
           }
          ],
          "histogram2d": [
           {
            "colorbar": {
             "outlinewidth": 0,
             "ticks": ""
            },
            "colorscale": [
             [
              0,
              "#0d0887"
             ],
             [
              0.1111111111111111,
              "#46039f"
             ],
             [
              0.2222222222222222,
              "#7201a8"
             ],
             [
              0.3333333333333333,
              "#9c179e"
             ],
             [
              0.4444444444444444,
              "#bd3786"
             ],
             [
              0.5555555555555556,
              "#d8576b"
             ],
             [
              0.6666666666666666,
              "#ed7953"
             ],
             [
              0.7777777777777778,
              "#fb9f3a"
             ],
             [
              0.8888888888888888,
              "#fdca26"
             ],
             [
              1,
              "#f0f921"
             ]
            ],
            "type": "histogram2d"
           }
          ],
          "histogram2dcontour": [
           {
            "colorbar": {
             "outlinewidth": 0,
             "ticks": ""
            },
            "colorscale": [
             [
              0,
              "#0d0887"
             ],
             [
              0.1111111111111111,
              "#46039f"
             ],
             [
              0.2222222222222222,
              "#7201a8"
             ],
             [
              0.3333333333333333,
              "#9c179e"
             ],
             [
              0.4444444444444444,
              "#bd3786"
             ],
             [
              0.5555555555555556,
              "#d8576b"
             ],
             [
              0.6666666666666666,
              "#ed7953"
             ],
             [
              0.7777777777777778,
              "#fb9f3a"
             ],
             [
              0.8888888888888888,
              "#fdca26"
             ],
             [
              1,
              "#f0f921"
             ]
            ],
            "type": "histogram2dcontour"
           }
          ],
          "mesh3d": [
           {
            "colorbar": {
             "outlinewidth": 0,
             "ticks": ""
            },
            "type": "mesh3d"
           }
          ],
          "parcoords": [
           {
            "line": {
             "colorbar": {
              "outlinewidth": 0,
              "ticks": ""
             }
            },
            "type": "parcoords"
           }
          ],
          "pie": [
           {
            "automargin": true,
            "type": "pie"
           }
          ],
          "scatter": [
           {
            "marker": {
             "colorbar": {
              "outlinewidth": 0,
              "ticks": ""
             }
            },
            "type": "scatter"
           }
          ],
          "scatter3d": [
           {
            "line": {
             "colorbar": {
              "outlinewidth": 0,
              "ticks": ""
             }
            },
            "marker": {
             "colorbar": {
              "outlinewidth": 0,
              "ticks": ""
             }
            },
            "type": "scatter3d"
           }
          ],
          "scattercarpet": [
           {
            "marker": {
             "colorbar": {
              "outlinewidth": 0,
              "ticks": ""
             }
            },
            "type": "scattercarpet"
           }
          ],
          "scattergeo": [
           {
            "marker": {
             "colorbar": {
              "outlinewidth": 0,
              "ticks": ""
             }
            },
            "type": "scattergeo"
           }
          ],
          "scattergl": [
           {
            "marker": {
             "colorbar": {
              "outlinewidth": 0,
              "ticks": ""
             }
            },
            "type": "scattergl"
           }
          ],
          "scattermapbox": [
           {
            "marker": {
             "colorbar": {
              "outlinewidth": 0,
              "ticks": ""
             }
            },
            "type": "scattermapbox"
           }
          ],
          "scatterpolar": [
           {
            "marker": {
             "colorbar": {
              "outlinewidth": 0,
              "ticks": ""
             }
            },
            "type": "scatterpolar"
           }
          ],
          "scatterpolargl": [
           {
            "marker": {
             "colorbar": {
              "outlinewidth": 0,
              "ticks": ""
             }
            },
            "type": "scatterpolargl"
           }
          ],
          "scatterternary": [
           {
            "marker": {
             "colorbar": {
              "outlinewidth": 0,
              "ticks": ""
             }
            },
            "type": "scatterternary"
           }
          ],
          "surface": [
           {
            "colorbar": {
             "outlinewidth": 0,
             "ticks": ""
            },
            "colorscale": [
             [
              0,
              "#0d0887"
             ],
             [
              0.1111111111111111,
              "#46039f"
             ],
             [
              0.2222222222222222,
              "#7201a8"
             ],
             [
              0.3333333333333333,
              "#9c179e"
             ],
             [
              0.4444444444444444,
              "#bd3786"
             ],
             [
              0.5555555555555556,
              "#d8576b"
             ],
             [
              0.6666666666666666,
              "#ed7953"
             ],
             [
              0.7777777777777778,
              "#fb9f3a"
             ],
             [
              0.8888888888888888,
              "#fdca26"
             ],
             [
              1,
              "#f0f921"
             ]
            ],
            "type": "surface"
           }
          ],
          "table": [
           {
            "cells": {
             "fill": {
              "color": "#EBF0F8"
             },
             "line": {
              "color": "white"
             }
            },
            "header": {
             "fill": {
              "color": "#C8D4E3"
             },
             "line": {
              "color": "white"
             }
            },
            "type": "table"
           }
          ]
         },
         "layout": {
          "annotationdefaults": {
           "arrowcolor": "#2a3f5f",
           "arrowhead": 0,
           "arrowwidth": 1
          },
          "coloraxis": {
           "colorbar": {
            "outlinewidth": 0,
            "ticks": ""
           }
          },
          "colorscale": {
           "diverging": [
            [
             0,
             "#8e0152"
            ],
            [
             0.1,
             "#c51b7d"
            ],
            [
             0.2,
             "#de77ae"
            ],
            [
             0.3,
             "#f1b6da"
            ],
            [
             0.4,
             "#fde0ef"
            ],
            [
             0.5,
             "#f7f7f7"
            ],
            [
             0.6,
             "#e6f5d0"
            ],
            [
             0.7,
             "#b8e186"
            ],
            [
             0.8,
             "#7fbc41"
            ],
            [
             0.9,
             "#4d9221"
            ],
            [
             1,
             "#276419"
            ]
           ],
           "sequential": [
            [
             0,
             "#0d0887"
            ],
            [
             0.1111111111111111,
             "#46039f"
            ],
            [
             0.2222222222222222,
             "#7201a8"
            ],
            [
             0.3333333333333333,
             "#9c179e"
            ],
            [
             0.4444444444444444,
             "#bd3786"
            ],
            [
             0.5555555555555556,
             "#d8576b"
            ],
            [
             0.6666666666666666,
             "#ed7953"
            ],
            [
             0.7777777777777778,
             "#fb9f3a"
            ],
            [
             0.8888888888888888,
             "#fdca26"
            ],
            [
             1,
             "#f0f921"
            ]
           ],
           "sequentialminus": [
            [
             0,
             "#0d0887"
            ],
            [
             0.1111111111111111,
             "#46039f"
            ],
            [
             0.2222222222222222,
             "#7201a8"
            ],
            [
             0.3333333333333333,
             "#9c179e"
            ],
            [
             0.4444444444444444,
             "#bd3786"
            ],
            [
             0.5555555555555556,
             "#d8576b"
            ],
            [
             0.6666666666666666,
             "#ed7953"
            ],
            [
             0.7777777777777778,
             "#fb9f3a"
            ],
            [
             0.8888888888888888,
             "#fdca26"
            ],
            [
             1,
             "#f0f921"
            ]
           ]
          },
          "colorway": [
           "#636efa",
           "#EF553B",
           "#00cc96",
           "#ab63fa",
           "#FFA15A",
           "#19d3f3",
           "#FF6692",
           "#B6E880",
           "#FF97FF",
           "#FECB52"
          ],
          "font": {
           "color": "#2a3f5f"
          },
          "geo": {
           "bgcolor": "white",
           "lakecolor": "white",
           "landcolor": "#E5ECF6",
           "showlakes": true,
           "showland": true,
           "subunitcolor": "white"
          },
          "hoverlabel": {
           "align": "left"
          },
          "hovermode": "closest",
          "mapbox": {
           "style": "light"
          },
          "paper_bgcolor": "white",
          "plot_bgcolor": "#E5ECF6",
          "polar": {
           "angularaxis": {
            "gridcolor": "white",
            "linecolor": "white",
            "ticks": ""
           },
           "bgcolor": "#E5ECF6",
           "radialaxis": {
            "gridcolor": "white",
            "linecolor": "white",
            "ticks": ""
           }
          },
          "scene": {
           "xaxis": {
            "backgroundcolor": "#E5ECF6",
            "gridcolor": "white",
            "gridwidth": 2,
            "linecolor": "white",
            "showbackground": true,
            "ticks": "",
            "zerolinecolor": "white"
           },
           "yaxis": {
            "backgroundcolor": "#E5ECF6",
            "gridcolor": "white",
            "gridwidth": 2,
            "linecolor": "white",
            "showbackground": true,
            "ticks": "",
            "zerolinecolor": "white"
           },
           "zaxis": {
            "backgroundcolor": "#E5ECF6",
            "gridcolor": "white",
            "gridwidth": 2,
            "linecolor": "white",
            "showbackground": true,
            "ticks": "",
            "zerolinecolor": "white"
           }
          },
          "shapedefaults": {
           "line": {
            "color": "#2a3f5f"
           }
          },
          "ternary": {
           "aaxis": {
            "gridcolor": "white",
            "linecolor": "white",
            "ticks": ""
           },
           "baxis": {
            "gridcolor": "white",
            "linecolor": "white",
            "ticks": ""
           },
           "bgcolor": "#E5ECF6",
           "caxis": {
            "gridcolor": "white",
            "linecolor": "white",
            "ticks": ""
           }
          },
          "title": {
           "x": 0.05
          },
          "xaxis": {
           "automargin": true,
           "gridcolor": "white",
           "linecolor": "white",
           "ticks": "",
           "title": {
            "standoff": 15
           },
           "zerolinecolor": "white",
           "zerolinewidth": 2
          },
          "yaxis": {
           "automargin": true,
           "gridcolor": "white",
           "linecolor": "white",
           "ticks": "",
           "title": {
            "standoff": 15
           },
           "zerolinecolor": "white",
           "zerolinewidth": 2
          }
         }
        },
        "title": {
         "text": "Comparação entre regimes: abrir por dois dias ou não abrir"
        },
        "width": 1000,
        "xaxis": {
         "anchor": "y",
         "domain": [
          0,
          0.45
         ]
        },
        "xaxis2": {
         "anchor": "y2",
         "domain": [
          0.55,
          1
         ]
        },
        "yaxis": {
         "anchor": "x",
         "domain": [
          0,
          1
         ],
         "type": "log"
        },
        "yaxis2": {
         "anchor": "x2",
         "domain": [
          0,
          1
         ],
         "type": "log"
        }
       }
      },
      "text/html": [
       "<div>\n",
       "        \n",
       "        \n",
       "            <div id=\"5fc88b65-4c2c-4cfd-a5bb-856c9d16980a\" class=\"plotly-graph-div\" style=\"height:500px; width:1000px;\"></div>\n",
       "            <script type=\"text/javascript\">\n",
       "                require([\"plotly\"], function(Plotly) {\n",
       "                    window.PLOTLYENV=window.PLOTLYENV || {};\n",
       "                    \n",
       "                if (document.getElementById(\"5fc88b65-4c2c-4cfd-a5bb-856c9d16980a\")) {\n",
       "                    Plotly.newPlot(\n",
       "                        '5fc88b65-4c2c-4cfd-a5bb-856c9d16980a',\n",
       "                        [{\"marker\": {\"color\": \"blue\", \"coloraxis\": \"coloraxis\"}, \"name\": \"Expostos\", \"showlegend\": false, \"type\": \"scatter\", \"x\": [0, 1, 2, 3, 4, 5, 6, 7, 8, 9, 10, 11, 12, 13, 14, 15, 16, 17, 18, 19, 20, 21, 22, 23, 24, 25, 26, 27, 28, 29, 30], \"xaxis\": \"x\", \"y\": [0.0, 0.0, 0.0, 0.0, 0.0, 0.7419300000001385, 409.34910000000036, 1325.88105, 2288.0014499999997, 2921.213489999999, 3334.075759999999, 3625.70507, 3842.157369999999, 4020.757129999999, 4196.731820000001, 4371.2055599999985, 4559.595740000001, 4774.29053, 5008.428599999999, 5264.981400000001, 5555.3835, 5875.554399999999, 6219.2232, 6586.6021, 6983.9906999999985, 7414.762500000001, 7873.9187999999995, 8359.789100000002, 8873.883400000002, 9420.826699999998, 10006.376200000002], \"yaxis\": \"y\"}, {\"marker\": {\"color\": \"red\", \"coloraxis\": \"coloraxis\"}, \"name\": \"Assintom\\u00e1ticos\", \"showlegend\": false, \"type\": \"scatter\", \"x\": [0, 1, 2, 3, 4, 5, 6, 7, 8, 9, 10, 11, 12, 13, 14, 15, 16, 17, 18, 19, 20, 21, 22, 23, 24, 25, 26, 27, 28, 29, 30], \"xaxis\": \"x\", \"y\": [0.0, 0.0, 0.0, 0.0, 0.0, 0.0197400000001835, 60.53683000000001, 106.05925999999977, 110.0636599999998, 119.87445000000002, 133.00003000000015, 147.47891000000004, 162.53244999999993, 177.66221999999993, 192.50202999999988, 207.33384999999998, 222.10562000000004, 236.83299999999986, 251.92705, 267.55863999999997, 283.7159150000001, 300.6925960000001, 318.679205, 337.7428970000001, 357.84673799999996, 379.04062, 401.5746999999999, 425.64482999999996, 451.39443000000006, 478.91067, 508.13024999999993], \"yaxis\": \"y\"}, {\"marker\": {\"color\": \"green\", \"coloraxis\": \"coloraxis\"}, \"name\": \"Infectados\", \"showlegend\": false, \"type\": \"scatter\", \"x\": [0, 1, 2, 3, 4, 5, 6, 7, 8, 9, 10, 11, 12, 13, 14, 15, 16, 17, 18, 19, 20, 21, 22, 23, 24, 25, 26, 27, 28, 29, 30], \"xaxis\": \"x\", \"y\": [0.0, 0.0, 0.0, 0.0, 0.0, 0.4813600000002225, 17.58743000000004, 124.55590000000029, 346.80062000000044, 642.2076099999995, 974.05512, 1313.5050099999999, 1649.5403999999999, 1975.1302799999994, 2285.1688400000003, 2586.05191, 2878.6573199999993, 3164.19333, 3449.3827300000003, 3736.9039399999992, 4026.16597, 4321.972240000001, 4629.2381399999995, 4950.516299999999, 5286.187600000001, 5637.493399999999, 6008.030900000002, 6400.192000000001, 6815.378100000002, 7254.035399999999, 7716.6811], \"yaxis\": \"y\"}, {\"marker\": {\"color\": \"orange\", \"coloraxis\": \"coloraxis\"}, \"name\": \"Diagnosticados\", \"showlegend\": false, \"type\": \"scatter\", \"x\": [0, 1, 2, 3, 4, 5, 6, 7, 8, 9, 10, 11, 12, 13, 14, 15, 16, 17, 18, 19, 20, 21, 22, 23, 24, 25, 26, 27, 28, 29, 30], \"xaxis\": \"x\", \"y\": [0.0, 0.0, 0.0, 0.0, 0.0, 0.06738099999995484, 0.5560489999999163, 3.235985000000028, 11.237900000000081, 27.32183000000009, 52.104500000000144, 85.76105000000007, 127.48270000000002, 176.48036000000002, 231.99899000000005, 292.7388000000001, 358.01188, 427.3131499999997, 500.02766999999994, 575.9479199999998, 655.1576299999999, 737.4294799999998, 822.69965, 911.0826299999999, 1002.8470799999996, 1098.2520599999998, 1197.4999300000004, 1300.90125, 1408.84944, 1521.81599, 1640.2234899999999], \"yaxis\": \"y\"}, {\"marker\": {\"color\": \"grey\", \"coloraxis\": \"coloraxis\"}, \"name\": \"Recuperados\", \"showlegend\": false, \"type\": \"scatter\", \"x\": [0, 1, 2, 3, 4, 5, 6, 7, 8, 9, 10, 11, 12, 13, 14, 15, 16, 17, 18, 19, 20, 21, 22, 23, 24, 25, 26, 27, 28, 29, 30], \"xaxis\": \"x\", \"y\": [0.0, 0.0, 0.0, 0.0, 0.0, 0.09756999999990512, 11.384779999999864, 9.020069999999578, 19.54084999999941, 70.40886000000046, 147.98828999999932, 255.34090000000015, 393.09317999999985, 561.4946399999999, 760.624209999999, 989.3041599999997, 1247.3912799999998, 1534.9309000000012, 1851.5480000000007, 2197.6646999999994, 2574.3022999999994, 2981.9004999999997, 3421.322400000001, 3893.8544, 4401.158299999999, 4944.920299999998, 5526.682799999999, 6148.327400000002, 6812.0687, 7520.4468000000015, 8276.103300000002], \"yaxis\": \"y\"}, {\"marker\": {\"color\": \"blue\"}, \"name\": \"Expostos\", \"type\": \"scatter\", \"x\": [0, 1, 2, 3, 4, 5, 6, 7, 8, 9, 10, 11, 12, 13, 14, 15, 16, 17, 18, 19, 20, 21, 22, 23, 24, 25, 26, 27, 28, 29, 30], \"xaxis\": \"x2\", \"y\": [0.0, 0.0, 0.0, 0.0, 0.0, 0.08081899999996267, 116.13579499999992, 322.3157580000001, 410.060659, 470.565597, 511.634816, 542.130239, 566.201018, 587.4633399999999, 609.5990549999999, 632.4721880000001, 657.7110240000001, 686.6501700000001, 718.3615199999999, 753.1071800000002, 792.1792799999998, 835.0417199999999, 880.9116899999999, 929.78457, 982.3863000000001, 1039.0893199999998, 1099.2434799999999, 1162.5885399999997, 1229.2406700000001, 1299.6864, 1374.5918000000001], \"yaxis\": \"y2\"}, {\"marker\": {\"color\": \"red\"}, \"name\": \"Assintom\\u00e1ticos\", \"type\": \"scatter\", \"x\": [0, 1, 2, 3, 4, 5, 6, 7, 8, 9, 10, 11, 12, 13, 14, 15, 16, 17, 18, 19, 20, 21, 22, 23, 24, 25, 26, 27, 28, 29, 30], \"xaxis\": \"x2\", \"y\": [0.0, 0.0, 0.0, 0.0, 0.0, 0.0023140000000125838, 61.828441999999995, 105.80220999999995, 100.543364, 94.783232, 88.69624399999998, 82.43892700000004, 76.07282900000001, 69.63912700000003, 63.17120299999999, 56.63081399999999, 50.01309100000003, 43.30947100000003, 36.47320100000002, 29.481447000000003, 22.33126299999998, 14.985463999999979, 7.4042140000000245, 0.43785599999995384, 8.552739999999972, 16.958861000000013, 25.691820000000007, 34.78041300000001, 44.24765500000001, 54.11089800000002, 64.38549799999998], \"yaxis\": \"y2\"}, {\"marker\": {\"color\": \"green\"}, \"name\": \"Infectados\", \"type\": \"scatter\", \"x\": [0, 1, 2, 3, 4, 5, 6, 7, 8, 9, 10, 11, 12, 13, 14, 15, 16, 17, 18, 19, 20, 21, 22, 23, 24, 25, 26, 27, 28, 29, 30], \"xaxis\": \"x2\", \"y\": [0.0, 0.0, 0.0, 0.0, 0.0, 0.05217899999996689, 6.076102999999989, 32.48521199999999, 76.04519599999998, 123.96143300000006, 173.42828399999996, 221.985347, 268.898606, 313.738111, 356.17346399999997, 397.14344400000004, 436.889998, 475.66015500000015, 514.333606, 553.2948500000001, 592.5270279999999, 632.63155, 674.20156, 717.54575, 762.7119300000002, 809.8467499999999, 859.3831100000002, 911.6094899999998, 966.69117, 1024.67331, 1085.57195], \"yaxis\": \"y2\"}, {\"marker\": {\"color\": \"orange\"}, \"name\": \"Diagnosticados\", \"type\": \"scatter\", \"x\": [0, 1, 2, 3, 4, 5, 6, 7, 8, 9, 10, 11, 12, 13, 14, 15, 16, 17, 18, 19, 20, 21, 22, 23, 24, 25, 26, 27, 28, 29, 30], \"xaxis\": \"x2\", \"y\": [0.0, 0.0, 0.0, 0.0, 0.0, 0.007453900000001568, 0.24700529999999787, 0.4976300000000009, 0.2726389999999981, 2.5324679999999944, 6.2045459999999935, 11.203102999999999, 17.363383999999996, 24.54203099999998, 32.61398399999999, 41.402911999999986, 50.80963999999997, 60.76208200000002, 71.18075100000001, 82.035943, 93.33380600000001, 105.04692, 117.16818599999999, 129.71165100000002, 142.70968799999997, 156.19419700000003, 170.19057000000004, 184.73636, 199.87843099999998, 215.67247400000002, 232.16984000000002], \"yaxis\": \"y2\"}, {\"marker\": {\"color\": \"grey\"}, \"name\": \"Recuperados\", \"type\": \"scatter\", \"x\": [0, 1, 2, 3, 4, 5, 6, 7, 8, 9, 10, 11, 12, 13, 14, 15, 16, 17, 18, 19, 20, 21, 22, 23, 24, 25, 26, 27, 28, 29, 30], \"xaxis\": \"x2\", \"y\": [0.0, 0.0, 0.0, 0.0, 0.0, 0.010480000000001155, 14.903808999999995, 26.08317100000002, 29.130021999999997, 35.93372500000004, 46.75221600000003, 61.768010000000004, 80.95547500000004, 104.276972, 131.697858, 163.05917499999998, 198.32414799999992, 237.48755900000003, 280.50821599999995, 327.43661999999995, 378.39382, 433.44022999999993, 492.6775399999999, 556.25684, 624.3737900000001, 697.2300700000001, 775.0150299999998, 857.9559000000002, 946.3160899999998, 1040.39426, 1140.4944099999998], \"yaxis\": \"y2\"}],\n",
       "                        {\"annotations\": [{\"font\": {\"size\": 16}, \"showarrow\": false, \"text\": \"Rio de Janeiro\", \"x\": 0.225, \"xanchor\": \"center\", \"xref\": \"paper\", \"y\": 1.0, \"yanchor\": \"bottom\", \"yref\": \"paper\"}, {\"font\": {\"size\": 16}, \"showarrow\": false, \"text\": \"Niter\\u00f3i\", \"x\": 0.775, \"xanchor\": \"center\", \"xref\": \"paper\", \"y\": 1.0, \"yanchor\": \"bottom\", \"yref\": \"paper\"}], \"height\": 500, \"shapes\": [{\"fillcolor\": \"LightSalmon\", \"layer\": \"below\", \"line\": {\"width\": 0}, \"opacity\": 0.5, \"type\": \"rect\", \"x0\": 5, \"x1\": 7, \"xref\": \"x\", \"y0\": 0, \"y1\": 1, \"yref\": \"paper\"}, {\"fillcolor\": \"LightSalmon\", \"layer\": \"below\", \"line\": {\"width\": 0}, \"opacity\": 0.5, \"type\": \"rect\", \"x0\": 5, \"x1\": 7, \"xref\": \"x2\", \"y0\": 0, \"y1\": 1, \"yref\": \"paper\"}], \"template\": {\"data\": {\"bar\": [{\"error_x\": {\"color\": \"#2a3f5f\"}, \"error_y\": {\"color\": \"#2a3f5f\"}, \"marker\": {\"line\": {\"color\": \"#E5ECF6\", \"width\": 0.5}}, \"type\": \"bar\"}], \"barpolar\": [{\"marker\": {\"line\": {\"color\": \"#E5ECF6\", \"width\": 0.5}}, \"type\": \"barpolar\"}], \"carpet\": [{\"aaxis\": {\"endlinecolor\": \"#2a3f5f\", \"gridcolor\": \"white\", \"linecolor\": \"white\", \"minorgridcolor\": \"white\", \"startlinecolor\": \"#2a3f5f\"}, \"baxis\": {\"endlinecolor\": \"#2a3f5f\", \"gridcolor\": \"white\", \"linecolor\": \"white\", \"minorgridcolor\": \"white\", \"startlinecolor\": \"#2a3f5f\"}, \"type\": \"carpet\"}], \"choropleth\": [{\"colorbar\": {\"outlinewidth\": 0, \"ticks\": \"\"}, \"type\": \"choropleth\"}], \"contour\": [{\"colorbar\": {\"outlinewidth\": 0, \"ticks\": \"\"}, \"colorscale\": [[0.0, \"#0d0887\"], [0.1111111111111111, \"#46039f\"], [0.2222222222222222, \"#7201a8\"], [0.3333333333333333, \"#9c179e\"], [0.4444444444444444, \"#bd3786\"], [0.5555555555555556, \"#d8576b\"], [0.6666666666666666, \"#ed7953\"], [0.7777777777777778, \"#fb9f3a\"], [0.8888888888888888, \"#fdca26\"], [1.0, \"#f0f921\"]], \"type\": \"contour\"}], \"contourcarpet\": [{\"colorbar\": {\"outlinewidth\": 0, \"ticks\": \"\"}, \"type\": \"contourcarpet\"}], \"heatmap\": [{\"colorbar\": {\"outlinewidth\": 0, \"ticks\": \"\"}, \"colorscale\": [[0.0, \"#0d0887\"], [0.1111111111111111, \"#46039f\"], [0.2222222222222222, \"#7201a8\"], [0.3333333333333333, \"#9c179e\"], [0.4444444444444444, \"#bd3786\"], [0.5555555555555556, \"#d8576b\"], [0.6666666666666666, \"#ed7953\"], [0.7777777777777778, \"#fb9f3a\"], [0.8888888888888888, \"#fdca26\"], [1.0, \"#f0f921\"]], \"type\": \"heatmap\"}], \"heatmapgl\": [{\"colorbar\": {\"outlinewidth\": 0, \"ticks\": \"\"}, \"colorscale\": [[0.0, \"#0d0887\"], [0.1111111111111111, \"#46039f\"], [0.2222222222222222, \"#7201a8\"], [0.3333333333333333, \"#9c179e\"], [0.4444444444444444, \"#bd3786\"], [0.5555555555555556, \"#d8576b\"], [0.6666666666666666, \"#ed7953\"], [0.7777777777777778, \"#fb9f3a\"], [0.8888888888888888, \"#fdca26\"], [1.0, \"#f0f921\"]], \"type\": \"heatmapgl\"}], \"histogram\": [{\"marker\": {\"colorbar\": {\"outlinewidth\": 0, \"ticks\": \"\"}}, \"type\": \"histogram\"}], \"histogram2d\": [{\"colorbar\": {\"outlinewidth\": 0, \"ticks\": \"\"}, \"colorscale\": [[0.0, \"#0d0887\"], [0.1111111111111111, \"#46039f\"], [0.2222222222222222, \"#7201a8\"], [0.3333333333333333, \"#9c179e\"], [0.4444444444444444, \"#bd3786\"], [0.5555555555555556, \"#d8576b\"], [0.6666666666666666, \"#ed7953\"], [0.7777777777777778, \"#fb9f3a\"], [0.8888888888888888, \"#fdca26\"], [1.0, \"#f0f921\"]], \"type\": \"histogram2d\"}], \"histogram2dcontour\": [{\"colorbar\": {\"outlinewidth\": 0, \"ticks\": \"\"}, \"colorscale\": [[0.0, \"#0d0887\"], [0.1111111111111111, \"#46039f\"], [0.2222222222222222, \"#7201a8\"], [0.3333333333333333, \"#9c179e\"], [0.4444444444444444, \"#bd3786\"], [0.5555555555555556, \"#d8576b\"], [0.6666666666666666, \"#ed7953\"], [0.7777777777777778, \"#fb9f3a\"], [0.8888888888888888, \"#fdca26\"], [1.0, \"#f0f921\"]], \"type\": \"histogram2dcontour\"}], \"mesh3d\": [{\"colorbar\": {\"outlinewidth\": 0, \"ticks\": \"\"}, \"type\": \"mesh3d\"}], \"parcoords\": [{\"line\": {\"colorbar\": {\"outlinewidth\": 0, \"ticks\": \"\"}}, \"type\": \"parcoords\"}], \"pie\": [{\"automargin\": true, \"type\": \"pie\"}], \"scatter\": [{\"marker\": {\"colorbar\": {\"outlinewidth\": 0, \"ticks\": \"\"}}, \"type\": \"scatter\"}], \"scatter3d\": [{\"line\": {\"colorbar\": {\"outlinewidth\": 0, \"ticks\": \"\"}}, \"marker\": {\"colorbar\": {\"outlinewidth\": 0, \"ticks\": \"\"}}, \"type\": \"scatter3d\"}], \"scattercarpet\": [{\"marker\": {\"colorbar\": {\"outlinewidth\": 0, \"ticks\": \"\"}}, \"type\": \"scattercarpet\"}], \"scattergeo\": [{\"marker\": {\"colorbar\": {\"outlinewidth\": 0, \"ticks\": \"\"}}, \"type\": \"scattergeo\"}], \"scattergl\": [{\"marker\": {\"colorbar\": {\"outlinewidth\": 0, \"ticks\": \"\"}}, \"type\": \"scattergl\"}], \"scattermapbox\": [{\"marker\": {\"colorbar\": {\"outlinewidth\": 0, \"ticks\": \"\"}}, \"type\": \"scattermapbox\"}], \"scatterpolar\": [{\"marker\": {\"colorbar\": {\"outlinewidth\": 0, \"ticks\": \"\"}}, \"type\": \"scatterpolar\"}], \"scatterpolargl\": [{\"marker\": {\"colorbar\": {\"outlinewidth\": 0, \"ticks\": \"\"}}, \"type\": \"scatterpolargl\"}], \"scatterternary\": [{\"marker\": {\"colorbar\": {\"outlinewidth\": 0, \"ticks\": \"\"}}, \"type\": \"scatterternary\"}], \"surface\": [{\"colorbar\": {\"outlinewidth\": 0, \"ticks\": \"\"}, \"colorscale\": [[0.0, \"#0d0887\"], [0.1111111111111111, \"#46039f\"], [0.2222222222222222, \"#7201a8\"], [0.3333333333333333, \"#9c179e\"], [0.4444444444444444, \"#bd3786\"], [0.5555555555555556, \"#d8576b\"], [0.6666666666666666, \"#ed7953\"], [0.7777777777777778, \"#fb9f3a\"], [0.8888888888888888, \"#fdca26\"], [1.0, \"#f0f921\"]], \"type\": \"surface\"}], \"table\": [{\"cells\": {\"fill\": {\"color\": \"#EBF0F8\"}, \"line\": {\"color\": \"white\"}}, \"header\": {\"fill\": {\"color\": \"#C8D4E3\"}, \"line\": {\"color\": \"white\"}}, \"type\": \"table\"}]}, \"layout\": {\"annotationdefaults\": {\"arrowcolor\": \"#2a3f5f\", \"arrowhead\": 0, \"arrowwidth\": 1}, \"coloraxis\": {\"colorbar\": {\"outlinewidth\": 0, \"ticks\": \"\"}}, \"colorscale\": {\"diverging\": [[0, \"#8e0152\"], [0.1, \"#c51b7d\"], [0.2, \"#de77ae\"], [0.3, \"#f1b6da\"], [0.4, \"#fde0ef\"], [0.5, \"#f7f7f7\"], [0.6, \"#e6f5d0\"], [0.7, \"#b8e186\"], [0.8, \"#7fbc41\"], [0.9, \"#4d9221\"], [1, \"#276419\"]], \"sequential\": [[0.0, \"#0d0887\"], [0.1111111111111111, \"#46039f\"], [0.2222222222222222, \"#7201a8\"], [0.3333333333333333, \"#9c179e\"], [0.4444444444444444, \"#bd3786\"], [0.5555555555555556, \"#d8576b\"], [0.6666666666666666, \"#ed7953\"], [0.7777777777777778, \"#fb9f3a\"], [0.8888888888888888, \"#fdca26\"], [1.0, \"#f0f921\"]], \"sequentialminus\": [[0.0, \"#0d0887\"], [0.1111111111111111, \"#46039f\"], [0.2222222222222222, \"#7201a8\"], [0.3333333333333333, \"#9c179e\"], [0.4444444444444444, \"#bd3786\"], [0.5555555555555556, \"#d8576b\"], [0.6666666666666666, \"#ed7953\"], [0.7777777777777778, \"#fb9f3a\"], [0.8888888888888888, \"#fdca26\"], [1.0, \"#f0f921\"]]}, \"colorway\": [\"#636efa\", \"#EF553B\", \"#00cc96\", \"#ab63fa\", \"#FFA15A\", \"#19d3f3\", \"#FF6692\", \"#B6E880\", \"#FF97FF\", \"#FECB52\"], \"font\": {\"color\": \"#2a3f5f\"}, \"geo\": {\"bgcolor\": \"white\", \"lakecolor\": \"white\", \"landcolor\": \"#E5ECF6\", \"showlakes\": true, \"showland\": true, \"subunitcolor\": \"white\"}, \"hoverlabel\": {\"align\": \"left\"}, \"hovermode\": \"closest\", \"mapbox\": {\"style\": \"light\"}, \"paper_bgcolor\": \"white\", \"plot_bgcolor\": \"#E5ECF6\", \"polar\": {\"angularaxis\": {\"gridcolor\": \"white\", \"linecolor\": \"white\", \"ticks\": \"\"}, \"bgcolor\": \"#E5ECF6\", \"radialaxis\": {\"gridcolor\": \"white\", \"linecolor\": \"white\", \"ticks\": \"\"}}, \"scene\": {\"xaxis\": {\"backgroundcolor\": \"#E5ECF6\", \"gridcolor\": \"white\", \"gridwidth\": 2, \"linecolor\": \"white\", \"showbackground\": true, \"ticks\": \"\", \"zerolinecolor\": \"white\"}, \"yaxis\": {\"backgroundcolor\": \"#E5ECF6\", \"gridcolor\": \"white\", \"gridwidth\": 2, \"linecolor\": \"white\", \"showbackground\": true, \"ticks\": \"\", \"zerolinecolor\": \"white\"}, \"zaxis\": {\"backgroundcolor\": \"#E5ECF6\", \"gridcolor\": \"white\", \"gridwidth\": 2, \"linecolor\": \"white\", \"showbackground\": true, \"ticks\": \"\", \"zerolinecolor\": \"white\"}}, \"shapedefaults\": {\"line\": {\"color\": \"#2a3f5f\"}}, \"ternary\": {\"aaxis\": {\"gridcolor\": \"white\", \"linecolor\": \"white\", \"ticks\": \"\"}, \"baxis\": {\"gridcolor\": \"white\", \"linecolor\": \"white\", \"ticks\": \"\"}, \"bgcolor\": \"#E5ECF6\", \"caxis\": {\"gridcolor\": \"white\", \"linecolor\": \"white\", \"ticks\": \"\"}}, \"title\": {\"x\": 0.05}, \"xaxis\": {\"automargin\": true, \"gridcolor\": \"white\", \"linecolor\": \"white\", \"ticks\": \"\", \"title\": {\"standoff\": 15}, \"zerolinecolor\": \"white\", \"zerolinewidth\": 2}, \"yaxis\": {\"automargin\": true, \"gridcolor\": \"white\", \"linecolor\": \"white\", \"ticks\": \"\", \"title\": {\"standoff\": 15}, \"zerolinecolor\": \"white\", \"zerolinewidth\": 2}}}, \"title\": {\"text\": \"Compara\\u00e7\\u00e3o entre regimes: abrir por dois dias ou n\\u00e3o abrir\"}, \"width\": 1000, \"xaxis\": {\"anchor\": \"y\", \"domain\": [0.0, 0.45]}, \"xaxis2\": {\"anchor\": \"y2\", \"domain\": [0.55, 1.0]}, \"yaxis\": {\"anchor\": \"x\", \"domain\": [0.0, 1.0], \"type\": \"log\"}, \"yaxis2\": {\"anchor\": \"x2\", \"domain\": [0.0, 1.0], \"type\": \"log\"}},\n",
       "                        {\"responsive\": true}\n",
       "                    ).then(function(){\n",
       "                            \n",
       "var gd = document.getElementById('5fc88b65-4c2c-4cfd-a5bb-856c9d16980a');\n",
       "var x = new MutationObserver(function (mutations, observer) {{\n",
       "        var display = window.getComputedStyle(gd).display;\n",
       "        if (!display || display === 'none') {{\n",
       "            console.log([gd, 'removed!']);\n",
       "            Plotly.purge(gd);\n",
       "            observer.disconnect();\n",
       "        }}\n",
       "}});\n",
       "\n",
       "// Listen for the removal of the full notebook cells\n",
       "var notebookContainer = gd.closest('#notebook-container');\n",
       "if (notebookContainer) {{\n",
       "    x.observe(notebookContainer, {childList: true});\n",
       "}}\n",
       "\n",
       "// Listen for the clearing of the current output cell\n",
       "var outputEl = gd.closest('.output');\n",
       "if (outputEl) {{\n",
       "    x.observe(outputEl, {childList: true});\n",
       "}}\n",
       "\n",
       "                        })\n",
       "                };\n",
       "                });\n",
       "            </script>\n",
       "        </div>"
      ]
     },
     "metadata": {},
     "output_type": "display_data"
    }
   ],
   "source": [
    "fig = make_subplots(rows=1, cols = 2, column_width = [1,1], shared_xaxes= True, subplot_titles=(\n",
    "    'Rio de Janeiro', \n",
    "    'Niterói'))\n",
    "for i in range(5):\n",
    "    fig.add_trace(go.Scatter(\n",
    "    x=np.arange(len(dados1[i])),\n",
    "    y=np.abs(dados1[i+2]-dados2[i+2]), name = keys[i+2], marker = dict(color = colors[i], coloraxis = 'coloraxis'), showlegend=False), row = 1, col = 1)\n",
    "    \n",
    "for i in range(5):\n",
    "    fig.add_trace(go.Scatter(\n",
    "    x=np.arange(len(dados2[i])),\n",
    "    y=np.abs(dados1[i+9]-dados2[i+9]), name = keys[i+2], marker = dict(color = colors[i])), row = 1, col =2)\n",
    "    \n",
    "fig.update_layout(\n",
    "    shapes=[\n",
    "        # 1st highlight during Feb 4 - Feb 6\n",
    "        dict(\n",
    "            type=\"rect\",\n",
    "            # x-reference is assigned to the x-values\n",
    "            xref=\"x1\",\n",
    "            # y-reference is assigned to the plot paper [0,1]\n",
    "            yref=\"paper\",\n",
    "            x0=5,\n",
    "            y0=0,\n",
    "            x1=7,\n",
    "            y1=1,\n",
    "            fillcolor=\"LightSalmon\",\n",
    "            opacity=0.5,\n",
    "            layer=\"below\",\n",
    "            line_width=0\n",
    "        ),\n",
    "        dict(\n",
    "            type=\"rect\",\n",
    "            # x-reference is assigned to the x-values\n",
    "            xref=\"x2\",\n",
    "            # y-reference is assigned to the plot paper [0,1]\n",
    "            yref=\"paper\",\n",
    "            x0=5,\n",
    "            y0=0,\n",
    "            x1=7,\n",
    "            y1=1,\n",
    "            fillcolor=\"LightSalmon\",\n",
    "            opacity=0.5,\n",
    "            layer=\"below\",\n",
    "            line_width=0,\n",
    "        )\n",
    "    ]\n",
    ")\n",
    "fig.update_layout(height=500, width=1000, yaxis=dict(type='log'), yaxis2=dict(type='log'), title = \n",
    "                  'Comparação entre regimes: abrir por dois dias ou não abrir')\n",
    "fig.show()"
   ]
  }
 ],
 "metadata": {
  "kernelspec": {
   "display_name": "Python 3",
   "language": "python",
   "name": "python3"
  },
  "language_info": {
   "codemirror_mode": {
    "name": "ipython",
    "version": 3
   },
   "file_extension": ".py",
   "mimetype": "text/x-python",
   "name": "python",
   "nbconvert_exporter": "python",
   "pygments_lexer": "ipython3",
   "version": "3.7.3"
  }
 },
 "nbformat": 4,
 "nbformat_minor": 4
}
