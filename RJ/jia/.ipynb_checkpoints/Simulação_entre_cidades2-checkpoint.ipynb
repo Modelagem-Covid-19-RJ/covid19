{
 "cells": [
  {
   "cell_type": "code",
   "execution_count": 1,
   "metadata": {},
   "outputs": [],
   "source": [
    "from scipy.integrate import solve_ivp\n",
    "import numpy as np\n",
    "import matplotlib.pyplot as plt\n",
    "import datetime as dt\n",
    "import matplotlib.ticker as mticker\n",
    "import matplotlib.dates as mdates\n",
    "import seaborn as sns\n",
    "import pandas as pd\n",
    "import plotly.graph_objects as go\n",
    "from plotly.subplots import make_subplots\n",
    "import plotly.express as px\n",
    "from jia_cidades import multi_regime, F, G, G_semtroca, new_diagn, new_deaths, multi_regime_cidades, tot_deaths\n",
    "from get_data import read_data, get_data, set_df\n",
    "\n",
    "sns.set_style(\"darkgrid\")\n"
   ]
  },
  {
   "cell_type": "markdown",
   "metadata": {},
   "source": [
    "## Equações do modelo\n",
    "\n",
    "$$\n",
    "\\begin{cases}\n",
    "\\displaystyle \\frac{\\mathrm{d}S_1}{\\mathrm{d}t} &= -\\beta_{11} S_1\\left(I_1 + \\theta A_1\\right) - p_1 S_1 + \\lambda_1 Q_1 \\\\\n",
    "\\displaystyle \\frac{\\mathrm{d}Q_1}{\\mathrm{d}t} &= p_1 S_1 - \\lambda_1 Q_1\\\\\n",
    "\\displaystyle \\frac{\\mathrm{d}E_1}{\\mathrm{d}t} &= \\beta_1 S_1(I_1 + \\theta_1 A_1) - \\sigma_1 E_1\\\\\n",
    "\\displaystyle \\frac{\\mathrm{d}A_1}{\\mathrm{d}t} &= \\sigma_1(1- \\rho_1)E_1 - \\epsilon_{A_1} A_1 - \\gamma_{A_1} A_1 \\\\\n",
    "\\displaystyle \\frac{\\mathrm{d}I_1}{\\mathrm{d}t} &= \\sigma_1\\rho_1 E_1 - \\epsilon_{I_1} I_1 - \\gamma_{I_1} I_1 - d_{I_1} I_1\\\\\n",
    "\\displaystyle \\frac{\\mathrm{d}D_1}{\\mathrm{d}t} &=  \\epsilon_{A_1} A_1 + \\epsilon_{I_1} I_1 - \\gamma_{D_1} D_1 - d_{D_1} D_1 \\\\\n",
    "\\displaystyle \\frac{\\mathrm{d}R_1}{\\mathrm{d}t} &= \\gamma_{A_1} A_1 + \\gamma_{I_1} I_1 + \\gamma_{D_1} D_1 \\\\\n",
    "\\displaystyle\\frac{\\mathrm{d}S_2}{\\mathrm{d}t} &= -\\beta_2 S_2\\left(I_2 + \\theta_2 A_2\\right) - p_2 S_2 + \\lambda_2 Q_2 \\\\\n",
    "\\displaystyle\\frac{\\mathrm{d}Q_2}{\\mathrm{d}t} &= p_2 S_2 - \\lambda_2 Q_2\\\\\n",
    "\\displaystyle\\frac{\\mathrm{d}E_2}{\\mathrm{d}t} &= \\beta_2 S_2(I_2 + \\theta_2 A_2) - \\sigma_2 E_2 \\\\\n",
    "\\displaystyle\\frac{\\mathrm{d}A_2}{\\mathrm{d}t} &= \\sigma_2(1- \\rho_2)E_2 - \\epsilon_{A_2} A_2 - \\gamma_{A_2} A_2 \\\\\n",
    "\\displaystyle\\frac{\\mathrm{d}I_2}{\\mathrm{d}t} &= \\sigma_2\\rho_2 E_2 - \\epsilon_{I_2} I_2 - \\gamma_{I_2} I_2 - d_{I_2} I_2 \\\\\n",
    "\\displaystyle \\frac{\\mathrm{d}D_2}{\\mathrm{d}t} &=  \\epsilon_{A_2} A_2 + \\epsilon_{I_2} I_2 - \\gamma_{D_2} D_2 - d_{D_2} D_2 \\\\\n",
    "\\displaystyle\\frac{\\mathrm{d}R_2}{\\mathrm{d}t} &= \\gamma_{A_2} A_2 + \\gamma_{I_2} I_2 + \\gamma_{D_2} D_2 \n",
    "\\end{cases}\n",
    "$$"
   ]
  },
  {
   "cell_type": "code",
   "execution_count": 2,
   "metadata": {},
   "outputs": [
    {
     "data": {
      "text/plain": [
       "-1"
      ]
     },
     "execution_count": 2,
     "metadata": {},
     "output_type": "execute_result"
    }
   ],
   "source": [
    "aaa = np.array([[5,3,2],[1,6,7]])\n",
    "aaa[0]@(aaa[1] - aaa[0])"
   ]
  },
  {
   "cell_type": "markdown",
   "metadata": {},
   "source": [
    "$$\n",
    "- \\beta_{11} s_1 i_1 - \\beta_{21} s_1 i_2 - \\beta_{11}\\theta_{11}a_1 - \\beta_{21} \\theta_{21} a_2\n",
    "$$"
   ]
  },
  {
   "cell_type": "markdown",
   "metadata": {},
   "source": [
    "## Equações do modelo\n",
    "\n",
    "$$\n",
    "\\begin{cases}\n",
    "\\displaystyle \\frac{\\mathrm{d}S_1}{\\mathrm{d}t} &= -S_1(\\langle\\beta^T[0], I\\rangle - \\langle \\beta^T [0], \\theta^T[0] * A \\rangle) - p_1 S_1 + \\lambda_1 Q_1 \\\\\n",
    "\\displaystyle \\frac{\\mathrm{d}Q_1}{\\mathrm{d}t} &= p_1 S_1 - \\lambda_1 Q_1\\\\\n",
    "\\displaystyle \\frac{\\mathrm{d}E_1}{\\mathrm{d}t} &= \\langle\\beta^T[0],S_1 I\\rangle + \\langle \\beta^T [0], \\theta^T[0] * A \\rangle - \\sigma_1 E_1\\\\\n",
    "\\displaystyle \\frac{\\mathrm{d}A_1}{\\mathrm{d}t} &=  \\sigma_1(1- \\rho_1)E_1 - \\epsilon_{A_1} A_1 - \\gamma_{A_1} A_1 \\\\\n",
    "\\displaystyle \\frac{\\mathrm{d}I_1}{\\mathrm{d}t} &= \\sigma_1\\rho_1 E_1 - \\epsilon_{I_1} I_1 - \\gamma_{I_1} I_1 - d_{I_1} I_1\\\\\n",
    "\\displaystyle \\frac{\\mathrm{d}D_1}{\\mathrm{d}t} &=  \\epsilon_{A_1} A_1 + \\epsilon_{I_1} I_1 - \\gamma_{D_1} D_1 - d_{D_1} D_1 \\\\\n",
    "\\displaystyle \\frac{\\mathrm{d}R_1}{\\mathrm{d}t} &= \\gamma_{A_1} A_1 + \\gamma_{I_1} I_1 + \\gamma_{D_1} D_1 \\\\\n",
    "\\displaystyle\\frac{\\mathrm{d}S_2}{\\mathrm{d}t} &= -S_2(\\langle\\beta^T[1], I\\rangle - \\langle \\beta^T [1], \\theta^T[1] * A \\rangle) - p_2 S_2 + \\lambda_2 Q_2 \\\\\n",
    "\\displaystyle\\frac{\\mathrm{d}Q_2}{\\mathrm{d}t} &= p_2 S_2 - \\lambda_2 Q_2\\\\\n",
    "\\displaystyle\\frac{\\mathrm{d}E_2}{\\mathrm{d}t} &= \\beta_2 S_2(I_2 + \\theta_2 A_2) - \\sigma_2 E_2 \\\\\n",
    "\\displaystyle\\frac{\\mathrm{d}A_2}{\\mathrm{d}t} &= \\sigma_2(1- \\rho_2)E_2 - \\epsilon_{A_2} A_2 - \\gamma_{A_2} A_2 \\\\\n",
    "\\displaystyle\\frac{\\mathrm{d}I_2}{\\mathrm{d}t} &= \\sigma_2\\rho_2 E_2 - \\epsilon_{I_2} I_2 - \\gamma_{I_2} I_2 - d_{I_2} I_2 \\\\\n",
    "\\displaystyle \\frac{\\mathrm{d}D_2}{\\mathrm{d}t} &=  \\epsilon_{A_2} A_2 + \\epsilon_{I_2} I_2 - \\gamma_{D_2} D_2 - d_{D_2} D_2 \\\\\n",
    "\\displaystyle\\frac{\\mathrm{d}R_2}{\\mathrm{d}t} &= \\gamma_{A_2} A_2 + \\gamma_{I_2} I_2 + \\gamma_{D_2} D_2 \n",
    "\\end{cases}\n",
    "$$"
   ]
  },
  {
   "cell_type": "code",
   "execution_count": 44,
   "metadata": {},
   "outputs": [],
   "source": [
    "params_rio_base = ([1e-7, 1e-9], [1/10, 1/10] ,1/4    ,1/6,   1/7, 0.94, 1/100, 0.0996, 1/30, 0.0766, 0.0026, 0.0843, 0.0017)\n",
    "params_sp_base = ([5e-10, 5e-8], [1/10, 1/10], 1/4,    1/6,   1/7, 0.94, 1/100, 0.00996, 1/30, 0.0766, 0.0026, 0.0843, 0.0017)\n",
    "params = [np.array([i,j]) for i,j in zip(params_rio_base, params_sp_base)]"
   ]
  },
  {
   "cell_type": "code",
   "execution_count": 45,
   "metadata": {},
   "outputs": [],
   "source": [
    "cidades = [['Rio de Janeiro', 'RJ'], ['São Paulo', 'SP'], ['Niterói', 'Nit']]\n",
    "dados_Rio = [\n",
    "    [114, 110, 60, 115, 86, 42, 141, 198, 184, 175, 97, 91, 326, 71, 126],\n",
    "    [4,   7,  5,   2,  4,  5,  12,  14,   9,  10,  6,  8,   9, 25,  27]\n",
    "]\n",
    "\n",
    "dados_SP = [ \n",
    "    [  17,  801,  408,  883,  142,  749,  634,  695,  547,  206,  220,\n",
    "         26,  162, 1031,  865],\n",
    "    [  24,   15,   33,    6,   25,\n",
    "         53,   44,   45,   26,   10,   23,   11,   64,   43,   47]\n",
    "]\n",
    "\n",
    "# Taxa de subnotificação\n",
    "taxa_subn   = 8\n",
    "# Proporção de infectados assintomáticos\n",
    "prop_assint = 0.80\n",
    "\n",
    "# Dados para a cidade do Rio de Janeiro,\n",
    "# IBGE 2019 (estimativa)\n",
    "pop_Rio = 6718903\n",
    "# 01 de Abril\n",
    "diagn_Rio, recup_Rio = 697, 23\n",
    "infect_Rio = diagn_Rio*(taxa_subn-1)*(1 - prop_assint)\n",
    "assint_Rio = diagn_Rio*(taxa_subn-1)*prop_assint\n",
    "expostos_Rio = diagn_Rio*7\n",
    "quarentena_Rio = 0.6 * pop_Rio\n",
    "\n",
    "suscetiveis_Rio = pop_Rio - (quarentena_Rio + expostos_Rio + assint_Rio + infect_Rio + diagn_Rio + recup_Rio)\n",
    "\n",
    "# Dados para a cidade de São Paulo\n",
    "# IBGE 2019 (estimativa)\n",
    "pop_SP = 12.2e6 \n",
    "# 01 de Abril\n",
    "diagn_SP, recup_SP = 1503, 49\n",
    "infect_SP = diagn_SP*(taxa_subn-1)*(1 - prop_assint)\n",
    "assint_SP = diagn_SP*(taxa_subn-1)*prop_assint\n",
    "expostos_SP = diagn_SP*7\n",
    "quarentena_SP = 0.6 * pop_SP\n",
    "\n",
    "suscetiveis_SP = pop_SP- (quarentena_SP + expostos_SP + assint_SP + infect_SP + diagn_SP + recup_SP)\n",
    "\n",
    "# condições iniciais\n",
    "CI_Rio = [suscetiveis_Rio, quarentena_Rio, expostos_Rio, assint_Rio, infect_Rio, diagn_Rio, recup_Rio]\n",
    "CI_SP  = [suscetiveis_SP, quarentena_SP, expostos_SP, assint_SP, infect_SP, diagn_SP, recup_SP]\n",
    "CI     = CI_Rio + CI_SP"
   ]
  },
  {
   "cell_type": "code",
   "execution_count": 46,
   "metadata": {},
   "outputs": [],
   "source": [
    "T_fim = len(dados_Rio[0])\n",
    "f = lambda t,v: G_semtroca(t, v, params)\n",
    "sol = solve_ivp(f, (1,T_fim), CI, t_eval=range(1,T_fim+1)).y"
   ]
  },
  {
   "cell_type": "code",
   "execution_count": 47,
   "metadata": {},
   "outputs": [],
   "source": [
    "diagn = new_diagn(sol, params)\n",
    "deaths = new_deaths(sol, params)"
   ]
  },
  {
   "cell_type": "code",
   "execution_count": 48,
   "metadata": {},
   "outputs": [],
   "source": [
    "start = dt.datetime.strptime(\"01-04-2020\", \"%d-%m-%Y\")\n",
    "then = start + dt.timedelta(days=T_fim)\n",
    "days = mdates.drange(start,then,dt.timedelta(days=1))\n",
    "dates = [dt.datetime.strftime(mdates.num2date(i), '%d-%m').replace('-','/') for i in days]"
   ]
  },
  {
   "cell_type": "code",
   "execution_count": 49,
   "metadata": {},
   "outputs": [
    {
     "data": {
      "application/vnd.plotly.v1+json": {
       "config": {
        "plotlyServerURL": "https://plot.ly"
       },
       "data": [
        {
         "legendgroup": "dados reais",
         "marker": {
          "color": "cornflowerblue",
          "symbol": "x"
         },
         "name": "Dados Reais",
         "type": "scatter",
         "x": [
          "01/04",
          "02/04",
          "03/04",
          "04/04",
          "05/04",
          "06/04",
          "07/04",
          "08/04",
          "09/04",
          "10/04",
          "11/04",
          "12/04",
          "13/04",
          "14/04",
          "15/04"
         ],
         "xaxis": "x",
         "y": [
          114,
          110,
          60,
          115,
          86,
          42,
          141,
          198,
          184,
          175,
          97,
          91,
          326,
          71,
          126
         ],
         "yaxis": "y"
        },
        {
         "legendgroup": "modelo",
         "line": {
          "dash": "3px"
         },
         "marker": {
          "color": "tomato"
         },
         "name": "Modelo",
         "type": "scatter",
         "x": [
          "01/04",
          "02/04",
          "03/04",
          "04/04",
          "05/04",
          "06/04",
          "07/04",
          "08/04",
          "09/04",
          "10/04",
          "11/04",
          "12/04",
          "13/04",
          "14/04",
          "15/04"
         ],
         "xaxis": "x",
         "y": [
          71.55866666666665,
          84.50695048551952,
          95.3621726712466,
          104.80665201586258,
          113.41759380487832,
          121.66749292455069,
          129.79062828951717,
          137.9873803184573,
          146.4646732241966,
          155.38567782316665,
          164.81008762552523,
          174.8025710401171,
          185.44708908417755,
          196.84633203844217,
          209.06128036456556
         ],
         "yaxis": "y"
        },
        {
         "legendgroup": "dados reais",
         "marker": {
          "color": "cornflowerblue",
          "symbol": "x"
         },
         "name": "Dados reais",
         "showlegend": false,
         "type": "scatter",
         "x": [
          "01/04",
          "02/04",
          "03/04",
          "04/04",
          "05/04",
          "06/04",
          "07/04",
          "08/04",
          "09/04",
          "10/04",
          "11/04",
          "12/04",
          "13/04",
          "14/04",
          "15/04"
         ],
         "xaxis": "x2",
         "y": [
          17,
          801,
          408,
          883,
          142,
          749,
          634,
          695,
          547,
          206,
          220,
          26,
          162,
          1031,
          865
         ],
         "yaxis": "y2"
        },
        {
         "legendgroup": "modelo",
         "line": {
          "dash": "3px"
         },
         "marker": {
          "color": "tomato"
         },
         "name": "Modelo",
         "showlegend": false,
         "type": "scatter",
         "x": [
          "01/04",
          "02/04",
          "03/04",
          "04/04",
          "05/04",
          "06/04",
          "07/04",
          "08/04",
          "09/04",
          "10/04",
          "11/04",
          "12/04",
          "13/04",
          "14/04",
          "15/04"
         ],
         "xaxis": "x2",
         "y": [
          154.308,
          189.39669162117121,
          218.92476198466449,
          244.48009048532094,
          267.40151213862976,
          288.7847340407843,
          309.2154588635061,
          329.18783159371253,
          349.19419388918595,
          369.6240685004178,
          390.6364140406005,
          412.39038301524334,
          435.0795142199446,
          458.930528523191,
          484.07416175121887
         ],
         "yaxis": "y2"
        },
        {
         "legendgroup": "dados reais",
         "marker": {
          "color": "cornflowerblue",
          "symbol": "x"
         },
         "name": "Dados reais",
         "showlegend": false,
         "type": "scatter",
         "x": [
          "01/04",
          "02/04",
          "03/04",
          "04/04",
          "05/04",
          "06/04",
          "07/04",
          "08/04",
          "09/04",
          "10/04",
          "11/04",
          "12/04",
          "13/04",
          "14/04",
          "15/04"
         ],
         "xaxis": "x3",
         "y": [
          4,
          7,
          5,
          2,
          4,
          5,
          12,
          14,
          9,
          10,
          6,
          8,
          9,
          25,
          27
         ],
         "yaxis": "y3"
        },
        {
         "legendgroup": "modelo",
         "line": {
          "dash": "3px"
         },
         "marker": {
          "color": "tomato"
         },
         "name": "Modelo",
         "showlegend": false,
         "type": "scatter",
         "x": [
          "01/04",
          "02/04",
          "03/04",
          "04/04",
          "05/04",
          "06/04",
          "07/04",
          "08/04",
          "09/04",
          "10/04",
          "11/04",
          "12/04",
          "13/04",
          "14/04",
          "15/04"
         ],
         "xaxis": "x3",
         "y": [
          3.721979999999999,
          5.047902467257824,
          6.198496280010783,
          7.2255765473174876,
          8.173295281512926,
          9.078194627230634,
          9.959929848834804,
          10.835540163383275,
          11.722306864793456,
          12.634273352799271,
          13.578054019073416,
          14.56046943666911,
          15.589587493935333,
          16.674683956488483,
          17.822017002047236
         ],
         "yaxis": "y3"
        },
        {
         "legendgroup": "dados reais",
         "marker": {
          "color": "cornflowerblue",
          "symbol": "x"
         },
         "name": "Dados reais",
         "showlegend": false,
         "type": "scatter",
         "x": [
          "01/04",
          "02/04",
          "03/04",
          "04/04",
          "05/04",
          "06/04",
          "07/04",
          "08/04",
          "09/04",
          "10/04",
          "11/04",
          "12/04",
          "13/04",
          "14/04",
          "15/04"
         ],
         "xaxis": "x4",
         "y": [
          24,
          15,
          33,
          6,
          25,
          53,
          44,
          45,
          26,
          10,
          23,
          11,
          64,
          43,
          47
         ],
         "yaxis": "y4"
        },
        {
         "legendgroup": "modelo",
         "line": {
          "dash": "3px"
         },
         "marker": {
          "color": "tomato"
         },
         "name": "Modelo",
         "showlegend": false,
         "type": "scatter",
         "x": [
          "01/04",
          "02/04",
          "03/04",
          "04/04",
          "05/04",
          "06/04",
          "07/04",
          "08/04",
          "09/04",
          "10/04",
          "11/04",
          "12/04",
          "13/04",
          "14/04",
          "15/04"
         ],
         "xaxis": "x4",
         "y": [
          8.026019999999997,
          10.895852269234233,
          13.379631490716143,
          15.589144069016914,
          17.618884943295445,
          19.546469050249176,
          21.414091215463387,
          23.25759262331077,
          25.11270000262773,
          27.008014731700836,
          28.956136827924816,
          30.9697066086151,
          33.06378740176162,
          35.25578191966493,
          37.556464543724246
         ],
         "yaxis": "y4"
        }
       ],
       "layout": {
        "annotations": [
         {
          "font": {
           "size": 16
          },
          "showarrow": false,
          "text": "Diagnosticados Rio de Janeiro",
          "x": 0.225,
          "xanchor": "center",
          "xref": "paper",
          "y": 1,
          "yanchor": "bottom",
          "yref": "paper"
         },
         {
          "font": {
           "size": 16
          },
          "showarrow": false,
          "text": "Diagnosticados São Paulo",
          "x": 0.775,
          "xanchor": "center",
          "xref": "paper",
          "y": 1,
          "yanchor": "bottom",
          "yref": "paper"
         },
         {
          "font": {
           "size": 16
          },
          "showarrow": false,
          "text": "Óbitos Rio de Janeiro",
          "x": 0.225,
          "xanchor": "center",
          "xref": "paper",
          "y": 0.425,
          "yanchor": "bottom",
          "yref": "paper"
         },
         {
          "font": {
           "size": 16
          },
          "showarrow": false,
          "text": "Óbitos São Paulo",
          "x": 0.775,
          "xanchor": "center",
          "xref": "paper",
          "y": 0.425,
          "yanchor": "bottom",
          "yref": "paper"
         }
        ],
        "height": 600,
        "template": {
         "data": {
          "bar": [
           {
            "error_x": {
             "color": "#2a3f5f"
            },
            "error_y": {
             "color": "#2a3f5f"
            },
            "marker": {
             "line": {
              "color": "#E5ECF6",
              "width": 0.5
             }
            },
            "type": "bar"
           }
          ],
          "barpolar": [
           {
            "marker": {
             "line": {
              "color": "#E5ECF6",
              "width": 0.5
             }
            },
            "type": "barpolar"
           }
          ],
          "carpet": [
           {
            "aaxis": {
             "endlinecolor": "#2a3f5f",
             "gridcolor": "white",
             "linecolor": "white",
             "minorgridcolor": "white",
             "startlinecolor": "#2a3f5f"
            },
            "baxis": {
             "endlinecolor": "#2a3f5f",
             "gridcolor": "white",
             "linecolor": "white",
             "minorgridcolor": "white",
             "startlinecolor": "#2a3f5f"
            },
            "type": "carpet"
           }
          ],
          "choropleth": [
           {
            "colorbar": {
             "outlinewidth": 0,
             "ticks": ""
            },
            "type": "choropleth"
           }
          ],
          "contour": [
           {
            "colorbar": {
             "outlinewidth": 0,
             "ticks": ""
            },
            "colorscale": [
             [
              0,
              "#0d0887"
             ],
             [
              0.1111111111111111,
              "#46039f"
             ],
             [
              0.2222222222222222,
              "#7201a8"
             ],
             [
              0.3333333333333333,
              "#9c179e"
             ],
             [
              0.4444444444444444,
              "#bd3786"
             ],
             [
              0.5555555555555556,
              "#d8576b"
             ],
             [
              0.6666666666666666,
              "#ed7953"
             ],
             [
              0.7777777777777778,
              "#fb9f3a"
             ],
             [
              0.8888888888888888,
              "#fdca26"
             ],
             [
              1,
              "#f0f921"
             ]
            ],
            "type": "contour"
           }
          ],
          "contourcarpet": [
           {
            "colorbar": {
             "outlinewidth": 0,
             "ticks": ""
            },
            "type": "contourcarpet"
           }
          ],
          "heatmap": [
           {
            "colorbar": {
             "outlinewidth": 0,
             "ticks": ""
            },
            "colorscale": [
             [
              0,
              "#0d0887"
             ],
             [
              0.1111111111111111,
              "#46039f"
             ],
             [
              0.2222222222222222,
              "#7201a8"
             ],
             [
              0.3333333333333333,
              "#9c179e"
             ],
             [
              0.4444444444444444,
              "#bd3786"
             ],
             [
              0.5555555555555556,
              "#d8576b"
             ],
             [
              0.6666666666666666,
              "#ed7953"
             ],
             [
              0.7777777777777778,
              "#fb9f3a"
             ],
             [
              0.8888888888888888,
              "#fdca26"
             ],
             [
              1,
              "#f0f921"
             ]
            ],
            "type": "heatmap"
           }
          ],
          "heatmapgl": [
           {
            "colorbar": {
             "outlinewidth": 0,
             "ticks": ""
            },
            "colorscale": [
             [
              0,
              "#0d0887"
             ],
             [
              0.1111111111111111,
              "#46039f"
             ],
             [
              0.2222222222222222,
              "#7201a8"
             ],
             [
              0.3333333333333333,
              "#9c179e"
             ],
             [
              0.4444444444444444,
              "#bd3786"
             ],
             [
              0.5555555555555556,
              "#d8576b"
             ],
             [
              0.6666666666666666,
              "#ed7953"
             ],
             [
              0.7777777777777778,
              "#fb9f3a"
             ],
             [
              0.8888888888888888,
              "#fdca26"
             ],
             [
              1,
              "#f0f921"
             ]
            ],
            "type": "heatmapgl"
           }
          ],
          "histogram": [
           {
            "marker": {
             "colorbar": {
              "outlinewidth": 0,
              "ticks": ""
             }
            },
            "type": "histogram"
           }
          ],
          "histogram2d": [
           {
            "colorbar": {
             "outlinewidth": 0,
             "ticks": ""
            },
            "colorscale": [
             [
              0,
              "#0d0887"
             ],
             [
              0.1111111111111111,
              "#46039f"
             ],
             [
              0.2222222222222222,
              "#7201a8"
             ],
             [
              0.3333333333333333,
              "#9c179e"
             ],
             [
              0.4444444444444444,
              "#bd3786"
             ],
             [
              0.5555555555555556,
              "#d8576b"
             ],
             [
              0.6666666666666666,
              "#ed7953"
             ],
             [
              0.7777777777777778,
              "#fb9f3a"
             ],
             [
              0.8888888888888888,
              "#fdca26"
             ],
             [
              1,
              "#f0f921"
             ]
            ],
            "type": "histogram2d"
           }
          ],
          "histogram2dcontour": [
           {
            "colorbar": {
             "outlinewidth": 0,
             "ticks": ""
            },
            "colorscale": [
             [
              0,
              "#0d0887"
             ],
             [
              0.1111111111111111,
              "#46039f"
             ],
             [
              0.2222222222222222,
              "#7201a8"
             ],
             [
              0.3333333333333333,
              "#9c179e"
             ],
             [
              0.4444444444444444,
              "#bd3786"
             ],
             [
              0.5555555555555556,
              "#d8576b"
             ],
             [
              0.6666666666666666,
              "#ed7953"
             ],
             [
              0.7777777777777778,
              "#fb9f3a"
             ],
             [
              0.8888888888888888,
              "#fdca26"
             ],
             [
              1,
              "#f0f921"
             ]
            ],
            "type": "histogram2dcontour"
           }
          ],
          "mesh3d": [
           {
            "colorbar": {
             "outlinewidth": 0,
             "ticks": ""
            },
            "type": "mesh3d"
           }
          ],
          "parcoords": [
           {
            "line": {
             "colorbar": {
              "outlinewidth": 0,
              "ticks": ""
             }
            },
            "type": "parcoords"
           }
          ],
          "pie": [
           {
            "automargin": true,
            "type": "pie"
           }
          ],
          "scatter": [
           {
            "marker": {
             "colorbar": {
              "outlinewidth": 0,
              "ticks": ""
             }
            },
            "type": "scatter"
           }
          ],
          "scatter3d": [
           {
            "line": {
             "colorbar": {
              "outlinewidth": 0,
              "ticks": ""
             }
            },
            "marker": {
             "colorbar": {
              "outlinewidth": 0,
              "ticks": ""
             }
            },
            "type": "scatter3d"
           }
          ],
          "scattercarpet": [
           {
            "marker": {
             "colorbar": {
              "outlinewidth": 0,
              "ticks": ""
             }
            },
            "type": "scattercarpet"
           }
          ],
          "scattergeo": [
           {
            "marker": {
             "colorbar": {
              "outlinewidth": 0,
              "ticks": ""
             }
            },
            "type": "scattergeo"
           }
          ],
          "scattergl": [
           {
            "marker": {
             "colorbar": {
              "outlinewidth": 0,
              "ticks": ""
             }
            },
            "type": "scattergl"
           }
          ],
          "scattermapbox": [
           {
            "marker": {
             "colorbar": {
              "outlinewidth": 0,
              "ticks": ""
             }
            },
            "type": "scattermapbox"
           }
          ],
          "scatterpolar": [
           {
            "marker": {
             "colorbar": {
              "outlinewidth": 0,
              "ticks": ""
             }
            },
            "type": "scatterpolar"
           }
          ],
          "scatterpolargl": [
           {
            "marker": {
             "colorbar": {
              "outlinewidth": 0,
              "ticks": ""
             }
            },
            "type": "scatterpolargl"
           }
          ],
          "scatterternary": [
           {
            "marker": {
             "colorbar": {
              "outlinewidth": 0,
              "ticks": ""
             }
            },
            "type": "scatterternary"
           }
          ],
          "surface": [
           {
            "colorbar": {
             "outlinewidth": 0,
             "ticks": ""
            },
            "colorscale": [
             [
              0,
              "#0d0887"
             ],
             [
              0.1111111111111111,
              "#46039f"
             ],
             [
              0.2222222222222222,
              "#7201a8"
             ],
             [
              0.3333333333333333,
              "#9c179e"
             ],
             [
              0.4444444444444444,
              "#bd3786"
             ],
             [
              0.5555555555555556,
              "#d8576b"
             ],
             [
              0.6666666666666666,
              "#ed7953"
             ],
             [
              0.7777777777777778,
              "#fb9f3a"
             ],
             [
              0.8888888888888888,
              "#fdca26"
             ],
             [
              1,
              "#f0f921"
             ]
            ],
            "type": "surface"
           }
          ],
          "table": [
           {
            "cells": {
             "fill": {
              "color": "#EBF0F8"
             },
             "line": {
              "color": "white"
             }
            },
            "header": {
             "fill": {
              "color": "#C8D4E3"
             },
             "line": {
              "color": "white"
             }
            },
            "type": "table"
           }
          ]
         },
         "layout": {
          "annotationdefaults": {
           "arrowcolor": "#2a3f5f",
           "arrowhead": 0,
           "arrowwidth": 1
          },
          "coloraxis": {
           "colorbar": {
            "outlinewidth": 0,
            "ticks": ""
           }
          },
          "colorscale": {
           "diverging": [
            [
             0,
             "#8e0152"
            ],
            [
             0.1,
             "#c51b7d"
            ],
            [
             0.2,
             "#de77ae"
            ],
            [
             0.3,
             "#f1b6da"
            ],
            [
             0.4,
             "#fde0ef"
            ],
            [
             0.5,
             "#f7f7f7"
            ],
            [
             0.6,
             "#e6f5d0"
            ],
            [
             0.7,
             "#b8e186"
            ],
            [
             0.8,
             "#7fbc41"
            ],
            [
             0.9,
             "#4d9221"
            ],
            [
             1,
             "#276419"
            ]
           ],
           "sequential": [
            [
             0,
             "#0d0887"
            ],
            [
             0.1111111111111111,
             "#46039f"
            ],
            [
             0.2222222222222222,
             "#7201a8"
            ],
            [
             0.3333333333333333,
             "#9c179e"
            ],
            [
             0.4444444444444444,
             "#bd3786"
            ],
            [
             0.5555555555555556,
             "#d8576b"
            ],
            [
             0.6666666666666666,
             "#ed7953"
            ],
            [
             0.7777777777777778,
             "#fb9f3a"
            ],
            [
             0.8888888888888888,
             "#fdca26"
            ],
            [
             1,
             "#f0f921"
            ]
           ],
           "sequentialminus": [
            [
             0,
             "#0d0887"
            ],
            [
             0.1111111111111111,
             "#46039f"
            ],
            [
             0.2222222222222222,
             "#7201a8"
            ],
            [
             0.3333333333333333,
             "#9c179e"
            ],
            [
             0.4444444444444444,
             "#bd3786"
            ],
            [
             0.5555555555555556,
             "#d8576b"
            ],
            [
             0.6666666666666666,
             "#ed7953"
            ],
            [
             0.7777777777777778,
             "#fb9f3a"
            ],
            [
             0.8888888888888888,
             "#fdca26"
            ],
            [
             1,
             "#f0f921"
            ]
           ]
          },
          "colorway": [
           "#636efa",
           "#EF553B",
           "#00cc96",
           "#ab63fa",
           "#FFA15A",
           "#19d3f3",
           "#FF6692",
           "#B6E880",
           "#FF97FF",
           "#FECB52"
          ],
          "font": {
           "color": "#2a3f5f"
          },
          "geo": {
           "bgcolor": "white",
           "lakecolor": "white",
           "landcolor": "#E5ECF6",
           "showlakes": true,
           "showland": true,
           "subunitcolor": "white"
          },
          "hoverlabel": {
           "align": "left"
          },
          "hovermode": "closest",
          "mapbox": {
           "style": "light"
          },
          "paper_bgcolor": "white",
          "plot_bgcolor": "#E5ECF6",
          "polar": {
           "angularaxis": {
            "gridcolor": "white",
            "linecolor": "white",
            "ticks": ""
           },
           "bgcolor": "#E5ECF6",
           "radialaxis": {
            "gridcolor": "white",
            "linecolor": "white",
            "ticks": ""
           }
          },
          "scene": {
           "xaxis": {
            "backgroundcolor": "#E5ECF6",
            "gridcolor": "white",
            "gridwidth": 2,
            "linecolor": "white",
            "showbackground": true,
            "ticks": "",
            "zerolinecolor": "white"
           },
           "yaxis": {
            "backgroundcolor": "#E5ECF6",
            "gridcolor": "white",
            "gridwidth": 2,
            "linecolor": "white",
            "showbackground": true,
            "ticks": "",
            "zerolinecolor": "white"
           },
           "zaxis": {
            "backgroundcolor": "#E5ECF6",
            "gridcolor": "white",
            "gridwidth": 2,
            "linecolor": "white",
            "showbackground": true,
            "ticks": "",
            "zerolinecolor": "white"
           }
          },
          "shapedefaults": {
           "line": {
            "color": "#2a3f5f"
           }
          },
          "ternary": {
           "aaxis": {
            "gridcolor": "white",
            "linecolor": "white",
            "ticks": ""
           },
           "baxis": {
            "gridcolor": "white",
            "linecolor": "white",
            "ticks": ""
           },
           "bgcolor": "#E5ECF6",
           "caxis": {
            "gridcolor": "white",
            "linecolor": "white",
            "ticks": ""
           }
          },
          "title": {
           "x": 0.05
          },
          "xaxis": {
           "automargin": true,
           "gridcolor": "white",
           "linecolor": "white",
           "ticks": "",
           "title": {
            "standoff": 15
           },
           "zerolinecolor": "white",
           "zerolinewidth": 2
          },
          "yaxis": {
           "automargin": true,
           "gridcolor": "white",
           "linecolor": "white",
           "ticks": "",
           "title": {
            "standoff": 15
           },
           "zerolinecolor": "white",
           "zerolinewidth": 2
          }
         }
        },
        "title": {
         "text": "Simulação com modelo duas cidades sem troca de massa",
         "x": 0.2
        },
        "width": 950,
        "xaxis": {
         "anchor": "y",
         "domain": [
          0,
          0.45
         ],
         "tickangle": 45
        },
        "xaxis2": {
         "anchor": "y2",
         "domain": [
          0.55,
          1
         ],
         "tickangle": 45
        },
        "xaxis3": {
         "anchor": "y3",
         "domain": [
          0,
          0.45
         ],
         "tickangle": 45,
         "title": {
          "text": "Dias"
         }
        },
        "xaxis4": {
         "anchor": "y4",
         "domain": [
          0.55,
          1
         ],
         "tickangle": 45,
         "title": {
          "text": "Dias"
         }
        },
        "yaxis": {
         "anchor": "x",
         "domain": [
          0.575,
          1
         ],
         "title": {
          "text": "Casos diagnosticados"
         }
        },
        "yaxis2": {
         "anchor": "x2",
         "domain": [
          0.575,
          1
         ]
        },
        "yaxis3": {
         "anchor": "x3",
         "domain": [
          0,
          0.425
         ],
         "title": {
          "text": "Óbitos"
         }
        },
        "yaxis4": {
         "anchor": "x4",
         "domain": [
          0,
          0.425
         ]
        }
       }
      },
      "text/html": [
       "<div>\n",
       "        \n",
       "        \n",
       "            <div id=\"66de4441-c3ee-40fb-821b-bcf1ffd6baf8\" class=\"plotly-graph-div\" style=\"height:600px; width:950px;\"></div>\n",
       "            <script type=\"text/javascript\">\n",
       "                require([\"plotly\"], function(Plotly) {\n",
       "                    window.PLOTLYENV=window.PLOTLYENV || {};\n",
       "                    \n",
       "                if (document.getElementById(\"66de4441-c3ee-40fb-821b-bcf1ffd6baf8\")) {\n",
       "                    Plotly.newPlot(\n",
       "                        '66de4441-c3ee-40fb-821b-bcf1ffd6baf8',\n",
       "                        [{\"legendgroup\": \"dados reais\", \"marker\": {\"color\": \"cornflowerblue\", \"symbol\": \"x\"}, \"name\": \"Dados Reais\", \"type\": \"scatter\", \"x\": [\"01/04\", \"02/04\", \"03/04\", \"04/04\", \"05/04\", \"06/04\", \"07/04\", \"08/04\", \"09/04\", \"10/04\", \"11/04\", \"12/04\", \"13/04\", \"14/04\", \"15/04\"], \"xaxis\": \"x\", \"y\": [114, 110, 60, 115, 86, 42, 141, 198, 184, 175, 97, 91, 326, 71, 126], \"yaxis\": \"y\"}, {\"legendgroup\": \"modelo\", \"line\": {\"dash\": \"3px\"}, \"marker\": {\"color\": \"tomato\"}, \"name\": \"Modelo\", \"type\": \"scatter\", \"x\": [\"01/04\", \"02/04\", \"03/04\", \"04/04\", \"05/04\", \"06/04\", \"07/04\", \"08/04\", \"09/04\", \"10/04\", \"11/04\", \"12/04\", \"13/04\", \"14/04\", \"15/04\"], \"xaxis\": \"x\", \"y\": [71.55866666666665, 84.50695048551952, 95.3621726712466, 104.80665201586258, 113.41759380487832, 121.66749292455069, 129.79062828951717, 137.9873803184573, 146.4646732241966, 155.38567782316665, 164.81008762552523, 174.8025710401171, 185.44708908417755, 196.84633203844217, 209.06128036456556], \"yaxis\": \"y\"}, {\"legendgroup\": \"dados reais\", \"marker\": {\"color\": \"cornflowerblue\", \"symbol\": \"x\"}, \"name\": \"Dados reais\", \"showlegend\": false, \"type\": \"scatter\", \"x\": [\"01/04\", \"02/04\", \"03/04\", \"04/04\", \"05/04\", \"06/04\", \"07/04\", \"08/04\", \"09/04\", \"10/04\", \"11/04\", \"12/04\", \"13/04\", \"14/04\", \"15/04\"], \"xaxis\": \"x2\", \"y\": [17, 801, 408, 883, 142, 749, 634, 695, 547, 206, 220, 26, 162, 1031, 865], \"yaxis\": \"y2\"}, {\"legendgroup\": \"modelo\", \"line\": {\"dash\": \"3px\"}, \"marker\": {\"color\": \"tomato\"}, \"name\": \"Modelo\", \"showlegend\": false, \"type\": \"scatter\", \"x\": [\"01/04\", \"02/04\", \"03/04\", \"04/04\", \"05/04\", \"06/04\", \"07/04\", \"08/04\", \"09/04\", \"10/04\", \"11/04\", \"12/04\", \"13/04\", \"14/04\", \"15/04\"], \"xaxis\": \"x2\", \"y\": [154.308, 189.39669162117121, 218.92476198466449, 244.48009048532094, 267.40151213862976, 288.7847340407843, 309.2154588635061, 329.18783159371253, 349.19419388918595, 369.6240685004178, 390.6364140406005, 412.39038301524334, 435.0795142199446, 458.930528523191, 484.07416175121887], \"yaxis\": \"y2\"}, {\"legendgroup\": \"dados reais\", \"marker\": {\"color\": \"cornflowerblue\", \"symbol\": \"x\"}, \"name\": \"Dados reais\", \"showlegend\": false, \"type\": \"scatter\", \"x\": [\"01/04\", \"02/04\", \"03/04\", \"04/04\", \"05/04\", \"06/04\", \"07/04\", \"08/04\", \"09/04\", \"10/04\", \"11/04\", \"12/04\", \"13/04\", \"14/04\", \"15/04\"], \"xaxis\": \"x3\", \"y\": [4, 7, 5, 2, 4, 5, 12, 14, 9, 10, 6, 8, 9, 25, 27], \"yaxis\": \"y3\"}, {\"legendgroup\": \"modelo\", \"line\": {\"dash\": \"3px\"}, \"marker\": {\"color\": \"tomato\"}, \"name\": \"Modelo\", \"showlegend\": false, \"type\": \"scatter\", \"x\": [\"01/04\", \"02/04\", \"03/04\", \"04/04\", \"05/04\", \"06/04\", \"07/04\", \"08/04\", \"09/04\", \"10/04\", \"11/04\", \"12/04\", \"13/04\", \"14/04\", \"15/04\"], \"xaxis\": \"x3\", \"y\": [3.721979999999999, 5.047902467257824, 6.198496280010783, 7.2255765473174876, 8.173295281512926, 9.078194627230634, 9.959929848834804, 10.835540163383275, 11.722306864793456, 12.634273352799271, 13.578054019073416, 14.56046943666911, 15.589587493935333, 16.674683956488483, 17.822017002047236], \"yaxis\": \"y3\"}, {\"legendgroup\": \"dados reais\", \"marker\": {\"color\": \"cornflowerblue\", \"symbol\": \"x\"}, \"name\": \"Dados reais\", \"showlegend\": false, \"type\": \"scatter\", \"x\": [\"01/04\", \"02/04\", \"03/04\", \"04/04\", \"05/04\", \"06/04\", \"07/04\", \"08/04\", \"09/04\", \"10/04\", \"11/04\", \"12/04\", \"13/04\", \"14/04\", \"15/04\"], \"xaxis\": \"x4\", \"y\": [24, 15, 33, 6, 25, 53, 44, 45, 26, 10, 23, 11, 64, 43, 47], \"yaxis\": \"y4\"}, {\"legendgroup\": \"modelo\", \"line\": {\"dash\": \"3px\"}, \"marker\": {\"color\": \"tomato\"}, \"name\": \"Modelo\", \"showlegend\": false, \"type\": \"scatter\", \"x\": [\"01/04\", \"02/04\", \"03/04\", \"04/04\", \"05/04\", \"06/04\", \"07/04\", \"08/04\", \"09/04\", \"10/04\", \"11/04\", \"12/04\", \"13/04\", \"14/04\", \"15/04\"], \"xaxis\": \"x4\", \"y\": [8.026019999999997, 10.895852269234233, 13.379631490716143, 15.589144069016914, 17.618884943295445, 19.546469050249176, 21.414091215463387, 23.25759262331077, 25.11270000262773, 27.008014731700836, 28.956136827924816, 30.9697066086151, 33.06378740176162, 35.25578191966493, 37.556464543724246], \"yaxis\": \"y4\"}],\n",
       "                        {\"annotations\": [{\"font\": {\"size\": 16}, \"showarrow\": false, \"text\": \"Diagnosticados Rio de Janeiro\", \"x\": 0.225, \"xanchor\": \"center\", \"xref\": \"paper\", \"y\": 1.0, \"yanchor\": \"bottom\", \"yref\": \"paper\"}, {\"font\": {\"size\": 16}, \"showarrow\": false, \"text\": \"Diagnosticados S\\u00e3o Paulo\", \"x\": 0.775, \"xanchor\": \"center\", \"xref\": \"paper\", \"y\": 1.0, \"yanchor\": \"bottom\", \"yref\": \"paper\"}, {\"font\": {\"size\": 16}, \"showarrow\": false, \"text\": \"\\u00d3bitos Rio de Janeiro\", \"x\": 0.225, \"xanchor\": \"center\", \"xref\": \"paper\", \"y\": 0.425, \"yanchor\": \"bottom\", \"yref\": \"paper\"}, {\"font\": {\"size\": 16}, \"showarrow\": false, \"text\": \"\\u00d3bitos S\\u00e3o Paulo\", \"x\": 0.775, \"xanchor\": \"center\", \"xref\": \"paper\", \"y\": 0.425, \"yanchor\": \"bottom\", \"yref\": \"paper\"}], \"height\": 600, \"template\": {\"data\": {\"bar\": [{\"error_x\": {\"color\": \"#2a3f5f\"}, \"error_y\": {\"color\": \"#2a3f5f\"}, \"marker\": {\"line\": {\"color\": \"#E5ECF6\", \"width\": 0.5}}, \"type\": \"bar\"}], \"barpolar\": [{\"marker\": {\"line\": {\"color\": \"#E5ECF6\", \"width\": 0.5}}, \"type\": \"barpolar\"}], \"carpet\": [{\"aaxis\": {\"endlinecolor\": \"#2a3f5f\", \"gridcolor\": \"white\", \"linecolor\": \"white\", \"minorgridcolor\": \"white\", \"startlinecolor\": \"#2a3f5f\"}, \"baxis\": {\"endlinecolor\": \"#2a3f5f\", \"gridcolor\": \"white\", \"linecolor\": \"white\", \"minorgridcolor\": \"white\", \"startlinecolor\": \"#2a3f5f\"}, \"type\": \"carpet\"}], \"choropleth\": [{\"colorbar\": {\"outlinewidth\": 0, \"ticks\": \"\"}, \"type\": \"choropleth\"}], \"contour\": [{\"colorbar\": {\"outlinewidth\": 0, \"ticks\": \"\"}, \"colorscale\": [[0.0, \"#0d0887\"], [0.1111111111111111, \"#46039f\"], [0.2222222222222222, \"#7201a8\"], [0.3333333333333333, \"#9c179e\"], [0.4444444444444444, \"#bd3786\"], [0.5555555555555556, \"#d8576b\"], [0.6666666666666666, \"#ed7953\"], [0.7777777777777778, \"#fb9f3a\"], [0.8888888888888888, \"#fdca26\"], [1.0, \"#f0f921\"]], \"type\": \"contour\"}], \"contourcarpet\": [{\"colorbar\": {\"outlinewidth\": 0, \"ticks\": \"\"}, \"type\": \"contourcarpet\"}], \"heatmap\": [{\"colorbar\": {\"outlinewidth\": 0, \"ticks\": \"\"}, \"colorscale\": [[0.0, \"#0d0887\"], [0.1111111111111111, \"#46039f\"], [0.2222222222222222, \"#7201a8\"], [0.3333333333333333, \"#9c179e\"], [0.4444444444444444, \"#bd3786\"], [0.5555555555555556, \"#d8576b\"], [0.6666666666666666, \"#ed7953\"], [0.7777777777777778, \"#fb9f3a\"], [0.8888888888888888, \"#fdca26\"], [1.0, \"#f0f921\"]], \"type\": \"heatmap\"}], \"heatmapgl\": [{\"colorbar\": {\"outlinewidth\": 0, \"ticks\": \"\"}, \"colorscale\": [[0.0, \"#0d0887\"], [0.1111111111111111, \"#46039f\"], [0.2222222222222222, \"#7201a8\"], [0.3333333333333333, \"#9c179e\"], [0.4444444444444444, \"#bd3786\"], [0.5555555555555556, \"#d8576b\"], [0.6666666666666666, \"#ed7953\"], [0.7777777777777778, \"#fb9f3a\"], [0.8888888888888888, \"#fdca26\"], [1.0, \"#f0f921\"]], \"type\": \"heatmapgl\"}], \"histogram\": [{\"marker\": {\"colorbar\": {\"outlinewidth\": 0, \"ticks\": \"\"}}, \"type\": \"histogram\"}], \"histogram2d\": [{\"colorbar\": {\"outlinewidth\": 0, \"ticks\": \"\"}, \"colorscale\": [[0.0, \"#0d0887\"], [0.1111111111111111, \"#46039f\"], [0.2222222222222222, \"#7201a8\"], [0.3333333333333333, \"#9c179e\"], [0.4444444444444444, \"#bd3786\"], [0.5555555555555556, \"#d8576b\"], [0.6666666666666666, \"#ed7953\"], [0.7777777777777778, \"#fb9f3a\"], [0.8888888888888888, \"#fdca26\"], [1.0, \"#f0f921\"]], \"type\": \"histogram2d\"}], \"histogram2dcontour\": [{\"colorbar\": {\"outlinewidth\": 0, \"ticks\": \"\"}, \"colorscale\": [[0.0, \"#0d0887\"], [0.1111111111111111, \"#46039f\"], [0.2222222222222222, \"#7201a8\"], [0.3333333333333333, \"#9c179e\"], [0.4444444444444444, \"#bd3786\"], [0.5555555555555556, \"#d8576b\"], [0.6666666666666666, \"#ed7953\"], [0.7777777777777778, \"#fb9f3a\"], [0.8888888888888888, \"#fdca26\"], [1.0, \"#f0f921\"]], \"type\": \"histogram2dcontour\"}], \"mesh3d\": [{\"colorbar\": {\"outlinewidth\": 0, \"ticks\": \"\"}, \"type\": \"mesh3d\"}], \"parcoords\": [{\"line\": {\"colorbar\": {\"outlinewidth\": 0, \"ticks\": \"\"}}, \"type\": \"parcoords\"}], \"pie\": [{\"automargin\": true, \"type\": \"pie\"}], \"scatter\": [{\"marker\": {\"colorbar\": {\"outlinewidth\": 0, \"ticks\": \"\"}}, \"type\": \"scatter\"}], \"scatter3d\": [{\"line\": {\"colorbar\": {\"outlinewidth\": 0, \"ticks\": \"\"}}, \"marker\": {\"colorbar\": {\"outlinewidth\": 0, \"ticks\": \"\"}}, \"type\": \"scatter3d\"}], \"scattercarpet\": [{\"marker\": {\"colorbar\": {\"outlinewidth\": 0, \"ticks\": \"\"}}, \"type\": \"scattercarpet\"}], \"scattergeo\": [{\"marker\": {\"colorbar\": {\"outlinewidth\": 0, \"ticks\": \"\"}}, \"type\": \"scattergeo\"}], \"scattergl\": [{\"marker\": {\"colorbar\": {\"outlinewidth\": 0, \"ticks\": \"\"}}, \"type\": \"scattergl\"}], \"scattermapbox\": [{\"marker\": {\"colorbar\": {\"outlinewidth\": 0, \"ticks\": \"\"}}, \"type\": \"scattermapbox\"}], \"scatterpolar\": [{\"marker\": {\"colorbar\": {\"outlinewidth\": 0, \"ticks\": \"\"}}, \"type\": \"scatterpolar\"}], \"scatterpolargl\": [{\"marker\": {\"colorbar\": {\"outlinewidth\": 0, \"ticks\": \"\"}}, \"type\": \"scatterpolargl\"}], \"scatterternary\": [{\"marker\": {\"colorbar\": {\"outlinewidth\": 0, \"ticks\": \"\"}}, \"type\": \"scatterternary\"}], \"surface\": [{\"colorbar\": {\"outlinewidth\": 0, \"ticks\": \"\"}, \"colorscale\": [[0.0, \"#0d0887\"], [0.1111111111111111, \"#46039f\"], [0.2222222222222222, \"#7201a8\"], [0.3333333333333333, \"#9c179e\"], [0.4444444444444444, \"#bd3786\"], [0.5555555555555556, \"#d8576b\"], [0.6666666666666666, \"#ed7953\"], [0.7777777777777778, \"#fb9f3a\"], [0.8888888888888888, \"#fdca26\"], [1.0, \"#f0f921\"]], \"type\": \"surface\"}], \"table\": [{\"cells\": {\"fill\": {\"color\": \"#EBF0F8\"}, \"line\": {\"color\": \"white\"}}, \"header\": {\"fill\": {\"color\": \"#C8D4E3\"}, \"line\": {\"color\": \"white\"}}, \"type\": \"table\"}]}, \"layout\": {\"annotationdefaults\": {\"arrowcolor\": \"#2a3f5f\", \"arrowhead\": 0, \"arrowwidth\": 1}, \"coloraxis\": {\"colorbar\": {\"outlinewidth\": 0, \"ticks\": \"\"}}, \"colorscale\": {\"diverging\": [[0, \"#8e0152\"], [0.1, \"#c51b7d\"], [0.2, \"#de77ae\"], [0.3, \"#f1b6da\"], [0.4, \"#fde0ef\"], [0.5, \"#f7f7f7\"], [0.6, \"#e6f5d0\"], [0.7, \"#b8e186\"], [0.8, \"#7fbc41\"], [0.9, \"#4d9221\"], [1, \"#276419\"]], \"sequential\": [[0.0, \"#0d0887\"], [0.1111111111111111, \"#46039f\"], [0.2222222222222222, \"#7201a8\"], [0.3333333333333333, \"#9c179e\"], [0.4444444444444444, \"#bd3786\"], [0.5555555555555556, \"#d8576b\"], [0.6666666666666666, \"#ed7953\"], [0.7777777777777778, \"#fb9f3a\"], [0.8888888888888888, \"#fdca26\"], [1.0, \"#f0f921\"]], \"sequentialminus\": [[0.0, \"#0d0887\"], [0.1111111111111111, \"#46039f\"], [0.2222222222222222, \"#7201a8\"], [0.3333333333333333, \"#9c179e\"], [0.4444444444444444, \"#bd3786\"], [0.5555555555555556, \"#d8576b\"], [0.6666666666666666, \"#ed7953\"], [0.7777777777777778, \"#fb9f3a\"], [0.8888888888888888, \"#fdca26\"], [1.0, \"#f0f921\"]]}, \"colorway\": [\"#636efa\", \"#EF553B\", \"#00cc96\", \"#ab63fa\", \"#FFA15A\", \"#19d3f3\", \"#FF6692\", \"#B6E880\", \"#FF97FF\", \"#FECB52\"], \"font\": {\"color\": \"#2a3f5f\"}, \"geo\": {\"bgcolor\": \"white\", \"lakecolor\": \"white\", \"landcolor\": \"#E5ECF6\", \"showlakes\": true, \"showland\": true, \"subunitcolor\": \"white\"}, \"hoverlabel\": {\"align\": \"left\"}, \"hovermode\": \"closest\", \"mapbox\": {\"style\": \"light\"}, \"paper_bgcolor\": \"white\", \"plot_bgcolor\": \"#E5ECF6\", \"polar\": {\"angularaxis\": {\"gridcolor\": \"white\", \"linecolor\": \"white\", \"ticks\": \"\"}, \"bgcolor\": \"#E5ECF6\", \"radialaxis\": {\"gridcolor\": \"white\", \"linecolor\": \"white\", \"ticks\": \"\"}}, \"scene\": {\"xaxis\": {\"backgroundcolor\": \"#E5ECF6\", \"gridcolor\": \"white\", \"gridwidth\": 2, \"linecolor\": \"white\", \"showbackground\": true, \"ticks\": \"\", \"zerolinecolor\": \"white\"}, \"yaxis\": {\"backgroundcolor\": \"#E5ECF6\", \"gridcolor\": \"white\", \"gridwidth\": 2, \"linecolor\": \"white\", \"showbackground\": true, \"ticks\": \"\", \"zerolinecolor\": \"white\"}, \"zaxis\": {\"backgroundcolor\": \"#E5ECF6\", \"gridcolor\": \"white\", \"gridwidth\": 2, \"linecolor\": \"white\", \"showbackground\": true, \"ticks\": \"\", \"zerolinecolor\": \"white\"}}, \"shapedefaults\": {\"line\": {\"color\": \"#2a3f5f\"}}, \"ternary\": {\"aaxis\": {\"gridcolor\": \"white\", \"linecolor\": \"white\", \"ticks\": \"\"}, \"baxis\": {\"gridcolor\": \"white\", \"linecolor\": \"white\", \"ticks\": \"\"}, \"bgcolor\": \"#E5ECF6\", \"caxis\": {\"gridcolor\": \"white\", \"linecolor\": \"white\", \"ticks\": \"\"}}, \"title\": {\"x\": 0.05}, \"xaxis\": {\"automargin\": true, \"gridcolor\": \"white\", \"linecolor\": \"white\", \"ticks\": \"\", \"title\": {\"standoff\": 15}, \"zerolinecolor\": \"white\", \"zerolinewidth\": 2}, \"yaxis\": {\"automargin\": true, \"gridcolor\": \"white\", \"linecolor\": \"white\", \"ticks\": \"\", \"title\": {\"standoff\": 15}, \"zerolinecolor\": \"white\", \"zerolinewidth\": 2}}}, \"title\": {\"text\": \"Simula\\u00e7\\u00e3o com modelo duas cidades sem troca de massa\", \"x\": 0.2}, \"width\": 950, \"xaxis\": {\"anchor\": \"y\", \"domain\": [0.0, 0.45], \"tickangle\": 45}, \"xaxis2\": {\"anchor\": \"y2\", \"domain\": [0.55, 1.0], \"tickangle\": 45}, \"xaxis3\": {\"anchor\": \"y3\", \"domain\": [0.0, 0.45], \"tickangle\": 45, \"title\": {\"text\": \"Dias\"}}, \"xaxis4\": {\"anchor\": \"y4\", \"domain\": [0.55, 1.0], \"tickangle\": 45, \"title\": {\"text\": \"Dias\"}}, \"yaxis\": {\"anchor\": \"x\", \"domain\": [0.575, 1.0], \"title\": {\"text\": \"Casos diagnosticados\"}}, \"yaxis2\": {\"anchor\": \"x2\", \"domain\": [0.575, 1.0]}, \"yaxis3\": {\"anchor\": \"x3\", \"domain\": [0.0, 0.425], \"title\": {\"text\": \"\\u00d3bitos\"}}, \"yaxis4\": {\"anchor\": \"x4\", \"domain\": [0.0, 0.425]}},\n",
       "                        {\"responsive\": true}\n",
       "                    ).then(function(){\n",
       "                            \n",
       "var gd = document.getElementById('66de4441-c3ee-40fb-821b-bcf1ffd6baf8');\n",
       "var x = new MutationObserver(function (mutations, observer) {{\n",
       "        var display = window.getComputedStyle(gd).display;\n",
       "        if (!display || display === 'none') {{\n",
       "            console.log([gd, 'removed!']);\n",
       "            Plotly.purge(gd);\n",
       "            observer.disconnect();\n",
       "        }}\n",
       "}});\n",
       "\n",
       "// Listen for the removal of the full notebook cells\n",
       "var notebookContainer = gd.closest('#notebook-container');\n",
       "if (notebookContainer) {{\n",
       "    x.observe(notebookContainer, {childList: true});\n",
       "}}\n",
       "\n",
       "// Listen for the clearing of the current output cell\n",
       "var outputEl = gd.closest('.output');\n",
       "if (outputEl) {{\n",
       "    x.observe(outputEl, {childList: true});\n",
       "}}\n",
       "\n",
       "                        })\n",
       "                };\n",
       "                });\n",
       "            </script>\n",
       "        </div>"
      ]
     },
     "metadata": {},
     "output_type": "display_data"
    }
   ],
   "source": [
    "fig = make_subplots(rows=2, cols = 2, subplot_titles=(f'Diagnosticados %s' %(cidades[0][0]),\n",
    "                                                      f'Diagnosticados %s' %(cidades[1][0]),\n",
    "                                                      f'Óbitos %s' %(cidades[0][0]),\n",
    "                                                      f'Óbitos %s' %(cidades[1][0])), vertical_spacing = .15)\n",
    "\n",
    "## Casos Diagnosticados\n",
    "fig.add_trace(go.Scatter(x=dates, y=dados_Rio[0], legendgroup = 'dados reais',name = 'Dados Reais', marker = dict(color = 'cornflowerblue', symbol = 'x')), row = 1, col = 1)\n",
    "fig.add_trace(go.Scatter(x=dates, y=diagn[0], legendgroup = 'modelo',name = 'Modelo', marker = dict(color = 'tomato'), line = dict(dash = '3px')), row = 1, col = 1)\n",
    "\n",
    "fig.add_trace(go.Scatter(x=dates, y=dados_SP[0], legendgroup = 'dados reais', name = 'Dados reais',showlegend = False,marker = dict(color = 'cornflowerblue', symbol = 'x')), row = 1, col = 2)\n",
    "fig.add_trace(go.Scatter(x=dates, y=diagn[1], legendgroup = 'modelo', name = 'Modelo',showlegend = False,marker = dict(color = 'tomato'), line = dict(dash = '3px')), row = 1, col = 2)\n",
    "\n",
    "\n",
    "## Obitos\n",
    "fig.add_trace(go.Scatter(x=dates, y=dados_Rio[1], legendgroup = 'dados reais', name = 'Dados reais',marker = dict(color = 'cornflowerblue', symbol = 'x'), showlegend = False), row = 2, col = 1)\n",
    "fig.add_trace(go.Scatter(x=dates, y=deaths[0], legendgroup = 'modelo', name = 'Modelo',marker = dict(color = 'tomato'), showlegend = False, line = dict(dash = '3px')), row = 2, col = 1)\n",
    "\n",
    "fig.add_trace(go.Scatter(x=dates, y=dados_SP[1], legendgroup = 'dados reais', name = 'Dados reais',marker = dict(color = 'cornflowerblue', symbol = 'x'), showlegend = False), row = 2, col = 2)\n",
    "fig.add_trace(go.Scatter(x=dates, y=deaths[1], legendgroup = 'modelo', name = 'Modelo',marker = dict(color = 'tomato'), showlegend = False, line = dict(dash = '3px')), row = 2, col = 2)\n",
    "\n",
    "\n",
    "fig.update_layout(title_x = .2, height=600, width=950, title_text =\n",
    "                  'Simulação com modelo duas cidades sem troca de massa', xaxis = dict(tickangle = 45), xaxis2 = dict(tickangle = 45), xaxis3 = dict(tickangle = 45), xaxis4 = dict(tickangle = 45))\n",
    "fig.update_yaxes(row = 1, col = 1, title_text = 'Casos diagnosticados')\n",
    "fig.update_yaxes(row = 2, col = 1, title_text = 'Óbitos')\n",
    "fig.update_xaxes(row = 2, col = 1, title_text = 'Dias')\n",
    "fig.update_xaxes(row = 2, col = 2, title_text = 'Dias')\n",
    "\n",
    "\n",
    "fig.show()"
   ]
  },
  {
   "cell_type": "code",
   "execution_count": 50,
   "metadata": {},
   "outputs": [
    {
     "ename": "ValueError",
     "evalue": "not enough values to unpack (expected 15, got 13)",
     "output_type": "error",
     "traceback": [
      "\u001b[1;31m---------------------------------------------------------------------------\u001b[0m",
      "\u001b[1;31mValueError\u001b[0m                                Traceback (most recent call last)",
      "\u001b[1;32m<ipython-input-50-b28aab8ec493>\u001b[0m in \u001b[0;36m<module>\u001b[1;34m\u001b[0m\n\u001b[0;32m      1\u001b[0m \u001b[0mf_com_massa\u001b[0m \u001b[1;33m=\u001b[0m \u001b[1;32mlambda\u001b[0m \u001b[0mt\u001b[0m\u001b[1;33m,\u001b[0m\u001b[0mv\u001b[0m\u001b[1;33m:\u001b[0m \u001b[0mG\u001b[0m\u001b[1;33m(\u001b[0m\u001b[0mt\u001b[0m\u001b[1;33m,\u001b[0m\u001b[0mv\u001b[0m\u001b[1;33m,\u001b[0m \u001b[0mparams\u001b[0m\u001b[1;33m)\u001b[0m\u001b[1;33m\u001b[0m\u001b[1;33m\u001b[0m\u001b[0m\n\u001b[1;32m----> 2\u001b[1;33m \u001b[0msol_com_massa\u001b[0m \u001b[1;33m=\u001b[0m \u001b[0msolve_ivp\u001b[0m\u001b[1;33m(\u001b[0m\u001b[0mf_com_massa\u001b[0m\u001b[1;33m,\u001b[0m \u001b[1;33m(\u001b[0m\u001b[1;36m1\u001b[0m\u001b[1;33m,\u001b[0m\u001b[0mT_fim\u001b[0m\u001b[1;33m)\u001b[0m\u001b[1;33m,\u001b[0m \u001b[0mCI\u001b[0m\u001b[1;33m,\u001b[0m \u001b[0mt_eval\u001b[0m\u001b[1;33m=\u001b[0m\u001b[0mrange\u001b[0m\u001b[1;33m(\u001b[0m\u001b[1;36m1\u001b[0m\u001b[1;33m,\u001b[0m\u001b[0mT_fim\u001b[0m\u001b[1;33m+\u001b[0m\u001b[1;36m1\u001b[0m\u001b[1;33m)\u001b[0m\u001b[1;33m)\u001b[0m\u001b[1;33m.\u001b[0m\u001b[0my\u001b[0m\u001b[1;33m\u001b[0m\u001b[1;33m\u001b[0m\u001b[0m\n\u001b[0m",
      "\u001b[1;32mF:\\Anaconda\\lib\\site-packages\\scipy\\integrate\\_ivp\\ivp.py\u001b[0m in \u001b[0;36msolve_ivp\u001b[1;34m(fun, t_span, y0, method, t_eval, dense_output, events, vectorized, args, **options)\u001b[0m\n\u001b[0;32m    541\u001b[0m         \u001b[0mmethod\u001b[0m \u001b[1;33m=\u001b[0m \u001b[0mMETHODS\u001b[0m\u001b[1;33m[\u001b[0m\u001b[0mmethod\u001b[0m\u001b[1;33m]\u001b[0m\u001b[1;33m\u001b[0m\u001b[1;33m\u001b[0m\u001b[0m\n\u001b[0;32m    542\u001b[0m \u001b[1;33m\u001b[0m\u001b[0m\n\u001b[1;32m--> 543\u001b[1;33m     \u001b[0msolver\u001b[0m \u001b[1;33m=\u001b[0m \u001b[0mmethod\u001b[0m\u001b[1;33m(\u001b[0m\u001b[0mfun\u001b[0m\u001b[1;33m,\u001b[0m \u001b[0mt0\u001b[0m\u001b[1;33m,\u001b[0m \u001b[0my0\u001b[0m\u001b[1;33m,\u001b[0m \u001b[0mtf\u001b[0m\u001b[1;33m,\u001b[0m \u001b[0mvectorized\u001b[0m\u001b[1;33m=\u001b[0m\u001b[0mvectorized\u001b[0m\u001b[1;33m,\u001b[0m \u001b[1;33m**\u001b[0m\u001b[0moptions\u001b[0m\u001b[1;33m)\u001b[0m\u001b[1;33m\u001b[0m\u001b[1;33m\u001b[0m\u001b[0m\n\u001b[0m\u001b[0;32m    544\u001b[0m \u001b[1;33m\u001b[0m\u001b[0m\n\u001b[0;32m    545\u001b[0m     \u001b[1;32mif\u001b[0m \u001b[0mt_eval\u001b[0m \u001b[1;32mis\u001b[0m \u001b[1;32mNone\u001b[0m\u001b[1;33m:\u001b[0m\u001b[1;33m\u001b[0m\u001b[1;33m\u001b[0m\u001b[0m\n",
      "\u001b[1;32mF:\\Anaconda\\lib\\site-packages\\scipy\\integrate\\_ivp\\rk.py\u001b[0m in \u001b[0;36m__init__\u001b[1;34m(self, fun, t0, y0, t_bound, max_step, rtol, atol, vectorized, first_step, **extraneous)\u001b[0m\n\u001b[0;32m     93\u001b[0m         \u001b[0mself\u001b[0m\u001b[1;33m.\u001b[0m\u001b[0mmax_step\u001b[0m \u001b[1;33m=\u001b[0m \u001b[0mvalidate_max_step\u001b[0m\u001b[1;33m(\u001b[0m\u001b[0mmax_step\u001b[0m\u001b[1;33m)\u001b[0m\u001b[1;33m\u001b[0m\u001b[1;33m\u001b[0m\u001b[0m\n\u001b[0;32m     94\u001b[0m         \u001b[0mself\u001b[0m\u001b[1;33m.\u001b[0m\u001b[0mrtol\u001b[0m\u001b[1;33m,\u001b[0m \u001b[0mself\u001b[0m\u001b[1;33m.\u001b[0m\u001b[0matol\u001b[0m \u001b[1;33m=\u001b[0m \u001b[0mvalidate_tol\u001b[0m\u001b[1;33m(\u001b[0m\u001b[0mrtol\u001b[0m\u001b[1;33m,\u001b[0m \u001b[0matol\u001b[0m\u001b[1;33m,\u001b[0m \u001b[0mself\u001b[0m\u001b[1;33m.\u001b[0m\u001b[0mn\u001b[0m\u001b[1;33m)\u001b[0m\u001b[1;33m\u001b[0m\u001b[1;33m\u001b[0m\u001b[0m\n\u001b[1;32m---> 95\u001b[1;33m         \u001b[0mself\u001b[0m\u001b[1;33m.\u001b[0m\u001b[0mf\u001b[0m \u001b[1;33m=\u001b[0m \u001b[0mself\u001b[0m\u001b[1;33m.\u001b[0m\u001b[0mfun\u001b[0m\u001b[1;33m(\u001b[0m\u001b[0mself\u001b[0m\u001b[1;33m.\u001b[0m\u001b[0mt\u001b[0m\u001b[1;33m,\u001b[0m \u001b[0mself\u001b[0m\u001b[1;33m.\u001b[0m\u001b[0my\u001b[0m\u001b[1;33m)\u001b[0m\u001b[1;33m\u001b[0m\u001b[1;33m\u001b[0m\u001b[0m\n\u001b[0m\u001b[0;32m     96\u001b[0m         \u001b[1;32mif\u001b[0m \u001b[0mfirst_step\u001b[0m \u001b[1;32mis\u001b[0m \u001b[1;32mNone\u001b[0m\u001b[1;33m:\u001b[0m\u001b[1;33m\u001b[0m\u001b[1;33m\u001b[0m\u001b[0m\n\u001b[0;32m     97\u001b[0m             self.h_abs = select_initial_step(\n",
      "\u001b[1;32mF:\\Anaconda\\lib\\site-packages\\scipy\\integrate\\_ivp\\base.py\u001b[0m in \u001b[0;36mfun\u001b[1;34m(t, y)\u001b[0m\n\u001b[0;32m    137\u001b[0m         \u001b[1;32mdef\u001b[0m \u001b[0mfun\u001b[0m\u001b[1;33m(\u001b[0m\u001b[0mt\u001b[0m\u001b[1;33m,\u001b[0m \u001b[0my\u001b[0m\u001b[1;33m)\u001b[0m\u001b[1;33m:\u001b[0m\u001b[1;33m\u001b[0m\u001b[1;33m\u001b[0m\u001b[0m\n\u001b[0;32m    138\u001b[0m             \u001b[0mself\u001b[0m\u001b[1;33m.\u001b[0m\u001b[0mnfev\u001b[0m \u001b[1;33m+=\u001b[0m \u001b[1;36m1\u001b[0m\u001b[1;33m\u001b[0m\u001b[1;33m\u001b[0m\u001b[0m\n\u001b[1;32m--> 139\u001b[1;33m             \u001b[1;32mreturn\u001b[0m \u001b[0mself\u001b[0m\u001b[1;33m.\u001b[0m\u001b[0mfun_single\u001b[0m\u001b[1;33m(\u001b[0m\u001b[0mt\u001b[0m\u001b[1;33m,\u001b[0m \u001b[0my\u001b[0m\u001b[1;33m)\u001b[0m\u001b[1;33m\u001b[0m\u001b[1;33m\u001b[0m\u001b[0m\n\u001b[0m\u001b[0;32m    140\u001b[0m \u001b[1;33m\u001b[0m\u001b[0m\n\u001b[0;32m    141\u001b[0m         \u001b[0mself\u001b[0m\u001b[1;33m.\u001b[0m\u001b[0mfun\u001b[0m \u001b[1;33m=\u001b[0m \u001b[0mfun\u001b[0m\u001b[1;33m\u001b[0m\u001b[1;33m\u001b[0m\u001b[0m\n",
      "\u001b[1;32mF:\\Anaconda\\lib\\site-packages\\scipy\\integrate\\_ivp\\base.py\u001b[0m in \u001b[0;36mfun_wrapped\u001b[1;34m(t, y)\u001b[0m\n\u001b[0;32m     19\u001b[0m \u001b[1;33m\u001b[0m\u001b[0m\n\u001b[0;32m     20\u001b[0m     \u001b[1;32mdef\u001b[0m \u001b[0mfun_wrapped\u001b[0m\u001b[1;33m(\u001b[0m\u001b[0mt\u001b[0m\u001b[1;33m,\u001b[0m \u001b[0my\u001b[0m\u001b[1;33m)\u001b[0m\u001b[1;33m:\u001b[0m\u001b[1;33m\u001b[0m\u001b[1;33m\u001b[0m\u001b[0m\n\u001b[1;32m---> 21\u001b[1;33m         \u001b[1;32mreturn\u001b[0m \u001b[0mnp\u001b[0m\u001b[1;33m.\u001b[0m\u001b[0masarray\u001b[0m\u001b[1;33m(\u001b[0m\u001b[0mfun\u001b[0m\u001b[1;33m(\u001b[0m\u001b[0mt\u001b[0m\u001b[1;33m,\u001b[0m \u001b[0my\u001b[0m\u001b[1;33m)\u001b[0m\u001b[1;33m,\u001b[0m \u001b[0mdtype\u001b[0m\u001b[1;33m=\u001b[0m\u001b[0mdtype\u001b[0m\u001b[1;33m)\u001b[0m\u001b[1;33m\u001b[0m\u001b[1;33m\u001b[0m\u001b[0m\n\u001b[0m\u001b[0;32m     22\u001b[0m \u001b[1;33m\u001b[0m\u001b[0m\n\u001b[0;32m     23\u001b[0m     \u001b[1;32mreturn\u001b[0m \u001b[0mfun_wrapped\u001b[0m\u001b[1;33m,\u001b[0m \u001b[0my0\u001b[0m\u001b[1;33m\u001b[0m\u001b[1;33m\u001b[0m\u001b[0m\n",
      "\u001b[1;32m<ipython-input-50-b28aab8ec493>\u001b[0m in \u001b[0;36m<lambda>\u001b[1;34m(t, v)\u001b[0m\n\u001b[1;32m----> 1\u001b[1;33m \u001b[0mf_com_massa\u001b[0m \u001b[1;33m=\u001b[0m \u001b[1;32mlambda\u001b[0m \u001b[0mt\u001b[0m\u001b[1;33m,\u001b[0m\u001b[0mv\u001b[0m\u001b[1;33m:\u001b[0m \u001b[0mG\u001b[0m\u001b[1;33m(\u001b[0m\u001b[0mt\u001b[0m\u001b[1;33m,\u001b[0m\u001b[0mv\u001b[0m\u001b[1;33m,\u001b[0m \u001b[0mparams\u001b[0m\u001b[1;33m)\u001b[0m\u001b[1;33m\u001b[0m\u001b[1;33m\u001b[0m\u001b[0m\n\u001b[0m\u001b[0;32m      2\u001b[0m \u001b[0msol_com_massa\u001b[0m \u001b[1;33m=\u001b[0m \u001b[0msolve_ivp\u001b[0m\u001b[1;33m(\u001b[0m\u001b[0mf_com_massa\u001b[0m\u001b[1;33m,\u001b[0m \u001b[1;33m(\u001b[0m\u001b[1;36m1\u001b[0m\u001b[1;33m,\u001b[0m\u001b[0mT_fim\u001b[0m\u001b[1;33m)\u001b[0m\u001b[1;33m,\u001b[0m \u001b[0mCI\u001b[0m\u001b[1;33m,\u001b[0m \u001b[0mt_eval\u001b[0m\u001b[1;33m=\u001b[0m\u001b[0mrange\u001b[0m\u001b[1;33m(\u001b[0m\u001b[1;36m1\u001b[0m\u001b[1;33m,\u001b[0m\u001b[0mT_fim\u001b[0m\u001b[1;33m+\u001b[0m\u001b[1;36m1\u001b[0m\u001b[1;33m)\u001b[0m\u001b[1;33m)\u001b[0m\u001b[1;33m.\u001b[0m\u001b[0my\u001b[0m\u001b[1;33m\u001b[0m\u001b[1;33m\u001b[0m\u001b[0m\n",
      "\u001b[1;32m~\\Documents\\GitHub\\covid19\\RJ\\jia\\jia_cidades.py\u001b[0m in \u001b[0;36mG\u001b[1;34m(t, v, pars)\u001b[0m\n\u001b[0;32m     37\u001b[0m     \u001b[0mR\u001b[0m \u001b[1;33m=\u001b[0m \u001b[0mnp\u001b[0m\u001b[1;33m.\u001b[0m\u001b[0marray\u001b[0m\u001b[1;33m(\u001b[0m\u001b[1;33m[\u001b[0m\u001b[0mv\u001b[0m\u001b[1;33m[\u001b[0m\u001b[1;36m6\u001b[0m\u001b[1;33m]\u001b[0m\u001b[1;33m,\u001b[0m \u001b[0mv\u001b[0m\u001b[1;33m[\u001b[0m\u001b[1;36m6\u001b[0m \u001b[1;33m+\u001b[0m \u001b[0mlen\u001b[0m\u001b[1;33m(\u001b[0m\u001b[0mv\u001b[0m\u001b[1;33m)\u001b[0m\u001b[1;33m//\u001b[0m\u001b[1;36m2\u001b[0m\u001b[1;33m]\u001b[0m\u001b[1;33m]\u001b[0m\u001b[1;33m)\u001b[0m\u001b[1;33m\u001b[0m\u001b[1;33m\u001b[0m\u001b[0m\n\u001b[0;32m     38\u001b[0m \u001b[1;33m\u001b[0m\u001b[0m\n\u001b[1;32m---> 39\u001b[1;33m     \u001b[0mbeta\u001b[0m\u001b[1;33m,\u001b[0m \u001b[0mtheta\u001b[0m\u001b[1;33m,\u001b[0m \u001b[0mp\u001b[0m\u001b[1;33m,\u001b[0m \u001b[0mlamb\u001b[0m\u001b[1;33m,\u001b[0m \u001b[0msigma\u001b[0m\u001b[1;33m,\u001b[0m \u001b[0mrho\u001b[0m\u001b[1;33m,\u001b[0m \u001b[0mepsA\u001b[0m\u001b[1;33m,\u001b[0m \u001b[0mgammaA\u001b[0m\u001b[1;33m,\u001b[0m \u001b[0mepsI\u001b[0m\u001b[1;33m,\u001b[0m \u001b[0mgammaI\u001b[0m\u001b[1;33m,\u001b[0m \u001b[0mdeathI\u001b[0m\u001b[1;33m,\u001b[0m \u001b[0mgammaD\u001b[0m\u001b[1;33m,\u001b[0m \u001b[0mdeathD\u001b[0m\u001b[1;33m,\u001b[0m \u001b[0mmu\u001b[0m\u001b[1;33m,\u001b[0m \u001b[0mdelta\u001b[0m \u001b[1;33m=\u001b[0m \u001b[0mpars\u001b[0m\u001b[1;33m\u001b[0m\u001b[1;33m\u001b[0m\u001b[0m\n\u001b[0m\u001b[0;32m     40\u001b[0m \u001b[1;33m\u001b[0m\u001b[0m\n\u001b[0;32m     41\u001b[0m     \u001b[0mdS\u001b[0m \u001b[1;33m=\u001b[0m \u001b[1;33m[\u001b[0m\u001b[1;33m-\u001b[0m\u001b[0mbeta\u001b[0m\u001b[1;33m[\u001b[0m\u001b[1;36m0\u001b[0m\u001b[1;33m]\u001b[0m\u001b[1;33m*\u001b[0m\u001b[0mS\u001b[0m\u001b[1;33m[\u001b[0m\u001b[1;36m0\u001b[0m\u001b[1;33m]\u001b[0m\u001b[1;33m*\u001b[0m\u001b[1;33m(\u001b[0m\u001b[0mI\u001b[0m\u001b[1;33m[\u001b[0m\u001b[1;36m0\u001b[0m\u001b[1;33m]\u001b[0m \u001b[1;33m+\u001b[0m \u001b[0mtheta\u001b[0m\u001b[1;33m[\u001b[0m\u001b[1;36m0\u001b[0m\u001b[1;33m]\u001b[0m\u001b[1;33m*\u001b[0m\u001b[0mA\u001b[0m\u001b[1;33m[\u001b[0m\u001b[1;36m0\u001b[0m\u001b[1;33m]\u001b[0m\u001b[1;33m)\u001b[0m \u001b[1;33m-\u001b[0m \u001b[0mp\u001b[0m\u001b[1;33m[\u001b[0m\u001b[1;36m0\u001b[0m\u001b[1;33m]\u001b[0m\u001b[1;33m*\u001b[0m\u001b[0mS\u001b[0m\u001b[1;33m[\u001b[0m\u001b[1;36m0\u001b[0m\u001b[1;33m]\u001b[0m \u001b[1;33m+\u001b[0m \u001b[0mlamb\u001b[0m\u001b[1;33m[\u001b[0m\u001b[1;36m0\u001b[0m\u001b[1;33m]\u001b[0m\u001b[1;33m*\u001b[0m\u001b[0mQ\u001b[0m\u001b[1;33m[\u001b[0m\u001b[1;36m0\u001b[0m\u001b[1;33m]\u001b[0m \u001b[1;33m-\u001b[0m \u001b[0mmu\u001b[0m\u001b[1;33m[\u001b[0m\u001b[1;36m0\u001b[0m\u001b[1;33m]\u001b[0m\u001b[1;33m*\u001b[0m\u001b[0mS\u001b[0m\u001b[1;33m[\u001b[0m\u001b[1;36m0\u001b[0m\u001b[1;33m]\u001b[0m \u001b[1;33m+\u001b[0m \u001b[0mmu\u001b[0m\u001b[1;33m[\u001b[0m\u001b[1;36m1\u001b[0m\u001b[1;33m]\u001b[0m\u001b[1;33m*\u001b[0m\u001b[0mS\u001b[0m\u001b[1;33m[\u001b[0m\u001b[1;36m1\u001b[0m\u001b[1;33m]\u001b[0m\u001b[1;33m,\u001b[0m\u001b[1;33m-\u001b[0m\u001b[0mbeta\u001b[0m\u001b[1;33m[\u001b[0m\u001b[1;36m1\u001b[0m\u001b[1;33m]\u001b[0m\u001b[1;33m*\u001b[0m\u001b[0mS\u001b[0m\u001b[1;33m[\u001b[0m\u001b[1;36m1\u001b[0m\u001b[1;33m]\u001b[0m\u001b[1;33m*\u001b[0m\u001b[1;33m(\u001b[0m\u001b[0mI\u001b[0m\u001b[1;33m[\u001b[0m\u001b[1;36m1\u001b[0m\u001b[1;33m]\u001b[0m \u001b[1;33m+\u001b[0m \u001b[0mtheta\u001b[0m\u001b[1;33m[\u001b[0m\u001b[1;36m1\u001b[0m\u001b[1;33m]\u001b[0m\u001b[1;33m*\u001b[0m\u001b[0mA\u001b[0m\u001b[1;33m[\u001b[0m\u001b[1;36m1\u001b[0m\u001b[1;33m]\u001b[0m\u001b[1;33m)\u001b[0m \u001b[1;33m-\u001b[0m \u001b[0mp\u001b[0m\u001b[1;33m[\u001b[0m\u001b[1;36m1\u001b[0m\u001b[1;33m]\u001b[0m\u001b[1;33m*\u001b[0m\u001b[0mS\u001b[0m\u001b[1;33m[\u001b[0m\u001b[1;36m1\u001b[0m\u001b[1;33m]\u001b[0m \u001b[1;33m+\u001b[0m \u001b[0mlamb\u001b[0m\u001b[1;33m[\u001b[0m\u001b[1;36m1\u001b[0m\u001b[1;33m]\u001b[0m\u001b[1;33m*\u001b[0m\u001b[0mQ\u001b[0m\u001b[1;33m[\u001b[0m\u001b[1;36m1\u001b[0m\u001b[1;33m]\u001b[0m \u001b[1;33m-\u001b[0m \u001b[0mmu\u001b[0m\u001b[1;33m[\u001b[0m\u001b[1;36m1\u001b[0m\u001b[1;33m]\u001b[0m\u001b[1;33m*\u001b[0m\u001b[0mS\u001b[0m\u001b[1;33m[\u001b[0m\u001b[1;36m1\u001b[0m\u001b[1;33m]\u001b[0m \u001b[1;33m+\u001b[0m \u001b[0mmu\u001b[0m\u001b[1;33m[\u001b[0m\u001b[1;36m0\u001b[0m\u001b[1;33m]\u001b[0m\u001b[1;33m*\u001b[0m\u001b[0mS\u001b[0m\u001b[1;33m[\u001b[0m\u001b[1;36m0\u001b[0m\u001b[1;33m]\u001b[0m\u001b[1;33m]\u001b[0m\u001b[1;33m\u001b[0m\u001b[1;33m\u001b[0m\u001b[0m\n",
      "\u001b[1;31mValueError\u001b[0m: not enough values to unpack (expected 15, got 13)"
     ]
    }
   ],
   "source": [
    "f_com_massa = lambda t,v: G(t,v, params)\n",
    "sol_com_massa = solve_ivp(f_com_massa, (1,T_fim), CI, t_eval=range(1,T_fim+1)).y"
   ]
  },
  {
   "cell_type": "code",
   "execution_count": null,
   "metadata": {},
   "outputs": [],
   "source": []
  }
 ],
 "metadata": {
  "kernelspec": {
   "display_name": "Python 3",
   "language": "python",
   "name": "python3"
  },
  "language_info": {
   "codemirror_mode": {
    "name": "ipython",
    "version": 3
   },
   "file_extension": ".py",
   "mimetype": "text/x-python",
   "name": "python",
   "nbconvert_exporter": "python",
   "pygments_lexer": "ipython3",
   "version": "3.7.3"
  }
 },
 "nbformat": 4,
 "nbformat_minor": 4
}
