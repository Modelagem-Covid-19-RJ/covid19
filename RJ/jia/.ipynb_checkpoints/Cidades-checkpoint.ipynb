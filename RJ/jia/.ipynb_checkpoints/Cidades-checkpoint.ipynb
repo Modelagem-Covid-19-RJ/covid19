{
 "cells": [
  {
   "cell_type": "code",
   "execution_count": 1,
   "metadata": {},
   "outputs": [],
   "source": [
    "from scipy.integrate import solve_ivp\n",
    "import numpy as np\n",
    "import matplotlib.pyplot as plt\n",
    "import datetime as dt\n",
    "from jia_modif import multi_regime, F, G, new_diagn, new_deaths, multi_regime_cidades\n",
    "import matplotlib.ticker as mticker\n",
    "import matplotlib.dates as mdates"
   ]
  },
  {
   "cell_type": "markdown",
   "metadata": {},
   "source": [
    "### Sistema de Equações para a cidade A\n",
    "\n",
    "$$\n",
    "\\begin{cases}\n",
    "\\frac{\\mathrm{d}S_1}{\\mathrm{d}t} &= -\\beta_1 S_1\\left(I_1 + \\theta_1 A_1\\right) - p_1 S_1 + \\lambda_1 Q_1 - \\mu_1 S_1 + \\mu_2 S_2\\\\\n",
    "\\frac{\\mathrm{d}Q_1}{\\mathrm{d}t} &= p_1 S_1 - \\lambda_1 Q_1\\\\\n",
    "\\frac{\\mathrm{d}E_1}{\\mathrm{d}t} &= \\beta_1 S_1(I_1 + \\theta_1 A_1) - \\sigma_1 E_1 - \\mu_1 E_1 + \\mu_2 E_2\\\\\n",
    "\\frac{\\mathrm{d}A_1}{\\mathrm{d}t} &= \\sigma_1(1- \\rho_1)E_1 - \\epsilon_{A_1} A_1 - \\gamma_{A_1} A_1 - \\mu_1 A_1 + \\mu_2 A_2\\\\\n",
    "\\frac{\\mathrm{d}I_1}{\\mathrm{d}t} &= \\sigma_1\\rho_1 E_1 - \\epsilon_{I_1} I_1 - \\gamma_{D_1} D_1 - d_{D_1} D_1 - \\delta_1 I_1 + \\delta_2 I_2\\\\\\\n",
    "\\frac{\\mathrm{d}R_1}{\\mathrm{d}t} &= \\gamma_{A_1} A_1 + \\gamma_{I_1} I_1 + \\gamma_{D_1} D_1  - \\mu_1 R_1 + \\mu_2 R_2\n",
    "\\end{cases}\n",
    "$$\n",
    "---\n",
    "### Sistema de Equações para a Cidade B\n",
    "\n",
    "$$\n",
    "\\begin{cases}\n",
    "\\frac{\\mathrm{d}S_2}{\\mathrm{d}t} &= -\\beta_2 S_2\\left(I_2 + \\theta_2 A_2\\right) - p_2 S_2 + \\lambda_2 Q_2 - \\mu_2 S_2 + \\mu_1 S_1\\\\\n",
    "\\frac{\\mathrm{d}Q_2}{\\mathrm{d}t} &= p_2 S_2 - \\lambda_2 Q_2\\\\\n",
    "\\frac{\\mathrm{d}E_2}{\\mathrm{d}t} &= \\beta_2 S_2(I_2 + \\theta_2 A_2) - \\sigma_2 E_2 - \\mu_2 E_2 + \\mu_1 E_1\\\\\n",
    "\\frac{\\mathrm{d}A_2}{\\mathrm{d}t} &= \\sigma_2(1- \\rho_2)E_2 - \\epsilon_{A_2} A_2 - \\gamma_{A_2} A_2 - \\mu_2 A_2 + \\mu_1 A_1\\\\\n",
    "\\frac{\\mathrm{d}I_2}{\\mathrm{d}t} &= \\sigma_2\\rho_2 E_2 - \\epsilon_{I_2} I_2 - \\gamma_{D_2} D_2 - d_{D_2} D_2 - \\delta_2 I_2 + \\delta_1 I_1\\\\\n",
    "\\frac{\\mathrm{d}R_1}{\\mathrm{d}t} &= \\gamma_{A_1} A_1 + \\gamma_{I_1} I_1 + \\gamma_{D_1} D_1 - \\mu_2 R_2 + \\mu_1 R_1\n",
    "\\end{cases}\n",
    "$$"
   ]
  },
  {
   "cell_type": "code",
   "execution_count": 2,
   "metadata": {},
   "outputs": [],
   "source": [
    "# Taxa de subnotificação\n",
    "taxa_subn   = 8\n",
    "prop_assint = 0.80"
   ]
  },
  {
   "cell_type": "code",
   "execution_count": 3,
   "metadata": {},
   "outputs": [],
   "source": [
    "# Dados para a cidade do Rio de Janeiro,\n",
    "# IBGE 2019 (estimativa)\n",
    "pop_Rio = 6718903\n",
    "# 29 de Março\n",
    "diagn_Rio, recup_Rio = 489, 16\n",
    "infect_Rio = diagn_Rio*(taxa_subn-1)*(1 - prop_assint)\n",
    "assint_Rio = diagn_Rio*(taxa_subn-1)*prop_assint\n",
    "expostos_Rio = diagn_Rio*7\n",
    "quarentena_Rio = 0.6 * pop_Rio\n",
    "\n",
    "sucetiveis_Rio = pop_Rio - (quarentena_Rio + expostos_Rio + assint_Rio + infect_Rio + diagn_Rio + recup_Rio)"
   ]
  },
  {
   "cell_type": "code",
   "execution_count": 4,
   "metadata": {},
   "outputs": [],
   "source": [
    "# Dados para a cidade do ????,\n",
    "# IBGE 2019 (estimativa)\n",
    "pop_Cid = 6718903\n",
    "# 29 de Março\n",
    "diagn_Cid, recup_Cid = 489, 16\n",
    "infect_Cid = diagn_Cid*(taxa_subn-1)*(1 - prop_assint)\n",
    "assint_Cid = diagn_Cid*(taxa_subn-1)*prop_assint\n",
    "expostos_Cid = diagn_Cid*7\n",
    "quarentena_Cid = 0.6 * pop_Cid\n",
    "\n",
    "sucetiveis_Cid = pop_Cid- (quarentena_Cid + expostos_Cid + assint_Cid + infect_Cid + diagn_Cid + recup_Cid)"
   ]
  },
  {
   "cell_type": "code",
   "execution_count": 5,
   "metadata": {},
   "outputs": [],
   "source": [
    "CI_rio = [sucetiveis_Rio, quarentena_Rio, expostos_Rio, assint_Rio, infect_Rio, diagn_Rio, recup_Rio]\n",
    "CI_cid = [sucetiveis_Cid, quarentena_Cid, expostos_Cid, assint_Cid, infect_Cid, diagn_Cid, recup_Cid]\n",
    "#CI = [(i,j) for i,j in zip(CI_rio, CI_cid)]\n",
    "CI = CI_rio + CI_cid\n",
    "#CI = CI_rio + CI_rio"
   ]
  },
  {
   "cell_type": "markdown",
   "metadata": {},
   "source": [
    "## Problema\n",
    "\n",
    "$\\mu$ não pode assumir valor $> 0.7$, ele para a solução antes do tempo \n",
    "quanto maior o valor, mais cedo para a solução"
   ]
  },
  {
   "cell_type": "code",
   "execution_count": 6,
   "metadata": {},
   "outputs": [],
   "source": [
    "# Idx       :         0,    1,   2,      3,     4,    5,     6,      7,    8,      9,     10,     11,     12  13  14\n",
    "# Parâmetros:      beta,  phi,   p, lambda, sigma, theta,  epsA, gammaA, epsI, gammaI, deathI, gammaD, deathD  mu  delta\n",
    "params_rio_base = (1e-7, 1/10, 1/4,    1/6,   1/7, 0.94, 1/100, 0.0996, 1/30, 0.0766, 0.0026, 0.0843, 0.0017, .7, 0.2)\n",
    "\n",
    "# Idx       :         0,    1,   2,      3,     4,    5,     6,      7,    8,      9,     10,     11,     12  13  14\n",
    "# Parâmetros:      beta,  phi,   p, lambda, sigma, theta,  epsA, gammaA, epsI, gammaI, deathI, gammaD, deathD  mu delta\n",
    "params_cid_base = (1e-7, 1/10, 1/4,    1/6,   1/7, 0.94, 1/100, 0.0996, 1/30, 0.0766, 0.0026, 0.0843, 0.0017, 0.2, 0.3)\n",
    "params = [(i,j) for i,j in zip(params_rio_base, params_cid_base)]"
   ]
  },
  {
   "cell_type": "code",
   "execution_count": 7,
   "metadata": {},
   "outputs": [],
   "source": [
    "dados_Rio = [\n",
    "    [26, 38, 30, 114, 110, 60, 115, 86, 42, 141, 198, 184, 175, 97, 91, 326, 71, 126, 140, 160, 180, 200],\n",
    "    [1,   3,  2,   4,   7,  5,   2,  4,  5,  12,  14,   9,  10,  6,  8,   9, 25,  27,  28, 40,50,60 ]\n",
    "]"
   ]
  },
  {
   "cell_type": "code",
   "execution_count": 8,
   "metadata": {},
   "outputs": [],
   "source": [
    "dados_Cid = [ \n",
    "    [5, 16, 23, 44, 71, 90, 105, 56, 97, 122, 106, 109, 107, 97, 125, 144, 98, 65, 122,300,350,400],\n",
    "    [0,  1,  1,  3,  4,  5,   2,  3,  4,   8,  11,   7,   9, 12,   8,  13, 15, 20,  18,80,90,100]\n",
    "] #ficticioi"
   ]
  },
  {
   "cell_type": "code",
   "execution_count": 9,
   "metadata": {},
   "outputs": [],
   "source": [
    "T_fim = len(dados_Rio[0])\n",
    "\n",
    "start = dt.datetime.strptime(\"29-03-2020\", \"%d-%m-%Y\")\n",
    "then = start + dt.timedelta(days=T_fim)\n",
    "days = mdates.drange(start,then,dt.timedelta(days=1))"
   ]
  },
  {
   "cell_type": "code",
   "execution_count": 10,
   "metadata": {},
   "outputs": [],
   "source": [
    "# Supondo mantida a quarentena\n",
    "f_rio_base = lambda t,v: G(t,v, params)\n",
    "results_base = solve_ivp(f_rio_base, (1,T_fim), CI, t_eval=range(1,T_fim+1), method = 'RK45')"
   ]
  },
  {
   "cell_type": "code",
   "execution_count": 11,
   "metadata": {},
   "outputs": [],
   "source": [
    "diagn = new_diagn(results_base.y, params)"
   ]
  },
  {
   "cell_type": "code",
   "execution_count": 15,
   "metadata": {},
   "outputs": [
    {
     "data": {
      "text/plain": [
       "'Required step size is less than spacing between numbers.'"
      ]
     },
     "execution_count": 15,
     "metadata": {},
     "output_type": "execute_result"
    }
   ],
   "source": [
    "results_base.message"
   ]
  },
  {
   "cell_type": "code",
   "execution_count": 13,
   "metadata": {},
   "outputs": [],
   "source": [
    "#len(diagn[0]), len(diagn[1])"
   ]
  },
  {
   "cell_type": "code",
   "execution_count": 14,
   "metadata": {},
   "outputs": [
    {
     "ename": "ValueError",
     "evalue": "x and y must have same first dimension, but have shapes (22,) and (17,)",
     "output_type": "error",
     "traceback": [
      "\u001b[0;31m---------------------------------------------------------------------------\u001b[0m",
      "\u001b[0;31mValueError\u001b[0m                                Traceback (most recent call last)",
      "\u001b[0;32m<ipython-input-14-8d6b5d3099de>\u001b[0m in \u001b[0;36m<module>\u001b[0;34m\u001b[0m\n\u001b[1;32m      2\u001b[0m \u001b[0;34m\u001b[0m\u001b[0m\n\u001b[1;32m      3\u001b[0m \u001b[0;31m#diagn = new_diagn(results_base.y, params_rio_base)\u001b[0m\u001b[0;34m\u001b[0m\u001b[0;34m\u001b[0m\u001b[0;34m\u001b[0m\u001b[0m\n\u001b[0;32m----> 4\u001b[0;31m \u001b[0max1\u001b[0m\u001b[0;34m.\u001b[0m\u001b[0mplot\u001b[0m\u001b[0;34m(\u001b[0m\u001b[0mdays\u001b[0m\u001b[0;34m,\u001b[0m \u001b[0mdiagn\u001b[0m\u001b[0;34m[\u001b[0m\u001b[0;36m0\u001b[0m\u001b[0;34m]\u001b[0m\u001b[0;34m,\u001b[0m        \u001b[0;34m'o:'\u001b[0m\u001b[0;34m,\u001b[0m \u001b[0mlabel\u001b[0m\u001b[0;34m=\u001b[0m\u001b[0;34m'Modelo'\u001b[0m\u001b[0;34m)\u001b[0m\u001b[0;34m\u001b[0m\u001b[0;34m\u001b[0m\u001b[0m\n\u001b[0m\u001b[1;32m      5\u001b[0m \u001b[0max1\u001b[0m\u001b[0;34m.\u001b[0m\u001b[0mplot\u001b[0m\u001b[0;34m(\u001b[0m\u001b[0mdays\u001b[0m\u001b[0;34m,\u001b[0m \u001b[0mdados_Rio\u001b[0m\u001b[0;34m[\u001b[0m\u001b[0;36m0\u001b[0m\u001b[0;34m]\u001b[0m\u001b[0;34m,\u001b[0m \u001b[0;34m'x-'\u001b[0m\u001b[0;34m,\u001b[0m \u001b[0mlabel\u001b[0m\u001b[0;34m=\u001b[0m\u001b[0;34m'Observado'\u001b[0m\u001b[0;34m)\u001b[0m\u001b[0;34m\u001b[0m\u001b[0;34m\u001b[0m\u001b[0m\n\u001b[1;32m      6\u001b[0m \u001b[0max1\u001b[0m\u001b[0;34m.\u001b[0m\u001b[0mxaxis\u001b[0m\u001b[0;34m.\u001b[0m\u001b[0mset_major_formatter\u001b[0m\u001b[0;34m(\u001b[0m\u001b[0mmdates\u001b[0m\u001b[0;34m.\u001b[0m\u001b[0mDateFormatter\u001b[0m\u001b[0;34m(\u001b[0m\u001b[0;34m'%d/%m'\u001b[0m\u001b[0;34m)\u001b[0m\u001b[0;34m)\u001b[0m\u001b[0;34m\u001b[0m\u001b[0;34m\u001b[0m\u001b[0m\n",
      "\u001b[0;32m/usr/lib/python3.8/site-packages/matplotlib/axes/_axes.py\u001b[0m in \u001b[0;36mplot\u001b[0;34m(self, scalex, scaley, data, *args, **kwargs)\u001b[0m\n\u001b[1;32m   1663\u001b[0m         \"\"\"\n\u001b[1;32m   1664\u001b[0m         \u001b[0mkwargs\u001b[0m \u001b[0;34m=\u001b[0m \u001b[0mcbook\u001b[0m\u001b[0;34m.\u001b[0m\u001b[0mnormalize_kwargs\u001b[0m\u001b[0;34m(\u001b[0m\u001b[0mkwargs\u001b[0m\u001b[0;34m,\u001b[0m \u001b[0mmlines\u001b[0m\u001b[0;34m.\u001b[0m\u001b[0mLine2D\u001b[0m\u001b[0;34m.\u001b[0m\u001b[0m_alias_map\u001b[0m\u001b[0;34m)\u001b[0m\u001b[0;34m\u001b[0m\u001b[0;34m\u001b[0m\u001b[0m\n\u001b[0;32m-> 1665\u001b[0;31m         \u001b[0mlines\u001b[0m \u001b[0;34m=\u001b[0m \u001b[0;34m[\u001b[0m\u001b[0;34m*\u001b[0m\u001b[0mself\u001b[0m\u001b[0;34m.\u001b[0m\u001b[0m_get_lines\u001b[0m\u001b[0;34m(\u001b[0m\u001b[0;34m*\u001b[0m\u001b[0margs\u001b[0m\u001b[0;34m,\u001b[0m \u001b[0mdata\u001b[0m\u001b[0;34m=\u001b[0m\u001b[0mdata\u001b[0m\u001b[0;34m,\u001b[0m \u001b[0;34m**\u001b[0m\u001b[0mkwargs\u001b[0m\u001b[0;34m)\u001b[0m\u001b[0;34m]\u001b[0m\u001b[0;34m\u001b[0m\u001b[0;34m\u001b[0m\u001b[0m\n\u001b[0m\u001b[1;32m   1666\u001b[0m         \u001b[0;32mfor\u001b[0m \u001b[0mline\u001b[0m \u001b[0;32min\u001b[0m \u001b[0mlines\u001b[0m\u001b[0;34m:\u001b[0m\u001b[0;34m\u001b[0m\u001b[0;34m\u001b[0m\u001b[0m\n\u001b[1;32m   1667\u001b[0m             \u001b[0mself\u001b[0m\u001b[0;34m.\u001b[0m\u001b[0madd_line\u001b[0m\u001b[0;34m(\u001b[0m\u001b[0mline\u001b[0m\u001b[0;34m)\u001b[0m\u001b[0;34m\u001b[0m\u001b[0;34m\u001b[0m\u001b[0m\n",
      "\u001b[0;32m/usr/lib/python3.8/site-packages/matplotlib/axes/_base.py\u001b[0m in \u001b[0;36m__call__\u001b[0;34m(self, *args, **kwargs)\u001b[0m\n\u001b[1;32m    223\u001b[0m                 \u001b[0mthis\u001b[0m \u001b[0;34m+=\u001b[0m \u001b[0margs\u001b[0m\u001b[0;34m[\u001b[0m\u001b[0;36m0\u001b[0m\u001b[0;34m]\u001b[0m\u001b[0;34m,\u001b[0m\u001b[0;34m\u001b[0m\u001b[0;34m\u001b[0m\u001b[0m\n\u001b[1;32m    224\u001b[0m                 \u001b[0margs\u001b[0m \u001b[0;34m=\u001b[0m \u001b[0margs\u001b[0m\u001b[0;34m[\u001b[0m\u001b[0;36m1\u001b[0m\u001b[0;34m:\u001b[0m\u001b[0;34m]\u001b[0m\u001b[0;34m\u001b[0m\u001b[0;34m\u001b[0m\u001b[0m\n\u001b[0;32m--> 225\u001b[0;31m             \u001b[0;32myield\u001b[0m \u001b[0;32mfrom\u001b[0m \u001b[0mself\u001b[0m\u001b[0;34m.\u001b[0m\u001b[0m_plot_args\u001b[0m\u001b[0;34m(\u001b[0m\u001b[0mthis\u001b[0m\u001b[0;34m,\u001b[0m \u001b[0mkwargs\u001b[0m\u001b[0;34m)\u001b[0m\u001b[0;34m\u001b[0m\u001b[0;34m\u001b[0m\u001b[0m\n\u001b[0m\u001b[1;32m    226\u001b[0m \u001b[0;34m\u001b[0m\u001b[0m\n\u001b[1;32m    227\u001b[0m     \u001b[0;32mdef\u001b[0m \u001b[0mget_next_color\u001b[0m\u001b[0;34m(\u001b[0m\u001b[0mself\u001b[0m\u001b[0;34m)\u001b[0m\u001b[0;34m:\u001b[0m\u001b[0;34m\u001b[0m\u001b[0;34m\u001b[0m\u001b[0m\n",
      "\u001b[0;32m/usr/lib/python3.8/site-packages/matplotlib/axes/_base.py\u001b[0m in \u001b[0;36m_plot_args\u001b[0;34m(self, tup, kwargs)\u001b[0m\n\u001b[1;32m    389\u001b[0m             \u001b[0mx\u001b[0m\u001b[0;34m,\u001b[0m \u001b[0my\u001b[0m \u001b[0;34m=\u001b[0m \u001b[0mindex_of\u001b[0m\u001b[0;34m(\u001b[0m\u001b[0mtup\u001b[0m\u001b[0;34m[\u001b[0m\u001b[0;34m-\u001b[0m\u001b[0;36m1\u001b[0m\u001b[0;34m]\u001b[0m\u001b[0;34m)\u001b[0m\u001b[0;34m\u001b[0m\u001b[0;34m\u001b[0m\u001b[0m\n\u001b[1;32m    390\u001b[0m \u001b[0;34m\u001b[0m\u001b[0m\n\u001b[0;32m--> 391\u001b[0;31m         \u001b[0mx\u001b[0m\u001b[0;34m,\u001b[0m \u001b[0my\u001b[0m \u001b[0;34m=\u001b[0m \u001b[0mself\u001b[0m\u001b[0;34m.\u001b[0m\u001b[0m_xy_from_xy\u001b[0m\u001b[0;34m(\u001b[0m\u001b[0mx\u001b[0m\u001b[0;34m,\u001b[0m \u001b[0my\u001b[0m\u001b[0;34m)\u001b[0m\u001b[0;34m\u001b[0m\u001b[0;34m\u001b[0m\u001b[0m\n\u001b[0m\u001b[1;32m    392\u001b[0m \u001b[0;34m\u001b[0m\u001b[0m\n\u001b[1;32m    393\u001b[0m         \u001b[0;32mif\u001b[0m \u001b[0mself\u001b[0m\u001b[0;34m.\u001b[0m\u001b[0mcommand\u001b[0m \u001b[0;34m==\u001b[0m \u001b[0;34m'plot'\u001b[0m\u001b[0;34m:\u001b[0m\u001b[0;34m\u001b[0m\u001b[0;34m\u001b[0m\u001b[0m\n",
      "\u001b[0;32m/usr/lib/python3.8/site-packages/matplotlib/axes/_base.py\u001b[0m in \u001b[0;36m_xy_from_xy\u001b[0;34m(self, x, y)\u001b[0m\n\u001b[1;32m    267\u001b[0m         \u001b[0my\u001b[0m \u001b[0;34m=\u001b[0m \u001b[0m_check_1d\u001b[0m\u001b[0;34m(\u001b[0m\u001b[0my\u001b[0m\u001b[0;34m)\u001b[0m\u001b[0;34m\u001b[0m\u001b[0;34m\u001b[0m\u001b[0m\n\u001b[1;32m    268\u001b[0m         \u001b[0;32mif\u001b[0m \u001b[0mx\u001b[0m\u001b[0;34m.\u001b[0m\u001b[0mshape\u001b[0m\u001b[0;34m[\u001b[0m\u001b[0;36m0\u001b[0m\u001b[0;34m]\u001b[0m \u001b[0;34m!=\u001b[0m \u001b[0my\u001b[0m\u001b[0;34m.\u001b[0m\u001b[0mshape\u001b[0m\u001b[0;34m[\u001b[0m\u001b[0;36m0\u001b[0m\u001b[0;34m]\u001b[0m\u001b[0;34m:\u001b[0m\u001b[0;34m\u001b[0m\u001b[0;34m\u001b[0m\u001b[0m\n\u001b[0;32m--> 269\u001b[0;31m             raise ValueError(\"x and y must have same first dimension, but \"\n\u001b[0m\u001b[1;32m    270\u001b[0m                              \"have shapes {} and {}\".format(x.shape, y.shape))\n\u001b[1;32m    271\u001b[0m         \u001b[0;32mif\u001b[0m \u001b[0mx\u001b[0m\u001b[0;34m.\u001b[0m\u001b[0mndim\u001b[0m \u001b[0;34m>\u001b[0m \u001b[0;36m2\u001b[0m \u001b[0;32mor\u001b[0m \u001b[0my\u001b[0m\u001b[0;34m.\u001b[0m\u001b[0mndim\u001b[0m \u001b[0;34m>\u001b[0m \u001b[0;36m2\u001b[0m\u001b[0;34m:\u001b[0m\u001b[0;34m\u001b[0m\u001b[0;34m\u001b[0m\u001b[0m\n",
      "\u001b[0;31mValueError\u001b[0m: x and y must have same first dimension, but have shapes (22,) and (17,)"
     ]
    },
    {
     "data": {
      "image/png": "[encoded data removed]",
      "text/plain": [
       "<Figure size 1080x360 with 2 Axes>"
      ]
     },
     "metadata": {
      "needs_background": "light"
     },
     "output_type": "display_data"
    }
   ],
   "source": [
    "fig, (ax1,ax2) = plt.subplots(ncols=2, figsize=(15,5))\n",
    "\n",
    "#diagn = new_diagn(results_base.y, params_rio_base)\n",
    "ax1.plot(days, diagn[0],        'o:', label='Modelo')\n",
    "ax1.plot(days, dados_Rio[0], 'x-', label='Observado')\n",
    "ax1.xaxis.set_major_formatter(mdates.DateFormatter('%d/%m'))\n",
    "ax1.grid()\n",
    "ax1.legend()\n",
    "ax1.set_title('Novos diagnósticos')\n",
    "\n",
    "#diagn = new_diagn(results_base.y, params_rio_base)\n",
    "ax2.plot(days, diagn[1],        'o:', label='Modelo')\n",
    "ax2.plot(days, dados_Cid[0], 'x-', label='Observado')\n",
    "ax2.xaxis.set_major_formatter(mdates.DateFormatter('%d/%m'))\n",
    "ax2.grid()\n",
    "ax2.legend()\n",
    "ax2.set_title('Novos diagnósticos')"
   ]
  },
  {
   "cell_type": "code",
   "execution_count": null,
   "metadata": {},
   "outputs": [],
   "source": [
    "for i in range(8,14):\n",
    "    plt.plot(days, results_base.y[i])"
   ]
  },
  {
   "cell_type": "code",
   "execution_count": null,
   "metadata": {},
   "outputs": [],
   "source": [
    "c = 0\n",
    "for i in range(14):\n",
    "    c+=results_base.y[i][18]"
   ]
  },
  {
   "cell_type": "code",
   "execution_count": null,
   "metadata": {},
   "outputs": [],
   "source": [
    "print(c)\n",
    "for i in range(18):\n",
    "    plt.scatter(i,np.sum(results_base.y[:,i]))"
   ]
  },
  {
   "cell_type": "code",
   "execution_count": null,
   "metadata": {},
   "outputs": [],
   "source": [
    "def tot_deaths(res):\n",
    "    return np.sum(res[:,0]) - np.sum(res, axis=0)"
   ]
  },
  {
   "cell_type": "code",
   "execution_count": null,
   "metadata": {},
   "outputs": [],
   "source": [
    "p1 = params[:]\n",
    "p1[-1][0],p1[-1][1],p1[-2][0],p1[-2][1] = 0,0,0,0\n",
    "\n",
    "t_par_lst = [(10,params),(25,p1),(35,params)]\n",
    "\n",
    "ss = multi_regime_cidades(CI, 0, t_par_lst)"
   ]
  },
  {
   "cell_type": "code",
   "execution_count": null,
   "metadata": {},
   "outputs": [],
   "source": [
    "# plt.plot(ss[:,4])\n",
    "\n",
    "plt.plot(ss[0])\n",
    "plt.plot(ss[7])"
   ]
  },
  {
   "cell_type": "code",
   "execution_count": null,
   "metadata": {},
   "outputs": [],
   "source": [
    "for i in range(7):\n",
    "    print(ss[i] == ss[i+7])"
   ]
  },
  {
   "cell_type": "code",
   "execution_count": null,
   "metadata": {},
   "outputs": [],
   "source": [
    "CI"
   ]
  },
  {
   "cell_type": "code",
   "execution_count": null,
   "metadata": {},
   "outputs": [],
   "source": []
  }
 ],
 "metadata": {
  "kernelspec": {
   "display_name": "Python 3",
   "language": "python",
   "name": "python3"
  },
  "language_info": {
   "codemirror_mode": {
    "name": "ipython",
    "version": 3
   },
   "file_extension": ".py",
   "mimetype": "text/x-python",
   "name": "python",
   "nbconvert_exporter": "python",
   "pygments_lexer": "ipython3",
   "version": "3.8.2"
  }
 },
 "nbformat": 4,
 "nbformat_minor": 4
}
