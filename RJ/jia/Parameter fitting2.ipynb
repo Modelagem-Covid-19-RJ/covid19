{
 "cells": [
  {
   "cell_type": "markdown",
   "metadata": {},
   "source": [
    "**Estudo em andamento**\n",
    "\n",
    "As análises aqui apresentadas e resultados obtidos ainda não devem ser divulgados."
   ]
  },
  {
   "cell_type": "markdown",
   "metadata": {
    "toc": true
   },
   "source": [
    "<h1>Table of Contents<span class=\"tocSkip\"></span></h1>\n",
    "<div class=\"toc\"><ul class=\"toc-item\"><li><span><a href=\"#Modelo-de-Jia-et-al.\" data-toc-modified-id=\"Modelo-de-Jia-et-al.-1\"><span class=\"toc-item-num\">1&nbsp;&nbsp;</span>Modelo de Jia et al.</a></span><ul class=\"toc-item\"><li><span><a href=\"#Populações\" data-toc-modified-id=\"Populações-1.1\"><span class=\"toc-item-num\">1.1&nbsp;&nbsp;</span>Populações</a></span><ul class=\"toc-item\"><li><span><a href=\"#Sucetíveis-e-&quot;em-Quarentena&quot;\" data-toc-modified-id=\"Sucetíveis-e-&quot;em-Quarentena&quot;-1.1.1\"><span class=\"toc-item-num\">1.1.1&nbsp;&nbsp;</span>Sucetíveis e \"em Quarentena\"</a></span></li><li><span><a href=\"#Expostos\" data-toc-modified-id=\"Expostos-1.1.2\"><span class=\"toc-item-num\">1.1.2&nbsp;&nbsp;</span>Expostos</a></span></li><li><span><a href=\"#Assintomáticos,-Infectados,-Diagnosticados\" data-toc-modified-id=\"Assintomáticos,-Infectados,-Diagnosticados-1.1.3\"><span class=\"toc-item-num\">1.1.3&nbsp;&nbsp;</span>Assintomáticos, Infectados, Diagnosticados</a></span></li><li><span><a href=\"#Recuperados\" data-toc-modified-id=\"Recuperados-1.1.4\"><span class=\"toc-item-num\">1.1.4&nbsp;&nbsp;</span>Recuperados</a></span></li></ul></li><li><span><a href=\"#Parâmetros\" data-toc-modified-id=\"Parâmetros-1.2\"><span class=\"toc-item-num\">1.2&nbsp;&nbsp;</span>Parâmetros</a></span></li><li><span><a href=\"#Modelo-em-python\" data-toc-modified-id=\"Modelo-em-python-1.3\"><span class=\"toc-item-num\">1.3&nbsp;&nbsp;</span>Modelo em python</a></span></li></ul></li><li><span><a href=\"#Transpondo-para-a-cidade-do-Rio-de-Janeiro\" data-toc-modified-id=\"Transpondo-para-a-cidade-do-Rio-de-Janeiro-2\"><span class=\"toc-item-num\">2&nbsp;&nbsp;</span>Transpondo para a cidade do Rio de Janeiro</a></span><ul class=\"toc-item\"><li><span><a href=\"#Dados-iniciais-para-o-Rio-de-Janeiro\" data-toc-modified-id=\"Dados-iniciais-para-o-Rio-de-Janeiro-2.1\"><span class=\"toc-item-num\">2.1&nbsp;&nbsp;</span>Dados iniciais para o Rio de Janeiro</a></span></li><li><span><a href=\"#Parâmetros-para-a-cidade-do-Rio-de-Janeiro\" data-toc-modified-id=\"Parâmetros-para-a-cidade-do-Rio-de-Janeiro-2.2\"><span class=\"toc-item-num\">2.2&nbsp;&nbsp;</span>Parâmetros para a cidade do Rio de Janeiro</a></span><ul class=\"toc-item\"><li><span><a href=\"#Adaptando-parâmetros:\" data-toc-modified-id=\"Adaptando-parâmetros:-2.2.1\"><span class=\"toc-item-num\">2.2.1&nbsp;&nbsp;</span>Adaptando parâmetros:</a></span></li></ul></li></ul></li><li><span><a href=\"#Simulação-19-dias-à-frente-para-validação\" data-toc-modified-id=\"Simulação-19-dias-à-frente-para-validação-3\"><span class=\"toc-item-num\">3&nbsp;&nbsp;</span>Simulação 19 dias à frente para validação</a></span><ul class=\"toc-item\"><li><span><a href=\"#Dados-da-cidade,-a-partir-de-29-de-Março\" data-toc-modified-id=\"Dados-da-cidade,-a-partir-de-29-de-Março-3.1\"><span class=\"toc-item-num\">3.1&nbsp;&nbsp;</span>Dados da cidade, a partir de 29 de Março</a></span></li><li><span><a href=\"#Comentário\" data-toc-modified-id=\"Comentário-3.2\"><span class=\"toc-item-num\">3.2&nbsp;&nbsp;</span>Comentário</a></span></li></ul></li><li><span><a href=\"#Otimizando-parâmetros\" data-toc-modified-id=\"Otimizando-parâmetros-4\"><span class=\"toc-item-num\">4&nbsp;&nbsp;</span>Otimizando parâmetros</a></span><ul class=\"toc-item\"><li><span><a href=\"#Código\" data-toc-modified-id=\"Código-4.1\"><span class=\"toc-item-num\">4.1&nbsp;&nbsp;</span>Código</a></span></li><li><span><a href=\"#Valores-iniciais-e-otimização\" data-toc-modified-id=\"Valores-iniciais-e-otimização-4.2\"><span class=\"toc-item-num\">4.2&nbsp;&nbsp;</span>Valores iniciais e otimização</a></span><ul class=\"toc-item\"><li><span><a href=\"#Comentário\" data-toc-modified-id=\"Comentário-4.2.1\"><span class=\"toc-item-num\">4.2.1&nbsp;&nbsp;</span>Comentário</a></span></li></ul></li><li><span><a href=\"#Resultados-para-estes-novos-parâmetros\" data-toc-modified-id=\"Resultados-para-estes-novos-parâmetros-4.3\"><span class=\"toc-item-num\">4.3&nbsp;&nbsp;</span>Resultados para estes novos parâmetros</a></span><ul class=\"toc-item\"><li><span><a href=\"#Comportamento-da-curva\" data-toc-modified-id=\"Comportamento-da-curva-4.3.1\"><span class=\"toc-item-num\">4.3.1&nbsp;&nbsp;</span>Comportamento da curva</a></span></li><li><span><a href=\"#Segundo-resultado:-estimativa-da-taxa-de-subnotificação\" data-toc-modified-id=\"Segundo-resultado:-estimativa-da-taxa-de-subnotificação-4.3.2\"><span class=\"toc-item-num\">4.3.2&nbsp;&nbsp;</span>Segundo resultado: estimativa da taxa de subnotificação</a></span></li></ul></li></ul></li></ul></div>"
   ]
  },
  {
   "cell_type": "markdown",
   "metadata": {},
   "source": [
    "# Modelo de Jia et al."
   ]
  },
  {
   "cell_type": "markdown",
   "metadata": {},
   "source": [
    "$$ \\begin{align*}\n",
    "\\frac{dS}{dt} & = - \\beta S (I + \\theta A) - p S + \\lambda Q\n",
    "              &&= - \\beta S I  -  \\phi S A - p S + \\lambda Q \\\\\n",
    "\\frac{dQ}{dt} & = p S - \\lambda Q \\\\\n",
    "\\frac{dE}{dt} & =   \\beta S (I + \\theta A) - \\sigma E\n",
    "              &&=   \\beta S I  +  \\phi S A - \\sigma E \\\\\n",
    "\\frac{dA}{dt} & = \\sigma (1 - \\rho) E - \\epsilon_A A - \\gamma_A A\n",
    "              &&= (\\sigma - \\zeta) E  - \\epsilon_A A - \\gamma_A A \\\\\n",
    "\\frac{dI}{dt} & = \\sigma \\rho E - \\epsilon_I I - \\gamma_I I - d_I I\n",
    "              &&=       \\zeta E - \\epsilon_I I - \\gamma_I I - d_I I \\\\\n",
    "\\frac{dD}{dt} & = \\epsilon_A A + \\epsilon_I I - \\gamma_D D - d_D D \\\\\n",
    "\\frac{dR}{dt} & = \\gamma_A A + \\gamma_I I + \\gamma_D D\n",
    "\\end{align*} $$"
   ]
  },
  {
   "cell_type": "markdown",
   "metadata": {},
   "source": [
    "Um modelo alternativo (à direita) substitui os parâmetros $\\theta$ e $\\rho$\n",
    "por $\\phi/\\beta$ e $\\zeta/\\sigma$, respectivamente.\n",
    "\n",
    "Isto evita multiplicar os parâmetros, o que pode simplificar o processo de estimativa,\n",
    "já que as equações da dinâmica se tornam **lineares** nos parâmetros.\n",
    "(o modelo ainda conta com efeitos não-lineares dada a interação dos passos ao longo do tempo)"
   ]
  },
  {
   "cell_type": "markdown",
   "metadata": {},
   "source": [
    "## Populações"
   ]
  },
  {
   "cell_type": "markdown",
   "metadata": {},
   "source": [
    "### Sucetíveis e \"em Quarentena\"\n",
    "\n",
    "- Parte da população sucetível pode migrar para quarentena (taxa $p$), e vice-versa (taxa $\\lambda$).\n",
    "\n",
    "### Expostos\n",
    "\n",
    "- Parte da população sintomática que entrou em contato com infectados ou assintomáticos (taxa básica de contágio $\\beta$)\n",
    "- Uma parte destes irá progredir ao estágio seguinte da doença, a taxa de conversão $\\sigma$:\n",
    "    * Alguns como sintomáticos, outros como assintomáticos, em proporção $\\rho : 1 - \\rho$.\n",
    "    * **Todos os expostos irão progredir para algum dos dois estados** neste modelo\n",
    "\n",
    "### Assintomáticos, Infectados, Diagnosticados\n",
    "\n",
    "- Tanto assintomáticos como infectados ainda estão \"circulando\" (pois não sabem que são portadores)\n",
    "  e podem contaminar a população em geral.\n",
    "- Assintomáticos:\n",
    "    * menor taxa de contágio (approx 1/10 segundo o modelo original),\n",
    "    * maior taxa de recuperação.\n",
    "- Infectado:\n",
    "    * maior taxa de contágio,\n",
    "    * menor taxa de recuperação,\n",
    "    * possibilidade de morte.\n",
    "- Diagnosticado\n",
    "    * Não contamina \"mais ninguém\", por hipótese, pois está isolado / em tratamento;\n",
    "    * taxa intermediária de recuperação (entre infectados e assintomáticos),\n",
    "    * menor taxa de morte do que infectados\n",
    "\n",
    "### Recuperados\n",
    "\n",
    "- Neste modelo, não são mais sucetíveis, nem contaminam mais ninguém."
   ]
  },
  {
   "cell_type": "markdown",
   "metadata": {},
   "source": [
    "## Parâmetros\n",
    "\n",
    "- $\\beta$: taxa básica de contágio de infectados -> sucetíveis\n",
    "    * $\\theta$: fator da taxa de contágio para assintomáticos -> sucetíveis\n",
    "- $p$, $\\lambda$: taxa de conversão entre população sucetível e em quarentena\n",
    "- $\\sigma$: taxa de evolução dos sintomas após contágio\n",
    "    * $\\rho$: proporção dos contágios que será assintomática\n",
    "- $\\epsilon_A$, $\\epsilon_I$: proporção de assintomáticos / infectados que será diagnosticada\n",
    "- $\\gamma_A$, $\\gamma_I$, $\\gamma_D$: taxa de recuperação de assintomáticos / infectados / diagnosticados\n",
    "- $d_I$ , $d_D$: taxa de morte para infectados e diagnosticados"
   ]
  },
  {
   "cell_type": "markdown",
   "metadata": {},
   "source": [
    "## Modelo em python\n",
    "\n",
    "Separado em uma biblioteca dedicada, `jia.py`."
   ]
  },
  {
   "cell_type": "code",
   "execution_count": 1,
   "metadata": {},
   "outputs": [],
   "source": [
    "from scipy.integrate import solve_ivp\n",
    "from jia import multi_regime, F, new_diagn, new_deaths, tot_deaths"
   ]
  },
  {
   "cell_type": "markdown",
   "metadata": {},
   "source": [
    "# Transpondo para a cidade do Rio de Janeiro"
   ]
  },
  {
   "cell_type": "markdown",
   "metadata": {},
   "source": [
    "## Dados iniciais para o Rio de Janeiro\n",
    "\n",
    "Usamos uma taxa de subnotificação de 8x, e uma taxa de exposição de 7x a população diagnosticada,\n",
    "o que aproxima de forma bastante razoável a curva de diagnósticos e de óbitos.\n",
    "\n",
    "Também é necessário estimar a taxa de assintomáticos nesta população,\n",
    "que é maior do que para a doença já que a prioridade dos testes\n",
    "é para aqueles que apresentaram sintomas mais graves."
   ]
  },
  {
   "cell_type": "code",
   "execution_count": 2,
   "metadata": {},
   "outputs": [],
   "source": [
    "# Taxa de subnotificação\n",
    "taxa_subn   = 8\n",
    "prop_assint = 0.80"
   ]
  },
  {
   "cell_type": "code",
   "execution_count": 3,
   "metadata": {},
   "outputs": [],
   "source": [
    "# Dados para a cidade do Rio de Janeiro,\n",
    "# IBGE 2019 (estimativa)\n",
    "pop_Rio = 6718903\n",
    "# 29 de Março\n",
    "diagn_Rio, recup_Rio = 489, 16\n",
    "infect_Rio = diagn_Rio*(taxa_subn-1)*(1 - prop_assint)\n",
    "assint_Rio = diagn_Rio*(taxa_subn-1)*prop_assint\n",
    "expostos_Rio = diagn_Rio*7\n",
    "quarentena_Rio = 0.6 * pop_Rio\n",
    "\n",
    "sucetiveis_Rio = pop_Rio - (quarentena_Rio + expostos_Rio + assint_Rio + infect_Rio + diagn_Rio + recup_Rio)"
   ]
  },
  {
   "cell_type": "code",
   "execution_count": 4,
   "metadata": {},
   "outputs": [],
   "source": [
    "CI_rio = [sucetiveis_Rio, quarentena_Rio, expostos_Rio, assint_Rio, infect_Rio, diagn_Rio, recup_Rio]"
   ]
  },
  {
   "cell_type": "markdown",
   "metadata": {},
   "source": [
    "## Parâmetros para a cidade do Rio de Janeiro\n",
    "\n",
    "Usamos os parâmetros do artigo original para a cidade de Beijing,\n",
    "em especial para obter aqueles referentes ao comportamento específico da doença\n",
    "(progressão de estágios, taxa de recuperação, etc.)."
   ]
  },
  {
   "cell_type": "code",
   "execution_count": 5,
   "metadata": {},
   "outputs": [],
   "source": [
    "# Parâmetros:     beta,  phi,   p, lambda, sigma,  rho, epsA, gammaA, epsI, gammaI, deathI, gammaD, deathD\n",
    "params_beijing = (1e-7, 1/10, 1/4,   1/60,   1/7, 0.94,  1/8, 0.0996,  1/4, 0.0766, 0.0026, 0.0843, 0.0017)"
   ]
  },
  {
   "cell_type": "markdown",
   "metadata": {},
   "source": [
    "### Adaptando parâmetros:\n",
    "\n",
    "- Fator de diagnóstico ($\\epsilon$)\n",
    "    * Para ser compatível com as hipóteses de população infectada inicial ~10x maior do que a diagnosticada\n",
    "- Taxas de quarentena\n",
    "    * Para corresponder a ~ 60% de quarentena da população no dia 29 de Março"
   ]
  },
  {
   "cell_type": "code",
   "execution_count": 6,
   "metadata": {},
   "outputs": [],
   "source": [
    "# Idx       :         0,    1,   2,      3,     4,    5,     6,      7,    8,      9,     10,     11,     12\n",
    "# Parâmetros:      beta,  phi,   p, lambda, sigma, zeta,  epsA, gammaA, epsI, gammaI, deathI, gammaD, deathD\n",
    "params_rio_base = (1e-7, 1/10, 1/4,    1/6,   1/7, 0.94, 1/100, 0.0996, 1/30, 0.0766, 0.0026, 0.0843, 0.0017)"
   ]
  },
  {
   "cell_type": "markdown",
   "metadata": {},
   "source": [
    "# Simulação 19 dias à frente para validação"
   ]
  },
  {
   "cell_type": "code",
   "execution_count": 7,
   "metadata": {},
   "outputs": [],
   "source": [
    "import matplotlib.pyplot as plt\n",
    "import matplotlib.ticker as mticker\n",
    "import matplotlib.dates as mdates\n",
    "import datetime as dt\n",
    "import numpy as np"
   ]
  },
  {
   "cell_type": "markdown",
   "metadata": {},
   "source": [
    "## Dados da cidade, a partir de 29 de Março"
   ]
  },
  {
   "cell_type": "code",
   "execution_count": 8,
   "metadata": {},
   "outputs": [],
   "source": [
    "# Novos casos / novos óbitos até dia 16 de Abril\n",
    "# https://experience.arcgis.com/experience/38efc69787a346959c931568bd9e2cc4\n",
    "dados_Rio = [\n",
    "    [26, 38, 30, 114, 110, 60, 115, 86, 42, 141, 198, 184, 175, 97, 91, 326, 71, 126, 140],\n",
    "    [1,   3,  2,   4,   7,  5,   2,  4,  5,  12,  14,   9,  10,  6,  8,   9, 25,  27,  28]\n",
    "]"
   ]
  },
  {
   "cell_type": "code",
   "execution_count": 9,
   "metadata": {},
   "outputs": [],
   "source": [
    "T_fim = len(dados_Rio[0])\n",
    "\n",
    "start = dt.datetime.strptime(\"29-03-2020\", \"%d-%m-%Y\")\n",
    "then = start + dt.timedelta(days=T_fim)\n",
    "days = mdates.drange(start,then,dt.timedelta(days=1))"
   ]
  },
  {
   "cell_type": "code",
   "execution_count": 10,
   "metadata": {},
   "outputs": [],
   "source": [
    "# Supondo mantida a quarentena\n",
    "f_rio_base = lambda t,v: F(t,v, *params_rio_base)\n",
    "results_base = solve_ivp(f_rio_base, (1,T_fim), CI_rio, t_eval=range(1,T_fim+1))"
   ]
  },
  {
   "cell_type": "code",
   "execution_count": 11,
   "metadata": {},
   "outputs": [
    {
     "data": {
      "text/plain": [
       "<matplotlib.legend.Legend at 0x7f63ad38ce50>"
      ]
     },
     "execution_count": 11,
     "metadata": {},
     "output_type": "execute_result"
    },
    {
     "data": {
      "image/png": "[encoded data removed]",
      "text/plain": [
       "<Figure size 432x288 with 1 Axes>"
      ]
     },
     "metadata": {
      "needs_background": "light"
     },
     "output_type": "display_data"
    }
   ],
   "source": [
    "comparts = ['S', 'Q', 'E', 'A', 'I', 'D', 'R']\n",
    "for (i,c) in zip(np.arange(len(results_base.y)), comparts):\n",
    "    plt.loglog(results_base.y[i], label = c)\n",
    "    \n",
    "plt.legend()"
   ]
  },
  {
   "cell_type": "code",
   "execution_count": 16,
   "metadata": {},
   "outputs": [
    {
     "data": {
      "image/png": "[encoded data removed]",
      "text/plain": [
       "<Figure size 432x288 with 1 Axes>"
      ]
     },
     "metadata": {
      "needs_background": "light"
     },
     "output_type": "display_data"
    }
   ],
   "source": [
    "params_rio_base = np.array(list((1e-7, 1/10, 1/4,    1/6,   1/7, 0.94, 1/100, 0.0996, 1/30, 0.0766, 0.0026, 0.0843, 0.0017)))\n",
    "params1 = np.array(list(params_rio_base[:]))\n",
    "\n",
    "params1[-1] = 0\n",
    "params1[-3] = 0\n",
    "params1\n",
    "t_par = [(15, params1), (20, params_rio_base), (50, params1)]\n",
    "ss = multi_regime(CI_rio, 0, t_par)\n",
    "\n",
    "plt.plot(tot_deaths(ss))\n",
    "plt.show()"
   ]
  },
  {
   "cell_type": "code",
   "execution_count": 14,
   "metadata": {},
   "outputs": [
    {
     "data": {
      "image/png": "[encoded data removed]",
      "text/plain": [
       "<Figure size 432x288 with 1 Axes>"
      ]
     },
     "metadata": {
      "needs_background": "light"
     },
     "output_type": "display_data"
    }
   ],
   "source": [
    "plt.plot(tot_deaths(ss))\n",
    "plt.show()"
   ]
  },
  {
   "cell_type": "code",
   "execution_count": 15,
   "metadata": {},
   "outputs": [
    {
     "ename": "ValueError",
     "evalue": "x and y must have same first dimension, but have shapes (19,) and (79,)",
     "output_type": "error",
     "traceback": [
      "\u001b[0;31m---------------------------------------------------------------------------\u001b[0m",
      "\u001b[0;31mValueError\u001b[0m                                Traceback (most recent call last)",
      "\u001b[0;32m<ipython-input-15-ef84b841bc9a>\u001b[0m in \u001b[0;36m<module>\u001b[0;34m\u001b[0m\n\u001b[1;32m      2\u001b[0m \u001b[0;34m\u001b[0m\u001b[0m\n\u001b[1;32m      3\u001b[0m \u001b[0mdiagn\u001b[0m \u001b[0;34m=\u001b[0m \u001b[0mnew_diagn\u001b[0m\u001b[0;34m(\u001b[0m\u001b[0mss\u001b[0m\u001b[0;34m,\u001b[0m \u001b[0mparams_rio_base\u001b[0m\u001b[0;34m)\u001b[0m\u001b[0;34m\u001b[0m\u001b[0;34m\u001b[0m\u001b[0m\n\u001b[0;32m----> 4\u001b[0;31m \u001b[0max1\u001b[0m\u001b[0;34m.\u001b[0m\u001b[0mplot\u001b[0m\u001b[0;34m(\u001b[0m\u001b[0mdays\u001b[0m\u001b[0;34m,\u001b[0m \u001b[0mdiagn\u001b[0m\u001b[0;34m,\u001b[0m        \u001b[0;34m'o:'\u001b[0m\u001b[0;34m,\u001b[0m \u001b[0mlabel\u001b[0m\u001b[0;34m=\u001b[0m\u001b[0;34m'Modelo'\u001b[0m\u001b[0;34m)\u001b[0m\u001b[0;34m\u001b[0m\u001b[0;34m\u001b[0m\u001b[0m\n\u001b[0m\u001b[1;32m      5\u001b[0m \u001b[0max1\u001b[0m\u001b[0;34m.\u001b[0m\u001b[0mplot\u001b[0m\u001b[0;34m(\u001b[0m\u001b[0mdays\u001b[0m\u001b[0;34m,\u001b[0m \u001b[0mdados_Rio\u001b[0m\u001b[0;34m[\u001b[0m\u001b[0;36m0\u001b[0m\u001b[0;34m]\u001b[0m\u001b[0;34m,\u001b[0m \u001b[0;34m'x-'\u001b[0m\u001b[0;34m,\u001b[0m \u001b[0mlabel\u001b[0m\u001b[0;34m=\u001b[0m\u001b[0;34m'Observado'\u001b[0m\u001b[0;34m)\u001b[0m\u001b[0;34m\u001b[0m\u001b[0;34m\u001b[0m\u001b[0m\n\u001b[1;32m      6\u001b[0m \u001b[0max1\u001b[0m\u001b[0;34m.\u001b[0m\u001b[0mxaxis\u001b[0m\u001b[0;34m.\u001b[0m\u001b[0mset_major_formatter\u001b[0m\u001b[0;34m(\u001b[0m\u001b[0mmdates\u001b[0m\u001b[0;34m.\u001b[0m\u001b[0mDateFormatter\u001b[0m\u001b[0;34m(\u001b[0m\u001b[0;34m'%d/%m'\u001b[0m\u001b[0;34m)\u001b[0m\u001b[0;34m)\u001b[0m\u001b[0;34m\u001b[0m\u001b[0;34m\u001b[0m\u001b[0m\n",
      "\u001b[0;32m/usr/lib/python3.8/site-packages/matplotlib/axes/_axes.py\u001b[0m in \u001b[0;36mplot\u001b[0;34m(self, scalex, scaley, data, *args, **kwargs)\u001b[0m\n\u001b[1;32m   1663\u001b[0m         \"\"\"\n\u001b[1;32m   1664\u001b[0m         \u001b[0mkwargs\u001b[0m \u001b[0;34m=\u001b[0m \u001b[0mcbook\u001b[0m\u001b[0;34m.\u001b[0m\u001b[0mnormalize_kwargs\u001b[0m\u001b[0;34m(\u001b[0m\u001b[0mkwargs\u001b[0m\u001b[0;34m,\u001b[0m \u001b[0mmlines\u001b[0m\u001b[0;34m.\u001b[0m\u001b[0mLine2D\u001b[0m\u001b[0;34m.\u001b[0m\u001b[0m_alias_map\u001b[0m\u001b[0;34m)\u001b[0m\u001b[0;34m\u001b[0m\u001b[0;34m\u001b[0m\u001b[0m\n\u001b[0;32m-> 1665\u001b[0;31m         \u001b[0mlines\u001b[0m \u001b[0;34m=\u001b[0m \u001b[0;34m[\u001b[0m\u001b[0;34m*\u001b[0m\u001b[0mself\u001b[0m\u001b[0;34m.\u001b[0m\u001b[0m_get_lines\u001b[0m\u001b[0;34m(\u001b[0m\u001b[0;34m*\u001b[0m\u001b[0margs\u001b[0m\u001b[0;34m,\u001b[0m \u001b[0mdata\u001b[0m\u001b[0;34m=\u001b[0m\u001b[0mdata\u001b[0m\u001b[0;34m,\u001b[0m \u001b[0;34m**\u001b[0m\u001b[0mkwargs\u001b[0m\u001b[0;34m)\u001b[0m\u001b[0;34m]\u001b[0m\u001b[0;34m\u001b[0m\u001b[0;34m\u001b[0m\u001b[0m\n\u001b[0m\u001b[1;32m   1666\u001b[0m         \u001b[0;32mfor\u001b[0m \u001b[0mline\u001b[0m \u001b[0;32min\u001b[0m \u001b[0mlines\u001b[0m\u001b[0;34m:\u001b[0m\u001b[0;34m\u001b[0m\u001b[0;34m\u001b[0m\u001b[0m\n\u001b[1;32m   1667\u001b[0m             \u001b[0mself\u001b[0m\u001b[0;34m.\u001b[0m\u001b[0madd_line\u001b[0m\u001b[0;34m(\u001b[0m\u001b[0mline\u001b[0m\u001b[0;34m)\u001b[0m\u001b[0;34m\u001b[0m\u001b[0;34m\u001b[0m\u001b[0m\n",
      "\u001b[0;32m/usr/lib/python3.8/site-packages/matplotlib/axes/_base.py\u001b[0m in \u001b[0;36m__call__\u001b[0;34m(self, *args, **kwargs)\u001b[0m\n\u001b[1;32m    223\u001b[0m                 \u001b[0mthis\u001b[0m \u001b[0;34m+=\u001b[0m \u001b[0margs\u001b[0m\u001b[0;34m[\u001b[0m\u001b[0;36m0\u001b[0m\u001b[0;34m]\u001b[0m\u001b[0;34m,\u001b[0m\u001b[0;34m\u001b[0m\u001b[0;34m\u001b[0m\u001b[0m\n\u001b[1;32m    224\u001b[0m                 \u001b[0margs\u001b[0m \u001b[0;34m=\u001b[0m \u001b[0margs\u001b[0m\u001b[0;34m[\u001b[0m\u001b[0;36m1\u001b[0m\u001b[0;34m:\u001b[0m\u001b[0;34m]\u001b[0m\u001b[0;34m\u001b[0m\u001b[0;34m\u001b[0m\u001b[0m\n\u001b[0;32m--> 225\u001b[0;31m             \u001b[0;32myield\u001b[0m \u001b[0;32mfrom\u001b[0m \u001b[0mself\u001b[0m\u001b[0;34m.\u001b[0m\u001b[0m_plot_args\u001b[0m\u001b[0;34m(\u001b[0m\u001b[0mthis\u001b[0m\u001b[0;34m,\u001b[0m \u001b[0mkwargs\u001b[0m\u001b[0;34m)\u001b[0m\u001b[0;34m\u001b[0m\u001b[0;34m\u001b[0m\u001b[0m\n\u001b[0m\u001b[1;32m    226\u001b[0m \u001b[0;34m\u001b[0m\u001b[0m\n\u001b[1;32m    227\u001b[0m     \u001b[0;32mdef\u001b[0m \u001b[0mget_next_color\u001b[0m\u001b[0;34m(\u001b[0m\u001b[0mself\u001b[0m\u001b[0;34m)\u001b[0m\u001b[0;34m:\u001b[0m\u001b[0;34m\u001b[0m\u001b[0;34m\u001b[0m\u001b[0m\n",
      "\u001b[0;32m/usr/lib/python3.8/site-packages/matplotlib/axes/_base.py\u001b[0m in \u001b[0;36m_plot_args\u001b[0;34m(self, tup, kwargs)\u001b[0m\n\u001b[1;32m    389\u001b[0m             \u001b[0mx\u001b[0m\u001b[0;34m,\u001b[0m \u001b[0my\u001b[0m \u001b[0;34m=\u001b[0m \u001b[0mindex_of\u001b[0m\u001b[0;34m(\u001b[0m\u001b[0mtup\u001b[0m\u001b[0;34m[\u001b[0m\u001b[0;34m-\u001b[0m\u001b[0;36m1\u001b[0m\u001b[0;34m]\u001b[0m\u001b[0;34m)\u001b[0m\u001b[0;34m\u001b[0m\u001b[0;34m\u001b[0m\u001b[0m\n\u001b[1;32m    390\u001b[0m \u001b[0;34m\u001b[0m\u001b[0m\n\u001b[0;32m--> 391\u001b[0;31m         \u001b[0mx\u001b[0m\u001b[0;34m,\u001b[0m \u001b[0my\u001b[0m \u001b[0;34m=\u001b[0m \u001b[0mself\u001b[0m\u001b[0;34m.\u001b[0m\u001b[0m_xy_from_xy\u001b[0m\u001b[0;34m(\u001b[0m\u001b[0mx\u001b[0m\u001b[0;34m,\u001b[0m \u001b[0my\u001b[0m\u001b[0;34m)\u001b[0m\u001b[0;34m\u001b[0m\u001b[0;34m\u001b[0m\u001b[0m\n\u001b[0m\u001b[1;32m    392\u001b[0m \u001b[0;34m\u001b[0m\u001b[0m\n\u001b[1;32m    393\u001b[0m         \u001b[0;32mif\u001b[0m \u001b[0mself\u001b[0m\u001b[0;34m.\u001b[0m\u001b[0mcommand\u001b[0m \u001b[0;34m==\u001b[0m \u001b[0;34m'plot'\u001b[0m\u001b[0;34m:\u001b[0m\u001b[0;34m\u001b[0m\u001b[0;34m\u001b[0m\u001b[0m\n",
      "\u001b[0;32m/usr/lib/python3.8/site-packages/matplotlib/axes/_base.py\u001b[0m in \u001b[0;36m_xy_from_xy\u001b[0;34m(self, x, y)\u001b[0m\n\u001b[1;32m    267\u001b[0m         \u001b[0my\u001b[0m \u001b[0;34m=\u001b[0m \u001b[0m_check_1d\u001b[0m\u001b[0;34m(\u001b[0m\u001b[0my\u001b[0m\u001b[0;34m)\u001b[0m\u001b[0;34m\u001b[0m\u001b[0;34m\u001b[0m\u001b[0m\n\u001b[1;32m    268\u001b[0m         \u001b[0;32mif\u001b[0m \u001b[0mx\u001b[0m\u001b[0;34m.\u001b[0m\u001b[0mshape\u001b[0m\u001b[0;34m[\u001b[0m\u001b[0;36m0\u001b[0m\u001b[0;34m]\u001b[0m \u001b[0;34m!=\u001b[0m \u001b[0my\u001b[0m\u001b[0;34m.\u001b[0m\u001b[0mshape\u001b[0m\u001b[0;34m[\u001b[0m\u001b[0;36m0\u001b[0m\u001b[0;34m]\u001b[0m\u001b[0;34m:\u001b[0m\u001b[0;34m\u001b[0m\u001b[0;34m\u001b[0m\u001b[0m\n\u001b[0;32m--> 269\u001b[0;31m             raise ValueError(\"x and y must have same first dimension, but \"\n\u001b[0m\u001b[1;32m    270\u001b[0m                              \"have shapes {} and {}\".format(x.shape, y.shape))\n\u001b[1;32m    271\u001b[0m         \u001b[0;32mif\u001b[0m \u001b[0mx\u001b[0m\u001b[0;34m.\u001b[0m\u001b[0mndim\u001b[0m \u001b[0;34m>\u001b[0m \u001b[0;36m2\u001b[0m \u001b[0;32mor\u001b[0m \u001b[0my\u001b[0m\u001b[0;34m.\u001b[0m\u001b[0mndim\u001b[0m \u001b[0;34m>\u001b[0m \u001b[0;36m2\u001b[0m\u001b[0;34m:\u001b[0m\u001b[0;34m\u001b[0m\u001b[0;34m\u001b[0m\u001b[0m\n",
      "\u001b[0;31mValueError\u001b[0m: x and y must have same first dimension, but have shapes (19,) and (79,)"
     ]
    },
    {
     "data": {
      "image/png": "[encoded data removed]",
      "text/plain": [
       "<Figure size 1080x360 with 2 Axes>"
      ]
     },
     "metadata": {
      "needs_background": "light"
     },
     "output_type": "display_data"
    }
   ],
   "source": [
    "fig, (ax1,ax2) = plt.subplots(ncols=2, figsize=(15,5))\n",
    "\n",
    "diagn = new_diagn(ss, params_rio_base)\n",
    "ax1.plot(days, diagn,        'o:', label='Modelo')\n",
    "ax1.plot(days, dados_Rio[0], 'x-', label='Observado')\n",
    "ax1.xaxis.set_major_formatter(mdates.DateFormatter('%d/%m'))\n",
    "ax1.grid()\n",
    "ax1.legend()\n",
    "ax1.set_title('Novos diagnósticos')\n",
    "\n",
    "deaths = new_deaths(ss, params_rio_base)\n",
    "ax2.plot(days, deaths,       'o:', label='Modelo')\n",
    "ax2.plot(days, dados_Rio[1], 'x-', label='Observado')\n",
    "ax2.xaxis.set_major_formatter(mdates.DateFormatter('%d/%m'))\n",
    "ax2.grid()\n",
    "ax2.legend()\n",
    "ax2.set_title('Novos óbitos');"
   ]
  },
  {
   "cell_type": "markdown",
   "metadata": {},
   "source": [
    "## Comentário"
   ]
  },
  {
   "cell_type": "markdown",
   "metadata": {},
   "source": [
    "Podemos observar que o modelo utilizado, com as condições iniciais e parâmtros adaptados para a cidade do Rio de Janeiro, se mostra bastante próximo à realidade, acompanhando a tendência de crescimento das curvas de contágio observados ao longo dos 12 dias entre 29 de Março e 10 de Abril.\n",
    "\n",
    "Isso nos reassegura quanto à validade do modelo, se não em seus valores exatos,\n",
    "ao menos ao capturar o comportamento da evolução da COVID-19 na cidade do Rio de Janeiro."
   ]
  },
  {
   "cell_type": "markdown",
   "metadata": {},
   "source": [
    "# Otimizando parâmetros\n",
    "\n",
    "O código abaixo permite otimizar (via mínimos quadrados) os parâmetros e condições iniciais,\n",
    "para se ajustar melhor às curvas de diagnóstico.\n",
    "Os vetores de índices `idx_par` e `idx_ci` indicam os índices no vetor correspondente\n",
    "para os parâmetros que permitimos mudar.\n",
    "\n",
    "Além disso, os parâmetros foram \"normalizados\" manualmente para que estejam,\n",
    "aproximadamente, na mesma escala."
   ]
  },
  {
   "cell_type": "markdown",
   "metadata": {},
   "source": [
    "## Código"
   ]
  },
  {
   "cell_type": "code",
   "execution_count": null,
   "metadata": {},
   "outputs": [],
   "source": [
    "import numpy as np\n",
    "from scipy.optimize import minimize"
   ]
  },
  {
   "cell_type": "code",
   "execution_count": null,
   "metadata": {},
   "outputs": [],
   "source": [
    "# que mudam :  beta,  phi,                            epsA,         epsI,                               \n",
    "# Parâmetros:  beta,  phi,   p, lambda, sigma, zeta,  epsA, gammaA, epsI, gammaI, deathI, gammaD, deathD\n",
    "params_base = [1e-7, 1/10, 1/4,    1/6,   1/7, 0.94, 1/100, 0.0996, 1/30, 0.0766, 0.0026, 0.0843, 0.0017]\n",
    "idx_par     = [0, 1, 6, 8]\n",
    "\n",
    "# que mudam                                expostos      assint      infect\n",
    "CI_base = [sucetiveis_Rio, quarentena_Rio, expostos_Rio, assint_Rio, infect_Rio, diagn_Rio, recup_Rio]\n",
    "idx_ci  = [2,3,4]\n",
    "\n",
    "def subst(base, idx, mud):\n",
    "    new = base[:]\n",
    "    for i,p in zip(idx, mud):\n",
    "        new[i] = p\n",
    "    return new\n",
    "\n",
    "def rel_norm(a,b, p=2):\n",
    "    \"\"\"Norma relativa, aproximando |a/b - 1|\n",
    "    \n",
    "    Esta medida de erro permite considerar um ruído das observações de `a` proporcional à sua tendência.\"\"\"\n",
    "    return np.linalg.norm(1 - a/(1+b), ord=p)\n",
    "\n",
    "def obj_f(x):\n",
    "    params_mud, CI_mud = x[:4]*[1e-6,1,1,1], x[4:]*1e4\n",
    "    params = subst(params_base, idx_par, params_mud)\n",
    "    # Para só ajustar as condições iniciais, use\n",
    "    # params = params_base[:]\n",
    "    CI     = subst(CI_base,     idx_ci,  CI_mud)\n",
    "    # Para só ajustar os parâmetros, use\n",
    "    # CI = CI_base[:]\n",
    "\n",
    "    f = lambda t,v: F(t,v, *params)\n",
    "    results_base = solve_ivp(f, (1,T_fim), CI, t_eval=range(1,T_fim+1))\n",
    "    nc = new_diagn(results_base.y, params)\n",
    "    nd = new_deaths(results_base.y, params)\n",
    "    # Mínimos quadrados relativos\n",
    "    # return rel_norm(dados_Rio[0], nc) + rel_norm(dados_Rio[1], nd)\n",
    "    # Mínimos quadrados\n",
    "    return sum((nc - dados_Rio[0])**2) + 12**2 * sum((nd - dados_Rio[1])**2)"
   ]
  },
  {
   "cell_type": "markdown",
   "metadata": {},
   "source": [
    "## Valores iniciais e otimização"
   ]
  },
  {
   "cell_type": "code",
   "execution_count": null,
   "metadata": {},
   "outputs": [],
   "source": [
    "pars0 = np.array([0.1, 1/10, 1/100, 1/30])\n",
    "cis0  = np.array([expostos_Rio, assint_Rio, infect_Rio])/1e4\n",
    "x0    = np.concatenate((pars0, cis0))\n",
    "obj_f(x0)"
   ]
  },
  {
   "cell_type": "code",
   "execution_count": null,
   "metadata": {},
   "outputs": [],
   "source": [
    "bounds = [(0.01,1), (0.01,1), (0,1), (0,1)] + [(0,2)]*3"
   ]
  },
  {
   "cell_type": "code",
   "execution_count": null,
   "metadata": {},
   "outputs": [],
   "source": [
    "opt_res = minimize(obj_f, x0, bounds=bounds)\n",
    "opt_res"
   ]
  },
  {
   "cell_type": "code",
   "execution_count": null,
   "metadata": {},
   "outputs": [],
   "source": [
    "opt_res.x"
   ]
  },
  {
   "cell_type": "code",
   "execution_count": null,
   "metadata": {},
   "outputs": [],
   "source": [
    "x0"
   ]
  },
  {
   "cell_type": "markdown",
   "metadata": {},
   "source": [
    "### Comentário\n",
    "\n",
    "Este resultado é pouco satisfatório, pois alguns parâmetros foram forçados aos limites,\n",
    "provavelmente tomando valores irreais:\n",
    "- a taxa relativa de contágio dos assintomáticos (0.01)\n",
    "- a população original assintomática (2) e sintomática (0)\n",
    "\n",
    "Talvez haja um conjunto de parâmetros similar, porém em outra região,\n",
    "que apresente o mesmo comportamento..."
   ]
  },
  {
   "cell_type": "markdown",
   "metadata": {},
   "source": [
    "## Resultados para estes novos parâmetros"
   ]
  },
  {
   "cell_type": "code",
   "execution_count": null,
   "metadata": {},
   "outputs": [],
   "source": [
    "pars_opt = subst(params_base, idx_par, opt_res.x[:4]*[1e-6,1,1,1])\n",
    "CI_opt   = subst(CI_base,     idx_ci,  opt_res.x[4:]*1e4)\n",
    "\n",
    "f_rio_opt = lambda t,v: F(t,v, *pars_opt)\n",
    "results_opt = solve_ivp(f_rio_opt, (1,T_fim), CI_opt, t_eval=np.arange(1,T_fim+1))"
   ]
  },
  {
   "cell_type": "code",
   "execution_count": null,
   "metadata": {},
   "outputs": [],
   "source": [
    "#CI_base = [sucetiveis_Rio, quarentena_Rio, expostos_Rio, assint_Rio, infect_Rio, diagn_Rio, recup_Rio]\n",
    "print(CI_opt)"
   ]
  },
  {
   "cell_type": "code",
   "execution_count": null,
   "metadata": {},
   "outputs": [],
   "source": [
    "CI_base"
   ]
  },
  {
   "cell_type": "markdown",
   "metadata": {},
   "source": [
    "### Comportamento da curva\n",
    "\n",
    "De fato, estes parâmetros / condições iniciais parecem incorporar melhor uma aceleração da curva."
   ]
  },
  {
   "cell_type": "code",
   "execution_count": null,
   "metadata": {},
   "outputs": [],
   "source": [
    "fig, (ax1,ax2) = plt.subplots(ncols=2, figsize=(15,5))\n",
    "\n",
    "diagn_ini = new_diagn(results_base.y, params_rio_base)\n",
    "diagn_opt = new_diagn(results_opt.y,  pars_opt)\n",
    "ax1.plot(days, diagn_ini,    'o:', label='Modelo Ini')\n",
    "ax1.plot(days, dados_Rio[0], 'x-', label='Observado')\n",
    "ax1.plot(days, diagn_opt,    'o:', label='Modelo Recalc')\n",
    "ax1.xaxis.set_major_locator(mdates.DayLocator(interval=4))\n",
    "ax1.xaxis.set_major_formatter(mdates.DateFormatter('%d/%m'))\n",
    "ax1.grid()\n",
    "ax1.legend()\n",
    "ax1.set_title('Novos diagnósticos')\n",
    "\n",
    "deaths_ini = new_deaths(results_base.y, params_rio_base)\n",
    "deaths_opt = new_deaths(results_opt.y,  params_rio_base)\n",
    "ax2.plot(days, deaths_ini,   'o:', label='Modelo Ini')\n",
    "ax2.plot(days, dados_Rio[1], 'x-', label='Observado')\n",
    "ax2.plot(days, deaths_opt,   'o:', label='Modelo Recalc')\n",
    "ax2.xaxis.set_major_locator(mdates.DayLocator(interval=4))\n",
    "ax2.xaxis.set_major_formatter(mdates.DateFormatter('%d/%m'))\n",
    "ax2.grid()\n",
    "ax2.legend()\n",
    "ax2.set_title('Novos óbitos');"
   ]
  },
  {
   "cell_type": "markdown",
   "metadata": {},
   "source": [
    "### Segundo resultado: estimativa da taxa de subnotificação"
   ]
  },
  {
   "cell_type": "code",
   "execution_count": null,
   "metadata": {},
   "outputs": [],
   "source": [
    "sum(CI_opt[3:5])/CI_base[5]"
   ]
  },
  {
   "cell_type": "code",
   "execution_count": null,
   "metadata": {},
   "outputs": [],
   "source": [
    "plt.plot(days, np.sum(results_opt.y[3:5,:], axis=0)/results_opt.y[5,:])\n",
    "ax = plt.gca()\n",
    "ax.xaxis.set_major_locator(mdates.DayLocator(interval=4))\n",
    "ax.xaxis.set_major_formatter(mdates.DateFormatter('%d/%m'))\n",
    "plt.grid()\n",
    "plt.title('Estimativa da taxa de subnotificação');"
   ]
  },
  {
   "cell_type": "code",
   "execution_count": null,
   "metadata": {},
   "outputs": [],
   "source": [
    "h = [b, c]"
   ]
  },
  {
   "cell_type": "code",
   "execution_count": null,
   "metadata": {},
   "outputs": [],
   "source": []
  }
 ],
 "metadata": {
  "kernelspec": {
   "display_name": "Python 3",
   "language": "python",
   "name": "python3"
  },
  "language_info": {
   "codemirror_mode": {
    "name": "ipython",
    "version": 3
   },
   "file_extension": ".py",
   "mimetype": "text/x-python",
   "name": "python",
   "nbconvert_exporter": "python",
   "pygments_lexer": "ipython3",
   "version": "3.8.2"
  },
  "toc": {
   "base_numbering": 1,
   "nav_menu": {},
   "number_sections": true,
   "sideBar": true,
   "skip_h1_title": false,
   "title_cell": "Table of Contents",
   "title_sidebar": "Contents",
   "toc_cell": true,
   "toc_position": {
    "height": "623.333px",
    "left": "25px",
    "top": "110.633px",
    "width": "319.667px"
   },
   "toc_section_display": true,
   "toc_window_display": true
  }
 },
 "nbformat": 4,
 "nbformat_minor": 4
}
