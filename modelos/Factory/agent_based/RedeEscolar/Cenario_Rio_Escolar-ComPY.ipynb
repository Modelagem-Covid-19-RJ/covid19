{
 "cells": [
  {
   "cell_type": "markdown",
   "metadata": {
    "slideshow": {
     "slide_type": "skip"
    }
   },
   "source": [
    "<!--HEADER-->\n",
    "[*Notas sobre modelagem da epidemia de Covid-19*](https://github.com/rmsrosa/modcovid19) / [*IM-UFRJ*](https://www.im.ufrj.br)."
   ]
  },
  {
   "cell_type": "markdown",
   "metadata": {
    "slideshow": {
     "slide_type": "slide"
    }
   },
   "source": [
    "# O cenário da cidade do Rio de Janeiro: rede escolar\n",
    "\n",
    "- Continuando a criação de cenários que sejam **múltiplos** do cenário `Pop350` visto anteriormente.\n",
    "\n",
    "- Neste segundo caderno da série, ..."
   ]
  },
  {
   "cell_type": "code",
   "execution_count": 1,
   "metadata": {
    "slideshow": {
     "slide_type": "skip"
    }
   },
   "outputs": [],
   "source": [
    "import datetime # date and time tools\n",
    "\n",
    "import os, sys\n",
    "\n",
    "import math\n",
    "\n",
    "import random\n",
    "\n",
    "import numpy as np\n",
    "from scipy import stats\n",
    "from scipy.interpolate import interp2d\n",
    "\n",
    "import networkx as nx\n",
    "\n",
    "import matplotlib.pyplot as plt\n",
    "import seaborn as sns\n",
    "\n",
    "import io, base64\n",
    "from IPython.display import Image, HTML\n",
    "\n",
    "import pandas as pd\n",
    "\n",
    "import rede_escolar"
   ]
  },
  {
   "cell_type": "code",
   "execution_count": 2,
   "metadata": {
    "slideshow": {
     "slide_type": "skip"
    }
   },
   "outputs": [],
   "source": [
    "sys.path.insert(0, os.path.abspath(os.path.join(os.getcwd(), '../../../..')))\n",
    "import episiming"
   ]
  },
  {
   "cell_type": "code",
   "execution_count": 3,
   "metadata": {
    "slideshow": {
     "slide_type": "skip"
    }
   },
   "outputs": [],
   "source": [
    "sns.set_style(\"darkgrid\")"
   ]
  },
  {
   "cell_type": "code",
   "execution_count": 4,
   "metadata": {
    "slideshow": {
     "slide_type": "skip"
    }
   },
   "outputs": [
    {
     "name": "stdout",
     "output_type": "stream",
     "text": [
      "Atualização mais recente do kernel: 12/Jul/2020\n"
     ]
    }
   ],
   "source": [
    "dt_string = datetime.datetime.now().strftime(\"%d/%b/%Y\")\n",
    "print(f\"Atualização mais recente do kernel: {dt_string}\")"
   ]
  },
  {
   "cell_type": "markdown",
   "metadata": {
    "slideshow": {
     "slide_type": "subslide"
    }
   },
   "source": [
    "## Distribuição populacional da cidade do Rio de Janeiro\n",
    "\n",
    "Primeiramente, conforme feito anteriormente:\n",
    "\n",
    "- posicionamos as residências;\n",
    "\n",
    "- distribuímos os indivíduos em suas residências; e \n",
    "\n",
    "- posicionamos os indivíduos em torno de suas residências."
   ]
  },
  {
   "cell_type": "markdown",
   "metadata": {
    "slideshow": {
     "slide_type": "slide"
    }
   },
   "source": [
    "### Carregando os dados\n",
    "\n",
    "Carregamos os dados populacionais por quilômetro quadrado da cidade do Rio de Janeiro obtidos do [Landscan](https://landscan.ornl.gov), mudando para 0 o valor das células com -1."
   ]
  },
  {
   "cell_type": "code",
   "execution_count": 5,
   "metadata": {
    "slideshow": {
     "slide_type": "fragment"
    }
   },
   "outputs": [],
   "source": [
    "landscan_rio = np.load('../../../../dados/RJ/cidade_rj/dados_estatisticos/LandScan.npy').astype(int)\n",
    "landscan_rio = np.maximum(landscan_rio, 0)"
   ]
  },
  {
   "cell_type": "markdown",
   "metadata": {},
   "source": [
    "Carregamos os dados de escolas por quilômetro quadrado da cidade do Rio de Janeiro, obtidos do [IPP/Data Rio](https://www.data.rio/datasets/escolas-municipais)"
   ]
  },
  {
   "cell_type": "code",
   "execution_count": 6,
   "metadata": {},
   "outputs": [],
   "source": [
    "escolas_municipais = np.load('../../../../dados/RJ/cidade_rj/dados_estatisticos/Municipais.npy').astype(int)"
   ]
  },
  {
   "cell_type": "markdown",
   "metadata": {
    "slideshow": {
     "slide_type": "slide"
    }
   },
   "source": [
    "### Visualização em escala logarítmica\n",
    "\n",
    "Visualizamos \n",
    "\n",
    "$$ ln( 1 + \\textrm{população})\n",
    "$$"
   ]
  },
  {
   "cell_type": "code",
   "execution_count": 7,
   "metadata": {
    "slideshow": {
     "slide_type": "fragment"
    }
   },
   "outputs": [
    {
     "data": {
      "image/png": "[encoded data removed]",
      "text/plain": [
       "<Figure size 1152x432 with 1 Axes>"
      ]
     },
     "metadata": {},
     "output_type": "display_data"
    }
   ],
   "source": [
    "plt.figure(figsize=(16,6))\n",
    "plt.imshow(np.log(1 + landscan_rio), cmap='Blues', interpolation='none')\n",
    "plt.grid(False)\n",
    "plt.title(f'Distribuição da população de {int(landscan_rio.sum())} indivíduos', fontsize=16)\n",
    "plt.show()"
   ]
  },
  {
   "cell_type": "code",
   "execution_count": 8,
   "metadata": {},
   "outputs": [
    {
     "ename": "NameError",
     "evalue": "name 'refina_matriz' is not defined",
     "output_type": "error",
     "traceback": [
      "\u001b[0;31m---------------------------------------------------------------------------\u001b[0m",
      "\u001b[0;31mNameError\u001b[0m                                 Traceback (most recent call last)",
      "\u001b[0;32m<ipython-input-8-69c1da20da9e>\u001b[0m in \u001b[0;36m<module>\u001b[0;34m\u001b[0m\n\u001b[1;32m      1\u001b[0m \u001b[0mplt\u001b[0m\u001b[0;34m.\u001b[0m\u001b[0mfigure\u001b[0m\u001b[0;34m(\u001b[0m\u001b[0mfigsize\u001b[0m\u001b[0;34m=\u001b[0m\u001b[0;34m(\u001b[0m\u001b[0;36m16\u001b[0m\u001b[0;34m,\u001b[0m\u001b[0;36m6\u001b[0m\u001b[0;34m)\u001b[0m\u001b[0;34m)\u001b[0m\u001b[0;34m\u001b[0m\u001b[0;34m\u001b[0m\u001b[0m\n\u001b[0;32m----> 2\u001b[0;31m \u001b[0mplt\u001b[0m\u001b[0;34m.\u001b[0m\u001b[0mimshow\u001b[0m\u001b[0;34m(\u001b[0m\u001b[0mnp\u001b[0m\u001b[0;34m.\u001b[0m\u001b[0mlog\u001b[0m\u001b[0;34m(\u001b[0m\u001b[0;36m1\u001b[0m \u001b[0;34m+\u001b[0m \u001b[0mrefina_matriz\u001b[0m\u001b[0;34m(\u001b[0m\u001b[0mlandscan_rio\u001b[0m\u001b[0;34m,\u001b[0m\u001b[0mbairros_fino\u001b[0m\u001b[0;34m)\u001b[0m\u001b[0;34m[\u001b[0m\u001b[0;36m0\u001b[0m\u001b[0;34m]\u001b[0m\u001b[0;34m)\u001b[0m\u001b[0;34m,\u001b[0m \u001b[0mcmap\u001b[0m\u001b[0;34m=\u001b[0m\u001b[0;34m'Blues'\u001b[0m\u001b[0;34m,\u001b[0m \u001b[0minterpolation\u001b[0m\u001b[0;34m=\u001b[0m\u001b[0;34m'none'\u001b[0m\u001b[0;34m)\u001b[0m\u001b[0;34m\u001b[0m\u001b[0;34m\u001b[0m\u001b[0m\n\u001b[0m\u001b[1;32m      3\u001b[0m \u001b[0mplt\u001b[0m\u001b[0;34m.\u001b[0m\u001b[0mgrid\u001b[0m\u001b[0;34m(\u001b[0m\u001b[0;32mFalse\u001b[0m\u001b[0;34m)\u001b[0m\u001b[0;34m\u001b[0m\u001b[0;34m\u001b[0m\u001b[0m\n\u001b[1;32m      4\u001b[0m \u001b[0mplt\u001b[0m\u001b[0;34m.\u001b[0m\u001b[0mtitle\u001b[0m\u001b[0;34m(\u001b[0m\u001b[0;34mf'Distribuição da população de {int(landscan_rio.sum())} indivíduos'\u001b[0m\u001b[0;34m,\u001b[0m \u001b[0mfontsize\u001b[0m\u001b[0;34m=\u001b[0m\u001b[0;36m16\u001b[0m\u001b[0;34m)\u001b[0m\u001b[0;34m\u001b[0m\u001b[0;34m\u001b[0m\u001b[0m\n\u001b[1;32m      5\u001b[0m \u001b[0mplt\u001b[0m\u001b[0;34m.\u001b[0m\u001b[0mshow\u001b[0m\u001b[0;34m(\u001b[0m\u001b[0;34m)\u001b[0m\u001b[0;34m\u001b[0m\u001b[0;34m\u001b[0m\u001b[0m\n",
      "\u001b[0;31mNameError\u001b[0m: name 'refina_matriz' is not defined"
     ]
    },
    {
     "data": {
      "text/plain": [
       "<Figure size 1152x432 with 0 Axes>"
      ]
     },
     "metadata": {},
     "output_type": "display_data"
    }
   ],
   "source": [
    "plt.figure(figsize=(16,6))\n",
    "plt.imshow(np.log(1 + refina_matriz(landscan_rio,bairros_fino)[0]), cmap='Blues', interpolation='none')\n",
    "plt.grid(False)\n",
    "plt.title(f'Distribuição da população de {int(landscan_rio.sum())} indivíduos', fontsize=16)\n",
    "plt.show()"
   ]
  },
  {
   "cell_type": "code",
   "execution_count": null,
   "metadata": {},
   "outputs": [],
   "source": [
    "bairros_fino = np.load('geoloc_Bairros_MRJ_Fino.npy')"
   ]
  },
  {
   "cell_type": "code",
   "execution_count": null,
   "metadata": {},
   "outputs": [],
   "source": [
    "plt.figure(figsize=(16,6))\n",
    "plt.imshow(bairros_fino, interpolation='none')\n",
    "plt.grid(False)\n",
    "plt.title(f'Mapa de Bairros do Rio de Janeiro', fontsize=16)\n",
    "plt.show()"
   ]
  },
  {
   "cell_type": "code",
   "execution_count": null,
   "metadata": {},
   "outputs": [],
   "source": [
    "def refina_matriz(matriz, filtro):\n",
    "    '''\n",
    "    Refina uma matriz via interpolação linear e uma matriz fina como filtro.  \n",
    "    '''\n",
    "    matriz_fina = np.zeros_like(filtro)\n",
    "    loc_sobra = list() \n",
    "    \n",
    "    tx_refinamento_x = int(filtro.shape[1]/matriz.shape[1])\n",
    "    tx_refinamento_y = int(filtro.shape[0]/matriz.shape[0])\n",
    "    xs = list(range(matriz.shape[1]))\n",
    "    ys = list(range(matriz.shape[0]))\n",
    "\n",
    "    xs_fino = np.arange(0, matriz.shape[1], 1/tx_refinamento_x)\n",
    "    ys_fino = np.arange(0, matriz.shape[0], 1/tx_refinamento_y)\n",
    "\n",
    "    f = interp2d(xs, ys, matriz, kind='linear')\n",
    "    matriz_interp = f(xs_fino, ys_fino)*np.minimum(filtro,1)\n",
    "\n",
    "    for j in xs:\n",
    "        for i in ys:\n",
    "            if matriz[i,j]:\n",
    "                matriz_interp_local \\\n",
    "                    = matriz_interp[i*tx_refinamento_y:(i+1)*tx_refinamento_y,\n",
    "                                    j*tx_refinamento_x:(j+1)*tx_refinamento_x]\n",
    "                if matriz_interp_local.sum() == 0:\n",
    "                    loc_sobra.append([i,j])\n",
    "                else:\n",
    "                    distrib = np.floor(matriz[i,j]*matriz_interp_local\n",
    "                                           / matriz_interp_local.sum()\n",
    "                                      ).astype('int')\n",
    "                    sobra = matriz[i,j] - distrib.sum()\n",
    "                    sobra_posicionamento \\\n",
    "                        = np.random.choice(tx_refinamento_x*tx_refinamento_y,\n",
    "                                           int(sobra),\n",
    "                                           replace=False,\n",
    "                                           p=(matriz_interp_local\n",
    "                                              /matriz_interp_local.sum()\n",
    "                                             ).flatten()\n",
    "                                          )\n",
    "                    for loc in sobra_posicionamento:\n",
    "                        distrib[loc // tx_refinamento_x,\n",
    "                                loc % tx_refinamento_x] += 1\n",
    "                    matriz_fina[i*tx_refinamento_y:(i+1)*tx_refinamento_y,\n",
    "                                j*tx_refinamento_x:(j+1)*tx_refinamento_x] \\\n",
    "                        = distrib\n",
    "\n",
    "    matriz_sobra = np.zeros_like(matriz)\n",
    "    for ij in loc_sobra:\n",
    "        matriz_sobra[ij[0], ij[1]] = matriz[ij[0], ij[1]]\n",
    "    \n",
    "    return matriz_fina, matriz_sobra"
   ]
  },
  {
   "cell_type": "markdown",
   "metadata": {},
   "source": [
    "Carregando as matrizes das escolas"
   ]
  },
  {
   "cell_type": "code",
   "execution_count": null,
   "metadata": {},
   "outputs": [],
   "source": [
    "modalidades = [2,3,5,6,7,15,21,30,35,42,105,210]\n",
    "escolas_pub = [np.load(f'mtrx_escolas/escolas_publicas_{m}.npy') for m in modalidades]\n",
    "escolas_prv = [np.load(f'mtrx_escolas/escolas_privadas_{m}.npy') for m in modalidades]"
   ]
  },
  {
   "cell_type": "markdown",
   "metadata": {},
   "source": [
    "Fazendo a interpolação para o refinamento da malha"
   ]
  },
  {
   "cell_type": "code",
   "execution_count": null,
   "metadata": {},
   "outputs": [],
   "source": [
    "mtrx_escolas_pub = np.array([refina_matriz(i, bairros_fino)[0] for i in escolas_pub])\n",
    "mtrx_escolas_prv = np.array([refina_matriz(i, bairros_fino)[0] for i in escolas_prv])"
   ]
  },
  {
   "cell_type": "code",
   "execution_count": null,
   "metadata": {},
   "outputs": [],
   "source": [
    "plt.figure(figsize=(16,6))\n",
    "plt.imshow(np.log(1 + escolas_pub[0]), cmap='viridis', interpolation='none')\n",
    "plt.grid(False)\n",
    "plt.title(f'Distribuição das {int(mtrx_escolas_pub[0].sum())} escolas de modalidade {modalidades[0]} públicas', fontsize=16)\n",
    "plt.show()"
   ]
  },
  {
   "cell_type": "code",
   "execution_count": null,
   "metadata": {},
   "outputs": [],
   "source": [
    "plt.figure(figsize=(16,6))\n",
    "plt.imshow(np.log(1 + mtrx_escolas_pub[0]), cmap='viridis', interpolation='none')\n",
    "plt.grid(False)\n",
    "plt.title(f'Distribuição das {int(mtrx_escolas_pub[0].sum())} escolas de modalidade {modalidades[0]} públicas', fontsize=16)\n",
    "plt.show()"
   ]
  },
  {
   "cell_type": "markdown",
   "metadata": {
    "slideshow": {
     "slide_type": "slide"
    }
   },
   "source": [
    "## Rede residencial\n",
    "\n",
    "Montamos a rede residencial como antes.\n",
    "\n",
    "O importante para a montagem da rede de empresas não é a rede residencial em si, apenas a localização dos indivíduos feita na construção da rede residencial."
   ]
  },
  {
   "cell_type": "markdown",
   "metadata": {
    "slideshow": {
     "slide_type": "slide"
    }
   },
   "source": [
    "### Reduzindo a população\n",
    "\n",
    "Com o objetivo de realizar testes mais rápidos, com populações menores, dividimos a população de cada bloco por um determinado fator. \n",
    "\n",
    "Essa divisão nos dá números em ponto flutuante, que então truncamos para a sua parte inteira."
   ]
  },
  {
   "cell_type": "code",
   "execution_count": null,
   "metadata": {
    "slideshow": {
     "slide_type": "fragment"
    }
   },
   "outputs": [],
   "source": [
    "censo_residencial = np.array([.21, .26, .20, .17, .08, .04, .02, 0.02])\n",
    "pop_por_blocos = (landscan_rio/100).astype(int)"
   ]
  },
  {
   "cell_type": "code",
   "execution_count": null,
   "metadata": {},
   "outputs": [],
   "source": [
    "plt.figure(figsize=(16,6))\n",
    "plt.imshow(np.log(1 + pop_por_blocos), cmap='coolwarm', interpolation='none')\n",
    "#plt.colorbar()\n",
    "plt.grid(False)\n",
    "plt.title(f'Distribuição da população de {pop_por_blocos.sum()} indivíduos', fontsize=16)\n",
    "plt.show()"
   ]
  },
  {
   "cell_type": "markdown",
   "metadata": {
    "slideshow": {
     "slide_type": "slide"
    }
   },
   "source": [
    "### Distribuindo e alocando os indivíduos e as suas residências"
   ]
  },
  {
   "cell_type": "code",
   "execution_count": null,
   "metadata": {
    "slideshow": {
     "slide_type": "fragment"
    }
   },
   "outputs": [],
   "source": [
    "%%time\n",
    "pos_residencias, pos_individuos, res_individuos, pop_blocos_indices \\\n",
    "    = episiming.cenarios.aloca_residencias_e_individuos(pop_por_blocos, censo_residencial)"
   ]
  },
  {
   "cell_type": "code",
   "execution_count": null,
   "metadata": {},
   "outputs": [],
   "source": [
    "pop_blocos_indices[-1]"
   ]
  },
  {
   "cell_type": "markdown",
   "metadata": {
    "slideshow": {
     "slide_type": "slide"
    }
   },
   "source": [
    "### Gerando o grafo da rede residencial"
   ]
  },
  {
   "cell_type": "code",
   "execution_count": null,
   "metadata": {
    "slideshow": {
     "slide_type": "fragment"
    }
   },
   "outputs": [],
   "source": [
    "%%time\n",
    "attrib_pos_individuos = {j: pos_individuos[j] for j in range(len(pos_individuos))}\n",
    "\n",
    "G_r = nx.random_geometric_graph(len(pop_por_blocos), 0, pos=attrib_pos_individuos)\n",
    "\n",
    "for individuos in res_individuos:\n",
    "    if len(individuos) > 1:\n",
    "        G_r.add_edges_from([(i,j) for i in individuos for j in individuos if i < j])"
   ]
  },
  {
   "cell_type": "markdown",
   "metadata": {
    "slideshow": {
     "slide_type": "slide"
    }
   },
   "source": [
    "### Viualização"
   ]
  },
  {
   "cell_type": "code",
   "execution_count": null,
   "metadata": {
    "slideshow": {
     "slide_type": "fragment"
    }
   },
   "outputs": [],
   "source": [
    "# %%time\n",
    "# plt.figure(figsize=(12,6))\n",
    "# nx.draw(G_r, pos=attrib_pos_individuos, node_size=1, alpha=0.5)\n",
    "# plt.show()"
   ]
  },
  {
   "cell_type": "markdown",
   "metadata": {},
   "source": [
    "## Rede escolar\n",
    "\n",
    "Na construção da rede escolar, a ideia é fazer os seguintes passos:\n",
    "\n",
    "- Temos as distribuições geolocalizadas das escolas.\n",
    "\n",
    "- A partir do censo de idade populacional, determinar a parte da população a ser alocada nas escolas\n",
    "\n",
    "- Para alocar a população nas escolas: Calculamos a distância de cada individuo para todas as escolas, e tomamos as 3 escolas mais próximas. Feito isso é selecionao uma das 3 escolas de maneira aleatória\n",
    "\n",
    "- Para o cenário múltiplo de `Pop350`, fazemos uma redução proporcional no número de escolas com a função `random.choices`"
   ]
  },
  {
   "cell_type": "markdown",
   "metadata": {},
   "source": [
    "### Redução no número de escolas\n",
    "\n",
    "Para acompanhar a redução na população, fazemos uma redução proporcional no número de escolas"
   ]
  },
  {
   "cell_type": "code",
   "execution_count": null,
   "metadata": {},
   "outputs": [],
   "source": [
    "plt.figure(figsize=(16,6))\n",
    "plt.imshow(escolas_municipais, cmap='Blues', interpolation='none')\n",
    "plt.colorbar()\n",
    "plt.grid(False)\n",
    "plt.title(f'Distribuição das {escolas_municipais.sum()} escolas', fontsize=16)\n",
    "plt.show()"
   ]
  },
  {
   "cell_type": "code",
   "execution_count": null,
   "metadata": {},
   "outputs": [],
   "source": [
    "tx_reducao = 100\n",
    "esc_escolha, dist_escolas = rede_escolar.distribui_escolas(tx_reducao, escolas_municipais)"
   ]
  },
  {
   "cell_type": "code",
   "execution_count": null,
   "metadata": {},
   "outputs": [],
   "source": [
    "escolas = mtrx_escolas_pub + mtrx_escolas_prv"
   ]
  },
  {
   "cell_type": "code",
   "execution_count": null,
   "metadata": {},
   "outputs": [],
   "source": [
    "np.sum(escolas)"
   ]
  },
  {
   "cell_type": "code",
   "execution_count": null,
   "metadata": {},
   "outputs": [],
   "source": [
    "\n",
    "\n",
    "def distribui_escolas(tx_reducao, escolas):\n",
    "    total_escolas = np.sum(escolas)\n",
    "    rng_escolas = np.arange(np.prod(np.shape(escolas)))\n",
    "    weight_escolas = (escolas/np.sum(escolas)).flatten()\n",
    "\n",
    "    index_escolas = rng_escolas[weight_escolas != 0]  ## Guardando o indice das escolas\n",
    "    weight_escolas = weight_escolas[weight_escolas != 0]\n",
    "    esc_escolha = np.array(random.choices(index_escolas, weight_escolas, k = np.round(np.sum(escolas/tx_reducao)).astype(int)))\n",
    "\n",
    "    row_escolas = np.floor(esc_escolha/830)\n",
    "    col_escolas = np.mod(esc_escolha,830)\n",
    "    escolas_escolha_por_blocos = np.zeros((390,830))\n",
    "    for i,j in zip(row_escolas,col_escolas):\n",
    "        escolas_escolha_por_blocos[int(i)][j] += 1\n",
    "\n",
    "    return esc_escolha, escolas_escolha_por_blocos"
   ]
  },
  {
   "cell_type": "code",
   "execution_count": null,
   "metadata": {},
   "outputs": [],
   "source": [
    "dist_escola = [distribui_escolas(tx_reducao, escolas[i]) for i in range(12)]"
   ]
  },
  {
   "cell_type": "code",
   "execution_count": null,
   "metadata": {},
   "outputs": [],
   "source": [
    "escolha_escolas_reduzidas = [i[0] for i in dist_escola]"
   ]
  },
  {
   "cell_type": "code",
   "execution_count": null,
   "metadata": {},
   "outputs": [],
   "source": [
    "mtrx_escolas_reduzidas = [i[1] for i in dist_escola]"
   ]
  },
  {
   "cell_type": "code",
   "execution_count": null,
   "metadata": {},
   "outputs": [],
   "source": [
    "escolas[0].flatten()"
   ]
  },
  {
   "cell_type": "code",
   "execution_count": null,
   "metadata": {},
   "outputs": [],
   "source": [
    "plt.figure(figsize=(16,6))\n",
    "plt.imshow(dist_escolas, cmap='Blues', interpolation='none')\n",
    "plt.colorbar()\n",
    "plt.grid(False)\n",
    "plt.title(f'Distribuição das {dist_escolas.sum()} escolas, após redução', fontsize=16)\n",
    "plt.show()"
   ]
  },
  {
   "cell_type": "markdown",
   "metadata": {},
   "source": [
    "## Distribuição das idades"
   ]
  },
  {
   "cell_type": "markdown",
   "metadata": {},
   "source": [
    "## Pirâmide etária do rio de Janeiro\n",
    "\n",
    "- Como as pirâmides etárias do Rio de Janeiro e do Brasil são razoavelmente diferentes, vamos trabalhar com os dados do Rio.\n",
    "\n",
    "- Inicialmente, consideramos a pirâmide populacional da cidade do Rio de Janeiro disponível na [Tabela do IPP/Data Rio](https://www.data.rio/datasets/popula%C3%A7%C3%A3o-residente-por-grupos-de-idade-e-sexo-segundo-as-%C3%A1reas-de-planejamento-ap-e-regi%C3%B5es-administrativas-ra-no-munic%C3%ADpio-do-rio-de-janeiro-2010)"
   ]
  },
  {
   "cell_type": "code",
   "execution_count": null,
   "metadata": {},
   "outputs": [],
   "source": [
    "num_pop = pop_por_blocos.sum()\n",
    "\n",
    "piramide_etaria = pd.read_csv('../../../../dados/RJ/cidade_rj/dados_estatisticos/piramide_etaria_MRJ.csv')\n",
    "idades_grupos = np.array([int(p[0:2]) for p in piramide_etaria.columns[1:]])\n",
    "idades_grupos[-1] = 100\n",
    "idades_fracoes_grupos = piramide_etaria.iloc[0][1:].values/piramide_etaria.iloc[0][0]\n",
    "\n",
    "idade_max = 100\n",
    "pop_idades = episiming.cenarios.gera_idades(67973, 8, res_individuos, idades_grupos, idades_fracoes_grupos, idade_max = 100)"
   ]
  },
  {
   "cell_type": "code",
   "execution_count": null,
   "metadata": {
    "scrolled": true
   },
   "outputs": [],
   "source": [
    "dist_idades_na_escola = rede_escolar.distribuicao_idade(num_pop, censo_residencial, res_individuos, pop_idades, piramide_etaria, idades_grupos, idades_fracoes_grupos, idade_max)"
   ]
  },
  {
   "cell_type": "code",
   "execution_count": null,
   "metadata": {},
   "outputs": [],
   "source": [
    "dist_idades_na_escola"
   ]
  },
  {
   "cell_type": "code",
   "execution_count": null,
   "metadata": {},
   "outputs": [],
   "source": [
    "fracoes_grupos_2 = np.array([0.14666667, 0.40888889, 0.        , 0.        , 0.        ])\n",
    "fracoes_grupos_3 = np.array([0.        , 0.        , 0.25569862, 0.        , 0.        ])\n",
    "fracoes_grupos_5 = np.array([0.        , 0.        , 0.        , 0.23945578, 0.        ])\n",
    "fracoes_grupos_6 = np.array([0.14346756, 0.39997017, 0.45939074, 0.        , 0.        ])\n",
    "fracoes_grupos_7 = np.array([0.        , 0.        , 0.        , 0.        , 0.00673317])\n",
    "fracoes_grupos_15 = np.array([0.        , 0.        , 0.07249391, 0.16689342, 0.        ])\n",
    "fracoes_grupos_21 = np.array([0.        , 0.        , 0.04097482, 0.        , 0.01296758])\n",
    "fracoes_grupos_30 = np.array([0.0303915 , 0.08472782, 0.09731519, 0.22403628, 0.        ])\n",
    "fracoes_grupos_35 = np.array([0.        , 0.        , 0.        , 0.11882086, 0.01633416])\n",
    "fracoes_grupos_42 = np.array([0.00689038, 0.01920955, 0.02206336, 0.        , 0.00698254])\n",
    "fracoes_grupos_105 = np.array([0.        , 0.        , 0.0137896 , 0.03174603, 0.00436409])\n",
    "fracoes_grupos_210 = np.array([0.00258389, 0.00720358, 0.00827376, 0.01904762, 0.00261845])\n",
    "\n",
    "fracoes_grupos = np.array([fracoes_grupos_2,fracoes_grupos_3,fracoes_grupos_5,fracoes_grupos_6,fracoes_grupos_7,\n",
    "                          fracoes_grupos_15,fracoes_grupos_21,fracoes_grupos_30,fracoes_grupos_35,fracoes_grupos_42,\n",
    "                          fracoes_grupos_105,fracoes_grupos_210])"
   ]
  },
  {
   "cell_type": "code",
   "execution_count": null,
   "metadata": {},
   "outputs": [],
   "source": [
    "def distribuicao_idade(num_pop, censo_residencial, res_individuos, pop_idades, piramide_etaria, idades_grupos, idades_fracoes_grupos, idade_max, tx_reducao):\n",
    "    num_pop_0a19 = int(num_pop*np.sum(idades_fracoes_grupos[0:20]))\n",
    "\n",
    "    p_esc_a_idades_grupos = np.array([0, 4, 6, 15, 20, 100])\n",
    "    idades_na_escola_categorias = []\n",
    "    \n",
    "    for i in range(len(fracoes_grupos)):\n",
    "        #p_esc_a_idades_fracoes_grupos = np.array([.33, .92, .97, .80, 0.05])\n",
    "        p_esc_a_idades_fracoes_grupos = fracoes_grupos[i]\n",
    "        num_tam_res = len(censo_residencial)\n",
    "        distrib_tam_por_res = np.array([len(res_individuos[k]) for k in range(len(res_individuos))])\n",
    "        distrib_res = np.array([len(distrib_tam_por_res[distrib_tam_por_res == j]) for j in range(1,num_tam_res+1)])\n",
    "\n",
    "        p_esc_a_idades_fracoes = list()\n",
    "        for j in range(len(p_esc_a_idades_grupos)-1):\n",
    "            p_esc_a_idades_fracoes += (p_esc_a_idades_grupos[j+1] - p_esc_a_idades_grupos[j])*[p_esc_a_idades_fracoes_grupos[j]]\n",
    "\n",
    "        p_esc_a_idades_fracoes = np.array(p_esc_a_idades_fracoes)\n",
    "\n",
    "        num_ativos_escola = int(p_esc_a_idades_fracoes.sum()/tx_reducao * num_pop)\n",
    "\n",
    "        pessoas_por_idade = list()\n",
    "\n",
    "        for idade_escolar in range(20):\n",
    "            pessoas_por_idade.append(np.count_nonzero(pop_idades == idade_escolar))\n",
    "\n",
    "        pessoas_por_idade = np.array(pessoas_por_idade)\n",
    "        idades_na_escola_fracoes = p_esc_a_idades_fracoes[:20]\n",
    "        idades_na_escola = np.round(idades_na_escola_fracoes*pessoas_por_idade).astype(int)\n",
    "        \n",
    "        idades_na_escola_categorias.append(idades_na_escola)\n",
    "    \n",
    "    \n",
    "    return np.array(idades_na_escola_categorias)\n"
   ]
  },
  {
   "cell_type": "code",
   "execution_count": null,
   "metadata": {},
   "outputs": [],
   "source": [
    "tx_reducao = 100"
   ]
  },
  {
   "cell_type": "code",
   "execution_count": null,
   "metadata": {},
   "outputs": [],
   "source": [
    "dist_categorias = distribuicao_idade(num_pop, censo_residencial, res_individuos, pop_idades, piramide_etaria, idades_grupos, idades_fracoes_grupos, idade_max, tx_reducao)"
   ]
  },
  {
   "cell_type": "code",
   "execution_count": null,
   "metadata": {},
   "outputs": [],
   "source": [
    "print(dist_categorias)"
   ]
  },
  {
   "cell_type": "markdown",
   "metadata": {},
   "source": [
    "### Escolhendo os alunos"
   ]
  },
  {
   "cell_type": "code",
   "execution_count": null,
   "metadata": {},
   "outputs": [],
   "source": [
    "#alunos = rede_escolar.escolhe_alunos_idade(pop_idades, dist_categorias)"
   ]
  },
  {
   "cell_type": "code",
   "execution_count": null,
   "metadata": {},
   "outputs": [],
   "source": [
    "pop_idades"
   ]
  },
  {
   "cell_type": "code",
   "execution_count": null,
   "metadata": {},
   "outputs": [],
   "source": [
    "def escolhe_alunos_idade(pop_idades, idades_na_escola):\n",
    "    alunos_categorias = []\n",
    "    alunos_exclui = []\n",
    "    pop_idades_next = np.copy(pop_idades)\n",
    "    for j in range(len(idades_na_escola)):\n",
    "        alunos = np.array([np.random.choice(np.arange(len(pop_idades))[pop_idades == i], idades_na_escola[j][i], replace = False) for i in range(20)])\n",
    "        alunos_categorias.append(alunos)\n",
    "        alunos_exclui.append(np.hstack(alunos))\n",
    "        alunos_exclui = np.hstack(alunos_exclui).tolist()\n",
    "        pop_idades_next = np.delete(pop_idades, alunos_exclui)\n",
    "        #rng = np.array(np.arange(len(pop_idades)))\n",
    "        #print(len(rng))\n",
    "    \n",
    "    return alunos_categorias"
   ]
  },
  {
   "cell_type": "code",
   "execution_count": null,
   "metadata": {
    "scrolled": true
   },
   "outputs": [],
   "source": [
    "alunos = escolhe_alunos_idade(pop_idades, dist_categorias)"
   ]
  },
  {
   "cell_type": "code",
   "execution_count": null,
   "metadata": {},
   "outputs": [],
   "source": [
    "[i.shape for i in alunos]"
   ]
  },
  {
   "cell_type": "code",
   "execution_count": null,
   "metadata": {},
   "outputs": [],
   "source": [
    "alunos[4] = []"
   ]
  },
  {
   "cell_type": "code",
   "execution_count": null,
   "metadata": {},
   "outputs": [],
   "source": [
    "a = np.array(np.arange(100))"
   ]
  },
  {
   "cell_type": "code",
   "execution_count": null,
   "metadata": {},
   "outputs": [],
   "source": [
    "b = [50,60,80,90,10,20,30,40]"
   ]
  },
  {
   "cell_type": "code",
   "execution_count": null,
   "metadata": {},
   "outputs": [],
   "source": [
    "np.delete(a,b)"
   ]
  },
  {
   "cell_type": "code",
   "execution_count": null,
   "metadata": {},
   "outputs": [],
   "source": [
    "len(alunos[1])"
   ]
  },
  {
   "cell_type": "code",
   "execution_count": null,
   "metadata": {},
   "outputs": [],
   "source": [
    "len(alunos)"
   ]
  },
  {
   "cell_type": "code",
   "execution_count": null,
   "metadata": {},
   "outputs": [],
   "source": [
    "alunos = np.array(alunos)"
   ]
  },
  {
   "cell_type": "code",
   "execution_count": null,
   "metadata": {},
   "outputs": [],
   "source": [
    "h = np.hstack(alunos)"
   ]
  },
  {
   "cell_type": "code",
   "execution_count": null,
   "metadata": {},
   "outputs": [],
   "source": [
    "for k in pop_idades and k not in alunos:\n",
    "            pop_idades_next.append(k)\n",
    "        print(len(pop_idades_next))"
   ]
  },
  {
   "cell_type": "code",
   "execution_count": null,
   "metadata": {},
   "outputs": [],
   "source": [
    "np.select([True,True,True], [0, 1, 2])"
   ]
  },
  {
   "cell_type": "code",
   "execution_count": null,
   "metadata": {},
   "outputs": [],
   "source": [
    "k = np.hstack(h).tolist()"
   ]
  },
  {
   "cell_type": "code",
   "execution_count": null,
   "metadata": {},
   "outputs": [],
   "source": []
  },
  {
   "cell_type": "code",
   "execution_count": null,
   "metadata": {},
   "outputs": [],
   "source": [
    "a = [k.count(i) for i in k]"
   ]
  },
  {
   "cell_type": "code",
   "execution_count": null,
   "metadata": {},
   "outputs": [],
   "source": [
    "a"
   ]
  },
  {
   "cell_type": "code",
   "execution_count": null,
   "metadata": {},
   "outputs": [],
   "source": [
    "b = np.array(a)\n",
    "len(b[b>1])"
   ]
  },
  {
   "cell_type": "markdown",
   "metadata": {},
   "source": [
    "## Alocando população escolar nas escolas\n",
    "\n",
    "### Gerando a localização das escolas"
   ]
  },
  {
   "cell_type": "code",
   "execution_count": null,
   "metadata": {},
   "outputs": [],
   "source": [
    "esc_escolha"
   ]
  },
  {
   "cell_type": "code",
   "execution_count": null,
   "metadata": {},
   "outputs": [],
   "source": [
    "escolas = rede_escolar.aloca_alunos(alunos, esc_escolha, pos_individuos)"
   ]
  },
  {
   "cell_type": "code",
   "execution_count": null,
   "metadata": {},
   "outputs": [],
   "source": [
    "esc_escolha"
   ]
  },
  {
   "cell_type": "code",
   "execution_count": null,
   "metadata": {},
   "outputs": [],
   "source": [
    "def aloca_alunos(alunos, escola_escolha, pos_individuos):\n",
    "    escolas_return = []\n",
    "    alunos_array = np.hstack(alunos)\n",
    "    for i in range(len(escola_escolha)):\n",
    "        row_escolas = np.floor(escola_escolha[i]/830)\n",
    "        col_escolas = np.mod(escola_escolha[i],830)\n",
    "\n",
    "        pos_x_escolas = col_escolas + np.random.rand(len(escola_escolha[i]))\n",
    "        pos_y_escolas = row_escolas + np.random.rand(len(escola_escolha[i]))\n",
    "        pos_escolas = np.array([pos_x_escolas,pos_y_escolas]).T\n",
    "\n",
    "        pos_individuos_escolas = np.array(pos_individuos)[alunos_array]\n",
    "        dist_indiv_esc = [np.linalg.norm(p_i - pos_escolas, axis = 1).argsort()[:3] for p_i in pos_individuos_escolas]\n",
    "        indiv_esc = [random.choices(k)[0] for k in dist_indiv_esc]\n",
    "        for k in range(len(escola_escolha[i])):\n",
    "            aux = []\n",
    "            for j in range(len(indiv_esc)):\n",
    "                if indiv_esc[j] == k:\n",
    "                    aux.append(alunos_array[j])\n",
    "            escolas.append(aux)\n",
    "        alunos_retirar = alunos_array == np.hstack(escolas)\n",
    "        print(alunos_array == np.hstack(escolas))\n",
    "        alunos_array = np.select(alunos_retirar, alunos_array)\n",
    "        escolas_return.append(escolas)\n",
    "        \n",
    "    return escolas_return"
   ]
  },
  {
   "cell_type": "code",
   "execution_count": null,
   "metadata": {},
   "outputs": [],
   "source": [
    "def aloca_alunos_novo(alunos, escola_escolha, pos_individuos):\n",
    "    weight = np.array([len(i) for i in escola_escolha])/len(np.hstack(escola_escolha))\n",
    "    modalidade_aluno = np.random.choice(range(len(escola_escolha)), size = len(np.hstack(alunos)), p = weight)\n",
    "    return modalidade_aluno"
   ]
  },
  {
   "cell_type": "code",
   "execution_count": null,
   "metadata": {},
   "outputs": [],
   "source": [
    "d = aloca_alunos_novo(alunos, escolha_escolas_reduzidas[:-2], pos_individuos)"
   ]
  },
  {
   "cell_type": "code",
   "execution_count": null,
   "metadata": {},
   "outputs": [],
   "source": [
    "escolha_escolas_reduzidas"
   ]
  },
  {
   "cell_type": "code",
   "execution_count": null,
   "metadata": {},
   "outputs": [],
   "source": [
    "d = aloca_alunos(alunos, escolha_escolas_reduzidas[:-2], pos_individuos)"
   ]
  },
  {
   "cell_type": "code",
   "execution_count": null,
   "metadata": {},
   "outputs": [],
   "source": [
    "np.select([False, False, True], [1,2,3])"
   ]
  },
  {
   "cell_type": "code",
   "execution_count": null,
   "metadata": {},
   "outputs": [],
   "source": [
    "a = np.array([1,2,3,4,5,6,7])"
   ]
  },
  {
   "cell_type": "code",
   "execution_count": null,
   "metadata": {},
   "outputs": [],
   "source": [
    "a == 5"
   ]
  },
  {
   "cell_type": "code",
   "execution_count": null,
   "metadata": {},
   "outputs": [],
   "source": [
    "len(np.hstack(np.hstack(d)))"
   ]
  },
  {
   "cell_type": "code",
   "execution_count": null,
   "metadata": {},
   "outputs": [],
   "source": [
    "len(np.hstack(alunos))"
   ]
  },
  {
   "cell_type": "code",
   "execution_count": null,
   "metadata": {},
   "outputs": [],
   "source": [
    "len(d[0])"
   ]
  },
  {
   "cell_type": "code",
   "execution_count": null,
   "metadata": {},
   "outputs": [],
   "source": [
    "len(d[6])"
   ]
  },
  {
   "cell_type": "code",
   "execution_count": null,
   "metadata": {},
   "outputs": [],
   "source": [
    "len(d[5])"
   ]
  },
  {
   "cell_type": "code",
   "execution_count": null,
   "metadata": {},
   "outputs": [],
   "source": [
    "len(escolas)"
   ]
  },
  {
   "cell_type": "markdown",
   "metadata": {},
   "source": [
    "## Criando a rede"
   ]
  },
  {
   "cell_type": "code",
   "execution_count": null,
   "metadata": {},
   "outputs": [],
   "source": [
    "G_esc = rede_escolar.gera_rede_escolar(num_pop, attrib_pos_individuos, escolas)"
   ]
  },
  {
   "cell_type": "code",
   "execution_count": null,
   "metadata": {},
   "outputs": [],
   "source": [
    "plt.figure(figsize=(12,6))\n",
    "nx.draw(G_esc, pos=attrib_pos_individuos, node_size=1, alpha=0.5)\n",
    "plt.show()"
   ]
  },
  {
   "cell_type": "markdown",
   "metadata": {},
   "source": [
    "---"
   ]
  }
 ],
 "metadata": {
  "kernelspec": {
   "display_name": "Python ModCovid",
   "language": "python",
   "name": "covid"
  },
  "language_info": {
   "codemirror_mode": {
    "name": "ipython",
    "version": 3
   },
   "file_extension": ".py",
   "mimetype": "text/x-python",
   "name": "python",
   "nbconvert_exporter": "python",
   "pygments_lexer": "ipython3",
   "version": "3.8.3"
  }
 },
 "nbformat": 4,
 "nbformat_minor": 4
}
