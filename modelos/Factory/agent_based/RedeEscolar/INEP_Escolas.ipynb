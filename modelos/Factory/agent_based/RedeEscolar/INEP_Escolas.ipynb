{
 "cells": [
  {
   "cell_type": "code",
   "execution_count": 1,
   "metadata": {},
   "outputs": [],
   "source": [
    "import numpy as np\n",
    "import matplotlib.pyplot as plt\n",
    "import pandas as pd\n",
    "import random"
   ]
  },
  {
   "cell_type": "code",
   "execution_count": 3,
   "metadata": {},
   "outputs": [],
   "source": [
    "df_inep = pd.read_csv('inep_att.csv', sep = ';')"
   ]
  },
  {
   "cell_type": "markdown",
   "metadata": {},
   "source": [
    "Alguns dados de `Latitude` e `Longitude` da tabela do `INEP` estão faltantes, vamos completar estas informações para gerar o `shapefile`"
   ]
  },
  {
   "cell_type": "code",
   "execution_count": 4,
   "metadata": {},
   "outputs": [],
   "source": [
    "booleano_lat = np.isnan(df_inep['Latitude'])\n",
    "booleano_long = np.isnan(df_inep['Longitude'])\n",
    "rng = np.arange(len(df_inep))"
   ]
  },
  {
   "cell_type": "code",
   "execution_count": 5,
   "metadata": {},
   "outputs": [
    {
     "data": {
      "text/plain": [
       "(141, 141)"
      ]
     },
     "execution_count": 5,
     "metadata": {},
     "output_type": "execute_result"
    }
   ],
   "source": [
    "len(rng[booleano_lat]),len(rng[booleano_long])"
   ]
  },
  {
   "cell_type": "code",
   "execution_count": 6,
   "metadata": {},
   "outputs": [
    {
     "data": {
      "text/plain": [
       "array([ 560,  891,  977, 1029, 1042, 1363, 1379, 1419, 1462, 1477, 1520,\n",
       "       1540, 1612, 1736, 1853, 1982, 1994, 2030, 2051, 2101, 2150, 2205,\n",
       "       2212, 2233, 2251, 2283, 2287, 2291, 2301, 2310, 2350, 2363, 2433,\n",
       "       2498, 2536, 2537, 2539, 2545, 2602, 2646, 2649, 2652, 2661, 2721,\n",
       "       2737, 2753, 2770, 2775, 2797, 2821, 2833, 2908, 2911, 2915, 2919,\n",
       "       2926, 2980, 2982, 3009, 3010, 3011, 3044, 3046, 3105, 3151, 3213,\n",
       "       3222, 3257, 3271, 3283, 3325, 3334, 3444, 3446, 3472, 3488, 3513,\n",
       "       3531, 3554, 3583, 3584, 3595, 3599, 3614, 3615, 3617, 3618, 3629,\n",
       "       3661, 3677, 3687, 3692, 3697, 3699, 3715, 3732, 3761, 3793, 3799,\n",
       "       3812, 3820, 3835, 3839, 3868, 3874, 3886, 3898, 3900, 3903, 3905,\n",
       "       3906, 3908, 3934, 3940, 3943, 3952, 3957, 3960, 3963, 3965, 3967,\n",
       "       3971, 3981, 3990, 4003, 4007, 4019, 4029, 4045, 4071, 4078, 4114,\n",
       "       4117, 4119, 4159, 4163, 4173, 4205, 4212, 4219, 4231])"
      ]
     },
     "execution_count": 6,
     "metadata": {},
     "output_type": "execute_result"
    }
   ],
   "source": [
    "rng[booleano_lat]"
   ]
  },
  {
   "cell_type": "code",
   "execution_count": 7,
   "metadata": {},
   "outputs": [],
   "source": [
    "# n = 891\n",
    "# df_inep.iloc[n]"
   ]
  },
  {
   "cell_type": "code",
   "execution_count": 8,
   "metadata": {},
   "outputs": [],
   "source": [
    "# obj = geolocator.geocode('Engenheiro Morsing')\n",
    "# obj"
   ]
  },
  {
   "cell_type": "code",
   "execution_count": 9,
   "metadata": {},
   "outputs": [],
   "source": [
    "# coord = [-22.9451272,-43.3608036]\n",
    "# lat = obj.latitude\n",
    "# long = obj.longitude\n",
    "# coord = [lat,long]"
   ]
  },
  {
   "cell_type": "code",
   "execution_count": 10,
   "metadata": {},
   "outputs": [],
   "source": [
    "# df_inep.at[n,'Latitude'] = coord[0]\n",
    "# df_inep.at[n,'Longitude'] = coord[1]"
   ]
  },
  {
   "cell_type": "code",
   "execution_count": 11,
   "metadata": {},
   "outputs": [],
   "source": [
    "# df_inep.to_csv('inep_att.csv', sep=';')"
   ]
  },
  {
   "cell_type": "code",
   "execution_count": 12,
   "metadata": {},
   "outputs": [],
   "source": [
    "# n_rng = rng_att[booleano_lat_att]"
   ]
  },
  {
   "cell_type": "code",
   "execution_count": 13,
   "metadata": {},
   "outputs": [],
   "source": [
    "# from geopy.geocoders import Nominatim\n",
    "# geolocator = Nominatim()"
   ]
  },
  {
   "cell_type": "code",
   "execution_count": 14,
   "metadata": {},
   "outputs": [],
   "source": [
    "# lst_c = []\n",
    "# count = 0\n",
    "# for e in n_rng[1:]:\n",
    "#     #if np.isnan(df_inep.iloc[e]['Latitude']):\n",
    "#     end = df_inep.iloc[e]['Endereço'].split(',')[0]\n",
    "# #         print(end)\n",
    "#     location = geolocator.geocode(end)\n",
    "#     lst_c.append(location)\n",
    "#     if location != None:\n",
    "#         if -20 > location.latitude > -24 and -41 > location.longitude > -45:\n",
    "#             df_inep.at[e,'Latitude'] = location.latitude\n",
    "#             df_inep.at[e,'Longitude'] = location.longitude\n",
    "#             count += 1\n",
    "# print(f'Foram atualizadas {count} linhas')"
   ]
  },
  {
   "cell_type": "code",
   "execution_count": null,
   "metadata": {},
   "outputs": [],
   "source": []
  },
  {
   "cell_type": "code",
   "execution_count": 15,
   "metadata": {},
   "outputs": [],
   "source": [
    "df_inep_municipal = df_inep[df_inep['Dependência Administrativa'] == 'Municipal']"
   ]
  },
  {
   "cell_type": "code",
   "execution_count": 16,
   "metadata": {},
   "outputs": [],
   "source": [
    "df_inep_federal = df_inep[df_inep['Dependência Administrativa'] == 'Federal']"
   ]
  },
  {
   "cell_type": "code",
   "execution_count": 17,
   "metadata": {},
   "outputs": [],
   "source": [
    "df_inep_privada = df_inep[df_inep['Dependência Administrativa'] == 'Privada']"
   ]
  },
  {
   "cell_type": "code",
   "execution_count": 18,
   "metadata": {},
   "outputs": [],
   "source": [
    "categ = {'Educação Infantil' : 2,'Ensino Fundamental': 3,'Ensino Médio': 5, 'Educação de Jovens Adultos': 7}"
   ]
  },
  {
   "cell_type": "code",
   "execution_count": 19,
   "metadata": {},
   "outputs": [
    {
     "data": {
      "text/plain": [
       "{'Educação Infantil': 2,\n",
       " 'Ensino Fundamental': 3,\n",
       " 'Ensino Médio': 5,\n",
       " 'Educação de Jovens Adultos': 7}"
      ]
     },
     "execution_count": 19,
     "metadata": {},
     "output_type": "execute_result"
    }
   ],
   "source": [
    "categ"
   ]
  },
  {
   "cell_type": "code",
   "execution_count": 20,
   "metadata": {},
   "outputs": [],
   "source": [
    "nova_entrada = [0 for i in range(0,len(df_inep))]"
   ]
  },
  {
   "cell_type": "code",
   "execution_count": 21,
   "metadata": {},
   "outputs": [],
   "source": [
    "df_inep['Modalidade'] = nova_entrada"
   ]
  },
  {
   "cell_type": "code",
   "execution_count": 22,
   "metadata": {},
   "outputs": [],
   "source": [
    "roda = list(df_inep['Etapas e Modalidade de Ensino Oferecidas'].isnull())"
   ]
  },
  {
   "cell_type": "code",
   "execution_count": 23,
   "metadata": {},
   "outputs": [],
   "source": [
    "df_inep_c = df_inep.copy()"
   ]
  },
  {
   "cell_type": "code",
   "execution_count": 24,
   "metadata": {},
   "outputs": [],
   "source": [
    "for i,v in enumerate(roda):\n",
    "    k = 1\n",
    "    if v == False:\n",
    "        lst = df_inep_c.iloc[i]['Etapas e Modalidade de Ensino Oferecidas'].split(',')\n",
    "        lst = [l.strip() for l in lst]\n",
    "        for l in lst:\n",
    "            if l in categ:\n",
    "                k *= categ[l]\n",
    "        df_inep_c.at[i,'Modalidade'] = k\n",
    "    else:\n",
    "        pass"
   ]
  },
  {
   "cell_type": "code",
   "execution_count": 25,
   "metadata": {
    "scrolled": false
   },
   "outputs": [
    {
     "data": {
      "text/plain": [
       "4244"
      ]
     },
     "execution_count": 25,
     "metadata": {},
     "output_type": "execute_result"
    }
   ],
   "source": [
    "len(df_inep_c)"
   ]
  },
  {
   "cell_type": "markdown",
   "metadata": {},
   "source": [
    "---"
   ]
  },
  {
   "cell_type": "markdown",
   "metadata": {},
   "source": [
    "Algumas escolas ficam como `Ensino Infantil e Ensino Médio`, trocamos estas para `Ensino Infantil, Ensino Fundamental e Ensino Médio`.\n",
    "Escolas que ficam apenas como `Ensino Profissionalizante`, trocamos para `Ensino Médio`"
   ]
  },
  {
   "cell_type": "code",
   "execution_count": 26,
   "metadata": {},
   "outputs": [],
   "source": [
    "mudar = list(df_inep_c[df_inep_c['Modalidade'] == 10].index)\n",
    "for i in mudar:\n",
    "    df_inep_c.at[i, 'Modalidade'] = 30"
   ]
  },
  {
   "cell_type": "code",
   "execution_count": 27,
   "metadata": {},
   "outputs": [],
   "source": [
    "mudar = list(df_inep_c[df_inep_c['Modalidade'] == 1].index)\n",
    "for i in mudar:\n",
    "    df_inep_c.at[i, 'Modalidade'] = 5"
   ]
  },
  {
   "cell_type": "code",
   "execution_count": 28,
   "metadata": {},
   "outputs": [],
   "source": [
    "s_mod = sorted(list(set(df_inep_c['Modalidade'])))"
   ]
  },
  {
   "cell_type": "code",
   "execution_count": 29,
   "metadata": {},
   "outputs": [
    {
     "data": {
      "text/plain": [
       "[0, 2, 3, 5, 6, 7, 15, 21, 30, 35, 42, 105, 210]"
      ]
     },
     "execution_count": 29,
     "metadata": {},
     "output_type": "execute_result"
    }
   ],
   "source": [
    "s_mod"
   ]
  },
  {
   "cell_type": "code",
   "execution_count": 30,
   "metadata": {},
   "outputs": [],
   "source": [
    "modalidades_c = []\n",
    "for m in s_mod:\n",
    "    modalidades_c.append(len(df_inep_c[df_inep_c['Modalidade'] == m]))"
   ]
  },
  {
   "cell_type": "code",
   "execution_count": 31,
   "metadata": {},
   "outputs": [],
   "source": [
    "modalidades_c = np.array(modalidades_c)"
   ]
  },
  {
   "cell_type": "code",
   "execution_count": 32,
   "metadata": {},
   "outputs": [
    {
     "data": {
      "text/plain": [
       "array([ 369, 1144,  601,  245, 1102,   60,  172,   98,  233,  122,   51,\n",
       "         30,   17])"
      ]
     },
     "execution_count": 32,
     "metadata": {},
     "output_type": "execute_result"
    }
   ],
   "source": [
    "modalidades_c"
   ]
  },
  {
   "cell_type": "code",
   "execution_count": 33,
   "metadata": {},
   "outputs": [],
   "source": [
    "modalidades = df_inep_c['Modalidade'].values"
   ]
  },
  {
   "cell_type": "code",
   "execution_count": 34,
   "metadata": {},
   "outputs": [],
   "source": [
    "weig = modalidades_c[1:]/np.sum(modalidades_c[1:])"
   ]
  },
  {
   "cell_type": "code",
   "execution_count": 35,
   "metadata": {},
   "outputs": [],
   "source": [
    "rng = np.arange(1,len(weig)+1)"
   ]
  },
  {
   "cell_type": "code",
   "execution_count": 36,
   "metadata": {},
   "outputs": [
    {
     "data": {
      "text/plain": [
       "[0, 2, 3, 5, 6, 7, 15, 21, 30, 35, 42, 105, 210]"
      ]
     },
     "execution_count": 36,
     "metadata": {},
     "output_type": "execute_result"
    }
   ],
   "source": [
    "s_mod"
   ]
  },
  {
   "cell_type": "code",
   "execution_count": 37,
   "metadata": {},
   "outputs": [],
   "source": [
    "escolha = random.choices(rng, weig, k = modalidades_c[0])"
   ]
  },
  {
   "cell_type": "code",
   "execution_count": 38,
   "metadata": {},
   "outputs": [],
   "source": [
    "sorteio = [escolha.count(i) for i in rng]"
   ]
  },
  {
   "cell_type": "code",
   "execution_count": 39,
   "metadata": {},
   "outputs": [],
   "source": [
    "indices = np.array((df_inep_c[df_inep_c['Modalidade'] == 0].index))"
   ]
  },
  {
   "cell_type": "code",
   "execution_count": 40,
   "metadata": {},
   "outputs": [],
   "source": [
    "escolha_i = []\n",
    "for qt in sorteio:\n",
    "    novo = np.copy(indices)\n",
    "    k = np.random.choice(indices, int(qt), replace = False)\n",
    "    escolha_i.append(k)\n",
    "    for e in k:\n",
    "        w = np.where(indices == e)[0][0]\n",
    "        indices = np.delete(indices, w)"
   ]
  },
  {
   "cell_type": "code",
   "execution_count": 41,
   "metadata": {},
   "outputs": [
    {
     "data": {
      "text/plain": [
       "([98, 76, 19, 92, 7, 24, 11, 18, 14, 5, 4, 1],\n",
       " [98, 76, 19, 92, 7, 24, 11, 18, 14, 5, 4, 1])"
      ]
     },
     "execution_count": 41,
     "metadata": {},
     "output_type": "execute_result"
    }
   ],
   "source": [
    "[len(i) for i in escolha_i], sorteio"
   ]
  },
  {
   "cell_type": "code",
   "execution_count": 42,
   "metadata": {},
   "outputs": [],
   "source": [
    "escolha_i = np.array(escolha_i)"
   ]
  },
  {
   "cell_type": "code",
   "execution_count": 43,
   "metadata": {},
   "outputs": [],
   "source": [
    "teste = np.hstack(escolha_i)"
   ]
  },
  {
   "cell_type": "code",
   "execution_count": 44,
   "metadata": {},
   "outputs": [
    {
     "data": {
      "text/plain": [
       "(369, True)"
      ]
     },
     "execution_count": 44,
     "metadata": {},
     "output_type": "execute_result"
    }
   ],
   "source": [
    "len(set(teste)), len(set(teste)) == modalidades_c[0]"
   ]
  },
  {
   "cell_type": "code",
   "execution_count": 45,
   "metadata": {},
   "outputs": [],
   "source": [
    "hg = list(df_inep_c[df_inep_c['Modalidade'] == 0].index)"
   ]
  },
  {
   "cell_type": "code",
   "execution_count": 46,
   "metadata": {},
   "outputs": [
    {
     "data": {
      "text/html": [
       "<div>\n",
       "<style scoped>\n",
       "    .dataframe tbody tr th:only-of-type {\n",
       "        vertical-align: middle;\n",
       "    }\n",
       "\n",
       "    .dataframe tbody tr th {\n",
       "        vertical-align: top;\n",
       "    }\n",
       "\n",
       "    .dataframe thead th {\n",
       "        text-align: right;\n",
       "    }\n",
       "</style>\n",
       "<table border=\"1\" class=\"dataframe\">\n",
       "  <thead>\n",
       "    <tr style=\"text-align: right;\">\n",
       "      <th></th>\n",
       "      <th>Unnamed: 0</th>\n",
       "      <th>Restrição de Atendimento</th>\n",
       "      <th>Escola</th>\n",
       "      <th>Código INEP</th>\n",
       "      <th>UF</th>\n",
       "      <th>Município</th>\n",
       "      <th>Localização</th>\n",
       "      <th>Localidade Diferenciada</th>\n",
       "      <th>Categoria Administrativa</th>\n",
       "      <th>Endereço</th>\n",
       "      <th>...</th>\n",
       "      <th>Dependência Administrativa</th>\n",
       "      <th>Categoria Escola Privada</th>\n",
       "      <th>Conveniada Poder Público</th>\n",
       "      <th>Regulamentação pelo Conselho de Educação</th>\n",
       "      <th>Porte da Escola</th>\n",
       "      <th>Etapas e Modalidade de Ensino Oferecidas</th>\n",
       "      <th>Outras Ofertas Educacionais</th>\n",
       "      <th>Latitude</th>\n",
       "      <th>Longitude</th>\n",
       "      <th>Modalidade</th>\n",
       "    </tr>\n",
       "  </thead>\n",
       "  <tbody>\n",
       "    <tr>\n",
       "      <th>0</th>\n",
       "      <td>0</td>\n",
       "      <td>ESCOLA PARALISADA</td>\n",
       "      <td>CE REVERENDO MARTIN LUTHER KING</td>\n",
       "      <td>33062226</td>\n",
       "      <td>RJ</td>\n",
       "      <td>Rio de Janeiro</td>\n",
       "      <td>Urbana</td>\n",
       "      <td>Não Informado</td>\n",
       "      <td>Pública</td>\n",
       "      <td>RUA JOAQUIM PALHARES, 648 ESTACIO. 20260-080 R...</td>\n",
       "      <td>...</td>\n",
       "      <td>Estadual</td>\n",
       "      <td>Não Informado</td>\n",
       "      <td>Não</td>\n",
       "      <td>NaN</td>\n",
       "      <td>NaN</td>\n",
       "      <td>NaN</td>\n",
       "      <td>NaN</td>\n",
       "      <td>-22.911600</td>\n",
       "      <td>-43.211600</td>\n",
       "      <td>0</td>\n",
       "    </tr>\n",
       "    <tr>\n",
       "      <th>19</th>\n",
       "      <td>19</td>\n",
       "      <td>ESCOLA PARALISADA</td>\n",
       "      <td>ESC TEC DO ARSENAL DE MARINHA DO RJ</td>\n",
       "      <td>33062528</td>\n",
       "      <td>RJ</td>\n",
       "      <td>Rio de Janeiro</td>\n",
       "      <td>Urbana</td>\n",
       "      <td>Não Informado</td>\n",
       "      <td>Pública</td>\n",
       "      <td>PRACA BARAO DE LADARIO, S/Nº ILHA DAS COBRAS E...</td>\n",
       "      <td>...</td>\n",
       "      <td>Federal</td>\n",
       "      <td>Não Informado</td>\n",
       "      <td>Não</td>\n",
       "      <td>NaN</td>\n",
       "      <td>NaN</td>\n",
       "      <td>NaN</td>\n",
       "      <td>NaN</td>\n",
       "      <td>-22.898370</td>\n",
       "      <td>-43.176620</td>\n",
       "      <td>0</td>\n",
       "    </tr>\n",
       "    <tr>\n",
       "      <th>26</th>\n",
       "      <td>26</td>\n",
       "      <td>ESCOLA PARALISADA</td>\n",
       "      <td>CE CELESTINO DA SILVA</td>\n",
       "      <td>33062650</td>\n",
       "      <td>RJ</td>\n",
       "      <td>Rio de Janeiro</td>\n",
       "      <td>Rural</td>\n",
       "      <td>Não Informado</td>\n",
       "      <td>Pública</td>\n",
       "      <td>RUA DO LAVRADIO, CENTRO. 20230-070 Rio de Jane...</td>\n",
       "      <td>...</td>\n",
       "      <td>Estadual</td>\n",
       "      <td>Não Informado</td>\n",
       "      <td>Não</td>\n",
       "      <td>NaN</td>\n",
       "      <td>NaN</td>\n",
       "      <td>NaN</td>\n",
       "      <td>NaN</td>\n",
       "      <td>-22.910246</td>\n",
       "      <td>-43.182999</td>\n",
       "      <td>0</td>\n",
       "    </tr>\n",
       "    <tr>\n",
       "      <th>31</th>\n",
       "      <td>31</td>\n",
       "      <td>ESCOLA PARALISADA</td>\n",
       "      <td>EEEE PROFESSORA MARIA IVETE CORREA DE VASCONCELOS</td>\n",
       "      <td>33062722</td>\n",
       "      <td>RJ</td>\n",
       "      <td>Rio de Janeiro</td>\n",
       "      <td>Urbana</td>\n",
       "      <td>Não Informado</td>\n",
       "      <td>Pública</td>\n",
       "      <td>RUA MARIZ E BARROS, PRACA DA BANDEIRA. 20270-0...</td>\n",
       "      <td>...</td>\n",
       "      <td>Estadual</td>\n",
       "      <td>Não Informado</td>\n",
       "      <td>Não</td>\n",
       "      <td>NaN</td>\n",
       "      <td>NaN</td>\n",
       "      <td>NaN</td>\n",
       "      <td>NaN</td>\n",
       "      <td>-22.911792</td>\n",
       "      <td>-43.214734</td>\n",
       "      <td>0</td>\n",
       "    </tr>\n",
       "    <tr>\n",
       "      <th>48</th>\n",
       "      <td>48</td>\n",
       "      <td>ESCOLA PARALISADA</td>\n",
       "      <td>EEES PEREIRA PASSOS</td>\n",
       "      <td>33063079</td>\n",
       "      <td>RJ</td>\n",
       "      <td>Rio de Janeiro</td>\n",
       "      <td>Urbana</td>\n",
       "      <td>Não Informado</td>\n",
       "      <td>Pública</td>\n",
       "      <td>PRACA CONDESSA PAULO DE FRONTIM, RIO COMPRIDO....</td>\n",
       "      <td>...</td>\n",
       "      <td>Estadual</td>\n",
       "      <td>Não Informado</td>\n",
       "      <td>Não</td>\n",
       "      <td>NaN</td>\n",
       "      <td>NaN</td>\n",
       "      <td>NaN</td>\n",
       "      <td>NaN</td>\n",
       "      <td>-22.924464</td>\n",
       "      <td>-43.209298</td>\n",
       "      <td>0</td>\n",
       "    </tr>\n",
       "    <tr>\n",
       "      <th>...</th>\n",
       "      <td>...</td>\n",
       "      <td>...</td>\n",
       "      <td>...</td>\n",
       "      <td>...</td>\n",
       "      <td>...</td>\n",
       "      <td>...</td>\n",
       "      <td>...</td>\n",
       "      <td>...</td>\n",
       "      <td>...</td>\n",
       "      <td>...</td>\n",
       "      <td>...</td>\n",
       "      <td>...</td>\n",
       "      <td>...</td>\n",
       "      <td>...</td>\n",
       "      <td>...</td>\n",
       "      <td>...</td>\n",
       "      <td>...</td>\n",
       "      <td>...</td>\n",
       "      <td>...</td>\n",
       "      <td>...</td>\n",
       "      <td>...</td>\n",
       "    </tr>\n",
       "    <tr>\n",
       "      <th>4215</th>\n",
       "      <td>4215</td>\n",
       "      <td>ESCOLA EM FUNCIONAMENTO E SEM RESTRIÇÃO DE ATE...</td>\n",
       "      <td>ESCOLA TECNICA ELECTRA</td>\n",
       "      <td>33505217</td>\n",
       "      <td>RJ</td>\n",
       "      <td>Rio de Janeiro</td>\n",
       "      <td>Urbana</td>\n",
       "      <td>A escola não está em área de localização difer...</td>\n",
       "      <td>Privada</td>\n",
       "      <td>RUA ALFREDO DE MORAIS, 85 NAO POSSUI. CAMPO GR...</td>\n",
       "      <td>...</td>\n",
       "      <td>Privada</td>\n",
       "      <td>Particular</td>\n",
       "      <td>Não</td>\n",
       "      <td>Sim</td>\n",
       "      <td>Entre 201 e 500 matrículas de escolarização</td>\n",
       "      <td>NaN</td>\n",
       "      <td>NaN</td>\n",
       "      <td>-22.899493</td>\n",
       "      <td>-43.559565</td>\n",
       "      <td>0</td>\n",
       "    </tr>\n",
       "    <tr>\n",
       "      <th>4216</th>\n",
       "      <td>4216</td>\n",
       "      <td>ESCOLA PARALISADA</td>\n",
       "      <td>CENTRO VOCACIONAL TECNOLOGICO CORREIOS</td>\n",
       "      <td>33507244</td>\n",
       "      <td>RJ</td>\n",
       "      <td>Rio de Janeiro</td>\n",
       "      <td>Urbana</td>\n",
       "      <td>Não Informado</td>\n",
       "      <td>Pública</td>\n",
       "      <td>RUA LEOPOLDO BULHOES, 530 BENFICA. 20911-970 R...</td>\n",
       "      <td>...</td>\n",
       "      <td>Estadual</td>\n",
       "      <td>Não Informado</td>\n",
       "      <td>Não</td>\n",
       "      <td>NaN</td>\n",
       "      <td>NaN</td>\n",
       "      <td>NaN</td>\n",
       "      <td>NaN</td>\n",
       "      <td>-22.888842</td>\n",
       "      <td>-43.244741</td>\n",
       "      <td>0</td>\n",
       "    </tr>\n",
       "    <tr>\n",
       "      <th>4217</th>\n",
       "      <td>4217</td>\n",
       "      <td>ESCOLA PARALISADA</td>\n",
       "      <td>CENTRO VOCACIONAL TECNOLOGICO SANTA CRUZ</td>\n",
       "      <td>33508216</td>\n",
       "      <td>RJ</td>\n",
       "      <td>Rio de Janeiro</td>\n",
       "      <td>Urbana</td>\n",
       "      <td>Não Informado</td>\n",
       "      <td>Pública</td>\n",
       "      <td>LARGO DO BODEGAO, 46 SANTA CRUZ. 23550-050 Rio...</td>\n",
       "      <td>...</td>\n",
       "      <td>Estadual</td>\n",
       "      <td>Não Informado</td>\n",
       "      <td>Não</td>\n",
       "      <td>NaN</td>\n",
       "      <td>NaN</td>\n",
       "      <td>NaN</td>\n",
       "      <td>NaN</td>\n",
       "      <td>-22.926234</td>\n",
       "      <td>-43.690620</td>\n",
       "      <td>0</td>\n",
       "    </tr>\n",
       "    <tr>\n",
       "      <th>4224</th>\n",
       "      <td>4224</td>\n",
       "      <td>ESCOLA EM FUNCIONAMENTO E SEM RESTRIÇÃO DE ATE...</td>\n",
       "      <td>CCPAC CENTRO DE CAPACITACAO PROFISSIONAL DE AR...</td>\n",
       "      <td>33520305</td>\n",
       "      <td>RJ</td>\n",
       "      <td>Rio de Janeiro</td>\n",
       "      <td>Urbana</td>\n",
       "      <td>A escola não está em área de localização difer...</td>\n",
       "      <td>Privada</td>\n",
       "      <td>AVENIDA DAS AMERICAS, 15015 3º ANDAR. RECREIO ...</td>\n",
       "      <td>...</td>\n",
       "      <td>Privada</td>\n",
       "      <td>Particular</td>\n",
       "      <td>Não</td>\n",
       "      <td>Sim</td>\n",
       "      <td>Até 50 matrículas de escolarização</td>\n",
       "      <td>NaN</td>\n",
       "      <td>NaN</td>\n",
       "      <td>-22.964930</td>\n",
       "      <td>-43.407530</td>\n",
       "      <td>0</td>\n",
       "    </tr>\n",
       "    <tr>\n",
       "      <th>4229</th>\n",
       "      <td>4229</td>\n",
       "      <td>ESCOLA PARALISADA</td>\n",
       "      <td>ESCOLA LE MONDE PRODUCOES ARTISTICAS E CULTURA...</td>\n",
       "      <td>33522286</td>\n",
       "      <td>RJ</td>\n",
       "      <td>Rio de Janeiro</td>\n",
       "      <td>Urbana</td>\n",
       "      <td>Não Informado</td>\n",
       "      <td>Privada</td>\n",
       "      <td>RUA CAMUIRANO, 60 BOTAFOGO. 22270-020 Rio de J...</td>\n",
       "      <td>...</td>\n",
       "      <td>Privada</td>\n",
       "      <td>Não Informado</td>\n",
       "      <td>Não</td>\n",
       "      <td>NaN</td>\n",
       "      <td>NaN</td>\n",
       "      <td>NaN</td>\n",
       "      <td>NaN</td>\n",
       "      <td>-22.954090</td>\n",
       "      <td>-43.193510</td>\n",
       "      <td>0</td>\n",
       "    </tr>\n",
       "  </tbody>\n",
       "</table>\n",
       "<p>369 rows × 21 columns</p>\n",
       "</div>"
      ],
      "text/plain": [
       "      Unnamed: 0                           Restrição de Atendimento  \\\n",
       "0              0                                  ESCOLA PARALISADA   \n",
       "19            19                                  ESCOLA PARALISADA   \n",
       "26            26                                  ESCOLA PARALISADA   \n",
       "31            31                                  ESCOLA PARALISADA   \n",
       "48            48                                  ESCOLA PARALISADA   \n",
       "...          ...                                                ...   \n",
       "4215        4215  ESCOLA EM FUNCIONAMENTO E SEM RESTRIÇÃO DE ATE...   \n",
       "4216        4216                                  ESCOLA PARALISADA   \n",
       "4217        4217                                  ESCOLA PARALISADA   \n",
       "4224        4224  ESCOLA EM FUNCIONAMENTO E SEM RESTRIÇÃO DE ATE...   \n",
       "4229        4229                                  ESCOLA PARALISADA   \n",
       "\n",
       "                                                 Escola  Código INEP  UF  \\\n",
       "0                       CE REVERENDO MARTIN LUTHER KING     33062226  RJ   \n",
       "19                  ESC TEC DO ARSENAL DE MARINHA DO RJ     33062528  RJ   \n",
       "26                                CE CELESTINO DA SILVA     33062650  RJ   \n",
       "31    EEEE PROFESSORA MARIA IVETE CORREA DE VASCONCELOS     33062722  RJ   \n",
       "48                                  EEES PEREIRA PASSOS     33063079  RJ   \n",
       "...                                                 ...          ...  ..   \n",
       "4215                             ESCOLA TECNICA ELECTRA     33505217  RJ   \n",
       "4216             CENTRO VOCACIONAL TECNOLOGICO CORREIOS     33507244  RJ   \n",
       "4217           CENTRO VOCACIONAL TECNOLOGICO SANTA CRUZ     33508216  RJ   \n",
       "4224  CCPAC CENTRO DE CAPACITACAO PROFISSIONAL DE AR...     33520305  RJ   \n",
       "4229  ESCOLA LE MONDE PRODUCOES ARTISTICAS E CULTURA...     33522286  RJ   \n",
       "\n",
       "           Município Localização  \\\n",
       "0     Rio de Janeiro      Urbana   \n",
       "19    Rio de Janeiro      Urbana   \n",
       "26    Rio de Janeiro       Rural   \n",
       "31    Rio de Janeiro      Urbana   \n",
       "48    Rio de Janeiro      Urbana   \n",
       "...              ...         ...   \n",
       "4215  Rio de Janeiro      Urbana   \n",
       "4216  Rio de Janeiro      Urbana   \n",
       "4217  Rio de Janeiro      Urbana   \n",
       "4224  Rio de Janeiro      Urbana   \n",
       "4229  Rio de Janeiro      Urbana   \n",
       "\n",
       "                                Localidade Diferenciada  \\\n",
       "0                                         Não Informado   \n",
       "19                                        Não Informado   \n",
       "26                                        Não Informado   \n",
       "31                                        Não Informado   \n",
       "48                                        Não Informado   \n",
       "...                                                 ...   \n",
       "4215  A escola não está em área de localização difer...   \n",
       "4216                                      Não Informado   \n",
       "4217                                      Não Informado   \n",
       "4224  A escola não está em área de localização difer...   \n",
       "4229                                      Não Informado   \n",
       "\n",
       "     Categoria Administrativa  \\\n",
       "0                     Pública   \n",
       "19                    Pública   \n",
       "26                    Pública   \n",
       "31                    Pública   \n",
       "48                    Pública   \n",
       "...                       ...   \n",
       "4215                  Privada   \n",
       "4216                  Pública   \n",
       "4217                  Pública   \n",
       "4224                  Privada   \n",
       "4229                  Privada   \n",
       "\n",
       "                                               Endereço  ...  \\\n",
       "0     RUA JOAQUIM PALHARES, 648 ESTACIO. 20260-080 R...  ...   \n",
       "19    PRACA BARAO DE LADARIO, S/Nº ILHA DAS COBRAS E...  ...   \n",
       "26    RUA DO LAVRADIO, CENTRO. 20230-070 Rio de Jane...  ...   \n",
       "31    RUA MARIZ E BARROS, PRACA DA BANDEIRA. 20270-0...  ...   \n",
       "48    PRACA CONDESSA PAULO DE FRONTIM, RIO COMPRIDO....  ...   \n",
       "...                                                 ...  ...   \n",
       "4215  RUA ALFREDO DE MORAIS, 85 NAO POSSUI. CAMPO GR...  ...   \n",
       "4216  RUA LEOPOLDO BULHOES, 530 BENFICA. 20911-970 R...  ...   \n",
       "4217  LARGO DO BODEGAO, 46 SANTA CRUZ. 23550-050 Rio...  ...   \n",
       "4224  AVENIDA DAS AMERICAS, 15015 3º ANDAR. RECREIO ...  ...   \n",
       "4229  RUA CAMUIRANO, 60 BOTAFOGO. 22270-020 Rio de J...  ...   \n",
       "\n",
       "     Dependência Administrativa Categoria Escola Privada  \\\n",
       "0                      Estadual            Não Informado   \n",
       "19                      Federal            Não Informado   \n",
       "26                     Estadual            Não Informado   \n",
       "31                     Estadual            Não Informado   \n",
       "48                     Estadual            Não Informado   \n",
       "...                         ...                      ...   \n",
       "4215                    Privada               Particular   \n",
       "4216                   Estadual            Não Informado   \n",
       "4217                   Estadual            Não Informado   \n",
       "4224                    Privada               Particular   \n",
       "4229                    Privada            Não Informado   \n",
       "\n",
       "     Conveniada Poder Público Regulamentação pelo Conselho de Educação  \\\n",
       "0                         Não                                      NaN   \n",
       "19                        Não                                      NaN   \n",
       "26                        Não                                      NaN   \n",
       "31                        Não                                      NaN   \n",
       "48                        Não                                      NaN   \n",
       "...                       ...                                      ...   \n",
       "4215                      Não                                      Sim   \n",
       "4216                      Não                                      NaN   \n",
       "4217                      Não                                      NaN   \n",
       "4224                      Não                                      Sim   \n",
       "4229                      Não                                      NaN   \n",
       "\n",
       "                                  Porte da Escola  \\\n",
       "0                                             NaN   \n",
       "19                                            NaN   \n",
       "26                                            NaN   \n",
       "31                                            NaN   \n",
       "48                                            NaN   \n",
       "...                                           ...   \n",
       "4215  Entre 201 e 500 matrículas de escolarização   \n",
       "4216                                          NaN   \n",
       "4217                                          NaN   \n",
       "4224           Até 50 matrículas de escolarização   \n",
       "4229                                          NaN   \n",
       "\n",
       "     Etapas e Modalidade de Ensino Oferecidas Outras Ofertas Educacionais  \\\n",
       "0                                         NaN                         NaN   \n",
       "19                                        NaN                         NaN   \n",
       "26                                        NaN                         NaN   \n",
       "31                                        NaN                         NaN   \n",
       "48                                        NaN                         NaN   \n",
       "...                                       ...                         ...   \n",
       "4215                                      NaN                         NaN   \n",
       "4216                                      NaN                         NaN   \n",
       "4217                                      NaN                         NaN   \n",
       "4224                                      NaN                         NaN   \n",
       "4229                                      NaN                         NaN   \n",
       "\n",
       "       Latitude  Longitude  Modalidade  \n",
       "0    -22.911600 -43.211600           0  \n",
       "19   -22.898370 -43.176620           0  \n",
       "26   -22.910246 -43.182999           0  \n",
       "31   -22.911792 -43.214734           0  \n",
       "48   -22.924464 -43.209298           0  \n",
       "...         ...        ...         ...  \n",
       "4215 -22.899493 -43.559565           0  \n",
       "4216 -22.888842 -43.244741           0  \n",
       "4217 -22.926234 -43.690620           0  \n",
       "4224 -22.964930 -43.407530           0  \n",
       "4229 -22.954090 -43.193510           0  \n",
       "\n",
       "[369 rows x 21 columns]"
      ]
     },
     "execution_count": 46,
     "metadata": {},
     "output_type": "execute_result"
    }
   ],
   "source": [
    "df_inep_c.iloc[hg]"
   ]
  },
  {
   "cell_type": "code",
   "execution_count": 47,
   "metadata": {},
   "outputs": [],
   "source": [
    "for i,v in enumerate(escolha_i):\n",
    "    for j in v:\n",
    "        df_inep_c.at[j,'Modalidade'] = s_mod[i+1]"
   ]
  },
  {
   "cell_type": "code",
   "execution_count": 48,
   "metadata": {},
   "outputs": [
    {
     "data": {
      "text/plain": [
       "4244"
      ]
     },
     "execution_count": 48,
     "metadata": {},
     "output_type": "execute_result"
    }
   ],
   "source": [
    "len(df_inep_c)"
   ]
  },
  {
   "cell_type": "code",
   "execution_count": 49,
   "metadata": {},
   "outputs": [],
   "source": [
    "df_inep_c.dropna(subset = ['Latitude'], inplace = True)"
   ]
  },
  {
   "cell_type": "code",
   "execution_count": 50,
   "metadata": {
    "scrolled": true
   },
   "outputs": [
    {
     "data": {
      "text/plain": [
       "4103"
      ]
     },
     "execution_count": 50,
     "metadata": {},
     "output_type": "execute_result"
    }
   ],
   "source": [
    "len(df_inep_c)"
   ]
  },
  {
   "cell_type": "code",
   "execution_count": 116,
   "metadata": {},
   "outputs": [
    {
     "name": "stdout",
     "output_type": "stream",
     "text": [
      "2 1192\n",
      "3 649\n",
      "5 264\n",
      "6 1166\n",
      "7 54\n",
      "15 184\n",
      "21 104\n",
      "30 247\n",
      "35 131\n",
      "42 56\n",
      "105 35\n",
      "210 21\n"
     ]
    }
   ],
   "source": [
    "for i in s_mod:\n",
    "    (i, len(df_inep_c[df_inep_c['Modalidade'] == i]))"
   ]
  },
  {
   "cell_type": "code",
   "execution_count": 203,
   "metadata": {
    "scrolled": true
   },
   "outputs": [],
   "source": [
    "fracoes_grupos_total = np.array([.33, .92, .97, .8, 0.05])\n",
    "d = {s: np.zeros(5) for s in s_mod}\n",
    "\n",
    "for numero,k in enumerate([2, 3, 5, 7]):\n",
    "    total = 0\n",
    "    \n",
    "    for i in s_mod:\n",
    "        if i%k == 0:\n",
    "            total += len(df_inep_c[df_inep_c['Modalidade'] == i])\n",
    "            \n",
    "    for indice,i in enumerate(s_mod):\n",
    "        if i%k == 0:\n",
    "            porcent = len(df_inep_c[df_inep_c['Modalidade'] == i])/total\n",
    "            #print(porcent, i, k)   \n",
    "\n",
    "        if i%k == 0 and k == 2:\n",
    "            d[i][0] = porcent*fracoes_grupos_total[0]\n",
    "            d[i][1] = porcent*fracoes_grupos_total[1]\n",
    "\n",
    "        elif i%k ==0:\n",
    "            d[i][numero+1] = porcent*fracoes_grupos_total[numero+1]\n",
    "\n",
    "    "
   ]
  },
  {
   "cell_type": "code",
   "execution_count": 207,
   "metadata": {
    "scrolled": true
   },
   "outputs": [
    {
     "name": "stdout",
     "output_type": "stream",
     "text": [
      "0.33\n"
     ]
    }
   ],
   "source": [
    "## Verificando se as somas de cada grupo dão o total do grupo (fracoes_grupos_total)\n",
    "t = 0\n",
    "for s in s_mod:\n",
    "    t+= d[s][0]\n",
    "print(t)"
   ]
  },
  {
   "cell_type": "code",
   "execution_count": 208,
   "metadata": {},
   "outputs": [
    {
     "data": {
      "text/plain": [
       "{2: array([0.14666667, 0.40888889, 0.        , 0.        , 0.        ]),\n",
       " 3: array([0.        , 0.        , 0.25569862, 0.        , 0.        ]),\n",
       " 5: array([0.        , 0.        , 0.        , 0.23945578, 0.        ]),\n",
       " 6: array([0.14346756, 0.39997017, 0.45939074, 0.        , 0.        ]),\n",
       " 7: array([0.        , 0.        , 0.        , 0.        , 0.00673317]),\n",
       " 15: array([0.        , 0.        , 0.07249391, 0.16689342, 0.        ]),\n",
       " 21: array([0.        , 0.        , 0.04097482, 0.        , 0.01296758]),\n",
       " 30: array([0.0303915 , 0.08472782, 0.09731519, 0.22403628, 0.        ]),\n",
       " 35: array([0.        , 0.        , 0.        , 0.11882086, 0.01633416]),\n",
       " 42: array([0.00689038, 0.01920955, 0.02206336, 0.        , 0.00698254]),\n",
       " 105: array([0.        , 0.        , 0.0137896 , 0.03174603, 0.00436409]),\n",
       " 210: array([0.00258389, 0.00720358, 0.00827376, 0.01904762, 0.00261845])}"
      ]
     },
     "execution_count": 208,
     "metadata": {},
     "output_type": "execute_result"
    }
   ],
   "source": [
    "d"
   ]
  },
  {
   "cell_type": "markdown",
   "metadata": {},
   "source": [
    "## Salva novo CSV"
   ]
  },
  {
   "cell_type": "code",
   "execution_count": 51,
   "metadata": {},
   "outputs": [],
   "source": [
    "df_inep_c.to_csv('corrigido1.csv')"
   ]
  },
  {
   "cell_type": "markdown",
   "metadata": {},
   "source": [
    "## Separando as escolas"
   ]
  },
  {
   "cell_type": "code",
   "execution_count": 52,
   "metadata": {},
   "outputs": [
    {
     "data": {
      "text/plain": [
       "[0, 2, 3, 5, 6, 7, 15, 21, 30, 35, 42, 105, 210]"
      ]
     },
     "execution_count": 52,
     "metadata": {},
     "output_type": "execute_result"
    }
   ],
   "source": [
    "s_mod"
   ]
  },
  {
   "cell_type": "code",
   "execution_count": 53,
   "metadata": {},
   "outputs": [
    {
     "data": {
      "text/plain": [
       "{'Educação Infantil': 2,\n",
       " 'Ensino Fundamental': 3,\n",
       " 'Ensino Médio': 5,\n",
       " 'Educação de Jovens Adultos': 7}"
      ]
     },
     "execution_count": 53,
     "metadata": {},
     "output_type": "execute_result"
    }
   ],
   "source": [
    "categ"
   ]
  },
  {
   "cell_type": "code",
   "execution_count": 54,
   "metadata": {},
   "outputs": [
    {
     "data": {
      "text/plain": [
       "[0, 2, 3, 5, 6, 7, 15, 21, 30, 35, 42, 105, 210]"
      ]
     },
     "execution_count": 54,
     "metadata": {},
     "output_type": "execute_result"
    }
   ],
   "source": [
    "s_mod"
   ]
  },
  {
   "cell_type": "markdown",
   "metadata": {},
   "source": [
    "Públicas Infantil"
   ]
  },
  {
   "cell_type": "code",
   "execution_count": 58,
   "metadata": {},
   "outputs": [],
   "source": [
    "df_inep_c = pd.read_csv('inep_modalidades.csv')"
   ]
  },
  {
   "cell_type": "code",
   "execution_count": 59,
   "metadata": {},
   "outputs": [],
   "source": [
    "s_mod = sorted(list(set(df_inep_c['Modalidade'])))"
   ]
  },
  {
   "cell_type": "code",
   "execution_count": 60,
   "metadata": {},
   "outputs": [],
   "source": [
    "df_inep_infantil_pub = df_inep_c[df_inep_c['Dependência Administrativa'].str.contains('Municipal|Estadual')]"
   ]
  },
  {
   "cell_type": "code",
   "execution_count": 61,
   "metadata": {},
   "outputs": [],
   "source": [
    "df_inep_infantil_pub = df_inep_infantil_pub[df_inep_infantil_pub['Modalidade'] == 2]"
   ]
  },
  {
   "cell_type": "markdown",
   "metadata": {},
   "source": [
    "Públicas Fundamental"
   ]
  },
  {
   "cell_type": "code",
   "execution_count": 62,
   "metadata": {},
   "outputs": [],
   "source": [
    "df_inep_fundamental_pub = df_inep_c[df_inep_c['Dependência Administrativa'].str.contains('Municipal|Estadual')]"
   ]
  },
  {
   "cell_type": "code",
   "execution_count": 63,
   "metadata": {},
   "outputs": [],
   "source": [
    "df_inep_fundamental_pub = df_inep_fundamental_pub[df_inep_fundamental_pub['Modalidade'] == 3]"
   ]
  },
  {
   "cell_type": "markdown",
   "metadata": {},
   "source": [
    "Públicas Ensino Médio"
   ]
  },
  {
   "cell_type": "code",
   "execution_count": 64,
   "metadata": {},
   "outputs": [],
   "source": [
    "df_inep_medio_pub = df_inep_c[df_inep_c['Dependência Administrativa'].str.contains('Municipal|Estadual')]"
   ]
  },
  {
   "cell_type": "code",
   "execution_count": 65,
   "metadata": {},
   "outputs": [],
   "source": [
    "df_inep_medio_pub = df_inep_medio_pub[df_inep_medio_pub['Modalidade'] == 5]"
   ]
  },
  {
   "cell_type": "markdown",
   "metadata": {},
   "source": [
    "Públicas EJA"
   ]
  },
  {
   "cell_type": "code",
   "execution_count": 66,
   "metadata": {},
   "outputs": [],
   "source": [
    "df_inep_eja_pub = df_inep_c[df_inep_c['Dependência Administrativa'].str.contains('Municipal|Estadual')]"
   ]
  },
  {
   "cell_type": "code",
   "execution_count": 67,
   "metadata": {},
   "outputs": [],
   "source": [
    "df_inep_eja_pub = df_inep_eja_pub[df_inep_eja_pub['Modalidade'] == 7]"
   ]
  },
  {
   "cell_type": "markdown",
   "metadata": {},
   "source": [
    "Públicas Infantil + Fundamental"
   ]
  },
  {
   "cell_type": "code",
   "execution_count": 68,
   "metadata": {},
   "outputs": [],
   "source": [
    "df_inep_IF_pub = df_inep_c[df_inep_c['Dependência Administrativa'].str.contains('Municipal|Estadual')]"
   ]
  },
  {
   "cell_type": "code",
   "execution_count": 69,
   "metadata": {},
   "outputs": [],
   "source": [
    "df_inep_IF_pub = df_inep_IF_pub[df_inep_IF_pub['Modalidade'] == 6]"
   ]
  },
  {
   "cell_type": "markdown",
   "metadata": {},
   "source": [
    "Públicas Infantil + Fundamental + Médio"
   ]
  },
  {
   "cell_type": "code",
   "execution_count": 70,
   "metadata": {},
   "outputs": [],
   "source": [
    "df_inep_IFM_pub = df_inep_c[df_inep_c['Dependência Administrativa'].str.contains('Municipal|Estadual')]"
   ]
  },
  {
   "cell_type": "code",
   "execution_count": 71,
   "metadata": {},
   "outputs": [],
   "source": [
    "df_inep_IFM_pub = df_inep_IFM_pub[(df_inep_IFM_pub['Modalidade'] == 30) | (df_inep_IFM_pub['Modalidade'] == 15)]"
   ]
  },
  {
   "cell_type": "markdown",
   "metadata": {},
   "source": [
    "Públicas: Infantil + Fundamental + EJA"
   ]
  },
  {
   "cell_type": "code",
   "execution_count": 72,
   "metadata": {},
   "outputs": [],
   "source": [
    "df_inep_IFEja_pub = df_inep_c[df_inep_c['Dependência Administrativa'].str.contains('Municipal|Estadual')]"
   ]
  },
  {
   "cell_type": "code",
   "execution_count": 73,
   "metadata": {},
   "outputs": [],
   "source": [
    "df_inep_IFEja_pub = df_inep_IFEja_pub[(df_inep_IFEja_pub['Modalidade'] == 21) | (df_inep_IFEja_pub['Modalidade'] == 42)]"
   ]
  },
  {
   "cell_type": "markdown",
   "metadata": {},
   "source": [
    "Públicas: Infantil + Fundamental + Médio + EJA"
   ]
  },
  {
   "cell_type": "code",
   "execution_count": 74,
   "metadata": {},
   "outputs": [],
   "source": [
    "df_inep_MEja_pub = df_inep_c[df_inep_c['Dependência Administrativa'].str.contains('Municipal|Estadual')]"
   ]
  },
  {
   "cell_type": "code",
   "execution_count": 75,
   "metadata": {},
   "outputs": [],
   "source": [
    "df_inep_MEja_pub = df_inep_MEja_pub[(df_inep_MEja_pub['Modalidade'] == 35) | (df_inep_MEja_pub['Modalidade'] == 105) | (df_inep_MEja_pub['Modalidade'] == 210)]"
   ]
  },
  {
   "cell_type": "code",
   "execution_count": 76,
   "metadata": {},
   "outputs": [
    {
     "data": {
      "text/plain": [
       "1964"
      ]
     },
     "execution_count": 76,
     "metadata": {},
     "output_type": "execute_result"
    }
   ],
   "source": [
    "len(df_inep_infantil_pub) + len(df_inep_fundamental_pub) + len(df_inep_medio_pub) + len(df_inep_eja_pub) + len(df_inep_IFM_pub) + len(df_inep_IFEja_pub) + len(df_inep_MEja_pub) + len(df_inep_IF_pub)"
   ]
  },
  {
   "cell_type": "code",
   "execution_count": 77,
   "metadata": {},
   "outputs": [
    {
     "data": {
      "text/plain": [
       "1964"
      ]
     },
     "execution_count": 77,
     "metadata": {},
     "output_type": "execute_result"
    }
   ],
   "source": [
    "len(df_inep_c[df_inep_c['Dependência Administrativa'].str.contains('Municipal|Estadual')])"
   ]
  },
  {
   "cell_type": "markdown",
   "metadata": {},
   "source": [
    "Federais\n",
    "\n",
    "Apenas `4` escolas federais contemplam `apenas` Ensino Médio, então estamos aproximando todas as federais na categoria `30` (Infantil, Fundamental e Médio)"
   ]
  },
  {
   "cell_type": "code",
   "execution_count": 78,
   "metadata": {},
   "outputs": [],
   "source": [
    "df_inep_medio_fed = df_inep_c[df_inep_c['Dependência Administrativa'].str.contains('Federal')]"
   ]
  },
  {
   "cell_type": "markdown",
   "metadata": {},
   "source": [
    "Privadas"
   ]
  },
  {
   "cell_type": "code",
   "execution_count": 79,
   "metadata": {},
   "outputs": [],
   "source": [
    "prv = df_inep_c[df_inep_c['Dependência Administrativa'].str.contains('Privada')]"
   ]
  },
  {
   "cell_type": "code",
   "execution_count": 80,
   "metadata": {},
   "outputs": [],
   "source": [
    "pub = df_inep_c[df_inep_c['Dependência Administrativa'].str.contains('Estadual|Municipal')]"
   ]
  },
  {
   "cell_type": "code",
   "execution_count": 81,
   "metadata": {},
   "outputs": [],
   "source": [
    "dfs_pub = [pub[pub['Modalidade'] == i] for i in s_mod]"
   ]
  },
  {
   "cell_type": "code",
   "execution_count": 82,
   "metadata": {},
   "outputs": [],
   "source": [
    "dfs_prv = [prv[prv['Modalidade'] == i] for i in s_mod]"
   ]
  },
  {
   "cell_type": "code",
   "execution_count": 83,
   "metadata": {},
   "outputs": [],
   "source": [
    "len_pub = [len(i) for i in dfs_pub]"
   ]
  },
  {
   "cell_type": "code",
   "execution_count": 84,
   "metadata": {},
   "outputs": [],
   "source": [
    "len_prv = [len(i) for i in dfs_prv]"
   ]
  },
  {
   "cell_type": "code",
   "execution_count": 85,
   "metadata": {},
   "outputs": [],
   "source": [
    "len_fed = len(df_inep_medio_fed )"
   ]
  },
  {
   "cell_type": "code",
   "execution_count": 86,
   "metadata": {},
   "outputs": [
    {
     "data": {
      "text/plain": [
       "4103"
      ]
     },
     "execution_count": 86,
     "metadata": {},
     "output_type": "execute_result"
    }
   ],
   "source": [
    "np.sum(len_pub)+np.sum(len_prv)+len_fed"
   ]
  },
  {
   "cell_type": "code",
   "execution_count": 89,
   "metadata": {},
   "outputs": [],
   "source": [
    "# for i,s in enumerate(dfs_pub):\n",
    "#     s.to_csv(f'DADOS_ESCOLAS/escolas_publicas_{s_mod[i]}.csv')"
   ]
  },
  {
   "cell_type": "code",
   "execution_count": 90,
   "metadata": {},
   "outputs": [],
   "source": [
    "# for i,s in enumerate(dfs_prv):\n",
    "#     s.to_csv(f'DADOS_ESCOLAS/escolas_privadas_{s_mod[i]}.csv')"
   ]
  },
  {
   "cell_type": "code",
   "execution_count": 92,
   "metadata": {},
   "outputs": [],
   "source": [
    "# df_inep_medio_fed.to_csv('DADOS_ESCOLAS/escolas_federais.csv')"
   ]
  },
  {
   "cell_type": "code",
   "execution_count": 101,
   "metadata": {},
   "outputs": [],
   "source": [
    "# !4d"
   ]
  },
  {
   "cell_type": "code",
   "execution_count": 94,
   "metadata": {},
   "outputs": [
    {
     "data": {
      "text/html": [
       "<div>\n",
       "<style scoped>\n",
       "    .dataframe tbody tr th:only-of-type {\n",
       "        vertical-align: middle;\n",
       "    }\n",
       "\n",
       "    .dataframe tbody tr th {\n",
       "        vertical-align: top;\n",
       "    }\n",
       "\n",
       "    .dataframe thead th {\n",
       "        text-align: right;\n",
       "    }\n",
       "</style>\n",
       "<table border=\"1\" class=\"dataframe\">\n",
       "  <thead>\n",
       "    <tr style=\"text-align: right;\">\n",
       "      <th></th>\n",
       "      <th>Unnamed: 0</th>\n",
       "      <th>Unnamed: 0.1</th>\n",
       "      <th>Restrição de Atendimento</th>\n",
       "      <th>Escola</th>\n",
       "      <th>Código INEP</th>\n",
       "      <th>UF</th>\n",
       "      <th>Município</th>\n",
       "      <th>Localização</th>\n",
       "      <th>Localidade Diferenciada</th>\n",
       "      <th>Categoria Administrativa</th>\n",
       "      <th>...</th>\n",
       "      <th>Dependência Administrativa</th>\n",
       "      <th>Categoria Escola Privada</th>\n",
       "      <th>Conveniada Poder Público</th>\n",
       "      <th>Regulamentação pelo Conselho de Educação</th>\n",
       "      <th>Porte da Escola</th>\n",
       "      <th>Etapas e Modalidade de Ensino Oferecidas</th>\n",
       "      <th>Outras Ofertas Educacionais</th>\n",
       "      <th>Latitude</th>\n",
       "      <th>Longitude</th>\n",
       "      <th>Modalidade</th>\n",
       "    </tr>\n",
       "  </thead>\n",
       "  <tbody>\n",
       "    <tr>\n",
       "      <th>3070</th>\n",
       "      <td>3134</td>\n",
       "      <td>3134</td>\n",
       "      <td>ESCOLA EM FUNCIONAMENTO E SEM RESTRIÇÃO DE ATE...</td>\n",
       "      <td>CENTRO EDUCACIONAL FERNANDES BRASILEIRO LTDA</td>\n",
       "      <td>33160562</td>\n",
       "      <td>RJ</td>\n",
       "      <td>Rio de Janeiro</td>\n",
       "      <td>Urbana</td>\n",
       "      <td>A escola não está em área de localização difer...</td>\n",
       "      <td>Privada</td>\n",
       "      <td>...</td>\n",
       "      <td>Privada</td>\n",
       "      <td>Particular</td>\n",
       "      <td>Não</td>\n",
       "      <td>Sim</td>\n",
       "      <td>Entre 51 e 200 matrículas de escolarização</td>\n",
       "      <td>Educação Infantil, Ensino Fundamental</td>\n",
       "      <td>NaN</td>\n",
       "      <td>-22.730947</td>\n",
       "      <td>-43.300926</td>\n",
       "      <td>6</td>\n",
       "    </tr>\n",
       "  </tbody>\n",
       "</table>\n",
       "<p>1 rows × 22 columns</p>\n",
       "</div>"
      ],
      "text/plain": [
       "      Unnamed: 0  Unnamed: 0.1  \\\n",
       "3070        3134          3134   \n",
       "\n",
       "                               Restrição de Atendimento  \\\n",
       "3070  ESCOLA EM FUNCIONAMENTO E SEM RESTRIÇÃO DE ATE...   \n",
       "\n",
       "                                            Escola  Código INEP  UF  \\\n",
       "3070  CENTRO EDUCACIONAL FERNANDES BRASILEIRO LTDA     33160562  RJ   \n",
       "\n",
       "           Município Localização  \\\n",
       "3070  Rio de Janeiro      Urbana   \n",
       "\n",
       "                                Localidade Diferenciada  \\\n",
       "3070  A escola não está em área de localização difer...   \n",
       "\n",
       "     Categoria Administrativa  ... Dependência Administrativa  \\\n",
       "3070                  Privada  ...                    Privada   \n",
       "\n",
       "     Categoria Escola Privada Conveniada Poder Público  \\\n",
       "3070               Particular                      Não   \n",
       "\n",
       "     Regulamentação pelo Conselho de Educação  \\\n",
       "3070                                      Sim   \n",
       "\n",
       "                                 Porte da Escola  \\\n",
       "3070  Entre 51 e 200 matrículas de escolarização   \n",
       "\n",
       "     Etapas e Modalidade de Ensino Oferecidas Outras Ofertas Educacionais  \\\n",
       "3070    Educação Infantil, Ensino Fundamental                         NaN   \n",
       "\n",
       "       Latitude  Longitude  Modalidade  \n",
       "3070 -22.730947 -43.300926           6  \n",
       "\n",
       "[1 rows x 22 columns]"
      ]
     },
     "execution_count": 94,
     "metadata": {},
     "output_type": "execute_result"
    }
   ],
   "source": [
    "df_inep_c[df_inep_c['Escola'] == 'CENTRO EDUCACIONAL FERNANDES BRASILEIRO LTDA']"
   ]
  },
  {
   "cell_type": "code",
   "execution_count": 95,
   "metadata": {},
   "outputs": [
    {
     "data": {
      "text/plain": [
       "[2, 3, 5, 6, 7, 15, 21, 30, 35, 42, 105, 210]"
      ]
     },
     "execution_count": 95,
     "metadata": {},
     "output_type": "execute_result"
    }
   ],
   "source": [
    "s_mod"
   ]
  },
  {
   "cell_type": "code",
   "execution_count": 96,
   "metadata": {},
   "outputs": [
    {
     "data": {
      "text/plain": [
       "(-22.8425538, -43.3539719)"
      ]
     },
     "execution_count": 96,
     "metadata": {},
     "output_type": "execute_result"
    }
   ],
   "source": [
    "-22.8425538,-43.3539719"
   ]
  },
  {
   "cell_type": "code",
   "execution_count": 97,
   "metadata": {},
   "outputs": [],
   "source": [
    "n = 3070"
   ]
  },
  {
   "cell_type": "code",
   "execution_count": 98,
   "metadata": {},
   "outputs": [],
   "source": [
    "df_inep_c.at[n, 'Latitude'] = -22.8425538\n",
    "df_inep_c.at[n, 'Longitude'] = -43.3539719"
   ]
  },
  {
   "cell_type": "code",
   "execution_count": 99,
   "metadata": {},
   "outputs": [
    {
     "data": {
      "text/plain": [
       "Unnamed: 0                                                                               3134\n",
       "Unnamed: 0.1                                                                             3134\n",
       "Restrição de Atendimento                    ESCOLA EM FUNCIONAMENTO E SEM RESTRIÇÃO DE ATE...\n",
       "Escola                                           CENTRO EDUCACIONAL FERNANDES BRASILEIRO LTDA\n",
       "Código INEP                                                                          33160562\n",
       "UF                                                                                         RJ\n",
       "Município                                                                      Rio de Janeiro\n",
       "Localização                                                                            Urbana\n",
       "Localidade Diferenciada                     A escola não está em área de localização difer...\n",
       "Categoria Administrativa                                                              Privada\n",
       "Endereço                                    RUA DIAMANTES, 1238 ROCHA MIRANDA. 21510-005 R...\n",
       "Telefone                                                                        (21) 34559754\n",
       "Dependência Administrativa                                                            Privada\n",
       "Categoria Escola Privada                                                           Particular\n",
       "Conveniada Poder Público                                                                  Não\n",
       "Regulamentação pelo Conselho de Educação                                                  Sim\n",
       "Porte da Escola                                    Entre 51 e 200 matrículas de escolarização\n",
       "Etapas e Modalidade de Ensino Oferecidas                Educação Infantil, Ensino Fundamental\n",
       "Outras Ofertas Educacionais                                                               NaN\n",
       "Latitude                                                                             -22.8426\n",
       "Longitude                                                                             -43.354\n",
       "Modalidade                                                                                  6\n",
       "Name: 3070, dtype: object"
      ]
     },
     "execution_count": 99,
     "metadata": {},
     "output_type": "execute_result"
    }
   ],
   "source": [
    "df_inep_c.iloc[n]"
   ]
  },
  {
   "cell_type": "code",
   "execution_count": 100,
   "metadata": {},
   "outputs": [],
   "source": [
    "df_inep_c.to_csv('corrigido1.csv')"
   ]
  },
  {
   "cell_type": "code",
   "execution_count": null,
   "metadata": {},
   "outputs": [],
   "source": []
  }
 ],
 "metadata": {
  "kernelspec": {
   "display_name": "Python 3",
   "language": "python",
   "name": "python3"
  },
  "language_info": {
   "codemirror_mode": {
    "name": "ipython",
    "version": 3
   },
   "file_extension": ".py",
   "mimetype": "text/x-python",
   "name": "python",
   "nbconvert_exporter": "python",
   "pygments_lexer": "ipython3",
   "version": "3.6.8"
  }
 },
 "nbformat": 4,
 "nbformat_minor": 4
}
