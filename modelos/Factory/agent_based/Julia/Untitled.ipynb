{
 "cells": [
  {
   "cell_type": "code",
   "execution_count": 1,
   "metadata": {},
   "outputs": [
    {
     "data": {
      "text/plain": [
       "2-element Array{Float64,1}:\n",
       " 0.8407644738541276\n",
       " 0.9485776792288316"
      ]
     },
     "execution_count": 1,
     "metadata": {},
     "output_type": "execute_result"
    }
   ],
   "source": [
    "a = rand(2)"
   ]
  },
  {
   "cell_type": "code",
   "execution_count": 7,
   "metadata": {},
   "outputs": [
    {
     "data": {
      "text/plain": [
       "IOStream(<file Imperial College/saidas/1/dist/22.eps>)"
      ]
     },
     "execution_count": 7,
     "metadata": {},
     "output_type": "execute_result"
    }
   ],
   "source": [
    "file = open(\"Imperial College/saidas/1/dist/22.eps\")"
   ]
  },
  {
   "cell_type": "code",
   "execution_count": 8,
   "metadata": {},
   "outputs": [],
   "source": [
    "a = read(file)\n",
    "close(file)"
   ]
  },
  {
   "cell_type": "code",
   "execution_count": 26,
   "metadata": {},
   "outputs": [],
   "source": [
    "a = reinterpret(Float16, a);"
   ]
  },
  {
   "cell_type": "code",
   "execution_count": 23,
   "metadata": {},
   "outputs": [
    {
     "data": {
      "text/plain": [
       "69"
      ]
     },
     "execution_count": 23,
     "metadata": {},
     "output_type": "execute_result"
    }
   ],
   "source": [
    "n = Int(sqrt(length(a)))"
   ]
  },
  {
   "cell_type": "code",
   "execution_count": 24,
   "metadata": {
    "scrolled": true
   },
   "outputs": [],
   "source": [
    "a = reshape(a, (n, n));"
   ]
  },
  {
   "cell_type": "code",
   "execution_count": 30,
   "metadata": {},
   "outputs": [],
   "source": [
    "n = 100\n",
    "a = rand(n, 2);"
   ]
  },
  {
   "cell_type": "code",
   "execution_count": 32,
   "metadata": {},
   "outputs": [
    {
     "data": {
      "text/plain": [
       "rowWiseNorm (generic function with 1 method)"
      ]
     },
     "execution_count": 32,
     "metadata": {},
     "output_type": "execute_result"
    }
   ],
   "source": [
    "function rowWiseNorm(A)\n",
    "    \"\"\"\n",
    "        Função para calcular a norma dos vetores linha de uma matriz\n",
    "    \"\"\"\n",
    "    return sqrt.(sum(abs2, A, dims=2)[:, 1])\n",
    "end"
   ]
  },
  {
   "cell_type": "code",
   "execution_count": 36,
   "metadata": {},
   "outputs": [
    {
     "data": {
      "text/plain": [
       "powerDecay (generic function with 1 method)"
      ]
     },
     "execution_count": 36,
     "metadata": {},
     "output_type": "execute_result"
    }
   ],
   "source": [
    "function powerDecay(a::Number, b::Number, x)\n",
    "    y = rowWiseNorm(x)\n",
    "    return 1.0 ./ (1.0 .+ (y ./ a) .^ b)\n",
    "end"
   ]
  },
  {
   "cell_type": "code",
   "execution_count": 37,
   "metadata": {},
   "outputs": [
    {
     "data": {
      "text/plain": [
       "fKernel (generic function with 1 method)"
      ]
     },
     "execution_count": 37,
     "metadata": {},
     "output_type": "execute_result"
    }
   ],
   "source": [
    "fKernel(x) = powerDecay(1., 1.5, x)"
   ]
  },
  {
   "cell_type": "code",
   "execution_count": 35,
   "metadata": {},
   "outputs": [
    {
     "data": {
      "text/plain": [
       "2×100 LinearAlgebra.Adjoint{Float64,Array{Float64,2}}:\n",
       " 0.0670428  0.73984   0.830615  0.887335  …  0.557727  0.402505  0.524751\n",
       " 0.732297   0.818172  0.651639  0.234689     0.321574  0.651354  0.371769"
      ]
     },
     "execution_count": 35,
     "metadata": {},
     "output_type": "execute_result"
    }
   ],
   "source": [
    "a'"
   ]
  },
  {
   "cell_type": "code",
   "execution_count": 38,
   "metadata": {},
   "outputs": [
    {
     "data": {
      "text/plain": [
       "100-element Array{Float64,1}:\n",
       " 1.0\n",
       " 0.641607305653876\n",
       " 0.5977981678324606\n",
       " 0.5155286283652875\n",
       " 0.7756536626126095\n",
       " 0.519802918698935\n",
       " 0.9158279505925838\n",
       " 0.5326685739486048\n",
       " 0.7707603908669682\n",
       " 0.735434559746092\n",
       " 0.6546910690542145\n",
       " 0.9380275047669919\n",
       " 0.5633273206187993\n",
       " ⋮\n",
       " 0.5464956301508184\n",
       " 0.7196020852627464\n",
       " 0.759721949332135\n",
       " 0.5428786676155435\n",
       " 0.7460996782929975\n",
       " 0.8901404937361335\n",
       " 0.6313366143873063\n",
       " 0.8545322725724134\n",
       " 0.6533303449246494\n",
       " 0.6614315316598387\n",
       " 0.831448246112358\n",
       " 0.6921653714603561"
      ]
     },
     "execution_count": 38,
     "metadata": {},
     "output_type": "execute_result"
    }
   ],
   "source": [
    "fKernel(a .- a[1, :]')"
   ]
  },
  {
   "cell_type": "code",
   "execution_count": 42,
   "metadata": {},
   "outputs": [],
   "source": [
    "aux = zeros(Float16, n, n)\n",
    "for i in 1:n\n",
    "    aux[i, :] += fKernel(a .- a[i, :]')\n",
    "end"
   ]
  },
  {
   "cell_type": "code",
   "execution_count": 50,
   "metadata": {},
   "outputs": [
    {
     "data": {
      "text/plain": [
       "100×100 Array{Float16,2}:\n",
       " 49.9   51.1   51.25  48.22  53.47  …  53.6   54.56  54.28  55.62  55.12\n",
       " 51.1   56.88  57.0   53.1   57.72     55.25  59.44  58.25  59.06  59.0\n",
       " 51.25  57.0   57.72  54.44  57.75     55.88  60.38  59.38  59.25  60.03\n",
       " 48.22  53.1   54.44  53.5   53.9      53.5   58.0   57.72  55.9   58.03\n",
       " 53.47  57.72  57.75  53.9   59.38     57.56  60.7   59.8   60.88  60.6\n",
       " 46.84  50.5   52.0   51.75  51.62  …  52.25  55.88  56.03  54.0   56.34\n",
       " 52.44  54.8   54.88  51.38  56.94     56.25  58.06  57.62  58.94  58.3\n",
       " 44.88  50.6   50.88  47.2   50.88     48.47  52.72  51.44  51.88  51.9\n",
       " 52.62  54.44  55.34  53.38  56.56     57.94  59.3   59.78  59.34  60.38\n",
       " 56.06  60.2   61.0   58.1   61.75     61.2   64.8   64.25  64.25  65.1\n",
       " 44.06  45.06  45.9   44.62  46.97  …  48.62  49.5   49.97  49.47  50.5\n",
       " 53.5   55.34  55.56  52.5   57.62     57.75  59.25  59.03  59.9   59.8\n",
       " 50.25  54.34  55.88  55.22  55.5      55.94  59.88  59.94  58.0   60.2\n",
       "  ⋮                                 ⋱   ⋮                          \n",
       " 49.25  53.25  54.75  54.22  54.4      54.78  58.75  58.94  56.78  59.16\n",
       " 54.38  59.28  59.75  56.0   60.78     58.94  62.75  61.8   62.38  62.44\n",
       " 53.7   55.88  56.7   54.8   58.0   …  59.2   60.94  61.28  60.72  61.78\n",
       " 48.7   52.62  54.06  53.66  53.7      54.38  58.06  58.2   56.16  58.5\n",
       " 56.2   60.2   60.94  57.97  61.8      61.3   64.75  64.1   64.1   64.9\n",
       " 53.12  54.62  55.12  52.5   57.0      57.75  58.94  59.06  59.5   59.75\n",
       " 50.7   56.3   56.6   52.8   57.12     54.78  59.0   57.75  58.44  58.5\n",
       " 53.6   55.25  55.88  53.5   57.56  …  58.5   59.84  59.97  60.2   60.66\n",
       " 54.56  59.44  60.38  58.0   60.7      59.84  64.1   63.56  62.84  64.1\n",
       " 54.28  58.25  59.38  57.72  59.8      59.97  63.56  63.38  62.3   63.94\n",
       " 55.62  59.06  59.25  55.9   60.88     60.2   62.84  62.3   63.06  63.12\n",
       " 55.12  59.0   60.03  58.03  60.6      60.66  64.1   63.94  63.12  64.56"
      ]
     },
     "execution_count": 50,
     "metadata": {},
     "output_type": "execute_result"
    }
   ],
   "source": [
    "aux * aux"
   ]
  }
 ],
 "metadata": {
  "kernelspec": {
   "display_name": "Julia 1.4.1",
   "language": "julia",
   "name": "julia-1.4"
  },
  "language_info": {
   "file_extension": ".jl",
   "mimetype": "application/julia",
   "name": "julia",
   "version": "1.4.1"
  }
 },
 "nbformat": 4,
 "nbformat_minor": 2
}
