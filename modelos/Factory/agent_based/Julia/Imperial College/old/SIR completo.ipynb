{
 "cells": [
  {
   "cell_type": "code",
   "execution_count": 1,
   "metadata": {},
   "outputs": [],
   "source": [
    "using StatsBase"
   ]
  },
  {
   "cell_type": "code",
   "execution_count": 2,
   "metadata": {},
   "outputs": [
    {
     "data": {
      "text/plain": [
       "rowWiseNorm (generic function with 1 method)"
      ]
     },
     "execution_count": 2,
     "metadata": {},
     "output_type": "execute_result"
    }
   ],
   "source": [
    "struct Populacao\n",
    "    n::Integer\n",
    "    I0::Integer\n",
    "    estadoInicial::Array{T} where T <: Integer\n",
    "    residencia::Array{T} where T <: Integer\n",
    "    bairro::Array{T} where T <: Integer\n",
    "    social::Array{T} where T <: Integer\n",
    "    posicao::Array{Float64, 2}\n",
    "    estadoAtual::Array{T} where T <: Integer\n",
    "end\n",
    "\n",
    "struct ResumoPopulacao\n",
    "    populacao::Populacao\n",
    "    nResidencias::Integer\n",
    "    residencias::Array\n",
    "    nSociais::Integer\n",
    "    sociais::Array\n",
    "    nBairros::Integer\n",
    "    bairros::Array\n",
    "    distanciaBairral::Array{T, 2} where T <: Number\n",
    "end\n",
    "\n",
    "function selectiveRand(v)\n",
    "    aux = zeros(length(v))\n",
    "    aux[v] .= rand(sum(v))\n",
    "    return aux\n",
    "end\n",
    "\n",
    "function rowWiseNorm(A)\n",
    "    return sqrt.(sum(abs2, A, dims=2)[:, 1])\n",
    "end"
   ]
  },
  {
   "cell_type": "code",
   "execution_count": 3,
   "metadata": {},
   "outputs": [
    {
     "data": {
      "text/plain": [
       "evolucaoMista (generic function with 1 method)"
      ]
     },
     "execution_count": 3,
     "metadata": {},
     "output_type": "execute_result"
    }
   ],
   "source": [
    "function foo(resumoPop, suscetiveis, infectados, fKernel)\n",
    "    aux = zeros(sum(suscetiveis))\n",
    "    aux2 = (1:resumoPop.populacao.n)[suscetiveis]\n",
    "    Threads.@threads for i in 1:length(sum(suscetiveis))\n",
    "        aux[i] = calculaDistancia(resumoPop, i, infectados, fKernel)\n",
    "    end\n",
    "    return aux\n",
    "end\n",
    "\n",
    "function miniPassoMatricial(estados::Array{T} where T <: Integer)\n",
    "    popSuscetiveis = estados.==1\n",
    "    popInfectados = estados.==2\n",
    "    \n",
    "    n = length(estados)\n",
    "    nInfectados = sum(popInfectados)\n",
    "    nSuscetiveis = sum(popSuscetiveis)\n",
    "\n",
    "    expostos = zeros(Bool, n, n)\n",
    "    expostos[popSuscetiveis, popInfectados] .= true\n",
    "    return sum(expostos, dims=2)[:, 1]\n",
    "end\n",
    "\n",
    "function passoMisto(resumoPop::ResumoPopulacao, \n",
    "        α::Array{T} where T <: Number, β::Array{T} where T <: Number, θ::Array{T} where T <: Number, \n",
    "        γ::Number, δ::Number, fKernel)\n",
    "    \"\"\"\n",
    "        Entrada:\n",
    "            resumoPop: \n",
    "            α: taxa de transmissão residencial\n",
    "            β: taxa de transmissão social\n",
    "            θ: taxa de transmissão global\n",
    "            γ: probabilidade de não recuperação\n",
    "            δ: tamanho do passo temporal\n",
    "            fKernel: ?\n",
    "    \"\"\"\n",
    "    pop = resumoPop.populacao\n",
    "    popSuscetiveis = pop.estadoAtual.==1\n",
    "    popInfectados = pop.estadoAtual.==2\n",
    "    \n",
    "    contatos = zeros(pop.n)\n",
    "    Threads.@threads for i in resumoPop.residencias\n",
    "        contatos[i] .+= miniPassoMatricial(pop.estadoAtual[i]) .* α[i]\n",
    "    end\n",
    "    \n",
    "    Threads.@threads for i in resumoPop.sociais\n",
    "        contatos[i] .+= miniPassoMatricial(pop.estadoAtual[i]) .* β[i]\n",
    "    end\n",
    "    \n",
    "    #contatos .+= sum(resumoPop.globalKernel[:, popInfectados], dims=2)[:, 1] .* θ\n",
    "    contatos[popSuscetiveis] .+= foo(resumoPop, popSuscetiveis, popInfectados, fKernel)\n",
    "    \n",
    "    prob = exp.(- δ .* contatos)\n",
    "    \n",
    "    novosInfectados = selectiveRand(popSuscetiveis) .> prob\n",
    "    novosRecuperados = selectiveRand(popInfectados) .> γ\n",
    "    \n",
    "    infectados = ((popInfectados .& (.~novosRecuperados)) .| novosInfectados)\n",
    "    suscetiveis = (popSuscetiveis .& (.~novosInfectados))\n",
    "\n",
    "    return 3 .* ones(Int, pop.n) .- 2 .* suscetiveis .- infectados\n",
    "end\n",
    "\n",
    "function evolucaoMista(\n",
    "        resumoPop::ResumoPopulacao, tempos::Array{T} where T <: Number, nSim::Integer, \n",
    "        α::Array{T} where T <: Number, β::Array{T} where T <: Number, θ::Array{T} where T <: Number, γ::Number, fKernel)\n",
    "    \"\"\"\n",
    "        Entrada:\n",
    "            resumoPop: \n",
    "            tempos:\n",
    "            α: taxa de transmissão residencial\n",
    "            β: taxa de transmissão social\n",
    "            θ: taxa de transmissão global\n",
    "            γ: parâmetro da exponencial de não recuperação\n",
    "            δ: tamanho do passo temporal\n",
    "            fKernel: ?\n",
    "    \"\"\"\n",
    "    populacao = resumoPop.populacao\n",
    "    \n",
    "    nT = length(tempos)\n",
    "    passos = tempos[2:end] - tempos[1:(end-1)]\n",
    "    Γ = exp.(- γ .* passos)\n",
    "    \n",
    "    S = zeros(nSim, nT)\n",
    "    I = zeros(nSim, nT)\n",
    "    R = zeros(nSim, nT)\n",
    "    \n",
    "    S[:, 1] .= populacao.n - populacao.I0\n",
    "    I[:, 1] .= populacao.I0\n",
    "    \n",
    "    for j in 1:nSim\n",
    "        populacao.estadoAtual .= populacao.estadoInicial\n",
    "        for (k, δ) in enumerate(passos)\n",
    "            @time populacao.estadoAtual .= passoMisto(resumoPop, α, β, θ, Γ[k], δ, fKernel)\n",
    "            \n",
    "            S[j, k+1] = sum(populacao.estadoAtual .== 1)\n",
    "            I[j, k+1] = sum(populacao.estadoAtual .== 2)\n",
    "            R[j, k+1] = sum(populacao.estadoAtual .== 3)\n",
    "        end\n",
    "    end\n",
    "    return S,I,R\n",
    "end"
   ]
  },
  {
   "cell_type": "code",
   "execution_count": 4,
   "metadata": {},
   "outputs": [],
   "source": [
    "using BenchmarkTools"
   ]
  },
  {
   "cell_type": "code",
   "execution_count": 5,
   "metadata": {},
   "outputs": [
    {
     "data": {
      "text/plain": [
       "geraPopulacaoAleatoria (generic function with 1 method)"
      ]
     },
     "execution_count": 5,
     "metadata": {},
     "output_type": "execute_result"
    }
   ],
   "source": [
    "function geraPopulacaoAleatoria(n, I0, nResidencias, nSociais, bairrosShape)\n",
    "    pop0 = ones(Int, n)\n",
    "    pop0[StatsBase.sample(1:n, I0, replace=false)] .= 2;\n",
    "    residencia = rand(1:nResidencias, n)\n",
    "    social = rand(1:nSociais, n)\n",
    "    residenciasPos = rand(nResidencias, 2) .* bairrosShape'\n",
    "    residenciasBai = [\n",
    "        ceil(Int, residenciasPos[i, 1] / bairrosShape[1]) + \n",
    "        floor(Int, residenciasPos[i, 2] / bairrosShape[2]) * bairrosShape[2]\n",
    "        for i in 1:nResidencias\n",
    "    ]\n",
    "    posicao = zeros(n, 2)\n",
    "    bairro = zeros(Int, n)\n",
    "    Threads.@threads for i in 1:n\n",
    "        posicao[i, :] .= residenciasPos[residencia[i], :]\n",
    "        bairro[i] = residenciasBai[residencia[i]]\n",
    "    end\n",
    "    return Populacao(n, I0, pop0, residencia, bairro, social, posicao, copy(pop0))\n",
    "end"
   ]
  },
  {
   "cell_type": "code",
   "execution_count": 6,
   "metadata": {},
   "outputs": [
    {
     "data": {
      "text/plain": [
       "calculaDistancia (generic function with 1 method)"
      ]
     },
     "execution_count": 6,
     "metadata": {},
     "output_type": "execute_result"
    }
   ],
   "source": [
    "function calculaDistancia(resumoPop::ResumoPopulacao, i::Integer, infectados, fKernel)\n",
    "    pop = resumoPop.populacao\n",
    "    bairro = pop.bairro[i]\n",
    "    aux = 0.\n",
    "    aux += sum([sum(infectados[i]) for i in resumoPop.bairros] .* resumoPop.distanciaBairral[bairro, :])\n",
    "    aux += sum(fKernel(pop.posicao[resumoPop.bairros[bairro], :] .- pop.posicao[i, :]'))\n",
    "    return aux\n",
    "end"
   ]
  },
  {
   "cell_type": "code",
   "execution_count": 7,
   "metadata": {},
   "outputs": [
    {
     "data": {
      "text/plain": [
       "power_decay (generic function with 1 method)"
      ]
     },
     "execution_count": 7,
     "metadata": {},
     "output_type": "execute_result"
    }
   ],
   "source": [
    "function power_decay(a::Array)\n",
    "    b = rowWiseNorm(a)\n",
    "    return sum(b ./ (b .+ 1.5));\n",
    "end"
   ]
  },
  {
   "cell_type": "code",
   "execution_count": 8,
   "metadata": {},
   "outputs": [
    {
     "data": {
      "text/plain": [
       "resumePopulacao (generic function with 1 method)"
      ]
     },
     "execution_count": 8,
     "metadata": {},
     "output_type": "execute_result"
    }
   ],
   "source": [
    "function resumePopulacao(populacao::Populacao, fKernel)\n",
    "    @time begin\n",
    "    nResidencias = maximum(populacao.residencia)\n",
    "    nSociais = maximum(populacao.social)\n",
    "    nBairros = maximum(populacao.bairro)\n",
    "    \n",
    "    residencias = [(1:populacao.n)[populacao.residencia .== i] for i in 1:nResidencias]\n",
    "    sociais = [(1:populacao.n)[populacao.social .== i] for i in 1:nSociais]\n",
    "    bairros = [(1:populacao.n)[populacao.bairro .== i] for i in 1:nBairros]\n",
    "    end\n",
    "    \n",
    "    @time centros = hcat([mean(populacao.posicao[i, :], dims=1) for i in bairros]...)\n",
    "    @time dist = hcat([fKernel(centros .- centros[i, :]') for i in 1:nBairros]...)\n",
    "    return ResumoPopulacao(populacao, nResidencias, residencias, nSociais, sociais, nBairros, bairros, dist)\n",
    "end"
   ]
  },
  {
   "cell_type": "code",
   "execution_count": 12,
   "metadata": {},
   "outputs": [
    {
     "name": "stdout",
     "output_type": "stream",
     "text": [
      "  1.092979 seconds (364.01 k allocations: 504.822 MiB, 1.91% gc time)\n",
      "  0.000404 seconds (9 allocations: 1.526 MiB)\n",
      "  0.000014 seconds (18 allocations: 1.031 KiB)\n"
     ]
    }
   ],
   "source": [
    "n = 100000\n",
    "I0 = 1000\n",
    "nResidencias = 30000\n",
    "nSociais = 500\n",
    "populacao = geraPopulacaoAleatoria(n, I0, nResidencias, nSociais, [10,5]);\n",
    "\n",
    "resumoPop = resumePopulacao(populacao, power_decay);"
   ]
  },
  {
   "cell_type": "code",
   "execution_count": 13,
   "metadata": {},
   "outputs": [
    {
     "name": "stdout",
     "output_type": "stream",
     "text": [
      " 86.255387 seconds (5.82 M allocations: 614.865 GiB, 4.97% gc time)\n"
     ]
    }
   ],
   "source": [
    "α = 0.1 * ones(n)\n",
    "β = 1e-3 * ones(n)\n",
    "θ = zeros(n);\n",
    "@time Threads.@threads for i in 1:n\n",
    "#     @time bairro = populacao.bairro[i]\n",
    "#     @time aux = sum([length(i) for i in resumoPop.bairros] .* resumoPop.distanciaBairral[bairro, :])\n",
    "#     @time aux += sum(power_decay(populacao.posicao[resumoPop.bairros[bairro], :] .- populacao.posicao[i, :]'))\n",
    "#     @time θ[i] = 1 / aux\n",
    "    θ[i] = 1 / calculaDistancia(resumoPop, i, ones(Bool, n), power_decay)\n",
    "end\n",
    "γ = 0.2;"
   ]
  },
  {
   "cell_type": "code",
   "execution_count": 15,
   "metadata": {},
   "outputs": [
    {
     "name": "stdout",
     "output_type": "stream",
     "text": [
      "  0.084646 seconds (946.28 k allocations: 86.785 MiB, 23.41% gc time)\n",
      "  0.038287 seconds (946.28 k allocations: 86.761 MiB)\n",
      "  0.033361 seconds (946.28 k allocations: 86.734 MiB, 17.93% gc time)\n",
      "  0.068132 seconds (946.43 k allocations: 86.712 MiB, 22.54% gc time)\n",
      "  0.022501 seconds (946.28 k allocations: 86.660 MiB)\n",
      "  0.070339 seconds (946.43 k allocations: 86.623 MiB, 24.19% gc time)\n",
      "  0.022346 seconds (946.28 k allocations: 86.561 MiB)\n",
      "  0.066739 seconds (946.43 k allocations: 86.505 MiB, 25.02% gc time)\n",
      "  0.022420 seconds (946.28 k allocations: 86.417 MiB)\n",
      "  0.432840 seconds (8.52 M allocations: 780.238 MiB, 17.30% gc time)\n"
     ]
    }
   ],
   "source": [
    "@time a = evolucaoMista(resumoPop, Array(1:10), 1, α, β, θ, γ, power_decay);"
   ]
  },
  {
   "cell_type": "code",
   "execution_count": 54,
   "metadata": {},
   "outputs": [
    {
     "data": {
      "text/plain": [
       "2×10 Array{Float64,2}:\n",
       " 69300.0  68921.0  68432.0  67879.0  …  65528.0  64461.0  63191.0  61781.0\n",
       " 69300.0  68981.0  68544.0  68009.0     65888.0  64954.0  63821.0  62574.0"
      ]
     },
     "execution_count": 54,
     "metadata": {},
     "output_type": "execute_result"
    }
   ],
   "source": [
    "a[1]"
   ]
  },
  {
   "cell_type": "code",
   "execution_count": null,
   "metadata": {},
   "outputs": [],
   "source": []
  }
 ],
 "metadata": {
  "@webio": {
   "lastCommId": null,
   "lastKernelId": null
  },
  "kernelspec": {
   "display_name": "Julia 1.4.1",
   "language": "julia",
   "name": "julia-1.4"
  },
  "language_info": {
   "file_extension": ".jl",
   "mimetype": "application/julia",
   "name": "julia",
   "version": "1.4.1"
  }
 },
 "nbformat": 4,
 "nbformat_minor": 2
}
