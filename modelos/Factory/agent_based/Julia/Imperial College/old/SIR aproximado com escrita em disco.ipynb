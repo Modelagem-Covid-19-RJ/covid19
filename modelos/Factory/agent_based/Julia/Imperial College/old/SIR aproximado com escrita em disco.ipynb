{
 "cells": [
  {
   "cell_type": "code",
   "execution_count": 1,
   "metadata": {},
   "outputs": [
    {
     "data": {
      "text/html": [
       "<script>\n",
       "// Immediately-invoked-function-expression to avoid global variables.\n",
       "(function() {\n",
       "    var warning_div = document.getElementById(\"webio-warning-8348430928657200617\");\n",
       "    var hide = function () {\n",
       "        var script = document.getElementById(\"webio-setup-9215834072004415783\");\n",
       "        var parent = script && script.parentElement;\n",
       "        var grandparent = parent && parent.parentElement;\n",
       "        if (grandparent) {\n",
       "            grandparent.style.display = \"none\";\n",
       "        }\n",
       "        warning_div.style.display = \"none\";\n",
       "    };\n",
       "    if (typeof Jupyter !== \"undefined\") {\n",
       "        console.log(\"WebIO detected Jupyter notebook environment.\");\n",
       "        // Jupyter notebook.\n",
       "        var extensions = (\n",
       "            Jupyter\n",
       "            && Jupyter.notebook.config.data\n",
       "            && Jupyter.notebook.config.data.load_extensions\n",
       "        );\n",
       "        if (extensions && extensions[\"webio-jupyter-notebook\"]) {\n",
       "            // Extension already loaded.\n",
       "            console.log(\"Jupyter WebIO nbextension detected; not loading ad-hoc.\");\n",
       "            hide();\n",
       "            return;\n",
       "        }\n",
       "    } else if (window.location.pathname.includes(\"/lab\")) {\n",
       "        // Guessing JupyterLa\n",
       "        console.log(\"Jupyter Lab detected; make sure the @webio/jupyter-lab-provider labextension is installed.\");\n",
       "        hide();\n",
       "        return;\n",
       "    }\n",
       "})();\n",
       "\n",
       "</script>\n",
       "<p\n",
       "    id=\"webio-warning-8348430928657200617\"\n",
       "    class=\"output_text output_stderr\"\n",
       "    style=\"padding: 1em; font-weight: bold;\"\n",
       ">\n",
       "    Unable to load WebIO. Please make sure WebIO works for your Jupyter client.\n",
       "    For troubleshooting, please see <a href=\"https://juliagizmos.github.io/WebIO.jl/latest/providers/ijulia/\">\n",
       "    the WebIO/IJulia documentation</a>.\n",
       "    <!-- TODO: link to installation docs. -->\n",
       "</p>\n"
      ],
      "text/plain": [
       "HTML{String}(\"<script>\\n// Immediately-invoked-function-expression to avoid global variables.\\n(function() {\\n    var warning_div = document.getElementById(\\\"webio-warning-8348430928657200617\\\");\\n    var hide = function () {\\n        var script = document.getElementById(\\\"webio-setup-9215834072004415783\\\");\\n        var parent = script && script.parentElement;\\n        var grandparent = parent && parent.parentElement;\\n        if (grandparent) {\\n            grandparent.style.display = \\\"none\\\";\\n        }\\n        warning_div.style.display = \\\"none\\\";\\n    };\\n    if (typeof Jupyter !== \\\"undefined\\\") {\\n        console.log(\\\"WebIO detected Jupyter notebook environment.\\\");\\n        // Jupyter notebook.\\n        var extensions = (\\n            Jupyter\\n            && Jupyter.notebook.config.data\\n            && Jupyter.notebook.config.data.load_extensions\\n        );\\n        if (extensions && extensions[\\\"webio-jupyter-notebook\\\"]) {\\n            // Extension already loaded.\\n            console.log(\\\"Jupyter WebIO nbextension detected; not loading ad-hoc.\\\");\\n            hide();\\n            return;\\n        }\\n    } else if (window.location.pathname.includes(\\\"/lab\\\")) {\\n        // Guessing JupyterLa\\n        console.log(\\\"Jupyter Lab detected; make sure the @webio/jupyter-lab-provider labextension is installed.\\\");\\n        hide();\\n        return;\\n    }\\n})();\\n\\n</script>\\n<p\\n    id=\\\"webio-warning-8348430928657200617\\\"\\n    class=\\\"output_text output_stderr\\\"\\n    style=\\\"padding: 1em; font-weight: bold;\\\"\\n>\\n    Unable to load WebIO. Please make sure WebIO works for your Jupyter client.\\n    For troubleshooting, please see <a href=\\\"https://juliagizmos.github.io/WebIO.jl/latest/providers/ijulia/\\\">\\n    the WebIO/IJulia documentation</a>.\\n    <!-- TODO: link to installation docs. -->\\n</p>\\n\")"
      ]
     },
     "metadata": {},
     "output_type": "display_data"
    }
   ],
   "source": [
    "using StatsBase, Plotly, DataFrames, PyPlot"
   ]
  },
  {
   "cell_type": "code",
   "execution_count": 2,
   "metadata": {},
   "outputs": [],
   "source": [
    "struct Bairro\n",
    "    nResidencias::Integer # numero de residencias naquele bairro\n",
    "    nPessoas::Integer # numero de pessoas naquele bairro\n",
    "    residencias::Array{T} where T <: Integer # indice das residencias do bairro\n",
    "    pessoas::Array{T} where T <: Integer # indice das pessoas do bairro\n",
    "    distancias::Array{T} where T <: Number # distancia media entre uma pessoa do bairro e os demais bairros\n",
    "end\n",
    "\n",
    "struct Residencia\n",
    "    n::Integer # numero de pessoas naquela residencia\n",
    "    pessoas::Array{T} where T <: Integer # indice das pessoas da residencia\n",
    "    bairro::Integer # indice do bairro que a residencia pertence\n",
    "    posicao::Array{T} where T <: Number # posicao da residencia no mapa\n",
    "end\n",
    "\n",
    "struct Social\n",
    "    n::Integer # numero de pessoas naquela rede social\n",
    "    pessoas::Array{T} where T <: Integer # pessoas que coimpoe a rede social\n",
    "end\n",
    "\n",
    "struct Pessoas\n",
    "    residencias::Array{T} where T <: Integer # lista com indices da residencia onde cada uma das pessoas residem\n",
    "    bairros::Array{T} where T <: Integer # lista com indices do bairro onde cada uma das pessoas residem\n",
    "    social::Array{T} where T <: Integer # lista com indices da rede social na qual cada uma das pessoas pertencem\n",
    "    posicao::Array{T, 2} where T <: Number # posicao de cada pessoa\n",
    "end\n",
    "\n",
    "struct Populacao\n",
    "    rodada::Integer # n da rodada (nome da pasta com arquivos)\n",
    "    n::Integer # tamanho da população\n",
    "    I0::Integer # quantidade inicial de infectados\n",
    "    estadoInicial::Array{T} where T <: Integer # estado inicial para cada individuo\n",
    "    estadoAtual::Array{T} where T <: Integer # estado inicial de cada individuo\n",
    "    pessoas::Pessoas # pessoas que compoem a populacao\n",
    "    residencias::Array{Residencia} # lista com as residencias\n",
    "    bairros::Array{Bairro} # lista de bairros\n",
    "    sociais::Array{Social} # lista de redes sociais\n",
    "end"
   ]
  },
  {
   "cell_type": "code",
   "execution_count": 3,
   "metadata": {},
   "outputs": [
    {
     "data": {
      "text/plain": [
       "rowWiseNorm (generic function with 1 method)"
      ]
     },
     "execution_count": 3,
     "metadata": {},
     "output_type": "execute_result"
    }
   ],
   "source": [
    "function selectiveRand(v)\n",
    "    \"\"\"\n",
    "        Função para geração de números aleatórios de acordo com um vetor booleano\n",
    "    \n",
    "        Parametros:\n",
    "            v: vetor booleano\n",
    "        \n",
    "        Saida:\n",
    "            aux: vetor com um número aleatório nas entradas verdadeiras de v o 0 nas demais\n",
    "    \"\"\"\n",
    "    aux = zeros(length(v))\n",
    "    aux[v] .= rand(sum(v))\n",
    "    return aux\n",
    "end\n",
    "\n",
    "function rowWiseNorm(A)\n",
    "    \"\"\"\n",
    "        Função para calcular a norma dos vetores linha de uma matriz\n",
    "    \"\"\"\n",
    "    return sqrt.(sum(abs2, A, dims=2)[:, 1])\n",
    "end"
   ]
  },
  {
   "cell_type": "code",
   "execution_count": 4,
   "metadata": {},
   "outputs": [
    {
     "data": {
      "text/plain": [
       "escreveDistancias (generic function with 1 method)"
      ]
     },
     "execution_count": 4,
     "metadata": {},
     "output_type": "execute_result"
    }
   ],
   "source": [
    "function calculaDistanciaFina(populacao::Populacao, bairro::Bairro, suscetiveisBairro, infectadosBairro, fKernel; T=Float16)\n",
    "    \"\"\"\n",
    "        Cálculo da distancia entre as pessoas de um mesmo bairro\n",
    "    \"\"\"\n",
    "    aux = zeros(T, length(suscetiveisBairro), length(infectadosBairro))\n",
    "    Threads.@threads for i in 1:length(suscetiveisBairro)\n",
    "        aux[i, :] += fKernel(populacao.pessoas.posicao[infectadosBairro] .- populacao.pessoas.posicao[suscetiveisBairro[i], :]')\n",
    "    end\n",
    "    return aux\n",
    "end\n",
    "\n",
    "function calculaDistancia(populacao::Populacao, suscetiveis, infectados, fKernel)\n",
    "    \"\"\"\n",
    "        Calculo da distância entre todas as pessoas, tomando a distnacia media entre pessoas de bairros diferentes\n",
    "    \"\"\"\n",
    "    aux = zeros(populacao.n)\n",
    "    infectadosBairros = [sum(infectados[i.pessoas]) for i in populacao.bairros]\n",
    "    for bairro in populacao.bairros\n",
    "        suscetiveisBairro = bairro.pessoas[suscetiveis[bairro.pessoas]]\n",
    "        infectadosBairro = bairro.pessoas[infectados[bairro.pessoas]]\n",
    "        aux[suscetiveisBairro] .+= ones(length(suscetiveisBairro)) .* sum(infectadosBairros .* bairro.distancias)\n",
    "        aux[suscetiveisBairro] .+= sum(calculaDistanciaFina(populacao, bairro, suscetiveisBairro, infectadosBairro, fKernel), dims=2)[:, 1]\n",
    "    end\n",
    "    return aux[suscetiveis]\n",
    "end\n",
    "\n",
    "function escreveDistancias(populacao, rodada, fKernel; T=Float16)\n",
    "    \"\"\"\n",
    "        Calcula e escreve a matriz de distancias entre pessoas do mesmo bairro, para todos os bairros\n",
    "    \"\"\"\n",
    "    rm(joinpath(\"saidas\", string(rodada)), recursive=true, force=true)\n",
    "    mkdir(joinpath(\"saidas\", string(rodada)))\n",
    "    dir = joinpath(\"saidas\", string(rodada), \"dist\")\n",
    "    mkdir(dir)\n",
    "    for i in 1:length(populacao.bairros)\n",
    "        bairro = populacao.bairros[i]\n",
    "        file = open(joinpath(dir, string(i) * \".eps\"), \"w\")\n",
    "        aux = Array{T, 2}(calculaDistanciaFina(populacao, bairro, bairro.pessoas, bairro.pessoas, fKernel))\n",
    "        write(file, aux)\n",
    "        close(file)\n",
    "        aux = nothing\n",
    "        file = nothing\n",
    "        GC.gc()\n",
    "    end\n",
    "end"
   ]
  },
  {
   "cell_type": "code",
   "execution_count": 5,
   "metadata": {},
   "outputs": [
    {
     "data": {
      "text/plain": [
       "evolucaoMista (generic function with 1 method)"
      ]
     },
     "execution_count": 5,
     "metadata": {},
     "output_type": "execute_result"
    }
   ],
   "source": [
    "function miniPassoMatricial(estados::Array{T} where T <: Integer)\n",
    "    \"\"\"\n",
    "        Passo matricial para calcular exposicao de uma rede completa\n",
    "    \"\"\"\n",
    "    popSuscetiveis = estados.==1\n",
    "    popInfectados = estados.==2\n",
    "    \n",
    "    n = length(estados)\n",
    "    nInfectados = sum(popInfectados)\n",
    "    nSuscetiveis = sum(popSuscetiveis)\n",
    "\n",
    "    expostos = zeros(Bool, n, n)\n",
    "    expostos[popSuscetiveis, popInfectados] .= true\n",
    "    return sum(expostos, dims=2)[:, 1]\n",
    "end\n",
    "\n",
    "function abreEps(rodada, i, T=Float16)\n",
    "    \"\"\"\n",
    "        Abre a matriz de distancias de um bairro\n",
    "    \"\"\"\n",
    "    file = open(joinpath(\"saidas\", string(rodada), \"dist\", string(i) * \".eps\"))\n",
    "    aux = reinterpret(T, read(file))\n",
    "    close(file)\n",
    "    n = Int(sqrt(length(aux)))\n",
    "    return reshape(aux, (n, n))\n",
    "end\n",
    "\n",
    "function leDistancia(populacao::Populacao, suscetiveis, infectados, fKernel)\n",
    "    \"\"\"\n",
    "        Calcula soma das distancias entre os infectados e os suscetiveis, \n",
    "        tomando a distancia media entre pessoas de bairros diferentes e lendo a matriz de distancias\n",
    "        para pessoas do mesmo bairro.\n",
    "    \"\"\"\n",
    "    aux = zeros(populacao.n)\n",
    "    infectadosBairros = [sum(infectados[i.pessoas]) for i in populacao.bairros]\n",
    "    Threads.@threads for i in 1:length(populacao.bairros)\n",
    "        bairro = populacao.bairros[i]\n",
    "        suscetiveisBairro = suscetiveis[bairro.pessoas]\n",
    "        infectadosBairro = infectados[bairro.pessoas]\n",
    "        aux[bairro.pessoas[suscetiveisBairro]] .+= ones(sum(suscetiveisBairro)) .* sum(infectadosBairros .* bairro.distancias)\n",
    "        aux[bairro.pessoas[suscetiveisBairro]] .+= sum(abreEps(populacao.rodada, i)[suscetiveisBairro, infectadosBairro], dims=2)[:, 1]\n",
    "    end\n",
    "    return aux[suscetiveis]\n",
    "end\n",
    "\n",
    "function passoMisto(populacao::Populacao, \n",
    "        α::Array{T} where T <: Number, β::Array{T} where T <: Number, θ::Array{T} where T <: Number, \n",
    "        γ::Number, δ::Number, fKernel)\n",
    "    \"\"\"\n",
    "        Entrada:\n",
    "            populacao: \n",
    "            α: taxa de transmissão residencial\n",
    "            β: taxa de transmissão social\n",
    "            θ: taxa de transmissão global\n",
    "            γ: probabilidade de não recuperação\n",
    "            δ: tamanho do passo temporal\n",
    "            fKernel: ?\n",
    "    \"\"\"\n",
    "    popSuscetiveis = populacao.estadoAtual.==1\n",
    "    popInfectados = populacao.estadoAtual.==2\n",
    "    \n",
    "    contatos = zeros(populacao.n)\n",
    "    Threads.@threads for i in populacao.residencias\n",
    "        contatos[i.pessoas] .+= miniPassoMatricial(populacao.estadoAtual[i.pessoas]) .* α[i.pessoas]\n",
    "    end\n",
    "    \n",
    "    Threads.@threads for i in populacao.sociais\n",
    "        contatos[i.pessoas] .+= miniPassoMatricial(populacao.estadoAtual[i.pessoas]) .* β[i.pessoas]\n",
    "    end\n",
    "    \n",
    "    contatos[popSuscetiveis] .+= leDistancia(populacao, popSuscetiveis, popInfectados, fKernel) .* θ[popSuscetiveis]\n",
    "    \n",
    "    prob = exp.(- δ .* contatos)\n",
    "    \n",
    "    novosInfectados = selectiveRand(popSuscetiveis) .> prob\n",
    "    novosRecuperados = selectiveRand(popInfectados) .> γ\n",
    "    \n",
    "    infectados = ((popInfectados .& (.~novosRecuperados)) .| novosInfectados)\n",
    "    suscetiveis = (popSuscetiveis .& (.~novosInfectados))\n",
    "\n",
    "    return 3 .* ones(Int, populacao.n) .- 2 .* suscetiveis .- infectados\n",
    "end\n",
    "\n",
    "function evolucaoMista(\n",
    "        populacao::Populacao, tempos::AbstractArray{T} where T <: Number, nSim::Integer, \n",
    "        α::Array{T} where T <: Number, β::Array{T} where T <: Number, θ::Array{T} where T <: Number, γ::Number, fKernel)\n",
    "    \"\"\"\n",
    "        Entrada:\n",
    "            resumoPop: \n",
    "            tempos:\n",
    "            α: taxa de transmissão residencial\n",
    "            β: taxa de transmissão social\n",
    "            θ: taxa de transmissão global\n",
    "            γ: parâmetro da exponencial de não recuperação\n",
    "            δ: tamanho do passo temporal\n",
    "            fKernel: ?\n",
    "    \"\"\"    \n",
    "    nT = length(tempos)\n",
    "    passos = tempos[2:end] - tempos[1:(end-1)]\n",
    "    Γ = exp.(- γ .* passos)\n",
    "    \n",
    "    S = zeros(nSim, nT)\n",
    "    I = zeros(nSim, nT)\n",
    "    R = zeros(nSim, nT)\n",
    "    \n",
    "    S[:, 1] .= populacao.n - populacao.I0\n",
    "    I[:, 1] .= populacao.I0\n",
    "    \n",
    "    for j in 1:nSim\n",
    "        populacao.estadoAtual .= populacao.estadoInicial\n",
    "        for (k, δ) in enumerate(passos)\n",
    "            @time populacao.estadoAtual .= passoMisto(populacao, α, β, θ, Γ[k], δ, fKernel)\n",
    "            GC.gc()\n",
    "            \n",
    "            S[j, k+1] = sum(populacao.estadoAtual .== 1)\n",
    "            I[j, k+1] = sum(populacao.estadoAtual .== 2)\n",
    "            R[j, k+1] = sum(populacao.estadoAtual .== 3)\n",
    "        end\n",
    "    end\n",
    "    return S,I,R\n",
    "end"
   ]
  },
  {
   "cell_type": "code",
   "execution_count": 6,
   "metadata": {},
   "outputs": [
    {
     "data": {
      "text/plain": [
       "distribuiPessoas (generic function with 2 methods)"
      ]
     },
     "execution_count": 6,
     "metadata": {},
     "output_type": "execute_result"
    }
   ],
   "source": [
    "function geraQuadrado(nPessoas, nResidencias, shift, nBai, limitPop=5000)\n",
    "    residencia = rand(1:nResidencias, nPessoas)\n",
    "    residencias = [Int[] for i in 1:nResidencias]   \n",
    "    for i in 1:nResidencias\n",
    "        append!(residencias[i], (1:nPessoas)[residencia .== i])\n",
    "    end\n",
    "    residenciasPos = rand(nResidencias, 2)\n",
    "    \n",
    "    sqnDivisoes = ceil(Int, sqrt(nPessoas / limitPop))\n",
    "\n",
    "    residenciasBai = [\n",
    "        ceil(Int, residenciasPos[i, 1] * sqnDivisoes) + \n",
    "        floor(Int, residenciasPos[i, 2] * sqnDivisoes) * sqnDivisoes\n",
    "        for i in 1:nResidencias\n",
    "    ]\n",
    "    \n",
    "    listaResidencias = [Residencia(length(j), j, residenciasBai[i] + nBai, residenciasPos[i, :]) for (i, j) in enumerate(residencias)]\n",
    "\n",
    "    # determina a posicao e bairro de cada pessoa\n",
    "    posicao = zeros(nPessoas, 2)\n",
    "    bairro = zeros(Int, nPessoas)\n",
    "    for i in 1:nPessoas\n",
    "        posicao[i, :] .= residenciasPos[residencia[i], :]\n",
    "        bairro[i] = residenciasBai[residencia[i]]\n",
    "    end\n",
    "    \n",
    "    return sqnDivisoes, residencia, bairro, posicao .+ shift, listaResidencias, residenciasBai\n",
    "end\n",
    "\n",
    "function distribuiPessoas(rodada, dadosPessoas, dadosResidencias, I0, nSociais, fKernel, limitPop=5000)\n",
    "    @time begin\n",
    "    populacoes = Pessoas[]\n",
    "    nPessoas = sum(dadosPessoas)\n",
    "    nResidencias = sum(dadosResidencias)\n",
    "    (n, m) = size(dadosPessoas)\n",
    "    \n",
    "    indices = hcat([[i + (j - 1) * n for i in 1:n] for j in 1:m]...);\n",
    "    indices = indices[dadosPessoas .> 0]\n",
    "    \n",
    "    residencias = Int[]\n",
    "    bairros = Int[]\n",
    "    residenciasBai = Int[]\n",
    "    listaResidencias = Residencia[]\n",
    "    posicoes = zeros(0, 2)\n",
    "    nRes = 0\n",
    "    nBai = 0\n",
    "    for k in indices\n",
    "        j = ceil(Int, k / n)\n",
    "        i = k - (j - 1) * n\n",
    "        (sqnDivisoes, residencia, bairro, posicao, listaResidencia, residenciaBai) = geraQuadrado(dadosPessoas[k], dadosResidencias[k], [j-1 i-1], limitPop)\n",
    "        \n",
    "        append!(listaResidencias, listaResidencia)\n",
    "        append!(residenciasBai, residenciaBai .+ nBai)\n",
    "        append!(residencias, residencia .+ nRes)\n",
    "        append!(bairros, bairro .+ nBai)\n",
    "        posicoes = vcat(posicoes, posicao)\n",
    "        nRes += dadosResidencias[k]\n",
    "        nBai += sqnDivisoes * sqnDivisoes\n",
    "    end\n",
    "        \n",
    "    end\n",
    "    \n",
    "    @time begin\n",
    "    \n",
    "    social = rand(1:nSociais, nPessoas)\n",
    "    sociais = [Social(sum(social .== i), (1:nPessoas)[social .== i]) for i in 1:nSociais]\n",
    "    \n",
    "    pessoas = Pessoas(residencias, bairros, social, posicoes)\n",
    "        \n",
    "    end\n",
    "    @time begin\n",
    "    \n",
    "    bairrosResidencias = [(1:nResidencias)[residenciasBai .== i] for i in 1:nBai]\n",
    "    bairrosPessoas = [(1:nPessoas)[bairros .== i] for i in 1:nBai]\n",
    "    \n",
    "    # calcula o centro do bairro e a distancia media entre os bairros\n",
    "    centros = vcat([mean(posicoes[i, :], dims=1) for i in bairrosPessoas]...)\n",
    "    dist = hcat([fKernel(centros .- centros[i, :]') for i in 1:nBai]...)\n",
    "    replace!(dist, NaN=>0.)\n",
    "    \n",
    "    #cria lista de bairros e populacao\n",
    "    listaBairros = [\n",
    "        Bairro(\n",
    "            length(bairrosResidencias[i]),\n",
    "            length(bairrosPessoas[i]),\n",
    "            bairrosResidencias[i],\n",
    "            bairrosPessoas[i],\n",
    "            dist[i, :]\n",
    "            ) for i in 1:nBai\n",
    "    ]\n",
    "    \n",
    "    end\n",
    "    \n",
    "    pop0 = ones(Int, nPessoas)\n",
    "    pop0[StatsBase.sample(1:nPessoas, I0, replace=false)] .= 2;\n",
    "    \n",
    "    populacao = Populacao(rodada, nPessoas, I0, pop0, copy(pop0), pessoas, listaResidencias, listaBairros, sociais)\n",
    "    \n",
    "    # escreve matriz de distancias das pessoas de cada bairro\n",
    "    escreveDistancias(populacao, rodada, fKernel)\n",
    "    return populacao\n",
    "end"
   ]
  },
  {
   "cell_type": "code",
   "execution_count": 7,
   "metadata": {},
   "outputs": [
    {
     "data": {
      "text/plain": [
       "powerDecay (generic function with 1 method)"
      ]
     },
     "execution_count": 7,
     "metadata": {},
     "output_type": "execute_result"
    }
   ],
   "source": [
    "function powerDecay(a::Array)\n",
    "    b = rowWiseNorm(a)\n",
    "    return b ./ (b .+ 1.5);\n",
    "end"
   ]
  },
  {
   "cell_type": "markdown",
   "metadata": {},
   "source": [
    "# População do Rio"
   ]
  },
  {
   "cell_type": "code",
   "execution_count": 8,
   "metadata": {},
   "outputs": [
    {
     "data": {
      "image/png": "[encoded data removed]",
      "text/plain": [
       "Figure(PyObject <Figure size 640x480 with 2 Axes>)"
      ]
     },
     "metadata": {},
     "output_type": "display_data"
    },
    {
     "data": {
      "text/plain": [
       "PyObject <matplotlib.colorbar.Colorbar object at 0x7fa98d480240>"
      ]
     },
     "execution_count": 8,
     "metadata": {},
     "output_type": "execute_result"
    }
   ],
   "source": [
    "file = open(\"landScan.bin\", \"r\")\n",
    "data = reinterpret(Int64, read(file))\n",
    "close(file)\n",
    "\n",
    "dadosRJ = reshape(data, (36, 76));\n",
    "dadosRJ[dadosRJ .< 0] .= 0;\n",
    "\n",
    "PyPlot.imshow(log10.(dadosRJ))\n",
    "PyPlot.colorbar()"
   ]
  },
  {
   "cell_type": "code",
   "execution_count": 9,
   "metadata": {},
   "outputs": [],
   "source": [
    "residenciasRJ = ceil.(Int, dadosRJ / 3.3);"
   ]
  },
  {
   "cell_type": "code",
   "execution_count": 10,
   "metadata": {},
   "outputs": [],
   "source": [
    "d1 = floor.(Int, dadosRJ ./ 10)\n",
    "d2 = ceil.(Int, d1 / 3.3);"
   ]
  },
  {
   "cell_type": "code",
   "execution_count": 11,
   "metadata": {},
   "outputs": [
    {
     "name": "stdout",
     "output_type": "stream",
     "text": [
      "  6.286730 seconds (5.49 M allocations: 6.866 GiB, 14.74% gc time)\n",
      "  5.873591 seconds (84.60 k allocations: 1.186 GiB, 5.06% gc time)\n",
      "  2.172056 seconds (2.93 M allocations: 414.952 MiB, 1.77% gc time)\n",
      "244.164814 seconds (35.98 M allocations: 60.308 GiB, 76.80% gc time)\n"
     ]
    }
   ],
   "source": [
    "@time populacao = distribuiPessoas(1, d1, d2, 1000, 7000, powerDecay);"
   ]
  },
  {
   "cell_type": "code",
   "execution_count": 14,
   "metadata": {},
   "outputs": [
    {
     "data": {
      "text/plain": [
       "95.83202362060547"
      ]
     },
     "execution_count": 14,
     "metadata": {},
     "output_type": "execute_result"
    }
   ],
   "source": [
    "Base.summarysize(populacao) / 1024 / 1024"
   ]
  },
  {
   "cell_type": "code",
   "execution_count": 16,
   "metadata": {},
   "outputs": [
    {
     "name": "stdout",
     "output_type": "stream",
     "text": [
      " 12.217836 seconds (110.55 k allocations: 2.939 GiB, 0.57% gc time)\n"
     ]
    }
   ],
   "source": [
    "# tem que rever esses parâmetros\n",
    "α = 1e-1 * ones(populacao.n)\n",
    "β = 1e-5 * ones(populacao.n)\n",
    "@time θ = 1e-1 ./ leDistancia(populacao, ones(Bool, populacao.n), ones(Bool, populacao.n), powerDecay);\n",
    "GC.gc()\n",
    "γ = 0.2;"
   ]
  },
  {
   "cell_type": "code",
   "execution_count": 17,
   "metadata": {},
   "outputs": [
    {
     "name": "stdout",
     "output_type": "stream",
     "text": [
      "  4.450246 seconds (13.26 M allocations: 2.250 GiB, 3.43% gc time)\n",
      "  2.403216 seconds (7.65 M allocations: 1.993 GiB, 3.32% gc time)\n",
      "  2.516652 seconds (7.65 M allocations: 1.993 GiB, 3.65% gc time)\n",
      "  2.462959 seconds (7.65 M allocations: 1.992 GiB, 3.75% gc time)\n",
      "  2.273987 seconds (7.65 M allocations: 1.993 GiB, 3.54% gc time)\n",
      "  2.260574 seconds (7.65 M allocations: 1.993 GiB, 3.64% gc time)\n",
      "  2.401847 seconds (7.65 M allocations: 1.993 GiB, 3.73% gc time)\n",
      "  2.443610 seconds (7.65 M allocations: 1.992 GiB, 3.64% gc time)\n",
      "  2.298703 seconds (7.65 M allocations: 1.993 GiB, 3.53% gc time)\n",
      "  2.314641 seconds (7.65 M allocations: 1.993 GiB, 3.60% gc time)\n",
      "  2.448656 seconds (7.65 M allocations: 1.993 GiB, 3.65% gc time)\n",
      "  2.475199 seconds (7.65 M allocations: 1.992 GiB, 3.67% gc time)\n",
      "  2.296744 seconds (7.65 M allocations: 1.993 GiB, 3.61% gc time)\n",
      "  2.248605 seconds (7.65 M allocations: 1.993 GiB, 3.70% gc time)\n",
      "  2.418868 seconds (7.65 M allocations: 1.993 GiB, 3.71% gc time)\n",
      "  2.482776 seconds (7.65 M allocations: 1.992 GiB, 3.87% gc time)\n",
      "  2.309720 seconds (7.65 M allocations: 1.993 GiB, 3.54% gc time)\n",
      "  2.311494 seconds (7.65 M allocations: 1.993 GiB, 3.62% gc time)\n",
      "  2.392979 seconds (7.65 M allocations: 1.993 GiB, 3.69% gc time)\n",
      "  2.369487 seconds (7.65 M allocations: 1.992 GiB, 3.68% gc time)\n",
      "  2.217201 seconds (7.65 M allocations: 1.993 GiB, 3.56% gc time)\n",
      "  2.203978 seconds (7.65 M allocations: 1.993 GiB, 3.67% gc time)\n",
      "  2.357603 seconds (7.65 M allocations: 1.993 GiB, 3.79% gc time)\n",
      "  2.339365 seconds (7.65 M allocations: 1.992 GiB, 3.72% gc time)\n",
      "  2.201915 seconds (7.65 M allocations: 1.993 GiB, 3.63% gc time)\n",
      "  2.191170 seconds (7.65 M allocations: 1.993 GiB, 3.67% gc time)\n",
      "  2.363654 seconds (7.65 M allocations: 1.993 GiB, 3.67% gc time)\n",
      "  2.345127 seconds (7.65 M allocations: 1.992 GiB, 3.70% gc time)\n",
      "  2.224887 seconds (7.65 M allocations: 1.993 GiB, 3.66% gc time)\n",
      "  2.195283 seconds (7.65 M allocations: 1.993 GiB, 3.63% gc time)\n",
      "  2.208056 seconds (7.65 M allocations: 1.993 GiB, 3.64% gc time)\n",
      "  2.354412 seconds (7.65 M allocations: 1.992 GiB, 3.71% gc time)\n",
      "  2.202629 seconds (7.65 M allocations: 1.993 GiB, 3.61% gc time)\n",
      "  2.206303 seconds (7.65 M allocations: 1.993 GiB, 3.64% gc time)\n",
      "  2.365371 seconds (7.65 M allocations: 1.993 GiB, 3.71% gc time)\n",
      "  2.358401 seconds (7.65 M allocations: 1.992 GiB, 3.66% gc time)\n",
      "  2.195061 seconds (7.65 M allocations: 1.993 GiB, 3.59% gc time)\n",
      "  2.298075 seconds (7.65 M allocations: 1.993 GiB, 3.80% gc time)\n",
      "  2.209584 seconds (7.65 M allocations: 1.993 GiB, 3.64% gc time)\n",
      "  2.408140 seconds (7.65 M allocations: 1.992 GiB, 3.63% gc time)\n",
      "102.277482 seconds (313.64 M allocations: 80.087 GiB, 9.48% gc time)\n"
     ]
    },
    {
     "data": {
      "text/plain": [
       "([684131.0 684007.0 … 681303.0 680461.0; 684131.0 684020.0 … 681293.0 680439.0; … ; 684131.0 684014.0 … 681315.0 680465.0; 684131.0 684005.0 … 681318.0 680431.0], [1000.0 927.0 … 3099.0 3362.0; 1000.0 929.0 … 3134.0 3401.0; … ; 1000.0 927.0 … 3120.0 3399.0; 1000.0 941.0 … 3105.0 3431.0], [0.0 197.0 … 729.0 1308.0; 0.0 182.0 … 704.0 1291.0; … ; 0.0 190.0 … 696.0 1267.0; 0.0 185.0 … 708.0 1269.0])"
      ]
     },
     "execution_count": 17,
     "metadata": {},
     "output_type": "execute_result"
    }
   ],
   "source": [
    "@time a = evolucaoMista(populacao, Array(1:60), 10, α, β, θ, γ, powerDecay)"
   ]
  },
  {
   "cell_type": "code",
   "execution_count": 18,
   "metadata": {},
   "outputs": [],
   "source": [
    "(S, I, R) = a;"
   ]
  },
  {
   "cell_type": "code",
   "execution_count": 19,
   "metadata": {},
   "outputs": [],
   "source": [
    "data = DataFrame(sim = Int[], time = Int[], S = Float64[], I = Float64[], R = Float64[])\n",
    "for i in 1:5\n",
    "    append!(data, DataFrame(sim = ones(Int, 5), time = 1:5, S = S[i, :], I = I[i, :], R = R[i, :]))\n",
    "end"
   ]
  },
  {
   "cell_type": "code",
   "execution_count": 20,
   "metadata": {},
   "outputs": [
    {
     "data": {
      "text/plain": [
       "3-element Array{GenericTrace{Dict{Symbol,Any}},1}:\n",
       " GenericTrace{Dict{Symbol,Any}}(Dict{Symbol,Any}(:y => [684131.0, 684007.0, 682764.0, 681303.0, 680461.0, 684131.0, 684020.0, 682734.0, 681293.0, 680439.0  …  684131.0, 684025.0, 682907.0, 681416.0, 680592.0, 684131.0, 684003.0, 682996.0, 681448.0, 680589.0],:type => \"box\",:name => \"S\",:x => [1, 2, 3, 4, 5, 1, 2, 3, 4, 5  …  1, 2, 3, 4, 5, 1, 2, 3, 4, 5]))\n",
       " GenericTrace{Dict{Symbol,Any}}(Dict{Symbol,Any}(:y => [1000.0, 927.0, 1983.0, 3099.0, 3362.0, 1000.0, 929.0, 2044.0, 3134.0, 3401.0  …  1000.0, 924.0, 1888.0, 3015.0, 3291.0, 1000.0, 935.0, 1774.0, 3027.0, 3326.0],:type => \"box\",:name => \"I\",:x => [1, 2, 3, 4, 5, 1, 2, 3, 4, 5  …  1, 2, 3, 4, 5, 1, 2, 3, 4, 5]))\n",
       " GenericTrace{Dict{Symbol,Any}}(Dict{Symbol,Any}(:y => [0.0, 197.0, 384.0, 729.0, 1308.0, 0.0, 182.0, 353.0, 704.0, 1291.0  …  0.0, 182.0, 336.0, 700.0, 1248.0, 0.0, 193.0, 361.0, 656.0, 1216.0],:type => \"box\",:name => \"R\",:x => [1, 2, 3, 4, 5, 1, 2, 3, 4, 5  …  1, 2, 3, 4, 5, 1, 2, 3, 4, 5]))"
      ]
     },
     "execution_count": 20,
     "metadata": {},
     "output_type": "execute_result"
    }
   ],
   "source": [
    "plotData = [Plotly.box(Dict(\n",
    "    \"name\" => string(i),\n",
    "    \"x\" => data.time,\n",
    "    \"y\" => data[:, i],\n",
    "    \"type\" => \"box\"\n",
    ")) for i in [:S, :I, :R]]"
   ]
  },
  {
   "cell_type": "code",
   "execution_count": 21,
   "metadata": {},
   "outputs": [
    {
     "data": {
      "application/vnd.plotly.v1+json": {
       "data": [
        {
         "name": "S",
         "type": "box",
         "x": [
          1,
          2,
          3,
          4,
          5,
          1,
          2,
          3,
          4,
          5,
          1,
          2,
          3,
          4,
          5,
          1,
          2,
          3,
          4,
          5,
          1,
          2,
          3,
          4,
          5
         ],
         "y": [
          684131,
          684007,
          682764,
          681303,
          680461,
          684131,
          684020,
          682734,
          681293,
          680439,
          684131,
          684010,
          682820,
          681336,
          680513,
          684131,
          684025,
          682907,
          681416,
          680592,
          684131,
          684003,
          682996,
          681448,
          680589
         ]
        },
        {
         "name": "I",
         "type": "box",
         "x": [
          1,
          2,
          3,
          4,
          5,
          1,
          2,
          3,
          4,
          5,
          1,
          2,
          3,
          4,
          5,
          1,
          2,
          3,
          4,
          5,
          1,
          2,
          3,
          4,
          5
         ],
         "y": [
          1000,
          927,
          1983,
          3099,
          3362,
          1000,
          929,
          2044,
          3134,
          3401,
          1000,
          930,
          1950,
          3111,
          3359,
          1000,
          924,
          1888,
          3015,
          3291,
          1000,
          935,
          1774,
          3027,
          3326
         ]
        },
        {
         "name": "R",
         "type": "box",
         "x": [
          1,
          2,
          3,
          4,
          5,
          1,
          2,
          3,
          4,
          5,
          1,
          2,
          3,
          4,
          5,
          1,
          2,
          3,
          4,
          5,
          1,
          2,
          3,
          4,
          5
         ],
         "y": [
          0,
          197,
          384,
          729,
          1308,
          0,
          182,
          353,
          704,
          1291,
          0,
          191,
          361,
          684,
          1259,
          0,
          182,
          336,
          700,
          1248,
          0,
          193,
          361,
          656,
          1216
         ]
        }
       ],
       "layout": {
        "margin": {
         "b": 50,
         "l": 50,
         "r": 50,
         "t": 60
        }
       }
      },
      "application/vnd.webio.node+json": {
       "children": [
        {
         "children": [],
         "instanceArgs": {
          "namespace": "html",
          "tag": "div"
         },
         "nodeType": "DOM",
         "props": {
          "id": "plot-678b2f12-b1d9-4986-93bd-935c864d06fd"
         },
         "type": "node"
        }
       ],
       "instanceArgs": {
        "handlers": {
         "__get_gd_contents": [
          "(function (prop){prop==\"data\" ? (WebIO.setval({\"name\":\"__gd_contents\",\"scope\":\"3389791466802406873\",\"id\":\"15199400078308460040\",\"type\":\"observable\"},this.plotElem.data)) : undefined; return prop==\"layout\" ? (WebIO.setval({\"name\":\"__gd_contents\",\"scope\":\"3389791466802406873\",\"id\":\"15199400078308460040\",\"type\":\"observable\"},this.plotElem.layout)) : undefined})"
         ],
         "_commands": [
          "(function (args){var fn=args.shift(); var elem=this.plotElem; var Plotly=this.Plotly; args.unshift(elem); return Plotly[fn].apply(this,args)})"
         ],
         "_downloadImage": [
          "(function (options){return this.Plotly.downloadImage(this.plotElem,options)})"
         ],
         "_toImage": [
          "(function (options){return this.Plotly.toImage(this.plotElem,options).then((function (data){return WebIO.setval({\"name\":\"image\",\"scope\":\"3389791466802406873\",\"id\":\"7464084908557469162\",\"type\":\"observable\"},data)}))})"
         ]
        },
        "id": "3389791466802406873",
        "imports": {
         "data": [
          {
           "name": "Plotly",
           "type": "js",
           "url": "/assetserver/ffa14a7b38bc86823cf3429acf0b8208eb9df3bd-plotly-latest.min.js"
          },
          {
           "name": null,
           "type": "js",
           "url": "/assetserver/4c3e70608ea5db6183ba88d7e1452297102a5a03-plotly_webio.bundle.js"
          }
         ],
         "type": "async_block"
        },
        "mount_callbacks": [
         "function () {\n    var handler = ((function (Plotly,PlotlyWebIO){PlotlyWebIO.init(WebIO); var gd=this.dom.querySelector(\"#plot-678b2f12-b1d9-4986-93bd-935c864d06fd\"); this.plotElem=gd; this.Plotly=Plotly; (window.Blink!==undefined) ? (gd.style.width=\"100%\", gd.style.height=\"100vh\", gd.style.marginLeft=\"0%\", gd.style.marginTop=\"0vh\") : undefined; window.onresize=(function (){return Plotly.Plots.resize(gd)}); Plotly.newPlot(gd,[{\"y\":[684131.0,684007.0,682764.0,681303.0,680461.0,684131.0,684020.0,682734.0,681293.0,680439.0,684131.0,684010.0,682820.0,681336.0,680513.0,684131.0,684025.0,682907.0,681416.0,680592.0,684131.0,684003.0,682996.0,681448.0,680589.0],\"type\":\"box\",\"name\":\"S\",\"x\":[1,2,3,4,5,1,2,3,4,5,1,2,3,4,5,1,2,3,4,5,1,2,3,4,5]},{\"y\":[1000.0,927.0,1983.0,3099.0,3362.0,1000.0,929.0,2044.0,3134.0,3401.0,1000.0,930.0,1950.0,3111.0,3359.0,1000.0,924.0,1888.0,3015.0,3291.0,1000.0,935.0,1774.0,3027.0,3326.0],\"type\":\"box\",\"name\":\"I\",\"x\":[1,2,3,4,5,1,2,3,4,5,1,2,3,4,5,1,2,3,4,5,1,2,3,4,5]},{\"y\":[0.0,197.0,384.0,729.0,1308.0,0.0,182.0,353.0,704.0,1291.0,0.0,191.0,361.0,684.0,1259.0,0.0,182.0,336.0,700.0,1248.0,0.0,193.0,361.0,656.0,1216.0],\"type\":\"box\",\"name\":\"R\",\"x\":[1,2,3,4,5,1,2,3,4,5,1,2,3,4,5,1,2,3,4,5,1,2,3,4,5]}],{\"margin\":{\"l\":50,\"b\":50,\"r\":50,\"t\":60}},{}); gd.on(\"plotly_hover\",(function (data){var filtered_data=WebIO.PlotlyCommands.filterEventData(gd,data,\"hover\"); return !(filtered_data.isnil) ? (WebIO.setval({\"name\":\"hover\",\"scope\":\"3389791466802406873\",\"id\":\"17699519528377198241\",\"type\":\"observable\"},filtered_data.out)) : undefined})); gd.on(\"plotly_unhover\",(function (){return WebIO.setval({\"name\":\"hover\",\"scope\":\"3389791466802406873\",\"id\":\"17699519528377198241\",\"type\":\"observable\"},{})})); gd.on(\"plotly_selected\",(function (data){var filtered_data=WebIO.PlotlyCommands.filterEventData(gd,data,\"selected\"); return !(filtered_data.isnil) ? (WebIO.setval({\"name\":\"selected\",\"scope\":\"3389791466802406873\",\"id\":\"259084815120295173\",\"type\":\"observable\"},filtered_data.out)) : undefined})); gd.on(\"plotly_deselect\",(function (){return WebIO.setval({\"name\":\"selected\",\"scope\":\"3389791466802406873\",\"id\":\"259084815120295173\",\"type\":\"observable\"},{})})); gd.on(\"plotly_relayout\",(function (data){var filtered_data=WebIO.PlotlyCommands.filterEventData(gd,data,\"relayout\"); return !(filtered_data.isnil) ? (WebIO.setval({\"name\":\"relayout\",\"scope\":\"3389791466802406873\",\"id\":\"12949376200340088209\",\"type\":\"observable\"},filtered_data.out)) : undefined})); return gd.on(\"plotly_click\",(function (data){var filtered_data=WebIO.PlotlyCommands.filterEventData(gd,data,\"click\"); return !(filtered_data.isnil) ? (WebIO.setval({\"name\":\"click\",\"scope\":\"3389791466802406873\",\"id\":\"5811738197911102278\",\"type\":\"observable\"},filtered_data.out)) : undefined}))}));\n    (WebIO.importBlock({\"data\":[{\"name\":\"Plotly\",\"type\":\"js\",\"url\":\"/assetserver/ffa14a7b38bc86823cf3429acf0b8208eb9df3bd-plotly-latest.min.js\"},{\"name\":null,\"type\":\"js\",\"url\":\"/assetserver/4c3e70608ea5db6183ba88d7e1452297102a5a03-plotly_webio.bundle.js\"}],\"type\":\"async_block\"})).then((imports) => handler.apply(this, imports));\n}\n"
        ],
        "observables": {
         "__gd_contents": {
          "id": "15199400078308460040",
          "sync": false,
          "value": {}
         },
         "__get_gd_contents": {
          "id": "15272171708547595443",
          "sync": false,
          "value": ""
         },
         "_commands": {
          "id": "9286696118740222000",
          "sync": false,
          "value": []
         },
         "_downloadImage": {
          "id": "3866173204394368987",
          "sync": false,
          "value": {}
         },
         "_toImage": {
          "id": "15903566048489254248",
          "sync": false,
          "value": {}
         },
         "click": {
          "id": "5811738197911102278",
          "sync": false,
          "value": {}
         },
         "hover": {
          "id": "17699519528377198241",
          "sync": false,
          "value": {}
         },
         "image": {
          "id": "7464084908557469162",
          "sync": true,
          "value": ""
         },
         "relayout": {
          "id": "12949376200340088209",
          "sync": false,
          "value": {}
         },
         "selected": {
          "id": "259084815120295173",
          "sync": false,
          "value": {}
         }
        },
        "systemjs_options": null
       },
       "nodeType": "Scope",
       "props": {},
       "type": "node"
      },
      "text/html": [
       "<div\n",
       "    class=\"webio-mountpoint\"\n",
       "    data-webio-mountpoint=\"7611750853159751722\"\n",
       ">\n",
       "    <script>\n",
       "    if (window.require && require.defined && require.defined(\"nbextensions/webio-jupyter-notebook\")) {\n",
       "        console.log(\"Jupyter WebIO extension detected, not mounting.\");\n",
       "    } else if (window.WebIO) {\n",
       "        WebIO.mount(\n",
       "            document.querySelector('[data-webio-mountpoint=\"7611750853159751722\"]'),\n",
       "            {\"props\":{},\"nodeType\":\"Scope\",\"type\":\"node\",\"instanceArgs\":{\"imports\":{\"data\":[{\"name\":\"Plotly\",\"type\":\"js\",\"url\":\"\\/assetserver\\/ffa14a7b38bc86823cf3429acf0b8208eb9df3bd-plotly-latest.min.js\"},{\"name\":null,\"type\":\"js\",\"url\":\"\\/assetserver\\/4c3e70608ea5db6183ba88d7e1452297102a5a03-plotly_webio.bundle.js\"}],\"type\":\"async_block\"},\"id\":\"3389791466802406873\",\"handlers\":{\"_toImage\":[\"(function (options){return this.Plotly.toImage(this.plotElem,options).then((function (data){return WebIO.setval({\\\"name\\\":\\\"image\\\",\\\"scope\\\":\\\"3389791466802406873\\\",\\\"id\\\":\\\"7464084908557469162\\\",\\\"type\\\":\\\"observable\\\"},data)}))})\"],\"__get_gd_contents\":[\"(function (prop){prop==\\\"data\\\" ? (WebIO.setval({\\\"name\\\":\\\"__gd_contents\\\",\\\"scope\\\":\\\"3389791466802406873\\\",\\\"id\\\":\\\"15199400078308460040\\\",\\\"type\\\":\\\"observable\\\"},this.plotElem.data)) : undefined; return prop==\\\"layout\\\" ? (WebIO.setval({\\\"name\\\":\\\"__gd_contents\\\",\\\"scope\\\":\\\"3389791466802406873\\\",\\\"id\\\":\\\"15199400078308460040\\\",\\\"type\\\":\\\"observable\\\"},this.plotElem.layout)) : undefined})\"],\"_downloadImage\":[\"(function (options){return this.Plotly.downloadImage(this.plotElem,options)})\"],\"_commands\":[\"(function (args){var fn=args.shift(); var elem=this.plotElem; var Plotly=this.Plotly; args.unshift(elem); return Plotly[fn].apply(this,args)})\"]},\"systemjs_options\":null,\"mount_callbacks\":[\"function () {\\n    var handler = ((function (Plotly,PlotlyWebIO){PlotlyWebIO.init(WebIO); var gd=this.dom.querySelector(\\\"#plot-678b2f12-b1d9-4986-93bd-935c864d06fd\\\"); this.plotElem=gd; this.Plotly=Plotly; (window.Blink!==undefined) ? (gd.style.width=\\\"100%\\\", gd.style.height=\\\"100vh\\\", gd.style.marginLeft=\\\"0%\\\", gd.style.marginTop=\\\"0vh\\\") : undefined; window.onresize=(function (){return Plotly.Plots.resize(gd)}); Plotly.newPlot(gd,[{\\\"y\\\":[684131.0,684007.0,682764.0,681303.0,680461.0,684131.0,684020.0,682734.0,681293.0,680439.0,684131.0,684010.0,682820.0,681336.0,680513.0,684131.0,684025.0,682907.0,681416.0,680592.0,684131.0,684003.0,682996.0,681448.0,680589.0],\\\"type\\\":\\\"box\\\",\\\"name\\\":\\\"S\\\",\\\"x\\\":[1,2,3,4,5,1,2,3,4,5,1,2,3,4,5,1,2,3,4,5,1,2,3,4,5]},{\\\"y\\\":[1000.0,927.0,1983.0,3099.0,3362.0,1000.0,929.0,2044.0,3134.0,3401.0,1000.0,930.0,1950.0,3111.0,3359.0,1000.0,924.0,1888.0,3015.0,3291.0,1000.0,935.0,1774.0,3027.0,3326.0],\\\"type\\\":\\\"box\\\",\\\"name\\\":\\\"I\\\",\\\"x\\\":[1,2,3,4,5,1,2,3,4,5,1,2,3,4,5,1,2,3,4,5,1,2,3,4,5]},{\\\"y\\\":[0.0,197.0,384.0,729.0,1308.0,0.0,182.0,353.0,704.0,1291.0,0.0,191.0,361.0,684.0,1259.0,0.0,182.0,336.0,700.0,1248.0,0.0,193.0,361.0,656.0,1216.0],\\\"type\\\":\\\"box\\\",\\\"name\\\":\\\"R\\\",\\\"x\\\":[1,2,3,4,5,1,2,3,4,5,1,2,3,4,5,1,2,3,4,5,1,2,3,4,5]}],{\\\"margin\\\":{\\\"l\\\":50,\\\"b\\\":50,\\\"r\\\":50,\\\"t\\\":60}},{}); gd.on(\\\"plotly_hover\\\",(function (data){var filtered_data=WebIO.PlotlyCommands.filterEventData(gd,data,\\\"hover\\\"); return !(filtered_data.isnil) ? (WebIO.setval({\\\"name\\\":\\\"hover\\\",\\\"scope\\\":\\\"3389791466802406873\\\",\\\"id\\\":\\\"17699519528377198241\\\",\\\"type\\\":\\\"observable\\\"},filtered_data.out)) : undefined})); gd.on(\\\"plotly_unhover\\\",(function (){return WebIO.setval({\\\"name\\\":\\\"hover\\\",\\\"scope\\\":\\\"3389791466802406873\\\",\\\"id\\\":\\\"17699519528377198241\\\",\\\"type\\\":\\\"observable\\\"},{})})); gd.on(\\\"plotly_selected\\\",(function (data){var filtered_data=WebIO.PlotlyCommands.filterEventData(gd,data,\\\"selected\\\"); return !(filtered_data.isnil) ? (WebIO.setval({\\\"name\\\":\\\"selected\\\",\\\"scope\\\":\\\"3389791466802406873\\\",\\\"id\\\":\\\"259084815120295173\\\",\\\"type\\\":\\\"observable\\\"},filtered_data.out)) : undefined})); gd.on(\\\"plotly_deselect\\\",(function (){return WebIO.setval({\\\"name\\\":\\\"selected\\\",\\\"scope\\\":\\\"3389791466802406873\\\",\\\"id\\\":\\\"259084815120295173\\\",\\\"type\\\":\\\"observable\\\"},{})})); gd.on(\\\"plotly_relayout\\\",(function (data){var filtered_data=WebIO.PlotlyCommands.filterEventData(gd,data,\\\"relayout\\\"); return !(filtered_data.isnil) ? (WebIO.setval({\\\"name\\\":\\\"relayout\\\",\\\"scope\\\":\\\"3389791466802406873\\\",\\\"id\\\":\\\"12949376200340088209\\\",\\\"type\\\":\\\"observable\\\"},filtered_data.out)) : undefined})); return gd.on(\\\"plotly_click\\\",(function (data){var filtered_data=WebIO.PlotlyCommands.filterEventData(gd,data,\\\"click\\\"); return !(filtered_data.isnil) ? (WebIO.setval({\\\"name\\\":\\\"click\\\",\\\"scope\\\":\\\"3389791466802406873\\\",\\\"id\\\":\\\"5811738197911102278\\\",\\\"type\\\":\\\"observable\\\"},filtered_data.out)) : undefined}))}));\\n    (WebIO.importBlock({\\\"data\\\":[{\\\"name\\\":\\\"Plotly\\\",\\\"type\\\":\\\"js\\\",\\\"url\\\":\\\"\\/assetserver\\/ffa14a7b38bc86823cf3429acf0b8208eb9df3bd-plotly-latest.min.js\\\"},{\\\"name\\\":null,\\\"type\\\":\\\"js\\\",\\\"url\\\":\\\"\\/assetserver\\/4c3e70608ea5db6183ba88d7e1452297102a5a03-plotly_webio.bundle.js\\\"}],\\\"type\\\":\\\"async_block\\\"})).then((imports) => handler.apply(this, imports));\\n}\\n\"],\"observables\":{\"_toImage\":{\"sync\":false,\"id\":\"15903566048489254248\",\"value\":{}},\"hover\":{\"sync\":false,\"id\":\"17699519528377198241\",\"value\":{}},\"selected\":{\"sync\":false,\"id\":\"259084815120295173\",\"value\":{}},\"__gd_contents\":{\"sync\":false,\"id\":\"15199400078308460040\",\"value\":{}},\"click\":{\"sync\":false,\"id\":\"5811738197911102278\",\"value\":{}},\"image\":{\"sync\":true,\"id\":\"7464084908557469162\",\"value\":\"\"},\"__get_gd_contents\":{\"sync\":false,\"id\":\"15272171708547595443\",\"value\":\"\"},\"_downloadImage\":{\"sync\":false,\"id\":\"3866173204394368987\",\"value\":{}},\"relayout\":{\"sync\":false,\"id\":\"12949376200340088209\",\"value\":{}},\"_commands\":{\"sync\":false,\"id\":\"9286696118740222000\",\"value\":[]}}},\"children\":[{\"props\":{\"id\":\"plot-678b2f12-b1d9-4986-93bd-935c864d06fd\"},\"nodeType\":\"DOM\",\"type\":\"node\",\"instanceArgs\":{\"namespace\":\"html\",\"tag\":\"div\"},\"children\":[]}]},\n",
       "            window,\n",
       "        );\n",
       "    } else {\n",
       "        document\n",
       "            .querySelector('[data-webio-mountpoint=\"7611750853159751722\"]')\n",
       "            .innerHTML = (\n",
       "                '<div style=\"padding: 1em; background-color: #f8d6da; border: 1px solid #f5c6cb\">' +\n",
       "                '<p><strong>WebIO not detected.</strong></p>' +\n",
       "                '<p>Please read ' +\n",
       "                '<a href=\"https://juliagizmos.github.io/WebIO.jl/latest/troubleshooting/not-detected/\" target=\"_blank\">the troubleshooting guide</a> ' +\n",
       "                'for more information on how to resolve this issue.</p>' +\n",
       "                '<p><a href=\"https://juliagizmos.github.io/WebIO.jl/latest/troubleshooting/not-detected/\" target=\"_blank\">https://juliagizmos.github.io/WebIO.jl/latest/troubleshooting/not-detected/</a></p>' +\n",
       "                '</div>'\n",
       "            );\n",
       "    }\n",
       "    </script>\n",
       "</div>\n"
      ],
      "text/plain": [
       "data: [\n",
       "  \"box with fields name, type, x, and y\",\n",
       "  \"box with fields name, type, x, and y\",\n",
       "  \"box with fields name, type, x, and y\"\n",
       "]\n",
       "\n",
       "layout: \"layout with field margin\"\n",
       "\n"
      ]
     },
     "execution_count": 21,
     "metadata": {
      "application/vnd.webio.node+json": {
       "kernelId": "38407a8d-edb6-4b14-a1d5-09734f06f063"
      }
     },
     "output_type": "execute_result"
    }
   ],
   "source": [
    "Plotly.plot(plotData)"
   ]
  },
  {
   "cell_type": "markdown",
   "metadata": {},
   "source": [
    "# População Aleatória"
   ]
  },
  {
   "cell_type": "code",
   "execution_count": null,
   "metadata": {},
   "outputs": [],
   "source": [
    "# function geraPopulacaoAleatoria(rodada, n, I0, nResidencias, nSociais, bairrosShape, fKernel)\n",
    "#     \"\"\"\n",
    "#         Gera populacao aleatoria de maneira simplificada\n",
    "#     \"\"\"\n",
    "#     nBairros = prod(bairrosShape)\n",
    "#     pop0 = ones(Int, n)\n",
    "    \n",
    "#     # escolhe pessoas aleatorias para comecarem infectadas\n",
    "#     pop0[StatsBase.sample(1:n, I0, replace=false)] .= 2;\n",
    "\n",
    "#     # distribui as pessoas nas residencias\n",
    "#     residencia = rand(1:nResidencias, n)\n",
    "    \n",
    "#     # determina que pessoas estão em cada residencia\n",
    "#     residencias = [Int[] for i in 1:nResidencias]   \n",
    "#     Threads.@threads for i in 1:nResidencias\n",
    "#         append!(residencias[i], (1:n)[residencia .== i])\n",
    "#     end\n",
    "    \n",
    "#     # atribui uma posicao e determina o bairro que a residencia pertence\n",
    "#     residenciasPos = rand(nResidencias, 2) .* bairrosShape'\n",
    "#     residenciasBai = [\n",
    "#         ceil(Int, residenciasPos[i, 1]) + \n",
    "#         floor(Int, residenciasPos[i, 2]) * bairrosShape[1]\n",
    "#         for i in 1:nResidencias\n",
    "#     ]\n",
    "    \n",
    "#     # cria listas com residencias\n",
    "#     residencias = [Residencia(length(j), j, residenciasBai[i], residenciasPos[i, :]) for (i, j) in enumerate(residencias)]\n",
    "    \n",
    "#     # cria redes sociais\n",
    "#     social = rand(1:nSociais, n)\n",
    "#     sociais = [Social(sum(social .== i), (1:n)[social .== i]) for i in 1:nSociais]\n",
    "    \n",
    "#     # determina a posicao e bairro de cada pessoa\n",
    "#     posicao = zeros(n, 2)\n",
    "#     bairro = zeros(Int, n)\n",
    "#     Threads.@threads for i in 1:n\n",
    "#         posicao[i, :] .= residenciasPos[residencia[i], :]\n",
    "#         bairro[i] = residenciasBai[residencia[i]]\n",
    "#     end\n",
    "    \n",
    "#     pessoas = Pessoas(residencia, bairro, social, posicao)\n",
    "    \n",
    "#     # identifica pessoas e residencias de cada bairro\n",
    "#     bairrosResidencias = [(1:nResidencias)[residenciasBai .== i] for i in 1:nBairros]\n",
    "#     bairrosPessoas = [(1:n)[bairro .== i] for i in 1:nBairros]\n",
    "    \n",
    "#     # calcula o centro do bairro e a distancia media entre os bairros\n",
    "#     centros = vcat([mean(posicao[i, :], dims=1) for i in bairrosPessoas]...)\n",
    "#     dist = hcat([fKernel(centros .- centros[i, :]') for i in 1:nBairros]...)\n",
    "#     replace!(dist, NaN=>0.)\n",
    "    \n",
    "#     #cria lista de bairros e populacao\n",
    "#     bairros = [\n",
    "#         Bairro(\n",
    "#             length(bairrosResidencias[i]),\n",
    "#             length(bairrosPessoas[i]),\n",
    "#             bairrosResidencias[i],\n",
    "#             bairrosPessoas[i],\n",
    "#             dist[i, :]\n",
    "#             ) for i in 1:nBairros\n",
    "#     ]\n",
    "#     populacao = Populacao(rodada, n, I0, pop0, copy(pop0), pessoas, residencias, bairros, sociais)\n",
    "    \n",
    "#     # escreve matriz de distancias das pessoas de cada bairro\n",
    "#     escreveDistancias(populacao, rodada, fKernel)\n",
    "#     return populacao\n",
    "# end"
   ]
  },
  {
   "cell_type": "code",
   "execution_count": null,
   "metadata": {},
   "outputs": [],
   "source": [
    "# function foo(k, bairros)\n",
    "#     rodada = length(readdir(\"saidas\")) + 1\n",
    "#     k = floor(Int, k / 100)\n",
    "\n",
    "#     n = 100 * k\n",
    "#     I0 = 1 * k\n",
    "#     nResidencias = 30 * k\n",
    "#     nSociais = 1 * k\n",
    "#     return geraPopulacaoAleatoria(rodada, n, I0, nResidencias, nSociais, bairros, powerDecay);\n",
    "# end"
   ]
  },
  {
   "cell_type": "code",
   "execution_count": null,
   "metadata": {},
   "outputs": [],
   "source": [
    "# bairrosShape = [5, 5]\n",
    "# @time populacao = foo(1e+5, bairrosShape);"
   ]
  },
  {
   "cell_type": "code",
   "execution_count": null,
   "metadata": {},
   "outputs": [],
   "source": [
    "# data = Dict([\n",
    "#     \"x\" => populacao.pessoas.posicao[:, 1],\n",
    "#     \"autobinx\" => false,\n",
    "#     \"xbins\" => Dict([\n",
    "#         \"start\" => 0,\n",
    "#         \"end\" => bairrosShape[1],\n",
    "#         \"size\" => 1\n",
    "#     ]),\n",
    "#     \"y\"=>populacao.pessoas.posicao[:, 2],\n",
    "#     \"autobiny\" => false,\n",
    "#     \"ybins\" => Dict([\n",
    "#         \"start\" => 0,\n",
    "#         \"end\" => bairrosShape[2],\n",
    "#         \"size\" => 1\n",
    "#     ]),\n",
    "# ]);\n",
    "\n",
    "# Plotly.plot(Plotly.histogram2d(data))"
   ]
  },
  {
   "cell_type": "code",
   "execution_count": null,
   "metadata": {},
   "outputs": [],
   "source": [
    "# data = Dict([\n",
    "#     \"x\"=>populacao.pessoas.posicao[:, 1],\n",
    "#     \"y\"=>populacao.pessoas.posicao[:, 2]\n",
    "# ]);\n",
    "\n",
    "# Plotly.plot(Plotly.histogram2dcontour(data))"
   ]
  },
  {
   "cell_type": "code",
   "execution_count": null,
   "metadata": {},
   "outputs": [],
   "source": [
    "# # tem que rever esses parâmetros\n",
    "# α = 1e-1 * ones(populacao.n)\n",
    "# β = 1e-4 * ones(populacao.n)\n",
    "# @time θ = 1e-1 ./ leDistancia(populacao, ones(Bool, populacao.n), ones(Bool, populacao.n), powerDecay);\n",
    "# GC.gc()\n",
    "# γ = 0.2;"
   ]
  },
  {
   "cell_type": "code",
   "execution_count": null,
   "metadata": {},
   "outputs": [],
   "source": [
    "# @time a = evolucaoMista(populacao, Array(1:5), 10, α, β, θ, γ, powerDecay)"
   ]
  },
  {
   "cell_type": "code",
   "execution_count": null,
   "metadata": {},
   "outputs": [],
   "source": [
    "# (S, I, R) = a;"
   ]
  },
  {
   "cell_type": "code",
   "execution_count": null,
   "metadata": {},
   "outputs": [],
   "source": [
    "# data = DataFrame(sim = Int[], time = Int[], S = Float64[], I = Float64[], R = Float64[])\n",
    "# for i in 1:5\n",
    "#     append!(data, DataFrame(sim = ones(Int, 5), time = 1:5, S = S[i, :], I = I[i, :], R = R[i, :]))\n",
    "# end"
   ]
  },
  {
   "cell_type": "code",
   "execution_count": null,
   "metadata": {},
   "outputs": [],
   "source": [
    "# plotData = [Plotly.box(Dict(\n",
    "#     \"name\" => string(i),\n",
    "#     \"x\" => data.time,\n",
    "#     \"y\" => data[:, i],\n",
    "#     \"type\" => \"box\"\n",
    "# )) for i in [:S, :I, :R]]"
   ]
  },
  {
   "cell_type": "code",
   "execution_count": null,
   "metadata": {},
   "outputs": [],
   "source": [
    "# Plotly.plot(plotData)"
   ]
  },
  {
   "cell_type": "code",
   "execution_count": null,
   "metadata": {},
   "outputs": [],
   "source": []
  }
 ],
 "metadata": {
  "@webio": {
   "lastCommId": "a7862d0baf9f46f8a6b9e0bae0119466",
   "lastKernelId": "3bc844b2-ec95-48eb-a4a7-7c4b155ac415"
  },
  "kernelspec": {
   "display_name": "Julia 1.4.1",
   "language": "julia",
   "name": "julia-1.4"
  },
  "language_info": {
   "file_extension": ".jl",
   "mimetype": "application/julia",
   "name": "julia",
   "version": "1.4.1"
  }
 },
 "nbformat": 4,
 "nbformat_minor": 2
}
