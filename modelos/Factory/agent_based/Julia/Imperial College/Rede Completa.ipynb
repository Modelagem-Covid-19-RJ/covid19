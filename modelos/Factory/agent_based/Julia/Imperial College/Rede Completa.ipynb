{
 "cells": [
  {
   "cell_type": "code",
   "execution_count": null,
   "metadata": {},
   "outputs": [],
   "source": [
    "using StatsBase, Distributions, Plotly, DataFrames, Plots, PyPlot\n",
    "plotly()\n",
    "include(\"episiming.jl\");"
   ]
  },
  {
   "cell_type": "code",
   "execution_count": null,
   "metadata": {},
   "outputs": [],
   "source": [
    "function powerDecay(a::Number, b::Number, x)\n",
    "    y = rowWiseNorm(x)\n",
    "    return 1.0 ./ (1.0 .+ (y ./ a) .^ b)\n",
    "end\n",
    "\n",
    "fKernel(x) = powerDecay(1., 1.5, x)"
   ]
  },
  {
   "cell_type": "code",
   "execution_count": null,
   "metadata": {},
   "outputs": [],
   "source": [
    "geradorDensidade(k) = (x) -> geraResidencias(x, k)"
   ]
  },
  {
   "cell_type": "code",
   "execution_count": null,
   "metadata": {},
   "outputs": [],
   "source": [
    "redeCompleta = distribuiPessoas(1, 350 * ones(Int, 1, 1), geradorDensidade(350), I0, 1, fKernel);"
   ]
  },
  {
   "cell_type": "code",
   "execution_count": null,
   "metadata": {},
   "outputs": [],
   "source": [
    "txTransmissaoR = 0.5 ./ [redeCompleta.residencias[i].n for i in redeCompleta.pessoas.residencias];\n",
    "txTransmissaoS = zeros(350)\n",
    "txTransmissaoG = zeros(350);"
   ]
  },
  {
   "cell_type": "code",
   "execution_count": null,
   "metadata": {},
   "outputs": [],
   "source": [
    "(S, I, R) = evolucaoMista(redeCompleta, Array(1:60), 10, txTransmissaoR, txTransmissaoS, txTransmissaoG, γ, fKernel);"
   ]
  },
  {
   "cell_type": "code",
   "execution_count": null,
   "metadata": {},
   "outputs": [],
   "source": [
    "Plots.plot(mean(S, dims=1)[1, :], label = \"Suscetíveis\")\n",
    "Plots.plot!(mean(I, dims=1)[1, :], label = \"Infectados\")\n",
    "Plots.plot!(mean(R, dims=1)[1, :], label = \"Recuperados\")"
   ]
  }
 ],
 "metadata": {
  "kernelspec": {
   "display_name": "Julia 1.4.1",
   "language": "julia",
   "name": "julia-1.4"
  },
  "language_info": {
   "file_extension": ".jl",
   "mimetype": "application/julia",
   "name": "julia",
   "version": "1.4.1"
  }
 },
 "nbformat": 4,
 "nbformat_minor": 2
}
