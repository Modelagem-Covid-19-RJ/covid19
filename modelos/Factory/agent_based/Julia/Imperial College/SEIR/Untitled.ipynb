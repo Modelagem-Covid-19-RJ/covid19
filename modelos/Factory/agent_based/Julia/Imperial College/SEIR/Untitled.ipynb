{
 "cells": [
  {
   "cell_type": "code",
   "execution_count": 1,
   "metadata": {},
   "outputs": [],
   "source": [
    "using Distributed"
   ]
  },
  {
   "cell_type": "code",
   "execution_count": 2,
   "metadata": {},
   "outputs": [
    {
     "data": {
      "text/plain": [
       "2-element Array{Int64,1}:\n",
       " 2\n",
       " 3"
      ]
     },
     "execution_count": 2,
     "metadata": {},
     "output_type": "execute_result"
    }
   ],
   "source": [
    "addprocs(2)"
   ]
  },
  {
   "cell_type": "code",
   "execution_count": 3,
   "metadata": {},
   "outputs": [],
   "source": [
    "@everywhere struct B\n",
    "    v::Array\n",
    "end\n",
    "\n",
    "@everywhere struct A\n",
    "    b::B\n",
    "end"
   ]
  },
  {
   "cell_type": "code",
   "execution_count": 4,
   "metadata": {},
   "outputs": [],
   "source": [
    "a = A(B(rand(10000, 1000)));"
   ]
  },
  {
   "cell_type": "code",
   "execution_count": 5,
   "metadata": {},
   "outputs": [
    {
     "data": {
      "text/plain": [
       "foo (generic function with 1 method)"
      ]
     },
     "execution_count": 5,
     "metadata": {},
     "output_type": "execute_result"
    }
   ],
   "source": [
    "function foo(a)\n",
    "    @eval @everywhere a=$a\n",
    "    return pmap((i)->sum(a.b.v ./ i), 1:20)\n",
    "end"
   ]
  },
  {
   "cell_type": "code",
   "execution_count": 6,
   "metadata": {},
   "outputs": [
    {
     "data": {
      "text/plain": [
       "20-element Array{Float64,1}:\n",
       "      4.999386132401674e6\n",
       "      2.499693066200837e6\n",
       "      1.6664620441338914e6\n",
       "      1.2498465331004185e6\n",
       " 999877.2264803349\n",
       " 833231.0220669457\n",
       " 714198.0189145249\n",
       " 624923.2665502093\n",
       " 555487.3480446304\n",
       " 499938.61324016744\n",
       " 454489.6484001522\n",
       " 416615.51103347284\n",
       " 384568.164030898\n",
       " 357099.00945726247\n",
       " 333292.4088267783\n",
       " 312461.6332751046\n",
       " 294081.5372000985\n",
       " 277743.6740223152\n",
       " 263125.5859158776\n",
       " 249969.30662008372"
      ]
     },
     "execution_count": 6,
     "metadata": {},
     "output_type": "execute_result"
    }
   ],
   "source": [
    "foo(a)"
   ]
  },
  {
   "cell_type": "code",
   "execution_count": 7,
   "metadata": {},
   "outputs": [
    {
     "data": {
      "text/plain": [
       "20-element Array{Float64,1}:\n",
       " 500072.5624749997\n",
       " 500072.5624749997\n",
       " 500072.5624749997\n",
       " 500072.5624749997\n",
       " 500072.5624749997\n",
       " 500072.5624749997\n",
       " 500072.5624749997\n",
       " 500072.5624749997\n",
       " 500072.5624749997\n",
       " 500072.5624749997\n",
       " 500072.5624749997\n",
       " 500072.5624749997\n",
       " 500072.5624749997\n",
       " 500072.5624749997\n",
       " 500072.5624749997\n",
       " 500072.5624749997\n",
       " 500072.5624749997\n",
       " 500072.5624749997\n",
       " 500072.5624749997\n",
       " 500072.5624749997"
      ]
     },
     "execution_count": 7,
     "metadata": {},
     "output_type": "execute_result"
    }
   ],
   "source": [
    "bar2(a)"
   ]
  },
  {
   "cell_type": "code",
   "execution_count": 16,
   "metadata": {},
   "outputs": [
    {
     "data": {
      "text/plain": [
       "10×10 Array{Float64,2}:\n",
       " 1.57219  1.52165  1.36703  1.59632  …  1.81541  1.68275  1.98391  1.49502\n",
       " 1.8336   1.03679  1.52536  1.00459     1.94212  1.49799  1.90637  1.53211\n",
       " 1.71813  1.6986   1.31614  1.97461     1.75256  1.94063  1.31949  1.79503\n",
       " 1.62667  1.57233  1.81004  1.14867     1.65229  1.9236   1.52401  1.38306\n",
       " 1.86687  1.02837  1.49338  1.09157     1.31812  1.56512  1.62756  1.99248\n",
       " 1.93654  1.04858  1.09606  1.78135  …  1.26966  1.24393  1.72442  1.15735\n",
       " 1.83889  1.57244  1.57957  1.33157     1.23164  1.90857  1.67294  1.32614\n",
       " 1.60088  1.8125   1.2061   1.4932      1.8999   1.88572  1.08714  1.49349\n",
       " 1.24378  1.08183  1.44007  1.95715     1.51245  1.20363  1.3021   1.47137\n",
       " 1.58173  1.86932  1.42161  1.02579     1.59152  1.46942  1.02656  1.46582"
      ]
     },
     "execution_count": 16,
     "metadata": {},
     "output_type": "execute_result"
    }
   ],
   "source": [
    "a"
   ]
  },
  {
   "cell_type": "code",
   "execution_count": null,
   "metadata": {},
   "outputs": [],
   "source": []
  },
  {
   "cell_type": "code",
   "execution_count": null,
   "metadata": {},
   "outputs": [],
   "source": []
  }
 ],
 "metadata": {
  "@webio": {
   "lastCommId": null,
   "lastKernelId": null
  },
  "kernelspec": {
   "display_name": "Julia 1.4.1",
   "language": "julia",
   "name": "julia-1.4"
  },
  "language_info": {
   "file_extension": ".jl",
   "mimetype": "application/julia",
   "name": "julia",
   "version": "1.4.1"
  }
 },
 "nbformat": 4,
 "nbformat_minor": 2
}
