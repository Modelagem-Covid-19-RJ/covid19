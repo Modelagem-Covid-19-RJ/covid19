{
 "cells": [
  {
   "cell_type": "code",
   "execution_count": 1,
   "metadata": {},
   "outputs": [],
   "source": [
    "import numpy as np\n",
    "import matplotlib.pyplot as plt\n",
    "import yaml\n",
    "import pandas as pd"
   ]
  },
  {
   "cell_type": "code",
   "execution_count": 2,
   "metadata": {},
   "outputs": [],
   "source": [
    "with open('config.yml', encoding = 'utf-8') as f:\n",
    "    configs = yaml.load(f, Loader = yaml.FullLoader)"
   ]
  },
  {
   "cell_type": "code",
   "execution_count": 3,
   "metadata": {},
   "outputs": [],
   "source": [
    "with open('bairros.yml', encoding = 'utf-8') as f:\n",
    "    ids = yaml.load(f, Loader = yaml.FullLoader)"
   ]
  },
  {
   "cell_type": "code",
   "execution_count": 4,
   "metadata": {},
   "outputs": [],
   "source": [
    "bairros = np.load('geoloc_Bairros_MRJ.npy')"
   ]
  },
  {
   "cell_type": "code",
   "execution_count": 5,
   "metadata": {},
   "outputs": [
    {
     "data": {
      "image/png": "[encoded data removed]",
      "text/plain": [
       "<Figure size 1152x432 with 2 Axes>"
      ]
     },
     "metadata": {
      "needs_background": "light"
     },
     "output_type": "display_data"
    }
   ],
   "source": [
    "plt.figure(figsize=(16,6))\n",
    "plt.imshow(bairros, interpolation='none')\n",
    "plt.colorbar()\n",
    "plt.grid(False)\n",
    "plt.show()"
   ]
  },
  {
   "cell_type": "code",
   "execution_count": 6,
   "metadata": {},
   "outputs": [
    {
     "data": {
      "text/plain": [
       "(2, 2)"
      ]
     },
     "execution_count": 6,
     "metadata": {},
     "output_type": "execute_result"
    }
   ],
   "source": [
    "8//3, 8%3"
   ]
  },
  {
   "cell_type": "code",
   "execution_count": 7,
   "metadata": {},
   "outputs": [
    {
     "data": {
      "text/plain": [
       "array([  0.,   0.,   0.,   0.,   0.,   0.,   0.,   0.,   0.,   0.,   0.,\n",
       "         0.,   0.,   0.,   0.,   0.,   0.,   0.,   0.,   0.,   0.,   0.,\n",
       "         0.,   0.,   0., 151., 151., 151., 152., 133., 133.,   0.,   0.,\n",
       "         0.,   0.,   0.,   0.,   0.,   0.,   0.,   0.,   0.,   0.,   0.,\n",
       "         0.,   0.,   0.,   0.,   0.,   0.,   0.,   0.,   0.,   0.,   0.,\n",
       "         0.,   0.,   0.,   0.,   0.,   0.,   0.,   0.,   0.,   0.,   0.,\n",
       "         0.,   0.,   0.,   0.,   0.,   0.,   0.,   0.,   0.,   0.,   0.,\n",
       "         0.,   0.,   0.,   0.,   0.,   0.])"
      ]
     },
     "execution_count": 7,
     "metadata": {},
     "output_type": "execute_result"
    }
   ],
   "source": [
    "bairros[35]"
   ]
  },
  {
   "cell_type": "code",
   "execution_count": 8,
   "metadata": {},
   "outputs": [
    {
     "data": {
      "text/plain": [
       "'GUARATIBA'"
      ]
     },
     "execution_count": 8,
     "metadata": {},
     "output_type": "execute_result"
    }
   ],
   "source": [
    "ids['id_bairros'][151]"
   ]
  },
  {
   "cell_type": "code",
   "execution_count": 50,
   "metadata": {},
   "outputs": [],
   "source": [
    "def set_df(fonte, **kwargs):\n",
    "    \"\"\"Carrega o CSV com dados do covid para determinada cidade ou estado e retorna um pandas.DataFrame com os dados\n",
    "\n",
    "    Parameters\n",
    "    ----------\n",
    "    fonte : str ('prefeitura_rj', 'estado_rj')\n",
    "        Indica qual a fonte dos dados, com isso a função determina qual CSV carregar e como tratar o DataFrame.\n",
    "        O arquivo a ser carregado é dado em configs.yml\n",
    "    *args : dict, optional\n",
    "        Um dicionário com argumentos extras:\n",
    "            df_break: Se setado para True, muda o retorno para vários DataFrames\n",
    "    Returns\n",
    "    -------\n",
    "    ret_v: Se nenhum argumento opcional for passado, ret_v é uma lista contendo o DataFrame tratado com todos os casos, e a data de atualização dos dados\n",
    "            df_break == True: ret_v é uma lista com [DataFrame Tratado, [DataFrame Ativos, DataFrame Recuperados, DataFrame Obitos], Data de Atualização]        \n",
    "    \"\"\"\n",
    "\n",
    "    if fonte == 'prefeitura_rj':\n",
    "        df = pd.read_csv('Dados_indiv_MRJ_covid19_20200516.csv', encoding = 'iso-8859-1', delimiter = ';')\n",
    "        df.rename(columns = configs['df']['rename']['rj']['colunas']['prefeitura'], inplace = True)\n",
    "        dt_att = df['Data_atualização'].values[0]\n",
    "        for drop in configs['df']['droppable']['rj']['prefeitura']:\n",
    "            df.drop(drop, axis = 1, inplace = True)\n",
    "        for r in configs['df']['rename']['rj']['dados']['prefeitura']:\n",
    "            df[r].replace(configs['df']['rename']['rj']['dados']['prefeitura'][r], inplace = True)\n",
    "        if 'df_break' in kwargs  and kwargs['df_break'] == True:\n",
    "            df_break = []\n",
    "            for s in configs['df']['status']['rj']['prefeitura']:\n",
    "                df_break.append(df[df['Evolucao'] == s])\n",
    "            ret_lst = [df, df_break, dt_att]\n",
    "        else:\n",
    "            ret_lst = [df, dt_att]\n",
    "    elif fonte == 'estado_rj':\n",
    "        df = pd.read_csv(root_dir + '/' + configs['csv']['rj']['file_loc']['estado'])\n",
    "        df = df[df['classificacao'] == 'CONFIRMADO']\n",
    "        df.rename(columns = configs['df']['rename']['rj']['colunas']['estado'], inplace = True)\n",
    "        for drop in configs['df']['droppable']['rj']['estado']:\n",
    "            df.drop(drop, axis = 1, inplace = True)\n",
    "        for r in configs['df']['rename']['rj']['dados']['estado']:\n",
    "            df[r].replace(configs['df']['rename']['rj']['dados']['estado'][r], inplace = True)\n",
    "        df['Municipio'] = [m.title()  for m in df['Municipio']]\n",
    "        if args and args[0]['df_break'] == True:\n",
    "            df_break = []\n",
    "            for s in configs['df']['status']['rj']['estado']:\n",
    "                df_break.append(df[df['Evolucao'] == s])\n",
    "            ret_lst = [df, df_break]\n",
    "        else:\n",
    "            ret_lst = df\n",
    "    else: \n",
    "        print('Fonte de dados Inválida, as opções são prefeitura_rj ou estado_rj')\n",
    "        ret_lst = 'Error'\n",
    "    return ret_lst"
   ]
  },
  {
   "cell_type": "code",
   "execution_count": 51,
   "metadata": {},
   "outputs": [],
   "source": [
    "df = set_df('prefeitura_rj', df_break = True)"
   ]
  },
  {
   "cell_type": "code",
   "execution_count": 52,
   "metadata": {},
   "outputs": [],
   "source": [
    "df_atv = df[1][0]"
   ]
  },
  {
   "cell_type": "code",
   "execution_count": 53,
   "metadata": {},
   "outputs": [
    {
     "data": {
      "text/html": [
       "<div>\n",
       "<style scoped>\n",
       "    .dataframe tbody tr th:only-of-type {\n",
       "        vertical-align: middle;\n",
       "    }\n",
       "\n",
       "    .dataframe tbody tr th {\n",
       "        vertical-align: top;\n",
       "    }\n",
       "\n",
       "    .dataframe thead th {\n",
       "        text-align: right;\n",
       "    }\n",
       "</style>\n",
       "<table border=\"1\" class=\"dataframe\">\n",
       "  <thead>\n",
       "    <tr style=\"text-align: right;\">\n",
       "      <th></th>\n",
       "      <th>Data</th>\n",
       "      <th>DataSintomas</th>\n",
       "      <th>Bairro</th>\n",
       "      <th>AP</th>\n",
       "      <th>Sexo</th>\n",
       "      <th>FaixaEtaria</th>\n",
       "      <th>Evolucao</th>\n",
       "    </tr>\n",
       "  </thead>\n",
       "  <tbody>\n",
       "    <tr>\n",
       "      <th>2</th>\n",
       "      <td>06/05/2020</td>\n",
       "      <td>05/05/2020</td>\n",
       "      <td>TIJUCA</td>\n",
       "      <td>2.2</td>\n",
       "      <td>M</td>\n",
       "      <td>De 80 a 89</td>\n",
       "      <td>Ativo</td>\n",
       "    </tr>\n",
       "    <tr>\n",
       "      <th>7</th>\n",
       "      <td>15/04/2020</td>\n",
       "      <td>06/04/2020</td>\n",
       "      <td>LARANJEIRAS</td>\n",
       "      <td>2.1</td>\n",
       "      <td>M</td>\n",
       "      <td>De 80 a 89</td>\n",
       "      <td>Ativo</td>\n",
       "    </tr>\n",
       "    <tr>\n",
       "      <th>17</th>\n",
       "      <td>15/05/2020</td>\n",
       "      <td>14/05/2020</td>\n",
       "      <td>CURICICA</td>\n",
       "      <td>4.0</td>\n",
       "      <td>M</td>\n",
       "      <td>De 50 a 59</td>\n",
       "      <td>Ativo</td>\n",
       "    </tr>\n",
       "    <tr>\n",
       "      <th>26</th>\n",
       "      <td>15/05/2020</td>\n",
       "      <td>06/05/2020</td>\n",
       "      <td>COPACABANA</td>\n",
       "      <td>2.1</td>\n",
       "      <td>F</td>\n",
       "      <td>De 60 a 69</td>\n",
       "      <td>Ativo</td>\n",
       "    </tr>\n",
       "    <tr>\n",
       "      <th>32</th>\n",
       "      <td>15/05/2020</td>\n",
       "      <td>08/05/2020</td>\n",
       "      <td>SEPETIBA</td>\n",
       "      <td>5.3</td>\n",
       "      <td>M</td>\n",
       "      <td>De 50 a 59</td>\n",
       "      <td>Ativo</td>\n",
       "    </tr>\n",
       "    <tr>\n",
       "      <th>...</th>\n",
       "      <td>...</td>\n",
       "      <td>...</td>\n",
       "      <td>...</td>\n",
       "      <td>...</td>\n",
       "      <td>...</td>\n",
       "      <td>...</td>\n",
       "      <td>...</td>\n",
       "    </tr>\n",
       "    <tr>\n",
       "      <th>12008</th>\n",
       "      <td>43958</td>\n",
       "      <td>43953</td>\n",
       "      <td>PIEDADE</td>\n",
       "      <td>3.2</td>\n",
       "      <td>M</td>\n",
       "      <td>De 60 a 69</td>\n",
       "      <td>Ativo</td>\n",
       "    </tr>\n",
       "    <tr>\n",
       "      <th>12088</th>\n",
       "      <td>43953</td>\n",
       "      <td>43953</td>\n",
       "      <td>ROCHA MIRANDA</td>\n",
       "      <td>3.3</td>\n",
       "      <td>F</td>\n",
       "      <td>De 40 a 49</td>\n",
       "      <td>Ativo</td>\n",
       "    </tr>\n",
       "    <tr>\n",
       "      <th>12167</th>\n",
       "      <td>43957</td>\n",
       "      <td>43953</td>\n",
       "      <td>PADRE MIGUEL</td>\n",
       "      <td>5.1</td>\n",
       "      <td>M</td>\n",
       "      <td>De 60 a 69</td>\n",
       "      <td>Ativo</td>\n",
       "    </tr>\n",
       "    <tr>\n",
       "      <th>12217</th>\n",
       "      <td>43956</td>\n",
       "      <td>43953</td>\n",
       "      <td>PADRE MIGUEL</td>\n",
       "      <td>5.1</td>\n",
       "      <td>F</td>\n",
       "      <td>De 50 a 59</td>\n",
       "      <td>Ativo</td>\n",
       "    </tr>\n",
       "    <tr>\n",
       "      <th>12258</th>\n",
       "      <td>43962</td>\n",
       "      <td>43955</td>\n",
       "      <td>JACAREPAGUA</td>\n",
       "      <td>4.0</td>\n",
       "      <td>M</td>\n",
       "      <td>De 60 a 69</td>\n",
       "      <td>Ativo</td>\n",
       "    </tr>\n",
       "  </tbody>\n",
       "</table>\n",
       "<p>870 rows × 7 columns</p>\n",
       "</div>"
      ],
      "text/plain": [
       "             Data DataSintomas         Bairro   AP Sexo FaixaEtaria Evolucao\n",
       "2      06/05/2020   05/05/2020         TIJUCA  2.2    M  De 80 a 89    Ativo\n",
       "7      15/04/2020   06/04/2020    LARANJEIRAS  2.1    M  De 80 a 89    Ativo\n",
       "17     15/05/2020   14/05/2020       CURICICA  4.0    M  De 50 a 59    Ativo\n",
       "26     15/05/2020   06/05/2020     COPACABANA  2.1    F  De 60 a 69    Ativo\n",
       "32     15/05/2020   08/05/2020       SEPETIBA  5.3    M  De 50 a 59    Ativo\n",
       "...           ...          ...            ...  ...  ...         ...      ...\n",
       "12008       43958        43953        PIEDADE  3.2    M  De 60 a 69    Ativo\n",
       "12088       43953        43953  ROCHA MIRANDA  3.3    F  De 40 a 49    Ativo\n",
       "12167       43957        43953   PADRE MIGUEL  5.1    M  De 60 a 69    Ativo\n",
       "12217       43956        43953   PADRE MIGUEL  5.1    F  De 50 a 59    Ativo\n",
       "12258       43962        43955    JACAREPAGUA  4.0    M  De 60 a 69    Ativo\n",
       "\n",
       "[870 rows x 7 columns]"
      ]
     },
     "execution_count": 53,
     "metadata": {},
     "output_type": "execute_result"
    }
   ],
   "source": [
    "df_atv"
   ]
  },
  {
   "cell_type": "code",
   "execution_count": 54,
   "metadata": {},
   "outputs": [
    {
     "data": {
      "text/plain": [
       "8"
      ]
     },
     "execution_count": 54,
     "metadata": {},
     "output_type": "execute_result"
    }
   ],
   "source": [
    "len(df_atv[df_atv['Bairro'] == 'GUARATIBA'])"
   ]
  },
  {
   "cell_type": "code",
   "execution_count": 55,
   "metadata": {},
   "outputs": [],
   "source": [
    "def count_estado_bairro(df,ids):\n",
    "    n = [0]\n",
    "    for i in range(1,164):\n",
    "        n.append(len(df[df['Bairro'] == ids[i]]))\n",
    "    dic = {ids[i]: n[i] for i in range(1,164)}\n",
    "    indef = len(df[df['Bairro'] == 'INDEFINIDO'])\n",
    "    return dic, indef"
   ]
  },
  {
   "cell_type": "code",
   "execution_count": 72,
   "metadata": {},
   "outputs": [],
   "source": [
    "dic_infectados, n_indef = count_estado_bairro(df_atv, ids['id_bairros'])"
   ]
  },
  {
   "cell_type": "code",
   "execution_count": 73,
   "metadata": {},
   "outputs": [
    {
     "data": {
      "text/plain": [
       "{'SAUDE': 0,\n",
       " 'GAMBOA': 0,\n",
       " 'SANTO CRISTO': 1,\n",
       " 'CAJU': 0,\n",
       " 'CENTRO': 11,\n",
       " 'CATUMBI': 4,\n",
       " 'RIO COMPRIDO': 7,\n",
       " 'CIDADE NOVA': 0,\n",
       " 'ESTACIO': 0,\n",
       " 'SAO CRISTOVAO': 3,\n",
       " 'MANGUEIRA': 2,\n",
       " 'BENFICA': 8,\n",
       " 'PAQUETA': 0,\n",
       " 'SANTA TERESA': 1,\n",
       " 'FLAMENGO': 17,\n",
       " 'GLORIA': 2,\n",
       " 'LARANJEIRAS': 12,\n",
       " 'CATETE': 1,\n",
       " 'COSME VELHO': 2,\n",
       " 'BOTAFOGO': 21,\n",
       " 'HUMAITA': 6,\n",
       " 'URCA': 0,\n",
       " 'LEME': 2,\n",
       " 'COPACABANA': 48,\n",
       " 'IPANEMA': 7,\n",
       " 'LEBLON': 30,\n",
       " 'LAGOA': 8,\n",
       " 'JARDIM BOTANICO': 7,\n",
       " 'GAVEA': 3,\n",
       " 'VIDIGAL': 0,\n",
       " 'SAO CONRADO': 2,\n",
       " 'PRACA DA BANDEIRA': 4,\n",
       " 'TIJUCA': 25,\n",
       " 'ALTO DA BOA VISTA': 0,\n",
       " 'MARACANA': 3,\n",
       " 'VILA ISABEL': 7,\n",
       " 'ANDARAI': 6,\n",
       " 'GRAJAU': 6,\n",
       " 'MANGUINHOS': 6,\n",
       " 'BONSUCESSO': 9,\n",
       " 'RAMOS': 7,\n",
       " 'OLARIA': 3,\n",
       " 'PENHA': 5,\n",
       " 'PENHA CIRCULAR': 4,\n",
       " 'BRAS DE PINA': 2,\n",
       " 'CORDOVIL': 5,\n",
       " 'PARADA DE LUCAS': 2,\n",
       " 'VIGARIO GERAL': 4,\n",
       " 'JARDIM AMERICA': 3,\n",
       " 'HIGIENOPOLIS': 1,\n",
       " 'JACARE': 3,\n",
       " 'MARIA DA GRACA': 0,\n",
       " 'DEL CASTILHO': 1,\n",
       " 'INHAUMA': 2,\n",
       " 'ENGENHO DA RAINHA': 3,\n",
       " 'TOMAS COELHO': 4,\n",
       " 'SAO FRANCISCO XAVIER': 2,\n",
       " 'ROCHA': 0,\n",
       " 'RIACHUELO': 2,\n",
       " 'SAMPAIO': 0,\n",
       " 'ENGENHO NOVO': 4,\n",
       " 'LINS DE VASCONCELOS': 3,\n",
       " 'MEIER': 9,\n",
       " 'TODOS OS SANTOS': 1,\n",
       " 'CACHAMBI': 3,\n",
       " 'ENGENHO DE DENTRO': 3,\n",
       " 'AGUA SANTA': 0,\n",
       " 'ENCANTADO': 2,\n",
       " 'PIEDADE': 7,\n",
       " 'ABOLICAO': 1,\n",
       " 'PILARES': 5,\n",
       " 'VILA KOSMOS': 0,\n",
       " 'VICENTE DE CARVALHO': 0,\n",
       " 'VILA DA PENHA': 4,\n",
       " 'VISTA ALEGRE': 1,\n",
       " 'IRAJA': 7,\n",
       " 'COLEGIO': 3,\n",
       " 'CAMPINHO': 0,\n",
       " 'QUINTINO BOCAIUVA': 2,\n",
       " 'CAVALCANTE': 0,\n",
       " 'ENGENHEIRO LEAL': 1,\n",
       " 'CASCADURA': 6,\n",
       " 'MADUREIRA': 5,\n",
       " 'VAZ LOBO': 1,\n",
       " 'TURIACU': 2,\n",
       " 'ROCHA MIRANDA': 3,\n",
       " 'HONORIO GURGEL': 3,\n",
       " 'OSWALDO CRUZ': 5,\n",
       " 'BENTO RIBEIRO': 2,\n",
       " 'MARECHAL HERMES': 4,\n",
       " 'RIBEIRA': 1,\n",
       " 'ZUMBI': 0,\n",
       " 'CACUIA': 0,\n",
       " 'PITANGUEIRAS': 1,\n",
       " 'PRAIA DA BANDEIRA': 1,\n",
       " 'COCOTA': 2,\n",
       " 'BANCARIOS': 1,\n",
       " 'FREGUESIA-ILHA': 7,\n",
       " 'JARDIM GUANABARA': 4,\n",
       " 'JARDIM CARIOCA': 2,\n",
       " 'TAUA': 1,\n",
       " 'MONERO': 2,\n",
       " 'PORTUGUESA': 2,\n",
       " 'GALEAO': 2,\n",
       " 'CIDADE UNIVERSITARIA': 0,\n",
       " 'GUADALUPE': 6,\n",
       " 'ANCHIETA': 5,\n",
       " 'PARQUE ANCHIETA': 1,\n",
       " 'RICARDO ALBUQUERQUE': 0,\n",
       " 'COELHO NETO': 2,\n",
       " 'ACARI': 0,\n",
       " 'BARROS FILHO': 0,\n",
       " 'COSTA BARROS': 0,\n",
       " 'PAVUNA': 6,\n",
       " 'JACAREPAGUA': 19,\n",
       " 'ANIL': 4,\n",
       " 'GARDENIA AZUL': 3,\n",
       " 'CIDADE DE DEUS': 3,\n",
       " 'CURICICA': 4,\n",
       " 'FREGUESIA-JPA': 7,\n",
       " 'PECHINCHA': 8,\n",
       " 'TAQUARA': 14,\n",
       " 'TANQUE': 2,\n",
       " 'PRACA SECA': 2,\n",
       " 'VILA VALQUEIRE': 1,\n",
       " 'JOA': 2,\n",
       " 'ITANHANGA': 2,\n",
       " 'BARRA DA TIJUCA': 33,\n",
       " 'CAMORIM': 4,\n",
       " 'VARGEM PEQUENA': 7,\n",
       " 'VARGEM GRANDE': 3,\n",
       " 'RECREIO DOS BANDEIRANTES': 21,\n",
       " 'GRUMARI': 0,\n",
       " 'DEODORO': 2,\n",
       " 'VILA MILITAR': 0,\n",
       " 'CAMPO DOS AFONSOS': 0,\n",
       " 'JARDIM SULACAP': 2,\n",
       " 'MAGALHAES BASTOS': 5,\n",
       " 'REALENGO': 10,\n",
       " 'PADRE MIGUEL': 4,\n",
       " 'BANGU': 25,\n",
       " 'SENADOR CAMARA': 9,\n",
       " 'SANTISSIMO': 0,\n",
       " 'CAMPO GRANDE': 20,\n",
       " 'SENADOR VASCONCELOS': 1,\n",
       " 'INHOAIBA': 5,\n",
       " 'COSMOS': 3,\n",
       " 'PACIENCIA': 3,\n",
       " 'SANTA CRUZ': 9,\n",
       " 'SEPETIBA': 4,\n",
       " 'GUARATIBA': 8,\n",
       " 'BARRA DE GUARATIBA': 0,\n",
       " 'PEDRA DE GUARATIBA': 0,\n",
       " 'ROCINHA': 1,\n",
       " 'JACAREZINHO': 0,\n",
       " 'COMPLEXO DO ALEMAO': 0,\n",
       " 'MARE': 3,\n",
       " 'VASCO DA GAMA': 0,\n",
       " 'PARQUE COLUMBIA': 0,\n",
       " 'GERICINO': 0,\n",
       " 'LAPA': 0,\n",
       " 'VILA KENNEDY': 0,\n",
       " 'JABOUR': 0}"
      ]
     },
     "execution_count": 73,
     "metadata": {},
     "output_type": "execute_result"
    }
   ],
   "source": [
    "dic_infectados"
   ]
  },
  {
   "cell_type": "code",
   "execution_count": 58,
   "metadata": {},
   "outputs": [
    {
     "data": {
      "text/plain": [
       "1"
      ]
     },
     "execution_count": 58,
     "metadata": {},
     "output_type": "execute_result"
    }
   ],
   "source": [
    "ids['bairros_id']['SAUDE']"
   ]
  },
  {
   "cell_type": "code",
   "execution_count": 59,
   "metadata": {},
   "outputs": [
    {
     "data": {
      "text/plain": [
       "174"
      ]
     },
     "execution_count": 59,
     "metadata": {},
     "output_type": "execute_result"
    }
   ],
   "source": [
    "np.shape(np.where(bairros == 151)[1])[0]"
   ]
  },
  {
   "cell_type": "code",
   "execution_count": 60,
   "metadata": {},
   "outputs": [
    {
     "data": {
      "text/plain": [
       "151.0"
      ]
     },
     "execution_count": 60,
     "metadata": {},
     "output_type": "execute_result"
    }
   ],
   "source": [
    "bairros[21][22]"
   ]
  },
  {
   "cell_type": "code",
   "execution_count": 74,
   "metadata": {},
   "outputs": [],
   "source": [
    "def aloca_estado_bairro(dic_estado, n_indef, mtrx_bairros, ids):\n",
    "    mtrx_estado = np.zeros(np.shape(mtrx_bairros))\n",
    "    for b,qt in dic_estado.items():\n",
    "        id_b = ids[b]\n",
    "        local = np.where(mtrx_bairros == id_b)\n",
    "        n_blocos = np.shape(local)[1]\n",
    "        qt_por_bloco = qt//n_blocos\n",
    "        qt_por_bloco_resto = qt%n_blocos\n",
    "        for i in range(n_blocos):\n",
    "            mtrx_estado[local[0][i],local[1][i]] = qt_por_bloco\n",
    "        if qt_por_bloco_resto > 0:\n",
    "            rng = np.arange(len(local[0]))\n",
    "            escolha = np.random.choice(rng,qt_por_bloco_resto)\n",
    "            for e in escolha:\n",
    "                mtrx_estado[local[0][e],local[1][e]] += 1\n",
    "    if n_indef > 0:\n",
    "        existe_bairro = np.where(mtrx_bairros > 0)\n",
    "        rng = np.arange(len(existe_bairro[0]))\n",
    "        escolha = np.random.choice(rng, n_indef)\n",
    "        for e in escolha:\n",
    "            mtrx_estado[existe_bairro[0][e], existe_bairro[1][e]] += 1\n",
    "    return mtrx_estado"
   ]
  },
  {
   "cell_type": "code",
   "execution_count": 75,
   "metadata": {},
   "outputs": [],
   "source": [
    "infect = aloca_estado_bairro(dic_infectados, n_indef, bairros, ids['bairros_id'])"
   ]
  },
  {
   "cell_type": "code",
   "execution_count": 76,
   "metadata": {},
   "outputs": [
    {
     "data": {
      "text/plain": [
       "841.0"
      ]
     },
     "execution_count": 76,
     "metadata": {},
     "output_type": "execute_result"
    }
   ],
   "source": [
    "np.sum(infect)"
   ]
  },
  {
   "cell_type": "code",
   "execution_count": 64,
   "metadata": {},
   "outputs": [
    {
     "data": {
      "text/plain": [
       "12168"
      ]
     },
     "execution_count": 64,
     "metadata": {},
     "output_type": "execute_result"
    }
   ],
   "source": [
    "1521*8"
   ]
  },
  {
   "cell_type": "code",
   "execution_count": 65,
   "metadata": {},
   "outputs": [],
   "source": [
    "ntf_infect = infect*8"
   ]
  },
  {
   "cell_type": "code",
   "execution_count": 66,
   "metadata": {},
   "outputs": [
    {
     "data": {
      "text/plain": [
       "6728.0"
      ]
     },
     "execution_count": 66,
     "metadata": {},
     "output_type": "execute_result"
    }
   ],
   "source": [
    "np.sum(ntf_infect)"
   ]
  },
  {
   "cell_type": "code",
   "execution_count": 67,
   "metadata": {},
   "outputs": [
    {
     "data": {
      "text/plain": [
       "1.0"
      ]
     },
     "execution_count": 67,
     "metadata": {},
     "output_type": "execute_result"
    }
   ],
   "source": [
    "np.sum(infect/np.sum(infect))"
   ]
  },
  {
   "cell_type": "code",
   "execution_count": 68,
   "metadata": {},
   "outputs": [
    {
     "data": {
      "image/png": "[encoded data removed]",
      "text/plain": [
       "<Figure size 1152x432 with 2 Axes>"
      ]
     },
     "metadata": {
      "needs_background": "light"
     },
     "output_type": "display_data"
    }
   ],
   "source": [
    "plt.figure(figsize=(16,6))\n",
    "plt.imshow(infect, interpolation='none', cmap = 'YlOrRd')\n",
    "plt.colorbar()\n",
    "plt.grid(False)\n",
    "plt.show()"
   ]
  },
  {
   "cell_type": "code",
   "execution_count": 69,
   "metadata": {},
   "outputs": [
    {
     "data": {
      "text/plain": [
       "841.0"
      ]
     },
     "execution_count": 69,
     "metadata": {},
     "output_type": "execute_result"
    }
   ],
   "source": [
    "np.sum(infect)"
   ]
  },
  {
   "cell_type": "code",
   "execution_count": 70,
   "metadata": {},
   "outputs": [
    {
     "data": {
      "image/png": "[encoded data removed]",
      "text/plain": [
       "<Figure size 1152x432 with 2 Axes>"
      ]
     },
     "metadata": {
      "needs_background": "light"
     },
     "output_type": "display_data"
    }
   ],
   "source": [
    "plt.figure(figsize=(16,6))\n",
    "plt.imshow(ntf_infect, interpolation='none', cmap = 'YlOrRd')\n",
    "plt.colorbar()\n",
    "plt.grid(False)\n",
    "plt.show()"
   ]
  },
  {
   "cell_type": "code",
   "execution_count": 71,
   "metadata": {},
   "outputs": [],
   "source": [
    "np.save('infectados_1605',infect)"
   ]
  },
  {
   "cell_type": "code",
   "execution_count": 51,
   "metadata": {},
   "outputs": [],
   "source": [
    "df_rec = df[1][1]"
   ]
  },
  {
   "cell_type": "code",
   "execution_count": 52,
   "metadata": {},
   "outputs": [],
   "source": [
    "dic_rec, n_rec = count_estado_bairro(df_rec, ids['id_bairros'])"
   ]
  },
  {
   "cell_type": "code",
   "execution_count": 53,
   "metadata": {},
   "outputs": [],
   "source": [
    "rec = aloca_estado_bairro(dic_rec, n_rec, bairros, ids['bairros_id'])"
   ]
  },
  {
   "cell_type": "code",
   "execution_count": 54,
   "metadata": {},
   "outputs": [
    {
     "data": {
      "image/png": "[encoded data removed]",
      "text/plain": [
       "<Figure size 1152x432 with 2 Axes>"
      ]
     },
     "metadata": {
      "needs_background": "light"
     },
     "output_type": "display_data"
    }
   ],
   "source": [
    "plt.figure(figsize=(16,6))\n",
    "plt.imshow(rec, interpolation='none', cmap = 'YlOrRd')\n",
    "plt.colorbar()\n",
    "plt.grid(False)\n",
    "plt.show()"
   ]
  },
  {
   "cell_type": "code",
   "execution_count": 55,
   "metadata": {},
   "outputs": [],
   "source": [
    "df_obt = df[1][2]"
   ]
  },
  {
   "cell_type": "code",
   "execution_count": 56,
   "metadata": {},
   "outputs": [],
   "source": [
    "dic_obt, n_ind_obt = count_estado_bairro(df_obt, ids['id_bairros'])"
   ]
  },
  {
   "cell_type": "code",
   "execution_count": 57,
   "metadata": {},
   "outputs": [],
   "source": [
    "obt = aloca_estado_bairro(dic_obt, n_ind_obt, bairros, ids['bairros_id'])"
   ]
  },
  {
   "cell_type": "code",
   "execution_count": 58,
   "metadata": {},
   "outputs": [
    {
     "data": {
      "image/png": "[encoded data removed]",
      "text/plain": [
       "<Figure size 1152x432 with 2 Axes>"
      ]
     },
     "metadata": {
      "needs_background": "light"
     },
     "output_type": "display_data"
    }
   ],
   "source": [
    "plt.figure(figsize=(16,6))\n",
    "plt.imshow(obt, interpolation='none', cmap = 'YlOrRd')\n",
    "plt.colorbar()\n",
    "plt.grid(False)\n",
    "plt.show()"
   ]
  },
  {
   "cell_type": "code",
   "execution_count": 34,
   "metadata": {},
   "outputs": [],
   "source": [
    "lst_bairros = list(set(df_atv['Bairro']))"
   ]
  },
  {
   "cell_type": "code",
   "execution_count": 35,
   "metadata": {},
   "outputs": [],
   "source": [
    "qt = []\n",
    "bair = []\n",
    "dic_novo = {}\n",
    "for b in lst_bairros:\n",
    "    qt.append(len(df_atv[df_atv['Bairro'] == b]))\n",
    "    bair.append(b)\n",
    "    dic_novo[b] = len(df_atv[df_atv['Bairro'] == b])"
   ]
  },
  {
   "cell_type": "code",
   "execution_count": 36,
   "metadata": {},
   "outputs": [
    {
     "data": {
      "text/plain": [
       "{'LINS DE VASCONCELOS': 4,\n",
       " 'LEBLON': 20,\n",
       " 'SEPETIBA': 10,\n",
       " 'CENTRO': 10,\n",
       " 'ANIL': 13,\n",
       " 'CACHAMBI': 11,\n",
       " 'BENFICA': 7,\n",
       " 'PEDRA DE GUARATIBA': 2,\n",
       " 'PENHA': 10,\n",
       " 'DEODORO': 1,\n",
       " 'ITANHANGA': 7,\n",
       " 'ENCANTADO': 2,\n",
       " 'AGUA SANTA': 1,\n",
       " 'VILA KOSMOS': 2,\n",
       " 'MANGUINHOS': 4,\n",
       " 'RECREIO DOS BANDEIRANTES': 37,\n",
       " 'VARGEM PEQUENA': 1,\n",
       " 'LARANJEIRAS': 16,\n",
       " 'CURICICA': 7,\n",
       " 'BOTAFOGO': 30,\n",
       " 'CORDOVIL': 1,\n",
       " 'CAMPINHO': 6,\n",
       " 'FLAMENGO': 28,\n",
       " 'QUINTINO BOCAIUVA': 5,\n",
       " 'TIJUCA': 60,\n",
       " 'INHAUMA': 6,\n",
       " 'TAUA': 2,\n",
       " 'LEME': 1,\n",
       " 'SANTISSIMO': 11,\n",
       " 'PARADA DE LUCAS': 3,\n",
       " 'IRAJA': 18,\n",
       " 'ACARI': 2,\n",
       " 'DEL CASTILHO': 5,\n",
       " 'CIDADE UNIVERSITARIA': 1,\n",
       " 'GALEAO': 7,\n",
       " 'ROCHA MIRANDA': 12,\n",
       " 'RICARDO ALBUQUERQUE': 7,\n",
       " 'TAQUARA': 25,\n",
       " 'JACAREPAGUA': 34,\n",
       " 'SAO CONRADO': 11,\n",
       " 'ABOLICAO': 4,\n",
       " 'PADRE MIGUEL': 8,\n",
       " 'COELHO NETO': 8,\n",
       " 'JARDIM SULACAP': 5,\n",
       " 'VIDIGAL': 2,\n",
       " 'TODOS OS SANTOS': 10,\n",
       " 'CAVALCANTE': 1,\n",
       " 'ALTO DA BOA VISTA': 3,\n",
       " 'SAO FRANCISCO XAVIER': 3,\n",
       " 'VILA MILITAR': 1,\n",
       " 'VILA ISABEL': 13,\n",
       " 'CASCADURA': 3,\n",
       " 'COSMOS': 15,\n",
       " 'IPANEMA': 20,\n",
       " 'MARECHAL HERMES': 6,\n",
       " 'ROCINHA': 14,\n",
       " 'TOMAS COELHO': 5,\n",
       " 'GRAJAU': 11,\n",
       " 'OLARIA': 10,\n",
       " 'PARQUE COLUMBIA': 2,\n",
       " 'VARGEM GRANDE': 3,\n",
       " 'BENTO RIBEIRO': 8,\n",
       " 'URCA': 7,\n",
       " 'SENADOR VASCONCELOS': 7,\n",
       " 'ANDARAI': 10,\n",
       " 'INDEFINIDO': 91,\n",
       " 'HONORIO GURGEL': 1,\n",
       " 'TURIACU': 3,\n",
       " 'COSTA BARROS': 2,\n",
       " 'PRACA SECA': 7,\n",
       " 'MANGUEIRA': 3,\n",
       " 'MADUREIRA': 10,\n",
       " 'VICENTE DE CARVALHO': 4,\n",
       " 'INHOAIBA': 6,\n",
       " 'ANCHIETA': 11,\n",
       " 'MARACANA': 11,\n",
       " 'MARE': 1,\n",
       " 'HIGIENOPOLIS': 6,\n",
       " 'PECHINCHA': 13,\n",
       " 'PACIENCIA': 16,\n",
       " 'CATUMBI': 7,\n",
       " 'VILA DA PENHA': 10,\n",
       " 'COSME VELHO': 4,\n",
       " 'ROCHA': 4,\n",
       " 'MAGALHAES BASTOS': 6,\n",
       " 'TANQUE': 5,\n",
       " 'BANGU': 34,\n",
       " 'SAUDE': 2,\n",
       " 'CACUIA': 1,\n",
       " 'BONSUCESSO': 17,\n",
       " 'CAJU': 1,\n",
       " 'PARQUE ANCHIETA': 3,\n",
       " 'SAO CRISTOVAO': 10,\n",
       " 'ENGENHO NOVO': 5,\n",
       " 'PRACA DA BANDEIRA': 6,\n",
       " 'SENADOR CAMARA': 9,\n",
       " 'CAMPO GRANDE': 53,\n",
       " 'BARRA DA TIJUCA': 77,\n",
       " 'VIGARIO GERAL': 6,\n",
       " 'BANCARIOS': 3,\n",
       " 'JARDIM GUANABARA': 9,\n",
       " 'GAMBOA': 4,\n",
       " 'MONERO': 2,\n",
       " 'GUARATIBA': 11,\n",
       " 'VILA VALQUEIRE': 15,\n",
       " 'FREGUESIA-JPA': 16,\n",
       " 'JACARE': 1,\n",
       " 'RIACHUELO': 1,\n",
       " 'PIEDADE': 14,\n",
       " 'FREGUESIA-ILHA': 3,\n",
       " 'PENHA CIRCULAR': 10,\n",
       " 'SANTA TERESA': 4,\n",
       " 'COCOTA': 1,\n",
       " 'ENGENHO DE DENTRO': 5,\n",
       " 'HUMAITA': 3,\n",
       " 'JARDIM CARIOCA': 1,\n",
       " 'SANTA CRUZ': 34,\n",
       " 'VAZ LOBO': 1,\n",
       " 'PRAIA DA BANDEIRA': 2,\n",
       " 'MEIER': 19,\n",
       " 'RAMOS': 14,\n",
       " 'CAMORIM': 3,\n",
       " 'CATETE': 12,\n",
       " 'COLEGIO': 3,\n",
       " 'PAVUNA': 8,\n",
       " 'GARDENIA AZUL': 7,\n",
       " 'REALENGO': 36,\n",
       " 'RIO COMPRIDO': 8,\n",
       " 'BRAS DE PINA': 13,\n",
       " 'JARDIM BOTANICO': 5,\n",
       " 'PILARES': 10,\n",
       " 'FORA DO MUNICÍPIO': 21,\n",
       " 'COPACABANA': 58,\n",
       " 'GLORIA': 3,\n",
       " 'LAGOA': 10,\n",
       " 'OSWALDO CRUZ': 11,\n",
       " 'JARDIM AMERICA': 3,\n",
       " 'MARIA DA GRACA': 3,\n",
       " 'BARROS FILHO': 3,\n",
       " 'GAVEA': 53,\n",
       " 'CIDADE DE DEUS': 2,\n",
       " 'PORTUGUESA': 7,\n",
       " 'GUADALUPE': 12,\n",
       " 'ESTACIO': 8,\n",
       " 'ENGENHO DA RAINHA': 6}"
      ]
     },
     "execution_count": 36,
     "metadata": {},
     "output_type": "execute_result"
    }
   ],
   "source": [
    "dic_novo"
   ]
  },
  {
   "cell_type": "code",
   "execution_count": 37,
   "metadata": {},
   "outputs": [
    {
     "data": {
      "text/plain": [
       "1430"
      ]
     },
     "execution_count": 37,
     "metadata": {},
     "output_type": "execute_result"
    }
   ],
   "source": [
    "np.sum([v for i,v in dic_infectados.items()])"
   ]
  },
  {
   "cell_type": "code",
   "execution_count": 38,
   "metadata": {},
   "outputs": [
    {
     "data": {
      "text/plain": [
       "1542"
      ]
     },
     "execution_count": 38,
     "metadata": {},
     "output_type": "execute_result"
    }
   ],
   "source": [
    "np.sum([v for i,v in dic_novo.items()])"
   ]
  },
  {
   "cell_type": "code",
   "execution_count": 39,
   "metadata": {},
   "outputs": [
    {
     "data": {
      "text/plain": [
       "1542"
      ]
     },
     "execution_count": 39,
     "metadata": {},
     "output_type": "execute_result"
    }
   ],
   "source": [
    "np.sum(qt)"
   ]
  },
  {
   "cell_type": "code",
   "execution_count": 40,
   "metadata": {},
   "outputs": [
    {
     "data": {
      "text/plain": [
       "1430"
      ]
     },
     "execution_count": 40,
     "metadata": {},
     "output_type": "execute_result"
    }
   ],
   "source": [
    "np.sum([v for i,v in dic_infectados.items()])"
   ]
  },
  {
   "cell_type": "code",
   "execution_count": 41,
   "metadata": {},
   "outputs": [],
   "source": [
    "n = [0]\n",
    "for i in range(1,164):\n",
    "    n.append(len(df_atv[df_atv['Bairro'] == ids['id_bairros'][i]]))"
   ]
  },
  {
   "cell_type": "code",
   "execution_count": 42,
   "metadata": {},
   "outputs": [],
   "source": [
    "bool_bair = [v not in ids['bairros_id'] for v in lst_bairros]"
   ]
  },
  {
   "cell_type": "code",
   "execution_count": 43,
   "metadata": {},
   "outputs": [],
   "source": [
    "rng_b = np.arange(len(bool_bair))"
   ]
  },
  {
   "cell_type": "code",
   "execution_count": 44,
   "metadata": {},
   "outputs": [
    {
     "data": {
      "text/plain": [
       "array([ 65, 131])"
      ]
     },
     "execution_count": 44,
     "metadata": {},
     "output_type": "execute_result"
    }
   ],
   "source": [
    "rng_b[bool_bair]"
   ]
  },
  {
   "cell_type": "code",
   "execution_count": 45,
   "metadata": {},
   "outputs": [
    {
     "data": {
      "text/plain": [
       "'TIJUCA'"
      ]
     },
     "execution_count": 45,
     "metadata": {},
     "output_type": "execute_result"
    }
   ],
   "source": [
    "lst_bairros[24]"
   ]
  },
  {
   "cell_type": "code",
   "execution_count": 57,
   "metadata": {},
   "outputs": [
    {
     "data": {
      "text/plain": [
       "91"
      ]
     },
     "execution_count": 57,
     "metadata": {},
     "output_type": "execute_result"
    }
   ],
   "source": [
    "n_indef"
   ]
  },
  {
   "cell_type": "code",
   "execution_count": 59,
   "metadata": {},
   "outputs": [],
   "source": [
    "infectados = np.zeros((39,83))"
   ]
  },
  {
   "cell_type": "code",
   "execution_count": 60,
   "metadata": {},
   "outputs": [],
   "source": [
    "existe_bairro = np.where(bairros > 0)\n",
    "rng = np.arange(len(existe_bairro[0]))\n",
    "escolha = np.random.choice(rng, n_indef)\n",
    "for e in escolha:\n",
    "    infectados[existe_bairro[0][e], existe_bairro[1][e]]"
   ]
  },
  {
   "cell_type": "code",
   "execution_count": 67,
   "metadata": {},
   "outputs": [
    {
     "name": "stdout",
     "output_type": "stream",
     "text": [
      "21 49\n",
      "14 50\n",
      "33 28\n",
      "23 68\n",
      "17 28\n",
      "32 32\n",
      "25 58\n",
      "4 68\n",
      "10 56\n",
      "11 42\n",
      "26 65\n",
      "31 29\n",
      "25 11\n",
      "30 40\n",
      "25 76\n",
      "16 58\n",
      "15 43\n",
      "22 39\n",
      "32 38\n",
      "21 46\n",
      "17 61\n",
      "25 20\n",
      "29 54\n",
      "23 9\n",
      "10 53\n",
      "30 32\n",
      "16 4\n",
      "31 27\n",
      "28 26\n",
      "18 14\n",
      "24 69\n",
      "23 66\n",
      "7 55\n",
      "14 37\n",
      "15 66\n",
      "14 39\n",
      "13 39\n",
      "19 20\n",
      "29 60\n",
      "14 39\n",
      "27 21\n",
      "14 30\n",
      "28 41\n",
      "31 35\n",
      "21 29\n",
      "26 71\n",
      "21 61\n",
      "7 63\n",
      "18 52\n",
      "30 41\n",
      "14 42\n",
      "16 4\n",
      "8 46\n",
      "9 56\n",
      "19 61\n",
      "10 36\n",
      "8 64\n",
      "12 24\n",
      "10 51\n",
      "25 21\n",
      "10 35\n",
      "31 32\n",
      "30 33\n",
      "10 54\n",
      "29 59\n",
      "15 35\n",
      "20 8\n",
      "14 28\n",
      "25 60\n",
      "15 58\n",
      "24 69\n",
      "12 42\n",
      "12 45\n",
      "11 34\n",
      "21 52\n",
      "14 10\n",
      "22 38\n",
      "17 37\n",
      "16 57\n",
      "23 44\n",
      "16 66\n",
      "19 57\n",
      "16 17\n",
      "30 36\n",
      "21 23\n",
      "19 33\n",
      "27 54\n",
      "19 12\n",
      "18 33\n",
      "24 55\n",
      "18 10\n"
     ]
    }
   ],
   "source": [
    "existe_bairro[0][1]"
   ]
  },
  {
   "cell_type": "code",
   "execution_count": 68,
   "metadata": {},
   "outputs": [
    {
     "data": {
      "text/plain": [
       "0.0"
      ]
     },
     "execution_count": 68,
     "metadata": {},
     "output_type": "execute_result"
    }
   ],
   "source": [
    "infectados[18,10]"
   ]
  },
  {
   "cell_type": "code",
   "execution_count": 63,
   "metadata": {
    "scrolled": true
   },
   "outputs": [
    {
     "data": {
      "text/plain": [
       "array([ 834,  344, 1432,  989,  521, 1413, 1110,    2,  147,  174, 1181,\n",
       "       1388, 1063, 1361, 1126,  483,  401,  893, 1419,  831,  554, 1072,\n",
       "       1333,  930,  144, 1353,  429, 1386, 1255,  579, 1056,  987,   41,\n",
       "        331,  424,  333,  273,  660, 1339,  333, 1194,  324, 1270, 1394,\n",
       "        814, 1187,  846,   48,  617, 1362,  336,  429,   64,  109,  701,\n",
       "        131,   81,  202,  142, 1073,  130, 1391, 1354,  145, 1338,  393,\n",
       "        721,  322, 1112,  416, 1056,  220,  223,  166,  837,  304,  892,\n",
       "        530,  482,  965,  491,  697,  442, 1357,  808,  673, 1227,  652,\n",
       "        598, 1042,  575])"
      ]
     },
     "execution_count": 63,
     "metadata": {},
     "output_type": "execute_result"
    }
   ],
   "source": [
    "escolha"
   ]
  },
  {
   "cell_type": "code",
   "execution_count": 62,
   "metadata": {},
   "outputs": [
    {
     "data": {
      "text/plain": [
       "0.0"
      ]
     },
     "execution_count": 62,
     "metadata": {},
     "output_type": "execute_result"
    }
   ],
   "source": [
    "np.max(infectados)"
   ]
  },
  {
   "cell_type": "code",
   "execution_count": null,
   "metadata": {},
   "outputs": [],
   "source": []
  }
 ],
 "metadata": {
  "kernelspec": {
   "display_name": "Python ModCovid",
   "language": "python",
   "name": "covid"
  },
  "language_info": {
   "codemirror_mode": {
    "name": "ipython",
    "version": 3
   },
   "file_extension": ".py",
   "mimetype": "text/x-python",
   "name": "python",
   "nbconvert_exporter": "python",
   "pygments_lexer": "ipython3",
   "version": "3.8.3"
  }
 },
 "nbformat": 4,
 "nbformat_minor": 4
}
