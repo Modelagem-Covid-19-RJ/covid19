{
 "cells": [
  {
   "cell_type": "code",
   "execution_count": 28,
   "metadata": {},
   "outputs": [],
   "source": [
    "import numpy as np\n",
    "import matplotlib.pyplot as plt\n",
    "import yaml\n",
    "import pandas as pd"
   ]
  },
  {
   "cell_type": "code",
   "execution_count": 29,
   "metadata": {},
   "outputs": [],
   "source": [
    "with open('config.yml', encoding = 'utf-8') as f:\n",
    "    configs = yaml.load(f, Loader = yaml.FullLoader)"
   ]
  },
  {
   "cell_type": "code",
   "execution_count": 30,
   "metadata": {},
   "outputs": [],
   "source": [
    "with open('bairros.yml', encoding = 'utf-8') as f:\n",
    "    ids = yaml.load(f, Loader = yaml.FullLoader)"
   ]
  },
  {
   "cell_type": "code",
   "execution_count": 33,
   "metadata": {},
   "outputs": [],
   "source": [
    "bairros = np.load('novos_bairros.npy')\n",
    "bairros_2 = np.load('geoloc_Bairros_MRJ.npy')"
   ]
  },
  {
   "cell_type": "code",
   "execution_count": 38,
   "metadata": {},
   "outputs": [
    {
     "data": {
      "image/png": "[encoded data removed]",
      "text/plain": [
       "<Figure size 1152x432 with 2 Axes>"
      ]
     },
     "metadata": {
      "needs_background": "light"
     },
     "output_type": "display_data"
    }
   ],
   "source": [
    "plt.figure(figsize=(16,6))\n",
    "plt.imshow(bairros, interpolation='none')\n",
    "plt.colorbar()\n",
    "plt.grid(False)\n",
    "plt.show()"
   ]
  },
  {
   "cell_type": "code",
   "execution_count": 8,
   "metadata": {},
   "outputs": [
    {
     "data": {
      "text/plain": [
       "(2, 2)"
      ]
     },
     "execution_count": 8,
     "metadata": {},
     "output_type": "execute_result"
    }
   ],
   "source": [
    "8//3, 8%3"
   ]
  },
  {
   "cell_type": "code",
   "execution_count": 9,
   "metadata": {},
   "outputs": [
    {
     "data": {
      "text/plain": [
       "array([  0.,   0.,   0.,   0.,   0.,   0.,   0.,   0.,   0.,   0.,   0.,\n",
       "         0.,   0.,   0.,   0., 151., 151., 151., 151., 151., 151., 151.,\n",
       "       151., 151., 151., 151., 151., 151., 152., 133., 133., 133., 133.,\n",
       "         0.,   0.,   0.,   0.,   0.,   0.,   0.,   0.,   0.,   0.,   0.,\n",
       "         0.,   0.,   0.,   0.,   0.,   0.,   0.,   0.,   0.,   0.,   0.,\n",
       "         0.,   0.,   0.,   0.,   0.,   0.,   0.,   0.,   0.,   0.,   0.,\n",
       "         0.,   0.,   0.,   0.,   0.,   0.,   0.,   0.,   0.,   0.,   0.,\n",
       "         0.,   0.,   0.,   0.,   0.,   0.])"
      ]
     },
     "execution_count": 9,
     "metadata": {},
     "output_type": "execute_result"
    }
   ],
   "source": [
    "bairros[35]"
   ]
  },
  {
   "cell_type": "code",
   "execution_count": 10,
   "metadata": {},
   "outputs": [
    {
     "data": {
      "text/plain": [
       "'GUARATIBA'"
      ]
     },
     "execution_count": 10,
     "metadata": {},
     "output_type": "execute_result"
    }
   ],
   "source": [
    "ids['id_bairros'][151]"
   ]
  },
  {
   "cell_type": "code",
   "execution_count": 58,
   "metadata": {},
   "outputs": [],
   "source": [
    "def set_df(fonte, **kwargs):\n",
    "    \"\"\"Carrega o CSV com dados do covid para determinada cidade ou estado e retorna um pandas.DataFrame com os dados\n",
    "\n",
    "    Parameters\n",
    "    ----------\n",
    "    fonte : str ('prefeitura_rj', 'estado_rj')\n",
    "        Indica qual a fonte dos dados, com isso a função determina qual CSV carregar e como tratar o DataFrame.\n",
    "        O arquivo a ser carregado é dado em configs.yml\n",
    "    *args : dict, optional\n",
    "        Um dicionário com argumentos extras:\n",
    "            df_break: Se setado para True, muda o retorno para vários DataFrames\n",
    "    Returns\n",
    "    -------\n",
    "    ret_v: Se nenhum argumento opcional for passado, ret_v é uma lista contendo o DataFrame tratado com todos os casos, e a data de atualização dos dados\n",
    "            df_break == True: ret_v é uma lista com [DataFrame Tratado, [DataFrame Ativos, DataFrame Recuperados, DataFrame Obitos], Data de Atualização]        \n",
    "    \"\"\"\n",
    "\n",
    "    if fonte == 'prefeitura_rj':\n",
    "        df = pd.read_csv('Dados_indiv_MRJ_covid_19.csv', encoding = 'iso-8859-1', delimiter = ';')\n",
    "        df.rename(columns = configs['df']['rename']['rj']['colunas']['prefeitura'], inplace = True)\n",
    "        dt_att = df['Data_atualização'].values[0]\n",
    "        for drop in configs['df']['droppable']['rj']['prefeitura']:\n",
    "            df.drop(drop, axis = 1, inplace = True)\n",
    "        for r in configs['df']['rename']['rj']['dados']['prefeitura']:\n",
    "            df[r].replace(configs['df']['rename']['rj']['dados']['prefeitura'][r], inplace = True)\n",
    "        if 'df_break' in kwargs  and kwargs['df_break'] == True:\n",
    "            df_break = []\n",
    "            for s in configs['df']['status']['rj']['prefeitura']:\n",
    "                df_break.append(df[df['Evolucao'] == s])\n",
    "            ret_lst = [df, df_break, dt_att]\n",
    "        else:\n",
    "            ret_lst = [df, dt_att]\n",
    "    elif fonte == 'estado_rj':\n",
    "        df = pd.read_csv(root_dir + '/' + configs['csv']['rj']['file_loc']['estado'])\n",
    "        df = df[df['classificacao'] == 'CONFIRMADO']\n",
    "        df.rename(columns = configs['df']['rename']['rj']['colunas']['estado'], inplace = True)\n",
    "        for drop in configs['df']['droppable']['rj']['estado']:\n",
    "            df.drop(drop, axis = 1, inplace = True)\n",
    "        for r in configs['df']['rename']['rj']['dados']['estado']:\n",
    "            df[r].replace(configs['df']['rename']['rj']['dados']['estado'][r], inplace = True)\n",
    "        df['Municipio'] = [m.title()  for m in df['Municipio']]\n",
    "        if args and args[0]['df_break'] == True:\n",
    "            df_break = []\n",
    "            for s in configs['df']['status']['rj']['estado']:\n",
    "                df_break.append(df[df['Evolucao'] == s])\n",
    "            ret_lst = [df, df_break]\n",
    "        else:\n",
    "            ret_lst = df\n",
    "    else: \n",
    "        print('Fonte de dados Inválida, as opções são prefeitura_rj ou estado_rj')\n",
    "        ret_lst = 'Error'\n",
    "    return ret_lst"
   ]
  },
  {
   "cell_type": "code",
   "execution_count": 59,
   "metadata": {},
   "outputs": [],
   "source": [
    "df = set_df('prefeitura_rj', df_break = True)"
   ]
  },
  {
   "cell_type": "code",
   "execution_count": 60,
   "metadata": {},
   "outputs": [],
   "source": [
    "df_atv = df[1][0]"
   ]
  },
  {
   "cell_type": "code",
   "execution_count": 61,
   "metadata": {},
   "outputs": [
    {
     "data": {
      "text/html": [
       "<div>\n",
       "<style scoped>\n",
       "    .dataframe tbody tr th:only-of-type {\n",
       "        vertical-align: middle;\n",
       "    }\n",
       "\n",
       "    .dataframe tbody tr th {\n",
       "        vertical-align: top;\n",
       "    }\n",
       "\n",
       "    .dataframe thead th {\n",
       "        text-align: right;\n",
       "    }\n",
       "</style>\n",
       "<table border=\"1\" class=\"dataframe\">\n",
       "  <thead>\n",
       "    <tr style=\"text-align: right;\">\n",
       "      <th></th>\n",
       "      <th>Data</th>\n",
       "      <th>DataSintomas</th>\n",
       "      <th>Bairro</th>\n",
       "      <th>AP</th>\n",
       "      <th>Sexo</th>\n",
       "      <th>FaixaEtaria</th>\n",
       "      <th>Evolucao</th>\n",
       "      <th>dt_óbito</th>\n",
       "      <th>raça/cor</th>\n",
       "    </tr>\n",
       "  </thead>\n",
       "  <tbody>\n",
       "    <tr>\n",
       "      <th>5201</th>\n",
       "      <td>04/06/2020</td>\n",
       "      <td>01/06/2020</td>\n",
       "      <td>SENADOR CAMARA</td>\n",
       "      <td>5.1</td>\n",
       "      <td>M</td>\n",
       "      <td>De 50 a 59</td>\n",
       "      <td>Ativo</td>\n",
       "      <td>NaN</td>\n",
       "      <td>Branca</td>\n",
       "    </tr>\n",
       "    <tr>\n",
       "      <th>5220</th>\n",
       "      <td>04/06/2020</td>\n",
       "      <td>03/06/2020</td>\n",
       "      <td>JACAREPAGUA</td>\n",
       "      <td>4.0</td>\n",
       "      <td>F</td>\n",
       "      <td>De 90 a 100</td>\n",
       "      <td>Ativo</td>\n",
       "      <td>NaN</td>\n",
       "      <td>Branca</td>\n",
       "    </tr>\n",
       "    <tr>\n",
       "      <th>5256</th>\n",
       "      <td>05/06/2020</td>\n",
       "      <td>02/06/2020</td>\n",
       "      <td>BANGU</td>\n",
       "      <td>5.1</td>\n",
       "      <td>M</td>\n",
       "      <td>De 60 a 69</td>\n",
       "      <td>Ativo</td>\n",
       "      <td>NaN</td>\n",
       "      <td>Ignorado</td>\n",
       "    </tr>\n",
       "    <tr>\n",
       "      <th>5338</th>\n",
       "      <td>04/06/2020</td>\n",
       "      <td>02/06/2020</td>\n",
       "      <td>PADRE MIGUEL</td>\n",
       "      <td>5.1</td>\n",
       "      <td>M</td>\n",
       "      <td>De 40 a 49</td>\n",
       "      <td>Ativo</td>\n",
       "      <td>NaN</td>\n",
       "      <td>Ignorado</td>\n",
       "    </tr>\n",
       "    <tr>\n",
       "      <th>5454</th>\n",
       "      <td>06/04/2020</td>\n",
       "      <td>02/04/2020</td>\n",
       "      <td>DEODORO</td>\n",
       "      <td>5.1</td>\n",
       "      <td>F</td>\n",
       "      <td>De 60 a 69</td>\n",
       "      <td>Ativo</td>\n",
       "      <td>NaN</td>\n",
       "      <td>Branca</td>\n",
       "    </tr>\n",
       "    <tr>\n",
       "      <th>...</th>\n",
       "      <td>...</td>\n",
       "      <td>...</td>\n",
       "      <td>...</td>\n",
       "      <td>...</td>\n",
       "      <td>...</td>\n",
       "      <td>...</td>\n",
       "      <td>...</td>\n",
       "      <td>...</td>\n",
       "      <td>...</td>\n",
       "    </tr>\n",
       "    <tr>\n",
       "      <th>42245</th>\n",
       "      <td>12/06/2020</td>\n",
       "      <td>01/06/2020</td>\n",
       "      <td>INDEFINIDO</td>\n",
       "      <td>N/D</td>\n",
       "      <td>F</td>\n",
       "      <td>De 30 a 39</td>\n",
       "      <td>Ativo</td>\n",
       "      <td>NaN</td>\n",
       "      <td>Preta</td>\n",
       "    </tr>\n",
       "    <tr>\n",
       "      <th>42340</th>\n",
       "      <td>10/06/2020</td>\n",
       "      <td>01/06/2020</td>\n",
       "      <td>BANGU</td>\n",
       "      <td>5.1</td>\n",
       "      <td>M</td>\n",
       "      <td>De 30 a 39</td>\n",
       "      <td>Ativo</td>\n",
       "      <td>NaN</td>\n",
       "      <td>Parda</td>\n",
       "    </tr>\n",
       "    <tr>\n",
       "      <th>42354</th>\n",
       "      <td>14/06/2020</td>\n",
       "      <td>15/03/2020</td>\n",
       "      <td>LAGOA</td>\n",
       "      <td>2.1</td>\n",
       "      <td>M</td>\n",
       "      <td>De 80 a 89</td>\n",
       "      <td>Ativo</td>\n",
       "      <td>NaN</td>\n",
       "      <td>Ignorado</td>\n",
       "    </tr>\n",
       "    <tr>\n",
       "      <th>42377</th>\n",
       "      <td>14/06/2020</td>\n",
       "      <td>12/06/2020</td>\n",
       "      <td>FORA DO MUNICÍPIO</td>\n",
       "      <td>N/D</td>\n",
       "      <td>F</td>\n",
       "      <td>De 30 a 39</td>\n",
       "      <td>Ativo</td>\n",
       "      <td>NaN</td>\n",
       "      <td>Ignorado</td>\n",
       "    </tr>\n",
       "    <tr>\n",
       "      <th>42383</th>\n",
       "      <td>14/06/2020</td>\n",
       "      <td>01/06/2020</td>\n",
       "      <td>CAMPO GRANDE</td>\n",
       "      <td>5.2</td>\n",
       "      <td>M</td>\n",
       "      <td>De 60 a 69</td>\n",
       "      <td>Ativo</td>\n",
       "      <td>NaN</td>\n",
       "      <td>Branca</td>\n",
       "    </tr>\n",
       "  </tbody>\n",
       "</table>\n",
       "<p>1542 rows × 9 columns</p>\n",
       "</div>"
      ],
      "text/plain": [
       "             Data DataSintomas             Bairro   AP Sexo  FaixaEtaria  \\\n",
       "5201   04/06/2020   01/06/2020     SENADOR CAMARA  5.1    M   De 50 a 59   \n",
       "5220   04/06/2020   03/06/2020        JACAREPAGUA  4.0    F  De 90 a 100   \n",
       "5256   05/06/2020   02/06/2020              BANGU  5.1    M   De 60 a 69   \n",
       "5338   04/06/2020   02/06/2020       PADRE MIGUEL  5.1    M   De 40 a 49   \n",
       "5454   06/04/2020   02/04/2020            DEODORO  5.1    F   De 60 a 69   \n",
       "...           ...          ...                ...  ...  ...          ...   \n",
       "42245  12/06/2020   01/06/2020         INDEFINIDO  N/D    F   De 30 a 39   \n",
       "42340  10/06/2020   01/06/2020              BANGU  5.1    M   De 30 a 39   \n",
       "42354  14/06/2020   15/03/2020              LAGOA  2.1    M   De 80 a 89   \n",
       "42377  14/06/2020   12/06/2020  FORA DO MUNICÍPIO  N/D    F   De 30 a 39   \n",
       "42383  14/06/2020   01/06/2020       CAMPO GRANDE  5.2    M   De 60 a 69   \n",
       "\n",
       "      Evolucao dt_óbito  raça/cor  \n",
       "5201     Ativo      NaN    Branca  \n",
       "5220     Ativo      NaN    Branca  \n",
       "5256     Ativo      NaN  Ignorado  \n",
       "5338     Ativo      NaN  Ignorado  \n",
       "5454     Ativo      NaN    Branca  \n",
       "...        ...      ...       ...  \n",
       "42245    Ativo      NaN     Preta  \n",
       "42340    Ativo      NaN     Parda  \n",
       "42354    Ativo      NaN  Ignorado  \n",
       "42377    Ativo      NaN  Ignorado  \n",
       "42383    Ativo      NaN    Branca  \n",
       "\n",
       "[1542 rows x 9 columns]"
      ]
     },
     "execution_count": 61,
     "metadata": {},
     "output_type": "execute_result"
    }
   ],
   "source": [
    "df_atv"
   ]
  },
  {
   "cell_type": "code",
   "execution_count": 62,
   "metadata": {},
   "outputs": [
    {
     "data": {
      "text/plain": [
       "11"
      ]
     },
     "execution_count": 62,
     "metadata": {},
     "output_type": "execute_result"
    }
   ],
   "source": [
    "len(df_atv[df_atv['Bairro'] == 'GUARATIBA'])"
   ]
  },
  {
   "cell_type": "code",
   "execution_count": 63,
   "metadata": {},
   "outputs": [],
   "source": [
    "def count_estado_bairro(df,ids):\n",
    "    n = [0]\n",
    "    for i in range(1,164):\n",
    "        n.append(len(df[df['Bairro'] == ids[i]]))\n",
    "    dic = {ids[i]: n[i] for i in range(1,164)}\n",
    "    indef = len(df[df['Bairro'] == 'INDEFINIDO'])\n",
    "    return dic, indef"
   ]
  },
  {
   "cell_type": "code",
   "execution_count": 64,
   "metadata": {},
   "outputs": [],
   "source": [
    "dic_infectados, n_indef = count_estado_bairro(df_atv, ids['id_bairros'])"
   ]
  },
  {
   "cell_type": "code",
   "execution_count": 65,
   "metadata": {},
   "outputs": [
    {
     "data": {
      "text/plain": [
       "{'SAUDE': 2,\n",
       " 'GAMBOA': 4,\n",
       " 'SANTO CRISTO': 0,\n",
       " 'CAJU': 1,\n",
       " 'CENTRO': 10,\n",
       " 'CATUMBI': 7,\n",
       " 'RIO COMPRIDO': 8,\n",
       " 'CIDADE NOVA': 0,\n",
       " 'ESTACIO': 8,\n",
       " 'SAO CRISTOVAO': 10,\n",
       " 'MANGUEIRA': 3,\n",
       " 'BENFICA': 7,\n",
       " 'PAQUETA': 0,\n",
       " 'SANTA TERESA': 4,\n",
       " 'FLAMENGO': 28,\n",
       " 'GLORIA': 3,\n",
       " 'LARANJEIRAS': 16,\n",
       " 'CATETE': 12,\n",
       " 'COSME VELHO': 4,\n",
       " 'BOTAFOGO': 30,\n",
       " 'HUMAITA': 3,\n",
       " 'URCA': 7,\n",
       " 'LEME': 1,\n",
       " 'COPACABANA': 58,\n",
       " 'IPANEMA': 20,\n",
       " 'LEBLON': 20,\n",
       " 'LAGOA': 10,\n",
       " 'JARDIM BOTANICO': 5,\n",
       " 'GAVEA': 53,\n",
       " 'VIDIGAL': 2,\n",
       " 'SAO CONRADO': 11,\n",
       " 'PRACA DA BANDEIRA': 6,\n",
       " 'TIJUCA': 60,\n",
       " 'ALTO DA BOA VISTA': 3,\n",
       " 'MARACANA': 11,\n",
       " 'VILA ISABEL': 13,\n",
       " 'ANDARAI': 10,\n",
       " 'GRAJAU': 11,\n",
       " 'MANGUINHOS': 4,\n",
       " 'BONSUCESSO': 17,\n",
       " 'RAMOS': 14,\n",
       " 'OLARIA': 10,\n",
       " 'PENHA': 10,\n",
       " 'PENHA CIRCULAR': 10,\n",
       " 'BRAS DE PINA': 13,\n",
       " 'CORDOVIL': 1,\n",
       " 'PARADA DE LUCAS': 3,\n",
       " 'VIGARIO GERAL': 6,\n",
       " 'JARDIM AMERICA': 3,\n",
       " 'HIGIENOPOLIS': 6,\n",
       " 'JACARE': 1,\n",
       " 'MARIA DA GRACA': 3,\n",
       " 'DEL CASTILHO': 5,\n",
       " 'INHAUMA': 6,\n",
       " 'ENGENHO DA RAINHA': 6,\n",
       " 'TOMAS COELHO': 5,\n",
       " 'SAO FRANCISCO XAVIER': 3,\n",
       " 'ROCHA': 4,\n",
       " 'RIACHUELO': 1,\n",
       " 'SAMPAIO': 0,\n",
       " 'ENGENHO NOVO': 5,\n",
       " 'LINS DE VASCONCELOS': 4,\n",
       " 'MEIER': 19,\n",
       " 'TODOS OS SANTOS': 10,\n",
       " 'CACHAMBI': 11,\n",
       " 'ENGENHO DE DENTRO': 5,\n",
       " 'AGUA SANTA': 1,\n",
       " 'ENCANTADO': 2,\n",
       " 'PIEDADE': 14,\n",
       " 'ABOLICAO': 4,\n",
       " 'PILARES': 10,\n",
       " 'VILA KOSMOS': 2,\n",
       " 'VICENTE DE CARVALHO': 4,\n",
       " 'VILA DA PENHA': 10,\n",
       " 'VISTA ALEGRE': 0,\n",
       " 'IRAJA': 18,\n",
       " 'COLEGIO': 3,\n",
       " 'CAMPINHO': 6,\n",
       " 'QUINTINO BOCAIUVA': 5,\n",
       " 'CAVALCANTE': 1,\n",
       " 'ENGENHEIRO LEAL': 0,\n",
       " 'CASCADURA': 3,\n",
       " 'MADUREIRA': 10,\n",
       " 'VAZ LOBO': 1,\n",
       " 'TURIACU': 3,\n",
       " 'ROCHA MIRANDA': 12,\n",
       " 'HONORIO GURGEL': 1,\n",
       " 'OSWALDO CRUZ': 11,\n",
       " 'BENTO RIBEIRO': 8,\n",
       " 'MARECHAL HERMES': 6,\n",
       " 'RIBEIRA': 0,\n",
       " 'ZUMBI': 0,\n",
       " 'CACUIA': 1,\n",
       " 'PITANGUEIRAS': 0,\n",
       " 'PRAIA DA BANDEIRA': 2,\n",
       " 'COCOTA': 1,\n",
       " 'BANCARIOS': 3,\n",
       " 'FREGUESIA-ILHA': 3,\n",
       " 'JARDIM GUANABARA': 9,\n",
       " 'JARDIM CARIOCA': 1,\n",
       " 'TAUA': 2,\n",
       " 'MONERO': 2,\n",
       " 'PORTUGUESA': 7,\n",
       " 'GALEAO': 7,\n",
       " 'CIDADE UNIVERSITARIA': 1,\n",
       " 'GUADALUPE': 12,\n",
       " 'ANCHIETA': 11,\n",
       " 'PARQUE ANCHIETA': 3,\n",
       " 'RICARDO ALBUQUERQUE': 7,\n",
       " 'COELHO NETO': 8,\n",
       " 'ACARI': 2,\n",
       " 'BARROS FILHO': 3,\n",
       " 'COSTA BARROS': 2,\n",
       " 'PAVUNA': 8,\n",
       " 'JACAREPAGUA': 34,\n",
       " 'ANIL': 13,\n",
       " 'GARDENIA AZUL': 7,\n",
       " 'CIDADE DE DEUS': 2,\n",
       " 'CURICICA': 7,\n",
       " 'FREGUESIA-JPA': 16,\n",
       " 'PECHINCHA': 13,\n",
       " 'TAQUARA': 25,\n",
       " 'TANQUE': 5,\n",
       " 'PRACA SECA': 7,\n",
       " 'VILA VALQUEIRE': 15,\n",
       " 'JOA': 0,\n",
       " 'ITANHANGA': 7,\n",
       " 'BARRA DA TIJUCA': 77,\n",
       " 'CAMORIM': 3,\n",
       " 'VARGEM PEQUENA': 1,\n",
       " 'VARGEM GRANDE': 3,\n",
       " 'RECREIO DOS BANDEIRANTES': 37,\n",
       " 'GRUMARI': 0,\n",
       " 'DEODORO': 1,\n",
       " 'VILA MILITAR': 1,\n",
       " 'CAMPO DOS AFONSOS': 0,\n",
       " 'JARDIM SULACAP': 5,\n",
       " 'MAGALHAES BASTOS': 6,\n",
       " 'REALENGO': 36,\n",
       " 'PADRE MIGUEL': 8,\n",
       " 'BANGU': 34,\n",
       " 'SENADOR CAMARA': 9,\n",
       " 'SANTISSIMO': 11,\n",
       " 'CAMPO GRANDE': 53,\n",
       " 'SENADOR VASCONCELOS': 7,\n",
       " 'INHOAIBA': 6,\n",
       " 'COSMOS': 15,\n",
       " 'PACIENCIA': 16,\n",
       " 'SANTA CRUZ': 34,\n",
       " 'SEPETIBA': 10,\n",
       " 'GUARATIBA': 11,\n",
       " 'BARRA DE GUARATIBA': 0,\n",
       " 'PEDRA DE GUARATIBA': 2,\n",
       " 'ROCINHA': 14,\n",
       " 'JACAREZINHO': 0,\n",
       " 'COMPLEXO DO ALEMAO': 0,\n",
       " 'MARE': 1,\n",
       " 'VASCO DA GAMA': 0,\n",
       " 'PARQUE COLUMBIA': 2,\n",
       " 'GERICINO': 0,\n",
       " 'LAPA': 0,\n",
       " 'VILA KENNEDY': 0,\n",
       " 'JABOUR': 0}"
      ]
     },
     "execution_count": 65,
     "metadata": {},
     "output_type": "execute_result"
    }
   ],
   "source": [
    "dic_infectados"
   ]
  },
  {
   "cell_type": "code",
   "execution_count": 66,
   "metadata": {},
   "outputs": [
    {
     "data": {
      "text/plain": [
       "1"
      ]
     },
     "execution_count": 66,
     "metadata": {},
     "output_type": "execute_result"
    }
   ],
   "source": [
    "ids['bairros_id']['SAUDE']"
   ]
  },
  {
   "cell_type": "code",
   "execution_count": 67,
   "metadata": {},
   "outputs": [
    {
     "data": {
      "text/plain": [
       "190"
      ]
     },
     "execution_count": 67,
     "metadata": {},
     "output_type": "execute_result"
    }
   ],
   "source": [
    "np.shape(np.where(bairros == 151)[1])[0]"
   ]
  },
  {
   "cell_type": "code",
   "execution_count": 68,
   "metadata": {},
   "outputs": [
    {
     "data": {
      "text/plain": [
       "151.0"
      ]
     },
     "execution_count": 68,
     "metadata": {},
     "output_type": "execute_result"
    }
   ],
   "source": [
    "bairros[21][22]"
   ]
  },
  {
   "cell_type": "code",
   "execution_count": 69,
   "metadata": {},
   "outputs": [],
   "source": [
    "def aloca_estado_bairro(dic_estado, n_indef, mtrx_bairros, ids):\n",
    "    mtrx_estado = np.zeros(np.shape(mtrx_bairros))\n",
    "    for b,qt in dic_estado.items():\n",
    "        id_b = ids[b]\n",
    "        local = np.where(mtrx_bairros == id_b)\n",
    "        n_blocos = np.shape(local)[1]\n",
    "        qt_por_bloco = qt//n_blocos\n",
    "        qt_por_bloco_resto = qt%n_blocos\n",
    "        for i in range(n_blocos):\n",
    "            mtrx_estado[local[0][i],local[1][i]] = qt_por_bloco\n",
    "        if qt_por_bloco_resto > 0:\n",
    "            rng = np.arange(len(local[0]))\n",
    "            escolha = np.random.choice(rng,qt_por_bloco_resto)\n",
    "            for e in escolha:\n",
    "                mtrx_estado[local[0][e],local[1][e]] += 1\n",
    "    if n_indef > 0:\n",
    "        existe_bairro = np.where(mtrx_bairros > 0)\n",
    "        rng = np.arange(len(existe_bairro[0]))\n",
    "        escolha = np.random.choice(rng, n_indef)\n",
    "        for e in escolha:\n",
    "            mtrx_estado[existe_bairro[0][e], existe_bairro[1][e]] += 1\n",
    "    return mtrx_estado"
   ]
  },
  {
   "cell_type": "code",
   "execution_count": 70,
   "metadata": {},
   "outputs": [],
   "source": [
    "infect = aloca_estado_bairro(dic_infectados, n_indef, bairros, ids['bairros_id'])"
   ]
  },
  {
   "cell_type": "code",
   "execution_count": 71,
   "metadata": {},
   "outputs": [
    {
     "data": {
      "text/plain": [
       "array([[0., 0., 0., ..., 0., 0., 0.],\n",
       "       [0., 0., 0., ..., 0., 0., 0.],\n",
       "       [0., 0., 0., ..., 0., 0., 0.],\n",
       "       ...,\n",
       "       [0., 0., 0., ..., 0., 0., 0.],\n",
       "       [0., 0., 0., ..., 0., 0., 0.],\n",
       "       [0., 0., 0., ..., 0., 0., 0.]])"
      ]
     },
     "execution_count": 71,
     "metadata": {},
     "output_type": "execute_result"
    }
   ],
   "source": [
    "infect"
   ]
  },
  {
   "cell_type": "code",
   "execution_count": 72,
   "metadata": {},
   "outputs": [
    {
     "data": {
      "text/plain": [
       "1521.0"
      ]
     },
     "execution_count": 72,
     "metadata": {},
     "output_type": "execute_result"
    }
   ],
   "source": [
    "np.sum(infect)"
   ]
  },
  {
   "cell_type": "code",
   "execution_count": 54,
   "metadata": {},
   "outputs": [
    {
     "data": {
      "text/plain": [
       "12168"
      ]
     },
     "execution_count": 54,
     "metadata": {},
     "output_type": "execute_result"
    }
   ],
   "source": [
    "1521*8"
   ]
  },
  {
   "cell_type": "code",
   "execution_count": 65,
   "metadata": {},
   "outputs": [],
   "source": [
    "ntf_infect = infect*8"
   ]
  },
  {
   "cell_type": "code",
   "execution_count": 66,
   "metadata": {},
   "outputs": [
    {
     "data": {
      "text/plain": [
       "6728.0"
      ]
     },
     "execution_count": 66,
     "metadata": {},
     "output_type": "execute_result"
    }
   ],
   "source": [
    "np.sum(ntf_infect)"
   ]
  },
  {
   "cell_type": "code",
   "execution_count": 67,
   "metadata": {},
   "outputs": [
    {
     "data": {
      "text/plain": [
       "1.0"
      ]
     },
     "execution_count": 67,
     "metadata": {},
     "output_type": "execute_result"
    }
   ],
   "source": [
    "np.sum(infect/np.sum(infect))"
   ]
  },
  {
   "cell_type": "code",
   "execution_count": 73,
   "metadata": {},
   "outputs": [
    {
     "data": {
      "image/png": "[encoded data removed]",
      "text/plain": [
       "<Figure size 1152x432 with 2 Axes>"
      ]
     },
     "metadata": {
      "needs_background": "light"
     },
     "output_type": "display_data"
    }
   ],
   "source": [
    "plt.figure(figsize=(16,6))\n",
    "plt.imshow(infect, interpolation='none', cmap = 'YlOrRd')\n",
    "plt.colorbar()\n",
    "plt.grid(False)\n",
    "plt.show()"
   ]
  },
  {
   "cell_type": "code",
   "execution_count": 74,
   "metadata": {},
   "outputs": [
    {
     "data": {
      "text/plain": [
       "1521.0"
      ]
     },
     "execution_count": 74,
     "metadata": {},
     "output_type": "execute_result"
    }
   ],
   "source": [
    "np.sum(infect)"
   ]
  },
  {
   "cell_type": "code",
   "execution_count": 70,
   "metadata": {},
   "outputs": [
    {
     "data": {
      "image/png": "[encoded data removed]",
      "text/plain": [
       "<Figure size 1152x432 with 2 Axes>"
      ]
     },
     "metadata": {
      "needs_background": "light"
     },
     "output_type": "display_data"
    }
   ],
   "source": [
    "plt.figure(figsize=(16,6))\n",
    "plt.imshow(ntf_infect, interpolation='none', cmap = 'YlOrRd')\n",
    "plt.colorbar()\n",
    "plt.grid(False)\n",
    "plt.show()"
   ]
  },
  {
   "cell_type": "code",
   "execution_count": 75,
   "metadata": {},
   "outputs": [],
   "source": [
    "np.save('infectados_novos',infect)"
   ]
  },
  {
   "cell_type": "code",
   "execution_count": 51,
   "metadata": {},
   "outputs": [],
   "source": [
    "df_rec = df[1][1]"
   ]
  },
  {
   "cell_type": "code",
   "execution_count": 52,
   "metadata": {},
   "outputs": [],
   "source": [
    "dic_rec, n_rec = count_estado_bairro(df_rec, ids['id_bairros'])"
   ]
  },
  {
   "cell_type": "code",
   "execution_count": 53,
   "metadata": {},
   "outputs": [],
   "source": [
    "rec = aloca_estado_bairro(dic_rec, n_rec, bairros, ids['bairros_id'])"
   ]
  },
  {
   "cell_type": "code",
   "execution_count": 54,
   "metadata": {},
   "outputs": [
    {
     "data": {
      "image/png": "[encoded data removed]",
      "text/plain": [
       "<Figure size 1152x432 with 2 Axes>"
      ]
     },
     "metadata": {
      "needs_background": "light"
     },
     "output_type": "display_data"
    }
   ],
   "source": [
    "plt.figure(figsize=(16,6))\n",
    "plt.imshow(rec, interpolation='none', cmap = 'YlOrRd')\n",
    "plt.colorbar()\n",
    "plt.grid(False)\n",
    "plt.show()"
   ]
  },
  {
   "cell_type": "code",
   "execution_count": 55,
   "metadata": {},
   "outputs": [],
   "source": [
    "df_obt = df[1][2]"
   ]
  },
  {
   "cell_type": "code",
   "execution_count": 56,
   "metadata": {},
   "outputs": [],
   "source": [
    "dic_obt, n_ind_obt = count_estado_bairro(df_obt, ids['id_bairros'])"
   ]
  },
  {
   "cell_type": "code",
   "execution_count": 57,
   "metadata": {},
   "outputs": [],
   "source": [
    "obt = aloca_estado_bairro(dic_obt, n_ind_obt, bairros, ids['bairros_id'])"
   ]
  },
  {
   "cell_type": "code",
   "execution_count": 58,
   "metadata": {},
   "outputs": [
    {
     "data": {
      "image/png": "[encoded data removed]",
      "text/plain": [
       "<Figure size 1152x432 with 2 Axes>"
      ]
     },
     "metadata": {
      "needs_background": "light"
     },
     "output_type": "display_data"
    }
   ],
   "source": [
    "plt.figure(figsize=(16,6))\n",
    "plt.imshow(obt, interpolation='none', cmap = 'YlOrRd')\n",
    "plt.colorbar()\n",
    "plt.grid(False)\n",
    "plt.show()"
   ]
  },
  {
   "cell_type": "code",
   "execution_count": 34,
   "metadata": {},
   "outputs": [],
   "source": [
    "lst_bairros = list(set(df_atv['Bairro']))"
   ]
  },
  {
   "cell_type": "code",
   "execution_count": 35,
   "metadata": {},
   "outputs": [],
   "source": [
    "qt = []\n",
    "bair = []\n",
    "dic_novo = {}\n",
    "for b in lst_bairros:\n",
    "    qt.append(len(df_atv[df_atv['Bairro'] == b]))\n",
    "    bair.append(b)\n",
    "    dic_novo[b] = len(df_atv[df_atv['Bairro'] == b])"
   ]
  },
  {
   "cell_type": "code",
   "execution_count": 36,
   "metadata": {},
   "outputs": [
    {
     "data": {
      "text/plain": [
       "{'LINS DE VASCONCELOS': 4,\n",
       " 'LEBLON': 20,\n",
       " 'SEPETIBA': 10,\n",
       " 'CENTRO': 10,\n",
       " 'ANIL': 13,\n",
       " 'CACHAMBI': 11,\n",
       " 'BENFICA': 7,\n",
       " 'PEDRA DE GUARATIBA': 2,\n",
       " 'PENHA': 10,\n",
       " 'DEODORO': 1,\n",
       " 'ITANHANGA': 7,\n",
       " 'ENCANTADO': 2,\n",
       " 'AGUA SANTA': 1,\n",
       " 'VILA KOSMOS': 2,\n",
       " 'MANGUINHOS': 4,\n",
       " 'RECREIO DOS BANDEIRANTES': 37,\n",
       " 'VARGEM PEQUENA': 1,\n",
       " 'LARANJEIRAS': 16,\n",
       " 'CURICICA': 7,\n",
       " 'BOTAFOGO': 30,\n",
       " 'CORDOVIL': 1,\n",
       " 'CAMPINHO': 6,\n",
       " 'FLAMENGO': 28,\n",
       " 'QUINTINO BOCAIUVA': 5,\n",
       " 'TIJUCA': 60,\n",
       " 'INHAUMA': 6,\n",
       " 'TAUA': 2,\n",
       " 'LEME': 1,\n",
       " 'SANTISSIMO': 11,\n",
       " 'PARADA DE LUCAS': 3,\n",
       " 'IRAJA': 18,\n",
       " 'ACARI': 2,\n",
       " 'DEL CASTILHO': 5,\n",
       " 'CIDADE UNIVERSITARIA': 1,\n",
       " 'GALEAO': 7,\n",
       " 'ROCHA MIRANDA': 12,\n",
       " 'RICARDO ALBUQUERQUE': 7,\n",
       " 'TAQUARA': 25,\n",
       " 'JACAREPAGUA': 34,\n",
       " 'SAO CONRADO': 11,\n",
       " 'ABOLICAO': 4,\n",
       " 'PADRE MIGUEL': 8,\n",
       " 'COELHO NETO': 8,\n",
       " 'JARDIM SULACAP': 5,\n",
       " 'VIDIGAL': 2,\n",
       " 'TODOS OS SANTOS': 10,\n",
       " 'CAVALCANTE': 1,\n",
       " 'ALTO DA BOA VISTA': 3,\n",
       " 'SAO FRANCISCO XAVIER': 3,\n",
       " 'VILA MILITAR': 1,\n",
       " 'VILA ISABEL': 13,\n",
       " 'CASCADURA': 3,\n",
       " 'COSMOS': 15,\n",
       " 'IPANEMA': 20,\n",
       " 'MARECHAL HERMES': 6,\n",
       " 'ROCINHA': 14,\n",
       " 'TOMAS COELHO': 5,\n",
       " 'GRAJAU': 11,\n",
       " 'OLARIA': 10,\n",
       " 'PARQUE COLUMBIA': 2,\n",
       " 'VARGEM GRANDE': 3,\n",
       " 'BENTO RIBEIRO': 8,\n",
       " 'URCA': 7,\n",
       " 'SENADOR VASCONCELOS': 7,\n",
       " 'ANDARAI': 10,\n",
       " 'INDEFINIDO': 91,\n",
       " 'HONORIO GURGEL': 1,\n",
       " 'TURIACU': 3,\n",
       " 'COSTA BARROS': 2,\n",
       " 'PRACA SECA': 7,\n",
       " 'MANGUEIRA': 3,\n",
       " 'MADUREIRA': 10,\n",
       " 'VICENTE DE CARVALHO': 4,\n",
       " 'INHOAIBA': 6,\n",
       " 'ANCHIETA': 11,\n",
       " 'MARACANA': 11,\n",
       " 'MARE': 1,\n",
       " 'HIGIENOPOLIS': 6,\n",
       " 'PECHINCHA': 13,\n",
       " 'PACIENCIA': 16,\n",
       " 'CATUMBI': 7,\n",
       " 'VILA DA PENHA': 10,\n",
       " 'COSME VELHO': 4,\n",
       " 'ROCHA': 4,\n",
       " 'MAGALHAES BASTOS': 6,\n",
       " 'TANQUE': 5,\n",
       " 'BANGU': 34,\n",
       " 'SAUDE': 2,\n",
       " 'CACUIA': 1,\n",
       " 'BONSUCESSO': 17,\n",
       " 'CAJU': 1,\n",
       " 'PARQUE ANCHIETA': 3,\n",
       " 'SAO CRISTOVAO': 10,\n",
       " 'ENGENHO NOVO': 5,\n",
       " 'PRACA DA BANDEIRA': 6,\n",
       " 'SENADOR CAMARA': 9,\n",
       " 'CAMPO GRANDE': 53,\n",
       " 'BARRA DA TIJUCA': 77,\n",
       " 'VIGARIO GERAL': 6,\n",
       " 'BANCARIOS': 3,\n",
       " 'JARDIM GUANABARA': 9,\n",
       " 'GAMBOA': 4,\n",
       " 'MONERO': 2,\n",
       " 'GUARATIBA': 11,\n",
       " 'VILA VALQUEIRE': 15,\n",
       " 'FREGUESIA-JPA': 16,\n",
       " 'JACARE': 1,\n",
       " 'RIACHUELO': 1,\n",
       " 'PIEDADE': 14,\n",
       " 'FREGUESIA-ILHA': 3,\n",
       " 'PENHA CIRCULAR': 10,\n",
       " 'SANTA TERESA': 4,\n",
       " 'COCOTA': 1,\n",
       " 'ENGENHO DE DENTRO': 5,\n",
       " 'HUMAITA': 3,\n",
       " 'JARDIM CARIOCA': 1,\n",
       " 'SANTA CRUZ': 34,\n",
       " 'VAZ LOBO': 1,\n",
       " 'PRAIA DA BANDEIRA': 2,\n",
       " 'MEIER': 19,\n",
       " 'RAMOS': 14,\n",
       " 'CAMORIM': 3,\n",
       " 'CATETE': 12,\n",
       " 'COLEGIO': 3,\n",
       " 'PAVUNA': 8,\n",
       " 'GARDENIA AZUL': 7,\n",
       " 'REALENGO': 36,\n",
       " 'RIO COMPRIDO': 8,\n",
       " 'BRAS DE PINA': 13,\n",
       " 'JARDIM BOTANICO': 5,\n",
       " 'PILARES': 10,\n",
       " 'FORA DO MUNICÍPIO': 21,\n",
       " 'COPACABANA': 58,\n",
       " 'GLORIA': 3,\n",
       " 'LAGOA': 10,\n",
       " 'OSWALDO CRUZ': 11,\n",
       " 'JARDIM AMERICA': 3,\n",
       " 'MARIA DA GRACA': 3,\n",
       " 'BARROS FILHO': 3,\n",
       " 'GAVEA': 53,\n",
       " 'CIDADE DE DEUS': 2,\n",
       " 'PORTUGUESA': 7,\n",
       " 'GUADALUPE': 12,\n",
       " 'ESTACIO': 8,\n",
       " 'ENGENHO DA RAINHA': 6}"
      ]
     },
     "execution_count": 36,
     "metadata": {},
     "output_type": "execute_result"
    }
   ],
   "source": [
    "dic_novo"
   ]
  },
  {
   "cell_type": "code",
   "execution_count": 37,
   "metadata": {},
   "outputs": [
    {
     "data": {
      "text/plain": [
       "1430"
      ]
     },
     "execution_count": 37,
     "metadata": {},
     "output_type": "execute_result"
    }
   ],
   "source": [
    "np.sum([v for i,v in dic_infectados.items()])"
   ]
  },
  {
   "cell_type": "code",
   "execution_count": 38,
   "metadata": {},
   "outputs": [
    {
     "data": {
      "text/plain": [
       "1542"
      ]
     },
     "execution_count": 38,
     "metadata": {},
     "output_type": "execute_result"
    }
   ],
   "source": [
    "np.sum([v for i,v in dic_novo.items()])"
   ]
  },
  {
   "cell_type": "code",
   "execution_count": 39,
   "metadata": {},
   "outputs": [
    {
     "data": {
      "text/plain": [
       "1542"
      ]
     },
     "execution_count": 39,
     "metadata": {},
     "output_type": "execute_result"
    }
   ],
   "source": [
    "np.sum(qt)"
   ]
  },
  {
   "cell_type": "code",
   "execution_count": 40,
   "metadata": {},
   "outputs": [
    {
     "data": {
      "text/plain": [
       "1430"
      ]
     },
     "execution_count": 40,
     "metadata": {},
     "output_type": "execute_result"
    }
   ],
   "source": [
    "np.sum([v for i,v in dic_infectados.items()])"
   ]
  },
  {
   "cell_type": "code",
   "execution_count": 41,
   "metadata": {},
   "outputs": [],
   "source": [
    "n = [0]\n",
    "for i in range(1,164):\n",
    "    n.append(len(df_atv[df_atv['Bairro'] == ids['id_bairros'][i]]))"
   ]
  },
  {
   "cell_type": "code",
   "execution_count": 42,
   "metadata": {},
   "outputs": [],
   "source": [
    "bool_bair = [v not in ids['bairros_id'] for v in lst_bairros]"
   ]
  },
  {
   "cell_type": "code",
   "execution_count": 43,
   "metadata": {},
   "outputs": [],
   "source": [
    "rng_b = np.arange(len(bool_bair))"
   ]
  },
  {
   "cell_type": "code",
   "execution_count": 44,
   "metadata": {},
   "outputs": [
    {
     "data": {
      "text/plain": [
       "array([ 65, 131])"
      ]
     },
     "execution_count": 44,
     "metadata": {},
     "output_type": "execute_result"
    }
   ],
   "source": [
    "rng_b[bool_bair]"
   ]
  },
  {
   "cell_type": "code",
   "execution_count": 45,
   "metadata": {},
   "outputs": [
    {
     "data": {
      "text/plain": [
       "'TIJUCA'"
      ]
     },
     "execution_count": 45,
     "metadata": {},
     "output_type": "execute_result"
    }
   ],
   "source": [
    "lst_bairros[24]"
   ]
  },
  {
   "cell_type": "code",
   "execution_count": 57,
   "metadata": {},
   "outputs": [
    {
     "data": {
      "text/plain": [
       "91"
      ]
     },
     "execution_count": 57,
     "metadata": {},
     "output_type": "execute_result"
    }
   ],
   "source": [
    "n_indef"
   ]
  },
  {
   "cell_type": "code",
   "execution_count": 59,
   "metadata": {},
   "outputs": [],
   "source": [
    "infectados = np.zeros((39,83))"
   ]
  },
  {
   "cell_type": "code",
   "execution_count": 60,
   "metadata": {},
   "outputs": [],
   "source": [
    "existe_bairro = np.where(bairros > 0)\n",
    "rng = np.arange(len(existe_bairro[0]))\n",
    "escolha = np.random.choice(rng, n_indef)\n",
    "for e in escolha:\n",
    "    infectados[existe_bairro[0][e], existe_bairro[1][e]]"
   ]
  },
  {
   "cell_type": "code",
   "execution_count": 67,
   "metadata": {},
   "outputs": [
    {
     "name": "stdout",
     "output_type": "stream",
     "text": [
      "21 49\n",
      "14 50\n",
      "33 28\n",
      "23 68\n",
      "17 28\n",
      "32 32\n",
      "25 58\n",
      "4 68\n",
      "10 56\n",
      "11 42\n",
      "26 65\n",
      "31 29\n",
      "25 11\n",
      "30 40\n",
      "25 76\n",
      "16 58\n",
      "15 43\n",
      "22 39\n",
      "32 38\n",
      "21 46\n",
      "17 61\n",
      "25 20\n",
      "29 54\n",
      "23 9\n",
      "10 53\n",
      "30 32\n",
      "16 4\n",
      "31 27\n",
      "28 26\n",
      "18 14\n",
      "24 69\n",
      "23 66\n",
      "7 55\n",
      "14 37\n",
      "15 66\n",
      "14 39\n",
      "13 39\n",
      "19 20\n",
      "29 60\n",
      "14 39\n",
      "27 21\n",
      "14 30\n",
      "28 41\n",
      "31 35\n",
      "21 29\n",
      "26 71\n",
      "21 61\n",
      "7 63\n",
      "18 52\n",
      "30 41\n",
      "14 42\n",
      "16 4\n",
      "8 46\n",
      "9 56\n",
      "19 61\n",
      "10 36\n",
      "8 64\n",
      "12 24\n",
      "10 51\n",
      "25 21\n",
      "10 35\n",
      "31 32\n",
      "30 33\n",
      "10 54\n",
      "29 59\n",
      "15 35\n",
      "20 8\n",
      "14 28\n",
      "25 60\n",
      "15 58\n",
      "24 69\n",
      "12 42\n",
      "12 45\n",
      "11 34\n",
      "21 52\n",
      "14 10\n",
      "22 38\n",
      "17 37\n",
      "16 57\n",
      "23 44\n",
      "16 66\n",
      "19 57\n",
      "16 17\n",
      "30 36\n",
      "21 23\n",
      "19 33\n",
      "27 54\n",
      "19 12\n",
      "18 33\n",
      "24 55\n",
      "18 10\n"
     ]
    }
   ],
   "source": [
    "existe_bairro[0][1]"
   ]
  },
  {
   "cell_type": "code",
   "execution_count": 68,
   "metadata": {},
   "outputs": [
    {
     "data": {
      "text/plain": [
       "0.0"
      ]
     },
     "execution_count": 68,
     "metadata": {},
     "output_type": "execute_result"
    }
   ],
   "source": [
    "infectados[18,10]"
   ]
  },
  {
   "cell_type": "code",
   "execution_count": 63,
   "metadata": {
    "scrolled": true
   },
   "outputs": [
    {
     "data": {
      "text/plain": [
       "array([ 834,  344, 1432,  989,  521, 1413, 1110,    2,  147,  174, 1181,\n",
       "       1388, 1063, 1361, 1126,  483,  401,  893, 1419,  831,  554, 1072,\n",
       "       1333,  930,  144, 1353,  429, 1386, 1255,  579, 1056,  987,   41,\n",
       "        331,  424,  333,  273,  660, 1339,  333, 1194,  324, 1270, 1394,\n",
       "        814, 1187,  846,   48,  617, 1362,  336,  429,   64,  109,  701,\n",
       "        131,   81,  202,  142, 1073,  130, 1391, 1354,  145, 1338,  393,\n",
       "        721,  322, 1112,  416, 1056,  220,  223,  166,  837,  304,  892,\n",
       "        530,  482,  965,  491,  697,  442, 1357,  808,  673, 1227,  652,\n",
       "        598, 1042,  575])"
      ]
     },
     "execution_count": 63,
     "metadata": {},
     "output_type": "execute_result"
    }
   ],
   "source": [
    "escolha"
   ]
  },
  {
   "cell_type": "code",
   "execution_count": 62,
   "metadata": {},
   "outputs": [
    {
     "data": {
      "text/plain": [
       "0.0"
      ]
     },
     "execution_count": 62,
     "metadata": {},
     "output_type": "execute_result"
    }
   ],
   "source": [
    "np.max(infectados)"
   ]
  },
  {
   "cell_type": "code",
   "execution_count": null,
   "metadata": {},
   "outputs": [],
   "source": []
  }
 ],
 "metadata": {
  "kernelspec": {
   "display_name": "Python ModCovid",
   "language": "python",
   "name": "covid"
  },
  "language_info": {
   "codemirror_mode": {
    "name": "ipython",
    "version": 3
   },
   "file_extension": ".py",
   "mimetype": "text/x-python",
   "name": "python",
   "nbconvert_exporter": "python",
   "pygments_lexer": "ipython3",
   "version": "3.8.3"
  }
 },
 "nbformat": 4,
 "nbformat_minor": 4
}
