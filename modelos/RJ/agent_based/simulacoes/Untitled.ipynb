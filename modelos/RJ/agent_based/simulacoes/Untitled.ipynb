{
 "cells": [
  {
   "cell_type": "code",
   "execution_count": 1,
   "metadata": {},
   "outputs": [],
   "source": [
    "import sys, os\n",
    "import numpy as np\n",
    "import matplotlib.pyplot as plt\n",
    "from scipy.integrate import solve_ivp"
   ]
  },
  {
   "cell_type": "code",
   "execution_count": 2,
   "metadata": {},
   "outputs": [],
   "source": [
    "sys.path.insert(0, os.path.abspath(os.path.join(os.getcwd(), '../')))\n",
    "from episiming.compartimentais import F\n",
    "import episiming"
   ]
  },
  {
   "cell_type": "code",
   "execution_count": 3,
   "metadata": {},
   "outputs": [],
   "source": [
    "dt = 1 # passo de tempo\n",
    "t_0 = 0 # instante initial\n",
    "num_dt = 80 # número de passos\n",
    "dados_temporais = [t_0, dt, num_dt] # instantes de tempo\n",
    "xs = np.arange(t_0, num_dt, dt)"
   ]
  },
  {
   "cell_type": "code",
   "execution_count": 4,
   "metadata": {},
   "outputs": [],
   "source": [
    "num_infectados_0_base = 20 # número inicial de infectados\n",
    "beta_r_base = 0.5 # taxa de contágio nas residências\n",
    "beta_esc_base = 0.4 # taxa de contágio nas escolas\n",
    "beta_emp_base = 0.2 # taxa de contágio no trabalho\n",
    "beta_c_base = 0.2 # taxa de contágio na comunidade\n",
    "gamma_base = 0.1 # inverso do tempo de recuperação\n",
    "\n",
    "num_infectados_0 = num_infectados_0_base\n",
    "beta_r = beta_r_base\n",
    "beta_esc = beta_esc_base\n",
    "beta_emp = beta_emp_base\n",
    "beta_c = beta_c_base\n",
    "gamma = gamma_base"
   ]
  },
  {
   "cell_type": "code",
   "execution_count": 5,
   "metadata": {},
   "outputs": [
    {
     "name": "stdout",
     "output_type": "stream",
     "text": [
      "População do cenário reduzido: 6333\n",
      "\n",
      "Wall time: 2.75 s\n"
     ]
    }
   ],
   "source": [
    "%%time\n",
    "tx_reducao = 1000\n",
    "cenario_rio = episiming.cenarios.RiodeJaneiro(tx_reducao)\n",
    "print(f'População do cenário reduzido: {cenario_rio.num_pop}\\n')"
   ]
  },
  {
   "cell_type": "code",
   "execution_count": 6,
   "metadata": {},
   "outputs": [
    {
     "name": "stdout",
     "output_type": "stream",
     "text": [
      "Wall time: 2.59 s\n"
     ]
    }
   ],
   "source": [
    "%%time\n",
    "cenario_rio.inicializa_infeccao(num_infectados_0, beta_r, beta_esc, beta_emp, beta_c,\n",
    "                                gamma)"
   ]
  },
  {
   "cell_type": "code",
   "execution_count": 7,
   "metadata": {},
   "outputs": [
    {
     "data": {
      "text/plain": [
       "<function episiming.compartimentais.F(t, v, beta, theta, p, lamb, sigma, rho, epsA, gammaA, epsI, gammaI, deathI, gammaD, deathD)>"
      ]
     },
     "execution_count": 7,
     "metadata": {},
     "output_type": "execute_result"
    }
   ],
   "source": [
    "F"
   ]
  },
  {
   "cell_type": "code",
   "execution_count": null,
   "metadata": {},
   "outputs": [],
   "source": []
  },
  {
   "cell_type": "code",
   "execution_count": 8,
   "metadata": {},
   "outputs": [],
   "source": [
    "CI = np.array([3013953.6616344056, 3695396.65, 6474.0, 516.1376731188255, 2064.550692475302, 48.2, 433.8, 0.0, 4579.0, 49.8, 448.2, 16.0])\n",
    "CI /= tx_reducao\n",
    "pars1 = [1e-07 * tx_reducao, 0.1, 2/27, 2/33, 1/7, 0.8, 0.00203265306122449, 0.0996, 0.01915, 0.0766, 0.0013612589833390692, 0.0843, 0.000890053950644776]\n",
    "pars2 = [9e-08 * tx_reducao, 0.1, 2/27, 2/33, 1/7, 0.8, 0.001626122448979592, 0.0996, 0.01149, 0.0766, 0.0013612589833390692, 0.0843, 0.000890053950644776]"
   ]
  },
  {
   "cell_type": "code",
   "execution_count": 9,
   "metadata": {},
   "outputs": [],
   "source": [
    "X = solve_ivp(F, t_span=[t_0, num_dt], y0 = CI, t_eval=xs, args= pars1)\n",
    "sol = X.y[:-4]\n",
    "compartimentos = ['suscetiveis', 'quarentena', 'expostos', 'assintomaticos', 'infectados', 'diag assint', 'diag inf', 'recuperados']"
   ]
  },
  {
   "cell_type": "code",
   "execution_count": 10,
   "metadata": {},
   "outputs": [
    {
     "data": {
      "text/plain": [
       "(8, 80)"
      ]
     },
     "execution_count": 10,
     "metadata": {},
     "output_type": "execute_result"
    }
   ],
   "source": [
    "np.shape(sol)"
   ]
  },
  {
   "cell_type": "code",
   "execution_count": 11,
   "metadata": {},
   "outputs": [
    {
     "data": {
      "text/plain": [
       "array([3.01395366e+03, 3.69539665e+03, 6.47400000e+00, 5.16137673e-01,\n",
       "       2.06455069e+00, 4.82000000e-02, 4.33800000e-01, 0.00000000e+00,\n",
       "       4.57900000e+00, 4.98000000e-02, 4.48200000e-01, 1.60000000e-02])"
      ]
     },
     "execution_count": 11,
     "metadata": {},
     "output_type": "execute_result"
    }
   ],
   "source": [
    "CI"
   ]
  },
  {
   "cell_type": "code",
   "execution_count": 12,
   "metadata": {},
   "outputs": [
    {
     "data": {
      "image/png": "[encoded data removed]",
      "text/plain": [
       "<Figure size 432x288 with 1 Axes>"
      ]
     },
     "metadata": {},
     "output_type": "display_data"
    }
   ],
   "source": [
    "for i, y in enumerate(sol):\n",
    "    plt.plot(xs, y, label=compartimentos[i])\n",
    "plt.legend()\n",
    "plt.show()"
   ]
  },
  {
   "cell_type": "code",
   "execution_count": 13,
   "metadata": {},
   "outputs": [
    {
     "ename": "TypingError",
     "evalue": "Failed in nopython mode pipeline (step: nopython frontend)\n\u001b[1m\u001b[1m\u001b[1mInvalid use of Function(<function impl_append at 0x0000014D5E2C6400>) with argument(s) of type(s): (ListType[ListType[UniTuple(int64 x 2)]], ListType[Tuple(int64, int32)])\n * parameterized\n\u001b[1mIn definition 0:\u001b[0m\n\u001b[1m    LoweringError: Failed in nopython mode pipeline (step: nopython mode backend)\n\u001b[1m\u001b[1mCannot cast ListType[Tuple(int64, int32)] to ListType[UniTuple(int64 x 2)]: %\".24\" = load {i8*, i8*}, {i8*, i8*}* %\"item\"\n\u001b[1m\nFile \"F:\\Anaconda\\lib\\site-packages\\numba\\listobject.py\", line 487:\u001b[0m\n\u001b[1m    def impl(l, item):\n\u001b[1m        casteditem = _cast(item, itemty)\n\u001b[0m        \u001b[1m^\u001b[0m\u001b[0m\n\u001b[0m\n\u001b[0m\u001b[1m[1] During: lowering \"$8call_function.3 = call $2load_global.0(item, $6load_deref.2, func=$2load_global.0, args=[Var(item, listobject.py:487), Var($6load_deref.2, listobject.py:487)], kws=(), vararg=None)\" at F:\\Anaconda\\lib\\site-packages\\numba\\listobject.py (487)\u001b[0m\u001b[0m\n    raised from F:\\Anaconda\\lib\\site-packages\\numba\\six.py:669\n\u001b[1mIn definition 1:\u001b[0m\n\u001b[1m    LoweringError: Failed in nopython mode pipeline (step: nopython mode backend)\n\u001b[1m\u001b[1mCannot cast ListType[Tuple(int64, int32)] to ListType[UniTuple(int64 x 2)]: %\".24\" = load {i8*, i8*}, {i8*, i8*}* %\"item\"\n\u001b[1m\nFile \"F:\\Anaconda\\lib\\site-packages\\numba\\listobject.py\", line 487:\u001b[0m\n\u001b[1m    def impl(l, item):\n\u001b[1m        casteditem = _cast(item, itemty)\n\u001b[0m        \u001b[1m^\u001b[0m\u001b[0m\n\u001b[0m\n\u001b[0m\u001b[1m[1] During: lowering \"$8call_function.3 = call $2load_global.0(item, $6load_deref.2, func=$2load_global.0, args=[Var(item, listobject.py:487), Var($6load_deref.2, listobject.py:487)], kws=(), vararg=None)\" at F:\\Anaconda\\lib\\site-packages\\numba\\listobject.py (487)\u001b[0m\u001b[0m\n    raised from F:\\Anaconda\\lib\\site-packages\\numba\\six.py:669\n\u001b[1mThis error is usually caused by passing an argument of a type that is unsupported by the named function.\u001b[0m\u001b[0m\n\u001b[0m\u001b[1m[1] During: resolving callee type: BoundFunction((<class 'numba.types.containers.ListType'>, 'append') for ListType[ListType[UniTuple(int64 x 2)]])\u001b[0m\n\u001b[0m\u001b[1m[2] During: typing of call at F:\\Anaconda\\lib\\site-packages\\numba\\typed\\typedlist.py (47)\n\u001b[0m\n\u001b[1m\nFile \"F:\\Anaconda\\lib\\site-packages\\numba\\typed\\typedlist.py\", line 47:\u001b[0m\n\u001b[1mdef _append(l, item):\n\u001b[1m    l.append(item)\n\u001b[0m    \u001b[1m^\u001b[0m\u001b[0m\n",
     "output_type": "error",
     "traceback": [
      "\u001b[1;31m---------------------------------------------------------------------------\u001b[0m",
      "\u001b[1;31mTypingError\u001b[0m                               Traceback (most recent call last)",
      "\u001b[1;32m<ipython-input-13-6029fa87fcf2>\u001b[0m in \u001b[0;36m<module>\u001b[1;34m\u001b[0m\n\u001b[0;32m      1\u001b[0m \u001b[0mnum_sim\u001b[0m \u001b[1;33m=\u001b[0m \u001b[1;36m5\u001b[0m \u001b[1;31m# número de simulações\u001b[0m\u001b[1;33m\u001b[0m\u001b[1;33m\u001b[0m\u001b[0m\n\u001b[1;32m----> 2\u001b[1;33m \u001b[0mX\u001b[0m \u001b[1;33m=\u001b[0m \u001b[0mcenario_rio\u001b[0m\u001b[1;33m.\u001b[0m\u001b[0mevolui_jit\u001b[0m\u001b[1;33m(\u001b[0m\u001b[0mdados_temporais\u001b[0m\u001b[1;33m,\u001b[0m \u001b[0mnum_sim\u001b[0m\u001b[1;33m,\u001b[0m \u001b[0mshow\u001b[0m\u001b[1;33m=\u001b[0m\u001b[1;34m'sd'\u001b[0m\u001b[1;33m)\u001b[0m\u001b[1;33m\u001b[0m\u001b[1;33m\u001b[0m\u001b[0m\n\u001b[0m",
      "\u001b[1;32m~\\Documents\\GitHub\\covid19\\modelos\\RJ\\agent_based\\episiming\\cenarios.py\u001b[0m in \u001b[0;36mevolui_jit\u001b[1;34m(self, dados_temporais, num_sim, show)\u001b[0m\n\u001b[0;32m    556\u001b[0m                 \u001b[0mdados_temporais\u001b[0m\u001b[1;33m,\u001b[0m\u001b[1;33m\u001b[0m\u001b[1;33m\u001b[0m\u001b[0m\n\u001b[0;32m    557\u001b[0m                 \u001b[0mnum_sim\u001b[0m\u001b[1;33m,\u001b[0m\u001b[1;33m\u001b[0m\u001b[1;33m\u001b[0m\u001b[0m\n\u001b[1;32m--> 558\u001b[1;33m                 \u001b[0mshow\u001b[0m\u001b[1;33m\u001b[0m\u001b[1;33m\u001b[0m\u001b[0m\n\u001b[0m\u001b[0;32m    559\u001b[0m             )\n\u001b[0;32m    560\u001b[0m         \u001b[1;32mreturn\u001b[0m \u001b[0mX\u001b[0m\u001b[1;33m\u001b[0m\u001b[1;33m\u001b[0m\u001b[0m\n",
      "\u001b[1;32m~\\Documents\\GitHub\\covid19\\modelos\\RJ\\agent_based\\episiming\\individuais.py\u001b[0m in \u001b[0;36mevolucao_vetorial_jit\u001b[1;34m(pop_estado_0, pop_posicoes, redes, redes_tx_transmissao, pop_fator_tx_transmissao_c, gamma, f_kernel, dados_temporais, num_sim, show)\u001b[0m\n\u001b[0;32m    485\u001b[0m         \u001b[1;32mfor\u001b[0m \u001b[0mc\u001b[0m \u001b[1;32min\u001b[0m \u001b[0mconexoes_aux\u001b[0m\u001b[1;33m:\u001b[0m\u001b[1;33m\u001b[0m\u001b[1;33m\u001b[0m\u001b[0m\n\u001b[0;32m    486\u001b[0m             \u001b[0mtyped_conexoes\u001b[0m\u001b[1;33m.\u001b[0m\u001b[0mappend\u001b[0m\u001b[1;33m(\u001b[0m\u001b[0mc\u001b[0m\u001b[1;33m)\u001b[0m\u001b[1;33m\u001b[0m\u001b[1;33m\u001b[0m\u001b[0m\n\u001b[1;32m--> 487\u001b[1;33m         \u001b[0mconexoes\u001b[0m\u001b[1;33m.\u001b[0m\u001b[0mappend\u001b[0m\u001b[1;33m(\u001b[0m\u001b[0mtyped_conexoes\u001b[0m\u001b[1;33m)\u001b[0m\u001b[1;33m\u001b[0m\u001b[1;33m\u001b[0m\u001b[0m\n\u001b[0m\u001b[0;32m    488\u001b[0m \u001b[1;33m\u001b[0m\u001b[0m\n\u001b[0;32m    489\u001b[0m     \u001b[0mtx_transmissao\u001b[0m \u001b[1;33m=\u001b[0m \u001b[0mList\u001b[0m\u001b[1;33m(\u001b[0m\u001b[1;33m)\u001b[0m\u001b[1;33m\u001b[0m\u001b[1;33m\u001b[0m\u001b[0m\n",
      "\u001b[1;32mF:\\Anaconda\\lib\\site-packages\\numba\\typed\\typedlist.py\u001b[0m in \u001b[0;36mappend\u001b[1;34m(self, item)\u001b[0m\n\u001b[0;32m    258\u001b[0m         \u001b[1;32mif\u001b[0m \u001b[1;32mnot\u001b[0m \u001b[0mself\u001b[0m\u001b[1;33m.\u001b[0m\u001b[0m_typed\u001b[0m\u001b[1;33m:\u001b[0m\u001b[1;33m\u001b[0m\u001b[1;33m\u001b[0m\u001b[0m\n\u001b[0;32m    259\u001b[0m             \u001b[0mself\u001b[0m\u001b[1;33m.\u001b[0m\u001b[0m_initialise_list\u001b[0m\u001b[1;33m(\u001b[0m\u001b[0mitem\u001b[0m\u001b[1;33m)\u001b[0m\u001b[1;33m\u001b[0m\u001b[1;33m\u001b[0m\u001b[0m\n\u001b[1;32m--> 260\u001b[1;33m         \u001b[0m_append\u001b[0m\u001b[1;33m(\u001b[0m\u001b[0mself\u001b[0m\u001b[1;33m,\u001b[0m \u001b[0mitem\u001b[0m\u001b[1;33m)\u001b[0m\u001b[1;33m\u001b[0m\u001b[1;33m\u001b[0m\u001b[0m\n\u001b[0m\u001b[0;32m    261\u001b[0m \u001b[1;33m\u001b[0m\u001b[0m\n\u001b[0;32m    262\u001b[0m     \u001b[1;32mdef\u001b[0m \u001b[0m__setitem__\u001b[0m\u001b[1;33m(\u001b[0m\u001b[0mself\u001b[0m\u001b[1;33m,\u001b[0m \u001b[0mi\u001b[0m\u001b[1;33m,\u001b[0m \u001b[0mitem\u001b[0m\u001b[1;33m)\u001b[0m\u001b[1;33m:\u001b[0m\u001b[1;33m\u001b[0m\u001b[1;33m\u001b[0m\u001b[0m\n",
      "\u001b[1;32mF:\\Anaconda\\lib\\site-packages\\numba\\dispatcher.py\u001b[0m in \u001b[0;36m_compile_for_args\u001b[1;34m(self, *args, **kws)\u001b[0m\n\u001b[0;32m    399\u001b[0m                 \u001b[0me\u001b[0m\u001b[1;33m.\u001b[0m\u001b[0mpatch_message\u001b[0m\u001b[1;33m(\u001b[0m\u001b[0mmsg\u001b[0m\u001b[1;33m)\u001b[0m\u001b[1;33m\u001b[0m\u001b[1;33m\u001b[0m\u001b[0m\n\u001b[0;32m    400\u001b[0m \u001b[1;33m\u001b[0m\u001b[0m\n\u001b[1;32m--> 401\u001b[1;33m             \u001b[0merror_rewrite\u001b[0m\u001b[1;33m(\u001b[0m\u001b[0me\u001b[0m\u001b[1;33m,\u001b[0m \u001b[1;34m'typing'\u001b[0m\u001b[1;33m)\u001b[0m\u001b[1;33m\u001b[0m\u001b[1;33m\u001b[0m\u001b[0m\n\u001b[0m\u001b[0;32m    402\u001b[0m         \u001b[1;32mexcept\u001b[0m \u001b[0merrors\u001b[0m\u001b[1;33m.\u001b[0m\u001b[0mUnsupportedError\u001b[0m \u001b[1;32mas\u001b[0m \u001b[0me\u001b[0m\u001b[1;33m:\u001b[0m\u001b[1;33m\u001b[0m\u001b[1;33m\u001b[0m\u001b[0m\n\u001b[0;32m    403\u001b[0m             \u001b[1;31m# Something unsupported is present in the user code, add help info\u001b[0m\u001b[1;33m\u001b[0m\u001b[1;33m\u001b[0m\u001b[1;33m\u001b[0m\u001b[0m\n",
      "\u001b[1;32mF:\\Anaconda\\lib\\site-packages\\numba\\dispatcher.py\u001b[0m in \u001b[0;36merror_rewrite\u001b[1;34m(e, issue_type)\u001b[0m\n\u001b[0;32m    342\u001b[0m                 \u001b[1;32mraise\u001b[0m \u001b[0me\u001b[0m\u001b[1;33m\u001b[0m\u001b[1;33m\u001b[0m\u001b[0m\n\u001b[0;32m    343\u001b[0m             \u001b[1;32melse\u001b[0m\u001b[1;33m:\u001b[0m\u001b[1;33m\u001b[0m\u001b[1;33m\u001b[0m\u001b[0m\n\u001b[1;32m--> 344\u001b[1;33m                 \u001b[0mreraise\u001b[0m\u001b[1;33m(\u001b[0m\u001b[0mtype\u001b[0m\u001b[1;33m(\u001b[0m\u001b[0me\u001b[0m\u001b[1;33m)\u001b[0m\u001b[1;33m,\u001b[0m \u001b[0me\u001b[0m\u001b[1;33m,\u001b[0m \u001b[1;32mNone\u001b[0m\u001b[1;33m)\u001b[0m\u001b[1;33m\u001b[0m\u001b[1;33m\u001b[0m\u001b[0m\n\u001b[0m\u001b[0;32m    345\u001b[0m \u001b[1;33m\u001b[0m\u001b[0m\n\u001b[0;32m    346\u001b[0m         \u001b[0margtypes\u001b[0m \u001b[1;33m=\u001b[0m \u001b[1;33m[\u001b[0m\u001b[1;33m]\u001b[0m\u001b[1;33m\u001b[0m\u001b[1;33m\u001b[0m\u001b[0m\n",
      "\u001b[1;32mF:\\Anaconda\\lib\\site-packages\\numba\\six.py\u001b[0m in \u001b[0;36mreraise\u001b[1;34m(tp, value, tb)\u001b[0m\n\u001b[0;32m    666\u001b[0m             \u001b[0mvalue\u001b[0m \u001b[1;33m=\u001b[0m \u001b[0mtp\u001b[0m\u001b[1;33m(\u001b[0m\u001b[1;33m)\u001b[0m\u001b[1;33m\u001b[0m\u001b[1;33m\u001b[0m\u001b[0m\n\u001b[0;32m    667\u001b[0m         \u001b[1;32mif\u001b[0m \u001b[0mvalue\u001b[0m\u001b[1;33m.\u001b[0m\u001b[0m__traceback__\u001b[0m \u001b[1;32mis\u001b[0m \u001b[1;32mnot\u001b[0m \u001b[0mtb\u001b[0m\u001b[1;33m:\u001b[0m\u001b[1;33m\u001b[0m\u001b[1;33m\u001b[0m\u001b[0m\n\u001b[1;32m--> 668\u001b[1;33m             \u001b[1;32mraise\u001b[0m \u001b[0mvalue\u001b[0m\u001b[1;33m.\u001b[0m\u001b[0mwith_traceback\u001b[0m\u001b[1;33m(\u001b[0m\u001b[0mtb\u001b[0m\u001b[1;33m)\u001b[0m\u001b[1;33m\u001b[0m\u001b[1;33m\u001b[0m\u001b[0m\n\u001b[0m\u001b[0;32m    669\u001b[0m         \u001b[1;32mraise\u001b[0m \u001b[0mvalue\u001b[0m\u001b[1;33m\u001b[0m\u001b[1;33m\u001b[0m\u001b[0m\n\u001b[0;32m    670\u001b[0m \u001b[1;33m\u001b[0m\u001b[0m\n",
      "\u001b[1;31mTypingError\u001b[0m: Failed in nopython mode pipeline (step: nopython frontend)\n\u001b[1m\u001b[1m\u001b[1mInvalid use of Function(<function impl_append at 0x0000014D5E2C6400>) with argument(s) of type(s): (ListType[ListType[UniTuple(int64 x 2)]], ListType[Tuple(int64, int32)])\n * parameterized\n\u001b[1mIn definition 0:\u001b[0m\n\u001b[1m    LoweringError: Failed in nopython mode pipeline (step: nopython mode backend)\n\u001b[1m\u001b[1mCannot cast ListType[Tuple(int64, int32)] to ListType[UniTuple(int64 x 2)]: %\".24\" = load {i8*, i8*}, {i8*, i8*}* %\"item\"\n\u001b[1m\nFile \"F:\\Anaconda\\lib\\site-packages\\numba\\listobject.py\", line 487:\u001b[0m\n\u001b[1m    def impl(l, item):\n\u001b[1m        casteditem = _cast(item, itemty)\n\u001b[0m        \u001b[1m^\u001b[0m\u001b[0m\n\u001b[0m\n\u001b[0m\u001b[1m[1] During: lowering \"$8call_function.3 = call $2load_global.0(item, $6load_deref.2, func=$2load_global.0, args=[Var(item, listobject.py:487), Var($6load_deref.2, listobject.py:487)], kws=(), vararg=None)\" at F:\\Anaconda\\lib\\site-packages\\numba\\listobject.py (487)\u001b[0m\u001b[0m\n    raised from F:\\Anaconda\\lib\\site-packages\\numba\\six.py:669\n\u001b[1mIn definition 1:\u001b[0m\n\u001b[1m    LoweringError: Failed in nopython mode pipeline (step: nopython mode backend)\n\u001b[1m\u001b[1mCannot cast ListType[Tuple(int64, int32)] to ListType[UniTuple(int64 x 2)]: %\".24\" = load {i8*, i8*}, {i8*, i8*}* %\"item\"\n\u001b[1m\nFile \"F:\\Anaconda\\lib\\site-packages\\numba\\listobject.py\", line 487:\u001b[0m\n\u001b[1m    def impl(l, item):\n\u001b[1m        casteditem = _cast(item, itemty)\n\u001b[0m        \u001b[1m^\u001b[0m\u001b[0m\n\u001b[0m\n\u001b[0m\u001b[1m[1] During: lowering \"$8call_function.3 = call $2load_global.0(item, $6load_deref.2, func=$2load_global.0, args=[Var(item, listobject.py:487), Var($6load_deref.2, listobject.py:487)], kws=(), vararg=None)\" at F:\\Anaconda\\lib\\site-packages\\numba\\listobject.py (487)\u001b[0m\u001b[0m\n    raised from F:\\Anaconda\\lib\\site-packages\\numba\\six.py:669\n\u001b[1mThis error is usually caused by passing an argument of a type that is unsupported by the named function.\u001b[0m\u001b[0m\n\u001b[0m\u001b[1m[1] During: resolving callee type: BoundFunction((<class 'numba.types.containers.ListType'>, 'append') for ListType[ListType[UniTuple(int64 x 2)]])\u001b[0m\n\u001b[0m\u001b[1m[2] During: typing of call at F:\\Anaconda\\lib\\site-packages\\numba\\typed\\typedlist.py (47)\n\u001b[0m\n\u001b[1m\nFile \"F:\\Anaconda\\lib\\site-packages\\numba\\typed\\typedlist.py\", line 47:\u001b[0m\n\u001b[1mdef _append(l, item):\n\u001b[1m    l.append(item)\n\u001b[0m    \u001b[1m^\u001b[0m\u001b[0m\n"
     ]
    }
   ],
   "source": [
    "num_sim = 5 # número de simulações\n",
    "X = cenario_rio.evolui_jit(dados_temporais, num_sim, show='sd')"
   ]
  },
  {
   "cell_type": "code",
   "execution_count": 14,
   "metadata": {},
   "outputs": [],
   "source": [
    "import datetime # date and time tools\n",
    "\n",
    "import os, sys\n",
    "\n",
    "import math\n",
    "\n",
    "import random\n",
    "\n",
    "import numpy as np\n",
    "from scipy import stats\n",
    "import pandas as pd\n",
    "\n",
    "import networkx as nx\n",
    "\n",
    "import matplotlib.pyplot as plt\n",
    "import seaborn as sns\n",
    "\n",
    "import io, base64\n",
    "from IPython.display import Image, HTML"
   ]
  },
  {
   "cell_type": "code",
   "execution_count": 15,
   "metadata": {},
   "outputs": [],
   "source": [
    "sys.path.insert(0, os.path.abspath(os.path.join(os.getcwd(), '..')))\n",
    "import episiming"
   ]
  },
  {
   "cell_type": "code",
   "execution_count": 16,
   "metadata": {},
   "outputs": [],
   "source": [
    "sns.set_style(\"darkgrid\")"
   ]
  },
  {
   "cell_type": "code",
   "execution_count": 17,
   "metadata": {},
   "outputs": [
    {
     "name": "stdout",
     "output_type": "stream",
     "text": [
      "Atualização mais recente do kernel: 19/Jun/2020\n"
     ]
    }
   ],
   "source": [
    "dt_string = datetime.datetime.now().strftime(\"%d/%b/%Y\")\n",
    "print(f\"Atualização mais recente do kernel: {dt_string}\")"
   ]
  },
  {
   "cell_type": "code",
   "execution_count": 18,
   "metadata": {},
   "outputs": [
    {
     "name": "stdout",
     "output_type": "stream",
     "text": [
      "População do cenário reduzido: 6333\n",
      "\n"
     ]
    }
   ],
   "source": [
    "tx_reducao = 1000\n",
    "cenario_rio = episiming.cenarios.RiodeJaneiro(tx_reducao)\n",
    "print(f'População do cenário reduzido: {cenario_rio.num_pop}\\n')"
   ]
  },
  {
   "cell_type": "code",
   "execution_count": 19,
   "metadata": {},
   "outputs": [],
   "source": [
    "dt = 1 # passo de tempo\n",
    "t_0 = 0 # instante initial\n",
    "num_dt = 80 # número de passos\n",
    "dados_temporais = [t_0, dt, num_dt] # instantes de tempo"
   ]
  },
  {
   "cell_type": "code",
   "execution_count": 20,
   "metadata": {},
   "outputs": [],
   "source": [
    "num_infectados_0_base = 20 # número inicial de infectados\n",
    "beta_r_base = 0.5 # taxa de contágio nas residências\n",
    "beta_esc_base = 0.4 # taxa de contágio nas escolas\n",
    "beta_emp_base = 0.2 # taxa de contágio no trabalho\n",
    "beta_c_base = 0.2 # taxa de contágio na comunidade\n",
    "gamma_base = 0.1 # inverso do tempo de recuperação"
   ]
  },
  {
   "cell_type": "code",
   "execution_count": 21,
   "metadata": {},
   "outputs": [],
   "source": [
    "num_infectados_0 = num_infectados_0_base\n",
    "beta_r = beta_r_base\n",
    "beta_esc = beta_esc_base\n",
    "beta_emp = beta_emp_base\n",
    "beta_c = beta_c_base\n",
    "gamma = gamma_base\n",
    "\n",
    "cenario_rio.inicializa_infeccao(num_infectados_0, beta_r, beta_esc, beta_emp, beta_c,\n",
    "                                gamma)"
   ]
  },
  {
   "cell_type": "code",
   "execution_count": 22,
   "metadata": {},
   "outputs": [
    {
     "ename": "TypingError",
     "evalue": "Failed in nopython mode pipeline (step: nopython frontend)\n\u001b[1m\u001b[1m\u001b[1mInvalid use of Function(<function impl_append at 0x0000014D5E2C6400>) with argument(s) of type(s): (ListType[ListType[UniTuple(int64 x 2)]], ListType[Tuple(int64, int32)])\n * parameterized\n\u001b[1mIn definition 0:\u001b[0m\n\u001b[1m    LoweringError: Failed in nopython mode pipeline (step: nopython mode backend)\n\u001b[1m\u001b[1mCannot cast ListType[Tuple(int64, int32)] to ListType[UniTuple(int64 x 2)]: %\".24\" = load {i8*, i8*}, {i8*, i8*}* %\"item\"\n\u001b[1m\nFile \"F:\\Anaconda\\lib\\site-packages\\numba\\listobject.py\", line 487:\u001b[0m\n\u001b[1m    def impl(l, item):\n\u001b[1m        casteditem = _cast(item, itemty)\n\u001b[0m        \u001b[1m^\u001b[0m\u001b[0m\n\u001b[0m\n\u001b[0m\u001b[1m[1] During: lowering \"$8call_function.3 = call $2load_global.0(item, $6load_deref.2, func=$2load_global.0, args=[Var(item, listobject.py:487), Var($6load_deref.2, listobject.py:487)], kws=(), vararg=None)\" at F:\\Anaconda\\lib\\site-packages\\numba\\listobject.py (487)\u001b[0m\u001b[0m\n    raised from F:\\Anaconda\\lib\\site-packages\\numba\\six.py:669\n\u001b[1mIn definition 1:\u001b[0m\n\u001b[1m    LoweringError: Failed in nopython mode pipeline (step: nopython mode backend)\n\u001b[1m\u001b[1mCannot cast ListType[Tuple(int64, int32)] to ListType[UniTuple(int64 x 2)]: %\".24\" = load {i8*, i8*}, {i8*, i8*}* %\"item\"\n\u001b[1m\nFile \"F:\\Anaconda\\lib\\site-packages\\numba\\listobject.py\", line 487:\u001b[0m\n\u001b[1m    def impl(l, item):\n\u001b[1m        casteditem = _cast(item, itemty)\n\u001b[0m        \u001b[1m^\u001b[0m\u001b[0m\n\u001b[0m\n\u001b[0m\u001b[1m[1] During: lowering \"$8call_function.3 = call $2load_global.0(item, $6load_deref.2, func=$2load_global.0, args=[Var(item, listobject.py:487), Var($6load_deref.2, listobject.py:487)], kws=(), vararg=None)\" at F:\\Anaconda\\lib\\site-packages\\numba\\listobject.py (487)\u001b[0m\u001b[0m\n    raised from F:\\Anaconda\\lib\\site-packages\\numba\\six.py:669\n\u001b[1mThis error is usually caused by passing an argument of a type that is unsupported by the named function.\u001b[0m\u001b[0m\n\u001b[0m\u001b[1m[1] During: resolving callee type: BoundFunction((<class 'numba.types.containers.ListType'>, 'append') for ListType[ListType[UniTuple(int64 x 2)]])\u001b[0m\n\u001b[0m\u001b[1m[2] During: typing of call at F:\\Anaconda\\lib\\site-packages\\numba\\typed\\typedlist.py (47)\n\u001b[0m\n\u001b[1m\nFile \"F:\\Anaconda\\lib\\site-packages\\numba\\typed\\typedlist.py\", line 47:\u001b[0m\n\u001b[1mdef _append(l, item):\n\u001b[1m    l.append(item)\n\u001b[0m    \u001b[1m^\u001b[0m\u001b[0m\n",
     "output_type": "error",
     "traceback": [
      "\u001b[1;31m---------------------------------------------------------------------------\u001b[0m",
      "\u001b[1;31mTypingError\u001b[0m                               Traceback (most recent call last)",
      "\u001b[1;32m<ipython-input-22-6029fa87fcf2>\u001b[0m in \u001b[0;36m<module>\u001b[1;34m\u001b[0m\n\u001b[0;32m      1\u001b[0m \u001b[0mnum_sim\u001b[0m \u001b[1;33m=\u001b[0m \u001b[1;36m5\u001b[0m \u001b[1;31m# número de simulações\u001b[0m\u001b[1;33m\u001b[0m\u001b[1;33m\u001b[0m\u001b[0m\n\u001b[1;32m----> 2\u001b[1;33m \u001b[0mX\u001b[0m \u001b[1;33m=\u001b[0m \u001b[0mcenario_rio\u001b[0m\u001b[1;33m.\u001b[0m\u001b[0mevolui_jit\u001b[0m\u001b[1;33m(\u001b[0m\u001b[0mdados_temporais\u001b[0m\u001b[1;33m,\u001b[0m \u001b[0mnum_sim\u001b[0m\u001b[1;33m,\u001b[0m \u001b[0mshow\u001b[0m\u001b[1;33m=\u001b[0m\u001b[1;34m'sd'\u001b[0m\u001b[1;33m)\u001b[0m\u001b[1;33m\u001b[0m\u001b[1;33m\u001b[0m\u001b[0m\n\u001b[0m",
      "\u001b[1;32m~\\Documents\\GitHub\\covid19\\modelos\\RJ\\agent_based\\episiming\\cenarios.py\u001b[0m in \u001b[0;36mevolui_jit\u001b[1;34m(self, dados_temporais, num_sim, show)\u001b[0m\n\u001b[0;32m    556\u001b[0m                 \u001b[0mdados_temporais\u001b[0m\u001b[1;33m,\u001b[0m\u001b[1;33m\u001b[0m\u001b[1;33m\u001b[0m\u001b[0m\n\u001b[0;32m    557\u001b[0m                 \u001b[0mnum_sim\u001b[0m\u001b[1;33m,\u001b[0m\u001b[1;33m\u001b[0m\u001b[1;33m\u001b[0m\u001b[0m\n\u001b[1;32m--> 558\u001b[1;33m                 \u001b[0mshow\u001b[0m\u001b[1;33m\u001b[0m\u001b[1;33m\u001b[0m\u001b[0m\n\u001b[0m\u001b[0;32m    559\u001b[0m             )\n\u001b[0;32m    560\u001b[0m         \u001b[1;32mreturn\u001b[0m \u001b[0mX\u001b[0m\u001b[1;33m\u001b[0m\u001b[1;33m\u001b[0m\u001b[0m\n",
      "\u001b[1;32m~\\Documents\\GitHub\\covid19\\modelos\\RJ\\agent_based\\episiming\\individuais.py\u001b[0m in \u001b[0;36mevolucao_vetorial_jit\u001b[1;34m(pop_estado_0, pop_posicoes, redes, redes_tx_transmissao, pop_fator_tx_transmissao_c, gamma, f_kernel, dados_temporais, num_sim, show)\u001b[0m\n\u001b[0;32m    485\u001b[0m         \u001b[1;32mfor\u001b[0m \u001b[0mc\u001b[0m \u001b[1;32min\u001b[0m \u001b[0mconexoes_aux\u001b[0m\u001b[1;33m:\u001b[0m\u001b[1;33m\u001b[0m\u001b[1;33m\u001b[0m\u001b[0m\n\u001b[0;32m    486\u001b[0m             \u001b[0mtyped_conexoes\u001b[0m\u001b[1;33m.\u001b[0m\u001b[0mappend\u001b[0m\u001b[1;33m(\u001b[0m\u001b[0mc\u001b[0m\u001b[1;33m)\u001b[0m\u001b[1;33m\u001b[0m\u001b[1;33m\u001b[0m\u001b[0m\n\u001b[1;32m--> 487\u001b[1;33m         \u001b[0mconexoes\u001b[0m\u001b[1;33m.\u001b[0m\u001b[0mappend\u001b[0m\u001b[1;33m(\u001b[0m\u001b[0mtyped_conexoes\u001b[0m\u001b[1;33m)\u001b[0m\u001b[1;33m\u001b[0m\u001b[1;33m\u001b[0m\u001b[0m\n\u001b[0m\u001b[0;32m    488\u001b[0m \u001b[1;33m\u001b[0m\u001b[0m\n\u001b[0;32m    489\u001b[0m     \u001b[0mtx_transmissao\u001b[0m \u001b[1;33m=\u001b[0m \u001b[0mList\u001b[0m\u001b[1;33m(\u001b[0m\u001b[1;33m)\u001b[0m\u001b[1;33m\u001b[0m\u001b[1;33m\u001b[0m\u001b[0m\n",
      "\u001b[1;32mF:\\Anaconda\\lib\\site-packages\\numba\\typed\\typedlist.py\u001b[0m in \u001b[0;36mappend\u001b[1;34m(self, item)\u001b[0m\n\u001b[0;32m    258\u001b[0m         \u001b[1;32mif\u001b[0m \u001b[1;32mnot\u001b[0m \u001b[0mself\u001b[0m\u001b[1;33m.\u001b[0m\u001b[0m_typed\u001b[0m\u001b[1;33m:\u001b[0m\u001b[1;33m\u001b[0m\u001b[1;33m\u001b[0m\u001b[0m\n\u001b[0;32m    259\u001b[0m             \u001b[0mself\u001b[0m\u001b[1;33m.\u001b[0m\u001b[0m_initialise_list\u001b[0m\u001b[1;33m(\u001b[0m\u001b[0mitem\u001b[0m\u001b[1;33m)\u001b[0m\u001b[1;33m\u001b[0m\u001b[1;33m\u001b[0m\u001b[0m\n\u001b[1;32m--> 260\u001b[1;33m         \u001b[0m_append\u001b[0m\u001b[1;33m(\u001b[0m\u001b[0mself\u001b[0m\u001b[1;33m,\u001b[0m \u001b[0mitem\u001b[0m\u001b[1;33m)\u001b[0m\u001b[1;33m\u001b[0m\u001b[1;33m\u001b[0m\u001b[0m\n\u001b[0m\u001b[0;32m    261\u001b[0m \u001b[1;33m\u001b[0m\u001b[0m\n\u001b[0;32m    262\u001b[0m     \u001b[1;32mdef\u001b[0m \u001b[0m__setitem__\u001b[0m\u001b[1;33m(\u001b[0m\u001b[0mself\u001b[0m\u001b[1;33m,\u001b[0m \u001b[0mi\u001b[0m\u001b[1;33m,\u001b[0m \u001b[0mitem\u001b[0m\u001b[1;33m)\u001b[0m\u001b[1;33m:\u001b[0m\u001b[1;33m\u001b[0m\u001b[1;33m\u001b[0m\u001b[0m\n",
      "\u001b[1;32mF:\\Anaconda\\lib\\site-packages\\numba\\dispatcher.py\u001b[0m in \u001b[0;36m_compile_for_args\u001b[1;34m(self, *args, **kws)\u001b[0m\n\u001b[0;32m    399\u001b[0m                 \u001b[0me\u001b[0m\u001b[1;33m.\u001b[0m\u001b[0mpatch_message\u001b[0m\u001b[1;33m(\u001b[0m\u001b[0mmsg\u001b[0m\u001b[1;33m)\u001b[0m\u001b[1;33m\u001b[0m\u001b[1;33m\u001b[0m\u001b[0m\n\u001b[0;32m    400\u001b[0m \u001b[1;33m\u001b[0m\u001b[0m\n\u001b[1;32m--> 401\u001b[1;33m             \u001b[0merror_rewrite\u001b[0m\u001b[1;33m(\u001b[0m\u001b[0me\u001b[0m\u001b[1;33m,\u001b[0m \u001b[1;34m'typing'\u001b[0m\u001b[1;33m)\u001b[0m\u001b[1;33m\u001b[0m\u001b[1;33m\u001b[0m\u001b[0m\n\u001b[0m\u001b[0;32m    402\u001b[0m         \u001b[1;32mexcept\u001b[0m \u001b[0merrors\u001b[0m\u001b[1;33m.\u001b[0m\u001b[0mUnsupportedError\u001b[0m \u001b[1;32mas\u001b[0m \u001b[0me\u001b[0m\u001b[1;33m:\u001b[0m\u001b[1;33m\u001b[0m\u001b[1;33m\u001b[0m\u001b[0m\n\u001b[0;32m    403\u001b[0m             \u001b[1;31m# Something unsupported is present in the user code, add help info\u001b[0m\u001b[1;33m\u001b[0m\u001b[1;33m\u001b[0m\u001b[1;33m\u001b[0m\u001b[0m\n",
      "\u001b[1;32mF:\\Anaconda\\lib\\site-packages\\numba\\dispatcher.py\u001b[0m in \u001b[0;36merror_rewrite\u001b[1;34m(e, issue_type)\u001b[0m\n\u001b[0;32m    342\u001b[0m                 \u001b[1;32mraise\u001b[0m \u001b[0me\u001b[0m\u001b[1;33m\u001b[0m\u001b[1;33m\u001b[0m\u001b[0m\n\u001b[0;32m    343\u001b[0m             \u001b[1;32melse\u001b[0m\u001b[1;33m:\u001b[0m\u001b[1;33m\u001b[0m\u001b[1;33m\u001b[0m\u001b[0m\n\u001b[1;32m--> 344\u001b[1;33m                 \u001b[0mreraise\u001b[0m\u001b[1;33m(\u001b[0m\u001b[0mtype\u001b[0m\u001b[1;33m(\u001b[0m\u001b[0me\u001b[0m\u001b[1;33m)\u001b[0m\u001b[1;33m,\u001b[0m \u001b[0me\u001b[0m\u001b[1;33m,\u001b[0m \u001b[1;32mNone\u001b[0m\u001b[1;33m)\u001b[0m\u001b[1;33m\u001b[0m\u001b[1;33m\u001b[0m\u001b[0m\n\u001b[0m\u001b[0;32m    345\u001b[0m \u001b[1;33m\u001b[0m\u001b[0m\n\u001b[0;32m    346\u001b[0m         \u001b[0margtypes\u001b[0m \u001b[1;33m=\u001b[0m \u001b[1;33m[\u001b[0m\u001b[1;33m]\u001b[0m\u001b[1;33m\u001b[0m\u001b[1;33m\u001b[0m\u001b[0m\n",
      "\u001b[1;32mF:\\Anaconda\\lib\\site-packages\\numba\\six.py\u001b[0m in \u001b[0;36mreraise\u001b[1;34m(tp, value, tb)\u001b[0m\n\u001b[0;32m    666\u001b[0m             \u001b[0mvalue\u001b[0m \u001b[1;33m=\u001b[0m \u001b[0mtp\u001b[0m\u001b[1;33m(\u001b[0m\u001b[1;33m)\u001b[0m\u001b[1;33m\u001b[0m\u001b[1;33m\u001b[0m\u001b[0m\n\u001b[0;32m    667\u001b[0m         \u001b[1;32mif\u001b[0m \u001b[0mvalue\u001b[0m\u001b[1;33m.\u001b[0m\u001b[0m__traceback__\u001b[0m \u001b[1;32mis\u001b[0m \u001b[1;32mnot\u001b[0m \u001b[0mtb\u001b[0m\u001b[1;33m:\u001b[0m\u001b[1;33m\u001b[0m\u001b[1;33m\u001b[0m\u001b[0m\n\u001b[1;32m--> 668\u001b[1;33m             \u001b[1;32mraise\u001b[0m \u001b[0mvalue\u001b[0m\u001b[1;33m.\u001b[0m\u001b[0mwith_traceback\u001b[0m\u001b[1;33m(\u001b[0m\u001b[0mtb\u001b[0m\u001b[1;33m)\u001b[0m\u001b[1;33m\u001b[0m\u001b[1;33m\u001b[0m\u001b[0m\n\u001b[0m\u001b[0;32m    669\u001b[0m         \u001b[1;32mraise\u001b[0m \u001b[0mvalue\u001b[0m\u001b[1;33m\u001b[0m\u001b[1;33m\u001b[0m\u001b[0m\n\u001b[0;32m    670\u001b[0m \u001b[1;33m\u001b[0m\u001b[0m\n",
      "\u001b[1;31mTypingError\u001b[0m: Failed in nopython mode pipeline (step: nopython frontend)\n\u001b[1m\u001b[1m\u001b[1mInvalid use of Function(<function impl_append at 0x0000014D5E2C6400>) with argument(s) of type(s): (ListType[ListType[UniTuple(int64 x 2)]], ListType[Tuple(int64, int32)])\n * parameterized\n\u001b[1mIn definition 0:\u001b[0m\n\u001b[1m    LoweringError: Failed in nopython mode pipeline (step: nopython mode backend)\n\u001b[1m\u001b[1mCannot cast ListType[Tuple(int64, int32)] to ListType[UniTuple(int64 x 2)]: %\".24\" = load {i8*, i8*}, {i8*, i8*}* %\"item\"\n\u001b[1m\nFile \"F:\\Anaconda\\lib\\site-packages\\numba\\listobject.py\", line 487:\u001b[0m\n\u001b[1m    def impl(l, item):\n\u001b[1m        casteditem = _cast(item, itemty)\n\u001b[0m        \u001b[1m^\u001b[0m\u001b[0m\n\u001b[0m\n\u001b[0m\u001b[1m[1] During: lowering \"$8call_function.3 = call $2load_global.0(item, $6load_deref.2, func=$2load_global.0, args=[Var(item, listobject.py:487), Var($6load_deref.2, listobject.py:487)], kws=(), vararg=None)\" at F:\\Anaconda\\lib\\site-packages\\numba\\listobject.py (487)\u001b[0m\u001b[0m\n    raised from F:\\Anaconda\\lib\\site-packages\\numba\\six.py:669\n\u001b[1mIn definition 1:\u001b[0m\n\u001b[1m    LoweringError: Failed in nopython mode pipeline (step: nopython mode backend)\n\u001b[1m\u001b[1mCannot cast ListType[Tuple(int64, int32)] to ListType[UniTuple(int64 x 2)]: %\".24\" = load {i8*, i8*}, {i8*, i8*}* %\"item\"\n\u001b[1m\nFile \"F:\\Anaconda\\lib\\site-packages\\numba\\listobject.py\", line 487:\u001b[0m\n\u001b[1m    def impl(l, item):\n\u001b[1m        casteditem = _cast(item, itemty)\n\u001b[0m        \u001b[1m^\u001b[0m\u001b[0m\n\u001b[0m\n\u001b[0m\u001b[1m[1] During: lowering \"$8call_function.3 = call $2load_global.0(item, $6load_deref.2, func=$2load_global.0, args=[Var(item, listobject.py:487), Var($6load_deref.2, listobject.py:487)], kws=(), vararg=None)\" at F:\\Anaconda\\lib\\site-packages\\numba\\listobject.py (487)\u001b[0m\u001b[0m\n    raised from F:\\Anaconda\\lib\\site-packages\\numba\\six.py:669\n\u001b[1mThis error is usually caused by passing an argument of a type that is unsupported by the named function.\u001b[0m\u001b[0m\n\u001b[0m\u001b[1m[1] During: resolving callee type: BoundFunction((<class 'numba.types.containers.ListType'>, 'append') for ListType[ListType[UniTuple(int64 x 2)]])\u001b[0m\n\u001b[0m\u001b[1m[2] During: typing of call at F:\\Anaconda\\lib\\site-packages\\numba\\typed\\typedlist.py (47)\n\u001b[0m\n\u001b[1m\nFile \"F:\\Anaconda\\lib\\site-packages\\numba\\typed\\typedlist.py\", line 47:\u001b[0m\n\u001b[1mdef _append(l, item):\n\u001b[1m    l.append(item)\n\u001b[0m    \u001b[1m^\u001b[0m\u001b[0m\n"
     ]
    }
   ],
   "source": [
    "num_sim = 5 # número de simulações\n",
    "X = cenario_rio.evolui_jit(dados_temporais, num_sim, show='sd')"
   ]
  },
  {
   "cell_type": "code",
   "execution_count": null,
   "metadata": {},
   "outputs": [],
   "source": [
    "import numba"
   ]
  },
  {
   "cell_type": "code",
   "execution_count": null,
   "metadata": {},
   "outputs": [],
   "source": []
  },
  {
   "cell_type": "code",
   "execution_count": null,
   "metadata": {},
   "outputs": [],
   "source": []
  }
 ],
 "metadata": {
  "kernelspec": {
   "display_name": "Python 3",
   "language": "python",
   "name": "python3"
  },
  "language_info": {
   "codemirror_mode": {
    "name": "ipython",
    "version": 3
   },
   "file_extension": ".py",
   "mimetype": "text/x-python",
   "name": "python",
   "nbconvert_exporter": "python",
   "pygments_lexer": "ipython3",
   "version": "3.7.3"
  }
 },
 "nbformat": 4,
 "nbformat_minor": 4
}
