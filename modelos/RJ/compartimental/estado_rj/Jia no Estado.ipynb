{
 "cells": [
  {
   "cell_type": "markdown",
   "metadata": {},
   "source": [
    "# Modelo de Jia et al."
   ]
  },
  {
   "cell_type": "markdown",
   "metadata": {},
   "source": [
    "$$ \\begin{align*}\n",
    "\\frac{dS}{dt} & = - \\beta S (I + \\theta A) - p S + \\lambda Q\n",
    "              &&= - \\beta S I  -  \\phi S A - p S + \\lambda Q \\\\\n",
    "\\frac{dQ}{dt} & = p S - \\lambda Q \\\\\n",
    "\\frac{dE}{dt} & =   \\beta S (I + \\theta A) - \\sigma E\n",
    "              &&=   \\beta S I  +  \\phi S A - \\sigma E \\\\\n",
    "\\frac{dA}{dt} & = \\sigma (1 - \\rho) E - \\epsilon_A A - \\gamma_A A\n",
    "              &&= (\\sigma - \\zeta) E  - \\epsilon_A A - \\gamma_A A \\\\\n",
    "\\frac{dI}{dt} & = \\sigma \\rho E - \\epsilon_I I - \\gamma_I I - d_I I\n",
    "              &&=       \\zeta E - \\epsilon_I I - \\gamma_I I - d_I I \\\\\n",
    "\\frac{dD}{dt} & = \\epsilon_A A + \\epsilon_I I - \\gamma_D D - d_D D \\\\\n",
    "\\frac{dR}{dt} & = \\gamma_A A + \\gamma_I I + \\gamma_D D\n",
    "\\end{align*} $$"
   ]
  },
  {
   "cell_type": "markdown",
   "metadata": {},
   "source": [
    "## Modelo em python\n",
    "\n",
    "Separado em uma biblioteca dedicada, `jia.py`."
   ]
  },
  {
   "cell_type": "code",
   "execution_count": 33,
   "metadata": {},
   "outputs": [
    {
     "data": {
      "text/plain": [
       "13437806"
      ]
     },
     "execution_count": 33,
     "metadata": {},
     "output_type": "execute_result"
    }
   ],
   "source": [
    "6718903*2"
   ]
  },
  {
   "cell_type": "code",
   "execution_count": 38,
   "metadata": {},
   "outputs": [
    {
     "data": {
      "text/plain": [
       "5.9533528017892205"
      ]
     },
     "execution_count": 38,
     "metadata": {},
     "output_type": "execute_result"
    }
   ],
   "source": [
    "2e5/6718903*2 *100"
   ]
  },
  {
   "cell_type": "code",
   "execution_count": 41,
   "metadata": {},
   "outputs": [
    {
     "data": {
      "text/plain": [
       "0.8329201784828953"
      ]
     },
     "execution_count": 41,
     "metadata": {},
     "output_type": "execute_result"
    }
   ],
   "source": [
    "(2.017e7-2.0002e7)/2.017e7 *100"
   ]
  },
  {
   "cell_type": "code",
   "execution_count": 1,
   "metadata": {},
   "outputs": [],
   "source": [
    "import git\n",
    "import sys\n",
    "\n",
    "root_dir = git.Repo('.', search_parent_directories=True).working_tree_dir\n",
    "sys.path.insert(1, root_dir)"
   ]
  },
  {
   "cell_type": "code",
   "execution_count": 2,
   "metadata": {},
   "outputs": [],
   "source": [
    "import modcovid as mc\n",
    "from modcovid import scripts, settings"
   ]
  },
  {
   "cell_type": "code",
   "execution_count": 3,
   "metadata": {},
   "outputs": [],
   "source": [
    "from scipy.integrate import solve_ivp\n",
    "from jia import multi_regime, F, new_diagn, new_deaths"
   ]
  },
  {
   "cell_type": "code",
   "execution_count": 4,
   "metadata": {},
   "outputs": [],
   "source": [
    "cidades = ['Niteroi', 'Campos Dos Goytacazes', 'Teresopolis', 'Duque De Caxias', 'Angra Dos Reis', 'Volta Redonda', 'Cabo Frio']\n",
    "dados = {k: {} for k in cidades}"
   ]
  },
  {
   "cell_type": "markdown",
   "metadata": {},
   "source": [
    "# Niterói"
   ]
  },
  {
   "cell_type": "markdown",
   "metadata": {},
   "source": [
    "## Dados iniciais para Niterói\n",
    "\n",
    "Usamos uma taxa de subnotificação de 8x, e uma taxa de exposição de 7x a população diagnosticada,\n",
    "o que aproxima de forma bastante razoável a curva de diagnósticos e de óbitos.\n",
    "\n",
    "Também é necessário estimar a taxa de assintomáticos nesta população,\n",
    "que é maior do que para a doença já que a prioridade dos testes\n",
    "é para aqueles que apresentaram sintomas mais graves."
   ]
  },
  {
   "cell_type": "code",
   "execution_count": 5,
   "metadata": {},
   "outputs": [],
   "source": [
    "cidade_atual = 'Niteroi'"
   ]
  },
  {
   "cell_type": "code",
   "execution_count": 6,
   "metadata": {},
   "outputs": [],
   "source": [
    "# Taxa de subnotificação\n",
    "taxa = {'taxa_subn': 8, 'prop_assint':0.80}\n",
    "dados[cidade_atual].update(taxa)"
   ]
  },
  {
   "cell_type": "code",
   "execution_count": 7,
   "metadata": {},
   "outputs": [],
   "source": [
    "# Dados para a cidade de Niterói\n",
    "# IBGE 2019 (estimativa)\n",
    "\n",
    "pop = 6718903\n",
    "\n",
    "diagnosticados = 489\n",
    "recuperados = 16\n",
    "infectados = diagnosticados*(dados[cidade_atual]['taxa_subn']-1)*(1 - dados[cidade_atual]['prop_assint'])\n",
    "assintomaticos = diagnosticados*(dados[cidade_atual]['taxa_subn']-1)*dados[cidade_atual]['prop_assint']\n",
    "expostos = diagnosticados*7\n",
    "quarentena = 0.6 * pop\n",
    "\n",
    "sucetiveis = pop - (quarentena + expostos + assintomaticos + infectados + diagnosticados + recuperados)\n",
    "\n",
    "dados[cidade_atual].update({'pop': pop, 'diagnosticados': diagnosticados, 'recuperados': recuperados, 'infectados': infectados, 'assintomaticos': assintomaticos, 'expostos': expostos, 'quarentena': quarentena})"
   ]
  },
  {
   "cell_type": "code",
   "execution_count": 8,
   "metadata": {},
   "outputs": [],
   "source": [
    "# Idx       :         0,    1,   2,      3,     4,    5,     6,      7,    8,      9,     10,     11,     12\n",
    "# Parâmetros:      beta,  phi,   p, lambda, sigma, zeta,  epsA, gammaA, epsI, gammaI, deathI, gammaD, deathD\n",
    "params_name = ['beta', 'phi', 'p', 'lambda','sigma', 'zeta', 'epsA', 'gammaA', 'epsI', 'gammaI', 'deathI', 'gammaD', 'deathD']\n",
    "params = (1e-7, 1/10, 1/4,    1/6,   1/7, 0.94, 1/100, 0.0996, 1/30, 0.0766, 0.0026, 0.0843, 0.0017)"
   ]
  },
  {
   "cell_type": "code",
   "execution_count": 9,
   "metadata": {},
   "outputs": [],
   "source": [
    "dados[cidade_atual].update({'params': {k: v for k,v in zip(params_name, params)}})"
   ]
  },
  {
   "cell_type": "code",
   "execution_count": 10,
   "metadata": {},
   "outputs": [],
   "source": [
    "import matplotlib.pyplot as plt\n",
    "import matplotlib.ticker as mticker\n",
    "import matplotlib.dates as mdates\n",
    "import datetime as dt\n",
    "import pandas as pd"
   ]
  },
  {
   "cell_type": "code",
   "execution_count": 11,
   "metadata": {},
   "outputs": [],
   "source": [
    "df2 = pd.read_csv('BICOVIDREAIS_19maio.csv')"
   ]
  },
  {
   "cell_type": "code",
   "execution_count": 12,
   "metadata": {},
   "outputs": [],
   "source": [
    "df = mc.scripts.set_df('estado_rj', {'df_break': False})"
   ]
  },
  {
   "cell_type": "code",
   "execution_count": 13,
   "metadata": {},
   "outputs": [],
   "source": [
    "df.dropna(subset = ['Municipio'], inplace = True)"
   ]
  },
  {
   "cell_type": "code",
   "execution_count": 14,
   "metadata": {},
   "outputs": [],
   "source": [
    "df_work = df[df['Municipio'].str.contains('|'.join(cidades))]"
   ]
  },
  {
   "cell_type": "code",
   "execution_count": 15,
   "metadata": {},
   "outputs": [
    {
     "data": {
      "text/plain": [
       "str"
      ]
     },
     "execution_count": 15,
     "metadata": {},
     "output_type": "execute_result"
    }
   ],
   "source": [
    "type(df2['dt_sintoma'][0])"
   ]
  },
  {
   "cell_type": "code",
   "execution_count": 31,
   "metadata": {},
   "outputs": [
    {
     "data": {
      "text/plain": [
       "array(['2020-05-16', '2020-04-21', '2020-04-06', '2020-04-20',\n",
       "       '2020-04-15', '2020-05-06', '2020-05-08', '2020-03-24',\n",
       "       '2020-04-19', '2020-04-22', '2020-04-08', '2020-04-30',\n",
       "       '2020-05-11', '2020-04-14', '2020-05-12', '2020-05-14',\n",
       "       '2020-04-29', '2020-05-13', '2020-05-04', '2020-03-30',\n",
       "       '2020-04-27', '2020-05-15', '2020-04-17', '2020-04-16',\n",
       "       '2020-04-24', '2020-05-05', '2020-04-18', '2020-03-27',\n",
       "       '2020-04-09', '2020-05-07', '2020-04-28', '2020-04-13',\n",
       "       '2020-05-01', '2020-03-31', '2020-04-04', '2020-05-03',\n",
       "       '2020-04-12', '2020-04-11', '2020-05-19', '2020-04-07',\n",
       "       '2020-04-02', '2020-05-09', '2020-04-23', '2020-04-05',\n",
       "       '2020-04-25', '2020-03-28', '2020-05-10', '2020-04-10', nan,\n",
       "       '2020-05-02', '2020-03-20', '2020-04-26', '2020-03-17',\n",
       "       '2020-03-29', '2020-04-03', '2020-04-01', '2020-05-18',\n",
       "       '2020-03-23', '2020-05-17', '2020-03-25', '2020-03-18',\n",
       "       '2020-03-22', '2020-03-19', '2020-03-09', '2020-03-26',\n",
       "       '2020-03-21', '2020-03-16', '2020-02-27', '2020-01-03',\n",
       "       '2020-03-13', '2020-03-14', '2020-02-06', '2020-02-17',\n",
       "       '2020-01-10', '2020-02-03', '2020-03-15', '2020-02-29',\n",
       "       '2020-02-13', '2020-02-28', '2020-03-11', '2020-03-10',\n",
       "       '2020-02-20', '2020-01-13', '2020-03-05', '2020-03-06',\n",
       "       '2020-01-08', '2020-02-22', '2020-03-07', '2020-03-02',\n",
       "       '2020-03-12', '2020-02-26', '2020-01-29', '2020-02-04',\n",
       "       '2020-03-04', '2020-02-19', '2020-01-05', '2020-02-18',\n",
       "       '2020-02-25', '2020-01-04', '2020-02-09', '2020-01-16',\n",
       "       '2020-01-09', '2020-02-23', '2020-03-03', '2020-01-27',\n",
       "       '2020-03-01', '2020-02-10', '2020-02-11'], dtype=object)"
      ]
     },
     "execution_count": 31,
     "metadata": {},
     "output_type": "execute_result"
    }
   ],
   "source": [
    "df2['dt_coleta_dt_notif'].unique()"
   ]
  },
  {
   "cell_type": "code",
   "execution_count": 32,
   "metadata": {},
   "outputs": [
    {
     "data": {
      "text/html": [
       "<div>\n",
       "<style scoped>\n",
       "    .dataframe tbody tr th:only-of-type {\n",
       "        vertical-align: middle;\n",
       "    }\n",
       "\n",
       "    .dataframe tbody tr th {\n",
       "        vertical-align: top;\n",
       "    }\n",
       "\n",
       "    .dataframe thead th {\n",
       "        text-align: right;\n",
       "    }\n",
       "</style>\n",
       "<table border=\"1\" class=\"dataframe\">\n",
       "  <thead>\n",
       "    <tr style=\"text-align: right;\">\n",
       "      <th></th>\n",
       "      <th>sexo</th>\n",
       "      <th>idade</th>\n",
       "      <th>municipio_res</th>\n",
       "      <th>uf</th>\n",
       "      <th>dt_sintoma</th>\n",
       "      <th>dt_coleta_dt_notif</th>\n",
       "      <th>classificacao</th>\n",
       "      <th>evolucao</th>\n",
       "      <th>dt_obito</th>\n",
       "      <th>comorbidades</th>\n",
       "      <th>dias</th>\n",
       "    </tr>\n",
       "  </thead>\n",
       "  <tbody>\n",
       "    <tr>\n",
       "      <th>16000</th>\n",
       "      <td>F</td>\n",
       "      <td>35.0</td>\n",
       "      <td>TERESOPOLIS</td>\n",
       "      <td>RJ</td>\n",
       "      <td>2020-01-01</td>\n",
       "      <td>2020-01-09</td>\n",
       "      <td>CONFIRMADO</td>\n",
       "      <td>NaN</td>\n",
       "      <td>NaN</td>\n",
       "      <td>NaN</td>\n",
       "      <td>139</td>\n",
       "    </tr>\n",
       "    <tr>\n",
       "      <th>16927</th>\n",
       "      <td>F</td>\n",
       "      <td>38.0</td>\n",
       "      <td>DUQUE DE CAXIAS</td>\n",
       "      <td>RJ</td>\n",
       "      <td>2020-01-04</td>\n",
       "      <td>2020-01-09</td>\n",
       "      <td>CONFIRMADO</td>\n",
       "      <td>NaN</td>\n",
       "      <td>NaN</td>\n",
       "      <td>NaN</td>\n",
       "      <td>136</td>\n",
       "    </tr>\n",
       "  </tbody>\n",
       "</table>\n",
       "</div>"
      ],
      "text/plain": [
       "      sexo  idade    municipio_res  uf  dt_sintoma dt_coleta_dt_notif  \\\n",
       "16000    F   35.0      TERESOPOLIS  RJ  2020-01-01         2020-01-09   \n",
       "16927    F   38.0  DUQUE DE CAXIAS  RJ  2020-01-04         2020-01-09   \n",
       "\n",
       "      classificacao evolucao dt_obito  comorbidades  dias  \n",
       "16000    CONFIRMADO      NaN      NaN           NaN   139  \n",
       "16927    CONFIRMADO      NaN      NaN           NaN   136  "
      ]
     },
     "execution_count": 32,
     "metadata": {},
     "output_type": "execute_result"
    }
   ],
   "source": [
    "df2[df2['dt_coleta_dt_notif'] == '2020-01-09']"
   ]
  },
  {
   "cell_type": "code",
   "execution_count": 17,
   "metadata": {},
   "outputs": [],
   "source": [
    "df_ts = mc.scripts.get_timeseries(df, fonte = 'estado_rj')"
   ]
  },
  {
   "cell_type": "code",
   "execution_count": 18,
   "metadata": {},
   "outputs": [
    {
     "data": {
      "text/html": [
       "<div>\n",
       "<style scoped>\n",
       "    .dataframe tbody tr th:only-of-type {\n",
       "        vertical-align: middle;\n",
       "    }\n",
       "\n",
       "    .dataframe tbody tr th {\n",
       "        vertical-align: top;\n",
       "    }\n",
       "\n",
       "    .dataframe thead th {\n",
       "        text-align: right;\n",
       "    }\n",
       "</style>\n",
       "<table border=\"1\" class=\"dataframe\">\n",
       "  <thead>\n",
       "    <tr style=\"text-align: right;\">\n",
       "      <th></th>\n",
       "      <th>Data</th>\n",
       "      <th>Japeri</th>\n",
       "      <th>Niteroi</th>\n",
       "      <th>Belford Roxo</th>\n",
       "      <th>Paraty</th>\n",
       "      <th>Duque De Caxias</th>\n",
       "      <th>Teresopolis</th>\n",
       "      <th>Nova Iguacu</th>\n",
       "      <th>Paty Do Alferes</th>\n",
       "      <th>Silva Jardim</th>\n",
       "      <th>...</th>\n",
       "      <th>Macuco</th>\n",
       "      <th>Cantagalo</th>\n",
       "      <th>Engenheiro Paulo De Frontin</th>\n",
       "      <th>Sao Jose De Uba</th>\n",
       "      <th>Cambuci</th>\n",
       "      <th>Comendador Levy Gasparian</th>\n",
       "      <th>Varre-Sai</th>\n",
       "      <th>Laje Do Muriae</th>\n",
       "      <th>Cardoso Moreira</th>\n",
       "      <th>Em Investigacao</th>\n",
       "    </tr>\n",
       "  </thead>\n",
       "  <tbody>\n",
       "    <tr>\n",
       "      <th>0</th>\n",
       "      <td>2020-01-04</td>\n",
       "      <td>1.0</td>\n",
       "      <td>0.0</td>\n",
       "      <td>0.0</td>\n",
       "      <td>0.0</td>\n",
       "      <td>0.0</td>\n",
       "      <td>0.0</td>\n",
       "      <td>0.0</td>\n",
       "      <td>0.0</td>\n",
       "      <td>0.0</td>\n",
       "      <td>...</td>\n",
       "      <td>0.0</td>\n",
       "      <td>0.0</td>\n",
       "      <td>0.0</td>\n",
       "      <td>0.0</td>\n",
       "      <td>0.0</td>\n",
       "      <td>0.0</td>\n",
       "      <td>0.0</td>\n",
       "      <td>0.0</td>\n",
       "      <td>0.0</td>\n",
       "      <td>0.0</td>\n",
       "    </tr>\n",
       "    <tr>\n",
       "      <th>39</th>\n",
       "      <td>2020-01-05</td>\n",
       "      <td>0.0</td>\n",
       "      <td>1.0</td>\n",
       "      <td>0.0</td>\n",
       "      <td>0.0</td>\n",
       "      <td>0.0</td>\n",
       "      <td>0.0</td>\n",
       "      <td>0.0</td>\n",
       "      <td>0.0</td>\n",
       "      <td>0.0</td>\n",
       "      <td>...</td>\n",
       "      <td>0.0</td>\n",
       "      <td>0.0</td>\n",
       "      <td>0.0</td>\n",
       "      <td>0.0</td>\n",
       "      <td>0.0</td>\n",
       "      <td>0.0</td>\n",
       "      <td>0.0</td>\n",
       "      <td>0.0</td>\n",
       "      <td>0.0</td>\n",
       "      <td>0.0</td>\n",
       "    </tr>\n",
       "    <tr>\n",
       "      <th>78</th>\n",
       "      <td>2020-01-08</td>\n",
       "      <td>0.0</td>\n",
       "      <td>0.0</td>\n",
       "      <td>1.0</td>\n",
       "      <td>1.0</td>\n",
       "      <td>0.0</td>\n",
       "      <td>0.0</td>\n",
       "      <td>0.0</td>\n",
       "      <td>0.0</td>\n",
       "      <td>0.0</td>\n",
       "      <td>...</td>\n",
       "      <td>0.0</td>\n",
       "      <td>0.0</td>\n",
       "      <td>0.0</td>\n",
       "      <td>0.0</td>\n",
       "      <td>0.0</td>\n",
       "      <td>0.0</td>\n",
       "      <td>0.0</td>\n",
       "      <td>0.0</td>\n",
       "      <td>0.0</td>\n",
       "      <td>0.0</td>\n",
       "    </tr>\n",
       "    <tr>\n",
       "      <th>82</th>\n",
       "      <td>2020-01-09</td>\n",
       "      <td>0.0</td>\n",
       "      <td>0.0</td>\n",
       "      <td>0.0</td>\n",
       "      <td>0.0</td>\n",
       "      <td>1.0</td>\n",
       "      <td>1.0</td>\n",
       "      <td>0.0</td>\n",
       "      <td>0.0</td>\n",
       "      <td>0.0</td>\n",
       "      <td>...</td>\n",
       "      <td>0.0</td>\n",
       "      <td>0.0</td>\n",
       "      <td>0.0</td>\n",
       "      <td>0.0</td>\n",
       "      <td>0.0</td>\n",
       "      <td>0.0</td>\n",
       "      <td>0.0</td>\n",
       "      <td>0.0</td>\n",
       "      <td>0.0</td>\n",
       "      <td>0.0</td>\n",
       "    </tr>\n",
       "    <tr>\n",
       "      <th>40</th>\n",
       "      <td>2020-01-10</td>\n",
       "      <td>0.0</td>\n",
       "      <td>1.0</td>\n",
       "      <td>0.0</td>\n",
       "      <td>0.0</td>\n",
       "      <td>0.0</td>\n",
       "      <td>0.0</td>\n",
       "      <td>1.0</td>\n",
       "      <td>0.0</td>\n",
       "      <td>0.0</td>\n",
       "      <td>...</td>\n",
       "      <td>0.0</td>\n",
       "      <td>0.0</td>\n",
       "      <td>0.0</td>\n",
       "      <td>0.0</td>\n",
       "      <td>0.0</td>\n",
       "      <td>0.0</td>\n",
       "      <td>0.0</td>\n",
       "      <td>0.0</td>\n",
       "      <td>0.0</td>\n",
       "      <td>0.0</td>\n",
       "    </tr>\n",
       "    <tr>\n",
       "      <th>...</th>\n",
       "      <td>...</td>\n",
       "      <td>...</td>\n",
       "      <td>...</td>\n",
       "      <td>...</td>\n",
       "      <td>...</td>\n",
       "      <td>...</td>\n",
       "      <td>...</td>\n",
       "      <td>...</td>\n",
       "      <td>...</td>\n",
       "      <td>...</td>\n",
       "      <td>...</td>\n",
       "      <td>...</td>\n",
       "      <td>...</td>\n",
       "      <td>...</td>\n",
       "      <td>...</td>\n",
       "      <td>...</td>\n",
       "      <td>...</td>\n",
       "      <td>...</td>\n",
       "      <td>...</td>\n",
       "      <td>...</td>\n",
       "      <td>...</td>\n",
       "    </tr>\n",
       "    <tr>\n",
       "      <th>38</th>\n",
       "      <td>2020-05-15</td>\n",
       "      <td>2.0</td>\n",
       "      <td>18.0</td>\n",
       "      <td>7.0</td>\n",
       "      <td>2.0</td>\n",
       "      <td>14.0</td>\n",
       "      <td>4.0</td>\n",
       "      <td>18.0</td>\n",
       "      <td>0.0</td>\n",
       "      <td>0.0</td>\n",
       "      <td>...</td>\n",
       "      <td>0.0</td>\n",
       "      <td>0.0</td>\n",
       "      <td>0.0</td>\n",
       "      <td>0.0</td>\n",
       "      <td>0.0</td>\n",
       "      <td>0.0</td>\n",
       "      <td>0.0</td>\n",
       "      <td>0.0</td>\n",
       "      <td>0.0</td>\n",
       "      <td>0.0</td>\n",
       "    </tr>\n",
       "    <tr>\n",
       "      <th>77</th>\n",
       "      <td>2020-05-16</td>\n",
       "      <td>0.0</td>\n",
       "      <td>5.0</td>\n",
       "      <td>0.0</td>\n",
       "      <td>0.0</td>\n",
       "      <td>0.0</td>\n",
       "      <td>0.0</td>\n",
       "      <td>2.0</td>\n",
       "      <td>0.0</td>\n",
       "      <td>0.0</td>\n",
       "      <td>...</td>\n",
       "      <td>0.0</td>\n",
       "      <td>0.0</td>\n",
       "      <td>0.0</td>\n",
       "      <td>0.0</td>\n",
       "      <td>0.0</td>\n",
       "      <td>0.0</td>\n",
       "      <td>0.0</td>\n",
       "      <td>0.0</td>\n",
       "      <td>0.0</td>\n",
       "      <td>0.0</td>\n",
       "    </tr>\n",
       "    <tr>\n",
       "      <th>103</th>\n",
       "      <td>2020-05-17</td>\n",
       "      <td>0.0</td>\n",
       "      <td>0.0</td>\n",
       "      <td>0.0</td>\n",
       "      <td>0.0</td>\n",
       "      <td>0.0</td>\n",
       "      <td>0.0</td>\n",
       "      <td>0.0</td>\n",
       "      <td>0.0</td>\n",
       "      <td>0.0</td>\n",
       "      <td>...</td>\n",
       "      <td>0.0</td>\n",
       "      <td>0.0</td>\n",
       "      <td>0.0</td>\n",
       "      <td>0.0</td>\n",
       "      <td>0.0</td>\n",
       "      <td>0.0</td>\n",
       "      <td>0.0</td>\n",
       "      <td>0.0</td>\n",
       "      <td>0.0</td>\n",
       "      <td>0.0</td>\n",
       "    </tr>\n",
       "    <tr>\n",
       "      <th>81</th>\n",
       "      <td>2020-05-18</td>\n",
       "      <td>0.0</td>\n",
       "      <td>0.0</td>\n",
       "      <td>1.0</td>\n",
       "      <td>0.0</td>\n",
       "      <td>0.0</td>\n",
       "      <td>0.0</td>\n",
       "      <td>0.0</td>\n",
       "      <td>0.0</td>\n",
       "      <td>0.0</td>\n",
       "      <td>...</td>\n",
       "      <td>0.0</td>\n",
       "      <td>0.0</td>\n",
       "      <td>0.0</td>\n",
       "      <td>0.0</td>\n",
       "      <td>0.0</td>\n",
       "      <td>0.0</td>\n",
       "      <td>0.0</td>\n",
       "      <td>0.0</td>\n",
       "      <td>0.0</td>\n",
       "      <td>0.0</td>\n",
       "    </tr>\n",
       "    <tr>\n",
       "      <th>104</th>\n",
       "      <td>2020-05-19</td>\n",
       "      <td>0.0</td>\n",
       "      <td>0.0</td>\n",
       "      <td>0.0</td>\n",
       "      <td>0.0</td>\n",
       "      <td>0.0</td>\n",
       "      <td>0.0</td>\n",
       "      <td>0.0</td>\n",
       "      <td>0.0</td>\n",
       "      <td>0.0</td>\n",
       "      <td>...</td>\n",
       "      <td>0.0</td>\n",
       "      <td>0.0</td>\n",
       "      <td>0.0</td>\n",
       "      <td>0.0</td>\n",
       "      <td>0.0</td>\n",
       "      <td>0.0</td>\n",
       "      <td>0.0</td>\n",
       "      <td>0.0</td>\n",
       "      <td>0.0</td>\n",
       "      <td>0.0</td>\n",
       "    </tr>\n",
       "  </tbody>\n",
       "</table>\n",
       "<p>106 rows × 92 columns</p>\n",
       "</div>"
      ],
      "text/plain": [
       "          Data  Japeri  Niteroi  Belford Roxo  Paraty  Duque De Caxias  \\\n",
       "0   2020-01-04     1.0      0.0           0.0     0.0              0.0   \n",
       "39  2020-01-05     0.0      1.0           0.0     0.0              0.0   \n",
       "78  2020-01-08     0.0      0.0           1.0     1.0              0.0   \n",
       "82  2020-01-09     0.0      0.0           0.0     0.0              1.0   \n",
       "40  2020-01-10     0.0      1.0           0.0     0.0              0.0   \n",
       "..         ...     ...      ...           ...     ...              ...   \n",
       "38  2020-05-15     2.0     18.0           7.0     2.0             14.0   \n",
       "77  2020-05-16     0.0      5.0           0.0     0.0              0.0   \n",
       "103 2020-05-17     0.0      0.0           0.0     0.0              0.0   \n",
       "81  2020-05-18     0.0      0.0           1.0     0.0              0.0   \n",
       "104 2020-05-19     0.0      0.0           0.0     0.0              0.0   \n",
       "\n",
       "     Teresopolis  Nova Iguacu  Paty Do Alferes  Silva Jardim  ...  Macuco  \\\n",
       "0            0.0          0.0              0.0           0.0  ...     0.0   \n",
       "39           0.0          0.0              0.0           0.0  ...     0.0   \n",
       "78           0.0          0.0              0.0           0.0  ...     0.0   \n",
       "82           1.0          0.0              0.0           0.0  ...     0.0   \n",
       "40           0.0          1.0              0.0           0.0  ...     0.0   \n",
       "..           ...          ...              ...           ...  ...     ...   \n",
       "38           4.0         18.0              0.0           0.0  ...     0.0   \n",
       "77           0.0          2.0              0.0           0.0  ...     0.0   \n",
       "103          0.0          0.0              0.0           0.0  ...     0.0   \n",
       "81           0.0          0.0              0.0           0.0  ...     0.0   \n",
       "104          0.0          0.0              0.0           0.0  ...     0.0   \n",
       "\n",
       "     Cantagalo  Engenheiro Paulo De Frontin  Sao Jose De Uba  Cambuci  \\\n",
       "0          0.0                          0.0              0.0      0.0   \n",
       "39         0.0                          0.0              0.0      0.0   \n",
       "78         0.0                          0.0              0.0      0.0   \n",
       "82         0.0                          0.0              0.0      0.0   \n",
       "40         0.0                          0.0              0.0      0.0   \n",
       "..         ...                          ...              ...      ...   \n",
       "38         0.0                          0.0              0.0      0.0   \n",
       "77         0.0                          0.0              0.0      0.0   \n",
       "103        0.0                          0.0              0.0      0.0   \n",
       "81         0.0                          0.0              0.0      0.0   \n",
       "104        0.0                          0.0              0.0      0.0   \n",
       "\n",
       "     Comendador Levy Gasparian  Varre-Sai  Laje Do Muriae  Cardoso Moreira  \\\n",
       "0                          0.0        0.0             0.0              0.0   \n",
       "39                         0.0        0.0             0.0              0.0   \n",
       "78                         0.0        0.0             0.0              0.0   \n",
       "82                         0.0        0.0             0.0              0.0   \n",
       "40                         0.0        0.0             0.0              0.0   \n",
       "..                         ...        ...             ...              ...   \n",
       "38                         0.0        0.0             0.0              0.0   \n",
       "77                         0.0        0.0             0.0              0.0   \n",
       "103                        0.0        0.0             0.0              0.0   \n",
       "81                         0.0        0.0             0.0              0.0   \n",
       "104                        0.0        0.0             0.0              0.0   \n",
       "\n",
       "     Em Investigacao  \n",
       "0                0.0  \n",
       "39               0.0  \n",
       "78               0.0  \n",
       "82               0.0  \n",
       "40               0.0  \n",
       "..               ...  \n",
       "38               0.0  \n",
       "77               0.0  \n",
       "103              0.0  \n",
       "81               0.0  \n",
       "104              0.0  \n",
       "\n",
       "[106 rows x 92 columns]"
      ]
     },
     "execution_count": 18,
     "metadata": {},
     "output_type": "execute_result"
    }
   ],
   "source": [
    "df_ts"
   ]
  },
  {
   "cell_type": "code",
   "execution_count": 23,
   "metadata": {},
   "outputs": [
    {
     "data": {
      "text/plain": [
       "0     2020-01-04\n",
       "39    2020-01-05\n",
       "78    2020-01-08\n",
       "82    2020-01-09\n",
       "40    2020-01-10\n",
       "83    2020-01-13\n",
       "88    2020-01-16\n",
       "90    2020-01-27\n",
       "91    2020-01-29\n",
       "85    2020-02-03\n",
       "93    2020-02-04\n",
       "97    2020-02-06\n",
       "94    2020-02-09\n",
       "98    2020-02-10\n",
       "99    2020-02-11\n",
       "41    2020-02-13\n",
       "42    2020-02-17\n",
       "95    2020-02-18\n",
       "89    2020-02-19\n",
       "101   2020-02-20\n",
       "Name: Data, dtype: datetime64[ns]"
      ]
     },
     "execution_count": 23,
     "metadata": {},
     "output_type": "execute_result"
    }
   ],
   "source": [
    "df_ts['Data'].head(20)"
   ]
  },
  {
   "cell_type": "code",
   "execution_count": null,
   "metadata": {},
   "outputs": [],
   "source": []
  }
 ],
 "metadata": {
  "kernelspec": {
   "display_name": "Python 3",
   "language": "python",
   "name": "python3"
  },
  "language_info": {
   "codemirror_mode": {
    "name": "ipython",
    "version": 3
   },
   "file_extension": ".py",
   "mimetype": "text/x-python",
   "name": "python",
   "nbconvert_exporter": "python",
   "pygments_lexer": "ipython3",
   "version": "3.7.6"
  }
 },
 "nbformat": 4,
 "nbformat_minor": 4
}
