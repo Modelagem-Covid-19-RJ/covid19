{
 "cells": [
  {
   "cell_type": "markdown",
   "metadata": {},
   "source": [
    "# Modelo de Jia et al."
   ]
  },
  {
   "cell_type": "markdown",
   "metadata": {},
   "source": [
    "$$ \\begin{align*}\n",
    "\\frac{dS}{dt} & = - \\beta S (I + \\theta A) - p S + \\lambda Q\n",
    "              &&= - \\beta S I  -  \\phi S A - p S + \\lambda Q \\\\\n",
    "\\frac{dQ}{dt} & = p S - \\lambda Q \\\\\n",
    "\\frac{dE}{dt} & =   \\beta S (I + \\theta A) - \\sigma E\n",
    "              &&=   \\beta S I  +  \\phi S A - \\sigma E \\\\\n",
    "\\frac{dA}{dt} & = \\sigma (1 - \\rho) E - \\epsilon_A A - \\gamma_A A\n",
    "              &&= (\\sigma - \\zeta) E  - \\epsilon_A A - \\gamma_A A \\\\\n",
    "\\frac{dI}{dt} & = \\sigma \\rho E - \\epsilon_I I - \\gamma_I I - d_I I\n",
    "              &&=       \\zeta E - \\epsilon_I I - \\gamma_I I - d_I I \\\\\n",
    "\\frac{dD}{dt} & = \\epsilon_A A + \\epsilon_I I - \\gamma_D D - d_D D \\\\\n",
    "\\frac{dR}{dt} & = \\gamma_A A + \\gamma_I I + \\gamma_D D\n",
    "\\end{align*} $$"
   ]
  },
  {
   "cell_type": "markdown",
   "metadata": {},
   "source": [
    "## Modelo em python\n",
    "\n",
    "Separado em uma biblioteca dedicada, `jia.py`."
   ]
  },
  {
   "cell_type": "code",
   "execution_count": 1,
   "metadata": {},
   "outputs": [],
   "source": [
    "import git\n",
    "import sys\n",
    "\n",
    "root_dir = git.Repo('.', search_parent_directories=True).working_tree_dir\n",
    "sys.path.insert(1, root_dir)"
   ]
  },
  {
   "cell_type": "markdown",
   "metadata": {},
   "source": [
    "## Imports de dependências"
   ]
  },
  {
   "cell_type": "code",
   "execution_count": 2,
   "metadata": {},
   "outputs": [],
   "source": [
    "import modcovid as mc\n",
    "from modcovid import scripts, settings"
   ]
  },
  {
   "cell_type": "code",
   "execution_count": 3,
   "metadata": {},
   "outputs": [],
   "source": [
    "from jia import multi_regime, F, new_diagn, new_deaths"
   ]
  },
  {
   "cell_type": "code",
   "execution_count": 4,
   "metadata": {},
   "outputs": [],
   "source": [
    "import unidecode\n",
    "import matplotlib.pyplot as plt\n",
    "import numpy as np\n",
    "from scipy.integrate import solve_ivp\n",
    "import pandas as pd\n",
    "\n",
    "import matplotlib.ticker as mticker\n",
    "import matplotlib.dates as mdates\n",
    "import datetime as dt"
   ]
  },
  {
   "cell_type": "markdown",
   "metadata": {},
   "source": [
    "## Definindo os municípios e salvando em um dicionário"
   ]
  },
  {
   "cell_type": "code",
   "execution_count": 5,
   "metadata": {},
   "outputs": [],
   "source": [
    "cidades = ['Niteroi', 'Campos Dos Goytacazes', 'Teresopolis', 'Duque De Caxias', 'Angra Dos Reis', 'Volta Redonda', 'Cabo Frio']\n",
    "dados = {k: {} for k in cidades}"
   ]
  },
  {
   "cell_type": "markdown",
   "metadata": {},
   "source": [
    "## Criando os DataFrames de Casos e População, e extraindo série Temporal"
   ]
  },
  {
   "cell_type": "code",
   "execution_count": 6,
   "metadata": {},
   "outputs": [],
   "source": [
    "df_pop = pd.read_csv(f'{root_dir}/dados/RJ/estado_rj/dados_estatisticos/pop_ERJ.csv')\n",
    "df_pop['Municipio'] = [unidecode.unidecode(str(m).title()) for m in df_pop['Municipio']]"
   ]
  },
  {
   "cell_type": "code",
   "execution_count": 7,
   "metadata": {},
   "outputs": [],
   "source": [
    "df = mc.scripts.set_df('estado_rj', {'df_break': False}) ## Pegando os dados do CSV do Estado"
   ]
  },
  {
   "cell_type": "code",
   "execution_count": 8,
   "metadata": {},
   "outputs": [],
   "source": [
    "df.dropna(subset = ['Municipio'], inplace = True) ## Ignorar casos onde Municipio = NaN\n",
    "df_work = df[df['Municipio'].str.contains('|'.join(cidades))] ## subconjunto do DF dos municipios selecionados\n",
    "df_ts = mc.scripts.get_timeseries(df_work, fonte = 'estado_rj', ret_acumul = True) ## Extraindo série temporal dos municipio"
   ]
  },
  {
   "cell_type": "code",
   "execution_count": 9,
   "metadata": {},
   "outputs": [],
   "source": [
    "T_Start = '17/03/2020' ## Definindo o primeiro dia da série a ser pega\n",
    "for i in range(len(df_ts)):\n",
    "    df_ts[i] = df_ts[i].loc[df_ts[i].loc[:,'Data'] > T_Start, :] ## Subconjunto da TS, começando de Data = T_Start\n",
    "    df_ts[i]['Data'] = df_ts[i]['Data'].dt.strftime('%d/%m/%Y') ## Datas em formato legivel"
   ]
  },
  {
   "cell_type": "code",
   "execution_count": 10,
   "metadata": {},
   "outputs": [],
   "source": [
    "df_ts_novos = df_ts[0]\n",
    "df_ts_acumul = df_ts[1]"
   ]
  },
  {
   "cell_type": "code",
   "execution_count": 22,
   "metadata": {},
   "outputs": [],
   "source": [
    "datas = df_ts_novos['Data']"
   ]
  },
  {
   "cell_type": "markdown",
   "metadata": {},
   "source": [
    "# Niterói"
   ]
  },
  {
   "cell_type": "markdown",
   "metadata": {},
   "source": [
    "## Dados iniciais para Niterói\n",
    "\n",
    "Usamos uma taxa de subnotificação de 8x, e uma taxa de exposição de 7x a população diagnosticada,\n",
    "o que aproxima de forma bastante razoável a curva de diagnósticos e de óbitos.\n",
    "\n",
    "Também é necessário estimar a taxa de assintomáticos nesta população,\n",
    "que é maior do que para a doença já que a prioridade dos testes\n",
    "é para aqueles que apresentaram sintomas mais graves."
   ]
  },
  {
   "cell_type": "code",
   "execution_count": 11,
   "metadata": {},
   "outputs": [],
   "source": [
    "cidade_atual = 'Niteroi'"
   ]
  },
  {
   "cell_type": "code",
   "execution_count": 12,
   "metadata": {},
   "outputs": [],
   "source": [
    "# Taxa de subnotificação\n",
    "taxa = {'taxa_subn': 8, 'prop_assint':0.80}\n",
    "dados[cidade_atual].update(taxa)"
   ]
  },
  {
   "cell_type": "code",
   "execution_count": 26,
   "metadata": {},
   "outputs": [],
   "source": [
    "# Dados para o Municipio\n",
    "\n",
    "pop = int(df_pop[df_pop['Municipio'] == cidade_atual]['Dados'].values)\n",
    "\n",
    "diagnosticados = 489\n",
    "recuperados = 16\n",
    "infectados = diagnosticados*(dados[cidade_atual]['taxa_subn']-1)*(1 - dados[cidade_atual]['prop_assint'])\n",
    "assintomaticos = diagnosticados*(dados[cidade_atual]['taxa_subn']-1)*dados[cidade_atual]['prop_assint']\n",
    "expostos = diagnosticados*7\n",
    "quarentena = 0.6 * pop\n",
    "\n",
    "sucetiveis = pop - (quarentena + expostos + assintomaticos + infectados + diagnosticados + recuperados)\n",
    "\n",
    "dados[cidade_atual].update({'pop': pop, 'sucetiveis': sucetiveis, 'diagnosticados': diagnosticados, 'recuperados': recuperados, 'infectados': infectados, 'assintomaticos': assintomaticos, 'expostos': expostos, 'quarentena': quarentena})"
   ]
  },
  {
   "cell_type": "code",
   "execution_count": 58,
   "metadata": {},
   "outputs": [],
   "source": [
    "tx = 6.7e6/pop"
   ]
  },
  {
   "cell_type": "code",
   "execution_count": 59,
   "metadata": {},
   "outputs": [],
   "source": [
    "# Idx       :         0,    1,   2,      3,     4,    5,     6,      7,    8,      9,     10,     11,     12\n",
    "# Parâmetros:      beta,  phi,   p, lambda, sigma, zeta,  epsA, gammaA, epsI, gammaI, deathI, gammaD, deathD\n",
    "params_name = ['beta', 'phi', 'p', 'lambda','sigma', 'zeta', 'epsA', 'gammaA', 'epsI', 'gammaI', 'deathI', 'gammaD', 'deathD']\n",
    "params = (1e-7, 1/10, 1/4,    1/6,   1/7, 0.94, 1/100, 0.0996, 1/30, 0.0766, 0.0026, 0.0843, 0.0017)"
   ]
  },
  {
   "cell_type": "code",
   "execution_count": 60,
   "metadata": {},
   "outputs": [],
   "source": [
    "dados[cidade_atual].update({'params': {k: v for k,v in zip(params_name, params)}}) ## Adicionando os parametros ao dicionario"
   ]
  },
  {
   "cell_type": "code",
   "execution_count": 61,
   "metadata": {},
   "outputs": [],
   "source": [
    "T_Fim = len(datas)"
   ]
  },
  {
   "cell_type": "code",
   "execution_count": 62,
   "metadata": {},
   "outputs": [],
   "source": [
    "CI = [dados[cidade_atual]['sucetiveis'],dados[cidade_atual]['quarentena'], dados[cidade_atual]['expostos'], dados[cidade_atual]['assintomaticos'], dados[cidade_atual]['infectados'], dados[cidade_atual]['diagnosticados'], dados[cidade_atual]['recuperados']]"
   ]
  },
  {
   "cell_type": "code",
   "execution_count": 66,
   "metadata": {},
   "outputs": [],
   "source": [
    "params = [v for v in dados[cidade_atual]['params'].values()]"
   ]
  },
  {
   "cell_type": "code",
   "execution_count": 67,
   "metadata": {},
   "outputs": [],
   "source": [
    "# Supondo mantida a quarentena\n",
    "f_base = lambda t,v: F(t,v, *params)\n",
    "results_base = solve_ivp(f_base, (1,T_Fim), CI, t_eval=range(1,T_Fim+1))"
   ]
  },
  {
   "cell_type": "code",
   "execution_count": 68,
   "metadata": {},
   "outputs": [
    {
     "data": {
      "image/png": "[encoded data removed]",
      "text/plain": [
       "<Figure size 1080x360 with 2 Axes>"
      ]
     },
     "metadata": {
      "needs_background": "light"
     },
     "output_type": "display_data"
    }
   ],
   "source": [
    "fig, (ax1,ax2) = plt.subplots(ncols=2, figsize=(15,5))\n",
    "\n",
    "diagn = new_diagn(results_base.y, params)\n",
    "ax1.plot(datas, diagn,        'o:', label='Modelo')\n",
    "ax1.plot(datas, df_ts_novos[cidade_atual].values, 'x-', label='Observado')\n",
    "# ax1.xaxis.set_major_formatter(mdates.DateFormatter('%d/%m'))\n",
    "ax1.grid()\n",
    "ax1.legend()\n",
    "ax1.set_title('Novos diagnósticos')\n",
    "plt.show()"
   ]
  },
  {
   "cell_type": "code",
   "execution_count": null,
   "metadata": {},
   "outputs": [],
   "source": []
  }
 ],
 "metadata": {
  "kernelspec": {
   "display_name": "Python 3",
   "language": "python",
   "name": "python3"
  },
  "language_info": {
   "codemirror_mode": {
    "name": "ipython",
    "version": 3
   },
   "file_extension": ".py",
   "mimetype": "text/x-python",
   "name": "python",
   "nbconvert_exporter": "python",
   "pygments_lexer": "ipython3",
   "version": "3.7.6"
  }
 },
 "nbformat": 4,
 "nbformat_minor": 4
}
