{
 "cells": [
  {
   "cell_type": "code",
   "execution_count": 1,
   "metadata": {},
   "outputs": [],
   "source": [
    "import numpy as np\n",
    "import pandas as pd\n",
    "import plotly.express as px\n",
    "import plotly.graph_objects as go\n",
    "import json\n",
    "import datetime as dt\n",
    "import matplotlib.dates as mdates\n",
    "import unidecode\n",
    "from plotly.subplots import make_subplots\n",
    "from get_data import read_data, get_data, download_csv\n",
    "import matplotlib.pyplot as plt\n",
    "from mpl_toolkits.axes_grid1 import make_axes_locatable\n",
    "import geopandas as gpd"
   ]
  },
  {
   "cell_type": "markdown",
   "metadata": {},
   "source": [
    "## Primeiro, fazemos os plots em Matplotlib:"
   ]
  },
  {
   "cell_type": "code",
   "execution_count": 2,
   "metadata": {},
   "outputs": [],
   "source": [
    "import git\n",
    "import sys\n",
    "\n",
    "root_dir = git.Repo('.', search_parent_directories=True).working_tree_dir\n",
    "sys.path.insert(1, root_dir)"
   ]
  },
  {
   "cell_type": "code",
   "execution_count": 3,
   "metadata": {},
   "outputs": [],
   "source": [
    "dados_covid_rj = pd.read_csv(f'{root_dir}/dados/RJ/cidade_rj/dados_covid/Dados_indiv_MRJ_covid19.csv', delimiter = ';')\n",
    "dados_covid_rj = read_data(dados_covid_rj, 'prefeitura')\n"
   ]
  },
  {
   "cell_type": "code",
   "execution_count": 4,
   "metadata": {},
   "outputs": [],
   "source": [
    "dados_covid_rj = dados_covid_rj.drop(columns = ['Faixa Etaria', 'Data_atualização'])"
   ]
  },
  {
   "cell_type": "code",
   "execution_count": 5,
   "metadata": {},
   "outputs": [],
   "source": [
    "dados_covid_rj['AP Residência'].replace({'#N/D':'3.1'}, inplace = True)\n",
    "dados_covid_rj['Bairro'].replace({'COMPLEXO DA MARE': 'MARE'}, inplace = True)"
   ]
  },
  {
   "cell_type": "code",
   "execution_count": 6,
   "metadata": {},
   "outputs": [],
   "source": [
    "dados_pop_rj = pd.read_csv('pop_Bairros.csv', encoding = 'ISO-8859-1')\n",
    "dados_pop_rj['NOME'] = [unidecode.unidecode(x.upper().strip()) for x in list(dados_pop_rj['NOME'])]\n",
    "dados_covid_rj = dados_covid_rj[dados_covid_rj['Bairro'] != 'INDEFINIDO']\n",
    "dados_covid_rj = dados_covid_rj[dados_covid_rj['Bairro'] != 'FORA DO MUNICÍPIO']"
   ]
  },
  {
   "cell_type": "code",
   "execution_count": 7,
   "metadata": {},
   "outputs": [],
   "source": [
    "lst_bairros = dados_covid_rj['Bairro'].unique()"
   ]
  },
  {
   "cell_type": "code",
   "execution_count": 8,
   "metadata": {},
   "outputs": [],
   "source": [
    "data_start = '15-03-2020'\n",
    "data_end = '03-05-2020'\n",
    "start = dt.datetime.strptime(data_start, \"%d-%m-%Y\")\n",
    "then = dt.datetime.strptime(data_end, \"%d-%m-%Y\")\n",
    "days = mdates.drange(start,then,dt.timedelta(days=1))\n",
    "dias = [str(mdates.num2date(v)).split(' ')[0] for v in days]"
   ]
  },
  {
   "cell_type": "code",
   "execution_count": 9,
   "metadata": {},
   "outputs": [],
   "source": [
    "lst_dic = {}\n",
    "for b in lst_bairros:\n",
    "    lst_dic.update({b: get_data(b, dados_covid_rj, 'prefeitura', T_fim = data_end, T_start = data_start, to_print = False)})"
   ]
  },
  {
   "cell_type": "code",
   "execution_count": 10,
   "metadata": {},
   "outputs": [],
   "source": [
    "#get_data('BARRA DA TIJUCA', dados_covid_rj, 'prefeitura', T_start = data_start, T_fim = data_end)"
   ]
  },
  {
   "cell_type": "code",
   "execution_count": 11,
   "metadata": {},
   "outputs": [],
   "source": [
    "lst_acul = []"
   ]
  },
  {
   "cell_type": "code",
   "execution_count": 12,
   "metadata": {},
   "outputs": [],
   "source": [
    "dic_acum = {'Data': dias}"
   ]
  },
  {
   "cell_type": "code",
   "execution_count": 13,
   "metadata": {},
   "outputs": [],
   "source": [
    "dic_acum.update({b: lst_dic[b][0] for b in lst_bairros})"
   ]
  },
  {
   "cell_type": "code",
   "execution_count": 14,
   "metadata": {},
   "outputs": [],
   "source": [
    "df_acum = pd.DataFrame.from_dict(dic_acum)"
   ]
  },
  {
   "cell_type": "code",
   "execution_count": 15,
   "metadata": {},
   "outputs": [],
   "source": [
    "dic_novos = {'Data': dias}"
   ]
  },
  {
   "cell_type": "code",
   "execution_count": 16,
   "metadata": {},
   "outputs": [],
   "source": [
    "dic_novos.update({b: lst_dic[b][1] for b in lst_bairros})"
   ]
  },
  {
   "cell_type": "code",
   "execution_count": 17,
   "metadata": {},
   "outputs": [],
   "source": [
    "df_novos = pd.DataFrame.from_dict(dic_novos)"
   ]
  },
  {
   "cell_type": "code",
   "execution_count": 18,
   "metadata": {},
   "outputs": [],
   "source": [
    "n_semanas = 6\n",
    "\n",
    "listas_semanas_acumul =[[] for i in range(n_semanas)]\n",
    "\n",
    "lst_novos = [[] for i in range(n_semanas)]\n",
    "for b in lst_bairros:\n",
    "    b_novos = get_data(df = dados_covid_rj, local = b, fonte = 'prefeitura', T_fim = data_end, T_start = data_start, to_print = False)[1]\n",
    "    \n",
    "    for j,l in enumerate(listas_semanas_acumul):\n",
    "        l.append(get_data(df = dados_covid_rj, local = b, fonte = 'prefeitura', T_fim = data_end, T_start = data_start, to_print = False)[0][-7*j-1])\n",
    "        lst_novos[j].append(sum(b_novos[7*j:7*(j+1) - 1]))\n",
    "        #b_por_semanas = [sum(b_novos[7*i:7*(i+1) - 1]) for i in range(n_semanas)]"
   ]
  },
  {
   "cell_type": "code",
   "execution_count": 19,
   "metadata": {},
   "outputs": [],
   "source": [
    "dic_covid = {'Acumulados semana '+str(n_semanas-j): listas_semanas_acumul[j] for j in range(n_semanas)}\n",
    "dic_covid.update({'Bairros': lst_bairros})\n",
    "dic_covid.update({'Novos semana '+str(j+1): lst_novos[j] for j in range(n_semanas)})\n",
    "df = pd.DataFrame.from_dict(dic_covid)"
   ]
  },
  {
   "cell_type": "code",
   "execution_count": 191,
   "metadata": {},
   "outputs": [],
   "source": [
    "#df"
   ]
  },
  {
   "cell_type": "code",
   "execution_count": 188,
   "metadata": {},
   "outputs": [],
   "source": [
    "#lst_novos"
   ]
  },
  {
   "cell_type": "code",
   "execution_count": 235,
   "metadata": {},
   "outputs": [],
   "source": [
    "#dados_pop_rj"
   ]
  },
  {
   "cell_type": "code",
   "execution_count": 20,
   "metadata": {},
   "outputs": [],
   "source": [
    "lst = dados_pop_rj['NOME'].values\n",
    "lst = [unidecode.unidecode(b.upper().strip()) for b in lst]"
   ]
  },
  {
   "cell_type": "code",
   "execution_count": 237,
   "metadata": {},
   "outputs": [],
   "source": [
    "#dados_covid_rj"
   ]
  },
  {
   "cell_type": "code",
   "execution_count": 197,
   "metadata": {},
   "outputs": [],
   "source": [
    "#lst_bairros.remove('FORA DO MUNICÍPIO')"
   ]
  },
  {
   "cell_type": "code",
   "execution_count": null,
   "metadata": {},
   "outputs": [],
   "source": [
    "#dados_certos = dados_covid_rj.drop(index = 3651) # nessa linha, há um erro nos dados"
   ]
  },
  {
   "cell_type": "code",
   "execution_count": 198,
   "metadata": {},
   "outputs": [],
   "source": [
    "#err_tij = dados_covid_rj[dados_covid_rj['Bairro'] == 'TIJUCA']['Data'].tail(15)"
   ]
  },
  {
   "cell_type": "code",
   "execution_count": 74,
   "metadata": {},
   "outputs": [],
   "source": [
    "#df_acum.to_csv('TS_MRJ_03-05_Acumul.csv', index = False)"
   ]
  },
  {
   "cell_type": "code",
   "execution_count": 75,
   "metadata": {},
   "outputs": [],
   "source": [
    "#df_novos.to_csv('TS_MRJ_03-05_Novos.csv', index = False)"
   ]
  },
  {
   "cell_type": "code",
   "execution_count": 21,
   "metadata": {},
   "outputs": [
    {
     "data": {
      "text/plain": [
       "0"
      ]
     },
     "execution_count": 21,
     "metadata": {},
     "output_type": "execute_result"
    }
   ],
   "source": [
    "list(dados_pop_rj['NOME']).index('ABOLICAO')"
   ]
  },
  {
   "cell_type": "code",
   "execution_count": 53,
   "metadata": {},
   "outputs": [],
   "source": [
    "# mudando os nomes para ficarem com o mesmo padrão:\n",
    "new_names = []\n",
    "for nome in dados_pop_rj['NOME']:\n",
    "    if nome == 'FREGUESIA (JACAREPAGUA)':\n",
    "        nome = 'FREGUESIA-JPA'\n",
    "        #print('a')\n",
    "    if nome == 'FREGUESIA (ILHA)':\n",
    "        nome  = 'FREGUESIA-ILHA'\n",
    "        #print('b')\n",
    "    new_names.append(nome)\n",
    "    \n",
    "dados_pop_rj['NOME'] = new_names    "
   ]
  },
  {
   "cell_type": "code",
   "execution_count": 54,
   "metadata": {},
   "outputs": [
    {
     "ename": "ValueError",
     "evalue": "'CAVALCANTE' is not in list",
     "output_type": "error",
     "traceback": [
      "\u001b[1;31m---------------------------------------------------------------------------\u001b[0m",
      "\u001b[1;31mValueError\u001b[0m                                Traceback (most recent call last)",
      "\u001b[1;32m<ipython-input-54-98717ae464bb>\u001b[0m in \u001b[0;36m<module>\u001b[1;34m\u001b[0m\n\u001b[1;32m----> 1\u001b[1;33m \u001b[0mpop_nomes\u001b[0m \u001b[1;33m=\u001b[0m \u001b[1;33m[\u001b[0m\u001b[0mdados_pop_rj\u001b[0m\u001b[1;33m[\u001b[0m\u001b[1;34m'poptotal'\u001b[0m\u001b[1;33m]\u001b[0m\u001b[1;33m[\u001b[0m\u001b[0mlist\u001b[0m\u001b[1;33m(\u001b[0m\u001b[0mdados_pop_rj\u001b[0m\u001b[1;33m[\u001b[0m\u001b[1;34m'NOME'\u001b[0m\u001b[1;33m]\u001b[0m\u001b[1;33m)\u001b[0m\u001b[1;33m.\u001b[0m\u001b[0mindex\u001b[0m\u001b[1;33m(\u001b[0m\u001b[0mb\u001b[0m\u001b[1;33m)\u001b[0m\u001b[1;33m]\u001b[0m \u001b[1;32mfor\u001b[0m \u001b[0mb\u001b[0m \u001b[1;32min\u001b[0m \u001b[0mdados_covid_rj\u001b[0m\u001b[1;33m[\u001b[0m\u001b[1;34m'Bairro'\u001b[0m\u001b[1;33m]\u001b[0m\u001b[1;33m]\u001b[0m\u001b[1;33m\u001b[0m\u001b[0m\n\u001b[0m\u001b[0;32m      2\u001b[0m \u001b[1;33m\u001b[0m\u001b[0m\n",
      "\u001b[1;32m<ipython-input-54-98717ae464bb>\u001b[0m in \u001b[0;36m<listcomp>\u001b[1;34m(.0)\u001b[0m\n\u001b[1;32m----> 1\u001b[1;33m \u001b[0mpop_nomes\u001b[0m \u001b[1;33m=\u001b[0m \u001b[1;33m[\u001b[0m\u001b[0mdados_pop_rj\u001b[0m\u001b[1;33m[\u001b[0m\u001b[1;34m'poptotal'\u001b[0m\u001b[1;33m]\u001b[0m\u001b[1;33m[\u001b[0m\u001b[0mlist\u001b[0m\u001b[1;33m(\u001b[0m\u001b[0mdados_pop_rj\u001b[0m\u001b[1;33m[\u001b[0m\u001b[1;34m'NOME'\u001b[0m\u001b[1;33m]\u001b[0m\u001b[1;33m)\u001b[0m\u001b[1;33m.\u001b[0m\u001b[0mindex\u001b[0m\u001b[1;33m(\u001b[0m\u001b[0mb\u001b[0m\u001b[1;33m)\u001b[0m\u001b[1;33m]\u001b[0m \u001b[1;32mfor\u001b[0m \u001b[0mb\u001b[0m \u001b[1;32min\u001b[0m \u001b[0mdados_covid_rj\u001b[0m\u001b[1;33m[\u001b[0m\u001b[1;34m'Bairro'\u001b[0m\u001b[1;33m]\u001b[0m\u001b[1;33m]\u001b[0m\u001b[1;33m\u001b[0m\u001b[0m\n\u001b[0m\u001b[0;32m      2\u001b[0m \u001b[1;33m\u001b[0m\u001b[0m\n",
      "\u001b[1;31mValueError\u001b[0m: 'CAVALCANTE' is not in list"
     ]
    }
   ],
   "source": [
    "pop_nomes = [dados_pop_rj['poptotal'][list(dados_pop_rj['NOME']).index(b)] for b in dados_covid_rj['Bairro']]\n",
    "    "
   ]
  },
  {
   "cell_type": "code",
   "execution_count": 52,
   "metadata": {},
   "outputs": [
    {
     "data": {
      "text/html": [
       "<div>\n",
       "<style scoped>\n",
       "    .dataframe tbody tr th:only-of-type {\n",
       "        vertical-align: middle;\n",
       "    }\n",
       "\n",
       "    .dataframe tbody tr th {\n",
       "        vertical-align: top;\n",
       "    }\n",
       "\n",
       "    .dataframe thead th {\n",
       "        text-align: right;\n",
       "    }\n",
       "</style>\n",
       "<table border=\"1\" class=\"dataframe\">\n",
       "  <thead>\n",
       "    <tr style=\"text-align: right;\">\n",
       "      <th></th>\n",
       "      <th>NOME</th>\n",
       "      <th>poptotal</th>\n",
       "      <th>CODBAIRRO</th>\n",
       "      <th>REGIAO_ADM</th>\n",
       "      <th>CODRA</th>\n",
       "      <th>AREA_PLANE</th>\n",
       "      <th>RP</th>\n",
       "      <th>Cod_RP</th>\n",
       "    </tr>\n",
       "  </thead>\n",
       "  <tbody>\n",
       "    <tr>\n",
       "      <th>51</th>\n",
       "      <td>FREGUESIA (ILHA)</td>\n",
       "      <td>19437</td>\n",
       "      <td>98</td>\n",
       "      <td>ILHA DO GOVERNADOR</td>\n",
       "      <td>20</td>\n",
       "      <td>3</td>\n",
       "      <td>Ilha do Governador</td>\n",
       "      <td>3.7</td>\n",
       "    </tr>\n",
       "  </tbody>\n",
       "</table>\n",
       "</div>"
      ],
      "text/plain": [
       "                NOME  poptotal  CODBAIRRO                REGIAO_ADM  CODRA  \\\n",
       "51  FREGUESIA (ILHA)     19437         98  ILHA DO GOVERNADOR           20   \n",
       "\n",
       "    AREA_PLANE                  RP  Cod_RP  \n",
       "51           3  Ilha do Governador     3.7  "
      ]
     },
     "execution_count": 52,
     "metadata": {},
     "output_type": "execute_result"
    }
   ],
   "source": [
    "dados_pop_rj[dados_pop_rj['NOME'] == 'FREGUESIA (ILHA)']"
   ]
  },
  {
   "cell_type": "code",
   "execution_count": 36,
   "metadata": {},
   "outputs": [
    {
     "data": {
      "text/html": [
       "<div>\n",
       "<style scoped>\n",
       "    .dataframe tbody tr th:only-of-type {\n",
       "        vertical-align: middle;\n",
       "    }\n",
       "\n",
       "    .dataframe tbody tr th {\n",
       "        vertical-align: top;\n",
       "    }\n",
       "\n",
       "    .dataframe thead th {\n",
       "        text-align: right;\n",
       "    }\n",
       "</style>\n",
       "<table border=\"1\" class=\"dataframe\">\n",
       "  <thead>\n",
       "    <tr style=\"text-align: right;\">\n",
       "      <th></th>\n",
       "      <th>Data</th>\n",
       "      <th>Bairro</th>\n",
       "      <th>AP Residência</th>\n",
       "      <th>Situação atual</th>\n",
       "    </tr>\n",
       "  </thead>\n",
       "  <tbody>\n",
       "    <tr>\n",
       "      <th>155</th>\n",
       "      <td>12/04/2020</td>\n",
       "      <td>FREGUESIA-ILHA</td>\n",
       "      <td>3.1</td>\n",
       "      <td>recuperado</td>\n",
       "    </tr>\n",
       "    <tr>\n",
       "      <th>307</th>\n",
       "      <td>NaN</td>\n",
       "      <td>FREGUESIA-ILHA</td>\n",
       "      <td>3.1</td>\n",
       "      <td>recuperado</td>\n",
       "    </tr>\n",
       "    <tr>\n",
       "      <th>353</th>\n",
       "      <td>18/04/2020</td>\n",
       "      <td>FREGUESIA-ILHA</td>\n",
       "      <td>3.1</td>\n",
       "      <td>recuperado</td>\n",
       "    </tr>\n",
       "    <tr>\n",
       "      <th>368</th>\n",
       "      <td>25/04/2020</td>\n",
       "      <td>FREGUESIA-ILHA</td>\n",
       "      <td>3.1</td>\n",
       "      <td>recuperado</td>\n",
       "    </tr>\n",
       "    <tr>\n",
       "      <th>440</th>\n",
       "      <td>12/04/2020</td>\n",
       "      <td>FREGUESIA-ILHA</td>\n",
       "      <td>3.1</td>\n",
       "      <td>recuperado</td>\n",
       "    </tr>\n",
       "    <tr>\n",
       "      <th>485</th>\n",
       "      <td>25/03/2020</td>\n",
       "      <td>FREGUESIA-ILHA</td>\n",
       "      <td>3.1</td>\n",
       "      <td>recuperado</td>\n",
       "    </tr>\n",
       "    <tr>\n",
       "      <th>620</th>\n",
       "      <td>26/04/2020</td>\n",
       "      <td>FREGUESIA-ILHA</td>\n",
       "      <td>3.1</td>\n",
       "      <td>recuperado</td>\n",
       "    </tr>\n",
       "    <tr>\n",
       "      <th>653</th>\n",
       "      <td>14/04/2020</td>\n",
       "      <td>FREGUESIA-ILHA</td>\n",
       "      <td>3.1</td>\n",
       "      <td>recuperado</td>\n",
       "    </tr>\n",
       "    <tr>\n",
       "      <th>984</th>\n",
       "      <td>24/04/2020</td>\n",
       "      <td>FREGUESIA-ILHA</td>\n",
       "      <td>3.1</td>\n",
       "      <td>recuperado</td>\n",
       "    </tr>\n",
       "    <tr>\n",
       "      <th>2349</th>\n",
       "      <td>14/04/2020</td>\n",
       "      <td>FREGUESIA-ILHA</td>\n",
       "      <td>3.1</td>\n",
       "      <td>recuperado</td>\n",
       "    </tr>\n",
       "    <tr>\n",
       "      <th>2385</th>\n",
       "      <td>12/04/2020</td>\n",
       "      <td>FREGUESIA-ILHA</td>\n",
       "      <td>3.1</td>\n",
       "      <td>recuperado</td>\n",
       "    </tr>\n",
       "    <tr>\n",
       "      <th>3516</th>\n",
       "      <td>29/04/2020</td>\n",
       "      <td>FREGUESIA-ILHA</td>\n",
       "      <td>3.1</td>\n",
       "      <td>ativo</td>\n",
       "    </tr>\n",
       "    <tr>\n",
       "      <th>3665</th>\n",
       "      <td>06/04/2020</td>\n",
       "      <td>FREGUESIA-ILHA</td>\n",
       "      <td>3.1</td>\n",
       "      <td>recuperado</td>\n",
       "    </tr>\n",
       "    <tr>\n",
       "      <th>3728</th>\n",
       "      <td>27/04/2020</td>\n",
       "      <td>FREGUESIA-ILHA</td>\n",
       "      <td>3.1</td>\n",
       "      <td>recuperado</td>\n",
       "    </tr>\n",
       "    <tr>\n",
       "      <th>4050</th>\n",
       "      <td>06/04/2020</td>\n",
       "      <td>FREGUESIA-ILHA</td>\n",
       "      <td>3.1</td>\n",
       "      <td>recuperado</td>\n",
       "    </tr>\n",
       "    <tr>\n",
       "      <th>4284</th>\n",
       "      <td>06/04/2020</td>\n",
       "      <td>FREGUESIA-ILHA</td>\n",
       "      <td>3.1</td>\n",
       "      <td>recuperado</td>\n",
       "    </tr>\n",
       "    <tr>\n",
       "      <th>4613</th>\n",
       "      <td>02/05/2020</td>\n",
       "      <td>FREGUESIA-ILHA</td>\n",
       "      <td>3.1</td>\n",
       "      <td>ativo</td>\n",
       "    </tr>\n",
       "    <tr>\n",
       "      <th>4642</th>\n",
       "      <td>03/04/2020</td>\n",
       "      <td>FREGUESIA-ILHA</td>\n",
       "      <td>3.1</td>\n",
       "      <td>recuperado</td>\n",
       "    </tr>\n",
       "    <tr>\n",
       "      <th>4699</th>\n",
       "      <td>14/04/2020</td>\n",
       "      <td>FREGUESIA-ILHA</td>\n",
       "      <td>3.1</td>\n",
       "      <td>recuperado</td>\n",
       "    </tr>\n",
       "    <tr>\n",
       "      <th>4994</th>\n",
       "      <td>04/04/2020</td>\n",
       "      <td>FREGUESIA-ILHA</td>\n",
       "      <td>3.1</td>\n",
       "      <td>recuperado</td>\n",
       "    </tr>\n",
       "    <tr>\n",
       "      <th>5101</th>\n",
       "      <td>07/04/2020</td>\n",
       "      <td>FREGUESIA-ILHA</td>\n",
       "      <td>3.1</td>\n",
       "      <td>recuperado</td>\n",
       "    </tr>\n",
       "    <tr>\n",
       "      <th>5323</th>\n",
       "      <td>11/04/2020</td>\n",
       "      <td>FREGUESIA-ILHA</td>\n",
       "      <td>3.1</td>\n",
       "      <td>recuperado</td>\n",
       "    </tr>\n",
       "    <tr>\n",
       "      <th>5332</th>\n",
       "      <td>02/05/2020</td>\n",
       "      <td>FREGUESIA-ILHA</td>\n",
       "      <td>3.1</td>\n",
       "      <td>ativo</td>\n",
       "    </tr>\n",
       "  </tbody>\n",
       "</table>\n",
       "</div>"
      ],
      "text/plain": [
       "            Data          Bairro AP Residência Situação atual\n",
       "155   12/04/2020  FREGUESIA-ILHA           3.1     recuperado\n",
       "307          NaN  FREGUESIA-ILHA           3.1     recuperado\n",
       "353   18/04/2020  FREGUESIA-ILHA           3.1     recuperado\n",
       "368   25/04/2020  FREGUESIA-ILHA           3.1     recuperado\n",
       "440   12/04/2020  FREGUESIA-ILHA           3.1     recuperado\n",
       "485   25/03/2020  FREGUESIA-ILHA           3.1     recuperado\n",
       "620   26/04/2020  FREGUESIA-ILHA           3.1     recuperado\n",
       "653   14/04/2020  FREGUESIA-ILHA           3.1     recuperado\n",
       "984   24/04/2020  FREGUESIA-ILHA           3.1     recuperado\n",
       "2349  14/04/2020  FREGUESIA-ILHA           3.1     recuperado\n",
       "2385  12/04/2020  FREGUESIA-ILHA           3.1     recuperado\n",
       "3516  29/04/2020  FREGUESIA-ILHA           3.1          ativo\n",
       "3665  06/04/2020  FREGUESIA-ILHA           3.1     recuperado\n",
       "3728  27/04/2020  FREGUESIA-ILHA           3.1     recuperado\n",
       "4050  06/04/2020  FREGUESIA-ILHA           3.1     recuperado\n",
       "4284  06/04/2020  FREGUESIA-ILHA           3.1     recuperado\n",
       "4613  02/05/2020  FREGUESIA-ILHA           3.1          ativo\n",
       "4642  03/04/2020  FREGUESIA-ILHA           3.1     recuperado\n",
       "4699  14/04/2020  FREGUESIA-ILHA           3.1     recuperado\n",
       "4994  04/04/2020  FREGUESIA-ILHA           3.1     recuperado\n",
       "5101  07/04/2020  FREGUESIA-ILHA           3.1     recuperado\n",
       "5323  11/04/2020  FREGUESIA-ILHA           3.1     recuperado\n",
       "5332  02/05/2020  FREGUESIA-ILHA           3.1          ativo"
      ]
     },
     "execution_count": 36,
     "metadata": {},
     "output_type": "execute_result"
    }
   ],
   "source": [
    "dados_covid_rj[dados_covid_rj['Bairro'] == 'FREGUESIA-ILHA']"
   ]
  },
  {
   "cell_type": "code",
   "execution_count": null,
   "metadata": {},
   "outputs": [],
   "source": [
    "pops = list(dados_pop_rj['poptotal'])"
   ]
  },
  {
   "cell_type": "code",
   "execution_count": null,
   "metadata": {},
   "outputs": [],
   "source": [
    "pops_good_order = [dados_pop_rj['poptotal'][list(dados_pop_rj['NOME']).index(x)] for x in list(df_bairros['NOME'])]\n",
    "df_bairros['pops'] = pops_good_order"
   ]
  },
  {
   "cell_type": "code",
   "execution_count": null,
   "metadata": {},
   "outputs": [],
   "source": [
    "nova_lst_abs = []\n",
    "nova_lst1_abs = []\n",
    "nova_lst2_abs = []\n",
    "nova_lst3_abs = []\n",
    "nova_semana_0_abs = []\n",
    "nova_semana_1_abs = []\n",
    "nova_semana_2_abs = []\n",
    "nova_semana_3_abs = []\n",
    "\n",
    "nova_lst = []\n",
    "nova_lst1 = []\n",
    "nova_lst2 = []\n",
    "nova_lst3 = []\n",
    "nova_semana_0 = []\n",
    "nova_semana_1 = []\n",
    "nova_semana_2 = []\n",
    "nova_semana_3 = []\n",
    "nnn = []\n",
    "for i, x in enumerate(df_bairros['NOME'].values):\n",
    "    if dic_bairros[x] in lst_bairros:\n",
    "        nnn.append(x)\n",
    "        n = lst_bairros.index(x)\n",
    "        m = list(dados_pop_rj['NOME']).index(x)\n",
    "        nova_lst_abs.append(lst_acumul[n])\n",
    "        nova_lst1_abs.append(lst_acumul1[n])\n",
    "        nova_lst2_abs.append(lst_acumul2[n])\n",
    "        nova_lst3_abs.append(lst_acumul3[n])\n",
    "        \n",
    "        nova_semana_0_abs.append(lst_novos[n][0])\n",
    "        nova_semana_1_abs.append(lst_novos[n][1])\n",
    "        nova_semana_2_abs.append(lst_novos[n][2])\n",
    "        nova_semana_3_abs.append(lst_novos[n][3])\n",
    "        \n",
    "        nova_lst.append(lst_acumul[n]*1e4/list(dados_pop_rj['poptotal'])[m])\n",
    "        nova_lst1.append(lst_acumul1[n]*1e4/list(dados_pop_rj['poptotal'])[m])\n",
    "        nova_lst2.append(lst_acumul2[n]*1e4/list(dados_pop_rj['poptotal'])[m])\n",
    "        nova_lst3.append(lst_acumul3[n]*1e4/list(dados_pop_rj['poptotal'])[m])\n",
    "        \n",
    "        nova_semana_0.append(lst_novos[n][0]*1e4/list(dados_pop_rj['poptotal'])[m])\n",
    "        nova_semana_1.append(lst_novos[n][1]*1e4/list(dados_pop_rj['poptotal'])[m])\n",
    "        nova_semana_2.append(lst_novos[n][2]*1e4/list(dados_pop_rj['poptotal'])[m])\n",
    "        nova_semana_3.append(lst_novos[n][3]*1e4/list(dados_pop_rj['poptotal'])[m])\n",
    "\n",
    "        #print(lst_bairros[n] == x, dados_pop_rj['NOME'][m] == x, x)\n",
    "    else:\n",
    "        nnn.append(x)\n",
    "        nova_lst.append(0)\n",
    "        nova_lst1.append(0)\n",
    "        nova_lst2.append(0)\n",
    "        nova_lst3.append(0)\n",
    "        nova_semana_0.append(0)\n",
    "        nova_semana_1.append(0)\n",
    "        nova_semana_2.append(0)\n",
    "        nova_semana_3.append(0)\n",
    "\n",
    "        #print(lst_bairros[n] == x)"
   ]
  },
  {
   "cell_type": "code",
   "execution_count": null,
   "metadata": {},
   "outputs": [],
   "source": [
    "df_bairros['Casos'] = nova_lst\n",
    "df_bairros['Casos1'] = nova_lst1\n",
    "df_bairros['Casos2'] = nova_lst2\n",
    "df_bairros['Casos3'] = nova_lst3\n",
    "df_bairros['CasosSemana0'] = nova_semana_0\n",
    "df_bairros['CasosSemana1'] = nova_semana_1\n",
    "df_bairros['CasosSemana2'] = nova_semana_2\n",
    "df_bairros['CasosSemana3'] = nova_semana_3\n"
   ]
  },
  {
   "cell_type": "code",
   "execution_count": null,
   "metadata": {},
   "outputs": [],
   "source": [
    "#fig, ax = plt.subplots(1,1)\n",
    "#ax.axis('off')\n",
    "#df_bairros[df_bairros['CODBAIRRO'].str.contains('144|151|149')].plot(column = 'Casos3', ax = ax,legend = True, cmap = 'YlOrRd',\n",
    "#                                                                    vmin = 0, vmax = 30.965391621129324)\n",
    "#df_bairros[df_bairros['CODBAIRRO'].str.contains('144|151|149')].boundary.plot(ax = ax, color = 'k')\n",
    "#"
   ]
  },
  {
   "cell_type": "code",
   "execution_count": null,
   "metadata": {},
   "outputs": [],
   "source": [
    "semanas = [['29/03', '05/04'], ['06/04', '12/04'], ['13/04', '19/04'], ['20/04', '26/04']]"
   ]
  },
  {
   "cell_type": "code",
   "execution_count": null,
   "metadata": {
    "scrolled": false
   },
   "outputs": [],
   "source": [
    "fig1, ax = plt.subplots(1,1, figsize = (20,12))\n",
    "divider = make_axes_locatable(ax)\n",
    "cax = divider.append_axes('right', size = '5%', pad = None, add_to_figure =False)\n",
    "vmin = 0\n",
    "vmax = 7\n",
    "i = 3\n",
    "df_bairros.plot(column = f'CasosSemana%s'%(i), ax = ax,legend = True, cmap = 'YlOrRd', vmin = vmin, vmax = vmax) \n",
    "df_bairros.boundary.plot(ax = ax, color = 'k')\n",
    "ax.axis('off')\n",
    "#plt.clim((0,40))\n",
    "#plt.colorbar(boundaries = (0,40))\n",
    "ax.set_title(f'Casos Novos por 10 mil habitantes \\n bairros do Rio de Janeiro na semana do dia %s até o dia %s' %(semanas[i][0], semanas[i][1]), fontsize = 25)\n",
    "#plt.colorbar(plt.gca().get_children()[0], ax=axes.ravel().tolist())\n",
    "plt.show()\n"
   ]
  },
  {
   "cell_type": "code",
   "execution_count": null,
   "metadata": {},
   "outputs": [],
   "source": [
    "titles = ['05/04', '12/04', '19/04', '26/04']\n",
    "titles_semanas = [semana[0] + ' até ' + semana[1] for semana in semanas]"
   ]
  },
  {
   "cell_type": "code",
   "execution_count": null,
   "metadata": {},
   "outputs": [],
   "source": [
    "fig, ((ax1, ax2),(ax3, ax4)) = plt.subplots(2,2, figsize = (20,15))\n",
    "eixos = [ax1, ax2, ax3, ax4]\n",
    "divider4 = make_axes_locatable(ax4)\n",
    "dividers = [make_axes_locatable(eixo) for eixo in eixos]\n",
    "caxs = [divider.append_axes('right', size = '5%', pad = 0.1, add_to_figure = (i == 1)) for i, divider in enumerate(dividers)]\n",
    "fig.suptitle('Casos acumulados por 10 mil habitantes nos bairros do Rio de Janeiro do dia 29/03 até: ', fontsize = 25)\n",
    "for i, col in enumerate(['Casos3', 'Casos2', 'Casos1', 'Casos']):\n",
    "    ax = eixos[i]\n",
    "    ax.set_title(titles[i], fontsize = 22)\n",
    "    df_bairros.plot(column = col, ax = ax, legend = True, cax = caxs[i], cmap = 'YlOrRd', vmin = vmin, vmax = 31)\n",
    "    df_bairros.boundary.plot(ax = ax, color = 'grey')\n",
    "    ax.axis('off')\n",
    "fig.tight_layout()\n",
    "#plt.colorbar(plt.gca().get_children()[0], ax=axes.ravel().tolist())\n",
    "plt.show()\n"
   ]
  },
  {
   "cell_type": "code",
   "execution_count": null,
   "metadata": {},
   "outputs": [],
   "source": [
    "##from PIL import Image, ImageDraw\n",
    "##import imageio\n",
    "##filenames = 6*['imagens/bairros_novos_semana0.png'] + 6*['imagens/bairros_novos_semana1.png'] + 6*['imagens/bairros_novos_semana2.png'] + 6*['imagens/bairros_novos_semana3.png']\n",
    "##images = []\n",
    "##for filename in filenames:\n",
    "##    images.append(imageio.imread(filename))\n",
    "##imageio.mimsave(r\"imagens/bairros_novos_geoplot.gif\" , images)"
   ]
  },
  {
   "cell_type": "markdown",
   "metadata": {},
   "source": [
    "## Fazendo o html para bairros e áreas de planejamento do RJ:"
   ]
  },
  {
   "cell_type": "code",
   "execution_count": null,
   "metadata": {},
   "outputs": [],
   "source": [
    "import plotly.graph_objects as go"
   ]
  },
  {
   "cell_type": "code",
   "execution_count": null,
   "metadata": {},
   "outputs": [],
   "source": [
    "with open(\"dados/bairros_novo.geojson\", encoding = 'ISO-8859-1') as geofile:\n",
    "    j_file = json.load(geofile)\n",
    "with open(\"dados/geojs_AP.json\", encoding = 'ISO-8859-1') as geofile_AP:\n",
    "    j_file_AP = json.load(geofile_AP)\n",
    "    "
   ]
  },
  {
   "cell_type": "code",
   "execution_count": null,
   "metadata": {},
   "outputs": [],
   "source": [
    "df_bairros['Casos0'] = df_bairros['Casos']"
   ]
  },
  {
   "cell_type": "code",
   "execution_count": null,
   "metadata": {},
   "outputs": [],
   "source": [
    "## áreas de planejamento do rj\n",
    "AP1 = df_bairros[df_bairros['AREA_PLANE'] == '1']\n",
    "AP2 = df_bairros[df_bairros['AREA_PLANE'] == '2']\n",
    "AP3 = df_bairros[df_bairros['AREA_PLANE'] == '3']\n",
    "AP4 = df_bairros[df_bairros['AREA_PLANE'] == '4']\n",
    "AP5 = df_bairros[df_bairros['AREA_PLANE'] == '5']\n",
    "aps = [AP1, AP2, AP3, AP4, AP5]"
   ]
  },
  {
   "cell_type": "code",
   "execution_count": null,
   "metadata": {},
   "outputs": [],
   "source": [
    "df_bairros['casos0_abs'] = df_bairros['Casos0']*df_bairros['pops']/1e4\n",
    "df_bairros['casos1_abs'] = df_bairros['Casos1']*df_bairros['pops']/1e4\n",
    "df_bairros['casos2_abs'] = df_bairros['Casos2']*df_bairros['pops']/1e4\n",
    "df_bairros['casos3_abs'] = df_bairros['Casos3']*df_bairros['pops']/1e4\n",
    "\n",
    "df_bairros['casossemana0_abs'] = df_bairros['CasosSemana0']*df_bairros['pops']/1e4\n",
    "df_bairros['casossemana1_abs'] = df_bairros['CasosSemana1']*df_bairros['pops']/1e4\n",
    "df_bairros['casossemana2_abs'] = df_bairros['CasosSemana2']*df_bairros['pops']/1e4\n",
    "df_bairros['casossemana3_abs'] = df_bairros['CasosSemana3']*df_bairros['pops']/1e4\n"
   ]
  },
  {
   "cell_type": "code",
   "execution_count": null,
   "metadata": {},
   "outputs": [],
   "source": [
    "vals_acum = []\n",
    "vals_novos = []\n",
    "for i in range(1, 6):\n",
    "    vals_acum += [[df_bairros[df_bairros['AREA_PLANE'] == str(i)]['casos0_abs'].sum(),\n",
    "                   df_bairros[df_bairros['AREA_PLANE'] == str(i)]['casos1_abs'].sum(), \n",
    "                   df_bairros[df_bairros['AREA_PLANE'] == str(i)]['casos2_abs'].sum(), \n",
    "                   df_bairros[df_bairros['AREA_PLANE'] == str(i)]['casos3_abs'].sum()]]\n",
    "    vals_novos += [[df_bairros[df_bairros['AREA_PLANE'] == str(i)]['casossemana0_abs'].sum(), \n",
    "                    df_bairros[df_bairros['AREA_PLANE'] == str(i)]['casossemana1_abs'].sum(), \n",
    "                    df_bairros[df_bairros['AREA_PLANE'] == str(i)]['casossemana2_abs'].sum(), \n",
    "                    df_bairros[df_bairros['AREA_PLANE'] == str(i)]['casossemana3_abs'].sum()]]    "
   ]
  },
  {
   "cell_type": "code",
   "execution_count": null,
   "metadata": {},
   "outputs": [],
   "source": [
    "pop1  = sum(dados_pop_rj[dados_pop_rj['AREA_PLANE'] == 1]['poptotal'])\n",
    "pop2  = sum(dados_pop_rj[dados_pop_rj['AREA_PLANE'] == 2]['poptotal'])\n",
    "pop3  = sum(dados_pop_rj[dados_pop_rj['AREA_PLANE'] == 3]['poptotal'])\n",
    "pop4  = sum(dados_pop_rj[dados_pop_rj['AREA_PLANE'] == 4]['poptotal'])\n",
    "pop5  = sum(dados_pop_rj[dados_pop_rj['AREA_PLANE'] == 5]['poptotal'])"
   ]
  },
  {
   "cell_type": "code",
   "execution_count": null,
   "metadata": {},
   "outputs": [],
   "source": [
    "pop1, pop2, pop3, pop4, pop5\n",
    "pops = [pop1, pop2, pop3, pop4, pop5]"
   ]
  },
  {
   "cell_type": "code",
   "execution_count": null,
   "metadata": {},
   "outputs": [],
   "source": [
    "Casos0_AP, Casos1_AP, Casos2_AP, Casos3_AP = [], [], [], []\n",
    "CasosSemana0_AP, CasosSemana1_AP, CasosSemana2_AP, CasosSemana3_AP = [], [], [], []"
   ]
  },
  {
   "cell_type": "code",
   "execution_count": null,
   "metadata": {},
   "outputs": [],
   "source": [
    "Casos0_AP, Casos1_AP, Casos2_AP, Casos3_AP = [], [], [], []\n",
    "Casos0_AP_non_rel, Casos1_AP_non_rel, Casos2_AP_non_rel, Casos3_AP_non_rel  = [], [], [], []\n",
    "CasosSemana0_AP, CasosSemana1_AP, CasosSemana2_AP, CasosSemana3_AP = [], [], [], []\n",
    "\n",
    "for i in range(163):\n",
    "    if df_bairros.iloc[i,4] == '1':\n",
    "        Casos0_AP.append(vals_acum[0][0]*1e4/pop1)\n",
    "        Casos1_AP.append(vals_acum[0][1]*1e4/pop1)        \n",
    "        Casos2_AP.append(vals_acum[0][2]*1e4/pop1)        \n",
    "        Casos3_AP.append(vals_acum[0][3]*1e4/pop1)\n",
    "        \n",
    "        CasosSemana0_AP.append(vals_novos[0][0]*1e4/pop1)\n",
    "        CasosSemana1_AP.append(vals_novos[0][1]*1e4/pop1)\n",
    "        CasosSemana2_AP.append(vals_novos[0][2]*1e4/pop1)\n",
    "        CasosSemana3_AP.append(vals_novos[0][3]*1e4/pop1)\n",
    "    elif df_bairros.iloc[i, 4] == '2':\n",
    "        Casos0_AP.append(vals_acum[1][0]*1e4/pop2)\n",
    "        Casos1_AP.append(vals_acum[1][1]*1e4/pop2)        \n",
    "        Casos2_AP.append(vals_acum[1][2]*1e4/pop2)        \n",
    "        Casos3_AP.append(vals_acum[1][3]*1e4/pop2)\n",
    "        \n",
    "        CasosSemana0_AP.append(vals_novos[1][0]*1e4/pop2)\n",
    "        CasosSemana1_AP.append(vals_novos[1][1]*1e4/pop2)\n",
    "        CasosSemana2_AP.append(vals_novos[1][2]*1e4/pop2)\n",
    "        CasosSemana3_AP.append(vals_novos[1][3]*1e4/pop2)\n",
    "    elif df_bairros.iloc[i, 4] == '3':\n",
    "        Casos0_AP.append(vals_acum[2][0]*1e4/pop3)\n",
    "        Casos1_AP.append(vals_acum[2][1]*1e4/pop3)        \n",
    "        Casos2_AP.append(vals_acum[2][2]*1e4/pop3)        \n",
    "        Casos3_AP.append(vals_acum[2][3]*1e4/pop3)\n",
    "        \n",
    "        CasosSemana0_AP.append(vals_novos[2][0]*1e4/pop3)\n",
    "        CasosSemana1_AP.append(vals_novos[2][1]*1e4/pop3)\n",
    "        CasosSemana2_AP.append(vals_novos[2][2]*1e4/pop3)\n",
    "        CasosSemana3_AP.append(vals_novos[2][3]*1e4/pop3)\n",
    "    elif df_bairros.iloc[i, 4] == '4':\n",
    "        Casos0_AP.append(vals_acum[3][0]*1e4/pop4)\n",
    "        Casos1_AP.append(vals_acum[3][1]*1e4/pop4)        \n",
    "        Casos2_AP.append(vals_acum[3][2]*1e4/pop4)        \n",
    "        Casos3_AP.append(vals_acum[3][3]*1e4/pop4)\n",
    "        \n",
    "        CasosSemana0_AP.append(vals_novos[3][0]*1e4/pop4)\n",
    "        CasosSemana1_AP.append(vals_novos[3][1]*1e4/pop4)\n",
    "        CasosSemana2_AP.append(vals_novos[3][2]*1e4/pop4)\n",
    "        CasosSemana3_AP.append(vals_novos[3][3]*1e4/pop4)\n",
    "    elif df_bairros.iloc[i, 4] == '5':\n",
    "        Casos0_AP.append(vals_acum[4][0]*1e4/pop5)\n",
    "        Casos1_AP.append(vals_acum[4][1]*1e4/pop5)        \n",
    "        Casos2_AP.append(vals_acum[4][2]*1e4/pop5)        \n",
    "        Casos3_AP.append(vals_acum[4][3]*1e4/pop5)\n",
    "        \n",
    "        CasosSemana0_AP.append(vals_novos[4][0]*1e4/pop5)\n",
    "        CasosSemana1_AP.append(vals_novos[4][1]*1e4/pop5)\n",
    "        CasosSemana2_AP.append(vals_novos[4][2]*1e4/pop5)\n",
    "        CasosSemana3_AP.append(vals_novos[4][3]*1e4/pop5)\n"
   ]
  },
  {
   "cell_type": "code",
   "execution_count": null,
   "metadata": {},
   "outputs": [],
   "source": [
    "df_bairros['Casos0_AP'] = Casos0_AP\n",
    "df_bairros['Casos1_AP'] = Casos1_AP\n",
    "df_bairros['Casos2_AP'] = Casos2_AP\n",
    "df_bairros['Casos3_AP'] = Casos3_AP\n",
    "\n",
    "df_bairros['CasosSemana0_AP'] = CasosSemana0_AP\n",
    "df_bairros['CasosSemana1_AP'] = CasosSemana1_AP\n",
    "df_bairros['CasosSemana2_AP'] = CasosSemana2_AP\n",
    "df_bairros['CasosSemana3_AP'] = CasosSemana3_AP"
   ]
  },
  {
   "cell_type": "code",
   "execution_count": null,
   "metadata": {},
   "outputs": [],
   "source": [
    "casos0_ap, casossemana0_ap = [], []\n",
    "casos1_ap, casossemana1_ap = [], []\n",
    "casos2_ap, casossemana2_ap = [], []\n",
    "casos3_ap, casossemana3_ap = [], []\n",
    "\n",
    "for x in range(1,6):\n",
    "    casos0_ap += [df_bairros[df_bairros['AREA_PLANE'] == str(x)]['Casos0_AP'].iloc[0]]\n",
    "    casos1_ap += [df_bairros[df_bairros['AREA_PLANE'] == str(x)]['Casos1_AP'].iloc[0]]\n",
    "    casos2_ap += [df_bairros[df_bairros['AREA_PLANE'] == str(x)]['Casos2_AP'].iloc[0]]\n",
    "    casos3_ap += [df_bairros[df_bairros['AREA_PLANE'] == str(x)]['Casos3_AP'].iloc[0]]\n",
    "    \n",
    "    casossemana0_ap += [df_bairros[df_bairros['AREA_PLANE'] == str(x)]['CasosSemana0_AP'].iloc[0]]\n",
    "    casossemana1_ap += [df_bairros[df_bairros['AREA_PLANE'] == str(x)]['CasosSemana1_AP'].iloc[0]]\n",
    "    casossemana2_ap += [df_bairros[df_bairros['AREA_PLANE'] == str(x)]['CasosSemana2_AP'].iloc[0]]\n",
    "    casossemana3_ap += [df_bairros[df_bairros['AREA_PLANE'] == str(x)]['CasosSemana3_AP'].iloc[0]]"
   ]
  },
  {
   "cell_type": "code",
   "execution_count": null,
   "metadata": {},
   "outputs": [],
   "source": [
    "v_acum = []\n",
    "v_novos = []\n",
    "for i in range(len(vals_acum[0])):\n",
    "    v = []\n",
    "    novos = []\n",
    "    for j in range(len(vals_acum)):\n",
    "        v.append(vals_acum[j][i])\n",
    "        novos.append(vals_novos[j][i])\n",
    "    v_acum.append(v)\n",
    "    v_novos.append(novos)"
   ]
  },
  {
   "cell_type": "code",
   "execution_count": null,
   "metadata": {},
   "outputs": [],
   "source": [
    "df_AP = pd.DataFrame({'AP': [1,2,3,4,5], 'Casos0':casos0_ap, \n",
    "                      'Casos1':casos1_ap, 'Casos2':casos2_ap, \n",
    "                      'Casos3':casos3_ap, \n",
    "                      'CasosSemana0':casossemana0_ap, \n",
    "                      'CasosSemana1':casossemana1_ap, \n",
    "                      'CasosSemana2':casossemana2_ap, \n",
    "                      'CasosSemana3':casossemana3_ap,\n",
    "                      'pops':pops,\n",
    "                      'casos0_abs': v_acum[0],\n",
    "                      'casos1_abs': v_acum[1],\n",
    "                      'casos2_abs': v_acum[2],\n",
    "                      'casos3_abs': v_acum[3],\n",
    "                      'casossemana0_abs': v_novos[0],\n",
    "                      'casossemana1_abs': v_novos[1],\n",
    "                      'casossemana2_abs': v_novos[2],\n",
    "                      'casossemana3_abs': v_novos[3]})"
   ]
  },
  {
   "cell_type": "code",
   "execution_count": null,
   "metadata": {},
   "outputs": [],
   "source": [
    "data_novos = [go.Choropleth(z = df_bairros[f'CasosSemana' + str(i)], \n",
    "                          geojson = j_file,\n",
    "                          locations= df_bairros['CODBNUM'],\n",
    "                          featureidkey = 'properties.NOME',\n",
    "                          colorscale = \"ylorrd\",\n",
    "                          colorbar_title = 'rel. 10 mil hab.',\n",
    "                          visible = (i==0),\n",
    "                          name = '',\n",
    "                          zmin = 0,\n",
    "                          zmax = 7,\n",
    "                          customdata = df_bairros['pops']*df_bairros[f'CasosSemana'+str(i)]/1e4,\n",
    " hovertemplate = \"%{text} <br>Casos rel.: %{z:.3f} </br> Casos: %{customdata:,f}\",\n",
    "                          text = df_bairros['CODBNUM'])\n",
    "                          for i in range(4)]\n",
    "data_novos_AP = [go.Choropleth(z = df_AP['CasosSemana'+str(i)], \n",
    "                          geojson = j_file_AP,\n",
    "                          locations= df_AP['AP'],\n",
    "                          featureidkey = 'properties.CODAPNUM',\n",
    "                          colorscale = \"ylorrd\",\n",
    "                          colorbar_title = 'rel. 10 mil hab.',\n",
    "                          name = '',\n",
    "                          zmin = 0,\n",
    "                          zmax = 3,\n",
    "                          visible = False,\n",
    "            customdata = df_AP[f'casossemana%s_abs'%(i)],\n",
    " hovertemplate = \"AP: %{text} <br>Casos rel.: %{z:.3f} </br> Casos: %{customdata:,f}\",\n",
    "                          text = df_AP['AP'])\n",
    "                          for i in range(4)]\n",
    "\n",
    "data_acumul = [go.Choropleth(z = df_bairros[f'Casos%s'%(abs(3-i))], \n",
    "                          geojson = j_file,\n",
    "                          locations= df_bairros['CODBNUM'],\n",
    "                          featureidkey = 'properties.NOME',\n",
    "                          colorscale = \"ylorrd\",\n",
    "                          colorbar_title = 'rel. 10 mil hab.',\n",
    "                          visible = False,\n",
    "                          name = '',\n",
    "                          zmin = 0,\n",
    "                          zmax = 31,\n",
    "                customdata = df_bairros['pops']*df_bairros[f'Casos%s'%(abs(3-i))]/1e4,\n",
    " hovertemplate = \"%{text} <br>Casos rel.: %{z:.3f} </br> Casos: %{customdata:,f}\", \n",
    "                          text = df_bairros['CODBNUM']\n",
    "                          )\n",
    "                          for i in range(4)]\n",
    "\n",
    "data_acumul_AP = [go.Choropleth(z = df_AP[f'Casos%s'%(abs(3-i))], \n",
    "                          geojson = j_file_AP,\n",
    "                          locations= df_AP['AP'],\n",
    "                          featureidkey = 'properties.CODAPNUM',\n",
    "                          colorscale = \"ylorrd\",\n",
    "                          colorbar_title = 'rel. 10 mil hab.',\n",
    "                          visible = False,\n",
    "                          zmin = 0,\n",
    "                          zmax = 13,\n",
    "                          name = '',\n",
    "                customdata = df_AP[f'casos%s_abs'%(abs(3-i))],\n",
    " hovertemplate = \"AP: %{text} <br>Casos rel.: %{z:.3f} </br> Casos: %{customdata:,f}\",\n",
    "                          text = df_AP['AP'])\n",
    "                          for i in range(4)]\n",
    "\n",
    "    \n",
    "data = data_novos + data_acumul + data_novos_AP + data_acumul_AP"
   ]
  },
  {
   "cell_type": "code",
   "execution_count": null,
   "metadata": {},
   "outputs": [],
   "source": [
    "dias = ['29/03', '06/04', '13/04', '20/04']\n",
    "dias_fim = ['05/04', '12/04', '19/04', '26/04']"
   ]
  },
  {
   "cell_type": "code",
   "execution_count": null,
   "metadata": {},
   "outputs": [],
   "source": [
    "titles = [f'Casos <b>novos</b> de {dias[i]} até {dias_fim[i]} <br> nos bairros do Rio de Janeiro </br>' for i in range(4)] + [f'Casos <b>acumulados</b> até {dias_fim[i]} <br> nos bairros do Rio de Janeiro </br>' for i in range(4)] +[f'Casos <b>novos</b> de {dias[i]} até {dias_fim[i]} <br> nas áreas de planejamento do Rio de Janeiro </br>' for i in range(4)] + [f'Casos <br>acumulados</br> até {dias_fim[i]} <br> nas áreas de planejamento do Rio de Janeiro </br>' for i in range(4)]\n",
    "labels = [f'{dias[i]} até {dias_fim[i]}' for i in range(4)] + [f'até {dias_fim[i]}' for i in range(4)] + [f'{dias[i]} até {dias_fim[i]} (AP)' for i in range(4)] + [f'até {dias_fim[i]} (AP)' for i in range(4)]"
   ]
  },
  {
   "cell_type": "code",
   "execution_count": null,
   "metadata": {},
   "outputs": [],
   "source": [
    "updatemenus = list([dict(active = 0,\n",
    "                         buttons = list([dict(label = labels[i],\n",
    "                                              method = 'update', \n",
    "                                              args = [{'visible':  [ j == i for j in range(len(data))] },\n",
    "                                                      {'title': titles[i]}\n",
    "                                                      ]) for i in range(len(data))])) ])"
   ]
  },
  {
   "cell_type": "code",
   "execution_count": null,
   "metadata": {},
   "outputs": [],
   "source": [
    "%%time\n",
    "fig = go.Figure(data= data)\n",
    "fig.update_layout(updatemenus = updatemenus, \n",
    "    title = dict(text = 'Casos <b>novos</b> de 29/03 até 05/04 <br> nos bairros do Rio de Janeiro </br>',\n",
    "                 x = 0.5))\n",
    "fig.update_geos(fitbounds=\"locations\", visible=False)\n",
    "\n",
    "fig.show()"
   ]
  },
  {
   "cell_type": "code",
   "execution_count": null,
   "metadata": {},
   "outputs": [],
   "source": [
    "#with open(\"Bairro_plots.html\", \"w\") as f:\n",
    "#    f.write(fig.to_html())"
   ]
  }
 ],
 "metadata": {
  "kernelspec": {
   "display_name": "Python 3",
   "language": "python",
   "name": "python3"
  },
  "language_info": {
   "codemirror_mode": {
    "name": "ipython",
    "version": 3
   },
   "file_extension": ".py",
   "mimetype": "text/x-python",
   "name": "python",
   "nbconvert_exporter": "python",
   "pygments_lexer": "ipython3",
   "version": "3.6.5"
  }
 },
 "nbformat": 4,
 "nbformat_minor": 2
}
