{
 "cells": [
  {
   "cell_type": "code",
   "execution_count": 1,
   "metadata": {},
   "outputs": [],
   "source": [
    "import numpy as np\n",
    "import pandas as pd\n",
    "import plotly.express as px\n",
    "import json\n",
    "import datetime as dt\n",
    "import matplotlib.dates as mdates\n",
    "import unidecode"
   ]
  },
  {
   "cell_type": "code",
   "execution_count": 2,
   "metadata": {},
   "outputs": [
    {
     "ename": "IndentationError",
     "evalue": "unexpected indent (<ipython-input-2-d02a9b9a8888>, line 3)",
     "output_type": "error",
     "traceback": [
      "\u001b[1;36m  File \u001b[1;32m\"<ipython-input-2-d02a9b9a8888>\"\u001b[1;36m, line \u001b[1;32m3\u001b[0m\n\u001b[1;33m    def gen_timeseries(df, fonte, localidade, T_fim, T_start = '06/03/2020', *args):\u001b[0m\n\u001b[1;37m    ^\u001b[0m\n\u001b[1;31mIndentationError\u001b[0m\u001b[1;31m:\u001b[0m unexpected indent\n"
     ]
    }
   ],
   "source": [
    "\n",
    "\n",
    "\n",
    "################ gen_timeseries ################\n",
    "\n",
    "    def gen_timeseries(df, fonte, localidade, T_fim, T_start = '06/03/2020', *args):\n",
    "    \"\"\"Dado um DataFrame organizado por set_df, esta função extrai um timeseries dos dados\n",
    "\n",
    "    Parameters\n",
    "    ----------\n",
    "    df : pandas.DataFrame a ser trabalhado\n",
    "    fonte : str ('prefeitura_rj', 'estado_rj')\n",
    "        Indica qual a fonte dos dados\n",
    "    \n",
    "    *args : dict, optional\n",
    "        Um dicionário com argumentos extras:\n",
    "            df_break: Se setado para True, muda o retorno para vários DataFrames\n",
    "    Returns\n",
    "    -------\n",
    "    ret_v: Se nenhum argumento opcional for passado, ret_v é uma lista contendo o DataFrame tratado com todos os casos, e a data de atualização dos dados\n",
    "            df_break == True: ret_v é uma lista com [DataFrame Tratado, [DataFrame Ativos, DataFrame Recuperados, DataFrame Obitos], Data de Atualização]        \n",
    "    \"\"\"\n",
    "    print\n",
    "    return ret_lst"
   ]
  },
  {
   "cell_type": "code",
   "execution_count": 3,
   "metadata": {},
   "outputs": [],
   "source": [
    "import git\n",
    "import sys\n",
    "\n",
    "root_dir = git.Repo('.', search_parent_directories=True).working_tree_dir\n",
    "sys.path.insert(1, root_dir)"
   ]
  },
  {
   "cell_type": "code",
   "execution_count": 4,
   "metadata": {},
   "outputs": [],
   "source": [
    "import modcovid as mc\n",
    "from modcovid import scripts, settings"
   ]
  },
  {
   "cell_type": "markdown",
   "metadata": {},
   "source": [
    "### Carregando o Arquivo JSON"
   ]
  },
  {
   "cell_type": "code",
   "execution_count": null,
   "metadata": {},
   "outputs": [],
   "source": [
    "municipios = [[],[],[]] ## 0: Json File - 1: Nº de municipios - 2: Nome dos municipios\n",
    "with open('dados/geojs-33-mun.json', encoding='iso-8859-1') as fh:\n",
    "    municipios[0] = json.load(fh)"
   ]
  },
  {
   "cell_type": "code",
   "execution_count": null,
   "metadata": {},
   "outputs": [],
   "source": [
    "municipios[1] = len(municipios[0]['features']) ## número total de municipios no estado"
   ]
  },
  {
   "cell_type": "markdown",
   "metadata": {},
   "source": [
    "### Retirando os nomes dos municipios"
   ]
  },
  {
   "cell_type": "code",
   "execution_count": null,
   "metadata": {},
   "outputs": [],
   "source": [
    "for i in range(municipios[1]):\n",
    "    municipios[2].append(municipios[0]['features'][i]['properties']['name'])"
   ]
  },
  {
   "cell_type": "markdown",
   "metadata": {},
   "source": [
    "### Carregando arquivos de dados do Estado"
   ]
  },
  {
   "cell_type": "code",
   "execution_count": 15,
   "metadata": {},
   "outputs": [],
   "source": [
    "arquivo_conf_est = f'{root_dir}/dados/RJ/estado_rj/dados_covid/ERJ_Casos.csv'\n",
    "\n",
    "df_conf_est = pd.read_csv(arquivo_conf_est)"
   ]
  },
  {
   "cell_type": "code",
   "execution_count": null,
   "metadata": {
    "scrolled": true
   },
   "outputs": [],
   "source": [
    "set(df_conf_est['classificacao'].values)"
   ]
  },
  {
   "cell_type": "code",
   "execution_count": null,
   "metadata": {},
   "outputs": [],
   "source": [
    "df_conf_est[df_conf_est['classificacao'] == 'CONFIRMADO']"
   ]
  },
  {
   "cell_type": "code",
   "execution_count": 4,
   "metadata": {},
   "outputs": [],
   "source": [
    "import yaml\n",
    "\n",
    "with open(settings.CONFIG_FILE, encoding = 'utf-8') as f:\n",
    "    configs = yaml.load(f, Loader = yaml.FullLoader)"
   ]
  },
  {
   "cell_type": "code",
   "execution_count": null,
   "metadata": {},
   "outputs": [],
   "source": [
    "configs['df']['status']['rj']['estado']"
   ]
  },
  {
   "cell_type": "code",
   "execution_count": 5,
   "metadata": {},
   "outputs": [],
   "source": [
    "df3 = mc.scripts.set_df('prefeitura_rj')"
   ]
  },
  {
   "cell_type": "code",
   "execution_count": 6,
   "metadata": {},
   "outputs": [
    {
     "data": {
      "text/html": [
       "<div>\n",
       "<style scoped>\n",
       "    .dataframe tbody tr th:only-of-type {\n",
       "        vertical-align: middle;\n",
       "    }\n",
       "\n",
       "    .dataframe tbody tr th {\n",
       "        vertical-align: top;\n",
       "    }\n",
       "\n",
       "    .dataframe thead th {\n",
       "        text-align: right;\n",
       "    }\n",
       "</style>\n",
       "<table border=\"1\" class=\"dataframe\">\n",
       "  <thead>\n",
       "    <tr style=\"text-align: right;\">\n",
       "      <th></th>\n",
       "      <th>Data</th>\n",
       "      <th>DataSintomas</th>\n",
       "      <th>Bairro</th>\n",
       "      <th>AP</th>\n",
       "      <th>Sexo</th>\n",
       "      <th>FaixaEtaria</th>\n",
       "      <th>Evolucao</th>\n",
       "    </tr>\n",
       "  </thead>\n",
       "  <tbody>\n",
       "    <tr>\n",
       "      <th>0</th>\n",
       "      <td>10/03/2020</td>\n",
       "      <td>08/03/2020</td>\n",
       "      <td>FORA DO MUNICÍPIO</td>\n",
       "      <td>N/D</td>\n",
       "      <td>M</td>\n",
       "      <td>De 30 a 39</td>\n",
       "      <td>Recuperado</td>\n",
       "    </tr>\n",
       "    <tr>\n",
       "      <th>1</th>\n",
       "      <td>20/03/2020</td>\n",
       "      <td>14/03/2020</td>\n",
       "      <td>COPACABANA</td>\n",
       "      <td>2.1</td>\n",
       "      <td>F</td>\n",
       "      <td>N/D</td>\n",
       "      <td>Recuperado</td>\n",
       "    </tr>\n",
       "    <tr>\n",
       "      <th>2</th>\n",
       "      <td>15/03/2020</td>\n",
       "      <td>12/03/2020</td>\n",
       "      <td>COPACABANA</td>\n",
       "      <td>2.1</td>\n",
       "      <td>F</td>\n",
       "      <td>De 50 a 59</td>\n",
       "      <td>Recuperado</td>\n",
       "    </tr>\n",
       "    <tr>\n",
       "      <th>3</th>\n",
       "      <td>24/03/2020</td>\n",
       "      <td>NaN</td>\n",
       "      <td>SAO CONRADO</td>\n",
       "      <td>2.1</td>\n",
       "      <td>M</td>\n",
       "      <td>N/D</td>\n",
       "      <td>Recuperado</td>\n",
       "    </tr>\n",
       "    <tr>\n",
       "      <th>4</th>\n",
       "      <td>20/03/2020</td>\n",
       "      <td>NaN</td>\n",
       "      <td>JARDIM BOTANICO</td>\n",
       "      <td>2.1</td>\n",
       "      <td>M</td>\n",
       "      <td>De 60 a 69</td>\n",
       "      <td>Recuperado</td>\n",
       "    </tr>\n",
       "    <tr>\n",
       "      <th>...</th>\n",
       "      <td>...</td>\n",
       "      <td>...</td>\n",
       "      <td>...</td>\n",
       "      <td>...</td>\n",
       "      <td>...</td>\n",
       "      <td>...</td>\n",
       "      <td>...</td>\n",
       "    </tr>\n",
       "    <tr>\n",
       "      <th>6745</th>\n",
       "      <td>02/05/2020</td>\n",
       "      <td>NaN</td>\n",
       "      <td>CAMPO GRANDE</td>\n",
       "      <td>5.2</td>\n",
       "      <td>F</td>\n",
       "      <td>De 40 a 49</td>\n",
       "      <td>Ativo</td>\n",
       "    </tr>\n",
       "    <tr>\n",
       "      <th>6746</th>\n",
       "      <td>02/05/2020</td>\n",
       "      <td>NaN</td>\n",
       "      <td>INDEFINIDO</td>\n",
       "      <td>N/D</td>\n",
       "      <td>M</td>\n",
       "      <td>De 30 a 39</td>\n",
       "      <td>Ativo</td>\n",
       "    </tr>\n",
       "    <tr>\n",
       "      <th>6747</th>\n",
       "      <td>02/05/2020</td>\n",
       "      <td>NaN</td>\n",
       "      <td>CAMPO GRANDE</td>\n",
       "      <td>5.2</td>\n",
       "      <td>F</td>\n",
       "      <td>De 30 a 39</td>\n",
       "      <td>Ativo</td>\n",
       "    </tr>\n",
       "    <tr>\n",
       "      <th>6748</th>\n",
       "      <td>02/05/2020</td>\n",
       "      <td>NaN</td>\n",
       "      <td>INDEFINIDO</td>\n",
       "      <td>N/D</td>\n",
       "      <td>F</td>\n",
       "      <td>De 40 a 49</td>\n",
       "      <td>Ativo</td>\n",
       "    </tr>\n",
       "    <tr>\n",
       "      <th>6749</th>\n",
       "      <td>02/05/2020</td>\n",
       "      <td>NaN</td>\n",
       "      <td>BANGU</td>\n",
       "      <td>5.1</td>\n",
       "      <td>F</td>\n",
       "      <td>De 80 a 89</td>\n",
       "      <td>Ativo</td>\n",
       "    </tr>\n",
       "  </tbody>\n",
       "</table>\n",
       "<p>6750 rows × 7 columns</p>\n",
       "</div>"
      ],
      "text/plain": [
       "            Data DataSintomas             Bairro   AP Sexo FaixaEtaria  \\\n",
       "0     10/03/2020   08/03/2020  FORA DO MUNICÍPIO  N/D    M  De 30 a 39   \n",
       "1     20/03/2020   14/03/2020         COPACABANA  2.1    F         N/D   \n",
       "2     15/03/2020   12/03/2020         COPACABANA  2.1    F  De 50 a 59   \n",
       "3     24/03/2020          NaN        SAO CONRADO  2.1    M         N/D   \n",
       "4     20/03/2020          NaN    JARDIM BOTANICO  2.1    M  De 60 a 69   \n",
       "...          ...          ...                ...  ...  ...         ...   \n",
       "6745  02/05/2020          NaN       CAMPO GRANDE  5.2    F  De 40 a 49   \n",
       "6746  02/05/2020          NaN         INDEFINIDO  N/D    M  De 30 a 39   \n",
       "6747  02/05/2020          NaN       CAMPO GRANDE  5.2    F  De 30 a 39   \n",
       "6748  02/05/2020          NaN         INDEFINIDO  N/D    F  De 40 a 49   \n",
       "6749  02/05/2020          NaN              BANGU  5.1    F  De 80 a 89   \n",
       "\n",
       "        Evolucao  \n",
       "0     Recuperado  \n",
       "1     Recuperado  \n",
       "2     Recuperado  \n",
       "3     Recuperado  \n",
       "4     Recuperado  \n",
       "...          ...  \n",
       "6745       Ativo  \n",
       "6746       Ativo  \n",
       "6747       Ativo  \n",
       "6748       Ativo  \n",
       "6749       Ativo  \n",
       "\n",
       "[6750 rows x 7 columns]"
      ]
     },
     "execution_count": 6,
     "metadata": {},
     "output_type": "execute_result"
    }
   ],
   "source": [
    "df3[0]"
   ]
  },
  {
   "cell_type": "code",
   "execution_count": 7,
   "metadata": {},
   "outputs": [],
   "source": [
    "df2, df_break = mc.scripts.set_df('estado_rj', {'df_break': True})"
   ]
  },
  {
   "cell_type": "code",
   "execution_count": 8,
   "metadata": {},
   "outputs": [
    {
     "data": {
      "text/html": [
       "<div>\n",
       "<style scoped>\n",
       "    .dataframe tbody tr th:only-of-type {\n",
       "        vertical-align: middle;\n",
       "    }\n",
       "\n",
       "    .dataframe tbody tr th {\n",
       "        vertical-align: top;\n",
       "    }\n",
       "\n",
       "    .dataframe thead th {\n",
       "        text-align: right;\n",
       "    }\n",
       "</style>\n",
       "<table border=\"1\" class=\"dataframe\">\n",
       "  <thead>\n",
       "    <tr style=\"text-align: right;\">\n",
       "      <th></th>\n",
       "      <th>Sexo</th>\n",
       "      <th>FaixaEtaria</th>\n",
       "      <th>Municipio</th>\n",
       "      <th>DataSintomas</th>\n",
       "      <th>Data</th>\n",
       "      <th>Evolucao</th>\n",
       "      <th>DataObito</th>\n",
       "      <th>Comorbidades</th>\n",
       "    </tr>\n",
       "  </thead>\n",
       "  <tbody>\n",
       "    <tr>\n",
       "      <th>0</th>\n",
       "      <td>M</td>\n",
       "      <td>50</td>\n",
       "      <td>RIO DE JANEIRO</td>\n",
       "      <td>NaN</td>\n",
       "      <td>2020-04-15</td>\n",
       "      <td>NaN</td>\n",
       "      <td>NaN</td>\n",
       "      <td>NaN</td>\n",
       "    </tr>\n",
       "    <tr>\n",
       "      <th>1</th>\n",
       "      <td>M</td>\n",
       "      <td>76</td>\n",
       "      <td>RIO DE JANEIRO</td>\n",
       "      <td>NaN</td>\n",
       "      <td>2020-03-24</td>\n",
       "      <td>Recuperado</td>\n",
       "      <td>NaN</td>\n",
       "      <td>NaN</td>\n",
       "    </tr>\n",
       "    <tr>\n",
       "      <th>2</th>\n",
       "      <td>M</td>\n",
       "      <td>68</td>\n",
       "      <td>TERESOPOLIS</td>\n",
       "      <td>2020-03-24</td>\n",
       "      <td>2020-04-02</td>\n",
       "      <td>Óbito</td>\n",
       "      <td>2020-04-14</td>\n",
       "      <td>SIM</td>\n",
       "    </tr>\n",
       "    <tr>\n",
       "      <th>3</th>\n",
       "      <td>M</td>\n",
       "      <td>83</td>\n",
       "      <td>RIO DE JANEIRO</td>\n",
       "      <td>NaN</td>\n",
       "      <td>2020-05-01</td>\n",
       "      <td>NaN</td>\n",
       "      <td>NaN</td>\n",
       "      <td>NaN</td>\n",
       "    </tr>\n",
       "    <tr>\n",
       "      <th>4</th>\n",
       "      <td>M</td>\n",
       "      <td>41</td>\n",
       "      <td>TERESOPOLIS</td>\n",
       "      <td>2020-04-12</td>\n",
       "      <td>2020-04-22</td>\n",
       "      <td>NaN</td>\n",
       "      <td>NaN</td>\n",
       "      <td>NaN</td>\n",
       "    </tr>\n",
       "    <tr>\n",
       "      <th>...</th>\n",
       "      <td>...</td>\n",
       "      <td>...</td>\n",
       "      <td>...</td>\n",
       "      <td>...</td>\n",
       "      <td>...</td>\n",
       "      <td>...</td>\n",
       "      <td>...</td>\n",
       "      <td>...</td>\n",
       "    </tr>\n",
       "    <tr>\n",
       "      <th>13933</th>\n",
       "      <td>M</td>\n",
       "      <td>53</td>\n",
       "      <td>RIO DE JANEIRO</td>\n",
       "      <td>NaN</td>\n",
       "      <td>2020-04-12</td>\n",
       "      <td>NaN</td>\n",
       "      <td>NaN</td>\n",
       "      <td>NaN</td>\n",
       "    </tr>\n",
       "    <tr>\n",
       "      <th>13935</th>\n",
       "      <td>F</td>\n",
       "      <td>53</td>\n",
       "      <td>RIO DE JANEIRO</td>\n",
       "      <td>NaN</td>\n",
       "      <td>2020-04-09</td>\n",
       "      <td>NaN</td>\n",
       "      <td>NaN</td>\n",
       "      <td>NaN</td>\n",
       "    </tr>\n",
       "    <tr>\n",
       "      <th>13937</th>\n",
       "      <td>F</td>\n",
       "      <td>49</td>\n",
       "      <td>RIO DE JANEIRO</td>\n",
       "      <td>NaN</td>\n",
       "      <td>2020-04-16</td>\n",
       "      <td>NaN</td>\n",
       "      <td>NaN</td>\n",
       "      <td>NaN</td>\n",
       "    </tr>\n",
       "    <tr>\n",
       "      <th>13938</th>\n",
       "      <td>F</td>\n",
       "      <td>65</td>\n",
       "      <td>RIO DE JANEIRO</td>\n",
       "      <td>2020-03-20</td>\n",
       "      <td>2020-04-11</td>\n",
       "      <td>NaN</td>\n",
       "      <td>NaN</td>\n",
       "      <td>NaN</td>\n",
       "    </tr>\n",
       "    <tr>\n",
       "      <th>13939</th>\n",
       "      <td>F</td>\n",
       "      <td>35</td>\n",
       "      <td>RIO DE JANEIRO</td>\n",
       "      <td>NaN</td>\n",
       "      <td>2020-04-16</td>\n",
       "      <td>NAO</td>\n",
       "      <td>NaN</td>\n",
       "      <td>NaN</td>\n",
       "    </tr>\n",
       "  </tbody>\n",
       "</table>\n",
       "<p>11139 rows × 8 columns</p>\n",
       "</div>"
      ],
      "text/plain": [
       "      Sexo FaixaEtaria       Municipio DataSintomas        Data    Evolucao  \\\n",
       "0        M          50  RIO DE JANEIRO          NaN  2020-04-15         NaN   \n",
       "1        M          76  RIO DE JANEIRO          NaN  2020-03-24  Recuperado   \n",
       "2        M          68     TERESOPOLIS   2020-03-24  2020-04-02       Óbito   \n",
       "3        M          83  RIO DE JANEIRO          NaN  2020-05-01         NaN   \n",
       "4        M          41     TERESOPOLIS   2020-04-12  2020-04-22         NaN   \n",
       "...    ...         ...             ...          ...         ...         ...   \n",
       "13933    M          53  RIO DE JANEIRO          NaN  2020-04-12         NaN   \n",
       "13935    F          53  RIO DE JANEIRO          NaN  2020-04-09         NaN   \n",
       "13937    F          49  RIO DE JANEIRO          NaN  2020-04-16         NaN   \n",
       "13938    F          65  RIO DE JANEIRO   2020-03-20  2020-04-11         NaN   \n",
       "13939    F          35  RIO DE JANEIRO          NaN  2020-04-16         NAO   \n",
       "\n",
       "        DataObito Comorbidades  \n",
       "0             NaN          NaN  \n",
       "1             NaN          NaN  \n",
       "2      2020-04-14          SIM  \n",
       "3             NaN          NaN  \n",
       "4             NaN          NaN  \n",
       "...           ...          ...  \n",
       "13933         NaN          NaN  \n",
       "13935         NaN          NaN  \n",
       "13937         NaN          NaN  \n",
       "13938         NaN          NaN  \n",
       "13939         NaN          NaN  \n",
       "\n",
       "[11139 rows x 8 columns]"
      ]
     },
     "execution_count": 8,
     "metadata": {},
     "output_type": "execute_result"
    }
   ],
   "source": [
    "df2"
   ]
  },
  {
   "cell_type": "code",
   "execution_count": null,
   "metadata": {},
   "outputs": [],
   "source": [
    "lst = []"
   ]
  },
  {
   "cell_type": "code",
   "execution_count": null,
   "metadata": {},
   "outputs": [],
   "source": [
    "for i in lst:\n",
    "    print('')"
   ]
  },
  {
   "cell_type": "code",
   "execution_count": null,
   "metadata": {},
   "outputs": [],
   "source": [
    "df2"
   ]
  },
  {
   "cell_type": "code",
   "execution_count": 29,
   "metadata": {},
   "outputs": [
    {
     "ename": "NameError",
     "evalue": "name 'df' is not defined",
     "output_type": "error",
     "traceback": [
      "\u001b[1;31m---------------------------------------------------------------------------\u001b[0m",
      "\u001b[1;31mNameError\u001b[0m                                 Traceback (most recent call last)",
      "\u001b[1;32m<ipython-input-29-a4f12c57e449>\u001b[0m in \u001b[0;36m<module>\u001b[1;34m\u001b[0m\n\u001b[0;32m      1\u001b[0m \u001b[1;32mfor\u001b[0m \u001b[0mr\u001b[0m \u001b[1;32min\u001b[0m \u001b[0mconfigs\u001b[0m\u001b[1;33m[\u001b[0m\u001b[1;34m'df'\u001b[0m\u001b[1;33m]\u001b[0m\u001b[1;33m[\u001b[0m\u001b[1;34m'rename'\u001b[0m\u001b[1;33m]\u001b[0m\u001b[1;33m[\u001b[0m\u001b[1;34m'rj'\u001b[0m\u001b[1;33m]\u001b[0m\u001b[1;33m[\u001b[0m\u001b[1;34m'dados'\u001b[0m\u001b[1;33m]\u001b[0m\u001b[1;33m[\u001b[0m\u001b[1;34m'estado'\u001b[0m\u001b[1;33m]\u001b[0m\u001b[1;33m:\u001b[0m\u001b[1;33m\u001b[0m\u001b[1;33m\u001b[0m\u001b[0m\n\u001b[1;32m----> 2\u001b[1;33m     \u001b[0mdf\u001b[0m\u001b[1;33m[\u001b[0m\u001b[0mr\u001b[0m\u001b[1;33m]\u001b[0m\u001b[1;33m.\u001b[0m\u001b[0mreplace\u001b[0m\u001b[1;33m(\u001b[0m\u001b[0mconfigs\u001b[0m\u001b[1;33m[\u001b[0m\u001b[1;34m'df'\u001b[0m\u001b[1;33m]\u001b[0m\u001b[1;33m[\u001b[0m\u001b[1;34m'rename'\u001b[0m\u001b[1;33m]\u001b[0m\u001b[1;33m[\u001b[0m\u001b[1;34m'rj'\u001b[0m\u001b[1;33m]\u001b[0m\u001b[1;33m[\u001b[0m\u001b[1;34m'dados'\u001b[0m\u001b[1;33m]\u001b[0m\u001b[1;33m[\u001b[0m\u001b[1;34m'estado'\u001b[0m\u001b[1;33m]\u001b[0m\u001b[1;33m[\u001b[0m\u001b[0mr\u001b[0m\u001b[1;33m]\u001b[0m\u001b[1;33m,\u001b[0m \u001b[0minplace\u001b[0m \u001b[1;33m=\u001b[0m \u001b[1;32mTrue\u001b[0m\u001b[1;33m)\u001b[0m\u001b[1;33m\u001b[0m\u001b[1;33m\u001b[0m\u001b[0m\n\u001b[0m",
      "\u001b[1;31mNameError\u001b[0m: name 'df' is not defined"
     ]
    }
   ],
   "source": [
    "for r in configs['df']['rename']['rj']['dados']['estado']:\n",
    "    df[r].replace(configs['df']['rename']['rj']['dados']['estado'][r], inplace = True)"
   ]
  },
  {
   "cell_type": "code",
   "execution_count": 28,
   "metadata": {},
   "outputs": [
    {
     "data": {
      "text/plain": [
       "dict"
      ]
     },
     "execution_count": 28,
     "metadata": {},
     "output_type": "execute_result"
    }
   ],
   "source": [
    "type(configs['df']['rename']['rj']['dados']['estado']['Evolucao'])"
   ]
  },
  {
   "cell_type": "code",
   "execution_count": null,
   "metadata": {},
   "outputs": [],
   "source": [
    "df_conf_est"
   ]
  },
  {
   "cell_type": "code",
   "execution_count": 13,
   "metadata": {},
   "outputs": [],
   "source": [
    "di = {'RECUPERADO': 'Recuperado', 'recuperado': 'Recuperado', 'INTERNADO': 'Internado', 'internado': 'Internado', 'OBITO': 'Óbito', 'obito': 'Óbito'}"
   ]
  },
  {
   "cell_type": "code",
   "execution_count": 16,
   "metadata": {},
   "outputs": [
    {
     "data": {
      "text/html": [
       "<div>\n",
       "<style scoped>\n",
       "    .dataframe tbody tr th:only-of-type {\n",
       "        vertical-align: middle;\n",
       "    }\n",
       "\n",
       "    .dataframe tbody tr th {\n",
       "        vertical-align: top;\n",
       "    }\n",
       "\n",
       "    .dataframe thead th {\n",
       "        text-align: right;\n",
       "    }\n",
       "</style>\n",
       "<table border=\"1\" class=\"dataframe\">\n",
       "  <thead>\n",
       "    <tr style=\"text-align: right;\">\n",
       "      <th></th>\n",
       "      <th>sexo</th>\n",
       "      <th>idade</th>\n",
       "      <th>municipio_res</th>\n",
       "      <th>uf</th>\n",
       "      <th>dt_sintoma</th>\n",
       "      <th>dt_coleta_dt_notif</th>\n",
       "      <th>classificacao</th>\n",
       "      <th>evolucao</th>\n",
       "      <th>dt_obito</th>\n",
       "      <th>comorbidades</th>\n",
       "      <th>dias</th>\n",
       "    </tr>\n",
       "  </thead>\n",
       "  <tbody>\n",
       "    <tr>\n",
       "      <th>0</th>\n",
       "      <td>M</td>\n",
       "      <td>50</td>\n",
       "      <td>RIO DE JANEIRO</td>\n",
       "      <td>RJ</td>\n",
       "      <td>NaN</td>\n",
       "      <td>2020-04-15</td>\n",
       "      <td>CONFIRMADO</td>\n",
       "      <td>NaN</td>\n",
       "      <td>NaN</td>\n",
       "      <td>NaN</td>\n",
       "      <td>18</td>\n",
       "    </tr>\n",
       "    <tr>\n",
       "      <th>1</th>\n",
       "      <td>M</td>\n",
       "      <td>76</td>\n",
       "      <td>RIO DE JANEIRO</td>\n",
       "      <td>RJ</td>\n",
       "      <td>NaN</td>\n",
       "      <td>2020-03-24</td>\n",
       "      <td>CONFIRMADO</td>\n",
       "      <td>RECUPERADO</td>\n",
       "      <td>NaN</td>\n",
       "      <td>NaN</td>\n",
       "      <td>40</td>\n",
       "    </tr>\n",
       "    <tr>\n",
       "      <th>2</th>\n",
       "      <td>M</td>\n",
       "      <td>68</td>\n",
       "      <td>TERESOPOLIS</td>\n",
       "      <td>RJ</td>\n",
       "      <td>2020-03-24</td>\n",
       "      <td>2020-04-02</td>\n",
       "      <td>CONFIRMADO</td>\n",
       "      <td>OBITO</td>\n",
       "      <td>2020-04-14</td>\n",
       "      <td>SIM</td>\n",
       "      <td>31</td>\n",
       "    </tr>\n",
       "    <tr>\n",
       "      <th>3</th>\n",
       "      <td>M</td>\n",
       "      <td>83</td>\n",
       "      <td>RIO DE JANEIRO</td>\n",
       "      <td>RJ</td>\n",
       "      <td>NaN</td>\n",
       "      <td>2020-05-01</td>\n",
       "      <td>CONFIRMADO</td>\n",
       "      <td>NaN</td>\n",
       "      <td>NaN</td>\n",
       "      <td>NaN</td>\n",
       "      <td>2</td>\n",
       "    </tr>\n",
       "    <tr>\n",
       "      <th>4</th>\n",
       "      <td>M</td>\n",
       "      <td>41</td>\n",
       "      <td>TERESOPOLIS</td>\n",
       "      <td>RJ</td>\n",
       "      <td>2020-04-12</td>\n",
       "      <td>2020-04-22</td>\n",
       "      <td>CONFIRMADO</td>\n",
       "      <td>NaN</td>\n",
       "      <td>NaN</td>\n",
       "      <td>NaN</td>\n",
       "      <td>11</td>\n",
       "    </tr>\n",
       "    <tr>\n",
       "      <th>...</th>\n",
       "      <td>...</td>\n",
       "      <td>...</td>\n",
       "      <td>...</td>\n",
       "      <td>...</td>\n",
       "      <td>...</td>\n",
       "      <td>...</td>\n",
       "      <td>...</td>\n",
       "      <td>...</td>\n",
       "      <td>...</td>\n",
       "      <td>...</td>\n",
       "      <td>...</td>\n",
       "    </tr>\n",
       "    <tr>\n",
       "      <th>13935</th>\n",
       "      <td>F</td>\n",
       "      <td>53</td>\n",
       "      <td>RIO DE JANEIRO</td>\n",
       "      <td>RJ</td>\n",
       "      <td>NaN</td>\n",
       "      <td>2020-04-09</td>\n",
       "      <td>CONFIRMADO</td>\n",
       "      <td>NaN</td>\n",
       "      <td>NaN</td>\n",
       "      <td>NaN</td>\n",
       "      <td>24</td>\n",
       "    </tr>\n",
       "    <tr>\n",
       "      <th>13936</th>\n",
       "      <td>F</td>\n",
       "      <td>40</td>\n",
       "      <td>PIRAI</td>\n",
       "      <td>RJ</td>\n",
       "      <td>2020-03-24</td>\n",
       "      <td>2020-03-25</td>\n",
       "      <td>IGNORADO</td>\n",
       "      <td>NaN</td>\n",
       "      <td>NaN</td>\n",
       "      <td>NaN</td>\n",
       "      <td>39</td>\n",
       "    </tr>\n",
       "    <tr>\n",
       "      <th>13937</th>\n",
       "      <td>F</td>\n",
       "      <td>49</td>\n",
       "      <td>RIO DE JANEIRO</td>\n",
       "      <td>RJ</td>\n",
       "      <td>NaN</td>\n",
       "      <td>2020-04-16</td>\n",
       "      <td>CONFIRMADO</td>\n",
       "      <td>NaN</td>\n",
       "      <td>NaN</td>\n",
       "      <td>NaN</td>\n",
       "      <td>17</td>\n",
       "    </tr>\n",
       "    <tr>\n",
       "      <th>13938</th>\n",
       "      <td>F</td>\n",
       "      <td>65</td>\n",
       "      <td>RIO DE JANEIRO</td>\n",
       "      <td>RJ</td>\n",
       "      <td>2020-03-20</td>\n",
       "      <td>2020-04-11</td>\n",
       "      <td>CONFIRMADO</td>\n",
       "      <td>NaN</td>\n",
       "      <td>NaN</td>\n",
       "      <td>NaN</td>\n",
       "      <td>22</td>\n",
       "    </tr>\n",
       "    <tr>\n",
       "      <th>13939</th>\n",
       "      <td>F</td>\n",
       "      <td>35</td>\n",
       "      <td>RIO DE JANEIRO</td>\n",
       "      <td>RJ</td>\n",
       "      <td>NaN</td>\n",
       "      <td>2020-04-16</td>\n",
       "      <td>CONFIRMADO</td>\n",
       "      <td>NAO</td>\n",
       "      <td>NaN</td>\n",
       "      <td>NaN</td>\n",
       "      <td>17</td>\n",
       "    </tr>\n",
       "  </tbody>\n",
       "</table>\n",
       "<p>13940 rows × 11 columns</p>\n",
       "</div>"
      ],
      "text/plain": [
       "      sexo idade   municipio_res  uf  dt_sintoma dt_coleta_dt_notif  \\\n",
       "0        M    50  RIO DE JANEIRO  RJ         NaN         2020-04-15   \n",
       "1        M    76  RIO DE JANEIRO  RJ         NaN         2020-03-24   \n",
       "2        M    68     TERESOPOLIS  RJ  2020-03-24         2020-04-02   \n",
       "3        M    83  RIO DE JANEIRO  RJ         NaN         2020-05-01   \n",
       "4        M    41     TERESOPOLIS  RJ  2020-04-12         2020-04-22   \n",
       "...    ...   ...             ...  ..         ...                ...   \n",
       "13935    F    53  RIO DE JANEIRO  RJ         NaN         2020-04-09   \n",
       "13936    F    40           PIRAI  RJ  2020-03-24         2020-03-25   \n",
       "13937    F    49  RIO DE JANEIRO  RJ         NaN         2020-04-16   \n",
       "13938    F    65  RIO DE JANEIRO  RJ  2020-03-20         2020-04-11   \n",
       "13939    F    35  RIO DE JANEIRO  RJ         NaN         2020-04-16   \n",
       "\n",
       "      classificacao    evolucao    dt_obito comorbidades  dias  \n",
       "0        CONFIRMADO         NaN         NaN          NaN    18  \n",
       "1        CONFIRMADO  RECUPERADO         NaN          NaN    40  \n",
       "2        CONFIRMADO       OBITO  2020-04-14          SIM    31  \n",
       "3        CONFIRMADO         NaN         NaN          NaN     2  \n",
       "4        CONFIRMADO         NaN         NaN          NaN    11  \n",
       "...             ...         ...         ...          ...   ...  \n",
       "13935    CONFIRMADO         NaN         NaN          NaN    24  \n",
       "13936      IGNORADO         NaN         NaN          NaN    39  \n",
       "13937    CONFIRMADO         NaN         NaN          NaN    17  \n",
       "13938    CONFIRMADO         NaN         NaN          NaN    22  \n",
       "13939    CONFIRMADO         NAO         NaN          NaN    17  \n",
       "\n",
       "[13940 rows x 11 columns]"
      ]
     },
     "execution_count": 16,
     "metadata": {},
     "output_type": "execute_result"
    }
   ],
   "source": [
    "df_conf_est"
   ]
  },
  {
   "cell_type": "code",
   "execution_count": null,
   "metadata": {},
   "outputs": [],
   "source": [
    "df_conf_est['evolucao'].map(di).fillna(df_conf_est['evolucao']))"
   ]
  },
  {
   "cell_type": "code",
   "execution_count": 17,
   "metadata": {},
   "outputs": [],
   "source": [
    "df_conf_est['evolucao'].replace(pd.Series(di), inplace = True)"
   ]
  },
  {
   "cell_type": "code",
   "execution_count": 18,
   "metadata": {},
   "outputs": [
    {
     "data": {
      "text/html": [
       "<div>\n",
       "<style scoped>\n",
       "    .dataframe tbody tr th:only-of-type {\n",
       "        vertical-align: middle;\n",
       "    }\n",
       "\n",
       "    .dataframe tbody tr th {\n",
       "        vertical-align: top;\n",
       "    }\n",
       "\n",
       "    .dataframe thead th {\n",
       "        text-align: right;\n",
       "    }\n",
       "</style>\n",
       "<table border=\"1\" class=\"dataframe\">\n",
       "  <thead>\n",
       "    <tr style=\"text-align: right;\">\n",
       "      <th></th>\n",
       "      <th>sexo</th>\n",
       "      <th>idade</th>\n",
       "      <th>municipio_res</th>\n",
       "      <th>uf</th>\n",
       "      <th>dt_sintoma</th>\n",
       "      <th>dt_coleta_dt_notif</th>\n",
       "      <th>classificacao</th>\n",
       "      <th>evolucao</th>\n",
       "      <th>dt_obito</th>\n",
       "      <th>comorbidades</th>\n",
       "      <th>dias</th>\n",
       "    </tr>\n",
       "  </thead>\n",
       "  <tbody>\n",
       "    <tr>\n",
       "      <th>0</th>\n",
       "      <td>M</td>\n",
       "      <td>50</td>\n",
       "      <td>RIO DE JANEIRO</td>\n",
       "      <td>RJ</td>\n",
       "      <td>NaN</td>\n",
       "      <td>2020-04-15</td>\n",
       "      <td>CONFIRMADO</td>\n",
       "      <td>NaN</td>\n",
       "      <td>NaN</td>\n",
       "      <td>NaN</td>\n",
       "      <td>18</td>\n",
       "    </tr>\n",
       "    <tr>\n",
       "      <th>1</th>\n",
       "      <td>M</td>\n",
       "      <td>76</td>\n",
       "      <td>RIO DE JANEIRO</td>\n",
       "      <td>RJ</td>\n",
       "      <td>NaN</td>\n",
       "      <td>2020-03-24</td>\n",
       "      <td>CONFIRMADO</td>\n",
       "      <td>Recuperado</td>\n",
       "      <td>NaN</td>\n",
       "      <td>NaN</td>\n",
       "      <td>40</td>\n",
       "    </tr>\n",
       "    <tr>\n",
       "      <th>2</th>\n",
       "      <td>M</td>\n",
       "      <td>68</td>\n",
       "      <td>TERESOPOLIS</td>\n",
       "      <td>RJ</td>\n",
       "      <td>2020-03-24</td>\n",
       "      <td>2020-04-02</td>\n",
       "      <td>CONFIRMADO</td>\n",
       "      <td>Óbito</td>\n",
       "      <td>2020-04-14</td>\n",
       "      <td>SIM</td>\n",
       "      <td>31</td>\n",
       "    </tr>\n",
       "    <tr>\n",
       "      <th>3</th>\n",
       "      <td>M</td>\n",
       "      <td>83</td>\n",
       "      <td>RIO DE JANEIRO</td>\n",
       "      <td>RJ</td>\n",
       "      <td>NaN</td>\n",
       "      <td>2020-05-01</td>\n",
       "      <td>CONFIRMADO</td>\n",
       "      <td>NaN</td>\n",
       "      <td>NaN</td>\n",
       "      <td>NaN</td>\n",
       "      <td>2</td>\n",
       "    </tr>\n",
       "    <tr>\n",
       "      <th>4</th>\n",
       "      <td>M</td>\n",
       "      <td>41</td>\n",
       "      <td>TERESOPOLIS</td>\n",
       "      <td>RJ</td>\n",
       "      <td>2020-04-12</td>\n",
       "      <td>2020-04-22</td>\n",
       "      <td>CONFIRMADO</td>\n",
       "      <td>NaN</td>\n",
       "      <td>NaN</td>\n",
       "      <td>NaN</td>\n",
       "      <td>11</td>\n",
       "    </tr>\n",
       "    <tr>\n",
       "      <th>...</th>\n",
       "      <td>...</td>\n",
       "      <td>...</td>\n",
       "      <td>...</td>\n",
       "      <td>...</td>\n",
       "      <td>...</td>\n",
       "      <td>...</td>\n",
       "      <td>...</td>\n",
       "      <td>...</td>\n",
       "      <td>...</td>\n",
       "      <td>...</td>\n",
       "      <td>...</td>\n",
       "    </tr>\n",
       "    <tr>\n",
       "      <th>13935</th>\n",
       "      <td>F</td>\n",
       "      <td>53</td>\n",
       "      <td>RIO DE JANEIRO</td>\n",
       "      <td>RJ</td>\n",
       "      <td>NaN</td>\n",
       "      <td>2020-04-09</td>\n",
       "      <td>CONFIRMADO</td>\n",
       "      <td>NaN</td>\n",
       "      <td>NaN</td>\n",
       "      <td>NaN</td>\n",
       "      <td>24</td>\n",
       "    </tr>\n",
       "    <tr>\n",
       "      <th>13936</th>\n",
       "      <td>F</td>\n",
       "      <td>40</td>\n",
       "      <td>PIRAI</td>\n",
       "      <td>RJ</td>\n",
       "      <td>2020-03-24</td>\n",
       "      <td>2020-03-25</td>\n",
       "      <td>IGNORADO</td>\n",
       "      <td>NaN</td>\n",
       "      <td>NaN</td>\n",
       "      <td>NaN</td>\n",
       "      <td>39</td>\n",
       "    </tr>\n",
       "    <tr>\n",
       "      <th>13937</th>\n",
       "      <td>F</td>\n",
       "      <td>49</td>\n",
       "      <td>RIO DE JANEIRO</td>\n",
       "      <td>RJ</td>\n",
       "      <td>NaN</td>\n",
       "      <td>2020-04-16</td>\n",
       "      <td>CONFIRMADO</td>\n",
       "      <td>NaN</td>\n",
       "      <td>NaN</td>\n",
       "      <td>NaN</td>\n",
       "      <td>17</td>\n",
       "    </tr>\n",
       "    <tr>\n",
       "      <th>13938</th>\n",
       "      <td>F</td>\n",
       "      <td>65</td>\n",
       "      <td>RIO DE JANEIRO</td>\n",
       "      <td>RJ</td>\n",
       "      <td>2020-03-20</td>\n",
       "      <td>2020-04-11</td>\n",
       "      <td>CONFIRMADO</td>\n",
       "      <td>NaN</td>\n",
       "      <td>NaN</td>\n",
       "      <td>NaN</td>\n",
       "      <td>22</td>\n",
       "    </tr>\n",
       "    <tr>\n",
       "      <th>13939</th>\n",
       "      <td>F</td>\n",
       "      <td>35</td>\n",
       "      <td>RIO DE JANEIRO</td>\n",
       "      <td>RJ</td>\n",
       "      <td>NaN</td>\n",
       "      <td>2020-04-16</td>\n",
       "      <td>CONFIRMADO</td>\n",
       "      <td>NAO</td>\n",
       "      <td>NaN</td>\n",
       "      <td>NaN</td>\n",
       "      <td>17</td>\n",
       "    </tr>\n",
       "  </tbody>\n",
       "</table>\n",
       "<p>13940 rows × 11 columns</p>\n",
       "</div>"
      ],
      "text/plain": [
       "      sexo idade   municipio_res  uf  dt_sintoma dt_coleta_dt_notif  \\\n",
       "0        M    50  RIO DE JANEIRO  RJ         NaN         2020-04-15   \n",
       "1        M    76  RIO DE JANEIRO  RJ         NaN         2020-03-24   \n",
       "2        M    68     TERESOPOLIS  RJ  2020-03-24         2020-04-02   \n",
       "3        M    83  RIO DE JANEIRO  RJ         NaN         2020-05-01   \n",
       "4        M    41     TERESOPOLIS  RJ  2020-04-12         2020-04-22   \n",
       "...    ...   ...             ...  ..         ...                ...   \n",
       "13935    F    53  RIO DE JANEIRO  RJ         NaN         2020-04-09   \n",
       "13936    F    40           PIRAI  RJ  2020-03-24         2020-03-25   \n",
       "13937    F    49  RIO DE JANEIRO  RJ         NaN         2020-04-16   \n",
       "13938    F    65  RIO DE JANEIRO  RJ  2020-03-20         2020-04-11   \n",
       "13939    F    35  RIO DE JANEIRO  RJ         NaN         2020-04-16   \n",
       "\n",
       "      classificacao    evolucao    dt_obito comorbidades  dias  \n",
       "0        CONFIRMADO         NaN         NaN          NaN    18  \n",
       "1        CONFIRMADO  Recuperado         NaN          NaN    40  \n",
       "2        CONFIRMADO       Óbito  2020-04-14          SIM    31  \n",
       "3        CONFIRMADO         NaN         NaN          NaN     2  \n",
       "4        CONFIRMADO         NaN         NaN          NaN    11  \n",
       "...             ...         ...         ...          ...   ...  \n",
       "13935    CONFIRMADO         NaN         NaN          NaN    24  \n",
       "13936      IGNORADO         NaN         NaN          NaN    39  \n",
       "13937    CONFIRMADO         NaN         NaN          NaN    17  \n",
       "13938    CONFIRMADO         NaN         NaN          NaN    22  \n",
       "13939    CONFIRMADO         NAO         NaN          NaN    17  \n",
       "\n",
       "[13940 rows x 11 columns]"
      ]
     },
     "execution_count": 18,
     "metadata": {},
     "output_type": "execute_result"
    }
   ],
   "source": [
    "df_conf_est"
   ]
  },
  {
   "cell_type": "code",
   "execution_count": null,
   "metadata": {},
   "outputs": [],
   "source": [
    "df_break[3]"
   ]
  },
  {
   "cell_type": "code",
   "execution_count": null,
   "metadata": {},
   "outputs": [],
   "source": [
    "df = read_data(df_conf_est, fonte = 'estado')"
   ]
  },
  {
   "cell_type": "markdown",
   "metadata": {},
   "source": [
    "obs: na função read_data, inutilizamos todos os dados com 'NaN' na coluna de datas (isto é, casos sem data)."
   ]
  },
  {
   "cell_type": "code",
   "execution_count": null,
   "metadata": {},
   "outputs": [],
   "source": [
    "df[df['Data'] == '27/02/2020'] ## inicio: primeiro dia"
   ]
  },
  {
   "cell_type": "code",
   "execution_count": null,
   "metadata": {},
   "outputs": [],
   "source": [
    "dic_municipios = {v:unidecode.unidecode(v.upper()) for v in municipios[2]}"
   ]
  },
  {
   "cell_type": "code",
   "execution_count": null,
   "metadata": {},
   "outputs": [],
   "source": [
    "lst_conf = []\n",
    "for i in range(municipios[1]):\n",
    "    lst_conf.append(get_data(local = dic_municipios[municipios[2][i]], df = df, fonte = 'estado', \n",
    "                             T_fim = '23-04-2020', to_print = False))"
   ]
  },
  {
   "cell_type": "code",
   "execution_count": null,
   "metadata": {},
   "outputs": [],
   "source": [
    "## Preparando o Dicionario\n",
    "lst_dados = []\n",
    "for i in range(municipios[1]):\n",
    "    lst_dados.append(lst_conf[i][0][-2])"
   ]
  },
  {
   "cell_type": "code",
   "execution_count": null,
   "metadata": {},
   "outputs": [],
   "source": [
    "start = dt.datetime.strptime('29-03-2020', \"%d-%m-%Y\")\n",
    "then = dt.datetime.strptime('23-04-2020', \"%d-%m-%Y\")\n",
    "days = mdates.drange(start,then,dt.timedelta(days=1))\n",
    "dias = [str(mdates.num2date(v)).split(' ')[0] for v in days]"
   ]
  },
  {
   "cell_type": "markdown",
   "metadata": {},
   "source": [
    "### Montando o Dicionario e o DataFrame"
   ]
  },
  {
   "cell_type": "code",
   "execution_count": null,
   "metadata": {},
   "outputs": [],
   "source": [
    "dic = {'Cidade': municipios[2], 'Casos Confirmados': lst_dados}"
   ]
  },
  {
   "cell_type": "code",
   "execution_count": null,
   "metadata": {},
   "outputs": [],
   "source": [
    "df_confirmados = pd.DataFrame(dic)"
   ]
  },
  {
   "cell_type": "markdown",
   "metadata": {},
   "source": [
    "## Separando o DataFrame de semanas"
   ]
  },
  {
   "cell_type": "code",
   "execution_count": null,
   "metadata": {},
   "outputs": [],
   "source": [
    "## fonte: https://pt.wikipedia.org/wiki/Lista_de_munic%C3%ADpios_do_Rio_de_Janeiro_por_popula%C3%A7%C3%A3o\n",
    "pop_municipios = pd.read_csv('dados/pop_municipiosRJ.csv')"
   ]
  },
  {
   "cell_type": "code",
   "execution_count": null,
   "metadata": {},
   "outputs": [],
   "source": [
    "dic_populacao = {m:int(d.replace('.','').replace(' ', '')) for m,d in zip(pop_municipios['Municipio'].values,pop_municipios['Dados'].values)}"
   ]
  },
  {
   "cell_type": "code",
   "execution_count": null,
   "metadata": {},
   "outputs": [],
   "source": [
    "def get_dias(T_start, T_fim):\n",
    "    start = dt.datetime.strptime(T_start, \"%d-%m-%Y\")\n",
    "    then = dt.datetime.strptime(T_fim, \"%d-%m-%Y\")\n",
    "    days = mdates.drange(start,then,dt.timedelta(days=1))\n",
    "    dias = [str(mdates.num2date(v)).split(' ')[0] for v in days]\n",
    "    dias = [f'{d[-2:]}/{d[5:7]}/{d[:4]}' for d in dias]\n",
    "    return dias"
   ]
  },
  {
   "cell_type": "code",
   "execution_count": null,
   "metadata": {},
   "outputs": [],
   "source": [
    "T_start = '26-02-2020'\n",
    "T_fim = '22-04-2020'"
   ]
  },
  {
   "cell_type": "code",
   "execution_count": null,
   "metadata": {},
   "outputs": [],
   "source": [
    "df = read_data(df_conf_est, fonte = 'estado')\n",
    "dic_municipios = {v:unidecode.unidecode(v.upper()) for v in municipios[2]}\n",
    "lst_conf = []\n",
    "for i in range(municipios[1]):\n",
    "    lst_conf.append(get_data(local = dic_municipios[municipios[2][i]], df = df, fonte = 'estado', T_start = T_start, T_fim = T_fim, to_print = False))"
   ]
  },
  {
   "cell_type": "code",
   "execution_count": null,
   "metadata": {},
   "outputs": [],
   "source": [
    "lst_conf_acumul_semanas = []\n",
    "lst_conf_novos_semanas = [] \n",
    "for i in range(8):\n",
    "    if i == 7:\n",
    "        lst_conf_acumul_semanas.append([v[0][-1] * 1e5/dic_populacao[municipios[2][j]] for j,v in enumerate(lst_conf)])\n",
    "        lst_conf_novos_semanas.append([sum(v[1][i*7:]) * 1e5/dic_populacao[municipios[2][j]] for j,v in enumerate(lst_conf)])\n",
    "    else:\n",
    "        lst_conf_acumul_semanas.append([v[0][(i+1)*(7)] * 1e5/dic_populacao[municipios[2][j]] for j,v in enumerate(lst_conf)])\n",
    "        lst_conf_novos_semanas.append([sum(v[1][i*7:(i+1)*7]) * 1e5/dic_populacao[municipios[2][j]] for j,v in enumerate(lst_conf)])"
   ]
  },
  {
   "cell_type": "code",
   "execution_count": null,
   "metadata": {},
   "outputs": [],
   "source": [
    "lst_conf_novos_semanas = np.array(lst_conf_novos_semanas).flatten()\n",
    "lst_conf_acumul_semanas = np.array(lst_conf_acumul_semanas).flatten()"
   ]
  },
  {
   "cell_type": "code",
   "execution_count": null,
   "metadata": {},
   "outputs": [],
   "source": [
    "lst_semanas = [1]*92 + [2]*92 + [3]*92 + [4]*92 + [5]*92 + [6]*92 + [7]*92 + [8]*92"
   ]
  },
  {
   "cell_type": "code",
   "execution_count": null,
   "metadata": {},
   "outputs": [],
   "source": [
    "dias = get_dias('27-02-2020', '23-04-2020')[::7]\n",
    "dias_fim = get_dias('26-02-2020', '23-04-2020')[::7][1:]\n",
    "lst_dias_semanas = [dias[0]]*92 + [dias[1]]*92 + [dias[2]]*92 + [dias[3]]*92 + [dias[4]]*92 + [dias[5]]*92 + [dias[6]]*92 + [dias[7]]*92\n",
    "#n_semana = 2"
   ]
  },
  {
   "cell_type": "code",
   "execution_count": null,
   "metadata": {},
   "outputs": [],
   "source": [
    "dic_semanas = {'Semana': lst_semanas, 'Municipio': municipios[2]*8, 'Casos Novos': lst_conf_novos_semanas, 'Casos Acumulados': lst_conf_acumul_semanas,\n",
    "               'Início da semana': lst_dias_semanas}\n"
   ]
  },
  {
   "cell_type": "code",
   "execution_count": null,
   "metadata": {},
   "outputs": [],
   "source": [
    "df_semanas = pd.DataFrame(dic_semanas)"
   ]
  },
  {
   "cell_type": "code",
   "execution_count": null,
   "metadata": {},
   "outputs": [],
   "source": [
    "#df_semanas.to_csv('dados/geo_plot_erj_semanas_pronto.csv')"
   ]
  },
  {
   "cell_type": "markdown",
   "metadata": {},
   "source": [
    "## Fazendo o html de casos confirmados acumulados e casos confirmados novos:"
   ]
  },
  {
   "cell_type": "code",
   "execution_count": null,
   "metadata": {},
   "outputs": [],
   "source": [
    "df_semanas = df_semanas.round(decimals = 3) # pra usar só 3 casas decimais nos casos relativos"
   ]
  },
  {
   "cell_type": "code",
   "execution_count": null,
   "metadata": {},
   "outputs": [],
   "source": [
    "lst_conf_acumul_n = []\n",
    "lst_conf_novos_n = [] \n",
    "for i in range(8):\n",
    "    if i == 7:\n",
    "        lst_conf_acumul_n.append([v[0][-1] for j,v in enumerate(lst_conf)])\n",
    "        lst_conf_novos_n.append([sum(v[1][i*7:]) for j,v in enumerate(lst_conf)])\n",
    "    else:\n",
    "        lst_conf_acumul_n.append([v[0][(i+1)*(7)] for j,v in enumerate(lst_conf)])\n",
    "        lst_conf_novos_n.append([sum(v[1][i*7:(i+1)*7]) for j,v in enumerate(lst_conf)])"
   ]
  },
  {
   "cell_type": "code",
   "execution_count": null,
   "metadata": {},
   "outputs": [],
   "source": [
    "lst_conf_novos_n = np.array(lst_conf_novos_n).flatten()\n",
    "lst_conf_acumul_n = np.array(lst_conf_acumul_n).flatten()"
   ]
  },
  {
   "cell_type": "code",
   "execution_count": null,
   "metadata": {},
   "outputs": [],
   "source": [
    "dic_n =  {'Semana': lst_semanas, 'Municipio': municipios[2]*8, 'Casos Novos': lst_conf_novos_n, 'Casos Acumulados': lst_conf_acumul_n,\n",
    "               'Início da semana': lst_dias_semanas}"
   ]
  },
  {
   "cell_type": "code",
   "execution_count": null,
   "metadata": {},
   "outputs": [],
   "source": [
    "df_n = pd.DataFrame(dic_n)"
   ]
  },
  {
   "cell_type": "code",
   "execution_count": null,
   "metadata": {},
   "outputs": [],
   "source": [
    "import plotly.graph_objects as go"
   ]
  },
  {
   "cell_type": "code",
   "execution_count": null,
   "metadata": {},
   "outputs": [],
   "source": [
    "data_novos = []\n",
    "data_acumul = []\n",
    "for i in range(1,9):\n",
    "    n_semana = i\n",
    "    \n",
    "    data_1 = [go.Choropleth(z = df_semanas.loc[df_semanas['Semana'] == n_semana]['Casos Novos'], \n",
    "                          geojson = municipios[0],\n",
    "                          locations= df_semanas.loc[df_semanas['Semana'] == n_semana]['Municipio'],\n",
    "                           featureidkey = 'properties.name',\n",
    "                          colorscale = \"ylorrd\",\n",
    "                           colorbar_title = 'rel. 100 mil hab.',\n",
    "                            visible = (i==1),\n",
    "                            name = '',\n",
    "                            hovertemplate = df_semanas.loc[df_semanas['Semana'] == n_semana]['Municipio'].astype(str) + '<br>' + \\\n",
    "                            'Casos rel.: ' + df_semanas.loc[df_semanas['Semana'] == n_semana]['Casos Novos'].astype(str) + '<br>' + \\\n",
    "                               'Casos: ' + df_n.loc[df_n['Semana'] == n_semana]['Casos Novos'].astype(str),\n",
    "                          zmin = 0,\n",
    "                          zmax = 10)]\n",
    "    \n",
    "    data_2 = [go.Choropleth(z = df_semanas.loc[df_semanas['Semana'] == n_semana]['Casos Acumulados'], \n",
    "                          geojson = municipios[0],\n",
    "                          locations= df_semanas.loc[df_semanas['Semana'] == n_semana]['Municipio'],\n",
    "                           featureidkey = 'properties.name',\n",
    "                          colorscale = \"ylorrd\",\n",
    "                           colorbar_title = 'rel. 100 mil hab.',\n",
    "                            visible = False,\n",
    "                            name = '',\n",
    "                             hovertemplate = df_semanas.loc[df_semanas['Semana'] == n_semana]['Municipio'].astype(str) + '<br>' + \\\n",
    "                            'Casos rel.: ' + df_semanas.loc[df_semanas['Semana'] == n_semana]['Casos Acumulados'].astype(str) + '<br>' + \\\n",
    "                               'Casos: ' + df_n.loc[df_n['Semana'] == n_semana]['Casos Acumulados'].astype(str),\n",
    "                            zmin = 0,\n",
    "                            zmax = 31)]\n",
    "    \n",
    "    \n",
    "    \n",
    "    data_novos+= data_1\n",
    "    data_acumul+= data_2\n",
    "    \n",
    "data = data_novos + data_acumul"
   ]
  },
  {
   "cell_type": "code",
   "execution_count": null,
   "metadata": {},
   "outputs": [],
   "source": [
    "titles = [f'Casos <b>novos</b> de {dias[i -1]} até {dias_fim[i-1]} <br> no estado do Rio de Janeiro' for i in range(1,9)] + [f'Casos <b>acumulados</b> até {dias_fim[i-1]} <br> no estado do Rio de Janeiro' for i in range(1,9)]\n",
    "labels = [f'{dias[i -1]} até {dias_fim[i-1]}' for i in range(1,9)] + [f'até {dias_fim[i-1]}' for i in range(1,9)]"
   ]
  },
  {
   "cell_type": "code",
   "execution_count": null,
   "metadata": {},
   "outputs": [],
   "source": [
    "updatemenus = list([dict(active = 0,\n",
    "                         buttons = list([dict(label = labels[i],\n",
    "                                              method = 'update', \n",
    "                                              args = [{'visible':  [ j == i for j in range(len(data))] },\n",
    "                                                      {'title': titles[i]}\n",
    "                                                      ]) for i in range(len(data))])) ])"
   ]
  },
  {
   "cell_type": "code",
   "execution_count": null,
   "metadata": {},
   "outputs": [],
   "source": [
    "%%time\n",
    "fig = go.Figure(data= data)\n",
    "fig.update_layout(updatemenus = updatemenus, title = dict(text = 'Casos <b>novos</b> de 27/02/2020 até 04/03/2020 <br> no estado do Rio de Janeiro', x = 0.5))\n",
    "fig.update_geos(fitbounds=\"locations\", visible=False)\n",
    "fig.show()"
   ]
  },
  {
   "cell_type": "code",
   "execution_count": null,
   "metadata": {},
   "outputs": [],
   "source": [
    "#with open(\"Estado_plots.html\", \"w\") as f:\n",
    "#    f.write(fig.to_html())"
   ]
  },
  {
   "cell_type": "markdown",
   "metadata": {},
   "source": [
    "## continuação do notebook: \n",
    "## fazendo subplots com os casos confirmados acumulados"
   ]
  },
  {
   "cell_type": "code",
   "execution_count": null,
   "metadata": {
    "scrolled": false
   },
   "outputs": [],
   "source": [
    "for i in range(1,9):\n",
    "    n_semana = i\n",
    "    fig = px.choropleth(df_semanas.loc[df_semanas['Semana'] == n_semana], geojson = municipios[0], locations='Municipio', color='Casos Acumulados',\n",
    "                               color_continuous_scale = \"ylorrd\",\n",
    "                               range_color=(0,60),featureidkey=\"properties.name\",\n",
    "                               labels={'Casos Acumulados':'Casos por 100k habitantes'}\n",
    "                              )\n",
    "    fig.update_geos(fitbounds=\"locations\", visible=False)\n",
    "    fig.update_layout(margin={\"r\":0,\"t\":0,\"l\":0,\"b\":0}, title_text = f'Casos Confirmados por 100 mil habitantes <br>semana do dia {dias[n_semana -1]} até o dia {dias_fim[n_semana-1]}',\n",
    "                      title_y = 0.93, title_x = 0.4)\n",
    "    fig.show()"
   ]
  },
  {
   "cell_type": "markdown",
   "metadata": {},
   "source": [
    "## Animação dos casos confirmados acumulados"
   ]
  },
  {
   "cell_type": "code",
   "execution_count": null,
   "metadata": {},
   "outputs": [],
   "source": [
    "fig = px.choropleth(df_semanas, geojson = municipios[0], locations='Municipio', color='Casos Acumulados',\n",
    "                           color_continuous_scale = \"ylorrd\", animation_frame = 'Início da semana', animation_group = 'Municipio',\n",
    "                           range_color=(0,60),featureidkey=\"properties.name\",\n",
    "                           labels={'Casos Acumulados':'Casos por 100k habitantes'}\n",
    "                          )\n",
    "fig.update_geos(fitbounds=\"locations\", visible=False)\n",
    "fig.update_layout(margin={\"r\":0,\"t\":0,\"l\":0,\"b\":0}, title_text = f'Casos Confirmados por 100 mil habitantes', \n",
    "                  title_y = 0.93, title_x = 0.1)\n",
    "fig.show()"
   ]
  },
  {
   "cell_type": "code",
   "execution_count": null,
   "metadata": {},
   "outputs": [],
   "source": []
  }
 ],
 "metadata": {
  "kernelspec": {
   "display_name": "Python 3",
   "language": "python",
   "name": "python3"
  },
  "language_info": {
   "codemirror_mode": {
    "name": "ipython",
    "version": 3
   },
   "file_extension": ".py",
   "mimetype": "text/x-python",
   "name": "python",
   "nbconvert_exporter": "python",
   "pygments_lexer": "ipython3",
   "version": "3.6.5"
  }
 },
 "nbformat": 4,
 "nbformat_minor": 4
}
