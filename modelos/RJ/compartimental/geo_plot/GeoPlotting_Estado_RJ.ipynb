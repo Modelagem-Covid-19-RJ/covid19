{
 "cells": [
  {
   "cell_type": "code",
   "execution_count": null,
   "metadata": {},
   "outputs": [],
   "source": [
    "import numpy as np\n",
    "import pandas as pd\n",
    "import plotly.express as px\n",
    "import json\n",
    "import datetime as dt\n",
    "import matplotlib.dates as mdates\n",
    "import unidecode\n",
    "\n",
    "from get_data import read_data, get_data, download_csv"
   ]
  },
  {
   "cell_type": "markdown",
   "metadata": {},
   "source": [
    "### Carregando o Arquivo JSON"
   ]
  },
  {
   "cell_type": "code",
   "execution_count": null,
   "metadata": {},
   "outputs": [],
   "source": [
    "municipios = [[],[],[]] ## 0: Json File - 1: Nº de municipios - 2: Nome dos municipios\n",
    "with open('dados/geojs-33-mun.json', encoding='iso-8859-1') as fh:\n",
    "    municipios[0] = json.load(fh)"
   ]
  },
  {
   "cell_type": "code",
   "execution_count": null,
   "metadata": {},
   "outputs": [],
   "source": [
    "municipios[1] = len(municipios[0]['features']) ## número total de municipios no estado"
   ]
  },
  {
   "cell_type": "markdown",
   "metadata": {},
   "source": [
    "### Retirando os nomes dos municipios"
   ]
  },
  {
   "cell_type": "code",
   "execution_count": null,
   "metadata": {},
   "outputs": [],
   "source": [
    "for i in range(municipios[1]):\n",
    "    municipios[2].append(municipios[0]['features'][i]['properties']['name'])"
   ]
  },
  {
   "cell_type": "markdown",
   "metadata": {},
   "source": [
    "### Carregando arquivos de dados do Estado"
   ]
  },
  {
   "cell_type": "code",
   "execution_count": null,
   "metadata": {},
   "outputs": [],
   "source": [
    "arquivo_conf_est = 'dados/BICOVIDREAIS_22abrREV.csv'\n",
    "\n",
    "df_conf_est = pd.read_csv(arquivo_conf_est, delimiter = ';')"
   ]
  },
  {
   "cell_type": "code",
   "execution_count": null,
   "metadata": {},
   "outputs": [],
   "source": [
    "df = read_data(df_conf_est, fonte = 'estado')"
   ]
  },
  {
   "cell_type": "markdown",
   "metadata": {},
   "source": [
    "obs: na função read_data, inutilizamos todos os dados com 'NaN' na coluna de datas (isto é, casos sem data)."
   ]
  },
  {
   "cell_type": "code",
   "execution_count": null,
   "metadata": {},
   "outputs": [],
   "source": [
    "df[df['Data'] == '27/02/2020'] ## inicio: primeiro dia"
   ]
  },
  {
   "cell_type": "code",
   "execution_count": null,
   "metadata": {},
   "outputs": [],
   "source": [
    "dic_municipios = {v:unidecode.unidecode(v.upper()) for v in municipios[2]}"
   ]
  },
  {
   "cell_type": "code",
   "execution_count": null,
   "metadata": {},
   "outputs": [],
   "source": [
    "lst_conf = []\n",
    "for i in range(municipios[1]):\n",
    "    lst_conf.append(get_data(local = dic_municipios[municipios[2][i]], df = df, fonte = 'estado', \n",
    "                             T_fim = '23-04-2020', to_print = False))"
   ]
  },
  {
   "cell_type": "code",
   "execution_count": null,
   "metadata": {},
   "outputs": [],
   "source": [
    "## Preparando o Dicionario\n",
    "lst_dados = []\n",
    "for i in range(municipios[1]):\n",
    "    lst_dados.append(lst_conf[i][0][-2])"
   ]
  },
  {
   "cell_type": "code",
   "execution_count": null,
   "metadata": {},
   "outputs": [],
   "source": [
    "start = dt.datetime.strptime('29-03-2020', \"%d-%m-%Y\")\n",
    "then = dt.datetime.strptime('23-04-2020', \"%d-%m-%Y\")\n",
    "days = mdates.drange(start,then,dt.timedelta(days=1))\n",
    "dias = [str(mdates.num2date(v)).split(' ')[0] for v in days]"
   ]
  },
  {
   "cell_type": "markdown",
   "metadata": {},
   "source": [
    "### Montando o Dicionario e o DataFrame"
   ]
  },
  {
   "cell_type": "code",
   "execution_count": null,
   "metadata": {},
   "outputs": [],
   "source": [
    "dic = {'Cidade': municipios[2], 'Casos Confirmados': lst_dados}"
   ]
  },
  {
   "cell_type": "code",
   "execution_count": null,
   "metadata": {},
   "outputs": [],
   "source": [
    "df_confirmados = pd.DataFrame(dic)"
   ]
  },
  {
   "cell_type": "markdown",
   "metadata": {},
   "source": [
    "## Separando o DataFrame de semanas"
   ]
  },
  {
   "cell_type": "code",
   "execution_count": null,
   "metadata": {},
   "outputs": [],
   "source": [
    "## fonte: https://pt.wikipedia.org/wiki/Lista_de_munic%C3%ADpios_do_Rio_de_Janeiro_por_popula%C3%A7%C3%A3o\n",
    "pop_municipios = pd.read_csv('dados/pop_municipiosRJ.csv')"
   ]
  },
  {
   "cell_type": "code",
   "execution_count": null,
   "metadata": {},
   "outputs": [],
   "source": [
    "dic_populacao = {m:int(d.replace('.','').replace(' ', '')) for m,d in zip(pop_municipios['Municipio'].values,pop_municipios['Dados'].values)}"
   ]
  },
  {
   "cell_type": "code",
   "execution_count": null,
   "metadata": {},
   "outputs": [],
   "source": [
    "def get_dias(T_start, T_fim):\n",
    "    start = dt.datetime.strptime(T_start, \"%d-%m-%Y\")\n",
    "    then = dt.datetime.strptime(T_fim, \"%d-%m-%Y\")\n",
    "    days = mdates.drange(start,then,dt.timedelta(days=1))\n",
    "    dias = [str(mdates.num2date(v)).split(' ')[0] for v in days]\n",
    "    dias = [f'{d[-2:]}/{d[5:7]}/{d[:4]}' for d in dias]\n",
    "    return dias"
   ]
  },
  {
   "cell_type": "code",
   "execution_count": null,
   "metadata": {},
   "outputs": [],
   "source": [
    "T_start = '26-02-2020'\n",
    "T_fim = '22-04-2020'"
   ]
  },
  {
   "cell_type": "code",
   "execution_count": null,
   "metadata": {},
   "outputs": [],
   "source": [
    "df = read_data(df_conf_est, fonte = 'estado')\n",
    "dic_municipios = {v:unidecode.unidecode(v.upper()) for v in municipios[2]}\n",
    "lst_conf = []\n",
    "for i in range(municipios[1]):\n",
    "    lst_conf.append(get_data(local = dic_municipios[municipios[2][i]], df = df, fonte = 'estado', T_start = T_start, T_fim = T_fim, to_print = False))"
   ]
  },
  {
   "cell_type": "code",
   "execution_count": null,
   "metadata": {},
   "outputs": [],
   "source": [
    "lst_conf_acumul_semanas = []\n",
    "lst_conf_novos_semanas = [] \n",
    "for i in range(8):\n",
    "    if i == 7:\n",
    "        lst_conf_acumul_semanas.append([v[0][-1] * 1e5/dic_populacao[municipios[2][j]] for j,v in enumerate(lst_conf)])\n",
    "        lst_conf_novos_semanas.append([sum(v[1][i*7:]) * 1e5/dic_populacao[municipios[2][j]] for j,v in enumerate(lst_conf)])\n",
    "    else:\n",
    "        lst_conf_acumul_semanas.append([v[0][(i+1)*(7)] * 1e5/dic_populacao[municipios[2][j]] for j,v in enumerate(lst_conf)])\n",
    "        lst_conf_novos_semanas.append([sum(v[1][i*7:(i+1)*7]) * 1e5/dic_populacao[municipios[2][j]] for j,v in enumerate(lst_conf)])"
   ]
  },
  {
   "cell_type": "code",
   "execution_count": null,
   "metadata": {},
   "outputs": [],
   "source": [
    "lst_conf_novos_semanas = np.array(lst_conf_novos_semanas).flatten()\n",
    "lst_conf_acumul_semanas = np.array(lst_conf_acumul_semanas).flatten()"
   ]
  },
  {
   "cell_type": "code",
   "execution_count": null,
   "metadata": {},
   "outputs": [],
   "source": [
    "lst_semanas = [1]*92 + [2]*92 + [3]*92 + [4]*92 + [5]*92 + [6]*92 + [7]*92 + [8]*92"
   ]
  },
  {
   "cell_type": "code",
   "execution_count": null,
   "metadata": {},
   "outputs": [],
   "source": [
    "dias = get_dias('27-02-2020', '23-04-2020')[::7]\n",
    "dias_fim = get_dias('26-02-2020', '23-04-2020')[::7][1:]\n",
    "lst_dias_semanas = [dias[0]]*92 + [dias[1]]*92 + [dias[2]]*92 + [dias[3]]*92 + [dias[4]]*92 + [dias[5]]*92 + [dias[6]]*92 + [dias[7]]*92\n",
    "#n_semana = 2"
   ]
  },
  {
   "cell_type": "code",
   "execution_count": null,
   "metadata": {},
   "outputs": [],
   "source": [
    "dic_semanas = {'Semana': lst_semanas, 'Municipio': municipios[2]*8, 'Casos Novos': lst_conf_novos_semanas, 'Casos Acumulados': lst_conf_acumul_semanas,\n",
    "               'Início da semana': lst_dias_semanas}\n"
   ]
  },
  {
   "cell_type": "code",
   "execution_count": null,
   "metadata": {},
   "outputs": [],
   "source": [
    "df_semanas = pd.DataFrame(dic_semanas)"
   ]
  },
  {
   "cell_type": "code",
   "execution_count": null,
   "metadata": {},
   "outputs": [],
   "source": [
    "#df_semanas.to_csv('dados/geo_plot_erj_semanas_pronto.csv')"
   ]
  },
  {
   "cell_type": "markdown",
   "metadata": {},
   "source": [
    "## Fazendo o html de casos confirmados acumulados e casos confirmados novos:"
   ]
  },
  {
   "cell_type": "code",
   "execution_count": null,
   "metadata": {},
   "outputs": [],
   "source": [
    "df_semanas = df_semanas.round(decimals = 3) # pra usar só 3 casas decimais nos casos relativos"
   ]
  },
  {
   "cell_type": "code",
   "execution_count": null,
   "metadata": {},
   "outputs": [],
   "source": [
    "lst_conf_acumul_n = []\n",
    "lst_conf_novos_n = [] \n",
    "for i in range(8):\n",
    "    if i == 7:\n",
    "        lst_conf_acumul_n.append([v[0][-1] for j,v in enumerate(lst_conf)])\n",
    "        lst_conf_novos_n.append([sum(v[1][i*7:]) for j,v in enumerate(lst_conf)])\n",
    "    else:\n",
    "        lst_conf_acumul_n.append([v[0][(i+1)*(7)] for j,v in enumerate(lst_conf)])\n",
    "        lst_conf_novos_n.append([sum(v[1][i*7:(i+1)*7]) for j,v in enumerate(lst_conf)])"
   ]
  },
  {
   "cell_type": "code",
   "execution_count": null,
   "metadata": {},
   "outputs": [],
   "source": [
    "lst_conf_novos_n = np.array(lst_conf_novos_n).flatten()\n",
    "lst_conf_acumul_n = np.array(lst_conf_acumul_n).flatten()"
   ]
  },
  {
   "cell_type": "code",
   "execution_count": null,
   "metadata": {},
   "outputs": [],
   "source": [
    "dic_n =  {'Semana': lst_semanas, 'Municipio': municipios[2]*8, 'Casos Novos': lst_conf_novos_n, 'Casos Acumulados': lst_conf_acumul_n,\n",
    "               'Início da semana': lst_dias_semanas}"
   ]
  },
  {
   "cell_type": "code",
   "execution_count": null,
   "metadata": {},
   "outputs": [],
   "source": [
    "df_n = pd.DataFrame(dic_n)"
   ]
  },
  {
   "cell_type": "code",
   "execution_count": null,
   "metadata": {},
   "outputs": [],
   "source": [
    "import plotly.graph_objects as go"
   ]
  },
  {
   "cell_type": "code",
   "execution_count": null,
   "metadata": {},
   "outputs": [],
   "source": [
    "data_novos = []\n",
    "data_acumul = []\n",
    "for i in range(1,9):\n",
    "    n_semana = i\n",
    "    \n",
    "    data_1 = [go.Choropleth(z = df_semanas.loc[df_semanas['Semana'] == n_semana]['Casos Novos'], \n",
    "                          geojson = municipios[0],\n",
    "                          locations= df_semanas.loc[df_semanas['Semana'] == n_semana]['Municipio'],\n",
    "                           featureidkey = 'properties.name',\n",
    "                          colorscale = \"ylorrd\",\n",
    "                           colorbar_title = 'rel. 100 mil hab.',\n",
    "                            visible = (i==1),\n",
    "                            name = '',\n",
    "                            hovertemplate = df_semanas.loc[df_semanas['Semana'] == n_semana]['Municipio'].astype(str) + '<br>' + \\\n",
    "                            'Casos rel.: ' + df_semanas.loc[df_semanas['Semana'] == n_semana]['Casos Novos'].astype(str) + '<br>' + \\\n",
    "                               'Casos: ' + df_n.loc[df_n['Semana'] == n_semana]['Casos Novos'].astype(str),\n",
    "                          zmin = 0,\n",
    "                          zmax = 10)]\n",
    "    \n",
    "    data_2 = [go.Choropleth(z = df_semanas.loc[df_semanas['Semana'] == n_semana]['Casos Acumulados'], \n",
    "                          geojson = municipios[0],\n",
    "                          locations= df_semanas.loc[df_semanas['Semana'] == n_semana]['Municipio'],\n",
    "                           featureidkey = 'properties.name',\n",
    "                          colorscale = \"ylorrd\",\n",
    "                           colorbar_title = 'rel. 100 mil hab.',\n",
    "                            visible = False,\n",
    "                            name = '',\n",
    "                             hovertemplate = df_semanas.loc[df_semanas['Semana'] == n_semana]['Municipio'].astype(str) + '<br>' + \\\n",
    "                            'Casos rel.: ' + df_semanas.loc[df_semanas['Semana'] == n_semana]['Casos Acumulados'].astype(str) + '<br>' + \\\n",
    "                               'Casos: ' + df_n.loc[df_n['Semana'] == n_semana]['Casos Acumulados'].astype(str),\n",
    "                            zmin = 0,\n",
    "                            zmax = 31)]\n",
    "    \n",
    "    \n",
    "    \n",
    "    data_novos+= data_1\n",
    "    data_acumul+= data_2\n",
    "    \n",
    "data = data_novos + data_acumul"
   ]
  },
  {
   "cell_type": "code",
   "execution_count": null,
   "metadata": {},
   "outputs": [],
   "source": [
    "titles = [f'Casos <b>novos</b> de {dias[i -1]} até {dias_fim[i-1]} <br> no estado do Rio de Janeiro' for i in range(1,9)] + [f'Casos <b>acumulados</b> até {dias_fim[i-1]} <br> no estado do Rio de Janeiro' for i in range(1,9)]\n",
    "labels = [f'{dias[i -1]} até {dias_fim[i-1]}' for i in range(1,9)] + [f'até {dias_fim[i-1]}' for i in range(1,9)]"
   ]
  },
  {
   "cell_type": "code",
   "execution_count": null,
   "metadata": {},
   "outputs": [],
   "source": [
    "updatemenus = list([dict(active = 0,\n",
    "                         buttons = list([dict(label = labels[i],\n",
    "                                              method = 'update', \n",
    "                                              args = [{'visible':  [ j == i for j in range(len(data))] },\n",
    "                                                      {'title': titles[i]}\n",
    "                                                      ]) for i in range(len(data))])) ])"
   ]
  },
  {
   "cell_type": "code",
   "execution_count": null,
   "metadata": {},
   "outputs": [],
   "source": [
    "%%time\n",
    "fig = go.Figure(data= data)\n",
    "fig.update_layout(updatemenus = updatemenus, title = dict(text = 'Casos <b>novos</b> de 27/02/2020 até 04/03/2020 <br> no estado do Rio de Janeiro', x = 0.5))\n",
    "fig.update_geos(fitbounds=\"locations\", visible=False)\n",
    "fig.show()"
   ]
  },
  {
   "cell_type": "code",
   "execution_count": null,
   "metadata": {},
   "outputs": [],
   "source": [
    "#with open(\"Estado_plots.html\", \"w\") as f:\n",
    "#    f.write(fig.to_html())"
   ]
  },
  {
   "cell_type": "markdown",
   "metadata": {},
   "source": [
    "## continuação do notebook: \n",
    "## fazendo subplots com os casos confirmados acumulados"
   ]
  },
  {
   "cell_type": "code",
   "execution_count": null,
   "metadata": {
    "scrolled": false
   },
   "outputs": [],
   "source": [
    "for i in range(1,9):\n",
    "    n_semana = i\n",
    "    fig = px.choropleth(df_semanas.loc[df_semanas['Semana'] == n_semana], geojson = municipios[0], locations='Municipio', color='Casos Acumulados',\n",
    "                               color_continuous_scale = \"ylorrd\",\n",
    "                               range_color=(0,60),featureidkey=\"properties.name\",\n",
    "                               labels={'Casos Acumulados':'Casos por 100k habitantes'}\n",
    "                              )\n",
    "    fig.update_geos(fitbounds=\"locations\", visible=False)\n",
    "    fig.update_layout(margin={\"r\":0,\"t\":0,\"l\":0,\"b\":0}, title_text = f'Casos Confirmados por 100 mil habitantes <br>semana do dia {dias[n_semana -1]} até o dia {dias_fim[n_semana-1]}',\n",
    "                      title_y = 0.93, title_x = 0.4)\n",
    "    fig.show()"
   ]
  },
  {
   "cell_type": "markdown",
   "metadata": {},
   "source": [
    "## Animação dos casos confirmados acumulados"
   ]
  },
  {
   "cell_type": "code",
   "execution_count": null,
   "metadata": {},
   "outputs": [],
   "source": [
    "fig = px.choropleth(df_semanas, geojson = municipios[0], locations='Municipio', color='Casos Acumulados',\n",
    "                           color_continuous_scale = \"ylorrd\", animation_frame = 'Início da semana', animation_group = 'Municipio',\n",
    "                           range_color=(0,60),featureidkey=\"properties.name\",\n",
    "                           labels={'Casos Acumulados':'Casos por 100k habitantes'}\n",
    "                          )\n",
    "fig.update_geos(fitbounds=\"locations\", visible=False)\n",
    "fig.update_layout(margin={\"r\":0,\"t\":0,\"l\":0,\"b\":0}, title_text = f'Casos Confirmados por 100 mil habitantes', \n",
    "                  title_y = 0.93, title_x = 0.1)\n",
    "fig.show()"
   ]
  },
  {
   "cell_type": "code",
   "execution_count": null,
   "metadata": {},
   "outputs": [],
   "source": []
  }
 ],
 "metadata": {
  "kernelspec": {
   "display_name": "Python 3",
   "language": "python",
   "name": "python3"
  },
  "language_info": {
   "codemirror_mode": {
    "name": "ipython",
    "version": 3
   },
   "file_extension": ".py",
   "mimetype": "text/x-python",
   "name": "python",
   "nbconvert_exporter": "python",
   "pygments_lexer": "ipython3",
   "version": "3.6.5"
  }
 },
 "nbformat": 4,
 "nbformat_minor": 4
}
