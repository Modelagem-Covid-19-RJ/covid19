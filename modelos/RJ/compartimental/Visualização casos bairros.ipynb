{
 "cells": [
  {
   "cell_type": "code",
   "execution_count": 1,
   "metadata": {},
   "outputs": [],
   "source": [
    "import numpy as np\n",
    "import pandas as pd\n",
    "import plotly.graph_objects as go\n",
    "from ipywidgets import widgets\n",
    "import plotly.express as px\n",
    "from get_data import read_data, get_data"
   ]
  },
  {
   "cell_type": "code",
   "execution_count": 2,
   "metadata": {},
   "outputs": [],
   "source": [
    "import git\n",
    "import sys\n",
    "\n",
    "root_dir = git.Repo('.', search_parent_directories=True).working_tree_dir\n",
    "sys.path.insert(1, root_dir)"
   ]
  },
  {
   "cell_type": "code",
   "execution_count": 3,
   "metadata": {},
   "outputs": [],
   "source": [
    "df_bairros = pd.read_csv('Dados_indiv_MRJ_covid19.csv', delimiter = ';')\n",
    "df_bairros = read_data(df_bairros, 'prefeitura')\n",
    "df_bairros = df_bairros.drop(columns = ['Bairro', 'AP Residência'])\n",
    "df_bairros.rename(mapper = {'Faixa Etaria': 'AP Residência', 'Situação atual':'Bairro', \n",
    "                                         'Data_atualização':'Situação atual'},axis = 1, inplace = True)\n",
    "df_bairros['AP Residência'].replace({'#N/D':'3.1'}, inplace = True)\n",
    "df_bairros['Bairro'].replace({'COMPLEXO DA MARE': 'MARE'}, inplace = True)\n",
    "df_bairros = df_bairros[df_bairros['Bairro'] != 'INDEFINIDO']\n",
    "df_bairros = df_bairros[df_bairros['Bairro'] != 'FORA DO MUNICÍPIO']"
   ]
  },
  {
   "cell_type": "code",
   "execution_count": 4,
   "metadata": {},
   "outputs": [
    {
     "data": {
      "text/plain": [
       "('BARRA DA TIJUCA', '4.0')"
      ]
     },
     "execution_count": 4,
     "metadata": {},
     "output_type": "execute_result"
    }
   ],
   "source": [
    "df_bairros['Bairro'][0], df_bairros['AP Residência'][0]"
   ]
  },
  {
   "cell_type": "code",
   "execution_count": 32,
   "metadata": {},
   "outputs": [],
   "source": [
    "#for i in range(len(df_bairros['Bairro'])):\n",
    "#    print(list(df_bairros['AP Residência'])[i].split('.')[0])"
   ]
  },
  {
   "cell_type": "code",
   "execution_count": 5,
   "metadata": {},
   "outputs": [],
   "source": [
    "bairros = df_bairros['Bairro'].unique()"
   ]
  },
  {
   "cell_type": "code",
   "execution_count": 6,
   "metadata": {},
   "outputs": [],
   "source": [
    "aps_bairros = {}\n",
    "for i in range(1,6):\n",
    "    ap = []\n",
    "    for j, b in enumerate(df_bairros['Bairro']):\n",
    "        if b in ap:\n",
    "            continue\n",
    "        else:\n",
    "            if list(df_bairros['AP Residência'])[j].split('.')[0] == str(i):\n",
    "                ap.append(b)\n",
    "    aps_bairros.update({i:ap})"
   ]
  },
  {
   "cell_type": "code",
   "execution_count": 28,
   "metadata": {},
   "outputs": [],
   "source": [
    "# dict bairro: ap (não usamos)\n",
    "'''bairros = {}\n",
    "for i, b in enumerate(df_bairros['Bairro']):\n",
    "    if b in bairros:\n",
    "        continue\n",
    "    else:\n",
    "        bairros.update({b:list(df_bairros['AP Residência'])[i].split('.')[0]})'''"
   ]
  },
  {
   "cell_type": "code",
   "execution_count": 228,
   "metadata": {},
   "outputs": [],
   "source": [
    "#dados_bairros_acum = [get_data(b, df_bairros, 'prefeitura', '05-05-2020', T_start = '15-03-2020', to_print = False)[0] for b in bairros]\n",
    "#dados_bairros_novos = [get_data(b, df_bairros, 'prefeitura', '05-05-2020', T_start = '15-03-2020', to_print = False)[1] for b in bairros]"
   ]
  },
  {
   "cell_type": "code",
   "execution_count": 7,
   "metadata": {},
   "outputs": [],
   "source": [
    "dados_acum = [[get_data(b, df_bairros, 'prefeitura', '03-05-2020', \n",
    "                        T_start = '15-03-2020', to_print = False)[0] for b in aps_bairros[i]] for i in range(1,6)]\n",
    "dados_novos = [[get_data(b, df_bairros, 'prefeitura', '03-05-2020', \n",
    "                        T_start = '15-03-2020', to_print = False)[1] for b in aps_bairros[i]] for i in range(1,6)]"
   ]
  },
  {
   "cell_type": "code",
   "execution_count": 10,
   "metadata": {},
   "outputs": [
    {
     "name": "stdout",
     "output_type": "stream",
     "text": [
      "15\n",
      "25\n",
      "80\n",
      "18\n",
      "21\n"
     ]
    }
   ],
   "source": [
    "for i in range(1,6):\n",
    "    print(len(aps_bairros[i]))"
   ]
  },
  {
   "cell_type": "code",
   "execution_count": 8,
   "metadata": {},
   "outputs": [],
   "source": [
    "updatemenus = list([\n",
    "    dict(active=5,\n",
    "         buttons=list([  \n",
    "             dict(label=\"AP1\",   \n",
    "                 method=\"update\",\n",
    "                 args=[{\"visible\": 15*[True] + 25*[False] + 80*[False] + 18*[False] + 21*[False]},\n",
    "                        {\"title\": \"Casos <b> acumulados </b>por bairro: AP1\",\n",
    "                        \"annotations\": []}]), \n",
    "            \n",
    "             dict(label = 'AP2',\n",
    "                 method = 'update',\n",
    "                 args = [{'visible': 15*[False] + 25*[True] + 80*[False] + 18*[False] + 21*[False]},\n",
    "                         {'title': 'Casos <b> acumulados </b>por bairro: AP2',\n",
    "                          'annotations': []}]),\n",
    "             dict(label = 'AP3',\n",
    "                 method = 'update',\n",
    "                 args = [{'visible': 15*[False] + 25*[False] + 80*[True] + 18*[False] + 21*[False]},\n",
    "                         {'title': 'Casos <b> acumulados </b>por bairro: AP3',\n",
    "                          'annotations': []}]),\n",
    "             dict(label = 'AP4',\n",
    "                 method = 'update',\n",
    "                 args = [{'visible': 15*[False] + 25*[False] + 80*[False] + 18*[True] + 21*[False]},\n",
    "                         {'title': 'Casos <b> acumulados </b>por bairro: AP4',\n",
    "                          'annotations': []}]),\n",
    "             dict(label = 'AP5',\n",
    "                 method = 'update',\n",
    "                 args = [{'visible': 15*[False] + 25*[False] + 80*[False] + 18*[False] + 21*[True]},\n",
    "                         {'title': 'Casos <b> acumulados </b>por bairro: AP5',\n",
    "                          'annotations': []}]),\n",
    "             dict(label = 'Todas as APs',\n",
    "                 method = 'update',\n",
    "                 args = [{'visible': 159*[True]},\n",
    "                         {'title': 'Casos <b> acumulados </b>por bairro: Todas as APs',\n",
    "                          'annotations': []}])\n",
    "             \n",
    "        ])\n",
    "    )\n",
    "])"
   ]
  },
  {
   "cell_type": "code",
   "execution_count": 10,
   "metadata": {},
   "outputs": [],
   "source": [
    "symbols = ['circle', 'square', 'diamond', 'cross', 'star']\n",
    "tickvals = [0,6,13,20,27,34,41,48]\n",
    "ticktext = ['15/03', '22/03', '29/03', '05/04', '12/04', '19/04', '26/04', '02/05']"
   ]
  },
  {
   "cell_type": "code",
   "execution_count": 11,
   "metadata": {},
   "outputs": [],
   "source": [
    "data = []\n",
    "for j in range(1,6):\n",
    "    for i, d in enumerate(dados_acum[j-1]):\n",
    "\n",
    "        data.append(go.Scatter(y = d, name = aps_bairros[j][i], marker = dict(symbol = symbols[j-1]), mode = 'lines+markers'))\n"
   ]
  },
  {
   "cell_type": "code",
   "execution_count": null,
   "metadata": {
    "scrolled": false
   },
   "outputs": [],
   "source": [
    "fig = go.Figure(data = data)\n",
    "fig.update_layout(title = dict(text = 'Casos <b> acumulados </b> por bairro: Todas as APs', x = 0.5), \n",
    "                  updatemenus = updatemenus, xaxis = dict(tickvals = tickvals, ticktext = ticktext))\n",
    "fig.show()"
   ]
  },
  {
   "cell_type": "code",
   "execution_count": 258,
   "metadata": {},
   "outputs": [],
   "source": [
    "#with open(\"series_temporais_bairros_acum.html\", \"w\") as f:\n",
    "#    f.write(fig.to_html())"
   ]
  },
  {
   "cell_type": "code",
   "execution_count": 12,
   "metadata": {},
   "outputs": [],
   "source": [
    "updatemenus2 = list([\n",
    "    dict(active=5,\n",
    "         buttons=list([  \n",
    "             dict(label=\"AP1\",   \n",
    "                 method=\"update\",\n",
    "                 args=[{\"visible\": 15*[True] + 25*[False] + 80*[False] + 18*[False] + 21*[False]},\n",
    "                        {\"title\": \"Casos <b> novos </b>por bairro: AP1\",\n",
    "                        \"annotations\": []}]), \n",
    "            \n",
    "             dict(label = 'AP2',\n",
    "                 method = 'update',\n",
    "                 args = [{'visible': 15*[False] + 25*[True] + 80*[False] + 18*[False] + 21*[False]},\n",
    "                         {'title': 'Casos <b> novos </b>por bairro: AP2',\n",
    "                          'annotations': []}]),\n",
    "             dict(label = 'AP3',\n",
    "                 method = 'update',\n",
    "                 args = [{'visible': 15*[False] + 25*[False] + 80*[True] + 18*[False] + 21*[False]},\n",
    "                         {'title': 'Casos <b> novos </b>por bairro: AP3',\n",
    "                          'annotations': []}]),\n",
    "             dict(label = 'AP4',\n",
    "                 method = 'update',\n",
    "                 args = [{'visible': 15*[False] + 25*[False] + 80*[False] + 18*[True] + 21*[False]},\n",
    "                         {'title': 'Casos <b> novos </b>por bairro: AP4',\n",
    "                          'annotations': []}]),\n",
    "             dict(label = 'AP5',\n",
    "                 method = 'update',\n",
    "                 args = [{'visible': 15*[False] + 25*[False] + 80*[False] + 18*[False] + 21*[True]},\n",
    "                         {'title': 'Casos <b> novos </b>por bairro: AP5',\n",
    "                          'annotations': []}]),\n",
    "             dict(label = 'Todas as APs',\n",
    "                 method = 'update',\n",
    "                 args = [{'visible': 159*[True]},\n",
    "                         {'title': 'Casos <b> novos </b>por bairro: Todas as APs',\n",
    "                          'annotations': []}])\n",
    "             \n",
    "        ])\n",
    "    )\n",
    "])"
   ]
  },
  {
   "cell_type": "code",
   "execution_count": 13,
   "metadata": {},
   "outputs": [],
   "source": [
    "data2 = []\n",
    "for j in range(1,6):\n",
    "    for i, d in enumerate(dados_novos[j-1]):\n",
    "\n",
    "        data2.append(go.Scatter(y = d, name = aps_bairros[j][i], marker = dict(symbol = symbols[j-1]), mode = 'lines+markers'))"
   ]
  },
  {
   "cell_type": "code",
   "execution_count": null,
   "metadata": {},
   "outputs": [],
   "source": [
    "fig2 = go.Figure(data = data2)\n",
    "fig2.update_layout(title = dict(text = 'Casos <b> novos </b> por bairro: Todas as APs', x = 0.3), \n",
    "                   updatemenus = updatemenus2, xaxis = dict(tickvals = tickvals, ticktext = ticktext))\n",
    "fig2.show()"
   ]
  },
  {
   "cell_type": "code",
   "execution_count": 262,
   "metadata": {},
   "outputs": [],
   "source": [
    "#with open(\"series_temporais_bairros_novos.html\", \"w\") as f:\n",
    "#    f.write(fig.to_html())"
   ]
  },
  {
   "cell_type": "code",
   "execution_count": 14,
   "metadata": {},
   "outputs": [],
   "source": [
    "df_obitos = df_bairros[df_bairros['Situação atual'] == 'óbito']"
   ]
  },
  {
   "cell_type": "code",
   "execution_count": 15,
   "metadata": {},
   "outputs": [],
   "source": [
    "obitos_acum = [[get_data(b, df_obitos, 'prefeitura', '03-05-2020', \n",
    "                        T_start = '15-03-2020', to_print = False)[0] for b in aps_bairros[i]] for i in range(1,6)]\n",
    "obitos_novos = [[get_data(b, df_obitos, 'prefeitura', '03-05-2020', \n",
    "                        T_start = '15-03-2020', to_print = False)[1] for b in aps_bairros[i]] for i in range(1,6)]"
   ]
  },
  {
   "cell_type": "markdown",
   "metadata": {},
   "source": [
    "# mais de um botão"
   ]
  },
  {
   "cell_type": "code",
   "execution_count": 16,
   "metadata": {},
   "outputs": [],
   "source": [
    "df = pd.read_csv(\n",
    "    'https://raw.githubusercontent.com/yankev/testing/master/datasets/nycflights.csv')\n",
    "df = df.drop(df.columns[[0]], axis=1)"
   ]
  },
  {
   "cell_type": "code",
   "execution_count": 17,
   "metadata": {},
   "outputs": [
    {
     "data": {
      "text/html": [
       "<div>\n",
       "<style scoped>\n",
       "    .dataframe tbody tr th:only-of-type {\n",
       "        vertical-align: middle;\n",
       "    }\n",
       "\n",
       "    .dataframe tbody tr th {\n",
       "        vertical-align: top;\n",
       "    }\n",
       "\n",
       "    .dataframe thead th {\n",
       "        text-align: right;\n",
       "    }\n",
       "</style>\n",
       "<table border=\"1\" class=\"dataframe\">\n",
       "  <thead>\n",
       "    <tr style=\"text-align: right;\">\n",
       "      <th></th>\n",
       "      <th>year</th>\n",
       "      <th>month</th>\n",
       "      <th>day</th>\n",
       "      <th>dep_time</th>\n",
       "      <th>dep_delay</th>\n",
       "      <th>arr_time</th>\n",
       "      <th>arr_delay</th>\n",
       "      <th>carrier</th>\n",
       "      <th>tailnum</th>\n",
       "      <th>flight</th>\n",
       "      <th>origin</th>\n",
       "      <th>dest</th>\n",
       "      <th>air_time</th>\n",
       "      <th>distance</th>\n",
       "      <th>hour</th>\n",
       "      <th>minute</th>\n",
       "    </tr>\n",
       "  </thead>\n",
       "  <tbody>\n",
       "    <tr>\n",
       "      <th>189970</th>\n",
       "      <td>2013</td>\n",
       "      <td>4</td>\n",
       "      <td>27</td>\n",
       "      <td>858.0</td>\n",
       "      <td>-2.0</td>\n",
       "      <td>1119.0</td>\n",
       "      <td>-23.0</td>\n",
       "      <td>DL</td>\n",
       "      <td>N670DN</td>\n",
       "      <td>1747</td>\n",
       "      <td>LGA</td>\n",
       "      <td>ATL</td>\n",
       "      <td>115.0</td>\n",
       "      <td>762</td>\n",
       "      <td>8.0</td>\n",
       "      <td>58.0</td>\n",
       "    </tr>\n",
       "    <tr>\n",
       "      <th>219882</th>\n",
       "      <td>2013</td>\n",
       "      <td>5</td>\n",
       "      <td>29</td>\n",
       "      <td>1609.0</td>\n",
       "      <td>-6.0</td>\n",
       "      <td>1840.0</td>\n",
       "      <td>0.0</td>\n",
       "      <td>MQ</td>\n",
       "      <td>N532MQ</td>\n",
       "      <td>4657</td>\n",
       "      <td>LGA</td>\n",
       "      <td>ATL</td>\n",
       "      <td>113.0</td>\n",
       "      <td>762</td>\n",
       "      <td>16.0</td>\n",
       "      <td>9.0</td>\n",
       "    </tr>\n",
       "    <tr>\n",
       "      <th>120842</th>\n",
       "      <td>2013</td>\n",
       "      <td>2</td>\n",
       "      <td>12</td>\n",
       "      <td>706.0</td>\n",
       "      <td>-4.0</td>\n",
       "      <td>835.0</td>\n",
       "      <td>-15.0</td>\n",
       "      <td>MQ</td>\n",
       "      <td>N539MQ</td>\n",
       "      <td>3737</td>\n",
       "      <td>EWR</td>\n",
       "      <td>ORD</td>\n",
       "      <td>118.0</td>\n",
       "      <td>719</td>\n",
       "      <td>7.0</td>\n",
       "      <td>6.0</td>\n",
       "    </tr>\n",
       "  </tbody>\n",
       "</table>\n",
       "</div>"
      ],
      "text/plain": [
       "        year  month  day  dep_time  dep_delay  arr_time  arr_delay carrier  \\\n",
       "189970  2013      4   27     858.0       -2.0    1119.0      -23.0      DL   \n",
       "219882  2013      5   29    1609.0       -6.0    1840.0        0.0      MQ   \n",
       "120842  2013      2   12     706.0       -4.0     835.0      -15.0      MQ   \n",
       "\n",
       "       tailnum  flight origin dest  air_time  distance  hour  minute  \n",
       "189970  N670DN    1747    LGA  ATL     115.0       762   8.0    58.0  \n",
       "219882  N532MQ    4657    LGA  ATL     113.0       762  16.0     9.0  \n",
       "120842  N539MQ    3737    EWR  ORD     118.0       719   7.0     6.0  "
      ]
     },
     "execution_count": 17,
     "metadata": {},
     "output_type": "execute_result"
    }
   ],
   "source": [
    "df.sample(3)"
   ]
  },
  {
   "cell_type": "code",
   "execution_count": 18,
   "metadata": {},
   "outputs": [
    {
     "data": {
      "text/plain": [
       "array(['UA', 'AA', 'B6', 'DL', 'EV', 'MQ', 'US', 'WN', 'VX', 'FL', 'AS',\n",
       "       '9E', 'F9', 'HA', 'YV', 'OO'], dtype=object)"
      ]
     },
     "execution_count": 18,
     "metadata": {},
     "output_type": "execute_result"
    }
   ],
   "source": [
    "df['carrier'].unique()"
   ]
  },
  {
   "cell_type": "code",
   "execution_count": 23,
   "metadata": {},
   "outputs": [],
   "source": [
    "data_obito_novo = []\n",
    "for j in range(1,6):\n",
    "    for i, d in enumerate(obitos_novos[j-1]):\n",
    "\n",
    "        data_obito_novo.append(go.Scatter(y = d, name = aps_bairros[j][i], \n",
    "                                          marker = dict(symbol = symbols[j-1]), mode = 'lines+markers'))"
   ]
  },
  {
   "cell_type": "code",
   "execution_count": 24,
   "metadata": {},
   "outputs": [],
   "source": [
    "data_obito_acum = []\n",
    "for j in range(1,6):\n",
    "    for i, d in enumerate(obitos_acum[j-1]):\n",
    "\n",
    "        data_obito_acum.append(go.Scatter(y = d, name = aps_bairros[j][i], \n",
    "                                          marker = dict(symbol = symbols[j-1]), mode = 'lines+markers'))"
   ]
  },
  {
   "cell_type": "code",
   "execution_count": 31,
   "metadata": {},
   "outputs": [],
   "source": [
    "data_sum = data + data2 + data_obito_acum + data_obito_novo"
   ]
  },
  {
   "cell_type": "code",
   "execution_count": 34,
   "metadata": {},
   "outputs": [],
   "source": [
    "use_confirmados = widgets.Checkbox(\n",
    "    description='Confirmados: ',\n",
    "    value=True,\n",
    ")\n",
    "use_obitos = widgets.Checkbox(\n",
    "    description='Óbitos: ',\n",
    "    value=False,\n",
    ")\n",
    "use_acumulados = widgets.Checkbox(\n",
    "    description='Acumulados: ',\n",
    "    value=True,\n",
    ")\n",
    "use_novos = widgets.Checkbox(\n",
    "    description='Novos: ',\n",
    "    value=False,\n",
    ")\n",
    "\n",
    "container = widgets.HBox(children=[use_confirmados, use_obitos, use_acumulados, use_novos])\n",
    "\n",
    "textbox = widgets.Dropdown(\n",
    "    description='APs:   ',\n",
    "    value='AP 1',\n",
    "    options=['AP 1','AP 2','AP 3','AP 4','AP 5', 'Todas as APs']\n",
    ")\n",
    "\n",
    "\n",
    "# Assign an empty figure widget with two traces\n",
    "g = go.FigureWidget(data= data_sum,\n",
    "                    layout=go.Layout(\n",
    "                        title=dict(\n",
    "                            text='NYC FlightDatabase'\n",
    "                        )\n",
    "                    ))"
   ]
  },
  {
   "cell_type": "code",
   "execution_count": null,
   "metadata": {},
   "outputs": [],
   "source": [
    "15\n",
    "25\n",
    "80\n",
    "18\n",
    "21"
   ]
  },
  {
   "cell_type": "code",
   "execution_count": 81,
   "metadata": {},
   "outputs": [
    {
     "data": {
      "text/plain": [
       "False"
      ]
     },
     "execution_count": 81,
     "metadata": {},
     "output_type": "execute_result"
    }
   ],
   "source": [
    "not True"
   ]
  },
  {
   "cell_type": "code",
   "execution_count": 85,
   "metadata": {},
   "outputs": [],
   "source": [
    "def response(change):\n",
    "    booleanos = [use_confirmados.value, use_obitos.value, use_acumulados.value, use_novos.value ]\n",
    "    valor_AP = textbox.value\n",
    "    ap_visible = []\n",
    "    if valor_AP == 'AP 1':\n",
    "        for i,d in enumerate(data):\n",
    "            ap_visible.append(i%159<15)\n",
    "    \n",
    "    elif valor_AP == 'AP 2':\n",
    "        for i,d in enumerate(data):\n",
    "            ap_visible.append(15 <= i%159 < 40) \n",
    "            \n",
    "    elif valor_AP == 'AP 3':\n",
    "        for i,d in enumerate(data):\n",
    "            ap_visible.append(40<= i%159 <120) \n",
    "            \n",
    "    elif valor_AP == 'AP 4':\n",
    "        for i,d in enumerate(data):\n",
    "            ap_visible.append(120<= i%159 <138)        \n",
    "    \n",
    "    elif valor_AP == 'AP 5':\n",
    "        for i,d in enumerate(data):\n",
    "            ap_visible.append(138<= i%159) \n",
    "            \n",
    "    elif valor_AP == 'Todas as APs':\n",
    "        ap_visible = 159*4*[True]\n",
    "    \n",
    "    visible_blocos = [booleanos[0] and booleanos[2], \n",
    "                      booleanos[0] and booleanos[3], \n",
    "                      booleanos[1] and booleanos[2],\n",
    "                      booleanos[1] and booleanos[3]]\n",
    "    lista_visible = 159*[visible_blocos[0]] + 159*[visible_blocos[1]] + 159*[visible_blocos[2]] + 159*[visible_blocos[3]]\n",
    "    novos_visible = [i and j for i,j in zip(ap_visible, lista_visible)]\n",
    "            \n",
    "\n",
    "    with g.batch_update():\n",
    "        for i,d in enumerate(g.data):\n",
    "            d.visible = novos_visible[i]\n",
    "        g.layout.xaxis.title = 'Delay in Minutes'\n",
    "        g.layout.yaxis.title = 'Number of Delays'\n",
    "\n",
    "\n",
    "\n",
    "textbox.observe(response, names=\"value\")\n",
    "use_confirmados.observe(response, names=\"value\")\n",
    "use_obitos.observe(response, names=\"value\")\n",
    "use_acumulados.observe(response, names=\"value\")\n",
    "use_novos.observe(response, names=\"value\")"
   ]
  },
  {
   "cell_type": "code",
   "execution_count": 86,
   "metadata": {},
   "outputs": [
    {
     "data": {
      "application/vnd.jupyter.widget-view+json": {
       "model_id": "46a6efff7e3b4804bbecf65c6a499590",
       "version_major": 2,
       "version_minor": 0
      },
      "text/plain": [
       "VBox(children=(HBox(children=(Checkbox(value=False, description='Confirmados: '), Checkbox(value=True, descrip…"
      ]
     },
     "metadata": {},
     "output_type": "display_data"
    },
    {
     "ename": "ValueError",
     "evalue": "too many values to unpack (expected 2)",
     "output_type": "error",
     "traceback": [
      "\u001b[1;31m---------------------------------------------------------------------------\u001b[0m",
      "\u001b[1;31mValueError\u001b[0m                                Traceback (most recent call last)",
      "\u001b[1;32m~\\Anaconda3\\lib\\site-packages\\ipywidgets\\widgets\\widget.py\u001b[0m in \u001b[0;36m_handle_msg\u001b[1;34m(self, msg)\u001b[0m\n\u001b[0;32m    667\u001b[0m                 \u001b[1;32mif\u001b[0m \u001b[1;34m'buffer_paths'\u001b[0m \u001b[1;32min\u001b[0m \u001b[0mdata\u001b[0m\u001b[1;33m:\u001b[0m\u001b[1;33m\u001b[0m\u001b[0m\n\u001b[0;32m    668\u001b[0m                     \u001b[0m_put_buffers\u001b[0m\u001b[1;33m(\u001b[0m\u001b[0mstate\u001b[0m\u001b[1;33m,\u001b[0m \u001b[0mdata\u001b[0m\u001b[1;33m[\u001b[0m\u001b[1;34m'buffer_paths'\u001b[0m\u001b[1;33m]\u001b[0m\u001b[1;33m,\u001b[0m \u001b[0mmsg\u001b[0m\u001b[1;33m[\u001b[0m\u001b[1;34m'buffers'\u001b[0m\u001b[1;33m]\u001b[0m\u001b[1;33m)\u001b[0m\u001b[1;33m\u001b[0m\u001b[0m\n\u001b[1;32m--> 669\u001b[1;33m                 \u001b[0mself\u001b[0m\u001b[1;33m.\u001b[0m\u001b[0mset_state\u001b[0m\u001b[1;33m(\u001b[0m\u001b[0mstate\u001b[0m\u001b[1;33m)\u001b[0m\u001b[1;33m\u001b[0m\u001b[0m\n\u001b[0m\u001b[0;32m    670\u001b[0m \u001b[1;33m\u001b[0m\u001b[0m\n\u001b[0;32m    671\u001b[0m         \u001b[1;31m# Handle a state request.\u001b[0m\u001b[1;33m\u001b[0m\u001b[1;33m\u001b[0m\u001b[0m\n",
      "\u001b[1;32m~\\Anaconda3\\lib\\site-packages\\ipywidgets\\widgets\\widget.py\u001b[0m in \u001b[0;36mset_state\u001b[1;34m(self, sync_data)\u001b[0m\n\u001b[0;32m    537\u001b[0m                     from_json = self.trait_metadata(name, 'from_json',\n\u001b[0;32m    538\u001b[0m                                                     self._trait_from_json)\n\u001b[1;32m--> 539\u001b[1;33m                     \u001b[0mself\u001b[0m\u001b[1;33m.\u001b[0m\u001b[0mset_trait\u001b[0m\u001b[1;33m(\u001b[0m\u001b[0mname\u001b[0m\u001b[1;33m,\u001b[0m \u001b[0mfrom_json\u001b[0m\u001b[1;33m(\u001b[0m\u001b[0msync_data\u001b[0m\u001b[1;33m[\u001b[0m\u001b[0mname\u001b[0m\u001b[1;33m]\u001b[0m\u001b[1;33m,\u001b[0m \u001b[0mself\u001b[0m\u001b[1;33m)\u001b[0m\u001b[1;33m)\u001b[0m\u001b[1;33m\u001b[0m\u001b[0m\n\u001b[0m\u001b[0;32m    540\u001b[0m \u001b[1;33m\u001b[0m\u001b[0m\n\u001b[0;32m    541\u001b[0m     \u001b[1;32mdef\u001b[0m \u001b[0msend\u001b[0m\u001b[1;33m(\u001b[0m\u001b[0mself\u001b[0m\u001b[1;33m,\u001b[0m \u001b[0mcontent\u001b[0m\u001b[1;33m,\u001b[0m \u001b[0mbuffers\u001b[0m\u001b[1;33m=\u001b[0m\u001b[1;32mNone\u001b[0m\u001b[1;33m)\u001b[0m\u001b[1;33m:\u001b[0m\u001b[1;33m\u001b[0m\u001b[0m\n",
      "\u001b[1;32m~\\Anaconda3\\lib\\contextlib.py\u001b[0m in \u001b[0;36m__exit__\u001b[1;34m(self, type, value, traceback)\u001b[0m\n\u001b[0;32m     86\u001b[0m         \u001b[1;32mif\u001b[0m \u001b[0mtype\u001b[0m \u001b[1;32mis\u001b[0m \u001b[1;32mNone\u001b[0m\u001b[1;33m:\u001b[0m\u001b[1;33m\u001b[0m\u001b[0m\n\u001b[0;32m     87\u001b[0m             \u001b[1;32mtry\u001b[0m\u001b[1;33m:\u001b[0m\u001b[1;33m\u001b[0m\u001b[0m\n\u001b[1;32m---> 88\u001b[1;33m                 \u001b[0mnext\u001b[0m\u001b[1;33m(\u001b[0m\u001b[0mself\u001b[0m\u001b[1;33m.\u001b[0m\u001b[0mgen\u001b[0m\u001b[1;33m)\u001b[0m\u001b[1;33m\u001b[0m\u001b[0m\n\u001b[0m\u001b[0;32m     89\u001b[0m             \u001b[1;32mexcept\u001b[0m \u001b[0mStopIteration\u001b[0m\u001b[1;33m:\u001b[0m\u001b[1;33m\u001b[0m\u001b[0m\n\u001b[0;32m     90\u001b[0m                 \u001b[1;32mreturn\u001b[0m \u001b[1;32mFalse\u001b[0m\u001b[1;33m\u001b[0m\u001b[0m\n",
      "\u001b[1;32m~\\Anaconda3\\lib\\site-packages\\traitlets\\traitlets.py\u001b[0m in \u001b[0;36mhold_trait_notifications\u001b[1;34m(self)\u001b[0m\n\u001b[0;32m   1129\u001b[0m                 \u001b[1;32mfor\u001b[0m \u001b[0mchanges\u001b[0m \u001b[1;32min\u001b[0m \u001b[0mcache\u001b[0m\u001b[1;33m.\u001b[0m\u001b[0mvalues\u001b[0m\u001b[1;33m(\u001b[0m\u001b[1;33m)\u001b[0m\u001b[1;33m:\u001b[0m\u001b[1;33m\u001b[0m\u001b[0m\n\u001b[0;32m   1130\u001b[0m                     \u001b[1;32mfor\u001b[0m \u001b[0mchange\u001b[0m \u001b[1;32min\u001b[0m \u001b[0mchanges\u001b[0m\u001b[1;33m:\u001b[0m\u001b[1;33m\u001b[0m\u001b[0m\n\u001b[1;32m-> 1131\u001b[1;33m                         \u001b[0mself\u001b[0m\u001b[1;33m.\u001b[0m\u001b[0mnotify_change\u001b[0m\u001b[1;33m(\u001b[0m\u001b[0mchange\u001b[0m\u001b[1;33m)\u001b[0m\u001b[1;33m\u001b[0m\u001b[0m\n\u001b[0m\u001b[0;32m   1132\u001b[0m \u001b[1;33m\u001b[0m\u001b[0m\n\u001b[0;32m   1133\u001b[0m     \u001b[1;32mdef\u001b[0m \u001b[0m_notify_trait\u001b[0m\u001b[1;33m(\u001b[0m\u001b[0mself\u001b[0m\u001b[1;33m,\u001b[0m \u001b[0mname\u001b[0m\u001b[1;33m,\u001b[0m \u001b[0mold_value\u001b[0m\u001b[1;33m,\u001b[0m \u001b[0mnew_value\u001b[0m\u001b[1;33m)\u001b[0m\u001b[1;33m:\u001b[0m\u001b[1;33m\u001b[0m\u001b[0m\n",
      "\u001b[1;32m~\\Anaconda3\\lib\\site-packages\\ipywidgets\\widgets\\widget.py\u001b[0m in \u001b[0;36mnotify_change\u001b[1;34m(self, change)\u001b[0m\n\u001b[0;32m    598\u001b[0m                 \u001b[1;31m# Send new state to front-end\u001b[0m\u001b[1;33m\u001b[0m\u001b[1;33m\u001b[0m\u001b[0m\n\u001b[0;32m    599\u001b[0m                 \u001b[0mself\u001b[0m\u001b[1;33m.\u001b[0m\u001b[0msend_state\u001b[0m\u001b[1;33m(\u001b[0m\u001b[0mkey\u001b[0m\u001b[1;33m=\u001b[0m\u001b[0mname\u001b[0m\u001b[1;33m)\u001b[0m\u001b[1;33m\u001b[0m\u001b[0m\n\u001b[1;32m--> 600\u001b[1;33m         \u001b[0msuper\u001b[0m\u001b[1;33m(\u001b[0m\u001b[0mWidget\u001b[0m\u001b[1;33m,\u001b[0m \u001b[0mself\u001b[0m\u001b[1;33m)\u001b[0m\u001b[1;33m.\u001b[0m\u001b[0mnotify_change\u001b[0m\u001b[1;33m(\u001b[0m\u001b[0mchange\u001b[0m\u001b[1;33m)\u001b[0m\u001b[1;33m\u001b[0m\u001b[0m\n\u001b[0m\u001b[0;32m    601\u001b[0m \u001b[1;33m\u001b[0m\u001b[0m\n\u001b[0;32m    602\u001b[0m     \u001b[1;32mdef\u001b[0m \u001b[0m__repr__\u001b[0m\u001b[1;33m(\u001b[0m\u001b[0mself\u001b[0m\u001b[1;33m)\u001b[0m\u001b[1;33m:\u001b[0m\u001b[1;33m\u001b[0m\u001b[0m\n",
      "\u001b[1;32m~\\Anaconda3\\lib\\site-packages\\traitlets\\traitlets.py\u001b[0m in \u001b[0;36mnotify_change\u001b[1;34m(self, change)\u001b[0m\n\u001b[0;32m   1174\u001b[0m                 \u001b[0mc\u001b[0m \u001b[1;33m=\u001b[0m \u001b[0mgetattr\u001b[0m\u001b[1;33m(\u001b[0m\u001b[0mself\u001b[0m\u001b[1;33m,\u001b[0m \u001b[0mc\u001b[0m\u001b[1;33m.\u001b[0m\u001b[0mname\u001b[0m\u001b[1;33m)\u001b[0m\u001b[1;33m\u001b[0m\u001b[0m\n\u001b[0;32m   1175\u001b[0m \u001b[1;33m\u001b[0m\u001b[0m\n\u001b[1;32m-> 1176\u001b[1;33m             \u001b[0mc\u001b[0m\u001b[1;33m(\u001b[0m\u001b[0mchange\u001b[0m\u001b[1;33m)\u001b[0m\u001b[1;33m\u001b[0m\u001b[0m\n\u001b[0m\u001b[0;32m   1177\u001b[0m \u001b[1;33m\u001b[0m\u001b[0m\n\u001b[0;32m   1178\u001b[0m     \u001b[1;32mdef\u001b[0m \u001b[0m_add_notifiers\u001b[0m\u001b[1;33m(\u001b[0m\u001b[0mself\u001b[0m\u001b[1;33m,\u001b[0m \u001b[0mhandler\u001b[0m\u001b[1;33m,\u001b[0m \u001b[0mname\u001b[0m\u001b[1;33m,\u001b[0m \u001b[0mtype\u001b[0m\u001b[1;33m)\u001b[0m\u001b[1;33m:\u001b[0m\u001b[1;33m\u001b[0m\u001b[0m\n",
      "\u001b[1;32m<ipython-input-83-42f0c428329a>\u001b[0m in \u001b[0;36mresponse\u001b[1;34m(change)\u001b[0m\n\u001b[0;32m     35\u001b[0m \u001b[1;33m\u001b[0m\u001b[0m\n\u001b[0;32m     36\u001b[0m     \u001b[1;32mwith\u001b[0m \u001b[0mg\u001b[0m\u001b[1;33m.\u001b[0m\u001b[0mbatch_update\u001b[0m\u001b[1;33m(\u001b[0m\u001b[1;33m)\u001b[0m\u001b[1;33m:\u001b[0m\u001b[1;33m\u001b[0m\u001b[0m\n\u001b[1;32m---> 37\u001b[1;33m         \u001b[1;32mfor\u001b[0m \u001b[0mi\u001b[0m\u001b[1;33m,\u001b[0m\u001b[0md\u001b[0m \u001b[1;32min\u001b[0m \u001b[0mg\u001b[0m\u001b[1;33m.\u001b[0m\u001b[0mdata\u001b[0m\u001b[1;33m:\u001b[0m\u001b[1;33m\u001b[0m\u001b[0m\n\u001b[0m\u001b[0;32m     38\u001b[0m             \u001b[0md\u001b[0m\u001b[1;33m.\u001b[0m\u001b[0mvisible\u001b[0m \u001b[1;33m=\u001b[0m \u001b[0mnovos_visible\u001b[0m\u001b[1;33m[\u001b[0m\u001b[0mi\u001b[0m\u001b[1;33m]\u001b[0m\u001b[1;33m\u001b[0m\u001b[0m\n\u001b[0;32m     39\u001b[0m         \u001b[0mg\u001b[0m\u001b[1;33m.\u001b[0m\u001b[0mlayout\u001b[0m\u001b[1;33m.\u001b[0m\u001b[0mxaxis\u001b[0m\u001b[1;33m.\u001b[0m\u001b[0mtitle\u001b[0m \u001b[1;33m=\u001b[0m \u001b[1;34m'Delay in Minutes'\u001b[0m\u001b[1;33m\u001b[0m\u001b[0m\n",
      "\u001b[1;31mValueError\u001b[0m: too many values to unpack (expected 2)"
     ]
    }
   ],
   "source": [
    "container2 = widgets.HBox([textbox])\n",
    "widgets.VBox([container,\n",
    "              container2,\n",
    "              g])"
   ]
  },
  {
   "cell_type": "code",
   "execution_count": 82,
   "metadata": {},
   "outputs": [],
   "source": [
    "with open(\"teste.html\", \"w\") as f:\n",
    "    f.write(g.to_html())"
   ]
  },
  {
   "cell_type": "code",
   "execution_count": null,
   "metadata": {},
   "outputs": [],
   "source": []
  }
 ],
 "metadata": {
  "kernelspec": {
   "display_name": "Python 3",
   "language": "python",
   "name": "python3"
  },
  "language_info": {
   "codemirror_mode": {
    "name": "ipython",
    "version": 3
   },
   "file_extension": ".py",
   "mimetype": "text/x-python",
   "name": "python",
   "nbconvert_exporter": "python",
   "pygments_lexer": "ipython3",
   "version": "3.6.5"
  }
 },
 "nbformat": 4,
 "nbformat_minor": 4
}
